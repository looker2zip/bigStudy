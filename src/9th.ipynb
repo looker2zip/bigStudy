{
  "nbformat": 4,
  "nbformat_minor": 0,
  "metadata": {
    "colab": {
      "name": "9th.ipynb",
      "provenance": [],
      "collapsed_sections": []
    },
    "kernelspec": {
      "name": "python3",
      "display_name": "Python 3"
    },
    "language_info": {
      "name": "python"
    }
  },
  "cells": [
    {
      "cell_type": "markdown",
      "source": [
        "#특징 추출과 표현"
      ],
      "metadata": {
        "id": "_deseCEPQbgx"
      }
    },
    {
      "cell_type": "code",
      "execution_count": 1,
      "metadata": {
        "colab": {
          "base_uri": "https://localhost:8080/"
        },
        "id": "L6FQDdD0iQiV",
        "outputId": "34e92b68-4564-4943-c1e4-7615406b7232"
      },
      "outputs": [
        {
          "output_type": "stream",
          "name": "stdout",
          "text": [
            ".. _iris_dataset:\n",
            "\n",
            "Iris plants dataset\n",
            "--------------------\n",
            "\n",
            "**Data Set Characteristics:**\n",
            "\n",
            "    :Number of Instances: 150 (50 in each of three classes)\n",
            "    :Number of Attributes: 4 numeric, predictive attributes and the class\n",
            "    :Attribute Information:\n",
            "        - sepal length in cm\n",
            "        - sepal width in cm\n",
            "        - petal length in cm\n",
            "        - petal width in cm\n",
            "        - class:\n",
            "                - Iris-Setosa\n",
            "                - Iris-Versicolour\n",
            "                - Iris-Virginica\n",
            "                \n",
            "    :Summary Statistics:\n",
            "\n",
            "    ============== ==== ==== ======= ===== ====================\n",
            "                    Min  Max   Mean    SD   Class Correlation\n",
            "    ============== ==== ==== ======= ===== ====================\n",
            "    sepal length:   4.3  7.9   5.84   0.83    0.7826\n",
            "    sepal width:    2.0  4.4   3.05   0.43   -0.4194\n",
            "    petal length:   1.0  6.9   3.76   1.76    0.9490  (high!)\n",
            "    petal width:    0.1  2.5   1.20   0.76    0.9565  (high!)\n",
            "    ============== ==== ==== ======= ===== ====================\n",
            "\n",
            "    :Missing Attribute Values: None\n",
            "    :Class Distribution: 33.3% for each of 3 classes.\n",
            "    :Creator: R.A. Fisher\n",
            "    :Donor: Michael Marshall (MARSHALL%PLU@io.arc.nasa.gov)\n",
            "    :Date: July, 1988\n",
            "\n",
            "The famous Iris database, first used by Sir R.A. Fisher. The dataset is taken\n",
            "from Fisher's paper. Note that it's the same as in R, but not as in the UCI\n",
            "Machine Learning Repository, which has two wrong data points.\n",
            "\n",
            "This is perhaps the best known database to be found in the\n",
            "pattern recognition literature.  Fisher's paper is a classic in the field and\n",
            "is referenced frequently to this day.  (See Duda & Hart, for example.)  The\n",
            "data set contains 3 classes of 50 instances each, where each class refers to a\n",
            "type of iris plant.  One class is linearly separable from the other 2; the\n",
            "latter are NOT linearly separable from each other.\n",
            "\n",
            ".. topic:: References\n",
            "\n",
            "   - Fisher, R.A. \"The use of multiple measurements in taxonomic problems\"\n",
            "     Annual Eugenics, 7, Part II, 179-188 (1936); also in \"Contributions to\n",
            "     Mathematical Statistics\" (John Wiley, NY, 1950).\n",
            "   - Duda, R.O., & Hart, P.E. (1973) Pattern Classification and Scene Analysis.\n",
            "     (Q327.D83) John Wiley & Sons.  ISBN 0-471-22361-1.  See page 218.\n",
            "   - Dasarathy, B.V. (1980) \"Nosing Around the Neighborhood: A New System\n",
            "     Structure and Classification Rule for Recognition in Partially Exposed\n",
            "     Environments\".  IEEE Transactions on Pattern Analysis and Machine\n",
            "     Intelligence, Vol. PAMI-2, No. 1, 67-71.\n",
            "   - Gates, G.W. (1972) \"The Reduced Nearest Neighbor Rule\".  IEEE Transactions\n",
            "     on Information Theory, May 1972, 431-433.\n",
            "   - See also: 1988 MLC Proceedings, 54-64.  Cheeseman et al\"s AUTOCLASS II\n",
            "     conceptual clustering system finds 3 classes in the data.\n",
            "   - Many, many more ...\n"
          ]
        }
      ],
      "source": [
        "from sklearn import datasets\n",
        "\n",
        "d=datasets.load_iris() # iris 데이터셋을 읽고\n",
        "print(d.DESCR) # 내용을 출력"
      ]
    },
    {
      "cell_type": "code",
      "source": [
        "for i in range(0,len(d.data)): # 샘플을 순서대로 출력\n",
        "    print(i+1,d.data[i],d.target[i])"
      ],
      "metadata": {
        "colab": {
          "base_uri": "https://localhost:8080/"
        },
        "id": "enKPrm_Bingu",
        "outputId": "28f8adb7-26f8-4657-acf9-445d947f9cb5"
      },
      "execution_count": 2,
      "outputs": [
        {
          "output_type": "stream",
          "name": "stdout",
          "text": [
            "1 [5.1 3.5 1.4 0.2] 0\n",
            "2 [4.9 3.  1.4 0.2] 0\n",
            "3 [4.7 3.2 1.3 0.2] 0\n",
            "4 [4.6 3.1 1.5 0.2] 0\n",
            "5 [5.  3.6 1.4 0.2] 0\n",
            "6 [5.4 3.9 1.7 0.4] 0\n",
            "7 [4.6 3.4 1.4 0.3] 0\n",
            "8 [5.  3.4 1.5 0.2] 0\n",
            "9 [4.4 2.9 1.4 0.2] 0\n",
            "10 [4.9 3.1 1.5 0.1] 0\n",
            "11 [5.4 3.7 1.5 0.2] 0\n",
            "12 [4.8 3.4 1.6 0.2] 0\n",
            "13 [4.8 3.  1.4 0.1] 0\n",
            "14 [4.3 3.  1.1 0.1] 0\n",
            "15 [5.8 4.  1.2 0.2] 0\n",
            "16 [5.7 4.4 1.5 0.4] 0\n",
            "17 [5.4 3.9 1.3 0.4] 0\n",
            "18 [5.1 3.5 1.4 0.3] 0\n",
            "19 [5.7 3.8 1.7 0.3] 0\n",
            "20 [5.1 3.8 1.5 0.3] 0\n",
            "21 [5.4 3.4 1.7 0.2] 0\n",
            "22 [5.1 3.7 1.5 0.4] 0\n",
            "23 [4.6 3.6 1.  0.2] 0\n",
            "24 [5.1 3.3 1.7 0.5] 0\n",
            "25 [4.8 3.4 1.9 0.2] 0\n",
            "26 [5.  3.  1.6 0.2] 0\n",
            "27 [5.  3.4 1.6 0.4] 0\n",
            "28 [5.2 3.5 1.5 0.2] 0\n",
            "29 [5.2 3.4 1.4 0.2] 0\n",
            "30 [4.7 3.2 1.6 0.2] 0\n",
            "31 [4.8 3.1 1.6 0.2] 0\n",
            "32 [5.4 3.4 1.5 0.4] 0\n",
            "33 [5.2 4.1 1.5 0.1] 0\n",
            "34 [5.5 4.2 1.4 0.2] 0\n",
            "35 [4.9 3.1 1.5 0.2] 0\n",
            "36 [5.  3.2 1.2 0.2] 0\n",
            "37 [5.5 3.5 1.3 0.2] 0\n",
            "38 [4.9 3.6 1.4 0.1] 0\n",
            "39 [4.4 3.  1.3 0.2] 0\n",
            "40 [5.1 3.4 1.5 0.2] 0\n",
            "41 [5.  3.5 1.3 0.3] 0\n",
            "42 [4.5 2.3 1.3 0.3] 0\n",
            "43 [4.4 3.2 1.3 0.2] 0\n",
            "44 [5.  3.5 1.6 0.6] 0\n",
            "45 [5.1 3.8 1.9 0.4] 0\n",
            "46 [4.8 3.  1.4 0.3] 0\n",
            "47 [5.1 3.8 1.6 0.2] 0\n",
            "48 [4.6 3.2 1.4 0.2] 0\n",
            "49 [5.3 3.7 1.5 0.2] 0\n",
            "50 [5.  3.3 1.4 0.2] 0\n",
            "51 [7.  3.2 4.7 1.4] 1\n",
            "52 [6.4 3.2 4.5 1.5] 1\n",
            "53 [6.9 3.1 4.9 1.5] 1\n",
            "54 [5.5 2.3 4.  1.3] 1\n",
            "55 [6.5 2.8 4.6 1.5] 1\n",
            "56 [5.7 2.8 4.5 1.3] 1\n",
            "57 [6.3 3.3 4.7 1.6] 1\n",
            "58 [4.9 2.4 3.3 1. ] 1\n",
            "59 [6.6 2.9 4.6 1.3] 1\n",
            "60 [5.2 2.7 3.9 1.4] 1\n",
            "61 [5.  2.  3.5 1. ] 1\n",
            "62 [5.9 3.  4.2 1.5] 1\n",
            "63 [6.  2.2 4.  1. ] 1\n",
            "64 [6.1 2.9 4.7 1.4] 1\n",
            "65 [5.6 2.9 3.6 1.3] 1\n",
            "66 [6.7 3.1 4.4 1.4] 1\n",
            "67 [5.6 3.  4.5 1.5] 1\n",
            "68 [5.8 2.7 4.1 1. ] 1\n",
            "69 [6.2 2.2 4.5 1.5] 1\n",
            "70 [5.6 2.5 3.9 1.1] 1\n",
            "71 [5.9 3.2 4.8 1.8] 1\n",
            "72 [6.1 2.8 4.  1.3] 1\n",
            "73 [6.3 2.5 4.9 1.5] 1\n",
            "74 [6.1 2.8 4.7 1.2] 1\n",
            "75 [6.4 2.9 4.3 1.3] 1\n",
            "76 [6.6 3.  4.4 1.4] 1\n",
            "77 [6.8 2.8 4.8 1.4] 1\n",
            "78 [6.7 3.  5.  1.7] 1\n",
            "79 [6.  2.9 4.5 1.5] 1\n",
            "80 [5.7 2.6 3.5 1. ] 1\n",
            "81 [5.5 2.4 3.8 1.1] 1\n",
            "82 [5.5 2.4 3.7 1. ] 1\n",
            "83 [5.8 2.7 3.9 1.2] 1\n",
            "84 [6.  2.7 5.1 1.6] 1\n",
            "85 [5.4 3.  4.5 1.5] 1\n",
            "86 [6.  3.4 4.5 1.6] 1\n",
            "87 [6.7 3.1 4.7 1.5] 1\n",
            "88 [6.3 2.3 4.4 1.3] 1\n",
            "89 [5.6 3.  4.1 1.3] 1\n",
            "90 [5.5 2.5 4.  1.3] 1\n",
            "91 [5.5 2.6 4.4 1.2] 1\n",
            "92 [6.1 3.  4.6 1.4] 1\n",
            "93 [5.8 2.6 4.  1.2] 1\n",
            "94 [5.  2.3 3.3 1. ] 1\n",
            "95 [5.6 2.7 4.2 1.3] 1\n",
            "96 [5.7 3.  4.2 1.2] 1\n",
            "97 [5.7 2.9 4.2 1.3] 1\n",
            "98 [6.2 2.9 4.3 1.3] 1\n",
            "99 [5.1 2.5 3.  1.1] 1\n",
            "100 [5.7 2.8 4.1 1.3] 1\n",
            "101 [6.3 3.3 6.  2.5] 2\n",
            "102 [5.8 2.7 5.1 1.9] 2\n",
            "103 [7.1 3.  5.9 2.1] 2\n",
            "104 [6.3 2.9 5.6 1.8] 2\n",
            "105 [6.5 3.  5.8 2.2] 2\n",
            "106 [7.6 3.  6.6 2.1] 2\n",
            "107 [4.9 2.5 4.5 1.7] 2\n",
            "108 [7.3 2.9 6.3 1.8] 2\n",
            "109 [6.7 2.5 5.8 1.8] 2\n",
            "110 [7.2 3.6 6.1 2.5] 2\n",
            "111 [6.5 3.2 5.1 2. ] 2\n",
            "112 [6.4 2.7 5.3 1.9] 2\n",
            "113 [6.8 3.  5.5 2.1] 2\n",
            "114 [5.7 2.5 5.  2. ] 2\n",
            "115 [5.8 2.8 5.1 2.4] 2\n",
            "116 [6.4 3.2 5.3 2.3] 2\n",
            "117 [6.5 3.  5.5 1.8] 2\n",
            "118 [7.7 3.8 6.7 2.2] 2\n",
            "119 [7.7 2.6 6.9 2.3] 2\n",
            "120 [6.  2.2 5.  1.5] 2\n",
            "121 [6.9 3.2 5.7 2.3] 2\n",
            "122 [5.6 2.8 4.9 2. ] 2\n",
            "123 [7.7 2.8 6.7 2. ] 2\n",
            "124 [6.3 2.7 4.9 1.8] 2\n",
            "125 [6.7 3.3 5.7 2.1] 2\n",
            "126 [7.2 3.2 6.  1.8] 2\n",
            "127 [6.2 2.8 4.8 1.8] 2\n",
            "128 [6.1 3.  4.9 1.8] 2\n",
            "129 [6.4 2.8 5.6 2.1] 2\n",
            "130 [7.2 3.  5.8 1.6] 2\n",
            "131 [7.4 2.8 6.1 1.9] 2\n",
            "132 [7.9 3.8 6.4 2. ] 2\n",
            "133 [6.4 2.8 5.6 2.2] 2\n",
            "134 [6.3 2.8 5.1 1.5] 2\n",
            "135 [6.1 2.6 5.6 1.4] 2\n",
            "136 [7.7 3.  6.1 2.3] 2\n",
            "137 [6.3 3.4 5.6 2.4] 2\n",
            "138 [6.4 3.1 5.5 1.8] 2\n",
            "139 [6.  3.  4.8 1.8] 2\n",
            "140 [6.9 3.1 5.4 2.1] 2\n",
            "141 [6.7 3.1 5.6 2.4] 2\n",
            "142 [6.9 3.1 5.1 2.3] 2\n",
            "143 [5.8 2.7 5.1 1.9] 2\n",
            "144 [6.8 3.2 5.9 2.3] 2\n",
            "145 [6.7 3.3 5.7 2.5] 2\n",
            "146 [6.7 3.  5.2 2.3] 2\n",
            "147 [6.3 2.5 5.  1.9] 2\n",
            "148 [6.5 3.  5.2 2. ] 2\n",
            "149 [6.2 3.4 5.4 2.3] 2\n",
            "150 [5.9 3.  5.1 1.8] 2\n"
          ]
        }
      ]
    },
    {
      "cell_type": "code",
      "source": [
        "from sklearn import svm\n",
        "\n",
        "s=svm.SVC(gamma=0.1,C=10) # svm 분류 모델 SVC 객체 생성하고\n",
        "s.fit(d.data,d.target) # iris 데이터로 학습\n",
        "\n",
        "new_d=[[6.4,3.2,6.0,2.5],[7.1,3.1,4.7,1.35]] # 101번째와 51번째 샘플을 변형하여 새로운 데이터 생성\n",
        "res=s.predict(new_d)\n",
        "print(\"새로운 2개 샘플의 부류는\", res)"
      ],
      "metadata": {
        "colab": {
          "base_uri": "https://localhost:8080/"
        },
        "id": "JNMfiu1WisIO",
        "outputId": "14244f76-73d1-4f20-ad60-bb1044294bcf"
      },
      "execution_count": 3,
      "outputs": [
        {
          "output_type": "stream",
          "name": "stdout",
          "text": [
            "새로운 2개 샘플의 부류는 [2 1]\n"
          ]
        }
      ]
    },
    {
      "cell_type": "code",
      "source": [
        "from sklearn import datasets\n",
        "import matplotlib.pyplot as plt\n",
        "\n",
        "digit=datasets.load_digits()\n",
        "\n",
        "plt.figure(figsize=(5,5))\n",
        "plt.imshow(digit.images[0],cmap=plt.cm.gray_r,interpolation='nearest') # 0번 샘플을 그림\n",
        "plt.show()\n",
        "print(digit.data[0]) # 0번 샘플의 화솟값을 출력\n",
        "print(\"이 숫자는 \",digit.target[0],\"입니다.\")"
      ],
      "metadata": {
        "colab": {
          "base_uri": "https://localhost:8080/",
          "height": 412
        },
        "id": "pwLPSRhDQb1h",
        "outputId": "777083fc-d2db-4afa-8d6b-aaddd9a54dd7"
      },
      "execution_count": 4,
      "outputs": [
        {
          "output_type": "display_data",
          "data": {
            "text/plain": [
              "<Figure size 360x360 with 1 Axes>"
            ],
            "image/png": "[encoded data removed]"
          },
          "metadata": {
            "needs_background": "light"
          }
        },
        {
          "output_type": "stream",
          "name": "stdout",
          "text": [
            "[ 0.  0.  5. 13.  9.  1.  0.  0.  0.  0. 13. 15. 10. 15.  5.  0.  0.  3.\n",
            " 15.  2.  0. 11.  8.  0.  0.  4. 12.  0.  0.  8.  8.  0.  0.  5.  8.  0.\n",
            "  0.  9.  8.  0.  0.  4. 11.  0.  1. 12.  7.  0.  0.  2. 14.  5. 10. 12.\n",
            "  0.  0.  0.  0.  6. 13. 10.  0.  0.  0.]\n",
            "이 숫자는  0 입니다.\n"
          ]
        }
      ]
    },
    {
      "cell_type": "code",
      "source": [
        "from sklearn import datasets\n",
        "from sklearn import svm\n",
        "\n",
        "digit=datasets.load_digits()\n",
        "\n",
        "# svm의 분류기 모델 SC를 학습\n",
        "s=svm.SVC(gamma=0.1,C=10)\n",
        "s.fit(digit.data,digit.target) # digit 데이터로 모델링\n",
        "\n",
        "# 훈련 집합의 앞에 있는 샘플 3개를 새로운 샘플로 간주하고 인식해봄\n",
        "new_d=[digit.data[0],digit.data[1],digit.data[2]]\n",
        "res=s.predict(new_d)\n",
        "print(\"예측값은\", res)\n",
        "print(\"참값은\", digit.target[0],digit.target[1],digit.target[2])\n",
        "\n",
        "# 훈련 집합을 테스트 집합으로 간주하여 인식해보고 정확률을 측정\n",
        "res=s.predict(digit.data)\n",
        "correct=[i for i in range(len(res)) if res[i]==digit.target[i]]\n",
        "accuracy=len(correct)/len(res)\n",
        "print(\"화소 특징을 사용했을 때 정확률=\",accuracy*100, \"%\")"
      ],
      "metadata": {
        "colab": {
          "base_uri": "https://localhost:8080/"
        },
        "id": "IBf-InQZSk4r",
        "outputId": "4cc5cc19-4c21-4e63-a74b-aa8acf6ec135"
      },
      "execution_count": 5,
      "outputs": [
        {
          "output_type": "stream",
          "name": "stdout",
          "text": [
            "예측값은 [0 1 2]\n",
            "참값은 0 1 2\n",
            "화소 특징을 사용했을 때 정확률= 100.0 %\n"
          ]
        }
      ]
    },
    {
      "cell_type": "markdown",
      "source": [
        "##훈련/검증/테스트 집합으로 쪼개기"
      ],
      "metadata": {
        "id": "6NsGBUYvT5VK"
      }
    },
    {
      "cell_type": "code",
      "source": [
        "from sklearn import datasets\n",
        "from sklearn import svm\n",
        "from sklearn.model_selection import train_test_split\n",
        "import numpy as np\n",
        "\n",
        "# 데이터셋을 읽고 훈련 집합과 테스트 집합으로 분할\n",
        "digit=datasets.load_digits()\n",
        "x_train,x_test,y_train,y_test=train_test_split(digit.data,digit.target,train_size=0.6)\n",
        "\n",
        "# svm의 분류 모델 SVC를 학습\n",
        "s=svm.SVC(gamma=0.001)\n",
        "s.fit(x_train,y_train)\n",
        "\n",
        "res=s.predict(x_test)\n",
        "\n",
        "# 혼동 행렬 구함\n",
        "conf=np.zeros((10,10))\n",
        "for i in range(len(res)):\n",
        "    conf[res[i]][y_test[i]]+=1\n",
        "print(conf)\n",
        "\n",
        "# 정확률 측정하고 출력\n",
        "no_correct=0\n",
        "for i in range(10):\n",
        "    no_correct+=conf[i][i]\n",
        "accuracy=no_correct/len(res)\n",
        "print(\"테스트 집합에 대한 정확률은\", accuracy*100, \"%입니다.\")"
      ],
      "metadata": {
        "colab": {
          "base_uri": "https://localhost:8080/"
        },
        "id": "ZV2H444pT7-B",
        "outputId": "c839f88e-efb8-4f5a-cea7-80f1aaf0d1c7"
      },
      "execution_count": 6,
      "outputs": [
        {
          "output_type": "stream",
          "name": "stdout",
          "text": [
            "[[81.  0.  0.  0.  0.  0.  0.  0.  0.  0.]\n",
            " [ 0. 73.  0.  0.  0.  0.  0.  0.  3.  0.]\n",
            " [ 0.  0. 74.  0.  0.  0.  0.  0.  0.  0.]\n",
            " [ 0.  0.  0. 67.  0.  0.  0.  0.  0.  0.]\n",
            " [ 0.  0.  0.  0. 67.  0.  0.  0.  0.  0.]\n",
            " [ 0.  0.  0.  0.  0. 55.  0.  0.  0.  1.]\n",
            " [ 0.  0.  0.  0.  0.  0. 84.  0.  0.  0.]\n",
            " [ 0.  0.  0.  0.  0.  0.  0. 78.  0.  0.]\n",
            " [ 0.  0.  0.  0.  0.  0.  0.  0. 66.  2.]\n",
            " [ 0.  0.  0.  0.  0.  1.  0.  0.  0. 67.]]\n",
            "테스트 집합에 대한 정확률은 99.02642559109874 %입니다.\n"
          ]
        }
      ]
    },
    {
      "cell_type": "markdown",
      "source": [
        "#교차 검증"
      ],
      "metadata": {
        "id": "iPJqGImsU4BK"
      }
    },
    {
      "cell_type": "code",
      "source": [
        "from sklearn import datasets\n",
        "from sklearn import svm\n",
        "from sklearn.model_selection import cross_val_score\n",
        "import numpy as np\n",
        "\n",
        "digit=datasets.load_digits()\n",
        "s=svm.SVC(gamma=0.001)\n",
        "accuracies=cross_val_score(s,digit.data,digit.target,cv=5) # 5-겹 교차 검증\n",
        "\n",
        "print(accuracies)\n",
        "print(\"정확률(평균)=%0.3f, 표준편차 =%0.3f\"%(accuracies.mean()*100,accuracies.std()))"
      ],
      "metadata": {
        "colab": {
          "base_uri": "https://localhost:8080/"
        },
        "id": "iwr46upFU4Rq",
        "outputId": "689a7f6c-88de-4c43-9a66-f683730b2956"
      },
      "execution_count": 7,
      "outputs": [
        {
          "output_type": "stream",
          "name": "stdout",
          "text": [
            "[0.975      0.95       0.98328691 0.99164345 0.96100279]\n",
            "정확률(평균)=97.219, 표준편차 =0.015\n"
          ]
        }
      ]
    },
    {
      "cell_type": "markdown",
      "source": [
        "#Perceptron과DNN"
      ],
      "metadata": {
        "id": "GFmlAg5BX1Yb"
      }
    },
    {
      "cell_type": "markdown",
      "source": [
        "##Perceptron"
      ],
      "metadata": {
        "id": "5yI8-9f1X1bZ"
      }
    },
    {
      "cell_type": "markdown",
      "source": [
        "###파이썬 행렬 연산"
      ],
      "metadata": {
        "id": "fGXV1s9Xoc52"
      }
    },
    {
      "cell_type": "code",
      "execution_count": 8,
      "metadata": {
        "colab": {
          "base_uri": "https://localhost:8080/"
        },
        "id": "iKC25U_tkHVl",
        "outputId": "099b3365-f53c-40cf-91c0-91a909f022b4"
      },
      "outputs": [
        {
          "output_type": "execute_result",
          "data": {
            "text/plain": [
              "array([1, 0, 1])"
            ]
          },
          "metadata": {},
          "execution_count": 8
        }
      ],
      "source": [
        "import numpy as np\n",
        "X=np.array([1,0,1])\n",
        "X"
      ]
    },
    {
      "cell_type": "code",
      "source": [
        "W=np.array([\n",
        "    -0.5,\n",
        "    1.0,\n",
        "    1.0\n",
        "])\n",
        "W"
      ],
      "metadata": {
        "colab": {
          "base_uri": "https://localhost:8080/"
        },
        "id": "ipQ0Ds89oxj2",
        "outputId": "ba3ae531-c287-49d3-dcbd-ca04e874e3dc"
      },
      "execution_count": 9,
      "outputs": [
        {
          "output_type": "execute_result",
          "data": {
            "text/plain": [
              "array([-0.5,  1. ,  1. ])"
            ]
          },
          "metadata": {},
          "execution_count": 9
        }
      ]
    },
    {
      "cell_type": "code",
      "source": [
        "y=sum(X*W)\n",
        "y"
      ],
      "metadata": {
        "colab": {
          "base_uri": "https://localhost:8080/"
        },
        "id": "Sn7NaUIopLJO",
        "outputId": "47124d96-c9c7-4c34-961f-5e38f9333e9f"
      },
      "execution_count": 10,
      "outputs": [
        {
          "output_type": "execute_result",
          "data": {
            "text/plain": [
              "0.5"
            ]
          },
          "metadata": {},
          "execution_count": 10
        }
      ]
    },
    {
      "cell_type": "code",
      "source": [
        "import numpy as np\n",
        "X=np.array([\n",
        "            [1,0,0],\n",
        "            [1,0,1],\n",
        "            [1,1,0],\n",
        "            [1,1,1]\n",
        "])\n",
        "X"
      ],
      "metadata": {
        "colab": {
          "base_uri": "https://localhost:8080/"
        },
        "id": "9AQlc97Mpf9d",
        "outputId": "11a63cd6-c970-478a-dea5-d4c15d1b9d43"
      },
      "execution_count": 11,
      "outputs": [
        {
          "output_type": "execute_result",
          "data": {
            "text/plain": [
              "array([[1, 0, 0],\n",
              "       [1, 0, 1],\n",
              "       [1, 1, 0],\n",
              "       [1, 1, 1]])"
            ]
          },
          "metadata": {},
          "execution_count": 11
        }
      ]
    },
    {
      "cell_type": "code",
      "source": [
        "W=np.array([\n",
        "    -0.5,\n",
        "    1.0,\n",
        "    1.0\n",
        "])\n",
        "W"
      ],
      "metadata": {
        "colab": {
          "base_uri": "https://localhost:8080/"
        },
        "id": "HP6kOTA7pzUm",
        "outputId": "e9b86c92-0316-44a1-8440-0a91e8bfd16a"
      },
      "execution_count": 12,
      "outputs": [
        {
          "output_type": "execute_result",
          "data": {
            "text/plain": [
              "array([-0.5,  1. ,  1. ])"
            ]
          },
          "metadata": {},
          "execution_count": 12
        }
      ]
    },
    {
      "cell_type": "code",
      "source": [
        "y=np.sum(X*W, axis=1)\n",
        "y"
      ],
      "metadata": {
        "colab": {
          "base_uri": "https://localhost:8080/"
        },
        "id": "hgPRxYfPp4Re",
        "outputId": "90c8a84c-f5b8-4220-85f4-230885c14233"
      },
      "execution_count": 13,
      "outputs": [
        {
          "output_type": "execute_result",
          "data": {
            "text/plain": [
              "array([-0.5,  0.5,  0.5,  1.5])"
            ]
          },
          "metadata": {},
          "execution_count": 13
        }
      ]
    },
    {
      "cell_type": "markdown",
      "source": [
        "###퍼셉트론"
      ],
      "metadata": {
        "id": "hhz9XCoKv0uW"
      }
    },
    {
      "cell_type": "code",
      "source": [
        "from sklearn.linear_model import Perceptron\n",
        "\n",
        "# 훈련 집합 구축\n",
        "X=[[0,0],[0,1],[1,0],[1,1]]\n",
        "y=[-1,1,1,1]\n",
        "\n",
        "# fit 함수로 Perceptron 학습\n",
        "p=Perceptron()\n",
        "p.fit(X,y)\n",
        "\n",
        "print(\"학습된 퍼셉트론의 매개변수: \",p.coef_,p.intercept_)\n",
        "print(\"훈련집합에 대한 예측: \",p.predict(X))\n",
        "print(\"정확률 측정: \",p.score(X,y)*100,\"%\")"
      ],
      "metadata": {
        "colab": {
          "base_uri": "https://localhost:8080/"
        },
        "id": "WF7KDgZvv3aW",
        "outputId": "d4102611-6f41-4ff2-bba3-7dd62a30ea5c"
      },
      "execution_count": 14,
      "outputs": [
        {
          "output_type": "stream",
          "name": "stdout",
          "text": [
            "학습된 퍼셉트론의 매개변수:  [[2. 2.]] [-1.]\n",
            "훈련집합에 대한 예측:  [-1  1  1  1]\n",
            "정확률 측정:  100.0 %\n"
          ]
        }
      ]
    },
    {
      "cell_type": "code",
      "source": [
        "from sklearn import datasets\n",
        "from sklearn.linear_model import Perceptron\n",
        "from sklearn.model_selection import train_test_split\n",
        "import numpy as np\n",
        "\n",
        "# 데이터셋을 읽고 훈련 집합과 테스트 집합으로 분할\n",
        "digit=datasets.load_digits()\n",
        "x_train,x_test,y_train,y_test=train_test_split(digit.data,digit.target,train_size=0.6)\n",
        "\n",
        "# fit 함수로 Perceptron 학습\n",
        "p=Perceptron(max_iter=100,eta0=0.001,verbose=0)\n",
        "p.fit(x_train,y_train) # digit 데이터로 모델링\n",
        "\n",
        "res=p.predict(x_test) # 테스트 집합으로 예측\n",
        "\n",
        "# 혼동 행렬\n",
        "conf=np.zeros((10,10))\n",
        "for i in range(len(res)):\n",
        "    conf[res[i]][y_test[i]]+=1\n",
        "print(conf)\n",
        "\n",
        "# 정확률 계산\n",
        "no_correct=0\n",
        "for i in range(10):\n",
        "    no_correct+=conf[i][i]\n",
        "accuracy=no_correct/len(res)\n",
        "print(\"테스트 집합에 대한 정확률은 \", accuracy*100, \"%입니다.\")"
      ],
      "metadata": {
        "colab": {
          "base_uri": "https://localhost:8080/"
        },
        "id": "r6Ic5CnRv_-l",
        "outputId": "722e23fb-9b55-4e6e-f03d-408cbf4617d4"
      },
      "execution_count": 15,
      "outputs": [
        {
          "output_type": "stream",
          "name": "stdout",
          "text": [
            "[[67.  0.  0.  0.  3.  0.  0.  0.  0.  0.]\n",
            " [ 0. 61.  0.  0.  2.  0.  0.  0.  5.  1.]\n",
            " [ 0.  0. 71.  2.  0.  0.  0.  0.  2.  0.]\n",
            " [ 0.  0.  1. 53.  0.  0.  0.  0.  0.  0.]\n",
            " [ 0.  0.  0.  0. 70.  0.  0.  0.  0.  0.]\n",
            " [ 0.  1.  0.  2.  1. 74.  0.  0.  3.  1.]\n",
            " [ 0.  1.  0.  0.  0.  0. 73.  0.  0.  0.]\n",
            " [ 0.  0.  0.  1.  1.  0.  0. 76.  0.  1.]\n",
            " [ 1.  2.  0.  0.  0.  0.  0.  0. 59.  1.]\n",
            " [ 0.  1.  0.  1.  0.  4.  0.  1.  0. 76.]]\n",
            "테스트 집합에 대한 정확률은  94.57579972183588 %입니다.\n"
          ]
        }
      ]
    },
    {
      "cell_type": "markdown",
      "source": [
        "###다층퍼셉트론"
      ],
      "metadata": {
        "id": "W4rr7_agwxyO"
      }
    },
    {
      "cell_type": "code",
      "source": [
        "from sklearn import datasets\n",
        "from sklearn.neural_network import MLPClassifier\n",
        "from sklearn.model_selection import train_test_split\n",
        "import numpy as np\n",
        "\n",
        "# 데이터셋을 읽고 훈련 집합과 테스트 집합으로 분할\n",
        "digit=datasets.load_digits()\n",
        "x_train,x_test,y_train,y_test=train_test_split(digit.data,digit.target,train_size=0.6)\n",
        "\n",
        "# MLP 분류기 모델을 학습\n",
        "mlp=MLPClassifier(hidden_layer_sizes=(100),learning_rate_init=0.001,batch_size=32,max_iter=300,solver='sgd',verbose=True)\n",
        "mlp.fit(x_train,y_train)\n",
        "\n",
        "res=mlp.predict(x_test) # 테스트 집합으로 예측\n",
        "\n",
        "# 혼동 행렬\n",
        "conf=np.zeros((10,10))\n",
        "for i in range(len(res)):\n",
        "    conf[res[i]][y_test[i]]+=1\n",
        "print(conf)\n",
        "\n",
        "# 정확률 계산\n",
        "no_correct=0\n",
        "for i in range(10):\n",
        "    no_correct+=conf[i][i]\n",
        "accuracy=no_correct/len(res)\n",
        "print(\"테스트 집합에 대한 정확률은 \", accuracy*100, \"%입니다.\")"
      ],
      "metadata": {
        "colab": {
          "base_uri": "https://localhost:8080/"
        },
        "id": "AHHunHV7w09-",
        "outputId": "4baccd6d-22ff-4cab-bb92-c65e974c8f2d"
      },
      "execution_count": 16,
      "outputs": [
        {
          "output_type": "stream",
          "name": "stdout",
          "text": [
            "Iteration 1, loss = 2.05140731\n",
            "Iteration 2, loss = 0.36013748\n",
            "Iteration 3, loss = 0.24241617\n",
            "Iteration 4, loss = 0.17536879\n",
            "Iteration 5, loss = 0.14057680\n",
            "Iteration 6, loss = 0.11698294\n",
            "Iteration 7, loss = 0.10241072\n",
            "Iteration 8, loss = 0.08951780\n",
            "Iteration 9, loss = 0.07168190\n",
            "Iteration 10, loss = 0.06042659\n",
            "Iteration 11, loss = 0.05733019\n",
            "Iteration 12, loss = 0.05066467\n",
            "Iteration 13, loss = 0.04485507\n",
            "Iteration 14, loss = 0.04150890\n",
            "Iteration 15, loss = 0.03805440\n",
            "Iteration 16, loss = 0.03529048\n",
            "Iteration 17, loss = 0.03308230\n",
            "Iteration 18, loss = 0.03184960\n",
            "Iteration 19, loss = 0.02900413\n",
            "Iteration 20, loss = 0.02727272\n",
            "Iteration 21, loss = 0.02553898\n",
            "Iteration 22, loss = 0.02348056\n",
            "Iteration 23, loss = 0.02320163\n",
            "Iteration 24, loss = 0.02169188\n",
            "Iteration 25, loss = 0.02014715\n",
            "Iteration 26, loss = 0.01931963\n",
            "Iteration 27, loss = 0.01894142\n",
            "Iteration 28, loss = 0.01792006\n",
            "Iteration 29, loss = 0.01797264\n",
            "Iteration 30, loss = 0.01684532\n",
            "Iteration 31, loss = 0.01598408\n",
            "Iteration 32, loss = 0.01578803\n",
            "Iteration 33, loss = 0.01479857\n",
            "Iteration 34, loss = 0.01416163\n",
            "Iteration 35, loss = 0.01388032\n",
            "Iteration 36, loss = 0.01344333\n",
            "Iteration 37, loss = 0.01275008\n",
            "Iteration 38, loss = 0.01274255\n",
            "Iteration 39, loss = 0.01202537\n",
            "Iteration 40, loss = 0.01176041\n",
            "Iteration 41, loss = 0.01173067\n",
            "Iteration 42, loss = 0.01112608\n",
            "Iteration 43, loss = 0.01085080\n",
            "Iteration 44, loss = 0.01059626\n",
            "Iteration 45, loss = 0.01049279\n",
            "Iteration 46, loss = 0.01004965\n",
            "Iteration 47, loss = 0.00996070\n",
            "Iteration 48, loss = 0.00974098\n",
            "Iteration 49, loss = 0.00935948\n",
            "Iteration 50, loss = 0.00949224\n",
            "Iteration 51, loss = 0.00917698\n",
            "Iteration 52, loss = 0.00897647\n",
            "Iteration 53, loss = 0.00871308\n",
            "Iteration 54, loss = 0.00873193\n",
            "Iteration 55, loss = 0.00833559\n",
            "Iteration 56, loss = 0.00822742\n",
            "Iteration 57, loss = 0.00811539\n",
            "Iteration 58, loss = 0.00787935\n",
            "Iteration 59, loss = 0.00782530\n",
            "Iteration 60, loss = 0.00757680\n",
            "Iteration 61, loss = 0.00745919\n",
            "Iteration 62, loss = 0.00741365\n",
            "Iteration 63, loss = 0.00719291\n",
            "Iteration 64, loss = 0.00708600\n",
            "Iteration 65, loss = 0.00703378\n",
            "Iteration 66, loss = 0.00695746\n",
            "Iteration 67, loss = 0.00675944\n",
            "Iteration 68, loss = 0.00680131\n",
            "Iteration 69, loss = 0.00658022\n",
            "Iteration 70, loss = 0.00642145\n",
            "Iteration 71, loss = 0.00640400\n",
            "Iteration 72, loss = 0.00626813\n",
            "Iteration 73, loss = 0.00619428\n",
            "Iteration 74, loss = 0.00608470\n",
            "Iteration 75, loss = 0.00604341\n",
            "Iteration 76, loss = 0.00590849\n",
            "Iteration 77, loss = 0.00587880\n",
            "Iteration 78, loss = 0.00582654\n",
            "Iteration 79, loss = 0.00569697\n",
            "Iteration 80, loss = 0.00569041\n",
            "Iteration 81, loss = 0.00554870\n",
            "Iteration 82, loss = 0.00546992\n",
            "Iteration 83, loss = 0.00541409\n",
            "Iteration 84, loss = 0.00537341\n",
            "Iteration 85, loss = 0.00530191\n",
            "Iteration 86, loss = 0.00525545\n",
            "Iteration 87, loss = 0.00522161\n",
            "Iteration 88, loss = 0.00510417\n",
            "Iteration 89, loss = 0.00503638\n",
            "Iteration 90, loss = 0.00498614\n",
            "Iteration 91, loss = 0.00493946\n",
            "Iteration 92, loss = 0.00488844\n",
            "Iteration 93, loss = 0.00483371\n",
            "Iteration 94, loss = 0.00475430\n",
            "Iteration 95, loss = 0.00473655\n",
            "Iteration 96, loss = 0.00465208\n",
            "Iteration 97, loss = 0.00461260\n",
            "Iteration 98, loss = 0.00456794\n",
            "Iteration 99, loss = 0.00457181\n",
            "Training loss did not improve more than tol=0.000100 for 10 consecutive epochs. Stopping.\n",
            "[[75.  0.  0.  0.  0.  0.  0.  0.  0.  0.]\n",
            " [ 0. 72.  0.  0.  0.  0.  1.  0.  1.  0.]\n",
            " [ 0.  0. 66.  0.  0.  1.  0.  0.  1.  0.]\n",
            " [ 0.  0.  0. 78.  0.  0.  0.  1.  0.  0.]\n",
            " [ 0.  0.  0.  0. 69.  0.  0.  0.  1.  0.]\n",
            " [ 0.  0.  0.  1.  0. 80.  0.  0.  0.  2.]\n",
            " [ 0.  0.  0.  0.  0.  0. 64.  0.  0.  0.]\n",
            " [ 0.  0.  0.  0.  1.  0.  0. 79.  0.  2.]\n",
            " [ 0.  0.  0.  1.  0.  0.  0.  0. 58.  1.]\n",
            " [ 0.  0.  0.  0.  0.  0.  0.  0.  0. 64.]]\n",
            "테스트 집합에 대한 정확률은  98.0528511821975 %입니다.\n"
          ]
        }
      ]
    },
    {
      "cell_type": "markdown",
      "source": [
        "## 하이퍼 매개변수"
      ],
      "metadata": {
        "id": "dJjerG8bQFR8"
      }
    },
    {
      "cell_type": "code",
      "source": [
        "from sklearn import datasets\n",
        "from sklearn.neural_network import MLPClassifier\n",
        "from sklearn.model_selection import train_test_split,validation_curve\n",
        "import numpy as np\n",
        "import matplotlib.pyplot as plt\n",
        "import time\n",
        "\n",
        "# 데이터셋을 읽고 훈련 집합과 테스트 집합으로 분할\n",
        "digit=datasets.load_digits()\n",
        "x_train,x_test,y_train,y_test=train_test_split(digit.data,digit.target,train_size=0.6)\n",
        "\n",
        "# 다층 퍼셉트론을 교차 검증으로 성능 평가 (소요 시간 측정 포함)\n",
        "start=time.time() # 시작 시각\n",
        "mlp=MLPClassifier(learning_rate_init=0.001,batch_size=32,max_iter=300,solver='sgd')\n",
        "prange=range(50,1001,50)\n",
        "train_score,test_score=validation_curve(mlp,x_train,y_train,param_name=\"hidden_layer_sizes\",param_range=prange,cv=10,scoring=\"accuracy\",n_jobs=4)\n",
        "end=time.time() # 끝난 시각\n",
        "print(\"하이퍼 매개변수 최적화에 걸린 시간은\",end-start,\"초입니다.\")\n",
        "\n",
        "# 교차 검증 결과의 평균과 분산 구하기\n",
        "train_mean = np.mean(train_score,axis=1)\n",
        "train_std = np.std(train_score,axis=1)\n",
        "test_mean = np.mean(test_score,axis=1)\n",
        "test_std = np.std(test_score,axis=1)\n",
        "\n",
        "# 성능 그래프 그리기\n",
        "plt.plot(prange,train_mean,label=\"Train score\",color=\"r\")\n",
        "plt.plot(prange,test_mean,label=\"Test score\",color=\"b\")\n",
        "plt.fill_between(prange,train_mean-train_std,train_mean+train_std,alpha=0.2,color=\"r\")\n",
        "plt.fill_between(prange,test_mean-test_std,test_mean+test_std,alpha=0.2,color=\"b\")\n",
        "plt.legend(loc=\"best\")\n",
        "plt.title(\"Validation Curve with MLP\")\n",
        "plt.xlabel(\"Number of hidden nodes\"); plt.ylabel(\"Accuracy\")\n",
        "plt.ylim(0.9,1.01)\n",
        "plt.grid(axis='both')\n",
        "plt.show()\n",
        "\n",
        "best_number_nodes=prange[np.argmax(test_mean)] # 최적의 은닉 노드 개수\n",
        "print(\"\\n최적의 은닉층의 노드 개수는\",best_number_nodes,\"개입니다.\\n\")\n",
        "\n",
        "# 최적의 은닉 노드 개수로 모델링\n",
        "mlp_test=MLPClassifier(hidden_layer_sizes=(best_number_nodes),learning_rate_init=0.001,batch_size=32,max_iter=300,solver='sgd')\n",
        "mlp_test.fit(x_train,y_train)\n",
        "\n",
        "# 테스트 집합으로 예측\n",
        "res=mlp_test.predict(x_test)\n",
        "\n",
        "# 혼동 행렬\n",
        "conf=np.zeros((10,10))\n",
        "for i in range(len(res)):\n",
        "    conf[res[i]][y_test[i]]+=1\n",
        "print(conf)\n",
        "\n",
        "# 정확률 계산\n",
        "no_correct=0\n",
        "for i in range(10):\n",
        "    no_correct+=conf[i][i]\n",
        "accuracy=no_correct/len(res)\n",
        "print(\"테스트 집합에 대한 정확률은\", accuracy*100, \"%입니다.\")"
      ],
      "metadata": {
        "id": "CSaTt8LVROtE"
      },
      "execution_count": null,
      "outputs": []
    },
    {
      "cell_type": "markdown",
      "source": [
        "# 딥러닝"
      ],
      "metadata": {
        "id": "j-ADpoOtRgO2"
      }
    },
    {
      "cell_type": "code",
      "metadata": {
        "id": "Ux2a8GmC7sua"
      },
      "source": [
        "import tensorflow as tf"
      ],
      "execution_count": null,
      "outputs": []
    },
    {
      "cell_type": "code",
      "metadata": {
        "colab": {
          "base_uri": "https://localhost:8080/",
          "height": 35
        },
        "id": "T75CiRkI7sua",
        "outputId": "1fec735a-a8d9-4a2d-dc5a-7ac1a6224cb5"
      },
      "source": [
        "tf.__version__"
      ],
      "execution_count": null,
      "outputs": [
        {
          "output_type": "execute_result",
          "data": {
            "application/vnd.google.colaboratory.intrinsic+json": {
              "type": "string"
            },
            "text/plain": [
              "'2.4.1'"
            ]
          },
          "metadata": {
            "tags": []
          },
          "execution_count": 2
        }
      ]
    },
    {
      "cell_type": "code",
      "metadata": {
        "colab": {
          "base_uri": "https://localhost:8080/"
        },
        "id": "ncozDaUeP4iN",
        "outputId": "bd48c615-27dc-46fc-bc5d-661fe40b13e6"
      },
      "source": [
        "# 텐서 생성\n",
        "x=tf.constant(3)\n",
        "y=x**2\n",
        "\n",
        "# 세션 객체 생성\n",
        "# sess=tf.Session()\n",
        "\n",
        "# 세션 객체를 이용해서 텐서를 사용\n",
        "# print(sess.run(x))\n",
        "# print(sess.run(y))\n",
        "\n",
        "# sess.close()\n",
        "# sess.close()\n",
        "\n",
        "tf.print(x)\n",
        "tf.print(y)\n"
      ],
      "execution_count": null,
      "outputs": [
        {
          "output_type": "stream",
          "text": [
            "3\n",
            "9\n"
          ],
          "name": "stdout"
        }
      ]
    },
    {
      "cell_type": "markdown",
      "source": [
        "### 텐서"
      ],
      "metadata": {
        "id": "sFXocppVENs2"
      }
    },
    {
      "cell_type": "code",
      "source": [
        "import tensorflow as tf\n",
        "\n",
        "print(tf.__version__)\n",
        "a=tf.random.uniform([2,3],0,1)\n",
        "print(a)\n",
        "print(type(a))"
      ],
      "metadata": {
        "id": "wi2ak581Sa54"
      },
      "execution_count": null,
      "outputs": []
    },
    {
      "cell_type": "code",
      "source": [
        "import tensorflow as tf\n",
        "import numpy as np\n",
        "\n",
        "t=tf.random.uniform([2,3],0,1)\n",
        "n=np.random.uniform(0,1,[2,3])\n",
        "print(\"tensorflow로 생성한 텐서:\\n\",t,\"\\n\")\n",
        "print(\"numpy로 생성한 ndarray:\\n\",n,\"\\n\")\n",
        "\n",
        "res=t+n # 텐서 t와 ndarray n의 덧셈\n",
        "print(\"덧셈 결과:\\n\",res)"
      ],
      "metadata": {
        "id": "E--VBxtqScvA"
      },
      "execution_count": null,
      "outputs": []
    },
    {
      "cell_type": "markdown",
      "source": [
        "###MNIST 데이터셋"
      ],
      "metadata": {
        "id": "uFkRYjlWw5Ne"
      }
    },
    {
      "cell_type": "code",
      "source": [
        "import tensorflow as tf\n",
        "import tensorflow.keras.datasets as ds\n",
        "\n",
        "# MNIST 읽고 텐서 모양 출력\n",
        "(x_train, y_train),(x_test, y_test)=ds.mnist.load_data()\n",
        "yy_train=tf.one_hot(y_train,10,dtype=tf.int8) # 원핫 코드로 변환\n",
        "print(\"MNIST: \",x_train.shape,y_train.shape,yy_train.shape)\n",
        "\n",
        "# CIFAR-10 읽고 텐서 모양 출력\n",
        "(x_train,y_train),(x_test,y_test)=ds.cifar10.load_data()\n",
        "yy_train=tf.one_hot(y_train,10,dtype=tf.int8)\n",
        "print(\"CIFAR-10: \",x_train.shape,y_train.shape,yy_train.shape)\n",
        "\n",
        "# Boston Housing 읽고 텐서 모양 출력\n",
        "(x_train,y_train),(x_test,y_test)=ds.boston_housing.load_data()\n",
        "print(\"Boston Housing: \",x_train.shape,y_train.shape)\n",
        "\n",
        "# Reuters 읽고 텐서 모양 출력\n",
        "(x_train,y_train),(x_test,y_test)=ds.reuters.load_data()\n",
        "print(\"Reuters: \",x_train.shape,y_train.shape)"
      ],
      "metadata": {
        "id": "Kbc-obCbSpM3"
      },
      "execution_count": null,
      "outputs": []
    },
    {
      "cell_type": "code",
      "source": [
        "import tensorflow as tf\n",
        "\n",
        "# OR 데이터 구축\n",
        "x=[[0.0,0.0],[0.0,1.0],[1.0,0.0],[1.0,1.0]]\n",
        "y=[[-1],[1],[1],[1]]\n",
        "\n",
        "# [그림 4-3(b)]의 퍼셉트론\n",
        "w=tf.Variable([[1.0],[1.0]])\n",
        "b=tf.Variable(-0.5)\n",
        "\n",
        "# 식 4.3의 퍼셉트론 동작\n",
        "s=tf.add(tf.matmul(x,w),b)\n",
        "o=tf.sign(s)\n",
        "\n",
        "print(o)"
      ],
      "metadata": {
        "id": "3MsMrvJCSwwv"
      },
      "execution_count": null,
      "outputs": []
    },
    {
      "cell_type": "code",
      "source": [
        ""
      ],
      "metadata": {
        "id": "mN49kK9FS514"
      },
      "execution_count": null,
      "outputs": []
    },
    {
      "cell_type": "code",
      "source": [
        "from sklearn.datasets import fetch_openml\n",
        "from sklearn.neural_network import MLPClassifier\n",
        "import matplotlib.pyplot as plt\n",
        "import numpy as np\n",
        "\n",
        "# MNIST 데이터셋을 읽고 훈련 집합과 테스트 집합으로 분할\n",
        "mnist=fetch_openml('mnist_784')\n",
        "mnist.data=mnist.data/255.0\n",
        "x_train=mnist.data[:60000]; x_test=mnist.data[60000:]\n",
        "y_train=np.int16(mnist.target[:60000]); y_test=np.int16(mnist.target[60000:])\n",
        "\n",
        "# MLP 분류기 모델을 학습\n",
        "mlp=MLPClassifier(hidden_layer_sizes=(100),learning_rate_init=0.001,batch_size=512,max_iter=300,solver='adam',verbose=True)\n",
        "mlp.fit(x_train,y_train)\n",
        "\n",
        "# 테스트 집합으로 예측\n",
        "res=mlp.predict(x_test)\n",
        "\n",
        "# 혼동 행렬\n",
        "conf=np.zeros((10,10),dtype=np.int16)\n",
        "for i in range(len(res)):\n",
        "    conf[res[i]][y_test[i]]+=1\n",
        "print(conf)\n",
        "\n",
        "# 정확률 계산\n",
        "no_correct=0\n",
        "for i in range(10):\n",
        "    no_correct+=conf[i][i]\n",
        "accuracy=no_correct/len(res)\n",
        "print(\"테스트 집합에 대한 정확률은\", accuracy*100, \"%입니다.\")"
      ],
      "metadata": {
        "colab": {
          "base_uri": "https://localhost:8080/"
        },
        "id": "vCUhp3d-w5ru",
        "outputId": "343aad96-1ac0-4811-b961-0b6d618fd0fc"
      },
      "execution_count": null,
      "outputs": [
        {
          "output_type": "stream",
          "name": "stdout",
          "text": [
            "Iteration 1, loss = 0.61445781\n",
            "Iteration 2, loss = 0.26425883\n",
            "Iteration 3, loss = 0.20903271\n",
            "Iteration 4, loss = 0.17640468\n",
            "Iteration 5, loss = 0.15289488\n",
            "Iteration 6, loss = 0.13540092\n",
            "Iteration 7, loss = 0.12089265\n",
            "Iteration 8, loss = 0.10792581\n",
            "Iteration 9, loss = 0.09796414\n",
            "Iteration 10, loss = 0.08957069\n",
            "Iteration 11, loss = 0.08179705\n",
            "Iteration 12, loss = 0.07481272\n",
            "Iteration 13, loss = 0.06975675\n",
            "Iteration 14, loss = 0.06356404\n",
            "Iteration 15, loss = 0.05954655\n",
            "Iteration 16, loss = 0.05430048\n",
            "Iteration 17, loss = 0.05052693\n",
            "Iteration 18, loss = 0.04743869\n",
            "Iteration 19, loss = 0.04425657\n",
            "Iteration 20, loss = 0.04075847\n",
            "Iteration 21, loss = 0.03837310\n",
            "Iteration 22, loss = 0.03525640\n",
            "Iteration 23, loss = 0.03305280\n",
            "Iteration 24, loss = 0.03080616\n",
            "Iteration 25, loss = 0.02886796\n",
            "Iteration 26, loss = 0.02674422\n",
            "Iteration 27, loss = 0.02556062\n",
            "Iteration 28, loss = 0.02371214\n",
            "Iteration 29, loss = 0.02198796\n",
            "Iteration 30, loss = 0.02031910\n",
            "Iteration 31, loss = 0.01905306\n",
            "Iteration 32, loss = 0.01744076\n",
            "Iteration 33, loss = 0.01671294\n",
            "Iteration 34, loss = 0.01546345\n",
            "Iteration 35, loss = 0.01433581\n",
            "Iteration 36, loss = 0.01335710\n",
            "Iteration 37, loss = 0.01236146\n",
            "Iteration 38, loss = 0.01151429\n",
            "Iteration 39, loss = 0.01096377\n",
            "Iteration 40, loss = 0.01007523\n",
            "Iteration 41, loss = 0.00956985\n",
            "Iteration 42, loss = 0.00925504\n",
            "Iteration 43, loss = 0.00828746\n",
            "Iteration 44, loss = 0.00740956\n",
            "Iteration 45, loss = 0.00681881\n",
            "Iteration 46, loss = 0.00678853\n",
            "Iteration 47, loss = 0.00599592\n",
            "Iteration 48, loss = 0.00541104\n",
            "Iteration 49, loss = 0.00511952\n",
            "Iteration 50, loss = 0.00489692\n",
            "Iteration 51, loss = 0.00444176\n",
            "Iteration 52, loss = 0.00412390\n",
            "Iteration 53, loss = 0.00392069\n",
            "Iteration 54, loss = 0.00367860\n",
            "Iteration 55, loss = 0.00349107\n",
            "Iteration 56, loss = 0.00320236\n",
            "Iteration 57, loss = 0.00305821\n",
            "Iteration 58, loss = 0.00290847\n",
            "Iteration 59, loss = 0.00262505\n",
            "Iteration 60, loss = 0.00245577\n",
            "Iteration 61, loss = 0.00234460\n",
            "Iteration 62, loss = 0.00222940\n",
            "Iteration 63, loss = 0.00208303\n",
            "Iteration 64, loss = 0.00196705\n",
            "Iteration 65, loss = 0.00187513\n",
            "Iteration 66, loss = 0.00173601\n",
            "Iteration 67, loss = 0.00164491\n",
            "Iteration 68, loss = 0.00158225\n",
            "Iteration 69, loss = 0.00148765\n",
            "Iteration 70, loss = 0.00141714\n",
            "Iteration 71, loss = 0.00131844\n",
            "Iteration 72, loss = 0.00127142\n",
            "Iteration 73, loss = 0.00119910\n",
            "Iteration 74, loss = 0.00111384\n",
            "Iteration 75, loss = 0.00108839\n",
            "Iteration 76, loss = 0.00101390\n",
            "Iteration 77, loss = 0.00100815\n",
            "Training loss did not improve more than tol=0.000100 for 10 consecutive epochs. Stopping.\n",
            "[[ 967    0    4    0    0    2    4    2    5    0]\n",
            " [   0 1121    2    0    1    1    3    5    0    3]\n",
            " [   3    3 1009    7    2    0    3   10    1    1]\n",
            " [   1    3    2  988    2   11    1    1    7    5]\n",
            " [   2    0    0    0  959    2    2    1    5   10]\n",
            " [   1    1    0    4    0  865    4    0    6    4]\n",
            " [   3    2    1    0    6    1  939    0    1    1]\n",
            " [   1    1    7    2    1    2    0 1002    4    2]\n",
            " [   2    4    6    4    1    6    2    3  943    4]\n",
            " [   0    0    1    5   10    2    0    4    2  979]]\n",
            "테스트 집합에 대한 정확률은 97.72 %입니다.\n"
          ]
        }
      ]
    },
    {
      "cell_type": "markdown",
      "source": [
        ""
      ],
      "metadata": {
        "id": "FX84HnDwEfKO"
      }
    },
    {
      "cell_type": "markdown",
      "source": [
        ""
      ],
      "metadata": {
        "id": "bPuoPrJIEfOc"
      }
    },
    {
      "cell_type": "markdown",
      "metadata": {
        "id": "Atod9uM4U-Nu"
      },
      "source": [
        "## 패션 MNIST 데이터 셋에 대한 이미지 예측"
      ]
    },
    {
      "cell_type": "code",
      "metadata": {
        "id": "hO952yAVVvV6"
      },
      "source": [
        "import tensorflow as tf\n",
        "import numpy as np"
      ],
      "execution_count": null,
      "outputs": []
    },
    {
      "cell_type": "code",
      "metadata": {
        "colab": {
          "base_uri": "https://localhost:8080/"
        },
        "id": "-meSOLF37sub",
        "outputId": "f1afe447-070c-4c38-ebca-44cf5bfa03a6"
      },
      "source": [
        "(x_train_all, y_train_all), (x_test, y_test) = tf.keras.datasets.fashion_mnist.load_data()"
      ],
      "execution_count": null,
      "outputs": [
        {
          "output_type": "stream",
          "text": [
            "Downloading data from https://storage.googleapis.com/tensorflow/tf-keras-datasets/train-labels-idx1-ubyte.gz\n",
            "32768/29515 [=================================] - 0s 0us/step\n",
            "Downloading data from https://storage.googleapis.com/tensorflow/tf-keras-datasets/train-images-idx3-ubyte.gz\n",
            "26427392/26421880 [==============================] - 0s 0us/step\n",
            "Downloading data from https://storage.googleapis.com/tensorflow/tf-keras-datasets/t10k-labels-idx1-ubyte.gz\n",
            "8192/5148 [===============================================] - 0s 0us/step\n",
            "Downloading data from https://storage.googleapis.com/tensorflow/tf-keras-datasets/t10k-images-idx3-ubyte.gz\n",
            "4423680/4422102 [==============================] - 0s 0us/step\n"
          ],
          "name": "stdout"
        }
      ]
    },
    {
      "cell_type": "code",
      "metadata": {
        "scrolled": true,
        "colab": {
          "base_uri": "https://localhost:8080/"
        },
        "id": "kERFy_437suc",
        "outputId": "b3059025-9da3-477f-f801-3b9869f58c66"
      },
      "source": [
        "print(x_train_all.shape, y_train_all.shape)"
      ],
      "execution_count": null,
      "outputs": [
        {
          "output_type": "stream",
          "text": [
            "(60000, 28, 28) (60000,)\n"
          ],
          "name": "stdout"
        }
      ]
    },
    {
      "cell_type": "code",
      "metadata": {
        "colab": {
          "base_uri": "https://localhost:8080/"
        },
        "id": "YIwf8FJfWAJr",
        "outputId": "439ceee1-2b10-4f91-ccee-2409baa37470"
      },
      "source": [
        "print(x_test.shape, y_test.shape)"
      ],
      "execution_count": null,
      "outputs": [
        {
          "output_type": "stream",
          "text": [
            "(10000, 28, 28) (10000,)\n"
          ],
          "name": "stdout"
        }
      ]
    },
    {
      "cell_type": "code",
      "metadata": {
        "colab": {
          "base_uri": "https://localhost:8080/"
        },
        "id": "-nD7N50JWf6Y",
        "outputId": "6516194c-e166-4951-ec6e-26e95ef68f33"
      },
      "source": [
        "28*28"
      ],
      "execution_count": null,
      "outputs": [
        {
          "output_type": "execute_result",
          "data": {
            "text/plain": [
              "784"
            ]
          },
          "metadata": {
            "tags": []
          },
          "execution_count": 10
        }
      ]
    },
    {
      "cell_type": "code",
      "metadata": {
        "id": "tJ6fIMvw7suc"
      },
      "source": [
        "import matplotlib.pyplot as plt"
      ],
      "execution_count": null,
      "outputs": []
    },
    {
      "cell_type": "code",
      "metadata": {
        "colab": {
          "base_uri": "https://localhost:8080/",
          "height": 265
        },
        "id": "7f4sgrOZ7suc",
        "outputId": "2476dff5-1301-49e0-af8e-5a6685d498d1"
      },
      "source": [
        "plt.imshow(x_train_all[0], cmap='gray')\n",
        "plt.show()"
      ],
      "execution_count": null,
      "outputs": [
        {
          "output_type": "display_data",
          "data": {
            "image/png": "[encoded data removed]",
            "text/plain": [
              "<Figure size 432x288 with 1 Axes>"
            ]
          },
          "metadata": {
            "tags": [],
            "needs_background": "light"
          }
        }
      ]
    },
    {
      "cell_type": "code",
      "metadata": {
        "colab": {
          "base_uri": "https://localhost:8080/"
        },
        "id": "Z46pWTht7sud",
        "outputId": "ec2b85da-a0c2-48a3-962f-9d8d4411d281"
      },
      "source": [
        "# 타겟 레이블 확인\n",
        "\n",
        "print(y_train_all[:10])"
      ],
      "execution_count": null,
      "outputs": [
        {
          "output_type": "stream",
          "text": [
            "[9 0 0 3 0 2 7 2 5 5]\n"
          ],
          "name": "stdout"
        }
      ]
    },
    {
      "cell_type": "code",
      "metadata": {
        "id": "Ght0u6o57sud"
      },
      "source": [
        "# 타겟 레이블 이름 확인\n",
        "\n",
        "class_names = ['티셔츠/윗도리', '바지', '스웨터', '드레스', '코트', \n",
        "               '샌들', '셔츠', '스니커즈', '가방', '앵클부츠']"
      ],
      "execution_count": null,
      "outputs": []
    },
    {
      "cell_type": "code",
      "metadata": {
        "colab": {
          "base_uri": "https://localhost:8080/"
        },
        "id": "oqb18Oli7sue",
        "outputId": "709b09f9-f356-4448-8c7a-b767d6788447"
      },
      "source": [
        "print(class_names[y_train_all[0]])"
      ],
      "execution_count": null,
      "outputs": [
        {
          "output_type": "stream",
          "text": [
            "앵클부츠\n"
          ],
          "name": "stdout"
        }
      ]
    },
    {
      "cell_type": "code",
      "metadata": {
        "colab": {
          "base_uri": "https://localhost:8080/"
        },
        "id": "6MOwaOxV7sue",
        "outputId": "cfea1680-17ba-412f-f540-10e6838ed1a1"
      },
      "source": [
        "np.bincount(y_train_all)"
      ],
      "execution_count": null,
      "outputs": [
        {
          "output_type": "execute_result",
          "data": {
            "text/plain": [
              "array([6000, 6000, 6000, 6000, 6000, 6000, 6000, 6000, 6000, 6000])"
            ]
          },
          "metadata": {
            "tags": []
          },
          "execution_count": 19
        }
      ]
    },
    {
      "cell_type": "code",
      "metadata": {
        "id": "JGgxjXfF7sue"
      },
      "source": [
        "from sklearn.model_selection import train_test_split"
      ],
      "execution_count": null,
      "outputs": []
    },
    {
      "cell_type": "code",
      "metadata": {
        "id": "JmK9PxTe7sue"
      },
      "source": [
        "x_train, x_val, y_train, y_val = train_test_split(x_train_all, y_train_all, stratify=y_train_all, \n",
        "                                                  test_size=0.2, random_state=42)"
      ],
      "execution_count": null,
      "outputs": []
    },
    {
      "cell_type": "code",
      "metadata": {
        "colab": {
          "base_uri": "https://localhost:8080/"
        },
        "id": "GNeGGFrj7suf",
        "outputId": "ff8b1328-ecbf-4c28-8f42-6c1ce1432a21"
      },
      "source": [
        "np.bincount(y_train)"
      ],
      "execution_count": null,
      "outputs": [
        {
          "output_type": "execute_result",
          "data": {
            "text/plain": [
              "array([4800, 4800, 4800, 4800, 4800, 4800, 4800, 4800, 4800, 4800])"
            ]
          },
          "metadata": {
            "tags": []
          },
          "execution_count": 25
        }
      ]
    },
    {
      "cell_type": "code",
      "metadata": {
        "scrolled": true,
        "colab": {
          "base_uri": "https://localhost:8080/"
        },
        "id": "bCpaJCy27suf",
        "outputId": "6d0dd342-9646-43a8-cf8a-e7c3809059d8"
      },
      "source": [
        "np.bincount(y_val)"
      ],
      "execution_count": null,
      "outputs": [
        {
          "output_type": "execute_result",
          "data": {
            "text/plain": [
              "array([1200, 1200, 1200, 1200, 1200, 1200, 1200, 1200, 1200, 1200])"
            ]
          },
          "metadata": {
            "tags": []
          },
          "execution_count": 26
        }
      ]
    },
    {
      "cell_type": "code",
      "metadata": {
        "id": "3PGw_WAH7suf"
      },
      "source": [
        "# 표준화\n",
        "\n",
        "x_train = x_train / 255\n",
        "x_val = x_val / 255"
      ],
      "execution_count": null,
      "outputs": []
    },
    {
      "cell_type": "code",
      "metadata": {
        "id": "uOuNRj3m7sug"
      },
      "source": [
        "x_train = x_train.reshape(-1, 784)\n",
        "x_val = x_val.reshape(-1, 784)"
      ],
      "execution_count": null,
      "outputs": []
    },
    {
      "cell_type": "code",
      "metadata": {
        "scrolled": true,
        "colab": {
          "base_uri": "https://localhost:8080/"
        },
        "id": "X4nDPIcR7sug",
        "outputId": "abed522d-fbb4-4de0-f714-f49794e884fd"
      },
      "source": [
        "print(x_train.shape, x_val.shape)"
      ],
      "execution_count": null,
      "outputs": [
        {
          "output_type": "stream",
          "text": [
            "(48000, 784) (12000, 784)\n"
          ],
          "name": "stdout"
        }
      ]
    },
    {
      "cell_type": "code",
      "metadata": {
        "colab": {
          "base_uri": "https://localhost:8080/"
        },
        "id": "wiFSkIyw7sug",
        "outputId": "d8f48b34-e559-4f93-8fe6-5098476e11fc"
      },
      "source": [
        "from sklearn.preprocessing import LabelBinarizer\n",
        "lb = LabelBinarizer()\n",
        "lb.fit_transform([0, 1, 3, 1])"
      ],
      "execution_count": null,
      "outputs": [
        {
          "output_type": "execute_result",
          "data": {
            "text/plain": [
              "array([[1, 0, 0],\n",
              "       [0, 1, 0],\n",
              "       [0, 0, 1],\n",
              "       [0, 1, 0]])"
            ]
          },
          "metadata": {
            "tags": []
          },
          "execution_count": 32
        }
      ]
    },
    {
      "cell_type": "code",
      "metadata": {
        "scrolled": true,
        "colab": {
          "base_uri": "https://localhost:8080/"
        },
        "id": "NhOqOe_67suh",
        "outputId": "c02862e3-af0a-4b58-a40e-c6deeb491053"
      },
      "source": [
        "tf.keras.utils.to_categorical([0, 1, 3])"
      ],
      "execution_count": null,
      "outputs": [
        {
          "output_type": "execute_result",
          "data": {
            "text/plain": [
              "array([[1., 0., 0., 0.],\n",
              "       [0., 1., 0., 0.],\n",
              "       [0., 0., 0., 1.]], dtype=float32)"
            ]
          },
          "metadata": {
            "tags": []
          },
          "execution_count": 33
        }
      ]
    },
    {
      "cell_type": "code",
      "metadata": {
        "id": "W8gHwvAU7suh"
      },
      "source": [
        "y_train_encoded = tf.keras.utils.to_categorical(y_train)\n",
        "y_val_encoded = tf.keras.utils.to_categorical(y_val)"
      ],
      "execution_count": null,
      "outputs": []
    },
    {
      "cell_type": "code",
      "metadata": {
        "scrolled": true,
        "colab": {
          "base_uri": "https://localhost:8080/"
        },
        "id": "4AhLkAi47suh",
        "outputId": "b77dbc80-e75d-44f4-ad9d-043f5559dd5d"
      },
      "source": [
        "print(y_train_encoded.shape, y_val_encoded.shape)"
      ],
      "execution_count": null,
      "outputs": [
        {
          "output_type": "stream",
          "text": [
            "(48000, 10) (12000, 10)\n"
          ],
          "name": "stdout"
        }
      ]
    },
    {
      "cell_type": "code",
      "metadata": {
        "colab": {
          "base_uri": "https://localhost:8080/"
        },
        "id": "XXTIxeK-d3og",
        "outputId": "bf444ddb-833c-49d8-ca00-26b320f2deb5"
      },
      "source": [
        "# 타겟 레이블 확인\n",
        "\n",
        "print(y_train[:10])"
      ],
      "execution_count": null,
      "outputs": [
        {
          "output_type": "stream",
          "text": [
            "[6 6 3 3 0 5 9 3 6 1]\n"
          ],
          "name": "stdout"
        }
      ]
    },
    {
      "cell_type": "code",
      "metadata": {
        "id": "rQK5AZH27sui",
        "outputId": "83269496-8038-4628-b36b-fc54474541db"
      },
      "source": [
        "print(y_train[0], y_train_encoded[0])"
      ],
      "execution_count": null,
      "outputs": [
        {
          "output_type": "stream",
          "text": [
            "6 [0. 0. 0. 0. 0. 0. 1. 0. 0. 0.]\n"
          ],
          "name": "stdout"
        }
      ]
    },
    {
      "cell_type": "code",
      "metadata": {
        "colab": {
          "base_uri": "https://localhost:8080/"
        },
        "id": "OdarGCXz7sui",
        "outputId": "fcb76baa-d844-4d7b-ecf8-c04be0a965eb"
      },
      "source": [
        "fc = MultiClassNetwork(units=100, batch_size=256)\n",
        "fc.fit(x_train, y_train_encoded, \n",
        "       x_val=x_val, y_val=y_val_encoded, epochs=40)"
      ],
      "execution_count": null,
      "outputs": [
        {
          "output_type": "stream",
          "text": [
            "........................................"
          ],
          "name": "stdout"
        }
      ]
    },
    {
      "cell_type": "code",
      "metadata": {
        "scrolled": true,
        "id": "_R-eB5jL7sui",
        "outputId": "10edff79-a4b4-4ac1-b60c-27088a7b4ec3"
      },
      "source": [
        "plt.plot(fc.losses)\n",
        "plt.plot(fc.val_losses)\n",
        "plt.ylabel('loss')\n",
        "plt.xlabel('iteration')\n",
        "plt.legend(['train_loss', 'val_loss'])\n",
        "plt.show()"
      ],
      "execution_count": null,
      "outputs": [
        {
          "output_type": "display_data",
          "data": {
            "image/png": "[encoded data removed]",
            "text/plain": [
              "<Figure size 432x288 with 1 Axes>"
            ]
          },
          "metadata": {
            "tags": [],
            "needs_background": "light"
          }
        }
      ]
    },
    {
      "cell_type": "code",
      "metadata": {
        "scrolled": false,
        "id": "Z54GZ0kd7suj",
        "outputId": "4fe46995-c824-4375-b5e4-556ad7f9667d"
      },
      "source": [
        "fc.score(x_val, y_val_encoded)"
      ],
      "execution_count": null,
      "outputs": [
        {
          "output_type": "execute_result",
          "data": {
            "text/plain": [
              "0.8150833333333334"
            ]
          },
          "metadata": {
            "tags": []
          },
          "execution_count": 27
        }
      ]
    },
    {
      "cell_type": "code",
      "metadata": {
        "id": "IZxb4Qu27suj",
        "outputId": "97c98457-d64e-4737-8069-8a73b1ee88fb"
      },
      "source": [
        "np.random.permutation(np.arange(12000)%10)"
      ],
      "execution_count": null,
      "outputs": [
        {
          "output_type": "execute_result",
          "data": {
            "text/plain": [
              "array([4, 6, 3, ..., 0, 6, 6])"
            ]
          },
          "metadata": {
            "tags": []
          },
          "execution_count": 28
        }
      ]
    },
    {
      "cell_type": "code",
      "metadata": {
        "scrolled": true,
        "id": "L8B_oL8u7suk",
        "outputId": "d935d767-b8ec-416d-b362-5a6fd9a979d5"
      },
      "source": [
        "np.sum(y_val == np.random.permutation(np.arange(12000)%10)) / 12000"
      ],
      "execution_count": null,
      "outputs": [
        {
          "output_type": "execute_result",
          "data": {
            "text/plain": [
              "0.10325"
            ]
          },
          "metadata": {
            "tags": []
          },
          "execution_count": 29
        }
      ]
    },
    {
      "cell_type": "markdown",
      "source": [
        ""
      ],
      "metadata": {
        "id": "3xqU9P20EfSs"
      }
    },
    {
      "cell_type": "markdown",
      "source": [
        "###하이퍼 매개변수 최적화"
      ],
      "metadata": {
        "id": "39u8WfVExHgm"
      }
    },
    {
      "cell_type": "code",
      "source": [
        "from sklearn import datasets\n",
        "from sklearn.neural_network import MLPClassifier\n",
        "from sklearn.model_selection import train_test_split,validation_curve\n",
        "import numpy as np\n",
        "import matplotlib.pyplot as plt\n",
        "import time\n",
        "\n",
        "# 데이터셋을 읽고 훈련 집합과 테스트 집합으로 분할\n",
        "digit=datasets.load_digits()\n",
        "x_train,x_test,y_train,y_test=train_test_split(digit.data,digit.target,train_size=0.6)\n",
        "\n",
        "# 다층 퍼셉트론을 교차 검증으로 성능 평가 (소요 시간 측정 포함)\n",
        "start=time.time() # 시작 시각\n",
        "mlp=MLPClassifier(learning_rate_init=0.001,batch_size=32,max_iter=300,solver='sgd')\n",
        "prange=range(50,1001,50)\n",
        "train_score,test_score=validation_curve(mlp,x_train,y_train,param_name=\"hidden_layer_sizes\",param_range=prange,cv=10,scoring=\"accuracy\",n_jobs=4)\n",
        "end=time.time() # 끝난 시각\n",
        "print(\"하이퍼 매개변수 최적화에 걸린 시간은\",end-start,\"초입니다.\")"
      ],
      "metadata": {
        "colab": {
          "base_uri": "https://localhost:8080/"
        },
        "id": "dL8HsaycxOQ-",
        "outputId": "b3006826-21a7-44a1-c030-d104816b2da1"
      },
      "execution_count": null,
      "outputs": [
        {
          "output_type": "stream",
          "name": "stdout",
          "text": [
            "하이퍼 매개변수 최적화에 걸린 시간은 857.3052318096161 초입니다.\n"
          ]
        }
      ]
    },
    {
      "cell_type": "code",
      "source": [
        "# 교차 검증 결과의 평균과 분산 구하기\n",
        "train_mean = np.mean(train_score,axis=1)\n",
        "train_std = np.std(train_score,axis=1)\n",
        "test_mean = np.mean(test_score,axis=1)\n",
        "test_std = np.std(test_score,axis=1)\n",
        "\n",
        "# 성능 그래프 그리기\n",
        "plt.plot(prange,train_mean,label=\"Train score\",color=\"r\")\n",
        "plt.plot(prange,test_mean,label=\"Test score\",color=\"b\")\n",
        "plt.fill_between(prange,train_mean-train_std,train_mean+train_std,alpha=0.2,color=\"r\")\n",
        "plt.fill_between(prange,test_mean-test_std,test_mean+test_std,alpha=0.2,color=\"b\")\n",
        "plt.legend(loc=\"best\")\n",
        "plt.title(\"Validation Curve with MLP\")\n",
        "plt.xlabel(\"Number of hidden nodes\"); plt.ylabel(\"Accuracy\")\n",
        "plt.ylim(0.9,1.01)\n",
        "plt.grid(axis='both')\n",
        "plt.show()\n",
        "\n",
        "best_number_nodes=prange[np.argmax(test_mean)] # 최적의 은닉 노드 개수\n",
        "print(\"\\n최적의 은닉층의 노드 개수는\",best_number_nodes,\"개입니다.\\n\")"
      ],
      "metadata": {
        "id": "c0Kf3yhzN0K3"
      },
      "execution_count": null,
      "outputs": []
    },
    {
      "cell_type": "code",
      "source": [
        "# 최적의 은닉 노드 개수로 모델링\n",
        "mlp_test=MLPClassifier(hidden_layer_sizes=(best_number_nodes),learning_rate_init=0.001,batch_size=32,max_iter=300,solver='sgd')\n",
        "mlp_test.fit(x_train,y_train)\n",
        "\n",
        "# 테스트 집합으로 예측\n",
        "res=mlp_test.predict(x_test)\n",
        "\n",
        "# 혼동 행렬\n",
        "conf=np.zeros((10,10))\n",
        "for i in range(len(res)):\n",
        "    conf[res[i]][y_test[i]]+=1\n",
        "print(conf)\n",
        "\n",
        "# 정확률 계산\n",
        "no_correct=0\n",
        "for i in range(10):\n",
        "    no_correct+=conf[i][i]\n",
        "accuracy=no_correct/len(res)\n",
        "print(\"테스트 집합에 대한 정확률은\", accuracy*100, \"%입니다.\")"
      ],
      "metadata": {
        "id": "LfYc99ZAN6hR"
      },
      "execution_count": null,
      "outputs": []
    },
    {
      "cell_type": "markdown",
      "source": [
        "#딥러닝"
      ],
      "metadata": {
        "id": "2eYIvG7bxWw3"
      }
    },
    {
      "cell_type": "markdown",
      "source": [
        "##텐서"
      ],
      "metadata": {
        "id": "vmRH4GDhxYJW"
      }
    },
    {
      "cell_type": "code",
      "source": [
        "import tensorflow as tf\n",
        "\n",
        "print(tf.__version__)\n",
        "a=tf.random.uniform([2,3],0,1)\n",
        "print(a)\n",
        "print(type(a))"
      ],
      "metadata": {
        "id": "CebleRtOxZvu",
        "colab": {
          "base_uri": "https://localhost:8080/"
        },
        "outputId": "5deaf9c8-8716-46fd-fcbd-03e34ba055c7"
      },
      "execution_count": null,
      "outputs": [
        {
          "output_type": "stream",
          "name": "stdout",
          "text": [
            "2.8.2\n",
            "tf.Tensor(\n",
            "[[0.7120614  0.5030503  0.33167946]\n",
            " [0.47061384 0.15315628 0.05569434]], shape=(2, 3), dtype=float32)\n",
            "<class 'tensorflow.python.framework.ops.EagerTensor'>\n"
          ]
        }
      ]
    },
    {
      "cell_type": "code",
      "source": [
        "import tensorflow as tf\n",
        "import numpy as np\n",
        "\n",
        "t=tf.random.uniform([2,3],0,1)\n",
        "n=np.random.uniform(0,1,[2,3])\n",
        "print(\"tensorflow로 생성한 텐서:\\n\",t,\"\\n\")\n",
        "print(\"numpy로 생성한 ndarray:\\n\",n,\"\\n\")\n",
        "\n",
        "res=t+n # 텐서 t와 ndarray n의 덧셈\n",
        "print(\"덧셈 결과:\\n\",res)"
      ],
      "metadata": {
        "id": "zcqJWWT_xiFu",
        "colab": {
          "base_uri": "https://localhost:8080/"
        },
        "outputId": "c37c27e0-2441-4310-8e5e-fd3ae1086d17"
      },
      "execution_count": null,
      "outputs": [
        {
          "output_type": "stream",
          "name": "stdout",
          "text": [
            "tensorflow로 생성한 텐서:\n",
            " tf.Tensor(\n",
            "[[0.5137384  0.6158327  0.13962328]\n",
            " [0.4435184  0.8121526  0.41464233]], shape=(2, 3), dtype=float32) \n",
            "\n",
            "numpy로 생성한 ndarray:\n",
            " [[0.24467648 0.4882324  0.11140409]\n",
            " [0.0689866  0.49343951 0.58525366]] \n",
            "\n",
            "덧셈 결과:\n",
            " tf.Tensor(\n",
            "[[0.75841486 1.1040651  0.25102738]\n",
            " [0.512505   1.3055921  0.999896  ]], shape=(2, 3), dtype=float32)\n"
          ]
        }
      ]
    },
    {
      "cell_type": "markdown",
      "source": [
        ""
      ],
      "metadata": {
        "id": "ECQTthGaFZb2"
      }
    },
    {
      "cell_type": "markdown",
      "source": [
        ""
      ],
      "metadata": {
        "id": "VIwC8_x7FZj7"
      }
    },
    {
      "cell_type": "markdown",
      "metadata": {
        "id": "0ZNxfxYJ7suk"
      },
      "source": [
        "## 07-2 텐서플로와 케라스를 소개합니다."
      ]
    },
    {
      "cell_type": "code",
      "metadata": {
        "id": "ZzH3y-A37suk"
      },
      "source": [
        "from tensorflow.keras import Sequential\n",
        "from tensorflow.keras.layers import Dense"
      ],
      "execution_count": null,
      "outputs": []
    },
    {
      "cell_type": "code",
      "metadata": {
        "id": "gD0urG6e7sul"
      },
      "source": [
        "model = Sequential()\n",
        "model.add(Dense(100, activation='sigmoid', input_shape=(784,)))\n",
        "model.add(Dense(10, activation='softmax'))"
      ],
      "execution_count": null,
      "outputs": []
    },
    {
      "cell_type": "code",
      "metadata": {
        "id": "iSEEFfkl7sul"
      },
      "source": [
        "model.compile(optimizer='sgd', loss='categorical_crossentropy',\n",
        "              metrics=['accuracy'])"
      ],
      "execution_count": null,
      "outputs": []
    },
    {
      "cell_type": "code",
      "metadata": {
        "id": "x2oVU41i7sul",
        "outputId": "728d383b-b163-428f-ce38-d2e556623b17"
      },
      "source": [
        "history = model.fit(x_train, y_train_encoded, epochs=40, \n",
        "                    validation_data=(x_val, y_val_encoded))"
      ],
      "execution_count": null,
      "outputs": [
        {
          "output_type": "stream",
          "text": [
            "Epoch 1/40\n",
            "1500/1500 [==============================] - 2s 1ms/step - loss: 1.4103 - accuracy: 0.6328 - val_loss: 0.9782 - val_accuracy: 0.7318\n",
            "Epoch 2/40\n",
            "1500/1500 [==============================] - 1s 890us/step - loss: 0.8521 - accuracy: 0.7447 - val_loss: 0.7564 - val_accuracy: 0.7650\n",
            "Epoch 3/40\n",
            "1500/1500 [==============================] - 1s 904us/step - loss: 0.7142 - accuracy: 0.7646 - val_loss: 0.6647 - val_accuracy: 0.7822\n",
            "Epoch 4/40\n",
            "1500/1500 [==============================] - 1s 900us/step - loss: 0.6475 - accuracy: 0.7807 - val_loss: 0.6138 - val_accuracy: 0.7921\n",
            "Epoch 5/40\n",
            "1500/1500 [==============================] - 1s 927us/step - loss: 0.6054 - accuracy: 0.7937 - val_loss: 0.5768 - val_accuracy: 0.8049\n",
            "Epoch 6/40\n",
            "1500/1500 [==============================] - 1s 917us/step - loss: 0.5750 - accuracy: 0.8033 - val_loss: 0.5511 - val_accuracy: 0.8127\n",
            "Epoch 7/40\n",
            "1500/1500 [==============================] - 1s 930us/step - loss: 0.5521 - accuracy: 0.8111 - val_loss: 0.5308 - val_accuracy: 0.8195\n",
            "Epoch 8/40\n",
            "1500/1500 [==============================] - 1s 925us/step - loss: 0.5341 - accuracy: 0.8160 - val_loss: 0.5145 - val_accuracy: 0.8221\n",
            "Epoch 9/40\n",
            "1500/1500 [==============================] - 1s 914us/step - loss: 0.5195 - accuracy: 0.8211 - val_loss: 0.5011 - val_accuracy: 0.8265\n",
            "Epoch 10/40\n",
            "1500/1500 [==============================] - 1s 938us/step - loss: 0.5072 - accuracy: 0.8244 - val_loss: 0.4907 - val_accuracy: 0.8295\n",
            "Epoch 11/40\n",
            "1500/1500 [==============================] - 1s 946us/step - loss: 0.4969 - accuracy: 0.8273 - val_loss: 0.4802 - val_accuracy: 0.8336\n",
            "Epoch 12/40\n",
            "1500/1500 [==============================] - 1s 914us/step - loss: 0.4879 - accuracy: 0.8303 - val_loss: 0.4711 - val_accuracy: 0.8366\n",
            "Epoch 13/40\n",
            "1500/1500 [==============================] - 1s 927us/step - loss: 0.4799 - accuracy: 0.8325 - val_loss: 0.4652 - val_accuracy: 0.8370\n",
            "Epoch 14/40\n",
            "1500/1500 [==============================] - 1s 897us/step - loss: 0.4729 - accuracy: 0.8354 - val_loss: 0.4604 - val_accuracy: 0.8377\n",
            "Epoch 15/40\n",
            "1500/1500 [==============================] - 1s 924us/step - loss: 0.4666 - accuracy: 0.8369 - val_loss: 0.4526 - val_accuracy: 0.8403\n",
            "Epoch 16/40\n",
            "1500/1500 [==============================] - 1s 892us/step - loss: 0.4608 - accuracy: 0.8389 - val_loss: 0.4508 - val_accuracy: 0.8420\n",
            "Epoch 17/40\n",
            "1500/1500 [==============================] - 1s 920us/step - loss: 0.4556 - accuracy: 0.8406 - val_loss: 0.4423 - val_accuracy: 0.8445\n",
            "Epoch 18/40\n",
            "1500/1500 [==============================] - 1s 926us/step - loss: 0.4509 - accuracy: 0.8425 - val_loss: 0.4402 - val_accuracy: 0.8440\n",
            "Epoch 19/40\n",
            "1500/1500 [==============================] - 1s 957us/step - loss: 0.4461 - accuracy: 0.8435 - val_loss: 0.4335 - val_accuracy: 0.8481\n",
            "Epoch 20/40\n",
            "1500/1500 [==============================] - 1s 943us/step - loss: 0.4419 - accuracy: 0.8454 - val_loss: 0.4301 - val_accuracy: 0.8501\n",
            "Epoch 21/40\n",
            "1500/1500 [==============================] - 1s 920us/step - loss: 0.4381 - accuracy: 0.8470 - val_loss: 0.4263 - val_accuracy: 0.8521\n",
            "Epoch 22/40\n",
            "1500/1500 [==============================] - 1s 921us/step - loss: 0.4345 - accuracy: 0.8480 - val_loss: 0.4235 - val_accuracy: 0.8527\n",
            "Epoch 23/40\n",
            "1500/1500 [==============================] - 1s 889us/step - loss: 0.4305 - accuracy: 0.8493 - val_loss: 0.4225 - val_accuracy: 0.8513\n",
            "Epoch 24/40\n",
            "1500/1500 [==============================] - 1s 912us/step - loss: 0.4274 - accuracy: 0.8499 - val_loss: 0.4178 - val_accuracy: 0.8533\n",
            "Epoch 25/40\n",
            "1500/1500 [==============================] - 1s 913us/step - loss: 0.4243 - accuracy: 0.8508 - val_loss: 0.4151 - val_accuracy: 0.8540\n",
            "Epoch 26/40\n",
            "1500/1500 [==============================] - 1s 896us/step - loss: 0.4212 - accuracy: 0.8512 - val_loss: 0.4121 - val_accuracy: 0.8565\n",
            "Epoch 27/40\n",
            "1500/1500 [==============================] - 1s 918us/step - loss: 0.4183 - accuracy: 0.8530 - val_loss: 0.4097 - val_accuracy: 0.8568\n",
            "Epoch 28/40\n",
            "1500/1500 [==============================] - 1s 937us/step - loss: 0.4157 - accuracy: 0.8535 - val_loss: 0.4076 - val_accuracy: 0.8569\n",
            "Epoch 29/40\n",
            "1500/1500 [==============================] - 1s 926us/step - loss: 0.4130 - accuracy: 0.8541 - val_loss: 0.4065 - val_accuracy: 0.8570\n",
            "Epoch 30/40\n",
            "1500/1500 [==============================] - 1s 916us/step - loss: 0.4102 - accuracy: 0.8548 - val_loss: 0.4033 - val_accuracy: 0.8596\n",
            "Epoch 31/40\n",
            "1500/1500 [==============================] - 1s 915us/step - loss: 0.4080 - accuracy: 0.8559 - val_loss: 0.4019 - val_accuracy: 0.8590\n",
            "Epoch 32/40\n",
            "1500/1500 [==============================] - 1s 878us/step - loss: 0.4056 - accuracy: 0.8567 - val_loss: 0.4010 - val_accuracy: 0.8601\n",
            "Epoch 33/40\n",
            "1500/1500 [==============================] - 1s 923us/step - loss: 0.4034 - accuracy: 0.8571 - val_loss: 0.3983 - val_accuracy: 0.8597\n",
            "Epoch 34/40\n",
            "1500/1500 [==============================] - 1s 895us/step - loss: 0.4012 - accuracy: 0.8581 - val_loss: 0.3974 - val_accuracy: 0.8604\n",
            "Epoch 35/40\n",
            "1500/1500 [==============================] - 1s 914us/step - loss: 0.3991 - accuracy: 0.8584 - val_loss: 0.3965 - val_accuracy: 0.8602\n",
            "Epoch 36/40\n",
            "1500/1500 [==============================] - 1s 923us/step - loss: 0.3968 - accuracy: 0.8592 - val_loss: 0.3927 - val_accuracy: 0.8623\n",
            "Epoch 37/40\n",
            "1500/1500 [==============================] - 1s 931us/step - loss: 0.3951 - accuracy: 0.8600 - val_loss: 0.3909 - val_accuracy: 0.8639\n",
            "Epoch 38/40\n",
            "1500/1500 [==============================] - 1s 899us/step - loss: 0.3930 - accuracy: 0.8603 - val_loss: 0.3905 - val_accuracy: 0.8641\n",
            "Epoch 39/40\n",
            "1500/1500 [==============================] - 1s 930us/step - loss: 0.3911 - accuracy: 0.8616 - val_loss: 0.3884 - val_accuracy: 0.8622\n",
            "Epoch 40/40\n",
            "1500/1500 [==============================] - 1s 912us/step - loss: 0.3895 - accuracy: 0.8610 - val_loss: 0.3867 - val_accuracy: 0.8639\n"
          ],
          "name": "stdout"
        }
      ]
    },
    {
      "cell_type": "code",
      "metadata": {
        "id": "7sbVxYKH7sul",
        "outputId": "89c158ab-c9cc-4e3e-eefc-835d81bd2535"
      },
      "source": [
        "print(history.history.keys())"
      ],
      "execution_count": null,
      "outputs": [
        {
          "output_type": "stream",
          "text": [
            "dict_keys(['loss', 'accuracy', 'val_loss', 'val_accuracy'])\n"
          ],
          "name": "stdout"
        }
      ]
    },
    {
      "cell_type": "code",
      "metadata": {
        "scrolled": true,
        "id": "eUnCkv6H7sum",
        "outputId": "de58e00b-b7f1-4aae-e206-66e429b00bcd"
      },
      "source": [
        "plt.plot(history.history['loss'])\n",
        "plt.plot(history.history['val_loss'])\n",
        "plt.ylabel('loss')\n",
        "plt.xlabel('epoch')\n",
        "plt.legend(['train_loss', 'val_loss'])\n",
        "plt.show()"
      ],
      "execution_count": null,
      "outputs": [
        {
          "output_type": "display_data",
          "data": {
            "image/png": "[encoded data removed]",
            "text/plain": [
              "<Figure size 432x288 with 1 Axes>"
            ]
          },
          "metadata": {
            "tags": [],
            "needs_background": "light"
          }
        }
      ]
    },
    {
      "cell_type": "code",
      "metadata": {
        "scrolled": false,
        "id": "NzSlCe6J7sum",
        "outputId": "bd47e498-1fcb-4fe7-bb60-8f7b5ba806e1"
      },
      "source": [
        "plt.plot(history.history['accuracy'])\n",
        "plt.plot(history.history['val_accuracy'])\n",
        "plt.ylabel('accuracy')\n",
        "plt.xlabel('epoch')\n",
        "plt.legend(['train_accuracy', 'val_accuracy'])\n",
        "plt.show()"
      ],
      "execution_count": null,
      "outputs": [
        {
          "output_type": "display_data",
          "data": {
            "image/png": "[encoded data removed]",
            "text/plain": [
              "<Figure size 432x288 with 1 Axes>"
            ]
          },
          "metadata": {
            "tags": [],
            "needs_background": "light"
          }
        }
      ]
    },
    {
      "cell_type": "code",
      "metadata": {
        "id": "sjFjZk8T7sum"
      },
      "source": [
        "loss, accuracy = model.evaluate(x_val, y_val_encoded, verbose=0)"
      ],
      "execution_count": null,
      "outputs": []
    },
    {
      "cell_type": "code",
      "metadata": {
        "id": "HqEyD9Nj7sun",
        "outputId": "39eb0d3e-0f12-4f7c-a158-44c0e32e4266"
      },
      "source": [
        "print(accuracy)"
      ],
      "execution_count": null,
      "outputs": [
        {
          "output_type": "stream",
          "text": [
            "0.8639166951179504\n"
          ],
          "name": "stdout"
        }
      ]
    },
    {
      "cell_type": "markdown",
      "source": [
        ""
      ],
      "metadata": {
        "id": "Ak11Bn8XFZuD"
      }
    },
    {
      "cell_type": "markdown",
      "source": [
        "##MNIST"
      ],
      "metadata": {
        "id": "d53jVCoJxo6V"
      }
    },
    {
      "cell_type": "code",
      "source": [
        "import tensorflow as tf\n",
        "import tensorflow.keras.datasets as ds\n",
        "\n",
        "# MNIST 읽고 텐서 모양 출력\n",
        "(x_train, y_train),(x_test, y_test)=ds.mnist.load_data()\n",
        "yy_train=tf.one_hot(y_train,10,dtype=tf.int8) # 원핫 코드로 변환\n",
        "print(\"MNIST: \",x_train.shape,y_train.shape,yy_train.shape)\n",
        "\n",
        "# CIFAR-10 읽고 텐서 모양 출력\n",
        "(x_train,y_train),(x_test,y_test)=ds.cifar10.load_data()\n",
        "yy_train=tf.one_hot(y_train,10,dtype=tf.int8)\n",
        "print(\"CIFAR-10: \",x_train.shape,y_train.shape,yy_train.shape)\n",
        "\n",
        "# Boston Housing 읽고 텐서 모양 출력\n",
        "(x_train,y_train),(x_test,y_test)=ds.boston_housing.load_data()\n",
        "print(\"Boston Housing: \",x_train.shape,y_train.shape)\n",
        "\n",
        "# Reuters 읽고 텐서 모양 출력\n",
        "(x_train,y_train),(x_test,y_test)=ds.reuters.load_data()\n",
        "print(\"Reuters: \",x_train.shape,y_train.shape)"
      ],
      "metadata": {
        "id": "PXjZu-9uxtEu",
        "colab": {
          "base_uri": "https://localhost:8080/"
        },
        "outputId": "e5c88e8d-74f4-4e71-8e4c-74db5692a8a8"
      },
      "execution_count": null,
      "outputs": [
        {
          "output_type": "stream",
          "name": "stdout",
          "text": [
            "Downloading data from https://storage.googleapis.com/tensorflow/tf-keras-datasets/mnist.npz\n",
            "11493376/11490434 [==============================] - 0s 0us/step\n",
            "11501568/11490434 [==============================] - 0s 0us/step\n",
            "MNIST:  (60000, 28, 28) (60000,) (60000, 10)\n",
            "Downloading data from https://www.cs.toronto.edu/~kriz/cifar-10-python.tar.gz\n",
            "170500096/170498071 [==============================] - 11s 0us/step\n",
            "170508288/170498071 [==============================] - 11s 0us/step\n",
            "CIFAR-10:  (50000, 32, 32, 3) (50000, 1) (50000, 1, 10)\n",
            "Downloading data from https://storage.googleapis.com/tensorflow/tf-keras-datasets/boston_housing.npz\n",
            "57344/57026 [==============================] - 0s 0us/step\n",
            "65536/57026 [==================================] - 0s 0us/step\n",
            "Boston Housing:  (404, 13) (404,)\n",
            "Downloading data from https://storage.googleapis.com/tensorflow/tf-keras-datasets/reuters.npz\n",
            "2113536/2110848 [==============================] - 0s 0us/step\n",
            "2121728/2110848 [==============================] - 0s 0us/step\n",
            "Reuters:  (8982,) (8982,)\n"
          ]
        }
      ]
    },
    {
      "cell_type": "code",
      "source": [
        "import tensorflow as tf\n",
        "\n",
        "# OR 데이터 구축\n",
        "x=[[0.0,0.0],[0.0,1.0],[1.0,0.0],[1.0,1.0]]\n",
        "y=[[-1],[1],[1],[1]]\n",
        "\n",
        "# 퍼셉트론\n",
        "w=tf.Variable([[1.0],[1.0]])\n",
        "b=tf.Variable(-0.5)\n",
        "\n",
        "# 퍼셉트론 동작\n",
        "s=tf.add(tf.matmul(x,w),b)\n",
        "o=tf.sign(s)\n",
        "\n",
        "print(o)"
      ],
      "metadata": {
        "id": "dJlDLZucx8RJ",
        "colab": {
          "base_uri": "https://localhost:8080/"
        },
        "outputId": "492e6233-bda7-4fbc-aa3a-3011e0a961e8"
      },
      "execution_count": null,
      "outputs": [
        {
          "output_type": "stream",
          "name": "stdout",
          "text": [
            "tf.Tensor(\n",
            "[[-1.]\n",
            " [ 1.]\n",
            " [ 1.]\n",
            " [ 1.]], shape=(4, 1), dtype=float32)\n"
          ]
        }
      ]
    },
    {
      "cell_type": "markdown",
      "source": [
        "##케라스"
      ],
      "metadata": {
        "id": "yrGrB3X8xaBO"
      }
    },
    {
      "cell_type": "code",
      "source": [
        "import tensorflow as tf\n",
        "\n",
        "# OR 데이터 구축\n",
        "x=[[0.0,0.0],[0.0,1.0],[1.0,0.0],[1.0,1.0]]\n",
        "y=[[-1],[1],[1],[1]]\n",
        "\n",
        "# 가중치 초기화\n",
        "w=tf.Variable(tf.random.uniform([2,1],-0.5,0.5))\n",
        "b=tf.Variable(tf.zeros([1]))\n",
        "\n",
        "# 옵티마이저\n",
        "opt=tf.keras.optimizers.SGD(learning_rate=0.1)\n",
        "\n",
        "# 전방 계산(식 (4.3))\n",
        "def forward():\n",
        "    s=tf.add(tf.matmul(x,w),b)\n",
        "    o=tf.tanh(s)\n",
        "    return o\n",
        "\n",
        "# 손실 함수 정의\n",
        "def loss():\n",
        "    o=forward()\n",
        "    return tf.reduce_mean((y-o)**2)\n",
        "\n",
        "# 500세대까지 학습(100세대마다 학습 정보 출력)\n",
        "for i in range(500):\n",
        "    opt.minimize(loss, var_list=[w,b])\n",
        "    if(i%100==0): print('loss at epoch',i,'=',loss().numpy())\n",
        "\n",
        "# 학습된 퍼셉트론으로 OR 데이터를 예측\n",
        "o=forward()\n",
        "print(o)"
      ],
      "metadata": {
        "id": "XKEip6EExa-O",
        "colab": {
          "base_uri": "https://localhost:8080/"
        },
        "outputId": "1afc8bb9-eb64-4edc-e515-1d0ee7979d14"
      },
      "execution_count": null,
      "outputs": [
        {
          "output_type": "stream",
          "name": "stdout",
          "text": [
            "loss at epoch 0 = 1.0983644\n",
            "loss at epoch 100 = 0.09745121\n",
            "loss at epoch 200 = 0.043692663\n",
            "loss at epoch 300 = 0.027170863\n",
            "loss at epoch 400 = 0.019460421\n",
            "tf.Tensor(\n",
            "[[-0.8150341 ]\n",
            " [ 0.8855909 ]\n",
            " [ 0.88559234]\n",
            " [ 0.99925   ]], shape=(4, 1), dtype=float32)\n"
          ]
        }
      ]
    },
    {
      "cell_type": "code",
      "source": [
        "from tensorflow.keras.models import Sequential\n",
        "from tensorflow.keras.layers import Dense\n",
        "from tensorflow.keras.optimizers import SGD\n",
        "\n",
        "# OR 데이터 구축\n",
        "x=[[0.0,0.0],[0.0,1.0],[1.0,0.0],[1.0,1.0]]\n",
        "y=[[-1],[1],[1],[1]]\n",
        "\n",
        "n_input=2\n",
        "n_output=1\n",
        "\n",
        "perceptron=Sequential()\n",
        "perceptron.add(Dense(units=n_output,activation='tanh',input_shape=(n_input,),kernel_initializer='random_uniform',bias_initializer='zeros'))\n",
        "\n",
        "perceptron.compile(loss='mse',optimizer=SGD(learning_rate=0.1),metrics=['mse'])\n",
        "perceptron.fit(x,y,epochs=500,verbose=2)\n",
        "\n",
        "res=perceptron.predict(x)\n",
        "print(res)"
      ],
      "metadata": {
        "id": "oemleuXYyJrf",
        "colab": {
          "base_uri": "https://localhost:8080/"
        },
        "outputId": "da047e45-1df2-4beb-c6dd-598c401847ef"
      },
      "execution_count": null,
      "outputs": [
        {
          "output_type": "stream",
          "name": "stdout",
          "text": [
            "Epoch 1/500\n",
            "1/1 - 1s - loss: 0.9804 - mse: 0.9804 - 593ms/epoch - 593ms/step\n",
            "Epoch 2/500\n",
            "1/1 - 0s - loss: 0.7398 - mse: 0.7398 - 9ms/epoch - 9ms/step\n",
            "Epoch 3/500\n",
            "1/1 - 0s - loss: 0.6345 - mse: 0.6345 - 9ms/epoch - 9ms/step\n",
            "Epoch 4/500\n",
            "1/1 - 0s - loss: 0.5823 - mse: 0.5823 - 9ms/epoch - 9ms/step\n",
            "Epoch 5/500\n",
            "1/1 - 0s - loss: 0.5505 - mse: 0.5505 - 13ms/epoch - 13ms/step\n",
            "Epoch 6/500\n",
            "1/1 - 0s - loss: 0.5276 - mse: 0.5276 - 9ms/epoch - 9ms/step\n",
            "Epoch 7/500\n",
            "1/1 - 0s - loss: 0.5090 - mse: 0.5090 - 10ms/epoch - 10ms/step\n",
            "Epoch 8/500\n",
            "1/1 - 0s - loss: 0.4929 - mse: 0.4929 - 9ms/epoch - 9ms/step\n",
            "Epoch 9/500\n",
            "1/1 - 0s - loss: 0.4782 - mse: 0.4782 - 9ms/epoch - 9ms/step\n",
            "Epoch 10/500\n",
            "1/1 - 0s - loss: 0.4645 - mse: 0.4645 - 12ms/epoch - 12ms/step\n",
            "Epoch 11/500\n",
            "1/1 - 0s - loss: 0.4515 - mse: 0.4515 - 10ms/epoch - 10ms/step\n",
            "Epoch 12/500\n",
            "1/1 - 0s - loss: 0.4391 - mse: 0.4391 - 9ms/epoch - 9ms/step\n",
            "Epoch 13/500\n",
            "1/1 - 0s - loss: 0.4272 - mse: 0.4272 - 10ms/epoch - 10ms/step\n",
            "Epoch 14/500\n",
            "1/1 - 0s - loss: 0.4157 - mse: 0.4157 - 8ms/epoch - 8ms/step\n",
            "Epoch 15/500\n",
            "1/1 - 0s - loss: 0.4047 - mse: 0.4047 - 9ms/epoch - 9ms/step\n",
            "Epoch 16/500\n",
            "1/1 - 0s - loss: 0.3940 - mse: 0.3940 - 10ms/epoch - 10ms/step\n",
            "Epoch 17/500\n",
            "1/1 - 0s - loss: 0.3837 - mse: 0.3837 - 8ms/epoch - 8ms/step\n",
            "Epoch 18/500\n",
            "1/1 - 0s - loss: 0.3737 - mse: 0.3737 - 9ms/epoch - 9ms/step\n",
            "Epoch 19/500\n",
            "1/1 - 0s - loss: 0.3641 - mse: 0.3641 - 8ms/epoch - 8ms/step\n",
            "Epoch 20/500\n",
            "1/1 - 0s - loss: 0.3549 - mse: 0.3549 - 9ms/epoch - 9ms/step\n",
            "Epoch 21/500\n",
            "1/1 - 0s - loss: 0.3460 - mse: 0.3460 - 11ms/epoch - 11ms/step\n",
            "Epoch 22/500\n",
            "1/1 - 0s - loss: 0.3374 - mse: 0.3374 - 10ms/epoch - 10ms/step\n",
            "Epoch 23/500\n",
            "1/1 - 0s - loss: 0.3291 - mse: 0.3291 - 9ms/epoch - 9ms/step\n",
            "Epoch 24/500\n",
            "1/1 - 0s - loss: 0.3211 - mse: 0.3211 - 11ms/epoch - 11ms/step\n",
            "Epoch 25/500\n",
            "1/1 - 0s - loss: 0.3134 - mse: 0.3134 - 8ms/epoch - 8ms/step\n",
            "Epoch 26/500\n",
            "1/1 - 0s - loss: 0.3059 - mse: 0.3059 - 9ms/epoch - 9ms/step\n",
            "Epoch 27/500\n",
            "1/1 - 0s - loss: 0.2988 - mse: 0.2988 - 8ms/epoch - 8ms/step\n",
            "Epoch 28/500\n",
            "1/1 - 0s - loss: 0.2919 - mse: 0.2919 - 18ms/epoch - 18ms/step\n",
            "Epoch 29/500\n",
            "1/1 - 0s - loss: 0.2852 - mse: 0.2852 - 8ms/epoch - 8ms/step\n",
            "Epoch 30/500\n",
            "1/1 - 0s - loss: 0.2788 - mse: 0.2788 - 10ms/epoch - 10ms/step\n",
            "Epoch 31/500\n",
            "1/1 - 0s - loss: 0.2726 - mse: 0.2726 - 9ms/epoch - 9ms/step\n",
            "Epoch 32/500\n",
            "1/1 - 0s - loss: 0.2666 - mse: 0.2666 - 9ms/epoch - 9ms/step\n",
            "Epoch 33/500\n",
            "1/1 - 0s - loss: 0.2608 - mse: 0.2608 - 8ms/epoch - 8ms/step\n",
            "Epoch 34/500\n",
            "1/1 - 0s - loss: 0.2552 - mse: 0.2552 - 10ms/epoch - 10ms/step\n",
            "Epoch 35/500\n",
            "1/1 - 0s - loss: 0.2498 - mse: 0.2498 - 8ms/epoch - 8ms/step\n",
            "Epoch 36/500\n",
            "1/1 - 0s - loss: 0.2446 - mse: 0.2446 - 9ms/epoch - 9ms/step\n",
            "Epoch 37/500\n",
            "1/1 - 0s - loss: 0.2395 - mse: 0.2395 - 9ms/epoch - 9ms/step\n",
            "Epoch 38/500\n",
            "1/1 - 0s - loss: 0.2346 - mse: 0.2346 - 9ms/epoch - 9ms/step\n",
            "Epoch 39/500\n",
            "1/1 - 0s - loss: 0.2299 - mse: 0.2299 - 9ms/epoch - 9ms/step\n",
            "Epoch 40/500\n",
            "1/1 - 0s - loss: 0.2253 - mse: 0.2253 - 10ms/epoch - 10ms/step\n",
            "Epoch 41/500\n",
            "1/1 - 0s - loss: 0.2209 - mse: 0.2209 - 9ms/epoch - 9ms/step\n",
            "Epoch 42/500\n",
            "1/1 - 0s - loss: 0.2166 - mse: 0.2166 - 9ms/epoch - 9ms/step\n",
            "Epoch 43/500\n",
            "1/1 - 0s - loss: 0.2124 - mse: 0.2124 - 10ms/epoch - 10ms/step\n",
            "Epoch 44/500\n",
            "1/1 - 0s - loss: 0.2084 - mse: 0.2084 - 9ms/epoch - 9ms/step\n",
            "Epoch 45/500\n",
            "1/1 - 0s - loss: 0.2045 - mse: 0.2045 - 8ms/epoch - 8ms/step\n",
            "Epoch 46/500\n",
            "1/1 - 0s - loss: 0.2007 - mse: 0.2007 - 8ms/epoch - 8ms/step\n",
            "Epoch 47/500\n",
            "1/1 - 0s - loss: 0.1970 - mse: 0.1970 - 14ms/epoch - 14ms/step\n",
            "Epoch 48/500\n",
            "1/1 - 0s - loss: 0.1935 - mse: 0.1935 - 15ms/epoch - 15ms/step\n",
            "Epoch 49/500\n",
            "1/1 - 0s - loss: 0.1900 - mse: 0.1900 - 8ms/epoch - 8ms/step\n",
            "Epoch 50/500\n",
            "1/1 - 0s - loss: 0.1867 - mse: 0.1867 - 10ms/epoch - 10ms/step\n",
            "Epoch 51/500\n",
            "1/1 - 0s - loss: 0.1834 - mse: 0.1834 - 9ms/epoch - 9ms/step\n",
            "Epoch 52/500\n",
            "1/1 - 0s - loss: 0.1802 - mse: 0.1802 - 9ms/epoch - 9ms/step\n",
            "Epoch 53/500\n",
            "1/1 - 0s - loss: 0.1771 - mse: 0.1771 - 10ms/epoch - 10ms/step\n",
            "Epoch 54/500\n",
            "1/1 - 0s - loss: 0.1741 - mse: 0.1741 - 9ms/epoch - 9ms/step\n",
            "Epoch 55/500\n",
            "1/1 - 0s - loss: 0.1712 - mse: 0.1712 - 9ms/epoch - 9ms/step\n",
            "Epoch 56/500\n",
            "1/1 - 0s - loss: 0.1684 - mse: 0.1684 - 8ms/epoch - 8ms/step\n",
            "Epoch 57/500\n",
            "1/1 - 0s - loss: 0.1657 - mse: 0.1657 - 9ms/epoch - 9ms/step\n",
            "Epoch 58/500\n",
            "1/1 - 0s - loss: 0.1630 - mse: 0.1630 - 10ms/epoch - 10ms/step\n",
            "Epoch 59/500\n",
            "1/1 - 0s - loss: 0.1604 - mse: 0.1604 - 8ms/epoch - 8ms/step\n",
            "Epoch 60/500\n",
            "1/1 - 0s - loss: 0.1578 - mse: 0.1578 - 10ms/epoch - 10ms/step\n",
            "Epoch 61/500\n",
            "1/1 - 0s - loss: 0.1554 - mse: 0.1554 - 13ms/epoch - 13ms/step\n",
            "Epoch 62/500\n",
            "1/1 - 0s - loss: 0.1530 - mse: 0.1530 - 11ms/epoch - 11ms/step\n",
            "Epoch 63/500\n",
            "1/1 - 0s - loss: 0.1506 - mse: 0.1506 - 9ms/epoch - 9ms/step\n",
            "Epoch 64/500\n",
            "1/1 - 0s - loss: 0.1483 - mse: 0.1483 - 9ms/epoch - 9ms/step\n",
            "Epoch 65/500\n",
            "1/1 - 0s - loss: 0.1461 - mse: 0.1461 - 9ms/epoch - 9ms/step\n",
            "Epoch 66/500\n",
            "1/1 - 0s - loss: 0.1439 - mse: 0.1439 - 12ms/epoch - 12ms/step\n",
            "Epoch 67/500\n",
            "1/1 - 0s - loss: 0.1418 - mse: 0.1418 - 15ms/epoch - 15ms/step\n",
            "Epoch 68/500\n",
            "1/1 - 0s - loss: 0.1397 - mse: 0.1397 - 9ms/epoch - 9ms/step\n",
            "Epoch 69/500\n",
            "1/1 - 0s - loss: 0.1377 - mse: 0.1377 - 7ms/epoch - 7ms/step\n",
            "Epoch 70/500\n",
            "1/1 - 0s - loss: 0.1358 - mse: 0.1358 - 9ms/epoch - 9ms/step\n",
            "Epoch 71/500\n",
            "1/1 - 0s - loss: 0.1339 - mse: 0.1339 - 10ms/epoch - 10ms/step\n",
            "Epoch 72/500\n",
            "1/1 - 0s - loss: 0.1320 - mse: 0.1320 - 11ms/epoch - 11ms/step\n",
            "Epoch 73/500\n",
            "1/1 - 0s - loss: 0.1302 - mse: 0.1302 - 12ms/epoch - 12ms/step\n",
            "Epoch 74/500\n",
            "1/1 - 0s - loss: 0.1284 - mse: 0.1284 - 13ms/epoch - 13ms/step\n",
            "Epoch 75/500\n",
            "1/1 - 0s - loss: 0.1266 - mse: 0.1266 - 10ms/epoch - 10ms/step\n",
            "Epoch 76/500\n",
            "1/1 - 0s - loss: 0.1249 - mse: 0.1249 - 12ms/epoch - 12ms/step\n",
            "Epoch 77/500\n",
            "1/1 - 0s - loss: 0.1233 - mse: 0.1233 - 10ms/epoch - 10ms/step\n",
            "Epoch 78/500\n",
            "1/1 - 0s - loss: 0.1216 - mse: 0.1216 - 9ms/epoch - 9ms/step\n",
            "Epoch 79/500\n",
            "1/1 - 0s - loss: 0.1200 - mse: 0.1200 - 9ms/epoch - 9ms/step\n",
            "Epoch 80/500\n",
            "1/1 - 0s - loss: 0.1185 - mse: 0.1185 - 8ms/epoch - 8ms/step\n",
            "Epoch 81/500\n",
            "1/1 - 0s - loss: 0.1170 - mse: 0.1170 - 7ms/epoch - 7ms/step\n",
            "Epoch 82/500\n",
            "1/1 - 0s - loss: 0.1155 - mse: 0.1155 - 9ms/epoch - 9ms/step\n",
            "Epoch 83/500\n",
            "1/1 - 0s - loss: 0.1140 - mse: 0.1140 - 10ms/epoch - 10ms/step\n",
            "Epoch 84/500\n",
            "1/1 - 0s - loss: 0.1126 - mse: 0.1126 - 12ms/epoch - 12ms/step\n",
            "Epoch 85/500\n",
            "1/1 - 0s - loss: 0.1112 - mse: 0.1112 - 9ms/epoch - 9ms/step\n",
            "Epoch 86/500\n",
            "1/1 - 0s - loss: 0.1099 - mse: 0.1099 - 8ms/epoch - 8ms/step\n",
            "Epoch 87/500\n",
            "1/1 - 0s - loss: 0.1085 - mse: 0.1085 - 11ms/epoch - 11ms/step\n",
            "Epoch 88/500\n",
            "1/1 - 0s - loss: 0.1072 - mse: 0.1072 - 8ms/epoch - 8ms/step\n",
            "Epoch 89/500\n",
            "1/1 - 0s - loss: 0.1059 - mse: 0.1059 - 11ms/epoch - 11ms/step\n",
            "Epoch 90/500\n",
            "1/1 - 0s - loss: 0.1047 - mse: 0.1047 - 12ms/epoch - 12ms/step\n",
            "Epoch 91/500\n",
            "1/1 - 0s - loss: 0.1035 - mse: 0.1035 - 9ms/epoch - 9ms/step\n",
            "Epoch 92/500\n",
            "1/1 - 0s - loss: 0.1023 - mse: 0.1023 - 9ms/epoch - 9ms/step\n",
            "Epoch 93/500\n",
            "1/1 - 0s - loss: 0.1011 - mse: 0.1011 - 10ms/epoch - 10ms/step\n",
            "Epoch 94/500\n",
            "1/1 - 0s - loss: 0.0999 - mse: 0.0999 - 10ms/epoch - 10ms/step\n",
            "Epoch 95/500\n",
            "1/1 - 0s - loss: 0.0988 - mse: 0.0988 - 9ms/epoch - 9ms/step\n",
            "Epoch 96/500\n",
            "1/1 - 0s - loss: 0.0977 - mse: 0.0977 - 9ms/epoch - 9ms/step\n",
            "Epoch 97/500\n",
            "1/1 - 0s - loss: 0.0966 - mse: 0.0966 - 12ms/epoch - 12ms/step\n",
            "Epoch 98/500\n",
            "1/1 - 0s - loss: 0.0955 - mse: 0.0955 - 8ms/epoch - 8ms/step\n",
            "Epoch 99/500\n",
            "1/1 - 0s - loss: 0.0945 - mse: 0.0945 - 8ms/epoch - 8ms/step\n",
            "Epoch 100/500\n",
            "1/1 - 0s - loss: 0.0935 - mse: 0.0935 - 8ms/epoch - 8ms/step\n",
            "Epoch 101/500\n",
            "1/1 - 0s - loss: 0.0925 - mse: 0.0925 - 8ms/epoch - 8ms/step\n",
            "Epoch 102/500\n",
            "1/1 - 0s - loss: 0.0915 - mse: 0.0915 - 10ms/epoch - 10ms/step\n",
            "Epoch 103/500\n",
            "1/1 - 0s - loss: 0.0905 - mse: 0.0905 - 12ms/epoch - 12ms/step\n",
            "Epoch 104/500\n",
            "1/1 - 0s - loss: 0.0896 - mse: 0.0896 - 10ms/epoch - 10ms/step\n",
            "Epoch 105/500\n",
            "1/1 - 0s - loss: 0.0886 - mse: 0.0886 - 9ms/epoch - 9ms/step\n",
            "Epoch 106/500\n",
            "1/1 - 0s - loss: 0.0877 - mse: 0.0877 - 10ms/epoch - 10ms/step\n",
            "Epoch 107/500\n",
            "1/1 - 0s - loss: 0.0868 - mse: 0.0868 - 9ms/epoch - 9ms/step\n",
            "Epoch 108/500\n",
            "1/1 - 0s - loss: 0.0859 - mse: 0.0859 - 10ms/epoch - 10ms/step\n",
            "Epoch 109/500\n",
            "1/1 - 0s - loss: 0.0851 - mse: 0.0851 - 9ms/epoch - 9ms/step\n",
            "Epoch 110/500\n",
            "1/1 - 0s - loss: 0.0842 - mse: 0.0842 - 9ms/epoch - 9ms/step\n",
            "Epoch 111/500\n",
            "1/1 - 0s - loss: 0.0834 - mse: 0.0834 - 10ms/epoch - 10ms/step\n",
            "Epoch 112/500\n",
            "1/1 - 0s - loss: 0.0826 - mse: 0.0826 - 9ms/epoch - 9ms/step\n",
            "Epoch 113/500\n",
            "1/1 - 0s - loss: 0.0817 - mse: 0.0817 - 10ms/epoch - 10ms/step\n",
            "Epoch 114/500\n",
            "1/1 - 0s - loss: 0.0810 - mse: 0.0810 - 9ms/epoch - 9ms/step\n",
            "Epoch 115/500\n",
            "1/1 - 0s - loss: 0.0802 - mse: 0.0802 - 8ms/epoch - 8ms/step\n",
            "Epoch 116/500\n",
            "1/1 - 0s - loss: 0.0794 - mse: 0.0794 - 8ms/epoch - 8ms/step\n",
            "Epoch 117/500\n",
            "1/1 - 0s - loss: 0.0787 - mse: 0.0787 - 10ms/epoch - 10ms/step\n",
            "Epoch 118/500\n",
            "1/1 - 0s - loss: 0.0779 - mse: 0.0779 - 9ms/epoch - 9ms/step\n",
            "Epoch 119/500\n",
            "1/1 - 0s - loss: 0.0772 - mse: 0.0772 - 12ms/epoch - 12ms/step\n",
            "Epoch 120/500\n",
            "1/1 - 0s - loss: 0.0765 - mse: 0.0765 - 7ms/epoch - 7ms/step\n",
            "Epoch 121/500\n",
            "1/1 - 0s - loss: 0.0758 - mse: 0.0758 - 9ms/epoch - 9ms/step\n",
            "Epoch 122/500\n",
            "1/1 - 0s - loss: 0.0751 - mse: 0.0751 - 9ms/epoch - 9ms/step\n",
            "Epoch 123/500\n",
            "1/1 - 0s - loss: 0.0744 - mse: 0.0744 - 9ms/epoch - 9ms/step\n",
            "Epoch 124/500\n",
            "1/1 - 0s - loss: 0.0737 - mse: 0.0737 - 9ms/epoch - 9ms/step\n",
            "Epoch 125/500\n",
            "1/1 - 0s - loss: 0.0731 - mse: 0.0731 - 8ms/epoch - 8ms/step\n",
            "Epoch 126/500\n",
            "1/1 - 0s - loss: 0.0724 - mse: 0.0724 - 9ms/epoch - 9ms/step\n",
            "Epoch 127/500\n",
            "1/1 - 0s - loss: 0.0718 - mse: 0.0718 - 12ms/epoch - 12ms/step\n",
            "Epoch 128/500\n",
            "1/1 - 0s - loss: 0.0711 - mse: 0.0711 - 9ms/epoch - 9ms/step\n",
            "Epoch 129/500\n",
            "1/1 - 0s - loss: 0.0705 - mse: 0.0705 - 10ms/epoch - 10ms/step\n",
            "Epoch 130/500\n",
            "1/1 - 0s - loss: 0.0699 - mse: 0.0699 - 9ms/epoch - 9ms/step\n",
            "Epoch 131/500\n",
            "1/1 - 0s - loss: 0.0693 - mse: 0.0693 - 7ms/epoch - 7ms/step\n",
            "Epoch 132/500\n",
            "1/1 - 0s - loss: 0.0687 - mse: 0.0687 - 7ms/epoch - 7ms/step\n",
            "Epoch 133/500\n",
            "1/1 - 0s - loss: 0.0681 - mse: 0.0681 - 8ms/epoch - 8ms/step\n",
            "Epoch 134/500\n",
            "1/1 - 0s - loss: 0.0676 - mse: 0.0676 - 9ms/epoch - 9ms/step\n",
            "Epoch 135/500\n",
            "1/1 - 0s - loss: 0.0670 - mse: 0.0670 - 8ms/epoch - 8ms/step\n",
            "Epoch 136/500\n",
            "1/1 - 0s - loss: 0.0664 - mse: 0.0664 - 8ms/epoch - 8ms/step\n",
            "Epoch 137/500\n",
            "1/1 - 0s - loss: 0.0659 - mse: 0.0659 - 10ms/epoch - 10ms/step\n",
            "Epoch 138/500\n",
            "1/1 - 0s - loss: 0.0654 - mse: 0.0654 - 13ms/epoch - 13ms/step\n",
            "Epoch 139/500\n",
            "1/1 - 0s - loss: 0.0648 - mse: 0.0648 - 9ms/epoch - 9ms/step\n",
            "Epoch 140/500\n",
            "1/1 - 0s - loss: 0.0643 - mse: 0.0643 - 7ms/epoch - 7ms/step\n",
            "Epoch 141/500\n",
            "1/1 - 0s - loss: 0.0638 - mse: 0.0638 - 8ms/epoch - 8ms/step\n",
            "Epoch 142/500\n",
            "1/1 - 0s - loss: 0.0633 - mse: 0.0633 - 8ms/epoch - 8ms/step\n",
            "Epoch 143/500\n",
            "1/1 - 0s - loss: 0.0628 - mse: 0.0628 - 11ms/epoch - 11ms/step\n",
            "Epoch 144/500\n",
            "1/1 - 0s - loss: 0.0623 - mse: 0.0623 - 10ms/epoch - 10ms/step\n",
            "Epoch 145/500\n",
            "1/1 - 0s - loss: 0.0618 - mse: 0.0618 - 9ms/epoch - 9ms/step\n",
            "Epoch 146/500\n",
            "1/1 - 0s - loss: 0.0613 - mse: 0.0613 - 11ms/epoch - 11ms/step\n",
            "Epoch 147/500\n",
            "1/1 - 0s - loss: 0.0608 - mse: 0.0608 - 8ms/epoch - 8ms/step\n",
            "Epoch 148/500\n",
            "1/1 - 0s - loss: 0.0604 - mse: 0.0604 - 9ms/epoch - 9ms/step\n",
            "Epoch 149/500\n",
            "1/1 - 0s - loss: 0.0599 - mse: 0.0599 - 10ms/epoch - 10ms/step\n",
            "Epoch 150/500\n",
            "1/1 - 0s - loss: 0.0594 - mse: 0.0594 - 10ms/epoch - 10ms/step\n",
            "Epoch 151/500\n",
            "1/1 - 0s - loss: 0.0590 - mse: 0.0590 - 9ms/epoch - 9ms/step\n",
            "Epoch 152/500\n",
            "1/1 - 0s - loss: 0.0586 - mse: 0.0586 - 9ms/epoch - 9ms/step\n",
            "Epoch 153/500\n",
            "1/1 - 0s - loss: 0.0581 - mse: 0.0581 - 9ms/epoch - 9ms/step\n",
            "Epoch 154/500\n",
            "1/1 - 0s - loss: 0.0577 - mse: 0.0577 - 11ms/epoch - 11ms/step\n",
            "Epoch 155/500\n",
            "1/1 - 0s - loss: 0.0573 - mse: 0.0573 - 9ms/epoch - 9ms/step\n",
            "Epoch 156/500\n",
            "1/1 - 0s - loss: 0.0569 - mse: 0.0569 - 18ms/epoch - 18ms/step\n",
            "Epoch 157/500\n",
            "1/1 - 0s - loss: 0.0564 - mse: 0.0564 - 10ms/epoch - 10ms/step\n",
            "Epoch 158/500\n",
            "1/1 - 0s - loss: 0.0560 - mse: 0.0560 - 9ms/epoch - 9ms/step\n",
            "Epoch 159/500\n",
            "1/1 - 0s - loss: 0.0556 - mse: 0.0556 - 11ms/epoch - 11ms/step\n",
            "Epoch 160/500\n",
            "1/1 - 0s - loss: 0.0552 - mse: 0.0552 - 8ms/epoch - 8ms/step\n",
            "Epoch 161/500\n",
            "1/1 - 0s - loss: 0.0548 - mse: 0.0548 - 10ms/epoch - 10ms/step\n",
            "Epoch 162/500\n",
            "1/1 - 0s - loss: 0.0545 - mse: 0.0545 - 10ms/epoch - 10ms/step\n",
            "Epoch 163/500\n",
            "1/1 - 0s - loss: 0.0541 - mse: 0.0541 - 8ms/epoch - 8ms/step\n",
            "Epoch 164/500\n",
            "1/1 - 0s - loss: 0.0537 - mse: 0.0537 - 8ms/epoch - 8ms/step\n",
            "Epoch 165/500\n",
            "1/1 - 0s - loss: 0.0533 - mse: 0.0533 - 9ms/epoch - 9ms/step\n",
            "Epoch 166/500\n",
            "1/1 - 0s - loss: 0.0530 - mse: 0.0530 - 9ms/epoch - 9ms/step\n",
            "Epoch 167/500\n",
            "1/1 - 0s - loss: 0.0526 - mse: 0.0526 - 11ms/epoch - 11ms/step\n",
            "Epoch 168/500\n",
            "1/1 - 0s - loss: 0.0522 - mse: 0.0522 - 14ms/epoch - 14ms/step\n",
            "Epoch 169/500\n",
            "1/1 - 0s - loss: 0.0519 - mse: 0.0519 - 10ms/epoch - 10ms/step\n",
            "Epoch 170/500\n",
            "1/1 - 0s - loss: 0.0515 - mse: 0.0515 - 11ms/epoch - 11ms/step\n",
            "Epoch 171/500\n",
            "1/1 - 0s - loss: 0.0512 - mse: 0.0512 - 15ms/epoch - 15ms/step\n",
            "Epoch 172/500\n",
            "1/1 - 0s - loss: 0.0508 - mse: 0.0508 - 9ms/epoch - 9ms/step\n",
            "Epoch 173/500\n",
            "1/1 - 0s - loss: 0.0505 - mse: 0.0505 - 12ms/epoch - 12ms/step\n",
            "Epoch 174/500\n",
            "1/1 - 0s - loss: 0.0502 - mse: 0.0502 - 8ms/epoch - 8ms/step\n",
            "Epoch 175/500\n",
            "1/1 - 0s - loss: 0.0498 - mse: 0.0498 - 9ms/epoch - 9ms/step\n",
            "Epoch 176/500\n",
            "1/1 - 0s - loss: 0.0495 - mse: 0.0495 - 9ms/epoch - 9ms/step\n",
            "Epoch 177/500\n",
            "1/1 - 0s - loss: 0.0492 - mse: 0.0492 - 10ms/epoch - 10ms/step\n",
            "Epoch 178/500\n",
            "1/1 - 0s - loss: 0.0489 - mse: 0.0489 - 10ms/epoch - 10ms/step\n",
            "Epoch 179/500\n",
            "1/1 - 0s - loss: 0.0486 - mse: 0.0486 - 9ms/epoch - 9ms/step\n",
            "Epoch 180/500\n",
            "1/1 - 0s - loss: 0.0483 - mse: 0.0483 - 7ms/epoch - 7ms/step\n",
            "Epoch 181/500\n",
            "1/1 - 0s - loss: 0.0479 - mse: 0.0479 - 9ms/epoch - 9ms/step\n",
            "Epoch 182/500\n",
            "1/1 - 0s - loss: 0.0476 - mse: 0.0476 - 9ms/epoch - 9ms/step\n",
            "Epoch 183/500\n",
            "1/1 - 0s - loss: 0.0473 - mse: 0.0473 - 9ms/epoch - 9ms/step\n",
            "Epoch 184/500\n",
            "1/1 - 0s - loss: 0.0471 - mse: 0.0471 - 9ms/epoch - 9ms/step\n",
            "Epoch 185/500\n",
            "1/1 - 0s - loss: 0.0468 - mse: 0.0468 - 10ms/epoch - 10ms/step\n",
            "Epoch 186/500\n",
            "1/1 - 0s - loss: 0.0465 - mse: 0.0465 - 10ms/epoch - 10ms/step\n",
            "Epoch 187/500\n",
            "1/1 - 0s - loss: 0.0462 - mse: 0.0462 - 10ms/epoch - 10ms/step\n",
            "Epoch 188/500\n",
            "1/1 - 0s - loss: 0.0459 - mse: 0.0459 - 10ms/epoch - 10ms/step\n",
            "Epoch 189/500\n",
            "1/1 - 0s - loss: 0.0456 - mse: 0.0456 - 10ms/epoch - 10ms/step\n",
            "Epoch 190/500\n",
            "1/1 - 0s - loss: 0.0453 - mse: 0.0453 - 8ms/epoch - 8ms/step\n",
            "Epoch 191/500\n",
            "1/1 - 0s - loss: 0.0451 - mse: 0.0451 - 10ms/epoch - 10ms/step\n",
            "Epoch 192/500\n",
            "1/1 - 0s - loss: 0.0448 - mse: 0.0448 - 11ms/epoch - 11ms/step\n",
            "Epoch 193/500\n",
            "1/1 - 0s - loss: 0.0445 - mse: 0.0445 - 10ms/epoch - 10ms/step\n",
            "Epoch 194/500\n",
            "1/1 - 0s - loss: 0.0443 - mse: 0.0443 - 9ms/epoch - 9ms/step\n",
            "Epoch 195/500\n",
            "1/1 - 0s - loss: 0.0440 - mse: 0.0440 - 9ms/epoch - 9ms/step\n",
            "Epoch 196/500\n",
            "1/1 - 0s - loss: 0.0438 - mse: 0.0438 - 9ms/epoch - 9ms/step\n",
            "Epoch 197/500\n",
            "1/1 - 0s - loss: 0.0435 - mse: 0.0435 - 8ms/epoch - 8ms/step\n",
            "Epoch 198/500\n",
            "1/1 - 0s - loss: 0.0432 - mse: 0.0432 - 11ms/epoch - 11ms/step\n",
            "Epoch 199/500\n",
            "1/1 - 0s - loss: 0.0430 - mse: 0.0430 - 10ms/epoch - 10ms/step\n",
            "Epoch 200/500\n",
            "1/1 - 0s - loss: 0.0427 - mse: 0.0427 - 9ms/epoch - 9ms/step\n",
            "Epoch 201/500\n",
            "1/1 - 0s - loss: 0.0425 - mse: 0.0425 - 11ms/epoch - 11ms/step\n",
            "Epoch 202/500\n",
            "1/1 - 0s - loss: 0.0423 - mse: 0.0423 - 9ms/epoch - 9ms/step\n",
            "Epoch 203/500\n",
            "1/1 - 0s - loss: 0.0420 - mse: 0.0420 - 14ms/epoch - 14ms/step\n",
            "Epoch 204/500\n",
            "1/1 - 0s - loss: 0.0418 - mse: 0.0418 - 10ms/epoch - 10ms/step\n",
            "Epoch 205/500\n",
            "1/1 - 0s - loss: 0.0415 - mse: 0.0415 - 10ms/epoch - 10ms/step\n",
            "Epoch 206/500\n",
            "1/1 - 0s - loss: 0.0413 - mse: 0.0413 - 9ms/epoch - 9ms/step\n",
            "Epoch 207/500\n",
            "1/1 - 0s - loss: 0.0411 - mse: 0.0411 - 11ms/epoch - 11ms/step\n",
            "Epoch 208/500\n",
            "1/1 - 0s - loss: 0.0409 - mse: 0.0409 - 10ms/epoch - 10ms/step\n",
            "Epoch 209/500\n",
            "1/1 - 0s - loss: 0.0406 - mse: 0.0406 - 9ms/epoch - 9ms/step\n",
            "Epoch 210/500\n",
            "1/1 - 0s - loss: 0.0404 - mse: 0.0404 - 9ms/epoch - 9ms/step\n",
            "Epoch 211/500\n",
            "1/1 - 0s - loss: 0.0402 - mse: 0.0402 - 8ms/epoch - 8ms/step\n",
            "Epoch 212/500\n",
            "1/1 - 0s - loss: 0.0400 - mse: 0.0400 - 7ms/epoch - 7ms/step\n",
            "Epoch 213/500\n",
            "1/1 - 0s - loss: 0.0397 - mse: 0.0397 - 9ms/epoch - 9ms/step\n",
            "Epoch 214/500\n",
            "1/1 - 0s - loss: 0.0395 - mse: 0.0395 - 10ms/epoch - 10ms/step\n",
            "Epoch 215/500\n",
            "1/1 - 0s - loss: 0.0393 - mse: 0.0393 - 11ms/epoch - 11ms/step\n",
            "Epoch 216/500\n",
            "1/1 - 0s - loss: 0.0391 - mse: 0.0391 - 11ms/epoch - 11ms/step\n",
            "Epoch 217/500\n",
            "1/1 - 0s - loss: 0.0389 - mse: 0.0389 - 10ms/epoch - 10ms/step\n",
            "Epoch 218/500\n",
            "1/1 - 0s - loss: 0.0387 - mse: 0.0387 - 9ms/epoch - 9ms/step\n",
            "Epoch 219/500\n",
            "1/1 - 0s - loss: 0.0385 - mse: 0.0385 - 10ms/epoch - 10ms/step\n",
            "Epoch 220/500\n",
            "1/1 - 0s - loss: 0.0383 - mse: 0.0383 - 7ms/epoch - 7ms/step\n",
            "Epoch 221/500\n",
            "1/1 - 0s - loss: 0.0381 - mse: 0.0381 - 9ms/epoch - 9ms/step\n",
            "Epoch 222/500\n",
            "1/1 - 0s - loss: 0.0379 - mse: 0.0379 - 10ms/epoch - 10ms/step\n",
            "Epoch 223/500\n",
            "1/1 - 0s - loss: 0.0377 - mse: 0.0377 - 10ms/epoch - 10ms/step\n",
            "Epoch 224/500\n",
            "1/1 - 0s - loss: 0.0375 - mse: 0.0375 - 10ms/epoch - 10ms/step\n",
            "Epoch 225/500\n",
            "1/1 - 0s - loss: 0.0373 - mse: 0.0373 - 9ms/epoch - 9ms/step\n",
            "Epoch 226/500\n",
            "1/1 - 0s - loss: 0.0371 - mse: 0.0371 - 9ms/epoch - 9ms/step\n",
            "Epoch 227/500\n",
            "1/1 - 0s - loss: 0.0369 - mse: 0.0369 - 7ms/epoch - 7ms/step\n",
            "Epoch 228/500\n",
            "1/1 - 0s - loss: 0.0367 - mse: 0.0367 - 15ms/epoch - 15ms/step\n",
            "Epoch 229/500\n",
            "1/1 - 0s - loss: 0.0366 - mse: 0.0366 - 10ms/epoch - 10ms/step\n",
            "Epoch 230/500\n",
            "1/1 - 0s - loss: 0.0364 - mse: 0.0364 - 12ms/epoch - 12ms/step\n",
            "Epoch 231/500\n",
            "1/1 - 0s - loss: 0.0362 - mse: 0.0362 - 12ms/epoch - 12ms/step\n",
            "Epoch 232/500\n",
            "1/1 - 0s - loss: 0.0360 - mse: 0.0360 - 10ms/epoch - 10ms/step\n",
            "Epoch 233/500\n",
            "1/1 - 0s - loss: 0.0358 - mse: 0.0358 - 9ms/epoch - 9ms/step\n",
            "Epoch 234/500\n",
            "1/1 - 0s - loss: 0.0357 - mse: 0.0357 - 9ms/epoch - 9ms/step\n",
            "Epoch 235/500\n",
            "1/1 - 0s - loss: 0.0355 - mse: 0.0355 - 7ms/epoch - 7ms/step\n",
            "Epoch 236/500\n",
            "1/1 - 0s - loss: 0.0353 - mse: 0.0353 - 9ms/epoch - 9ms/step\n",
            "Epoch 237/500\n",
            "1/1 - 0s - loss: 0.0351 - mse: 0.0351 - 8ms/epoch - 8ms/step\n",
            "Epoch 238/500\n",
            "1/1 - 0s - loss: 0.0350 - mse: 0.0350 - 7ms/epoch - 7ms/step\n",
            "Epoch 239/500\n",
            "1/1 - 0s - loss: 0.0348 - mse: 0.0348 - 8ms/epoch - 8ms/step\n",
            "Epoch 240/500\n",
            "1/1 - 0s - loss: 0.0346 - mse: 0.0346 - 7ms/epoch - 7ms/step\n",
            "Epoch 241/500\n",
            "1/1 - 0s - loss: 0.0345 - mse: 0.0345 - 7ms/epoch - 7ms/step\n",
            "Epoch 242/500\n",
            "1/1 - 0s - loss: 0.0343 - mse: 0.0343 - 9ms/epoch - 9ms/step\n",
            "Epoch 243/500\n",
            "1/1 - 0s - loss: 0.0341 - mse: 0.0341 - 9ms/epoch - 9ms/step\n",
            "Epoch 244/500\n",
            "1/1 - 0s - loss: 0.0340 - mse: 0.0340 - 10ms/epoch - 10ms/step\n",
            "Epoch 245/500\n",
            "1/1 - 0s - loss: 0.0338 - mse: 0.0338 - 10ms/epoch - 10ms/step\n",
            "Epoch 246/500\n",
            "1/1 - 0s - loss: 0.0337 - mse: 0.0337 - 9ms/epoch - 9ms/step\n",
            "Epoch 247/500\n",
            "1/1 - 0s - loss: 0.0335 - mse: 0.0335 - 6ms/epoch - 6ms/step\n",
            "Epoch 248/500\n",
            "1/1 - 0s - loss: 0.0333 - mse: 0.0333 - 7ms/epoch - 7ms/step\n",
            "Epoch 249/500\n",
            "1/1 - 0s - loss: 0.0332 - mse: 0.0332 - 10ms/epoch - 10ms/step\n",
            "Epoch 250/500\n",
            "1/1 - 0s - loss: 0.0330 - mse: 0.0330 - 9ms/epoch - 9ms/step\n",
            "Epoch 251/500\n",
            "1/1 - 0s - loss: 0.0329 - mse: 0.0329 - 11ms/epoch - 11ms/step\n",
            "Epoch 252/500\n",
            "1/1 - 0s - loss: 0.0327 - mse: 0.0327 - 10ms/epoch - 10ms/step\n",
            "Epoch 253/500\n",
            "1/1 - 0s - loss: 0.0326 - mse: 0.0326 - 9ms/epoch - 9ms/step\n",
            "Epoch 254/500\n",
            "1/1 - 0s - loss: 0.0324 - mse: 0.0324 - 9ms/epoch - 9ms/step\n",
            "Epoch 255/500\n",
            "1/1 - 0s - loss: 0.0323 - mse: 0.0323 - 11ms/epoch - 11ms/step\n",
            "Epoch 256/500\n",
            "1/1 - 0s - loss: 0.0321 - mse: 0.0321 - 10ms/epoch - 10ms/step\n",
            "Epoch 257/500\n",
            "1/1 - 0s - loss: 0.0320 - mse: 0.0320 - 8ms/epoch - 8ms/step\n",
            "Epoch 258/500\n",
            "1/1 - 0s - loss: 0.0319 - mse: 0.0319 - 10ms/epoch - 10ms/step\n",
            "Epoch 259/500\n",
            "1/1 - 0s - loss: 0.0317 - mse: 0.0317 - 10ms/epoch - 10ms/step\n",
            "Epoch 260/500\n",
            "1/1 - 0s - loss: 0.0316 - mse: 0.0316 - 10ms/epoch - 10ms/step\n",
            "Epoch 261/500\n",
            "1/1 - 0s - loss: 0.0314 - mse: 0.0314 - 9ms/epoch - 9ms/step\n",
            "Epoch 262/500\n",
            "1/1 - 0s - loss: 0.0313 - mse: 0.0313 - 8ms/epoch - 8ms/step\n",
            "Epoch 263/500\n",
            "1/1 - 0s - loss: 0.0312 - mse: 0.0312 - 10ms/epoch - 10ms/step\n",
            "Epoch 264/500\n",
            "1/1 - 0s - loss: 0.0310 - mse: 0.0310 - 10ms/epoch - 10ms/step\n",
            "Epoch 265/500\n",
            "1/1 - 0s - loss: 0.0309 - mse: 0.0309 - 11ms/epoch - 11ms/step\n",
            "Epoch 266/500\n",
            "1/1 - 0s - loss: 0.0308 - mse: 0.0308 - 9ms/epoch - 9ms/step\n",
            "Epoch 267/500\n",
            "1/1 - 0s - loss: 0.0306 - mse: 0.0306 - 8ms/epoch - 8ms/step\n",
            "Epoch 268/500\n",
            "1/1 - 0s - loss: 0.0305 - mse: 0.0305 - 9ms/epoch - 9ms/step\n",
            "Epoch 269/500\n",
            "1/1 - 0s - loss: 0.0304 - mse: 0.0304 - 9ms/epoch - 9ms/step\n",
            "Epoch 270/500\n",
            "1/1 - 0s - loss: 0.0302 - mse: 0.0302 - 8ms/epoch - 8ms/step\n",
            "Epoch 271/500\n",
            "1/1 - 0s - loss: 0.0301 - mse: 0.0301 - 8ms/epoch - 8ms/step\n",
            "Epoch 272/500\n",
            "1/1 - 0s - loss: 0.0300 - mse: 0.0300 - 10ms/epoch - 10ms/step\n",
            "Epoch 273/500\n",
            "1/1 - 0s - loss: 0.0299 - mse: 0.0299 - 9ms/epoch - 9ms/step\n",
            "Epoch 274/500\n",
            "1/1 - 0s - loss: 0.0297 - mse: 0.0297 - 12ms/epoch - 12ms/step\n",
            "Epoch 275/500\n",
            "1/1 - 0s - loss: 0.0296 - mse: 0.0296 - 10ms/epoch - 10ms/step\n",
            "Epoch 276/500\n",
            "1/1 - 0s - loss: 0.0295 - mse: 0.0295 - 10ms/epoch - 10ms/step\n",
            "Epoch 277/500\n",
            "1/1 - 0s - loss: 0.0294 - mse: 0.0294 - 8ms/epoch - 8ms/step\n",
            "Epoch 278/500\n",
            "1/1 - 0s - loss: 0.0292 - mse: 0.0292 - 9ms/epoch - 9ms/step\n",
            "Epoch 279/500\n",
            "1/1 - 0s - loss: 0.0291 - mse: 0.0291 - 7ms/epoch - 7ms/step\n",
            "Epoch 280/500\n",
            "1/1 - 0s - loss: 0.0290 - mse: 0.0290 - 10ms/epoch - 10ms/step\n",
            "Epoch 281/500\n",
            "1/1 - 0s - loss: 0.0289 - mse: 0.0289 - 18ms/epoch - 18ms/step\n",
            "Epoch 282/500\n",
            "1/1 - 0s - loss: 0.0288 - mse: 0.0288 - 9ms/epoch - 9ms/step\n",
            "Epoch 283/500\n",
            "1/1 - 0s - loss: 0.0286 - mse: 0.0286 - 9ms/epoch - 9ms/step\n",
            "Epoch 284/500\n",
            "1/1 - 0s - loss: 0.0285 - mse: 0.0285 - 8ms/epoch - 8ms/step\n",
            "Epoch 285/500\n",
            "1/1 - 0s - loss: 0.0284 - mse: 0.0284 - 7ms/epoch - 7ms/step\n",
            "Epoch 286/500\n",
            "1/1 - 0s - loss: 0.0283 - mse: 0.0283 - 11ms/epoch - 11ms/step\n",
            "Epoch 287/500\n",
            "1/1 - 0s - loss: 0.0282 - mse: 0.0282 - 7ms/epoch - 7ms/step\n",
            "Epoch 288/500\n",
            "1/1 - 0s - loss: 0.0281 - mse: 0.0281 - 9ms/epoch - 9ms/step\n",
            "Epoch 289/500\n",
            "1/1 - 0s - loss: 0.0280 - mse: 0.0280 - 8ms/epoch - 8ms/step\n",
            "Epoch 290/500\n",
            "1/1 - 0s - loss: 0.0278 - mse: 0.0278 - 9ms/epoch - 9ms/step\n",
            "Epoch 291/500\n",
            "1/1 - 0s - loss: 0.0277 - mse: 0.0277 - 10ms/epoch - 10ms/step\n",
            "Epoch 292/500\n",
            "1/1 - 0s - loss: 0.0276 - mse: 0.0276 - 8ms/epoch - 8ms/step\n",
            "Epoch 293/500\n",
            "1/1 - 0s - loss: 0.0275 - mse: 0.0275 - 6ms/epoch - 6ms/step\n",
            "Epoch 294/500\n",
            "1/1 - 0s - loss: 0.0274 - mse: 0.0274 - 9ms/epoch - 9ms/step\n",
            "Epoch 295/500\n",
            "1/1 - 0s - loss: 0.0273 - mse: 0.0273 - 9ms/epoch - 9ms/step\n",
            "Epoch 296/500\n",
            "1/1 - 0s - loss: 0.0272 - mse: 0.0272 - 9ms/epoch - 9ms/step\n",
            "Epoch 297/500\n",
            "1/1 - 0s - loss: 0.0271 - mse: 0.0271 - 10ms/epoch - 10ms/step\n",
            "Epoch 298/500\n",
            "1/1 - 0s - loss: 0.0270 - mse: 0.0270 - 9ms/epoch - 9ms/step\n",
            "Epoch 299/500\n",
            "1/1 - 0s - loss: 0.0269 - mse: 0.0269 - 9ms/epoch - 9ms/step\n",
            "Epoch 300/500\n",
            "1/1 - 0s - loss: 0.0268 - mse: 0.0268 - 9ms/epoch - 9ms/step\n",
            "Epoch 301/500\n",
            "1/1 - 0s - loss: 0.0267 - mse: 0.0267 - 10ms/epoch - 10ms/step\n",
            "Epoch 302/500\n",
            "1/1 - 0s - loss: 0.0266 - mse: 0.0266 - 9ms/epoch - 9ms/step\n",
            "Epoch 303/500\n",
            "1/1 - 0s - loss: 0.0265 - mse: 0.0265 - 9ms/epoch - 9ms/step\n",
            "Epoch 304/500\n",
            "1/1 - 0s - loss: 0.0264 - mse: 0.0264 - 12ms/epoch - 12ms/step\n",
            "Epoch 305/500\n",
            "1/1 - 0s - loss: 0.0263 - mse: 0.0263 - 10ms/epoch - 10ms/step\n",
            "Epoch 306/500\n",
            "1/1 - 0s - loss: 0.0262 - mse: 0.0262 - 9ms/epoch - 9ms/step\n",
            "Epoch 307/500\n",
            "1/1 - 0s - loss: 0.0261 - mse: 0.0261 - 8ms/epoch - 8ms/step\n",
            "Epoch 308/500\n",
            "1/1 - 0s - loss: 0.0260 - mse: 0.0260 - 7ms/epoch - 7ms/step\n",
            "Epoch 309/500\n",
            "1/1 - 0s - loss: 0.0259 - mse: 0.0259 - 11ms/epoch - 11ms/step\n",
            "Epoch 310/500\n",
            "1/1 - 0s - loss: 0.0258 - mse: 0.0258 - 10ms/epoch - 10ms/step\n",
            "Epoch 311/500\n",
            "1/1 - 0s - loss: 0.0257 - mse: 0.0257 - 8ms/epoch - 8ms/step\n",
            "Epoch 312/500\n",
            "1/1 - 0s - loss: 0.0256 - mse: 0.0256 - 8ms/epoch - 8ms/step\n",
            "Epoch 313/500\n",
            "1/1 - 0s - loss: 0.0255 - mse: 0.0255 - 8ms/epoch - 8ms/step\n",
            "Epoch 314/500\n",
            "1/1 - 0s - loss: 0.0254 - mse: 0.0254 - 11ms/epoch - 11ms/step\n",
            "Epoch 315/500\n",
            "1/1 - 0s - loss: 0.0253 - mse: 0.0253 - 10ms/epoch - 10ms/step\n",
            "Epoch 316/500\n",
            "1/1 - 0s - loss: 0.0252 - mse: 0.0252 - 8ms/epoch - 8ms/step\n",
            "Epoch 317/500\n",
            "1/1 - 0s - loss: 0.0251 - mse: 0.0251 - 7ms/epoch - 7ms/step\n",
            "Epoch 318/500\n",
            "1/1 - 0s - loss: 0.0250 - mse: 0.0250 - 8ms/epoch - 8ms/step\n",
            "Epoch 319/500\n",
            "1/1 - 0s - loss: 0.0250 - mse: 0.0250 - 10ms/epoch - 10ms/step\n",
            "Epoch 320/500\n",
            "1/1 - 0s - loss: 0.0249 - mse: 0.0249 - 11ms/epoch - 11ms/step\n",
            "Epoch 321/500\n",
            "1/1 - 0s - loss: 0.0248 - mse: 0.0248 - 8ms/epoch - 8ms/step\n",
            "Epoch 322/500\n",
            "1/1 - 0s - loss: 0.0247 - mse: 0.0247 - 9ms/epoch - 9ms/step\n",
            "Epoch 323/500\n",
            "1/1 - 0s - loss: 0.0246 - mse: 0.0246 - 8ms/epoch - 8ms/step\n",
            "Epoch 324/500\n",
            "1/1 - 0s - loss: 0.0245 - mse: 0.0245 - 6ms/epoch - 6ms/step\n",
            "Epoch 325/500\n",
            "1/1 - 0s - loss: 0.0244 - mse: 0.0244 - 11ms/epoch - 11ms/step\n",
            "Epoch 326/500\n",
            "1/1 - 0s - loss: 0.0243 - mse: 0.0243 - 9ms/epoch - 9ms/step\n",
            "Epoch 327/500\n",
            "1/1 - 0s - loss: 0.0243 - mse: 0.0243 - 9ms/epoch - 9ms/step\n",
            "Epoch 328/500\n",
            "1/1 - 0s - loss: 0.0242 - mse: 0.0242 - 10ms/epoch - 10ms/step\n",
            "Epoch 329/500\n",
            "1/1 - 0s - loss: 0.0241 - mse: 0.0241 - 8ms/epoch - 8ms/step\n",
            "Epoch 330/500\n",
            "1/1 - 0s - loss: 0.0240 - mse: 0.0240 - 9ms/epoch - 9ms/step\n",
            "Epoch 331/500\n",
            "1/1 - 0s - loss: 0.0239 - mse: 0.0239 - 8ms/epoch - 8ms/step\n",
            "Epoch 332/500\n",
            "1/1 - 0s - loss: 0.0238 - mse: 0.0238 - 8ms/epoch - 8ms/step\n",
            "Epoch 333/500\n",
            "1/1 - 0s - loss: 0.0237 - mse: 0.0237 - 8ms/epoch - 8ms/step\n",
            "Epoch 334/500\n",
            "1/1 - 0s - loss: 0.0237 - mse: 0.0237 - 9ms/epoch - 9ms/step\n",
            "Epoch 335/500\n",
            "1/1 - 0s - loss: 0.0236 - mse: 0.0236 - 10ms/epoch - 10ms/step\n",
            "Epoch 336/500\n",
            "1/1 - 0s - loss: 0.0235 - mse: 0.0235 - 10ms/epoch - 10ms/step\n",
            "Epoch 337/500\n",
            "1/1 - 0s - loss: 0.0234 - mse: 0.0234 - 8ms/epoch - 8ms/step\n",
            "Epoch 338/500\n",
            "1/1 - 0s - loss: 0.0233 - mse: 0.0233 - 9ms/epoch - 9ms/step\n",
            "Epoch 339/500\n",
            "1/1 - 0s - loss: 0.0233 - mse: 0.0233 - 9ms/epoch - 9ms/step\n",
            "Epoch 340/500\n",
            "1/1 - 0s - loss: 0.0232 - mse: 0.0232 - 9ms/epoch - 9ms/step\n",
            "Epoch 341/500\n",
            "1/1 - 0s - loss: 0.0231 - mse: 0.0231 - 10ms/epoch - 10ms/step\n",
            "Epoch 342/500\n",
            "1/1 - 0s - loss: 0.0230 - mse: 0.0230 - 7ms/epoch - 7ms/step\n",
            "Epoch 343/500\n",
            "1/1 - 0s - loss: 0.0230 - mse: 0.0230 - 8ms/epoch - 8ms/step\n",
            "Epoch 344/500\n",
            "1/1 - 0s - loss: 0.0229 - mse: 0.0229 - 10ms/epoch - 10ms/step\n",
            "Epoch 345/500\n",
            "1/1 - 0s - loss: 0.0228 - mse: 0.0228 - 10ms/epoch - 10ms/step\n",
            "Epoch 346/500\n",
            "1/1 - 0s - loss: 0.0227 - mse: 0.0227 - 8ms/epoch - 8ms/step\n",
            "Epoch 347/500\n",
            "1/1 - 0s - loss: 0.0227 - mse: 0.0227 - 8ms/epoch - 8ms/step\n",
            "Epoch 348/500\n",
            "1/1 - 0s - loss: 0.0226 - mse: 0.0226 - 9ms/epoch - 9ms/step\n",
            "Epoch 349/500\n",
            "1/1 - 0s - loss: 0.0225 - mse: 0.0225 - 13ms/epoch - 13ms/step\n",
            "Epoch 350/500\n",
            "1/1 - 0s - loss: 0.0224 - mse: 0.0224 - 9ms/epoch - 9ms/step\n",
            "Epoch 351/500\n",
            "1/1 - 0s - loss: 0.0224 - mse: 0.0224 - 9ms/epoch - 9ms/step\n",
            "Epoch 352/500\n",
            "1/1 - 0s - loss: 0.0223 - mse: 0.0223 - 8ms/epoch - 8ms/step\n",
            "Epoch 353/500\n",
            "1/1 - 0s - loss: 0.0222 - mse: 0.0222 - 11ms/epoch - 11ms/step\n",
            "Epoch 354/500\n",
            "1/1 - 0s - loss: 0.0221 - mse: 0.0221 - 9ms/epoch - 9ms/step\n",
            "Epoch 355/500\n",
            "1/1 - 0s - loss: 0.0221 - mse: 0.0221 - 9ms/epoch - 9ms/step\n",
            "Epoch 356/500\n",
            "1/1 - 0s - loss: 0.0220 - mse: 0.0220 - 9ms/epoch - 9ms/step\n",
            "Epoch 357/500\n",
            "1/1 - 0s - loss: 0.0219 - mse: 0.0219 - 11ms/epoch - 11ms/step\n",
            "Epoch 358/500\n",
            "1/1 - 0s - loss: 0.0219 - mse: 0.0219 - 9ms/epoch - 9ms/step\n",
            "Epoch 359/500\n",
            "1/1 - 0s - loss: 0.0218 - mse: 0.0218 - 9ms/epoch - 9ms/step\n",
            "Epoch 360/500\n",
            "1/1 - 0s - loss: 0.0217 - mse: 0.0217 - 11ms/epoch - 11ms/step\n",
            "Epoch 361/500\n",
            "1/1 - 0s - loss: 0.0216 - mse: 0.0216 - 9ms/epoch - 9ms/step\n",
            "Epoch 362/500\n",
            "1/1 - 0s - loss: 0.0216 - mse: 0.0216 - 8ms/epoch - 8ms/step\n",
            "Epoch 363/500\n",
            "1/1 - 0s - loss: 0.0215 - mse: 0.0215 - 9ms/epoch - 9ms/step\n",
            "Epoch 364/500\n",
            "1/1 - 0s - loss: 0.0214 - mse: 0.0214 - 9ms/epoch - 9ms/step\n",
            "Epoch 365/500\n",
            "1/1 - 0s - loss: 0.0214 - mse: 0.0214 - 10ms/epoch - 10ms/step\n",
            "Epoch 366/500\n",
            "1/1 - 0s - loss: 0.0213 - mse: 0.0213 - 9ms/epoch - 9ms/step\n",
            "Epoch 367/500\n",
            "1/1 - 0s - loss: 0.0212 - mse: 0.0212 - 10ms/epoch - 10ms/step\n",
            "Epoch 368/500\n",
            "1/1 - 0s - loss: 0.0212 - mse: 0.0212 - 9ms/epoch - 9ms/step\n",
            "Epoch 369/500\n",
            "1/1 - 0s - loss: 0.0211 - mse: 0.0211 - 10ms/epoch - 10ms/step\n",
            "Epoch 370/500\n",
            "1/1 - 0s - loss: 0.0210 - mse: 0.0210 - 10ms/epoch - 10ms/step\n",
            "Epoch 371/500\n",
            "1/1 - 0s - loss: 0.0210 - mse: 0.0210 - 11ms/epoch - 11ms/step\n",
            "Epoch 372/500\n",
            "1/1 - 0s - loss: 0.0209 - mse: 0.0209 - 9ms/epoch - 9ms/step\n",
            "Epoch 373/500\n",
            "1/1 - 0s - loss: 0.0209 - mse: 0.0209 - 10ms/epoch - 10ms/step\n",
            "Epoch 374/500\n",
            "1/1 - 0s - loss: 0.0208 - mse: 0.0208 - 8ms/epoch - 8ms/step\n",
            "Epoch 375/500\n",
            "1/1 - 0s - loss: 0.0207 - mse: 0.0207 - 10ms/epoch - 10ms/step\n",
            "Epoch 376/500\n",
            "1/1 - 0s - loss: 0.0207 - mse: 0.0207 - 10ms/epoch - 10ms/step\n",
            "Epoch 377/500\n",
            "1/1 - 0s - loss: 0.0206 - mse: 0.0206 - 13ms/epoch - 13ms/step\n",
            "Epoch 378/500\n",
            "1/1 - 0s - loss: 0.0205 - mse: 0.0205 - 10ms/epoch - 10ms/step\n",
            "Epoch 379/500\n",
            "1/1 - 0s - loss: 0.0205 - mse: 0.0205 - 10ms/epoch - 10ms/step\n",
            "Epoch 380/500\n",
            "1/1 - 0s - loss: 0.0204 - mse: 0.0204 - 13ms/epoch - 13ms/step\n",
            "Epoch 381/500\n",
            "1/1 - 0s - loss: 0.0204 - mse: 0.0204 - 8ms/epoch - 8ms/step\n",
            "Epoch 382/500\n",
            "1/1 - 0s - loss: 0.0203 - mse: 0.0203 - 8ms/epoch - 8ms/step\n",
            "Epoch 383/500\n",
            "1/1 - 0s - loss: 0.0202 - mse: 0.0202 - 9ms/epoch - 9ms/step\n",
            "Epoch 384/500\n",
            "1/1 - 0s - loss: 0.0202 - mse: 0.0202 - 9ms/epoch - 9ms/step\n",
            "Epoch 385/500\n",
            "1/1 - 0s - loss: 0.0201 - mse: 0.0201 - 7ms/epoch - 7ms/step\n",
            "Epoch 386/500\n",
            "1/1 - 0s - loss: 0.0201 - mse: 0.0201 - 7ms/epoch - 7ms/step\n",
            "Epoch 387/500\n",
            "1/1 - 0s - loss: 0.0200 - mse: 0.0200 - 7ms/epoch - 7ms/step\n",
            "Epoch 388/500\n",
            "1/1 - 0s - loss: 0.0199 - mse: 0.0199 - 9ms/epoch - 9ms/step\n",
            "Epoch 389/500\n",
            "1/1 - 0s - loss: 0.0199 - mse: 0.0199 - 9ms/epoch - 9ms/step\n",
            "Epoch 390/500\n",
            "1/1 - 0s - loss: 0.0198 - mse: 0.0198 - 9ms/epoch - 9ms/step\n",
            "Epoch 391/500\n",
            "1/1 - 0s - loss: 0.0198 - mse: 0.0198 - 7ms/epoch - 7ms/step\n",
            "Epoch 392/500\n",
            "1/1 - 0s - loss: 0.0197 - mse: 0.0197 - 8ms/epoch - 8ms/step\n",
            "Epoch 393/500\n",
            "1/1 - 0s - loss: 0.0196 - mse: 0.0196 - 10ms/epoch - 10ms/step\n",
            "Epoch 394/500\n",
            "1/1 - 0s - loss: 0.0196 - mse: 0.0196 - 9ms/epoch - 9ms/step\n",
            "Epoch 395/500\n",
            "1/1 - 0s - loss: 0.0195 - mse: 0.0195 - 11ms/epoch - 11ms/step\n",
            "Epoch 396/500\n",
            "1/1 - 0s - loss: 0.0195 - mse: 0.0195 - 10ms/epoch - 10ms/step\n",
            "Epoch 397/500\n",
            "1/1 - 0s - loss: 0.0194 - mse: 0.0194 - 9ms/epoch - 9ms/step\n",
            "Epoch 398/500\n",
            "1/1 - 0s - loss: 0.0194 - mse: 0.0194 - 14ms/epoch - 14ms/step\n",
            "Epoch 399/500\n",
            "1/1 - 0s - loss: 0.0193 - mse: 0.0193 - 8ms/epoch - 8ms/step\n",
            "Epoch 400/500\n",
            "1/1 - 0s - loss: 0.0193 - mse: 0.0193 - 8ms/epoch - 8ms/step\n",
            "Epoch 401/500\n",
            "1/1 - 0s - loss: 0.0192 - mse: 0.0192 - 10ms/epoch - 10ms/step\n",
            "Epoch 402/500\n",
            "1/1 - 0s - loss: 0.0191 - mse: 0.0191 - 9ms/epoch - 9ms/step\n",
            "Epoch 403/500\n",
            "1/1 - 0s - loss: 0.0191 - mse: 0.0191 - 9ms/epoch - 9ms/step\n",
            "Epoch 404/500\n",
            "1/1 - 0s - loss: 0.0190 - mse: 0.0190 - 10ms/epoch - 10ms/step\n",
            "Epoch 405/500\n",
            "1/1 - 0s - loss: 0.0190 - mse: 0.0190 - 9ms/epoch - 9ms/step\n",
            "Epoch 406/500\n",
            "1/1 - 0s - loss: 0.0189 - mse: 0.0189 - 9ms/epoch - 9ms/step\n",
            "Epoch 407/500\n",
            "1/1 - 0s - loss: 0.0189 - mse: 0.0189 - 10ms/epoch - 10ms/step\n",
            "Epoch 408/500\n",
            "1/1 - 0s - loss: 0.0188 - mse: 0.0188 - 9ms/epoch - 9ms/step\n",
            "Epoch 409/500\n",
            "1/1 - 0s - loss: 0.0188 - mse: 0.0188 - 11ms/epoch - 11ms/step\n",
            "Epoch 410/500\n",
            "1/1 - 0s - loss: 0.0187 - mse: 0.0187 - 11ms/epoch - 11ms/step\n",
            "Epoch 411/500\n",
            "1/1 - 0s - loss: 0.0187 - mse: 0.0187 - 10ms/epoch - 10ms/step\n",
            "Epoch 412/500\n",
            "1/1 - 0s - loss: 0.0186 - mse: 0.0186 - 9ms/epoch - 9ms/step\n",
            "Epoch 413/500\n",
            "1/1 - 0s - loss: 0.0186 - mse: 0.0186 - 10ms/epoch - 10ms/step\n",
            "Epoch 414/500\n",
            "1/1 - 0s - loss: 0.0185 - mse: 0.0185 - 9ms/epoch - 9ms/step\n",
            "Epoch 415/500\n",
            "1/1 - 0s - loss: 0.0185 - mse: 0.0185 - 9ms/epoch - 9ms/step\n",
            "Epoch 416/500\n",
            "1/1 - 0s - loss: 0.0184 - mse: 0.0184 - 7ms/epoch - 7ms/step\n",
            "Epoch 417/500\n",
            "1/1 - 0s - loss: 0.0184 - mse: 0.0184 - 9ms/epoch - 9ms/step\n",
            "Epoch 418/500\n",
            "1/1 - 0s - loss: 0.0183 - mse: 0.0183 - 9ms/epoch - 9ms/step\n",
            "Epoch 419/500\n",
            "1/1 - 0s - loss: 0.0183 - mse: 0.0183 - 7ms/epoch - 7ms/step\n",
            "Epoch 420/500\n",
            "1/1 - 0s - loss: 0.0182 - mse: 0.0182 - 8ms/epoch - 8ms/step\n",
            "Epoch 421/500\n",
            "1/1 - 0s - loss: 0.0182 - mse: 0.0182 - 9ms/epoch - 9ms/step\n",
            "Epoch 422/500\n",
            "1/1 - 0s - loss: 0.0181 - mse: 0.0181 - 13ms/epoch - 13ms/step\n",
            "Epoch 423/500\n",
            "1/1 - 0s - loss: 0.0181 - mse: 0.0181 - 10ms/epoch - 10ms/step\n",
            "Epoch 424/500\n",
            "1/1 - 0s - loss: 0.0180 - mse: 0.0180 - 9ms/epoch - 9ms/step\n",
            "Epoch 425/500\n",
            "1/1 - 0s - loss: 0.0180 - mse: 0.0180 - 10ms/epoch - 10ms/step\n",
            "Epoch 426/500\n",
            "1/1 - 0s - loss: 0.0179 - mse: 0.0179 - 11ms/epoch - 11ms/step\n",
            "Epoch 427/500\n",
            "1/1 - 0s - loss: 0.0179 - mse: 0.0179 - 8ms/epoch - 8ms/step\n",
            "Epoch 428/500\n",
            "1/1 - 0s - loss: 0.0178 - mse: 0.0178 - 8ms/epoch - 8ms/step\n",
            "Epoch 429/500\n",
            "1/1 - 0s - loss: 0.0178 - mse: 0.0178 - 9ms/epoch - 9ms/step\n",
            "Epoch 430/500\n",
            "1/1 - 0s - loss: 0.0177 - mse: 0.0177 - 8ms/epoch - 8ms/step\n",
            "Epoch 431/500\n",
            "1/1 - 0s - loss: 0.0177 - mse: 0.0177 - 12ms/epoch - 12ms/step\n",
            "Epoch 432/500\n",
            "1/1 - 0s - loss: 0.0176 - mse: 0.0176 - 9ms/epoch - 9ms/step\n",
            "Epoch 433/500\n",
            "1/1 - 0s - loss: 0.0176 - mse: 0.0176 - 9ms/epoch - 9ms/step\n",
            "Epoch 434/500\n",
            "1/1 - 0s - loss: 0.0175 - mse: 0.0175 - 9ms/epoch - 9ms/step\n",
            "Epoch 435/500\n",
            "1/1 - 0s - loss: 0.0175 - mse: 0.0175 - 9ms/epoch - 9ms/step\n",
            "Epoch 436/500\n",
            "1/1 - 0s - loss: 0.0174 - mse: 0.0174 - 9ms/epoch - 9ms/step\n",
            "Epoch 437/500\n",
            "1/1 - 0s - loss: 0.0174 - mse: 0.0174 - 11ms/epoch - 11ms/step\n",
            "Epoch 438/500\n",
            "1/1 - 0s - loss: 0.0174 - mse: 0.0174 - 15ms/epoch - 15ms/step\n",
            "Epoch 439/500\n",
            "1/1 - 0s - loss: 0.0173 - mse: 0.0173 - 9ms/epoch - 9ms/step\n",
            "Epoch 440/500\n",
            "1/1 - 0s - loss: 0.0173 - mse: 0.0173 - 9ms/epoch - 9ms/step\n",
            "Epoch 441/500\n",
            "1/1 - 0s - loss: 0.0172 - mse: 0.0172 - 7ms/epoch - 7ms/step\n",
            "Epoch 442/500\n",
            "1/1 - 0s - loss: 0.0172 - mse: 0.0172 - 7ms/epoch - 7ms/step\n",
            "Epoch 443/500\n",
            "1/1 - 0s - loss: 0.0171 - mse: 0.0171 - 12ms/epoch - 12ms/step\n",
            "Epoch 444/500\n",
            "1/1 - 0s - loss: 0.0171 - mse: 0.0171 - 9ms/epoch - 9ms/step\n",
            "Epoch 445/500\n",
            "1/1 - 0s - loss: 0.0170 - mse: 0.0170 - 10ms/epoch - 10ms/step\n",
            "Epoch 446/500\n",
            "1/1 - 0s - loss: 0.0170 - mse: 0.0170 - 10ms/epoch - 10ms/step\n",
            "Epoch 447/500\n",
            "1/1 - 0s - loss: 0.0170 - mse: 0.0170 - 9ms/epoch - 9ms/step\n",
            "Epoch 448/500\n",
            "1/1 - 0s - loss: 0.0169 - mse: 0.0169 - 9ms/epoch - 9ms/step\n",
            "Epoch 449/500\n",
            "1/1 - 0s - loss: 0.0169 - mse: 0.0169 - 11ms/epoch - 11ms/step\n",
            "Epoch 450/500\n",
            "1/1 - 0s - loss: 0.0168 - mse: 0.0168 - 8ms/epoch - 8ms/step\n",
            "Epoch 451/500\n",
            "1/1 - 0s - loss: 0.0168 - mse: 0.0168 - 11ms/epoch - 11ms/step\n",
            "Epoch 452/500\n",
            "1/1 - 0s - loss: 0.0167 - mse: 0.0167 - 15ms/epoch - 15ms/step\n",
            "Epoch 453/500\n",
            "1/1 - 0s - loss: 0.0167 - mse: 0.0167 - 10ms/epoch - 10ms/step\n",
            "Epoch 454/500\n",
            "1/1 - 0s - loss: 0.0167 - mse: 0.0167 - 9ms/epoch - 9ms/step\n",
            "Epoch 455/500\n",
            "1/1 - 0s - loss: 0.0166 - mse: 0.0166 - 9ms/epoch - 9ms/step\n",
            "Epoch 456/500\n",
            "1/1 - 0s - loss: 0.0166 - mse: 0.0166 - 10ms/epoch - 10ms/step\n",
            "Epoch 457/500\n",
            "1/1 - 0s - loss: 0.0165 - mse: 0.0165 - 9ms/epoch - 9ms/step\n",
            "Epoch 458/500\n",
            "1/1 - 0s - loss: 0.0165 - mse: 0.0165 - 13ms/epoch - 13ms/step\n",
            "Epoch 459/500\n",
            "1/1 - 0s - loss: 0.0165 - mse: 0.0165 - 9ms/epoch - 9ms/step\n",
            "Epoch 460/500\n",
            "1/1 - 0s - loss: 0.0164 - mse: 0.0164 - 10ms/epoch - 10ms/step\n",
            "Epoch 461/500\n",
            "1/1 - 0s - loss: 0.0164 - mse: 0.0164 - 16ms/epoch - 16ms/step\n",
            "Epoch 462/500\n",
            "1/1 - 0s - loss: 0.0163 - mse: 0.0163 - 10ms/epoch - 10ms/step\n",
            "Epoch 463/500\n",
            "1/1 - 0s - loss: 0.0163 - mse: 0.0163 - 9ms/epoch - 9ms/step\n",
            "Epoch 464/500\n",
            "1/1 - 0s - loss: 0.0163 - mse: 0.0163 - 10ms/epoch - 10ms/step\n",
            "Epoch 465/500\n",
            "1/1 - 0s - loss: 0.0162 - mse: 0.0162 - 9ms/epoch - 9ms/step\n",
            "Epoch 466/500\n",
            "1/1 - 0s - loss: 0.0162 - mse: 0.0162 - 8ms/epoch - 8ms/step\n",
            "Epoch 467/500\n",
            "1/1 - 0s - loss: 0.0161 - mse: 0.0161 - 9ms/epoch - 9ms/step\n",
            "Epoch 468/500\n",
            "1/1 - 0s - loss: 0.0161 - mse: 0.0161 - 10ms/epoch - 10ms/step\n",
            "Epoch 469/500\n",
            "1/1 - 0s - loss: 0.0161 - mse: 0.0161 - 10ms/epoch - 10ms/step\n",
            "Epoch 470/500\n",
            "1/1 - 0s - loss: 0.0160 - mse: 0.0160 - 8ms/epoch - 8ms/step\n",
            "Epoch 471/500\n",
            "1/1 - 0s - loss: 0.0160 - mse: 0.0160 - 11ms/epoch - 11ms/step\n",
            "Epoch 472/500\n",
            "1/1 - 0s - loss: 0.0159 - mse: 0.0159 - 8ms/epoch - 8ms/step\n",
            "Epoch 473/500\n",
            "1/1 - 0s - loss: 0.0159 - mse: 0.0159 - 9ms/epoch - 9ms/step\n",
            "Epoch 474/500\n",
            "1/1 - 0s - loss: 0.0159 - mse: 0.0159 - 10ms/epoch - 10ms/step\n",
            "Epoch 475/500\n",
            "1/1 - 0s - loss: 0.0158 - mse: 0.0158 - 10ms/epoch - 10ms/step\n",
            "Epoch 476/500\n",
            "1/1 - 0s - loss: 0.0158 - mse: 0.0158 - 11ms/epoch - 11ms/step\n",
            "Epoch 477/500\n",
            "1/1 - 0s - loss: 0.0158 - mse: 0.0158 - 10ms/epoch - 10ms/step\n",
            "Epoch 478/500\n",
            "1/1 - 0s - loss: 0.0157 - mse: 0.0157 - 9ms/epoch - 9ms/step\n",
            "Epoch 479/500\n",
            "1/1 - 0s - loss: 0.0157 - mse: 0.0157 - 11ms/epoch - 11ms/step\n",
            "Epoch 480/500\n",
            "1/1 - 0s - loss: 0.0156 - mse: 0.0156 - 9ms/epoch - 9ms/step\n",
            "Epoch 481/500\n",
            "1/1 - 0s - loss: 0.0156 - mse: 0.0156 - 10ms/epoch - 10ms/step\n",
            "Epoch 482/500\n",
            "1/1 - 0s - loss: 0.0156 - mse: 0.0156 - 9ms/epoch - 9ms/step\n",
            "Epoch 483/500\n",
            "1/1 - 0s - loss: 0.0155 - mse: 0.0155 - 10ms/epoch - 10ms/step\n",
            "Epoch 484/500\n",
            "1/1 - 0s - loss: 0.0155 - mse: 0.0155 - 8ms/epoch - 8ms/step\n",
            "Epoch 485/500\n",
            "1/1 - 0s - loss: 0.0155 - mse: 0.0155 - 11ms/epoch - 11ms/step\n",
            "Epoch 486/500\n",
            "1/1 - 0s - loss: 0.0154 - mse: 0.0154 - 9ms/epoch - 9ms/step\n",
            "Epoch 487/500\n",
            "1/1 - 0s - loss: 0.0154 - mse: 0.0154 - 8ms/epoch - 8ms/step\n",
            "Epoch 488/500\n",
            "1/1 - 0s - loss: 0.0154 - mse: 0.0154 - 8ms/epoch - 8ms/step\n",
            "Epoch 489/500\n",
            "1/1 - 0s - loss: 0.0153 - mse: 0.0153 - 9ms/epoch - 9ms/step\n",
            "Epoch 490/500\n",
            "1/1 - 0s - loss: 0.0153 - mse: 0.0153 - 9ms/epoch - 9ms/step\n",
            "Epoch 491/500\n",
            "1/1 - 0s - loss: 0.0152 - mse: 0.0152 - 6ms/epoch - 6ms/step\n",
            "Epoch 492/500\n",
            "1/1 - 0s - loss: 0.0152 - mse: 0.0152 - 9ms/epoch - 9ms/step\n",
            "Epoch 493/500\n",
            "1/1 - 0s - loss: 0.0152 - mse: 0.0152 - 9ms/epoch - 9ms/step\n",
            "Epoch 494/500\n",
            "1/1 - 0s - loss: 0.0151 - mse: 0.0151 - 9ms/epoch - 9ms/step\n",
            "Epoch 495/500\n",
            "1/1 - 0s - loss: 0.0151 - mse: 0.0151 - 7ms/epoch - 7ms/step\n",
            "Epoch 496/500\n",
            "1/1 - 0s - loss: 0.0151 - mse: 0.0151 - 7ms/epoch - 7ms/step\n",
            "Epoch 497/500\n",
            "1/1 - 0s - loss: 0.0150 - mse: 0.0150 - 9ms/epoch - 9ms/step\n",
            "Epoch 498/500\n",
            "1/1 - 0s - loss: 0.0150 - mse: 0.0150 - 15ms/epoch - 15ms/step\n",
            "Epoch 499/500\n",
            "1/1 - 0s - loss: 0.0150 - mse: 0.0150 - 12ms/epoch - 12ms/step\n",
            "Epoch 500/500\n",
            "1/1 - 0s - loss: 0.0149 - mse: 0.0149 - 10ms/epoch - 10ms/step\n",
            "[[-0.8162584 ]\n",
            " [ 0.88632286]\n",
            " [ 0.8863369 ]\n",
            " [ 0.9992657 ]]\n"
          ]
        }
      ]
    },
    {
      "cell_type": "markdown",
      "source": [
        "##다층 퍼셉트론으로 MNIST 인식"
      ],
      "metadata": {
        "id": "2ZiXRKwsyQcm"
      }
    },
    {
      "cell_type": "code",
      "source": [
        "import numpy as np\n",
        "import tensorflow as tf\n",
        "from tensorflow.keras.datasets import mnist\n",
        "\n",
        "from tensorflow.keras.models import Sequential\n",
        "from tensorflow.keras.layers import Dense\n",
        "from tensorflow.keras.optimizers import Adam\n",
        "\n",
        "# MNIST 읽어 와서 신경망에 입력할 형태로 변환\n",
        "(x_train, y_train), (x_test, y_test) = mnist.load_data()\n",
        "x_train = x_train.reshape(60000,784) # 텐서 모양 변환\n",
        "x_test = x_test.reshape(10000,784)\n",
        "x_train=x_train.astype(np.float32)/255.0 # ndarray로 변환\n",
        "x_test=x_test.astype(np.float32)/255.0\n",
        "y_train=tf.keras.utils.to_categorical(y_train,10) # 원핫 코드로 변환\n",
        "y_test=tf.keras.utils.to_categorical(y_test,10)\n",
        "\n",
        "n_input=784\n",
        "n_hidden=1024\n",
        "n_output=10\n",
        "\n",
        "mlp=Sequential()\n",
        "mlp.add (Dense(units=n_hidden,activation='tanh',input_shape=(n_input,),kernel_initializer='random_uniform',bias_initializer='zeros'))\n",
        "mlp.add(Dense(units=n_output,activation='tanh',kernel_initializer='random_uniform',bias_initializer='zeros'))\n",
        "\n",
        "mlp.compile(loss='mean_squared_error',optimizer=Adam(learning_rate=0.001),metrics=['accuracy'])\n",
        "hist=mlp.fit(x_train,y_train,batch_size=128,epochs=30,validation_data=(x_test,y_test),verbose=2)\n",
        "\n",
        "res=mlp.evaluate(x_test,y_test,verbose=0)\n",
        "print(\"정확률은\",res[1]*100)"
      ],
      "metadata": {
        "id": "8GLeDpNJyQ9u",
        "colab": {
          "base_uri": "https://localhost:8080/"
        },
        "outputId": "cc83cd21-6f90-4630-f065-248c103eb8e2"
      },
      "execution_count": null,
      "outputs": [
        {
          "output_type": "stream",
          "name": "stdout",
          "text": [
            "Epoch 1/30\n",
            "469/469 - 13s - loss: 0.0426 - accuracy: 0.8481 - val_loss: 0.0281 - val_accuracy: 0.9133 - 13s/epoch - 27ms/step\n",
            "Epoch 2/30\n",
            "469/469 - 7s - loss: 0.0222 - accuracy: 0.9285 - val_loss: 0.0182 - val_accuracy: 0.9415 - 7s/epoch - 15ms/step\n",
            "Epoch 3/30\n",
            "469/469 - 7s - loss: 0.0164 - accuracy: 0.9479 - val_loss: 0.0146 - val_accuracy: 0.9533 - 7s/epoch - 15ms/step\n",
            "Epoch 4/30\n",
            "469/469 - 7s - loss: 0.0137 - accuracy: 0.9577 - val_loss: 0.0129 - val_accuracy: 0.9580 - 7s/epoch - 15ms/step\n",
            "Epoch 5/30\n",
            "469/469 - 7s - loss: 0.0121 - accuracy: 0.9635 - val_loss: 0.0116 - val_accuracy: 0.9620 - 7s/epoch - 15ms/step\n",
            "Epoch 6/30\n",
            "469/469 - 8s - loss: 0.0110 - accuracy: 0.9676 - val_loss: 0.0109 - val_accuracy: 0.9657 - 8s/epoch - 17ms/step\n",
            "Epoch 7/30\n",
            "469/469 - 7s - loss: 0.0101 - accuracy: 0.9711 - val_loss: 0.0106 - val_accuracy: 0.9661 - 7s/epoch - 15ms/step\n",
            "Epoch 8/30\n",
            "469/469 - 7s - loss: 0.0093 - accuracy: 0.9739 - val_loss: 0.0099 - val_accuracy: 0.9683 - 7s/epoch - 15ms/step\n",
            "Epoch 9/30\n",
            "469/469 - 7s - loss: 0.0089 - accuracy: 0.9763 - val_loss: 0.0100 - val_accuracy: 0.9688 - 7s/epoch - 15ms/step\n",
            "Epoch 10/30\n",
            "469/469 - 7s - loss: 0.0084 - accuracy: 0.9783 - val_loss: 0.0093 - val_accuracy: 0.9704 - 7s/epoch - 15ms/step\n",
            "Epoch 11/30\n",
            "469/469 - 7s - loss: 0.0081 - accuracy: 0.9791 - val_loss: 0.0092 - val_accuracy: 0.9708 - 7s/epoch - 16ms/step\n",
            "Epoch 12/30\n",
            "469/469 - 7s - loss: 0.0077 - accuracy: 0.9807 - val_loss: 0.0085 - val_accuracy: 0.9719 - 7s/epoch - 15ms/step\n",
            "Epoch 13/30\n",
            "469/469 - 7s - loss: 0.0073 - accuracy: 0.9826 - val_loss: 0.0085 - val_accuracy: 0.9716 - 7s/epoch - 15ms/step\n",
            "Epoch 14/30\n",
            "469/469 - 7s - loss: 0.0071 - accuracy: 0.9835 - val_loss: 0.0083 - val_accuracy: 0.9714 - 7s/epoch - 15ms/step\n",
            "Epoch 15/30\n",
            "469/469 - 8s - loss: 0.0068 - accuracy: 0.9846 - val_loss: 0.0082 - val_accuracy: 0.9736 - 8s/epoch - 17ms/step\n",
            "Epoch 16/30\n",
            "469/469 - 7s - loss: 0.0066 - accuracy: 0.9849 - val_loss: 0.0081 - val_accuracy: 0.9737 - 7s/epoch - 15ms/step\n",
            "Epoch 17/30\n",
            "469/469 - 7s - loss: 0.0064 - accuracy: 0.9861 - val_loss: 0.0081 - val_accuracy: 0.9741 - 7s/epoch - 15ms/step\n",
            "Epoch 18/30\n",
            "469/469 - 7s - loss: 0.0062 - accuracy: 0.9865 - val_loss: 0.0080 - val_accuracy: 0.9753 - 7s/epoch - 15ms/step\n",
            "Epoch 19/30\n",
            "469/469 - 7s - loss: 0.0060 - accuracy: 0.9877 - val_loss: 0.0077 - val_accuracy: 0.9750 - 7s/epoch - 15ms/step\n",
            "Epoch 20/30\n",
            "469/469 - 7s - loss: 0.0059 - accuracy: 0.9883 - val_loss: 0.0077 - val_accuracy: 0.9753 - 7s/epoch - 15ms/step\n",
            "Epoch 21/30\n",
            "469/469 - 7s - loss: 0.0057 - accuracy: 0.9887 - val_loss: 0.0078 - val_accuracy: 0.9747 - 7s/epoch - 15ms/step\n",
            "Epoch 22/30\n",
            "469/469 - 7s - loss: 0.0055 - accuracy: 0.9896 - val_loss: 0.0078 - val_accuracy: 0.9758 - 7s/epoch - 15ms/step\n",
            "Epoch 23/30\n",
            "469/469 - 7s - loss: 0.0054 - accuracy: 0.9899 - val_loss: 0.0076 - val_accuracy: 0.9765 - 7s/epoch - 15ms/step\n",
            "Epoch 24/30\n",
            "469/469 - 7s - loss: 0.0052 - accuracy: 0.9905 - val_loss: 0.0076 - val_accuracy: 0.9754 - 7s/epoch - 15ms/step\n",
            "Epoch 25/30\n",
            "469/469 - 7s - loss: 0.0052 - accuracy: 0.9908 - val_loss: 0.0074 - val_accuracy: 0.9758 - 7s/epoch - 15ms/step\n",
            "Epoch 26/30\n",
            "469/469 - 7s - loss: 0.0050 - accuracy: 0.9913 - val_loss: 0.0076 - val_accuracy: 0.9760 - 7s/epoch - 15ms/step\n",
            "Epoch 27/30\n",
            "469/469 - 8s - loss: 0.0049 - accuracy: 0.9916 - val_loss: 0.0074 - val_accuracy: 0.9776 - 8s/epoch - 17ms/step\n",
            "Epoch 28/30\n",
            "469/469 - 7s - loss: 0.0048 - accuracy: 0.9920 - val_loss: 0.0073 - val_accuracy: 0.9753 - 7s/epoch - 16ms/step\n",
            "Epoch 29/30\n",
            "469/469 - 7s - loss: 0.0047 - accuracy: 0.9923 - val_loss: 0.0075 - val_accuracy: 0.9757 - 7s/epoch - 15ms/step\n",
            "Epoch 30/30\n",
            "469/469 - 8s - loss: 0.0047 - accuracy: 0.9927 - val_loss: 0.0074 - val_accuracy: 0.9765 - 8s/epoch - 17ms/step\n",
            "정확률은 97.64999747276306\n"
          ]
        }
      ]
    },
    {
      "cell_type": "code",
      "source": [
        "import matplotlib.pyplot as plt\n",
        "\n",
        "# 정확률 곡선\n",
        "plt.plot(hist.history['accuracy'])\n",
        "plt.plot(hist.history['val_accuracy'])\n",
        "plt.title('Model accuracy')\n",
        "plt.ylabel('Accuracy')\n",
        "plt.xlabel('Epoch')\n",
        "plt.legend(['Train','Validation'], loc='upper left')\n",
        "plt.grid()\n",
        "plt.show()\n",
        "\n",
        "# 손실 함수 곡선\n",
        "plt.plot(hist.history['loss'])\n",
        "plt.plot(hist.history['val_loss'])\n",
        "plt.title('Model loss')\n",
        "plt.ylabel('Loss')\n",
        "plt.xlabel('Epoch')\n",
        "plt.legend(['Train','Validation'], loc='upper right')\n",
        "plt.grid()\n",
        "plt.show()"
      ],
      "metadata": {
        "colab": {
          "base_uri": "https://localhost:8080/",
          "height": 573
        },
        "id": "5D8XUcFGhLkU",
        "outputId": "b0de8001-440e-482c-ee8f-8c5a2801203e"
      },
      "execution_count": null,
      "outputs": [
        {
          "output_type": "display_data",
          "data": {
            "text/plain": [
              "<Figure size 432x288 with 1 Axes>"
            ],
            "image/png": "[encoded data removed]"
          },
          "metadata": {
            "needs_background": "light"
          }
        },
        {
          "output_type": "display_data",
          "data": {
            "text/plain": [
              "<Figure size 432x288 with 1 Axes>"
            ],
            "image/png": "[encoded data removed]"
          },
          "metadata": {
            "needs_background": "light"
          }
        }
      ]
    },
    {
      "cell_type": "markdown",
      "source": [
        "##깊은 다층 퍼셉트론"
      ],
      "metadata": {
        "id": "iSnrcf7FzLUf"
      }
    },
    {
      "cell_type": "code",
      "source": [
        "import numpy as np\n",
        "import tensorflow as tf\n",
        "from tensorflow.keras.datasets import mnist\n",
        "from tensorflow.keras.models import Sequential\n",
        "from tensorflow.keras.layers import Dense\n",
        "from tensorflow.keras.optimizers import Adam\n",
        "\n",
        "# MNIST 읽어 와서 신경망에 입력할 형태로 변환\n",
        "(x_train, y_train), (x_test, y_test) = mnist.load_data()\n",
        "x_train = x_train.reshape(60000,784) # 텐서 모양 변환\n",
        "x_test = x_test.reshape(10000,784)\n",
        "x_train=x_train.astype(np.float32)/255.0 # ndarray로 변환\n",
        "x_test=x_test.astype(np.float32)/255.0\n",
        "y_train=tf.keras.utils.to_categorical(y_train,10) # 원핫 코드로 변환\n",
        "y_test=tf.keras.utils.to_categorical(y_test,10)\n",
        "\n",
        "# 신경망 구조 설정\n",
        "n_input=784\n",
        "n_hidden1=1024\n",
        "n_hidden2=512\n",
        "n_hidden3=512\n",
        "n_hidden4=512\n",
        "n_output=10\n",
        "\n",
        "# 신경망 구조 설계\n",
        "mlp=Sequential()\n",
        "mlp.add(Dense(units=n_hidden1,activation='tanh',input_shape=(n_input,),kernel_initializer='random_uniform',bias_initializer='zeros'))\n",
        "mlp.add(Dense(units=n_hidden2,activation='tanh',kernel_initializer='random_uniform',bias_initializer='zeros'))\n",
        "mlp.add(Dense(units=n_hidden3,activation='tanh',kernel_initializer='random_uniform',bias_initializer='zeros'))\n",
        "mlp.add(Dense(units=n_hidden4,activation='tanh',kernel_initializer='random_uniform',bias_initializer='zeros'))\n",
        "mlp.add(Dense(units=n_output,activation='tanh',kernel_initializer='random_uniform',bias_initializer='zeros'))\n",
        "\n",
        "# 신경망 학습\n",
        "mlp.compile(loss='mean_squared_error',optimizer=Adam(learning_rate=0.001),metrics=['accuracy'])\n",
        "hist=mlp.fit(x_train,y_train,batch_size=128,epochs=30,validation_data=(x_test,y_test),verbose=2)\n",
        "\n",
        "# 신경망의 정확률 측정\n",
        "res=mlp.evaluate(x_test,y_test,verbose=0)\n",
        "print(\"정확률은\",res[1]*100)\n",
        "\n",
        "import matplotlib.pyplot as plt\n",
        "\n",
        "# 정확률 곡선\n",
        "plt.plot(hist.history['accuracy'])\n",
        "plt.plot(hist.history['val_accuracy'])\n",
        "plt.title('Model accuracy')\n",
        "plt.ylabel('Accuracy')\n",
        "plt.xlabel('Epoch')\n",
        "plt.legend(['Train','Validation'], loc='upper left')\n",
        "plt.grid()\n",
        "plt.show()\n",
        "\n",
        "# 손실 함수 곡선\n",
        "plt.plot(hist.history['loss'])\n",
        "plt.plot(hist.history['val_loss'])\n",
        "plt.title('Model loss')\n",
        "plt.ylabel('Loss')\n",
        "plt.xlabel('Epoch')\n",
        "plt.legend(['Train','Validation'], loc='upper right')\n",
        "plt.grid()\n",
        "plt.show()"
      ],
      "metadata": {
        "id": "QecwIujrzP5n",
        "colab": {
          "base_uri": "https://localhost:8080/",
          "height": 1000
        },
        "outputId": "d48c9565-a3c8-4520-dff8-e4d37ac3ca34"
      },
      "execution_count": null,
      "outputs": [
        {
          "output_type": "stream",
          "name": "stdout",
          "text": [
            "Epoch 1/30\n",
            "469/469 - 20s - loss: 0.0261 - accuracy: 0.8968 - val_loss: 0.0124 - val_accuracy: 0.9460 - 20s/epoch - 42ms/step\n",
            "Epoch 2/30\n",
            "469/469 - 19s - loss: 0.0098 - accuracy: 0.9549 - val_loss: 0.0073 - val_accuracy: 0.9670 - 19s/epoch - 41ms/step\n",
            "Epoch 3/30\n",
            "469/469 - 19s - loss: 0.0066 - accuracy: 0.9688 - val_loss: 0.0064 - val_accuracy: 0.9674 - 19s/epoch - 40ms/step\n",
            "Epoch 4/30\n",
            "469/469 - 19s - loss: 0.0051 - accuracy: 0.9759 - val_loss: 0.0054 - val_accuracy: 0.9724 - 19s/epoch - 40ms/step\n",
            "Epoch 5/30\n",
            "469/469 - 19s - loss: 0.0041 - accuracy: 0.9812 - val_loss: 0.0058 - val_accuracy: 0.9693 - 19s/epoch - 41ms/step\n",
            "Epoch 6/30\n",
            "469/469 - 20s - loss: 0.0036 - accuracy: 0.9832 - val_loss: 0.0049 - val_accuracy: 0.9749 - 20s/epoch - 42ms/step\n",
            "Epoch 7/30\n",
            "469/469 - 19s - loss: 0.0032 - accuracy: 0.9851 - val_loss: 0.0042 - val_accuracy: 0.9770 - 19s/epoch - 41ms/step\n",
            "Epoch 8/30\n",
            "469/469 - 18s - loss: 0.0026 - accuracy: 0.9886 - val_loss: 0.0045 - val_accuracy: 0.9785 - 18s/epoch - 39ms/step\n",
            "Epoch 9/30\n",
            "469/469 - 19s - loss: 0.0023 - accuracy: 0.9904 - val_loss: 0.0048 - val_accuracy: 0.9739 - 19s/epoch - 40ms/step\n",
            "Epoch 10/30\n",
            "469/469 - 19s - loss: 0.0023 - accuracy: 0.9901 - val_loss: 0.0042 - val_accuracy: 0.9768 - 19s/epoch - 40ms/step\n",
            "Epoch 11/30\n",
            "469/469 - 19s - loss: 0.0022 - accuracy: 0.9905 - val_loss: 0.0046 - val_accuracy: 0.9748 - 19s/epoch - 41ms/step\n",
            "Epoch 12/30\n",
            "469/469 - 19s - loss: 0.0020 - accuracy: 0.9913 - val_loss: 0.0044 - val_accuracy: 0.9758 - 19s/epoch - 41ms/step\n",
            "Epoch 13/30\n",
            "469/469 - 19s - loss: 0.0017 - accuracy: 0.9929 - val_loss: 0.0039 - val_accuracy: 0.9786 - 19s/epoch - 40ms/step\n",
            "Epoch 14/30\n",
            "469/469 - 19s - loss: 0.0018 - accuracy: 0.9921 - val_loss: 0.0042 - val_accuracy: 0.9774 - 19s/epoch - 41ms/step\n",
            "Epoch 15/30\n",
            "469/469 - 20s - loss: 0.0016 - accuracy: 0.9931 - val_loss: 0.0041 - val_accuracy: 0.9776 - 20s/epoch - 43ms/step\n",
            "Epoch 16/30\n",
            "469/469 - 19s - loss: 0.0015 - accuracy: 0.9937 - val_loss: 0.0036 - val_accuracy: 0.9808 - 19s/epoch - 41ms/step\n",
            "Epoch 17/30\n",
            "469/469 - 19s - loss: 0.0014 - accuracy: 0.9942 - val_loss: 0.0041 - val_accuracy: 0.9781 - 19s/epoch - 40ms/step\n",
            "Epoch 18/30\n",
            "469/469 - 19s - loss: 0.0013 - accuracy: 0.9946 - val_loss: 0.0035 - val_accuracy: 0.9804 - 19s/epoch - 41ms/step\n",
            "Epoch 19/30\n",
            "469/469 - 19s - loss: 0.0013 - accuracy: 0.9947 - val_loss: 0.0039 - val_accuracy: 0.9798 - 19s/epoch - 40ms/step\n",
            "Epoch 20/30\n",
            "469/469 - 19s - loss: 0.0013 - accuracy: 0.9950 - val_loss: 0.0035 - val_accuracy: 0.9818 - 19s/epoch - 41ms/step\n",
            "Epoch 21/30\n",
            "469/469 - 19s - loss: 0.0011 - accuracy: 0.9961 - val_loss: 0.0038 - val_accuracy: 0.9799 - 19s/epoch - 40ms/step\n",
            "Epoch 22/30\n",
            "469/469 - 19s - loss: 0.0010 - accuracy: 0.9963 - val_loss: 0.0038 - val_accuracy: 0.9796 - 19s/epoch - 41ms/step\n",
            "Epoch 23/30\n",
            "469/469 - 19s - loss: 0.0011 - accuracy: 0.9955 - val_loss: 0.0040 - val_accuracy: 0.9771 - 19s/epoch - 40ms/step\n",
            "Epoch 24/30\n",
            "469/469 - 20s - loss: 0.0011 - accuracy: 0.9958 - val_loss: 0.0036 - val_accuracy: 0.9795 - 20s/epoch - 42ms/step\n",
            "Epoch 25/30\n",
            "469/469 - 19s - loss: 0.0010 - accuracy: 0.9959 - val_loss: 0.0037 - val_accuracy: 0.9804 - 19s/epoch - 41ms/step\n",
            "Epoch 26/30\n",
            "469/469 - 19s - loss: 0.0010 - accuracy: 0.9960 - val_loss: 0.0034 - val_accuracy: 0.9811 - 19s/epoch - 40ms/step\n",
            "Epoch 27/30\n",
            "469/469 - 19s - loss: 8.2625e-04 - accuracy: 0.9973 - val_loss: 0.0041 - val_accuracy: 0.9773 - 19s/epoch - 41ms/step\n",
            "Epoch 28/30\n",
            "469/469 - 19s - loss: 8.2685e-04 - accuracy: 0.9969 - val_loss: 0.0037 - val_accuracy: 0.9799 - 19s/epoch - 40ms/step\n",
            "Epoch 29/30\n",
            "469/469 - 19s - loss: 0.0010 - accuracy: 0.9961 - val_loss: 0.0037 - val_accuracy: 0.9799 - 19s/epoch - 40ms/step\n",
            "Epoch 30/30\n",
            "469/469 - 19s - loss: 9.1778e-04 - accuracy: 0.9966 - val_loss: 0.0034 - val_accuracy: 0.9815 - 19s/epoch - 41ms/step\n",
            "정확률은 98.15000295639038\n"
          ]
        },
        {
          "output_type": "display_data",
          "data": {
            "text/plain": [
              "<Figure size 432x288 with 1 Axes>"
            ],
            "image/png": "[encoded data removed]"
          },
          "metadata": {
            "needs_background": "light"
          }
        },
        {
          "output_type": "display_data",
          "data": {
            "text/plain": [
              "<Figure size 432x288 with 1 Axes>"
            ],
            "image/png": "[encoded data removed]"
          },
          "metadata": {
            "needs_background": "light"
          }
        }
      ]
    },
    {
      "cell_type": "markdown",
      "source": [
        "###가중치 초기화 방법"
      ],
      "metadata": {
        "id": "jBnQ6cUMXGZx"
      }
    },
    {
      "cell_type": "code",
      "source": [
        "import numpy as np\n",
        "import tensorflow as tf\n",
        "from tensorflow.keras.datasets import mnist\n",
        "from tensorflow.keras.models import Sequential\n",
        "from tensorflow.keras.layers import Dense\n",
        "from tensorflow.keras.optimizers import Adam\n",
        "\n",
        "# MNIST 읽어 와서 신경망에 입력할 형태로 변환\n",
        "(x_train, y_train), (x_test, y_test) = mnist.load_data()\n",
        "x_train = x_train.reshape(60000,784) # 텐서 모양 변환\n",
        "x_test = x_test.reshape(10000,784)\n",
        "x_train=x_train.astype(np.float32)/255.0 # ndarray로 변환\n",
        "x_test=x_test.astype(np.float32)/255.0\n",
        "y_train=tf.keras.utils.to_categorical(y_train,10) # 원핫 코드로 변환\n",
        "y_test=tf.keras.utils.to_categorical(y_test,10)\n",
        "\n",
        "# 신경망 구조 설정\n",
        "n_input=784\n",
        "n_hidden1=1024\n",
        "n_hidden2=512\n",
        "n_hidden3=512\n",
        "n_hidden4=512\n",
        "n_output=10\n",
        "\n",
        "# 신경망 구조 설계\n",
        "mlp=Sequential()\n",
        "mlp.add(Dense(units=n_hidden1,activation='tanh',input_shape=(n_input,)))\n",
        "mlp.add(Dense(units=n_hidden2,activation='tanh'))\n",
        "mlp.add(Dense(units=n_hidden3,activation='tanh'))\n",
        "mlp.add(Dense(units=n_hidden4,activation='tanh'))\n",
        "mlp.add(Dense(units=n_output,activation='tanh'))\n",
        "\n",
        "# 신경망 학습\n",
        "mlp.compile(loss='mean_squared_error',optimizer=Adam(learning_rate=0.001),metrics=['accuracy'])\n",
        "hist=mlp.fit(x_train,y_train,batch_size=128,epochs=30,validation_data=(x_test,y_test),verbose=2)\n",
        "\n",
        "# 신경망의 정확률 측정\n",
        "res=mlp.evaluate(x_test,y_test,verbose=0)\n",
        "print(\"정확률은\",res[1]*100)\n",
        "\n",
        "import matplotlib.pyplot as plt\n",
        "\n",
        "# 정확률 곡선\n",
        "plt.plot(hist.history['accuracy'])\n",
        "plt.plot(hist.history['val_accuracy'])\n",
        "plt.title('Model accuracy')\n",
        "plt.ylabel('Accuracy')\n",
        "plt.xlabel('Epoch')\n",
        "plt.legend(['Train','Validation'], loc='upper left')\n",
        "plt.grid()\n",
        "plt.show()\n",
        "\n",
        "# 손실 함수 곡선\n",
        "plt.plot(hist.history['loss'])\n",
        "plt.plot(hist.history['val_loss'])\n",
        "plt.title('Model loss')\n",
        "plt.ylabel('Loss')\n",
        "plt.xlabel('Epoch')\n",
        "plt.legend(['Train','Validation'], loc='upper right')\n",
        "plt.grid()\n",
        "plt.show()"
      ],
      "metadata": {
        "colab": {
          "base_uri": "https://localhost:8080/",
          "height": 1000
        },
        "id": "czA8ZwLjW17p",
        "outputId": "7fccc8c0-9a2c-4cde-ffa2-0f00a3609f0b"
      },
      "execution_count": null,
      "outputs": [
        {
          "output_type": "stream",
          "name": "stdout",
          "text": [
            "Downloading data from https://storage.googleapis.com/tensorflow/tf-keras-datasets/mnist.npz\n",
            "11493376/11490434 [==============================] - 0s 0us/step\n",
            "11501568/11490434 [==============================] - 0s 0us/step\n",
            "Epoch 1/30\n",
            "469/469 - 15s - loss: 0.1971 - accuracy: 0.0992 - val_loss: 0.1021 - val_accuracy: 0.0974 - 15s/epoch - 32ms/step\n",
            "Epoch 2/30\n",
            "469/469 - 14s - loss: 0.0995 - accuracy: 0.0975 - val_loss: 0.0979 - val_accuracy: 0.0974 - 14s/epoch - 30ms/step\n",
            "Epoch 3/30\n",
            "469/469 - 14s - loss: 0.0970 - accuracy: 0.0975 - val_loss: 0.0973 - val_accuracy: 0.0974 - 14s/epoch - 30ms/step\n",
            "Epoch 4/30\n",
            "469/469 - 19s - loss: 0.0957 - accuracy: 0.0975 - val_loss: 0.0957 - val_accuracy: 0.0974 - 19s/epoch - 41ms/step\n",
            "Epoch 5/30\n",
            "469/469 - 18s - loss: 0.0945 - accuracy: 0.0975 - val_loss: 0.0952 - val_accuracy: 0.0974 - 18s/epoch - 38ms/step\n",
            "Epoch 6/30\n",
            "469/469 - 14s - loss: 0.0939 - accuracy: 0.0975 - val_loss: 0.0950 - val_accuracy: 0.0974 - 14s/epoch - 30ms/step\n",
            "Epoch 7/30\n",
            "469/469 - 14s - loss: 0.0934 - accuracy: 0.0975 - val_loss: 0.0944 - val_accuracy: 0.0974 - 14s/epoch - 31ms/step\n",
            "Epoch 8/30\n",
            "469/469 - 15s - loss: 0.0930 - accuracy: 0.0975 - val_loss: 0.0947 - val_accuracy: 0.0974 - 15s/epoch - 31ms/step\n",
            "Epoch 9/30\n",
            "469/469 - 22s - loss: 0.0928 - accuracy: 0.0975 - val_loss: 0.0940 - val_accuracy: 0.0974 - 22s/epoch - 47ms/step\n",
            "Epoch 10/30\n",
            "469/469 - 14s - loss: 0.0926 - accuracy: 0.0975 - val_loss: 0.0941 - val_accuracy: 0.0974 - 14s/epoch - 30ms/step\n",
            "Epoch 11/30\n",
            "469/469 - 14s - loss: 0.0926 - accuracy: 0.0975 - val_loss: 0.0943 - val_accuracy: 0.0974 - 14s/epoch - 30ms/step\n",
            "Epoch 12/30\n",
            "469/469 - 15s - loss: 0.0924 - accuracy: 0.0975 - val_loss: 0.0946 - val_accuracy: 0.0974 - 15s/epoch - 32ms/step\n",
            "Epoch 13/30\n",
            "469/469 - 14s - loss: 0.0923 - accuracy: 0.0975 - val_loss: 0.0942 - val_accuracy: 0.0974 - 14s/epoch - 30ms/step\n",
            "Epoch 14/30\n",
            "469/469 - 14s - loss: 0.0922 - accuracy: 0.0975 - val_loss: 0.0943 - val_accuracy: 0.0974 - 14s/epoch - 30ms/step\n",
            "Epoch 15/30\n",
            "469/469 - 15s - loss: 0.0922 - accuracy: 0.0975 - val_loss: 0.0939 - val_accuracy: 0.0974 - 15s/epoch - 33ms/step\n",
            "Epoch 16/30\n",
            "469/469 - 14s - loss: 0.0920 - accuracy: 0.0975 - val_loss: 0.0940 - val_accuracy: 0.0974 - 14s/epoch - 30ms/step\n",
            "Epoch 17/30\n",
            "469/469 - 14s - loss: 0.0918 - accuracy: 0.0975 - val_loss: 0.0934 - val_accuracy: 0.0974 - 14s/epoch - 31ms/step\n",
            "Epoch 18/30\n",
            "469/469 - 14s - loss: 0.0918 - accuracy: 0.0975 - val_loss: 0.0957 - val_accuracy: 0.0974 - 14s/epoch - 31ms/step\n",
            "Epoch 19/30\n",
            "469/469 - 15s - loss: 0.0919 - accuracy: 0.0975 - val_loss: 0.0937 - val_accuracy: 0.0974 - 15s/epoch - 32ms/step\n",
            "Epoch 20/30\n",
            "469/469 - 15s - loss: 0.0917 - accuracy: 0.0975 - val_loss: 0.0932 - val_accuracy: 0.0974 - 15s/epoch - 32ms/step\n",
            "Epoch 21/30\n",
            "469/469 - 14s - loss: 0.0916 - accuracy: 0.0975 - val_loss: 0.0940 - val_accuracy: 0.0974 - 14s/epoch - 30ms/step\n",
            "Epoch 22/30\n",
            "469/469 - 14s - loss: 0.0915 - accuracy: 0.0975 - val_loss: 0.0934 - val_accuracy: 0.0974 - 14s/epoch - 30ms/step\n",
            "Epoch 23/30\n",
            "469/469 - 14s - loss: 0.0915 - accuracy: 0.0975 - val_loss: 0.0936 - val_accuracy: 0.0974 - 14s/epoch - 31ms/step\n",
            "Epoch 24/30\n",
            "469/469 - 14s - loss: 0.0914 - accuracy: 0.0975 - val_loss: 0.0937 - val_accuracy: 0.0974 - 14s/epoch - 31ms/step\n",
            "Epoch 25/30\n",
            "469/469 - 14s - loss: 0.0914 - accuracy: 0.0975 - val_loss: 0.0936 - val_accuracy: 0.0974 - 14s/epoch - 31ms/step\n",
            "Epoch 26/30\n",
            "469/469 - 15s - loss: 0.0913 - accuracy: 0.0975 - val_loss: 0.0937 - val_accuracy: 0.0974 - 15s/epoch - 33ms/step\n",
            "Epoch 27/30\n",
            "469/469 - 14s - loss: 0.0913 - accuracy: 0.0975 - val_loss: 0.0945 - val_accuracy: 0.0974 - 14s/epoch - 31ms/step\n",
            "Epoch 28/30\n",
            "469/469 - 15s - loss: 0.0913 - accuracy: 0.0975 - val_loss: 0.0940 - val_accuracy: 0.0974 - 15s/epoch - 31ms/step\n",
            "Epoch 29/30\n",
            "469/469 - 14s - loss: 0.0913 - accuracy: 0.0975 - val_loss: 0.0936 - val_accuracy: 0.0974 - 14s/epoch - 31ms/step\n",
            "Epoch 30/30\n",
            "469/469 - 14s - loss: 0.0911 - accuracy: 0.0975 - val_loss: 0.0934 - val_accuracy: 0.0974 - 14s/epoch - 31ms/step\n",
            "정확률은 9.740000218153\n"
          ]
        },
        {
          "output_type": "display_data",
          "data": {
            "text/plain": [
              "<Figure size 432x288 with 1 Axes>"
            ],
            "image/png": "[encoded data removed]"
          },
          "metadata": {
            "needs_background": "light"
          }
        },
        {
          "output_type": "display_data",
          "data": {
            "text/plain": [
              "<Figure size 432x288 with 1 Axes>"
            ],
            "image/png": "[encoded data removed]"
          },
          "metadata": {
            "needs_background": "light"
          }
        }
      ]
    },
    {
      "cell_type": "markdown",
      "source": [
        "#딥러닝의 학습 전략"
      ],
      "metadata": {
        "id": "qEoTOIsUXY8h"
      }
    },
    {
      "cell_type": "markdown",
      "source": [
        "##최적화"
      ],
      "metadata": {
        "id": "dF6tAujmzWGA"
      }
    },
    {
      "cell_type": "code",
      "source": [
        "import numpy as np\n",
        "import tensorflow as tf\n",
        "from tensorflow.keras.datasets import mnist\n",
        "from tensorflow.keras.models import Sequential\n",
        "from tensorflow.keras.layers import Dense\n",
        "from tensorflow.keras.optimizers import Adam\n",
        "\n",
        "# MNIST 읽어 와서 신경망에 입력할 형태로 변환\n",
        "(x_train, y_train), (x_test, y_test) = mnist.load_data()\n",
        "x_train = x_train.reshape(60000,784)\n",
        "x_test = x_test.reshape(10000,784)\n",
        "x_train=x_train.astype(np.float32)/255.0\n",
        "x_test=x_test.astype(np.float32)/255.0\n",
        "y_train=tf.keras.utils.to_categorical(y_train,10)\n",
        "y_test=tf.keras.utils.to_categorical(y_test,10)\n",
        "\n",
        "# 신경망 구조 설정\n",
        "n_input=784\n",
        "n_hidden1=1024\n",
        "n_hidden2=512\n",
        "n_hidden3=512\n",
        "n_hidden4=512\n",
        "n_output=10\n",
        "\n",
        "# 평균제곱오차를 사용한 모델\n",
        "dmlp_mse=Sequential()\n",
        "dmlp_mse.add(Dense(units=n_hidden1,activation='tanh',input_shape=(n_input,)))\n",
        "dmlp_mse.add(Dense(units=n_hidden2,activation='tanh'))\n",
        "dmlp_mse.add(Dense(units=n_hidden3,activation='tanh'))\n",
        "dmlp_mse.add(Dense(units=n_hidden4,activation='tanh'))\n",
        "dmlp_mse.add(Dense(units=n_output,activation='softmax'))\n",
        "dmlp_mse.compile(loss='mean_squared_error',optimizer=Adam(learning_rate=0.0001),metrics=['accuracy'])\n",
        "hist_mse=dmlp_mse.fit(x_train,y_train,batch_size=128,epochs=30,validation_data=(x_test,y_test),verbose=2)\n",
        "\n",
        "# 교차 엔트로피를 사용한 모델\n",
        "dmlp_ce=Sequential()\n",
        "dmlp_ce.add(Dense(units=n_hidden1,activation='tanh',input_shape=(n_input,)))\n",
        "dmlp_ce.add(Dense(units=n_hidden2,activation='tanh'))\n",
        "dmlp_ce.add(Dense(units=n_hidden3,activation='tanh'))\n",
        "dmlp_ce.add(Dense(units=n_hidden4,activation='tanh'))\n",
        "dmlp_ce.add (Dense(units=n_output,activation='softmax'))\n",
        "dmlp_ce.compile(loss='categorical_crossentropy',optimizer=Adam(learning_rate=0.0001),metrics=['accuracy'])\n",
        "hist_ce=dmlp_ce.fit(x_train,y_train,batch_size=128,epochs=30,validation_data=(x_test,y_test),verbose=2)\n",
        "\n",
        "# 두 모델의 정확률 비교\n",
        "res_mse=dmlp_mse.evaluate(x_test,y_test,verbose=0)\n",
        "print(\"평균제곱오차의 정확률은\",res_mse[1]*100)\n",
        "res_ce=dmlp_ce.evaluate(x_test,y_test,verbose=0)\n",
        "print(\"교차 엔트로피의 정확률은\",res_ce[1]*100)\n",
        "\n",
        "# 하나의 그래프에서 두 모델을 비교\n",
        "import matplotlib.pyplot as plt\n",
        "plt.plot(hist_mse.history['accuracy'])\n",
        "plt.plot(hist_mse.history['val_accuracy'])\n",
        "plt.plot(hist_ce.history['accuracy'])\n",
        "plt.plot(hist_ce.history['val_accuracy'])\n",
        "plt.title('Model accuracy comparison between MSE and cross entropy')\n",
        "plt.ylabel('Accuracy')\n",
        "plt.xlabel('Epoch')\n",
        "plt.legend(['Train_mse','Validation_mse','Train_ce','Validation_ce'], loc='best')\n",
        "plt.grid()\n",
        "plt.show()"
      ],
      "metadata": {
        "id": "z1PTJMdZzYkv",
        "colab": {
          "base_uri": "https://localhost:8080/",
          "height": 1000
        },
        "outputId": "db6711eb-6606-417c-ece4-ec70b08dad1f"
      },
      "execution_count": null,
      "outputs": [
        {
          "output_type": "stream",
          "name": "stdout",
          "text": [
            "Epoch 1/30\n",
            "469/469 - 15s - loss: 0.0163 - accuracy: 0.8926 - val_loss: 0.0106 - val_accuracy: 0.9303 - 15s/epoch - 32ms/step\n",
            "Epoch 2/30\n",
            "469/469 - 15s - loss: 0.0098 - accuracy: 0.9362 - val_loss: 0.0094 - val_accuracy: 0.9384 - 15s/epoch - 31ms/step\n",
            "Epoch 3/30\n",
            "469/469 - 15s - loss: 0.0075 - accuracy: 0.9515 - val_loss: 0.0069 - val_accuracy: 0.9551 - 15s/epoch - 31ms/step\n",
            "Epoch 4/30\n",
            "469/469 - 14s - loss: 0.0060 - accuracy: 0.9623 - val_loss: 0.0063 - val_accuracy: 0.9597 - 14s/epoch - 31ms/step\n",
            "Epoch 5/30\n",
            "469/469 - 15s - loss: 0.0050 - accuracy: 0.9681 - val_loss: 0.0054 - val_accuracy: 0.9640 - 15s/epoch - 31ms/step\n",
            "Epoch 6/30\n",
            "469/469 - 15s - loss: 0.0043 - accuracy: 0.9734 - val_loss: 0.0048 - val_accuracy: 0.9691 - 15s/epoch - 31ms/step\n",
            "Epoch 7/30\n",
            "469/469 - 15s - loss: 0.0037 - accuracy: 0.9776 - val_loss: 0.0044 - val_accuracy: 0.9702 - 15s/epoch - 31ms/step\n",
            "Epoch 8/30\n",
            "469/469 - 15s - loss: 0.0032 - accuracy: 0.9807 - val_loss: 0.0046 - val_accuracy: 0.9696 - 15s/epoch - 32ms/step\n",
            "Epoch 9/30\n",
            "469/469 - 15s - loss: 0.0028 - accuracy: 0.9835 - val_loss: 0.0039 - val_accuracy: 0.9735 - 15s/epoch - 32ms/step\n",
            "Epoch 10/30\n",
            "469/469 - 15s - loss: 0.0024 - accuracy: 0.9856 - val_loss: 0.0037 - val_accuracy: 0.9753 - 15s/epoch - 31ms/step\n",
            "Epoch 11/30\n",
            "469/469 - 14s - loss: 0.0022 - accuracy: 0.9874 - val_loss: 0.0034 - val_accuracy: 0.9770 - 14s/epoch - 31ms/step\n",
            "Epoch 12/30\n",
            "469/469 - 16s - loss: 0.0019 - accuracy: 0.9896 - val_loss: 0.0035 - val_accuracy: 0.9769 - 16s/epoch - 33ms/step\n",
            "Epoch 13/30\n",
            "469/469 - 15s - loss: 0.0016 - accuracy: 0.9909 - val_loss: 0.0033 - val_accuracy: 0.9772 - 15s/epoch - 32ms/step\n",
            "Epoch 14/30\n",
            "469/469 - 15s - loss: 0.0014 - accuracy: 0.9924 - val_loss: 0.0031 - val_accuracy: 0.9793 - 15s/epoch - 32ms/step\n",
            "Epoch 15/30\n",
            "469/469 - 15s - loss: 0.0012 - accuracy: 0.9934 - val_loss: 0.0032 - val_accuracy: 0.9785 - 15s/epoch - 31ms/step\n",
            "Epoch 16/30\n",
            "469/469 - 15s - loss: 0.0011 - accuracy: 0.9945 - val_loss: 0.0032 - val_accuracy: 0.9771 - 15s/epoch - 32ms/step\n",
            "Epoch 17/30\n",
            "469/469 - 15s - loss: 9.6539e-04 - accuracy: 0.9949 - val_loss: 0.0031 - val_accuracy: 0.9785 - 15s/epoch - 31ms/step\n",
            "Epoch 18/30\n",
            "469/469 - 15s - loss: 8.2569e-04 - accuracy: 0.9959 - val_loss: 0.0032 - val_accuracy: 0.9774 - 15s/epoch - 32ms/step\n",
            "Epoch 19/30\n",
            "469/469 - 20s - loss: 7.4640e-04 - accuracy: 0.9963 - val_loss: 0.0031 - val_accuracy: 0.9795 - 20s/epoch - 42ms/step\n",
            "Epoch 20/30\n",
            "469/469 - 21s - loss: 6.8890e-04 - accuracy: 0.9964 - val_loss: 0.0033 - val_accuracy: 0.9769 - 21s/epoch - 45ms/step\n",
            "Epoch 21/30\n",
            "469/469 - 15s - loss: 6.4636e-04 - accuracy: 0.9967 - val_loss: 0.0033 - val_accuracy: 0.9787 - 15s/epoch - 32ms/step\n",
            "Epoch 22/30\n",
            "469/469 - 20s - loss: 5.6896e-04 - accuracy: 0.9972 - val_loss: 0.0030 - val_accuracy: 0.9792 - 20s/epoch - 43ms/step\n",
            "Epoch 23/30\n",
            "469/469 - 21s - loss: 5.3492e-04 - accuracy: 0.9972 - val_loss: 0.0032 - val_accuracy: 0.9788 - 21s/epoch - 45ms/step\n",
            "Epoch 24/30\n",
            "469/469 - 15s - loss: 6.0061e-04 - accuracy: 0.9967 - val_loss: 0.0031 - val_accuracy: 0.9798 - 15s/epoch - 31ms/step\n",
            "Epoch 25/30\n",
            "469/469 - 15s - loss: 4.2343e-04 - accuracy: 0.9979 - val_loss: 0.0028 - val_accuracy: 0.9806 - 15s/epoch - 31ms/step\n",
            "Epoch 26/30\n",
            "469/469 - 15s - loss: 4.4356e-04 - accuracy: 0.9977 - val_loss: 0.0032 - val_accuracy: 0.9794 - 15s/epoch - 32ms/step\n",
            "Epoch 27/30\n",
            "469/469 - 15s - loss: 4.1222e-04 - accuracy: 0.9978 - val_loss: 0.0032 - val_accuracy: 0.9790 - 15s/epoch - 31ms/step\n",
            "Epoch 28/30\n",
            "469/469 - 14s - loss: 4.2191e-04 - accuracy: 0.9977 - val_loss: 0.0032 - val_accuracy: 0.9790 - 14s/epoch - 31ms/step\n",
            "Epoch 29/30\n",
            "469/469 - 14s - loss: 3.5517e-04 - accuracy: 0.9982 - val_loss: 0.0028 - val_accuracy: 0.9810 - 14s/epoch - 31ms/step\n",
            "Epoch 30/30\n",
            "469/469 - 18s - loss: 2.5339e-04 - accuracy: 0.9987 - val_loss: 0.0030 - val_accuracy: 0.9799 - 18s/epoch - 39ms/step\n",
            "Epoch 1/30\n",
            "469/469 - 15s - loss: 0.3636 - accuracy: 0.8964 - val_loss: 0.2283 - val_accuracy: 0.9325 - 15s/epoch - 32ms/step\n",
            "Epoch 2/30\n",
            "469/469 - 14s - loss: 0.2000 - accuracy: 0.9416 - val_loss: 0.1695 - val_accuracy: 0.9488 - 14s/epoch - 31ms/step\n",
            "Epoch 3/30\n",
            "469/469 - 14s - loss: 0.1431 - accuracy: 0.9581 - val_loss: 0.1303 - val_accuracy: 0.9630 - 14s/epoch - 31ms/step\n",
            "Epoch 4/30\n",
            "469/469 - 15s - loss: 0.1111 - accuracy: 0.9672 - val_loss: 0.1100 - val_accuracy: 0.9656 - 15s/epoch - 32ms/step\n",
            "Epoch 5/30\n",
            "469/469 - 14s - loss: 0.0879 - accuracy: 0.9741 - val_loss: 0.0916 - val_accuracy: 0.9717 - 14s/epoch - 31ms/step\n",
            "Epoch 6/30\n",
            "469/469 - 14s - loss: 0.0729 - accuracy: 0.9776 - val_loss: 0.0901 - val_accuracy: 0.9720 - 14s/epoch - 30ms/step\n",
            "Epoch 7/30\n",
            "469/469 - 14s - loss: 0.0601 - accuracy: 0.9814 - val_loss: 0.0812 - val_accuracy: 0.9752 - 14s/epoch - 30ms/step\n",
            "Epoch 8/30\n",
            "469/469 - 14s - loss: 0.0502 - accuracy: 0.9844 - val_loss: 0.0745 - val_accuracy: 0.9757 - 14s/epoch - 30ms/step\n",
            "Epoch 9/30\n",
            "469/469 - 14s - loss: 0.0413 - accuracy: 0.9875 - val_loss: 0.0753 - val_accuracy: 0.9772 - 14s/epoch - 30ms/step\n",
            "Epoch 10/30\n",
            "469/469 - 14s - loss: 0.0347 - accuracy: 0.9895 - val_loss: 0.0706 - val_accuracy: 0.9786 - 14s/epoch - 30ms/step\n",
            "Epoch 11/30\n",
            "469/469 - 14s - loss: 0.0289 - accuracy: 0.9918 - val_loss: 0.0714 - val_accuracy: 0.9764 - 14s/epoch - 30ms/step\n",
            "Epoch 12/30\n",
            "469/469 - 14s - loss: 0.0241 - accuracy: 0.9934 - val_loss: 0.0684 - val_accuracy: 0.9796 - 14s/epoch - 30ms/step\n",
            "Epoch 13/30\n",
            "469/469 - 14s - loss: 0.0201 - accuracy: 0.9946 - val_loss: 0.0670 - val_accuracy: 0.9787 - 14s/epoch - 31ms/step\n",
            "Epoch 14/30\n",
            "469/469 - 14s - loss: 0.0165 - accuracy: 0.9956 - val_loss: 0.0691 - val_accuracy: 0.9793 - 14s/epoch - 31ms/step\n",
            "Epoch 15/30\n",
            "469/469 - 14s - loss: 0.0137 - accuracy: 0.9966 - val_loss: 0.0709 - val_accuracy: 0.9784 - 14s/epoch - 31ms/step\n",
            "Epoch 16/30\n",
            "469/469 - 14s - loss: 0.0105 - accuracy: 0.9976 - val_loss: 0.0641 - val_accuracy: 0.9800 - 14s/epoch - 31ms/step\n",
            "Epoch 17/30\n",
            "469/469 - 14s - loss: 0.0095 - accuracy: 0.9975 - val_loss: 0.0656 - val_accuracy: 0.9803 - 14s/epoch - 31ms/step\n",
            "Epoch 18/30\n",
            "469/469 - 15s - loss: 0.0073 - accuracy: 0.9983 - val_loss: 0.0716 - val_accuracy: 0.9789 - 15s/epoch - 33ms/step\n",
            "Epoch 19/30\n",
            "469/469 - 14s - loss: 0.0086 - accuracy: 0.9978 - val_loss: 0.0712 - val_accuracy: 0.9796 - 14s/epoch - 31ms/step\n",
            "Epoch 20/30\n",
            "469/469 - 14s - loss: 0.0056 - accuracy: 0.9986 - val_loss: 0.0727 - val_accuracy: 0.9794 - 14s/epoch - 30ms/step\n",
            "Epoch 21/30\n",
            "469/469 - 14s - loss: 0.0060 - accuracy: 0.9983 - val_loss: 0.0810 - val_accuracy: 0.9774 - 14s/epoch - 30ms/step\n",
            "Epoch 22/30\n",
            "469/469 - 14s - loss: 0.0043 - accuracy: 0.9992 - val_loss: 0.0724 - val_accuracy: 0.9809 - 14s/epoch - 30ms/step\n",
            "Epoch 23/30\n",
            "469/469 - 14s - loss: 0.0034 - accuracy: 0.9994 - val_loss: 0.0827 - val_accuracy: 0.9798 - 14s/epoch - 30ms/step\n",
            "Epoch 24/30\n",
            "469/469 - 14s - loss: 0.0069 - accuracy: 0.9981 - val_loss: 0.0825 - val_accuracy: 0.9782 - 14s/epoch - 30ms/step\n",
            "Epoch 25/30\n",
            "469/469 - 14s - loss: 0.0037 - accuracy: 0.9989 - val_loss: 0.0792 - val_accuracy: 0.9799 - 14s/epoch - 30ms/step\n",
            "Epoch 26/30\n",
            "469/469 - 14s - loss: 0.0019 - accuracy: 0.9997 - val_loss: 0.0708 - val_accuracy: 0.9831 - 14s/epoch - 30ms/step\n",
            "Epoch 27/30\n",
            "469/469 - 14s - loss: 9.6458e-04 - accuracy: 0.9999 - val_loss: 0.0716 - val_accuracy: 0.9819 - 14s/epoch - 30ms/step\n",
            "Epoch 28/30\n",
            "469/469 - 14s - loss: 0.0022 - accuracy: 0.9995 - val_loss: 0.0727 - val_accuracy: 0.9822 - 14s/epoch - 30ms/step\n",
            "Epoch 29/30\n",
            "469/469 - 14s - loss: 0.0108 - accuracy: 0.9963 - val_loss: 0.0753 - val_accuracy: 0.9812 - 14s/epoch - 31ms/step\n",
            "Epoch 30/30\n",
            "469/469 - 14s - loss: 0.0022 - accuracy: 0.9995 - val_loss: 0.0695 - val_accuracy: 0.9831 - 14s/epoch - 31ms/step\n",
            "평균제곱오차의 정확률은 97.99000024795532\n",
            "교차 엔트로피의 정확률은 98.30999970436096\n"
          ]
        },
        {
          "output_type": "display_data",
          "data": {
            "text/plain": [
              "<Figure size 432x288 with 1 Axes>"
            ],
            "image/png": "[encoded data removed]"
          },
          "metadata": {
            "needs_background": "light"
          }
        }
      ]
    },
    {
      "cell_type": "markdown",
      "source": [
        "##딥러닝이 사용하는 옵티마이저"
      ],
      "metadata": {
        "id": "hkuC00_zbiDB"
      }
    },
    {
      "cell_type": "code",
      "source": [
        "import numpy as np\n",
        "import tensorflow as tf\n",
        "from tensorflow.keras.datasets import fashion_mnist\n",
        "from tensorflow.keras.models import Sequential\n",
        "from tensorflow.keras.layers import Dense\n",
        "from tensorflow.keras.optimizers import SGD,Adam,Adagrad,RMSprop\n",
        "\n",
        "# fashion MNIST 읽어 와서 신경망에 입력할 형태로 변환\n",
        "(x_train, y_train), (x_test, y_test) = fashion_mnist.load_data()\n",
        "x_train = x_train.reshape(60000,784)\n",
        "x_test = x_test.reshape(10000,784)\n",
        "x_train=x_train.astype(np.float32)/255.0\n",
        "x_test=x_test.astype(np.float32)/255.0\n",
        "y_train=tf.keras.utils.to_categorical(y_train,10)\n",
        "y_test=tf.keras.utils.to_categorical(y_test,10)\n",
        "\n",
        "# 신경망 구조 설정\n",
        "n_input=784\n",
        "n_hidden1=1024\n",
        "n_hidden2=512\n",
        "n_hidden3=512\n",
        "n_hidden4=512\n",
        "n_output=10\n",
        "\n",
        "# 하이퍼 매개변수 설정\n",
        "batch_siz=256\n",
        "n_epoch=50\n",
        "\n",
        "# 모델을 설계해주는 함수(모델을 나타내는 객체 model을 반환)\n",
        "def build_model():\n",
        "    model=Sequential()\n",
        "    model.add(Dense(units=n_hidden1,activation='relu',input_shape=(n_input,)))\n",
        "    model.add(Dense(units=n_hidden2,activation='relu'))\n",
        "    model.add(Dense(units=n_hidden3,activation='relu'))\n",
        "    model.add(Dense(units=n_hidden4,activation='relu'))\n",
        "    model.add(Dense(units=n_output,activation='softmax'))\n",
        "    return model\n",
        "\n",
        "# SGD 옵티마이저를 사용하는 모델\n",
        "dmlp_sgd=build_model()\n",
        "dmlp_sgd.compile(loss='categorical_crossentropy',optimizer=SGD(),metrics=['accuracy'])\n",
        "hist_sgd=dmlp_sgd.fit(x_train,y_train,batch_size=batch_siz,epochs=n_epoch,validation_data=(x_test,y_test),verbose=2)\n",
        "\n",
        "# Adam 옵티마이저를 사용하는 모델\n",
        "dmlp_adam=build_model()\n",
        "dmlp_adam.compile(loss='categorical_crossentropy',optimizer=Adam(),metrics=['accuracy'])\n",
        "hist_adam=dmlp_adam.fit(x_train,y_train,batch_size=batch_siz,epochs=n_epoch,validation_data=(x_test,y_test),verbose=2)\n",
        "\n",
        "# Adagrad 옵티마이저를 사용하는 모델\n",
        "dmlp_adagrad=build_model()\n",
        "dmlp_adagrad.compile(loss='categorical_crossentropy',optimizer=Adagrad(),metrics=['accuracy'])\n",
        "hist_adagrad=dmlp_adagrad.fit(x_train,y_train,batch_size=batch_siz,epochs=n_epoch,validation_data=(x_test,y_test),verbose=2)\n",
        "\n",
        "# RMSprop 옵티마이저를 사용하는 모델\n",
        "dmlp_rmsprop=build_model()\n",
        "dmlp_rmsprop.compile(loss='categorical_crossentropy',optimizer=RMSprop(),metrics=['accuracy'])\n",
        "hist_rmsprop=dmlp_rmsprop.fit(x_train,y_train,batch_size=batch_siz,epochs=n_epoch,validation_data=(x_test,y_test),verbose=2)\n",
        "\n",
        "# 네 모델의 정확률을 출력\n",
        "print(\"SGD 정확률은\",dmlp_sgd.evaluate(x_test,y_test,verbose=0)[1]*100)\n",
        "print(\"Adam 정확률은\",dmlp_adam.evaluate(x_test,y_test,verbose=0)[1]*100)\n",
        "print(\"Adagrad 정확률은\",dmlp_adagrad.evaluate(x_test,y_test,verbose=0)[1]*100)\n",
        "print(\"RMSprop 정확률은\",dmlp_rmsprop.evaluate(x_test,y_test,verbose=0)[1]*100)\n",
        "\n",
        "import matplotlib.pyplot as plt\n",
        "\n",
        "# 네 모델의 정확률을 하나의 그래프에서 비교\n",
        "plt.plot(hist_sgd.history['accuracy'],'r')\n",
        "plt.plot(hist_sgd.history['val_accuracy'],'r--')\n",
        "plt.plot(hist_adam.history['accuracy'],'g')\n",
        "plt.plot(hist_adam.history['val_accuracy'],'g--')\n",
        "plt.plot(hist_adagrad.history['accuracy'],'b')\n",
        "plt.plot(hist_adagrad.history['val_accuracy'],'b--')\n",
        "plt.plot(hist_rmsprop.history['accuracy'],'m')\n",
        "plt.plot(hist_rmsprop.history['val_accuracy'],'m--')\n",
        "plt.title('Model accuracy comparison between optimizers')\n",
        "plt.ylim((0.6,1.0))\n",
        "plt.ylabel('Accuracy')\n",
        "plt.xlabel('Epoch')\n",
        "plt.legend(['Train_sgd','Val_sgd','Train_adam','Val_adam','Train_adagrad','Val_adagrad','Train_rmsprop','Val_rmsprop'], loc='best')\n",
        "plt.grid()\n",
        "plt.show()"
      ],
      "metadata": {
        "id": "z6R9supAbtGJ"
      },
      "execution_count": null,
      "outputs": []
    },
    {
      "cell_type": "markdown",
      "source": [
        "##교차 검증을 이용한 하이퍼 매개변수 최적화\n"
      ],
      "metadata": {
        "id": "MAr6zGbmby8Y"
      }
    },
    {
      "cell_type": "code",
      "source": [
        "import numpy as np\n",
        "import tensorflow as tf\n",
        "from tensorflow.keras.datasets import fashion_mnist\n",
        "from tensorflow.keras.models import Sequential\n",
        "from tensorflow.keras.layers import Dense\n",
        "from tensorflow.keras.optimizers import SGD,Adam,Adagrad,RMSprop\n",
        "from sklearn.model_selection import KFold\n",
        "\n",
        "# fashion MNIST를 읽고 신경망에 입력할 형태로 변환\n",
        "(x_train, y_train), (x_test, y_test) = fashion_mnist.load_data()\n",
        "x_train = x_train.reshape(60000,784)\n",
        "x_test = x_test.reshape(10000,784)\n",
        "x_train=x_train.astype(np.float32)/255.0\n",
        "x_test=x_test.astype(np.float32)/255.0\n",
        "y_train=tf.keras.utils.to_categorical(y_train,10)\n",
        "y_test=tf.keras.utils.to_categorical(y_test,10)\n",
        "\n",
        "# 신경망 구조 설정\n",
        "n_input=784\n",
        "n_hidden1=1024\n",
        "n_hidden2=512\n",
        "n_hidden3=512\n",
        "n_hidden4=512\n",
        "n_output=10\n",
        "\n",
        "# 하이퍼 매개변수 설정\n",
        "batch_siz=256\n",
        "n_epoch=20\n",
        "k=5 # 5-겹\n",
        "\n",
        "# 모델을 설계해주는 함수(모델을 나타내는 객체 model을 반환)\n",
        "def build_model():\n",
        "    model=Sequential()\n",
        "    model.add(Dense(units=n_hidden1,activation='relu',input_shape=(n_input,)))\n",
        "    model.add(Dense(units=n_hidden2,activation='relu'))\n",
        "    model.add(Dense(units=n_hidden3,activation='relu'))\n",
        "    model.add(Dense(units=n_hidden4,activation='relu'))\n",
        "    model.add(Dense(units=n_output,activation='softmax'))\n",
        "    return model\n",
        "\n",
        "# 교차 검증을 해주는 함수(서로 다른 옵티마이저(opt)에 대해)\n",
        "def cross_validation(opt):\n",
        "    accuracy=[]\n",
        "    for train_index,val_index in KFold(k).split(x_train):\n",
        "        xtrain,xval=x_train[train_index],x_train[val_index]\n",
        "        ytrain,yval=y_train[train_index],y_train[val_index]\n",
        "        dmlp=build_model()\n",
        "        dmlp.compile(loss='categorical_crossentropy',optimizer=opt,metrics=['accuracy'])\n",
        "        dmlp.fit(xtrain,ytrain,batch_size=batch_siz,epochs=n_epoch,verbose=0)\n",
        "        accuracy.append(dmlp.evaluate(xval,yval,verbose=0)[1])\n",
        "    return accuracy\n",
        "\n",
        "# 옵티마이저 4개에 대해 교차 검증을 실행\n",
        "acc_sgd=cross_validation(SGD())\n",
        "acc_adam=cross_validation(Adam())\n",
        "acc_adagrad=cross_validation(Adagrad())\n",
        "acc_rmsprop=cross_validation(RMSprop())\n",
        "\n",
        "# 옵티마이저 4개의 정확률을 비교\n",
        "print(\"SGD:\",np.array(acc_sgd).mean())\n",
        "print(\"Adam:\",np.array(acc_adam).mean())\n",
        "print(\"Adagrad:\",np.array(acc_adagrad).mean())\n",
        "print(\"RMSprop:\",np.array(acc_rmsprop).mean())\n",
        "\n",
        "import matplotlib.pyplot as plt\n",
        "\n",
        "# 네 옵티마이저의 정확률을 박스플롯으로 비교\n",
        "plt.boxplot([acc_sgd,acc_adam,acc_adagrad,acc_rmsprop],labels=[\"SGD\",\"Adam\",\"Adagrad\",\"RMSprop\"])\n",
        "plt.grid()"
      ],
      "metadata": {
        "id": "9K_Zll5qd5hQ"
      },
      "execution_count": null,
      "outputs": []
    }
  ]
}