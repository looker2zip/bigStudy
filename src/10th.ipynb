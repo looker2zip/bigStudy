{
  "nbformat": 4,
  "nbformat_minor": 0,
  "metadata": {
    "colab": {
      "name": "10th.ipynb",
      "provenance": [],
      "collapsed_sections": []
    },
    "kernelspec": {
      "name": "python3",
      "display_name": "Python 3"
    },
    "language_info": {
      "name": "python"
    }
  },
  "cells": [
    {
      "cell_type": "markdown",
      "source": [
        "# 컨볼루션 신경망 프로그래밍"
      ],
      "metadata": {
        "id": "ozA_4usTqNJ8"
      }
    },
    {
      "cell_type": "markdown",
      "source": [
        "##LeNet-5 재현"
      ],
      "metadata": {
        "id": "pApX11wI0Zfz"
      }
    },
    {
      "cell_type": "code",
      "source": [
        "import numpy as np\n",
        "import tensorflow as tf\n",
        "from tensorflow.keras.datasets import mnist\n",
        "from tensorflow.keras.models import Sequential\n",
        "from tensorflow.keras.layers import Conv2D,MaxPooling2D,Flatten,Dense\n",
        "from tensorflow.keras.optimizers import Adam\n",
        "\n",
        "# MNIST 데이터셋을 읽고 신경망에 입력할 형태로 변환\n",
        "(x_train,y_train),(x_test,y_test)= mnist.load_data()\n",
        "x_train=x_train.reshape(60000,28,28,1)\n",
        "x_test=x_test.reshape(10000,28,28,1)\n",
        "x_train=x_train.astype(np.float32)/255.0\n",
        "x_test=x_test.astype(np.float32)/255.0\n",
        "y_train=tf.keras.utils.to_categorical(y_train,10)\n",
        "y_test=tf.keras.utils.to_categorical(y_test,10)\n",
        "\n",
        "# LeNet-5 신경망 모델 설계\n",
        "cnn=Sequential()\n",
        "cnn.add(Conv2D(6,(5,5),padding='same',activation='relu',input_shape=(28,28,1)))\n",
        "cnn.add(MaxPooling2D(pool_size=(2,2)))\n",
        "cnn.add(Conv2D(16,(5,5),padding='same',activation='relu'))\n",
        "cnn.add(MaxPooling2D(pool_size=(2,2)))\n",
        "cnn.add(Conv2D(120,(5,5),padding='same',activation='relu'))\n",
        "cnn.add(Flatten())\n",
        "cnn.add(Dense(84,activation='relu'))\n",
        "cnn.add(Dense(10,activation='softmax'))\n",
        "\n",
        "# 신경망 모델 학습\n",
        "cnn.compile(loss='categorical_crossentropy',optimizer=Adam(),metrics=['accuracy'])\n",
        "hist=cnn.fit(x_train,y_train,batch_size=128,epochs=30,validation_data=(x_test,y_test),verbose=2)\n",
        "\n",
        "# 신경망 모델 정확률 평가\n",
        "res=cnn.evaluate(x_test,y_test,verbose=0)\n",
        "print(\"정확률은\",res[1]*100)"
      ],
      "metadata": {
        "colab": {
          "base_uri": "https://localhost:8080/"
        },
        "id": "zVJuqWTg0afZ",
        "outputId": "06b4d216-5587-409f-a941-3ebcb6b6bc14"
      },
      "execution_count": null,
      "outputs": [
        {
          "output_type": "stream",
          "name": "stdout",
          "text": [
            "Downloading data from https://storage.googleapis.com/tensorflow/tf-keras-datasets/mnist.npz\n",
            "11493376/11490434 [==============================] - 0s 0us/step\n",
            "11501568/11490434 [==============================] - 0s 0us/step\n",
            "Epoch 1/30\n",
            "469/469 - 82s - loss: 0.1971 - accuracy: 0.9398 - val_loss: 0.0548 - val_accuracy: 0.9829 - 82s/epoch - 175ms/step\n",
            "Epoch 2/30\n",
            "469/469 - 68s - loss: 0.0546 - accuracy: 0.9829 - val_loss: 0.0394 - val_accuracy: 0.9871 - 68s/epoch - 145ms/step\n",
            "Epoch 3/30\n",
            "469/469 - 65s - loss: 0.0364 - accuracy: 0.9889 - val_loss: 0.0294 - val_accuracy: 0.9899 - 65s/epoch - 138ms/step\n",
            "Epoch 4/30\n",
            "469/469 - 65s - loss: 0.0274 - accuracy: 0.9915 - val_loss: 0.0291 - val_accuracy: 0.9917 - 65s/epoch - 138ms/step\n",
            "Epoch 5/30\n",
            "469/469 - 65s - loss: 0.0226 - accuracy: 0.9927 - val_loss: 0.0297 - val_accuracy: 0.9897 - 65s/epoch - 138ms/step\n",
            "Epoch 6/30\n",
            "469/469 - 67s - loss: 0.0178 - accuracy: 0.9944 - val_loss: 0.0332 - val_accuracy: 0.9902 - 67s/epoch - 142ms/step\n",
            "Epoch 7/30\n",
            "469/469 - 69s - loss: 0.0157 - accuracy: 0.9952 - val_loss: 0.0320 - val_accuracy: 0.9906 - 69s/epoch - 148ms/step\n",
            "Epoch 8/30\n",
            "469/469 - 65s - loss: 0.0127 - accuracy: 0.9960 - val_loss: 0.0300 - val_accuracy: 0.9908 - 65s/epoch - 139ms/step\n",
            "Epoch 9/30\n",
            "469/469 - 78s - loss: 0.0107 - accuracy: 0.9964 - val_loss: 0.0331 - val_accuracy: 0.9912 - 78s/epoch - 166ms/step\n",
            "Epoch 10/30\n",
            "469/469 - 77s - loss: 0.0092 - accuracy: 0.9968 - val_loss: 0.0382 - val_accuracy: 0.9894 - 77s/epoch - 164ms/step\n",
            "Epoch 11/30\n",
            "469/469 - 71s - loss: 0.0089 - accuracy: 0.9970 - val_loss: 0.0297 - val_accuracy: 0.9913 - 71s/epoch - 151ms/step\n",
            "Epoch 12/30\n"
          ]
        }
      ]
    },
    {
      "cell_type": "code",
      "source": [
        "import matplotlib.pyplot as plt\n",
        "\n",
        "# 정확률 그래프\n",
        "plt.plot(hist.history['accuracy'])\n",
        "plt.plot(hist.history['val_accuracy'])\n",
        "plt.title('Model accuracy')\n",
        "plt.ylabel('Accuracy')\n",
        "plt.xlabel('Epoch')\n",
        "plt.legend(['Train','Validation'],loc='best')\n",
        "plt.grid()\n",
        "plt.show()\n",
        "\n",
        "# 손실 함수 그래프\n",
        "plt.plot(hist.history['loss'])\n",
        "plt.plot(hist.history['val_loss'])\n",
        "plt.title('Model loss')\n",
        "plt.ylabel('Loss')\n",
        "plt.xlabel('Epoch')\n",
        "plt.legend(['Train','Validation'],loc='best')\n",
        "plt.grid()\n",
        "plt.show()"
      ],
      "metadata": {
        "id": "goXSE8yE0hBB"
      },
      "execution_count": null,
      "outputs": []
    },
    {
      "cell_type": "markdown",
      "source": [
        "##컨볼루션 신경망 재현"
      ],
      "metadata": {
        "id": "OQ8DSc0D156D"
      }
    },
    {
      "cell_type": "code",
      "source": [
        "import numpy as np\n",
        "import tensorflow as tf\n",
        "from tensorflow.keras.datasets import mnist\n",
        "from tensorflow.keras.models import Sequential\n",
        "from tensorflow.keras.layers import Conv2D,MaxPooling2D,Flatten,Dense,Dropout\n",
        "from tensorflow.keras.optimizers import Adam\n",
        "\n",
        "# MNIST 데이터셋을 읽고 신경망에 입력할 형태로 변환\n",
        "(x_train,y_train),(x_test,y_test)=mnist.load_data()\n",
        "x_train=x_train.reshape(60000,28,28,1)\n",
        "x_test=x_test.reshape(10000,28,28,1)\n",
        "x_train=x_train.astype(np.float32)/255.0\n",
        "x_test=x_test.astype(np.float32)/255.0\n",
        "y_train=tf.keras.utils.to_categorical(y_train,10)\n",
        "y_test=tf.keras.utils.to_categorical(y_test,10)\n",
        "\n",
        "# 신경망 모델 설계\n",
        "cnn=Sequential()\n",
        "cnn.add(Conv2D(32,(3,3),activation='relu',input_shape=(28,28,1)))\n",
        "cnn.add(Conv2D(64,(3,3),activation='relu'))\n",
        "cnn.add(MaxPooling2D(pool_size=(2,2)))\n",
        "cnn.add(Dropout(0.25))\n",
        "cnn.add(Flatten())\n",
        "cnn.add(Dense(128,activation='relu'))\n",
        "cnn.add(Dropout(0.5))\n",
        "cnn.add(Dense(10,activation='softmax'))\n",
        "\n",
        "# 신경망 모델 학습\n",
        "cnn.compile(loss='categorical_crossentropy',optimizer=Adam(),metrics=['accuracy'])\n",
        "hist=cnn.fit(x_train,y_train,batch_size=128,epochs=12,validation_data=(x_test,y_test),verbose=2)\n",
        "\n",
        "# 신경망 모델 정확률 평가\n",
        "res=cnn.evaluate(x_test,y_test,verbose=0)\n",
        "print(\"정확률은\",res[1]*100)"
      ],
      "metadata": {
        "id": "Gvmuv6da18Px"
      },
      "execution_count": null,
      "outputs": []
    },
    {
      "cell_type": "code",
      "source": [
        "import matplotlib.pyplot as plt\n",
        "\n",
        "# 정확률 그래프\n",
        "plt.plot(hist.history['accuracy'])\n",
        "plt.plot(hist.history['val_accuracy'])\n",
        "plt.title('Model accuracy')\n",
        "plt.ylabel('Accuracy')\n",
        "plt.xlabel('Epoch')\n",
        "plt.legend(['Train','Validation'], loc='best')\n",
        "plt.grid()\n",
        "plt.show()\n",
        "\n",
        "# 손실 함수 그래프\n",
        "plt.plot(hist.history['loss'])\n",
        "plt.plot(hist.history['val_loss'])\n",
        "plt.title('Model loss')\n",
        "plt.ylabel('Loss')\n",
        "plt.xlabel('Epoch')\n",
        "plt.legend(['Train','Validation'], loc='best')\n",
        "plt.grid()\n",
        "plt.show()"
      ],
      "metadata": {
        "id": "lAKz7hVJ2GVZ"
      },
      "execution_count": null,
      "outputs": []
    },
    {
      "cell_type": "markdown",
      "source": [
        "##텐서플로 프로그래밍"
      ],
      "metadata": {
        "id": "pmPxyp4p3xK5"
      }
    },
    {
      "cell_type": "code",
      "source": [
        "import numpy as np\n",
        "import tensorflow as tf\n",
        "from tensorflow.keras.datasets import fashion_mnist\n",
        "from tensorflow.keras.models import Sequential\n",
        "from tensorflow.keras.layers import Conv2D,MaxPooling2D,Flatten,Dense,Dropout\n",
        "from tensorflow.keras.optimizers import Adam\n",
        "\n",
        "# MNIST 데이터셋을 읽고 신경망에 입력할 형태로 변환\n",
        "(x_train,y_train),(x_test,y_test)=fashion_mnist.load_data()\n",
        "x_train=x_train.reshape(60000,28,28,1)\n",
        "x_test=x_test.reshape(10000,28,28,1)\n",
        "x_train=x_train.astype(np.float32)/255.0\n",
        "x_test=x_test.astype(np.float32)/255.0\n",
        "y_train=tf.keras.utils.to_categorical(y_train,10)\n",
        "y_test=tf.keras.utils.to_categorical(y_test,10)\n",
        "\n",
        "# 신경망 모델 설계\n",
        "cnn=Sequential()\n",
        "cnn.add(Conv2D(32,(3,3),activation='relu',input_shape=(28,28,1)))\n",
        "cnn.add(Conv2D(64,(3,3),activation='relu'))\n",
        "cnn.add(MaxPooling2D(pool_size=(2,2)))\n",
        "cnn.add(Dropout(0.25))\n",
        "cnn.add(Flatten())\n",
        "cnn.add(Dense(128,activation='relu'))\n",
        "cnn.add(Dropout(0.5))\n",
        "cnn.add(Dense(10,activation='softmax'))\n",
        "\n",
        "# 신경망 모델 학습\n",
        "cnn.compile(loss='categorical_crossentropy',optimizer=Adam(),metrics=['accuracy'])\n",
        "hist=cnn.fit(x_train,y_train,batch_size=128,epochs=12,validation_data=(x_test,y_test),verbose=2)\n",
        "\n",
        "# 신경망 모델 정확률 평가\n",
        "res=cnn.evaluate(x_test,y_test,verbose=0)\n",
        "print(\"정확률은\",res[1]*100)"
      ],
      "metadata": {
        "id": "duYYlhx_3z6p"
      },
      "execution_count": null,
      "outputs": []
    },
    {
      "cell_type": "code",
      "source": [
        "import matplotlib.pyplot as plt\n",
        "\n",
        "# 정확률 그래프\n",
        "plt.plot(hist.history['accuracy'])\n",
        "plt.plot(hist.history['val_accuracy'])\n",
        "plt.title('Model accuracy')\n",
        "plt.ylabel('Accuracy')\n",
        "plt.xlabel('Epoch')\n",
        "plt.legend(['Train','Validation'], loc='best')\n",
        "plt.grid()\n",
        "plt.show()\n",
        "\n",
        "# 손실 함수 그래프\n",
        "plt.plot(hist.history['loss'])\n",
        "plt.plot(hist.history['val_loss'])\n",
        "plt.title('Model loss')\n",
        "plt.ylabel('Loss')\n",
        "plt.xlabel('Epoch')\n",
        "plt.legend(['Train','Validation'], loc='best')\n",
        "plt.grid()\n",
        "plt.show()"
      ],
      "metadata": {
        "id": "S7L9Emhc33lR"
      },
      "execution_count": null,
      "outputs": []
    },
    {
      "cell_type": "markdown",
      "source": [
        "#학습된 모델 저장과 재활용"
      ],
      "metadata": {
        "id": "AFRitvYg5ABx"
      }
    },
    {
      "cell_type": "markdown",
      "source": [
        "###CIFAR-10 인식하는 컨볼루션 신경망"
      ],
      "metadata": {
        "id": "EPlf3eEv5hXS"
      }
    },
    {
      "cell_type": "code",
      "source": [
        "import numpy as np\n",
        "import tensorflow as tf\n",
        "from tensorflow.keras.datasets import cifar10\n",
        "from tensorflow.keras.models import Sequential\n",
        "from tensorflow.keras.layers import Conv2D,MaxPooling2D,Flatten,Dense,Dropout\n",
        "from tensorflow.keras.optimizers import Adam\n",
        "\n",
        "# CIFAR-10 데이터셋을 읽고 신경망에 입력할 형태로 변환\n",
        "(x_train,y_train),(x_test,y_test)=cifar10.load_data()\n",
        "x_train=x_train.astype(np.float32)/255.0\n",
        "x_test=x_test.astype(np.float32)/255.0\n",
        "y_train=tf.keras.utils.to_categorical(y_train,10)\n",
        "y_test=tf.keras.utils.to_categorical(y_test,10)\n",
        "\n",
        "# 신경망 모델 설계\n",
        "cnn=Sequential()\n",
        "cnn.add(Conv2D(32,(3,3),activation='relu',input_shape=(32,32,3)))\n",
        "cnn.add(Conv2D(32,(3,3),activation='relu'))\n",
        "cnn.add(MaxPooling2D(pool_size=(2,2)))\n",
        "cnn.add(Dropout(0.25))\n",
        "cnn.add(Conv2D(64,(3,3),activation='relu'))\n",
        "cnn.add(Conv2D(64,(3,3),activation='relu'))\n",
        "cnn.add(MaxPooling2D(pool_size=(2,2)))\n",
        "cnn.add(Dropout(0.25))\n",
        "cnn.add(Flatten())\n",
        "cnn.add(Dense(512,activation='relu'))\n",
        "cnn.add(Dropout(0.5))\n",
        "cnn.add(Dense(10,activation='softmax'))\n",
        "\n",
        "# 신경망 모델 학습\n",
        "cnn.compile(loss='categorical_crossentropy',optimizer=Adam(),metrics=['accuracy'])\n",
        "hist=cnn.fit(x_train,y_train,batch_size=128,epochs=30,validation_data=(x_test,y_test),verbose=2)\n",
        "\n",
        "# 신경망 모델 정확률 평가\n",
        "res=cnn.evaluate(x_test,y_test,verbose=0)\n",
        "print(\"정확률은\",res[1]*100)"
      ],
      "metadata": {
        "id": "_Yp_Vn4a5xj5"
      },
      "execution_count": null,
      "outputs": []
    },
    {
      "cell_type": "code",
      "source": [
        "import matplotlib.pyplot as plt\n",
        "\n",
        "# 정확률 그래프\n",
        "plt.plot(hist.history['accuracy'])\n",
        "plt.plot(hist.history['val_accuracy'])\n",
        "plt.title('Model accuracy')\n",
        "plt.ylabel('Accuracy')\n",
        "plt.xlabel('Epoch')\n",
        "plt.legend(['Train','Validation'], loc='best')\n",
        "plt.grid()\n",
        "plt.show()\n",
        "\n",
        "# 손실 함수 그래프\n",
        "plt.plot(hist.history['loss'])\n",
        "plt.plot(hist.history['val_loss'])\n",
        "plt.title('Model loss')\n",
        "plt.ylabel('Loss')\n",
        "plt.xlabel('Epoch')\n",
        "plt.legend(['Train','Validation'],loc='best')\n",
        "plt.grid()\n",
        "plt.show()\n",
        "cnn.save(\"my_cnn.h5\")"
      ],
      "metadata": {
        "id": "O5HS7ARK52mg"
      },
      "execution_count": null,
      "outputs": []
    },
    {
      "cell_type": "markdown",
      "source": [
        "###학습된 모델 불러오기"
      ],
      "metadata": {
        "id": "Quhn-Rko6nN5"
      }
    },
    {
      "cell_type": "code",
      "source": [
        "import numpy as np\n",
        "import tensorflow as tf\n",
        "from tensorflow.keras.datasets import cifar10\n",
        "\n",
        "# 신경망 구조와 가중치를 저장하고 있는 파일을 읽어 옴\n",
        "cnn=tf.keras.models.load_model(\"my_cnn.h5\")\n",
        "cnn.summary()\n",
        "\n",
        "# CIFAR-10 데이터셋을 읽고 신경망에 입력할 형태로 변환\n",
        "(x_train,y_train),(x_test,y_test)=cifar10.load_data()\n",
        "x_train=x_train.astype(np.float32)/255.0\n",
        "x_test=x_test.astype(np.float32)/255.0\n",
        "y_train=tf.keras.utils.to_categorical(y_train,10)\n",
        "y_test=tf.keras.utils.to_categorical(y_test,10)\n",
        "\n",
        "res=cnn.evaluate(x_test,y_test,verbose=0)\n",
        "print(\"정확률은\",res[1]*100)"
      ],
      "metadata": {
        "id": "j1kAAoAq6oZm"
      },
      "execution_count": null,
      "outputs": []
    },
    {
      "cell_type": "markdown",
      "source": [
        "##CIFAR-10으로 학습한 컨볼루션 신경망의 커널을 시각화"
      ],
      "metadata": {
        "id": "cTyUizOL7k_Z"
      }
    },
    {
      "cell_type": "code",
      "source": [
        "import numpy as np\n",
        "import tensorflow as tf\n",
        "from tensorflow.keras.datasets import cifar10\n",
        "from tensorflow.keras.models import Sequential\n",
        "from tensorflow.keras.layers import Conv2D,MaxPooling2D,Flatten,Dense,Dropout\n",
        "from tensorflow.keras.optimizers import Adam\n",
        "\n",
        "# CIFAR-10 데이터셋을 읽고 신경망에 입력할 형태로 변환\n",
        "(x_train,y_train),(x_test,y_test)=cifar10.load_data()\n",
        "x_train=x_train.astype(np.float32)/255.0\n",
        "x_test=x_test.astype(np.float32)/255.0\n",
        "y_train=tf.keras.utils.to_categorical(y_train,10)\n",
        "y_test=tf.keras.utils.to_categorical(y_test,10)\n",
        "\n",
        "# 신경망 모델 설계\n",
        "cnn=Sequential()\n",
        "cnn.add(Conv2D(32,(3,3),activation='relu',input_shape=(32,32,3)))\n",
        "cnn.add(Conv2D(32,(3,3),activation='relu'))\n",
        "cnn.add(MaxPooling2D(pool_size=(2,2)))\n",
        "cnn.add(Dropout(0.25))\n",
        "cnn.add(Conv2D(64,(3,3),activation='relu'))\n",
        "cnn.add(Conv2D(64,(3,3),activation='relu'))\n",
        "cnn.add(MaxPooling2D(pool_size=(2,2)))\n",
        "cnn.add(Dropout(0.25))\n",
        "cnn.add(Flatten())\n",
        "cnn.add(Dense(512,activation='relu'))\n",
        "cnn.add(Dropout(0.5))\n",
        "cnn.add(Dense(10,activation='softmax'))\n",
        "\n",
        "# 신경망 모델 학습\n",
        "cnn.compile(loss='categorical_crossentropy',optimizer=Adam(),metrics=['accuracy'])\n",
        "hist=cnn.fit(x_train,y_train,batch_size=128,epochs=30,validation_data=(x_test,y_test),verbose=2)\n",
        "\n",
        "cnn.summary() # cnn 모델의 정보 출력"
      ],
      "metadata": {
        "id": "NzQ0ZU9M7pbA"
      },
      "execution_count": null,
      "outputs": []
    },
    {
      "cell_type": "code",
      "source": [
        "for layer in cnn.layers: # 컨볼루션층의 커널을 시각화\n",
        "    if 'conv' in layer.name:\n",
        "        kernel,biases=layer.get_weights()\n",
        "        print(layer.name,kernel.shape) # 커널의 텐서 모양을 출력\n",
        "\n",
        "kernel,biases=cnn.layers[0].get_weights() # 층 0의 커널 정보를 저장\n",
        "minv,maxv=kernel.min(),kernel.max()\n",
        "kernel=(kernel-minv)/(maxv-minv)\n",
        "n_kernel=32\n",
        "\n",
        "import matplotlib.pyplot as plt\n",
        "\n",
        "plt.figure(figsize=(20,3))\n",
        "plt.suptitle(\"Kernels of conv2d_4\")\n",
        "for i in range(n_kernel): # i번째 커널\n",
        "    f=kernel[:,:,:,i]\n",
        "    for j in range(3): # j번째 채널\n",
        "        plt.subplot(3,n_kernel,j*n_kernel+i+1)\n",
        "        plt.imshow(f[:,:,j],cmap='gray')\n",
        "        plt.xticks([]); plt.yticks([])\n",
        "        plt.title(str(i)+'_'+str(j))\n",
        "plt.show()\n",
        "\n",
        "for layer in cnn.layers: # 컨볼루션층의 특징 맵을 시각화\n",
        "    if 'conv' in layer.name:\n",
        "        print(layer.name,layer.output.shape) # 특징 맵의 텐서 모양을 출력\n",
        "\n",
        "from tensorflow.keras.models import Model\n",
        "\n",
        "partial_model=Model(inputs=cnn.inputs,outputs=cnn.layers[0].output) # 층 0만 떼어냄\n",
        "partial_model.summary()\n",
        "\n",
        "feature_map=partial_model.predict(x_test) # 부분 모델로 테스트 집합을 예측\n",
        "fm=feature_map[1] # 1번 영상의 특징 맵을 시각화\n",
        "\n",
        "plt.imshow(x_test[1]) # 1번 영상을 출력\n",
        "\n",
        "plt.figure(figsize=(20,3))\n",
        "plt.suptitle(\"Feature maps of conv2d_4\")\n",
        "for i in range(32): # i번째 특징 맵\n",
        "    plt.subplot(2,16,i+1)\n",
        "    plt.imshow(fm[:,:,i],cmap='gray')\n",
        "    plt.xticks([]); plt.yticks([])\n",
        "    plt.title(\"map\"+str(i))\n",
        "plt.show()"
      ],
      "metadata": {
        "id": "yD0mVDRc8IF4"
      },
      "execution_count": null,
      "outputs": []
    },
    {
      "cell_type": "markdown",
      "source": [
        "#딥러닝의 규제 기법"
      ],
      "metadata": {
        "id": "Rk2i4dyt9ZPI"
      }
    },
    {
      "cell_type": "markdown",
      "source": [
        "##증대된 영상 확인\n"
      ],
      "metadata": {
        "id": "IQpmXo51-Cp_"
      }
    },
    {
      "cell_type": "code",
      "source": [
        "from tensorflow.keras.datasets import cifar10\n",
        "from tensorflow.keras.preprocessing.image import ImageDataGenerator\n",
        "import matplotlib.pyplot as plt\n",
        "\n",
        "# CIFAR-10의 부류 이름\n",
        "class_names=['airplane','automobile','bird','cat','deer','dog','flog','horse','ship','truck']\n",
        "\n",
        "# CIFAR-10 데이터셋을 읽고 신경망에 입력할 형태로 변환\n",
        "(x_train, y_train), (x_test, y_test)=cifar10.load_data()\n",
        "x_train=x_train.astype('float32'); x_train/=255\n",
        "x_train=x_train[0:12,]; y_train=y_train[0:12,] # 앞 12개에 대해서만 증대 적용\n",
        "\n",
        "# 앞 12개 영상을 그려줌\n",
        "plt.figure(figsize=(16,2))\n",
        "plt.suptitle(\"First 12 images in the train set\")\n",
        "for i in range(12):\n",
        "    plt.subplot(1,12,i+1)\n",
        "    plt.imshow(x_train[i])\n",
        "    plt.xticks([]); plt.yticks([])\n",
        "    plt.title(class_names[int(y_train[i])])\n",
        "\n",
        "# 영상 증대기 생성\n",
        "batch_siz=6 # 한 번에 생성하는 양\n",
        "generator=ImageDataGenerator(rotation_range=30.0,width_shift_range=0.2,height_shift_range=0.2,horizontal_flip=True)\n",
        "gen=generator.flow(x_train,y_train,batch_size=batch_siz)\n",
        "\n",
        "# 첫 번째 증대하고 그리기\n",
        "img,label=gen.next()\n",
        "plt.figure(figsize=(16,3))\n",
        "plt.suptitle(\"Generatior trial 1\")\n",
        "for i in range(batch_siz):\n",
        "    plt.subplot(1,batch_siz,i+1)\n",
        "    plt.imshow(img[i])\n",
        "    plt.xticks([]); plt.yticks([])\n",
        "    plt.title(class_names[int(label[i])])\n",
        "\n",
        "# 두 번째 증대하고 그리기\n",
        "img,label=gen.next()\n",
        "plt.figure(figsize=(16,3))\n",
        "plt.suptitle(\"Generatior trial 2\")\n",
        "for i in range(batch_siz):\n",
        "    plt.subplot(1,batch_siz,i+1)\n",
        "    plt.imshow(img[i])\n",
        "    plt.xticks([]); plt.yticks([])\n",
        "    plt.title(class_names[int(label[i])])"
      ],
      "metadata": {
        "id": "-Bdi4sRL9br4"
      },
      "execution_count": null,
      "outputs": []
    },
    {
      "cell_type": "markdown",
      "source": [
        "###CIFAR-10에 데이터 증대 적용\n"
      ],
      "metadata": {
        "id": "8kA-EuUk_Cdg"
      }
    },
    {
      "cell_type": "code",
      "source": [
        "import numpy as np\n",
        "import tensorflow as tf\n",
        "from tensorflow.keras.datasets import cifar10\n",
        "from tensorflow.keras.models import Sequential\n",
        "from tensorflow.keras.layers import Conv2D,MaxPooling2D,Flatten,Dense,Dropout\n",
        "from tensorflow.keras.optimizers import Adam\n",
        "from tensorflow.keras.preprocessing.image import ImageDataGenerator\n",
        "\n",
        "# CIFAR-10 데이터셋을 읽고 신경망에 입력할 형태로 변환\n",
        "(x_train, y_train), (x_test, y_test) = cifar10.load_data()\n",
        "x_train=x_train.astype(np.float32)/255.0\n",
        "x_test=x_test.astype(np.float32)/255.0\n",
        "y_train=tf.keras.utils.to_categorical(y_train,10)\n",
        "y_test=tf.keras.utils.to_categorical(y_test,10)\n",
        "\n",
        "# 신경망 모델 설계\n",
        "cnn=Sequential()\n",
        "cnn.add(Conv2D(32,(3,3),activation='relu',input_shape=(32,32,3)))\n",
        "cnn.add(Conv2D(32,(3,3),activation='relu'))\n",
        "cnn.add(MaxPooling2D(pool_size=(2,2)))\n",
        "cnn.add(Dropout(0.25))\n",
        "cnn.add(Conv2D(64,(3,3),activation='relu'))\n",
        "cnn.add(Conv2D(64,(3,3),activation='relu'))\n",
        "cnn.add(MaxPooling2D(pool_size=(2,2)))\n",
        "cnn.add(Dropout(0.25))\n",
        "cnn.add(Flatten())\n",
        "cnn.add(Dense(512,activation='relu'))\n",
        "cnn.add(Dropout(0.5))\n",
        "cnn.add(Dense(10,activation='softmax'))\n",
        "\n",
        "# 신경망 모델 학습(영상 증대기 활용)\n",
        "cnn.compile(loss='categorical_crossentropy',optimizer=Adam(),metrics=['accuracy'])\n",
        "batch_siz=128\n",
        "generator=ImageDataGenerator(width_shift_range=0.1,height_shift_range=0.1,horizontal_flip=True)\n",
        "hist=cnn.fit_generator(generator.flow(x_train,y_train,batch_size=batch_siz),epochs=50,validation_data=(x_test,y_test),verbose=2)\n",
        "\n",
        "# 신경망 모델 정확률 평가\n",
        "res=cnn.evaluate(x_test,y_test,verbose=0)\n",
        "print(\"정확률은\",res[1]*100)"
      ],
      "metadata": {
        "colab": {
          "base_uri": "https://localhost:8080/"
        },
        "id": "QW54zwRe_GqQ",
        "outputId": "b5a4bc24-bcb8-4b5a-c7e6-13889ee429ee"
      },
      "execution_count": null,
      "outputs": [
        {
          "output_type": "stream",
          "name": "stdout",
          "text": [
            "Downloading data from https://www.cs.toronto.edu/~kriz/cifar-10-python.tar.gz\n",
            "170500096/170498071 [==============================] - 4s 0us/step\n",
            "170508288/170498071 [==============================] - 4s 0us/step\n",
            "Epoch 1/50\n"
          ]
        },
        {
          "output_type": "stream",
          "name": "stderr",
          "text": [
            "/usr/local/lib/python3.7/dist-packages/ipykernel_launcher.py:35: UserWarning: `Model.fit_generator` is deprecated and will be removed in a future version. Please use `Model.fit`, which supports generators.\n"
          ]
        },
        {
          "output_type": "stream",
          "name": "stdout",
          "text": [
            "391/391 - 179s - loss: 1.7327 - accuracy: 0.3557 - val_loss: 1.4104 - val_accuracy: 0.4837 - 179s/epoch - 459ms/step\n",
            "Epoch 2/50\n",
            "391/391 - 165s - loss: 1.3882 - accuracy: 0.4980 - val_loss: 1.1785 - val_accuracy: 0.5806 - 165s/epoch - 422ms/step\n",
            "Epoch 3/50\n",
            "391/391 - 166s - loss: 1.2377 - accuracy: 0.5551 - val_loss: 1.0436 - val_accuracy: 0.6267 - 166s/epoch - 424ms/step\n",
            "Epoch 4/50\n",
            "391/391 - 166s - loss: 1.1373 - accuracy: 0.5966 - val_loss: 0.9317 - val_accuracy: 0.6686 - 166s/epoch - 424ms/step\n",
            "Epoch 5/50\n",
            "391/391 - 164s - loss: 1.0534 - accuracy: 0.6278 - val_loss: 0.8720 - val_accuracy: 0.6906 - 164s/epoch - 420ms/step\n",
            "Epoch 6/50\n",
            "391/391 - 173s - loss: 0.9972 - accuracy: 0.6484 - val_loss: 0.8344 - val_accuracy: 0.7049 - 173s/epoch - 443ms/step\n",
            "Epoch 7/50\n",
            "391/391 - 167s - loss: 0.9515 - accuracy: 0.6646 - val_loss: 0.8125 - val_accuracy: 0.7150 - 167s/epoch - 426ms/step\n",
            "Epoch 8/50\n",
            "391/391 - 170s - loss: 0.9204 - accuracy: 0.6753 - val_loss: 0.8021 - val_accuracy: 0.7238 - 170s/epoch - 434ms/step\n",
            "Epoch 9/50\n",
            "391/391 - 164s - loss: 0.8915 - accuracy: 0.6878 - val_loss: 0.7464 - val_accuracy: 0.7392 - 164s/epoch - 420ms/step\n",
            "Epoch 10/50\n",
            "391/391 - 164s - loss: 0.8728 - accuracy: 0.6934 - val_loss: 0.7176 - val_accuracy: 0.7511 - 164s/epoch - 420ms/step\n",
            "Epoch 11/50\n",
            "391/391 - 164s - loss: 0.8430 - accuracy: 0.7038 - val_loss: 0.7088 - val_accuracy: 0.7528 - 164s/epoch - 419ms/step\n",
            "Epoch 12/50\n",
            "391/391 - 163s - loss: 0.8315 - accuracy: 0.7076 - val_loss: 0.6973 - val_accuracy: 0.7512 - 163s/epoch - 416ms/step\n",
            "Epoch 13/50\n",
            "391/391 - 163s - loss: 0.8156 - accuracy: 0.7142 - val_loss: 0.6772 - val_accuracy: 0.7629 - 163s/epoch - 416ms/step\n",
            "Epoch 14/50\n",
            "391/391 - 162s - loss: 0.7986 - accuracy: 0.7193 - val_loss: 0.6694 - val_accuracy: 0.7666 - 162s/epoch - 415ms/step\n",
            "Epoch 15/50\n",
            "391/391 - 163s - loss: 0.7857 - accuracy: 0.7249 - val_loss: 0.6757 - val_accuracy: 0.7704 - 163s/epoch - 416ms/step\n",
            "Epoch 16/50\n",
            "391/391 - 164s - loss: 0.7735 - accuracy: 0.7278 - val_loss: 0.7282 - val_accuracy: 0.7517 - 164s/epoch - 419ms/step\n",
            "Epoch 17/50\n",
            "391/391 - 164s - loss: 0.7668 - accuracy: 0.7328 - val_loss: 0.6528 - val_accuracy: 0.7739 - 164s/epoch - 419ms/step\n",
            "Epoch 18/50\n",
            "391/391 - 164s - loss: 0.7526 - accuracy: 0.7382 - val_loss: 0.6476 - val_accuracy: 0.7794 - 164s/epoch - 418ms/step\n",
            "Epoch 19/50\n",
            "391/391 - 163s - loss: 0.7469 - accuracy: 0.7385 - val_loss: 0.7008 - val_accuracy: 0.7603 - 163s/epoch - 418ms/step\n",
            "Epoch 20/50\n",
            "391/391 - 163s - loss: 0.7296 - accuracy: 0.7440 - val_loss: 0.6437 - val_accuracy: 0.7783 - 163s/epoch - 418ms/step\n",
            "Epoch 21/50\n",
            "391/391 - 162s - loss: 0.7270 - accuracy: 0.7448 - val_loss: 0.6365 - val_accuracy: 0.7797 - 162s/epoch - 415ms/step\n",
            "Epoch 22/50\n",
            "391/391 - 162s - loss: 0.7277 - accuracy: 0.7443 - val_loss: 0.6218 - val_accuracy: 0.7887 - 162s/epoch - 415ms/step\n",
            "Epoch 23/50\n",
            "391/391 - 162s - loss: 0.7166 - accuracy: 0.7489 - val_loss: 0.6239 - val_accuracy: 0.7864 - 162s/epoch - 415ms/step\n",
            "Epoch 24/50\n",
            "391/391 - 163s - loss: 0.7130 - accuracy: 0.7521 - val_loss: 0.6310 - val_accuracy: 0.7822 - 163s/epoch - 417ms/step\n",
            "Epoch 25/50\n",
            "391/391 - 162s - loss: 0.7072 - accuracy: 0.7540 - val_loss: 0.6273 - val_accuracy: 0.7858 - 162s/epoch - 415ms/step\n",
            "Epoch 26/50\n",
            "391/391 - 163s - loss: 0.6999 - accuracy: 0.7554 - val_loss: 0.6101 - val_accuracy: 0.7890 - 163s/epoch - 418ms/step\n",
            "Epoch 27/50\n",
            "391/391 - 164s - loss: 0.6964 - accuracy: 0.7553 - val_loss: 0.6508 - val_accuracy: 0.7759 - 164s/epoch - 419ms/step\n",
            "Epoch 28/50\n",
            "391/391 - 162s - loss: 0.6947 - accuracy: 0.7559 - val_loss: 0.6217 - val_accuracy: 0.7845 - 162s/epoch - 414ms/step\n",
            "Epoch 29/50\n",
            "391/391 - 163s - loss: 0.6925 - accuracy: 0.7579 - val_loss: 0.5750 - val_accuracy: 0.8025 - 163s/epoch - 416ms/step\n",
            "Epoch 30/50\n",
            "391/391 - 163s - loss: 0.6866 - accuracy: 0.7613 - val_loss: 0.5934 - val_accuracy: 0.7974 - 163s/epoch - 417ms/step\n",
            "Epoch 31/50\n",
            "391/391 - 163s - loss: 0.6813 - accuracy: 0.7618 - val_loss: 0.6058 - val_accuracy: 0.7906 - 163s/epoch - 417ms/step\n",
            "Epoch 32/50\n",
            "391/391 - 163s - loss: 0.6719 - accuracy: 0.7674 - val_loss: 0.5794 - val_accuracy: 0.7993 - 163s/epoch - 418ms/step\n",
            "Epoch 33/50\n",
            "391/391 - 163s - loss: 0.6773 - accuracy: 0.7633 - val_loss: 0.6197 - val_accuracy: 0.7887 - 163s/epoch - 417ms/step\n",
            "Epoch 34/50\n",
            "391/391 - 163s - loss: 0.6674 - accuracy: 0.7678 - val_loss: 0.6391 - val_accuracy: 0.7833 - 163s/epoch - 418ms/step\n",
            "Epoch 35/50\n",
            "391/391 - 163s - loss: 0.6703 - accuracy: 0.7678 - val_loss: 0.6001 - val_accuracy: 0.7987 - 163s/epoch - 416ms/step\n",
            "Epoch 36/50\n",
            "391/391 - 167s - loss: 0.6585 - accuracy: 0.7704 - val_loss: 0.5823 - val_accuracy: 0.8015 - 167s/epoch - 426ms/step\n",
            "Epoch 37/50\n",
            "391/391 - 164s - loss: 0.6602 - accuracy: 0.7729 - val_loss: 0.6406 - val_accuracy: 0.7831 - 164s/epoch - 419ms/step\n",
            "Epoch 38/50\n",
            "391/391 - 163s - loss: 0.6557 - accuracy: 0.7708 - val_loss: 0.5536 - val_accuracy: 0.8102 - 163s/epoch - 417ms/step\n",
            "Epoch 39/50\n",
            "391/391 - 163s - loss: 0.6527 - accuracy: 0.7729 - val_loss: 0.5682 - val_accuracy: 0.8064 - 163s/epoch - 417ms/step\n",
            "Epoch 40/50\n"
          ]
        }
      ]
    },
    {
      "cell_type": "code",
      "source": [
        "import matplotlib.pyplot as plt\n",
        "\n",
        "# 정확률 그래프\n",
        "plt.plot(hist.history['accuracy'])\n",
        "plt.plot(hist.history['val_accuracy'])\n",
        "plt.title('Model accuracy')\n",
        "plt.ylabel('Accuracy')\n",
        "plt.xlabel('Epoch')\n",
        "plt.legend(['Train','Validation'], loc='best')\n",
        "plt.grid()\n",
        "plt.show()\n",
        "\n",
        "# 손실 함수 그래프\n",
        "plt.plot(hist.history['loss'])\n",
        "plt.plot(hist.history['val_loss'])\n",
        "plt.title('Model loss')\n",
        "plt.ylabel('Loss')\n",
        "plt.xlabel('Epoch')\n",
        "plt.legend(['Train','Validation'], loc='best')\n",
        "plt.grid()\n",
        "plt.show()"
      ],
      "metadata": {
        "id": "xOGWCFL9_I2w"
      },
      "execution_count": null,
      "outputs": []
    },
    {
      "cell_type": "markdown",
      "source": [
        "##드롭아웃"
      ],
      "metadata": {
        "id": "0K8yAqdLTac8"
      }
    },
    {
      "cell_type": "code",
      "source": [
        "import numpy as np\n",
        "import tensorflow as tf\n",
        "from tensorflow.keras.datasets import cifar10\n",
        "from tensorflow.keras.models import Sequential\n",
        "from tensorflow.keras.layers import Conv2D,MaxPooling2D,Flatten,Dense,Dropout\n",
        "from tensorflow.keras.optimizers import Adam\n",
        "from tensorflow.keras.preprocessing.image import ImageDataGenerator\n",
        "from sklearn.model_selection import KFold\n",
        "\n",
        "# CIFAR-10 데이터셋을 읽고 신경망에 입력할 형태로 변환\n",
        "(x_train, y_train), (x_test, y_test) = cifar10.load_data()\n",
        "x_train=x_train.astype(np.float32)/255.0\n",
        "x_test=x_test.astype(np.float32)/255.0\n",
        "y_train=tf.keras.utils.to_categorical(y_train,10)\n",
        "y_test=tf.keras.utils.to_categorical(y_test,10)\n",
        "\n",
        "# 하이퍼 매개변수 설정\n",
        "batch_siz=128\n",
        "n_epoch=10\n",
        "k=5 # k-겹 교차 검증\n",
        "\n",
        "# 드롭아웃 비율에 따라 교차 검증을 수행하고 정확률을 반환하는 함수\n",
        "def cross_validation(dropout_rate):\n",
        "    accuracy=[]\n",
        "    for train_index,val_index in KFold(k).split(x_train):\n",
        "        # 훈련 집합과 검증 집합으로 분할\n",
        "        xtrain,xval=x_train[train_index],x_train[val_index]\n",
        "        ytrain,yval=y_train[train_index],y_train[val_index]\n",
        "\n",
        "        # 신경망 모델 설계\n",
        "        cnn=Sequential()\n",
        "        cnn.add(Conv2D(32,(3,3),activation='relu',input_shape=(32,32,3)))\n",
        "        cnn.add(Conv2D(32,(3,3),activation='relu'))\n",
        "        cnn.add(MaxPooling2D(pool_size=(2,2)))\n",
        "        cnn.add(Dropout(dropout_rate[0]))\n",
        "        cnn.add(Conv2D(64,(3,3),activation='relu'))\n",
        "        cnn.add(Conv2D(64,(3,3),activation='relu'))\n",
        "        cnn.add(MaxPooling2D(pool_size=(2,2)))\n",
        "        cnn.add(Dropout(dropout_rate[1]))\n",
        "        cnn.add(Flatten())\n",
        "        cnn.add(Dense(512,activation='relu'))\n",
        "        cnn.add(Dropout(dropout_rate[2]))\n",
        "        cnn.add(Dense(10,activation='softmax'))\n",
        "\n",
        "        # 신경망 모델을 학습하고 평가하기\n",
        "        cnn.compile(loss='categorical_crossentropy',optimizer=Adam(),metrics=['accuracy'])\n",
        "        cnn.fit(xtrain,ytrain,batch_size=batch_siz,epochs=n_epoch,verbose=0)\n",
        "        accuracy.append(cnn.evaluate(xval,yval,verbose=0)[1])\n",
        "    return accuracy\n",
        "\n",
        "# 드롭아웃 비율을 달리하며 신경망을 평가\n",
        "acc_without_dropout=cross_validation([0.0,0.0,0.0])\n",
        "acc_with_dropout=cross_validation([0.25,0.25,0.5])\n",
        "\n",
        "print(\"드롭아웃 적용 안 할 때:\",np.array(acc_without_dropout).mean())\n",
        "print(\"드롭아웃 적용할 때:\",np.array(acc_with_dropout).mean())\n",
        "\n",
        "import matplotlib.pyplot as plt\n",
        "\n",
        "# 박스 플롯으로 정확률 표시\n",
        "plt.grid()\n",
        "plt.boxplot([acc_without_dropout,acc_with_dropout],labels=[\"Without Dropout\",\"With Dropout\"])"
      ],
      "metadata": {
        "id": "d2ZhXnrJTgg0"
      },
      "execution_count": null,
      "outputs": []
    },
    {
      "cell_type": "markdown",
      "source": [
        "##교차 검증으로 제거 조사 "
      ],
      "metadata": {
        "id": "EIPs6gMLYQur"
      }
    },
    {
      "cell_type": "code",
      "source": [
        "import numpy as np\n",
        "import tensorflow as tf\n",
        "from tensorflow.keras.datasets import cifar10\n",
        "from tensorflow.keras.models import Sequential\n",
        "from tensorflow.keras.layers import Conv2D,MaxPooling2D,Flatten,Dense,Dropout\n",
        "from tensorflow.keras.optimizers import Adam\n",
        "from tensorflow.keras.preprocessing.image import ImageDataGenerator\n",
        "from sklearn.model_selection import KFold\n",
        "from tensorflow.keras import regularizers\n",
        "\n",
        "# CIFAR-10 데이터셋을 읽고 신경망에 입력할 형태로 변환\n",
        "(x_train,y_train),(x_test,y_test)=cifar10.load_data()\n",
        "x_train=x_train.astype(np.float32)/255.0\n",
        "x_test=x_test.astype(np.float32)/255.0\n",
        "y_train=tf.keras.utils.to_categorical(y_train,10)\n",
        "y_test=tf.keras.utils.to_categorical(y_test,10)\n",
        "\n",
        "# 하이퍼 매개변수 설정\n",
        "batch_siz=128\n",
        "n_epoch=10\n",
        "k=5 # k-folds\n",
        "\n",
        "# 하이퍼 매개변수에 따라 교차 검증을 수행하고 정확률을 반환하는 함수\n",
        "def cross_validation(data_gen,dropout_rate,l2_reg):\n",
        "    accuracy=[]\n",
        "    for train_index,val_index in KFold(k).split(x_train):\n",
        "        xtrain,xval=x_train[train_index],x_train[val_index]\n",
        "        ytrain,yval=y_train[train_index],y_train[val_index]\n",
        "\n",
        "        # 신경망 모델 설계\n",
        "        cnn=Sequential()\n",
        "        cnn.add(Conv2D(32,(3,3),activation='relu',input_shape=(32,32,3)))\n",
        "        cnn.add(Conv2D(32,(3,3),activation='relu'))\n",
        "        cnn.add(MaxPooling2D(pool_size=(2,2)))\n",
        "        cnn.add(Dropout(dropout_rate[0]))\n",
        "        cnn.add(Conv2D(64,(3,3),activation='relu'))\n",
        "        cnn.add(Conv2D(64,(3,3),activation='relu'))\n",
        "        cnn.add(MaxPooling2D(pool_size=(2,2)))\n",
        "        cnn.add(Dropout(dropout_rate[1]))\n",
        "        cnn.add(Flatten())\n",
        "        cnn.add(Dense(512,activation='relu'))\n",
        "        cnn.add(Dropout(dropout_rate[2]))\n",
        "        cnn.add(Dense(10,activation='softmax',kernel_regularizer=regularizers.l2(l2_reg)))\n",
        "\n",
        "        # 신경망을 학습하고 정확률 평가\n",
        "        cnn.compile(loss='categorical_crossentropy',optimizer=Adam(),metrics=['accuracy'])\n",
        "        if data_gen:\n",
        "            generator=ImageDataGenerator(rotation_range=3.0,width_shift_range=0.1,height_shift_range=0.1,horizontal_flip=True)\n",
        "            cnn.fit_generator(generator.flow(x_train,y_train,batch_size=batch_siz),epochs=n_epoch,validation_data=(x_test,y_test),verbose=2)\n",
        "        else:\n",
        "            cnn.fit(xtrain,ytrain,batch_size=batch_siz,epochs=n_epoch, validation_data=(x_test,y_test),verbose=2)\n",
        "        accuracy.append(cnn.evaluate(xval,yval,verbose=0)[1])\n",
        "    return accuracy\n",
        "\n",
        "# 하이퍼 매개변수를 달리 하며 신경망 모델을 평가\n",
        "acc_000=cross_validation(False,[0.0,0.0,0.0],0.0)\n",
        "acc_001=cross_validation(False,[0.0,0.0,0.0],0.01)\n",
        "acc_010=cross_validation(False,[0.25,0.25,0.5],0.0)\n",
        "acc_011=cross_validation(False,[0.25,0.25,0.5],0.01)\n",
        "acc_100=cross_validation(True,[0.0,0.0,0.0],0.0)\n",
        "acc_101=cross_validation(True,[0.0,0.0,0.0],0.01)\n",
        "acc_110=cross_validation(True,[0.25,0.25,0.5],0.0)\n",
        "acc_111=cross_validation(True,[0.25,0.25,0.5],0.01)\n",
        "\n",
        "print(\"출력 형식: [Data augmentation-Dropout-l2 regularizer] (교차검증 시도/평균)\")\n",
        "print(\"[000] (\",acc_000,\"/\",np.array(acc_000).mean(),\")\")\n",
        "print(\"[001] (\",acc_001,\"/\",np.array(acc_001).mean(),\")\")\n",
        "print(\"[010] (\",acc_010,\"/\",np.array(acc_010).mean(),\")\")\n",
        "print(\"[011] (\",acc_011,\"/\",np.array(acc_011).mean(),\")\")\n",
        "print(\"[100] (\",acc_100,\"/\",np.array(acc_100).mean(),\")\")\n",
        "print(\"[101] (\",acc_101,\"/\",np.array(acc_101).mean(),\")\")\n",
        "print(\"[110] (\",acc_110,\"/\",np.array(acc_110).mean(),\")\")\n",
        "print(\"[111] (\",acc_111,\"/\",np.array(acc_111).mean(),\")\")\n",
        "\n",
        "import matplotlib.pyplot as plt\n",
        "\n",
        "# 박스 플롯으로 정확률 표시\n",
        "plt.grid()\n",
        "plt.boxplot([acc_000,acc_001,acc_010,acc_011,acc_100,acc_101,acc_110,acc_111],labels=[\"000\",\"001\",\"010\",\"011\",\"100\",\"101\",\"110\",\"111\"])"
      ],
      "metadata": {
        "id": "yBRQDEwyYRq7"
      },
      "execution_count": null,
      "outputs": []
    },
    {
      "cell_type": "markdown",
      "source": [
        "# 전이 학습"
      ],
      "metadata": {
        "id": "s2cerZuzYyAS"
      }
    },
    {
      "cell_type": "markdown",
      "source": [
        "##새의 품종 분류"
      ],
      "metadata": {
        "id": "8looldYIryen"
      }
    },
    {
      "cell_type": "code",
      "source": [
        "import numpy as np\n",
        "import tensorflow as tf\n",
        "from tensorflow.keras.models import Sequential\n",
        "from tensorflow.keras.layers import Flatten,Dense\n",
        "from tensorflow.keras.optimizers import Adam\n",
        "from tensorflow.keras.applications.resnet50 import ResNet50,preprocess_input\n",
        "from tensorflow.keras.preprocessing import image\n",
        "import os\n",
        "\n",
        "train_folder='CUB200/train'\n",
        "test_folder='CUB200/test'\n",
        "\n",
        "class_reduce=0.1 # 부류 수 줄여서 데이터양 줄임(속도와 메모리 효율을 위해)\n",
        "no_class=int(len(os.listdir(train_folder))*class_reduce) # 부류 개수\n",
        "\n",
        "x_train,y_train=[],[]\n",
        "for i,class_name in enumerate(os.listdir(train_folder)):\n",
        "    if i<no_class: # 13~14행이 지정한 부류만 사용\n",
        "        for fname in os.listdir(train_folder+'/'+class_name):\n",
        "            img=image.load_img(train_folder+'/'+class_name+'/'+fname,target_size=(224,224))\n",
        "            if len(img.getbands())!=3:\n",
        "                print(\"주의: 유효하지 않은 영상 발생\",class_name,fname)\n",
        "                continue\n",
        "            x=image.img_to_array(img)\n",
        "            x=preprocess_input(x)\n",
        "            x_train.append(x)\n",
        "            y_train.append(i)\n",
        "\n",
        "x_test,y_test=[],[]\n",
        "for i,class_name in enumerate(os.listdir(test_folder)):\n",
        "    if i<no_class: # 13~14행이 지정한 부류만 사용\n",
        "        for fname in os.listdir(test_folder+'/'+class_name):\n",
        "            img=image.load_img(test_folder+'/'+class_name+'/'+fname,target_size=(224,224))\n",
        "            if len(img.getbands())!=3:\n",
        "                print(\"주의: 유효하지 않은 영상 발생\",class_name,fname)\n",
        "                continue\n",
        "            x=image.img_to_array(img)\n",
        "            x=preprocess_input(x)\n",
        "            x_test.append(x)\n",
        "            y_test.append(i)\n",
        "\n",
        "x_train=np.asarray(x_train)\n",
        "y_train=np.asarray(y_train)\n",
        "x_test=np.asarray(x_test)\n",
        "y_test=np.asarray(y_test)\n",
        "y_train=tf.keras.utils.to_categorical(y_train,no_class)\n",
        "y_test=tf.keras.utils.to_categorical(y_test,no_class)\n",
        "\n",
        "base_model=ResNet50(weights='imagenet',include_top=False,input_shape=(224,224,3))\n",
        "cnn=Sequential()\n",
        "cnn.add(base_model)\n",
        "cnn.add(Flatten())\n",
        "cnn.add(Dense(1024,activation='relu'))\n",
        "cnn.add(Dense(no_class,activation='softmax'))\n",
        "\n",
        "cnn.compile(loss='categorical_crossentropy',optimizer=Adam(0.00002),metrics=['accuracy'])\n",
        "hist=cnn.fit(x_train,y_train,batch_size=16,epochs=10,validation_data=(x_test,y_test),verbose=1)\n",
        "\n",
        "res=cnn.evaluate(x_test,y_test,verbose=0)\n",
        "print(\"정확률은\",res[1]*100)"
      ],
      "metadata": {
        "id": "V2px8YwEr0dm"
      },
      "execution_count": null,
      "outputs": []
    },
    {
      "cell_type": "markdown",
      "source": [
        "# 순환 신경망"
      ],
      "metadata": {
        "id": "foCbSNFYjOis"
      }
    },
    {
      "cell_type": "markdown",
      "source": [
        "##시계열 데이터 사례: 비트코인 가격"
      ],
      "metadata": {
        "id": "b-8L890Q1nkk"
      }
    },
    {
      "cell_type": "code",
      "execution_count": null,
      "metadata": {
        "colab": {
          "base_uri": "https://localhost:8080/",
          "height": 659
        },
        "id": "NSWlBwvBu7wD",
        "outputId": "664cd754-7b1c-45be-bdae-f90ee7111a2a"
      },
      "outputs": [
        {
          "output_type": "stream",
          "name": "stdout",
          "text": [
            "데이터 길이: 365 \n",
            "앞쪽 5개 값: [[3772.93633533]\n",
            " [3799.67854295]\n",
            " [3811.61197937]\n",
            " [3804.41917011]\n",
            " [3782.66410112]]\n"
          ]
        },
        {
          "output_type": "display_data",
          "data": {
            "text/plain": [
              "<Figure size 432x288 with 1 Axes>"
            ],
            "image/png": "[encoded data removed]"
          },
          "metadata": {
            "needs_background": "light"
          }
        },
        {
          "output_type": "stream",
          "name": "stdout",
          "text": [
            "(358, 7, 1) (358, 1)\n",
            "[[3772.93633533]\n",
            " [3799.67854295]\n",
            " [3811.61197937]\n",
            " [3804.41917011]\n",
            " [3782.66410112]\n",
            " [3689.86289319]\n",
            " [3832.08088473]] [3848.95636968]\n",
            "[[9631.48494596]\n",
            " [9670.85865437]\n",
            " [9689.08674285]\n",
            " [9919.55144784]\n",
            " [9640.46950506]\n",
            " [9392.86962872]\n",
            " [8787.97836316]] [8784.99535244]\n"
          ]
        }
      ],
      "source": [
        "import numpy as np\n",
        "import pandas as pd\n",
        "import matplotlib.pyplot as plt\n",
        "\n",
        "# 코인데스크 사이트에서 다운로드한 1년치 비트코인 가격 데이터 읽기\n",
        "f=open('BTC_USD_2019-02-28_2020-02-27-CoinDesk.csv','r')\n",
        "coindesk_data=pd.read_csv(f,header=0)\n",
        "seq=coindesk_data[['Closing Price (USD)']].to_numpy() # 종가만 취함\n",
        "print('데이터 길이:',len(seq),'\\n앞쪽 5개 값:',seq[0:5])\n",
        "\n",
        "# 그래프로 데이터 확인\n",
        "plt.plot(seq,color='red')\n",
        "plt.title('Bitcoin Prices (1 year from 2019-02-28)')\n",
        "plt.xlabel('Days');plt.ylabel('Price in USD')\n",
        "plt.show()\n",
        "\n",
        "# 시계열 데이터를 윈도우 단위로 자르는 함수\n",
        "def seq2dataset(seq,window,horizon):\n",
        "    X=[]; Y=[]\n",
        "    for i in range(len(seq)-(window+horizon)+1):\n",
        "        x=seq[i:(i+window)]\n",
        "        y=(seq[i+window+horizon-1])\n",
        "        X.append(x); Y.append(y)\n",
        "    return np.array(X), np.array(Y)\n",
        "\n",
        "w=7 # 윈도우 크기\n",
        "h=1 # 수평선 계수\n",
        "\n",
        "X,Y = seq2dataset(seq,w,h)\n",
        "print(X.shape,Y.shape)\n",
        "print(X[0],Y[0]); print(X[-1],Y[-1])"
      ]
    },
    {
      "cell_type": "markdown",
      "source": [
        "##LSTM으로 시계열 예측하기 "
      ],
      "metadata": {
        "id": "grYuDDqd25Ib"
      }
    },
    {
      "cell_type": "markdown",
      "source": [
        "###단일 채널 비트코인 가격 예측 "
      ],
      "metadata": {
        "id": "RDcdXDcA3DqT"
      }
    },
    {
      "cell_type": "code",
      "source": [
        "import numpy as np\n",
        "import pandas as pd\n",
        "import matplotlib.pyplot as plt\n",
        "\n",
        "# 코인데스크 사이트에서 1년치 비트코인 가격 데이터 읽기\n",
        "f=open(\"BTC_USD_2019-02-28_2020-02-27-CoinDesk.csv\",\"r\")\n",
        "coindesk_data=pd.read_csv(f,header=0)\n",
        "seq=coindesk_data[['Closing Price (USD)']].to_numpy() # 종가만 취함\n",
        "\n",
        "# 시계열 데이터를 윈도우 단위로 자르는 함수\n",
        "def seq2dataset(seq,window,horizon):\n",
        "    X=[]; Y=[]\n",
        "    for i in range(len(seq)-(window+horizon)+1):\n",
        "        x=seq[i:(i+window)]\n",
        "        y=(seq[i+window+horizon-1])\n",
        "        X.append(x); Y.append(y)\n",
        "    return np.array(X), np.array(Y)\n",
        "\n",
        "w=7 # 윈도우 크기\n",
        "h=1 # 수평선 계수\n",
        "\n",
        "X,Y=seq2dataset(seq,w,h)\n",
        "\n",
        "from tensorflow.keras.models import Sequential\n",
        "from tensorflow.keras.layers import Dense, LSTM, Dropout\n",
        "\n",
        "# 훈련 집합과 테스트 집합으로 분할\n",
        "split=int(len(X)*0.7)\n",
        "x_train=X[0:split]; y_train=Y[0:split]\n",
        "x_test=X[split:]; y_test=Y[split:]\n",
        "\n",
        "# LSTM 모델 설계와 학습\n",
        "model=Sequential()\n",
        "model.add(LSTM(units=128,activation='relu',input_shape=x_train[0].shape))\n",
        "model.add(Dense(1))\n",
        "model.compile(loss='mae',optimizer='adam',metrics=['mae'])\n",
        "hist=model.fit(x_train,y_train,epochs=200,batch_size=1,validation_data=(x_test,y_test),verbose=2)\n",
        "\n",
        "# LSTM 모델 평가\n",
        "ev=model.evaluate(x_test,y_test,verbose=0)\n",
        "print(\"손실 함수:\",ev[0],\"MAE:\",ev[1])\n",
        "\n",
        "# LSTM 모델로 예측 수행\n",
        "pred=model.predict(x_test)\n",
        "print(\"평균절댓값백분율오차(MAPE):\",sum(abs(y_test-pred)/y_test)/len(x_test))"
      ],
      "metadata": {
        "id": "bJZsb44b26aD"
      },
      "execution_count": null,
      "outputs": []
    },
    {
      "cell_type": "code",
      "source": [
        "# 학습 곡선\n",
        "plt.plot(hist.history['mae'])\n",
        "plt.plot(hist.history['val_mae'])\n",
        "plt.title('Model mae')\n",
        "plt.ylabel('mae')\n",
        "plt.xlabel('Epoch')\n",
        "plt.ylim([120,800])\n",
        "plt.legend(['Train','Validation'], loc='best')\n",
        "plt.grid()\n",
        "plt.show()\n",
        "\n",
        "# 예측 결과 시각화\n",
        "x_range=range(len(y_test))\n",
        "plt.plot(x_range,y_test[x_range], color='red')\n",
        "plt.plot(x_range,pred[x_range], color='blue')\n",
        "plt.legend(['True prices','Predicted prices'], loc='best')\n",
        "plt.grid()\n",
        "plt.show()\n",
        "\n",
        "# 일부 구간을 확대하여 시각화\n",
        "x_range=range(50,64)\n",
        "plt.plot(x_range,y_test[x_range], color='red')\n",
        "plt.plot(x_range,pred[x_range], color='blue')\n",
        "plt.legend(['True prices','Predicted prices'], loc='best')\n",
        "plt.grid()\n",
        "plt.show()"
      ],
      "metadata": {
        "id": "hVJ0lnEx3PGL"
      },
      "execution_count": null,
      "outputs": []
    },
    {
      "cell_type": "markdown",
      "source": [
        "###다중 채널 비트코인 가격 예측"
      ],
      "metadata": {
        "id": "QD3kqVjz4kAt"
      }
    },
    {
      "cell_type": "code",
      "source": [
        "import numpy as np\n",
        "import pandas as pd\n",
        "import matplotlib.pyplot as plt\n",
        "\n",
        "# 코인데스크 사이트에서 1년치 비트코인 가격 데이터 읽기\n",
        "f=open(\"BTC_USD_2019-02-28_2020-02-27-CoinDesk.csv\",\"r\")\n",
        "coindesk_data=pd.read_csv(f,header=0)\n",
        "seq=coindesk_data[['Closing Price (USD)','24h Open (USD)','24h High (USD)','24h Low (USD)']].to_numpy() # 종가, 시가, 고가, 저가를 모두 취함\n",
        "\n",
        "# 시계열 데이터를 윈도우 단위로 자르는 함수\n",
        "def seq2dataset(seq,window,horizon):\n",
        "    X=[]; Y=[]\n",
        "    for i in range(len(seq)-(window+horizon)+1):\n",
        "        x=seq[i:(i+window)]\n",
        "        y=(seq[i+window+horizon-1])\n",
        "        X.append(x); Y.append(y)\n",
        "    return np.array(X), np.array(Y)\n",
        "\n",
        "w=7 # 윈도우 크기\n",
        "h=1 # 수평선 계수\n",
        "\n",
        "X,Y = seq2dataset(seq,w,h)\n",
        "print(X.shape,Y.shape)\n",
        "print(X[0],Y[0])\n",
        "\n",
        "from tensorflow.keras.models import Sequential\n",
        "from tensorflow.keras.layers import Dense, LSTM, Dropout\n",
        "\n",
        "# 훈련 집합과 테스트 집합으로 분할\n",
        "split=int(len(X)*0.7)\n",
        "x_train=X[0:split]; y_train=Y[0:split]\n",
        "x_test=X[split:]; y_test=Y[split:]\n",
        "\n",
        "# LSTM 모델의 설계와 학습\n",
        "model = Sequential()\n",
        "model.add(LSTM(units=128,activation='relu',input_shape=x_train[0].shape))\n",
        "model.add(Dense(4))\n",
        "model.compile(loss='mae',optimizer='adam',metrics=['mae'])\n",
        "hist=model.fit(x_train,y_train,epochs=200,batch_size=1,validation_data=(x_test,y_test),verbose=2)\n",
        "\n",
        "# LSTM 모델 평가\n",
        "ev=model.evaluate(x_test,y_test,verbose=0)\n",
        "print(\"손실 함수:\",ev[0],\"MAE:\",ev[1])\n",
        "\n",
        "# LSTM 모델로 예측 수행\n",
        "pred=model.predict(x_test) # LSTM\n",
        "print(\"LSTM 평균절댓값백분율오차(MAPE):\",sum(abs(y_test-pred)/y_test)/len(x_test"
      ],
      "metadata": {
        "id": "MSiWa4lZ4lDT"
      },
      "execution_count": null,
      "outputs": []
    },
    {
      "cell_type": "code",
      "source": [
        "# 학습 곡선\n",
        "plt.plot(hist.history['mae'])\n",
        "plt.plot(hist.history['val_mae'])\n",
        "plt.title('Model mae')\n",
        "plt.ylabel('mae')\n",
        "plt.xlabel('Epoch')\n",
        "plt.ylim([100,600])\n",
        "plt.legend(['Train','Validation'], loc='best')\n",
        "plt.grid()\n",
        "plt.show()"
      ],
      "metadata": {
        "id": "Ne7AUNeh4tMb"
      },
      "execution_count": null,
      "outputs": []
    },
    {
      "cell_type": "markdown",
      "source": [
        "#강화학습"
      ],
      "metadata": {
        "id": "Qi85mXeU7GmL"
      }
    },
    {
      "cell_type": "markdown",
      "source": [
        "##다중 손잡이 밴딧 문제를 위한 랜덤 정책 프로그램"
      ],
      "metadata": {
        "id": "7X_Te3uu7IKF"
      }
    },
    {
      "cell_type": "code",
      "source": [
        "import numpy as np\n",
        "\n",
        "# 다중 손잡이 밴딧 문제 설정\n",
        "arms_profit=[0.4, 0.12, 0.52, 0.6, 0.25]\n",
        "n_arms=len(arms_profit)\n",
        "\n",
        "n_trial=10000 # 손잡이를 당기는 횟수(에피소드 길이)\n",
        "\n",
        "# 손잡이 당기는 행위를 시뮬레이션하는 함수(handle은 손잡이 번호)\n",
        "def pull_bandit(handle):\n",
        "    q=np.random.random()\n",
        "    if q<arms_profit[handle]:\n",
        "        return 1\n",
        "    else:\n",
        "        return -1\n",
        "\n",
        "# 랜덤 정책을 모방하는 함수\n",
        "def random_exploration():\n",
        "    episode=[]\n",
        "    num=np.zeros(n_arms) # 손잡이별로 당긴 횟수\n",
        "    wins=np.zeros(n_arms) # 손잡이별로 승리 횟수\n",
        "    for i in range(n_trial):\n",
        "        h=np.random.randint(0,n_arms)\n",
        "        reward=pull_bandit(h)\n",
        "        episode.append([h,reward])\n",
        "        num[h]+=1\n",
        "        wins[h]+=1 if reward==1 else 0\n",
        "    return episode, (num,wins)\n",
        "\n",
        "e,r=random_exploration()\n",
        "\n",
        "print(\"손잡이별 승리 확률:\", [\"%6.4f\"% (r[1][i]/r[0][i]) if r[0][i]>0 else 0.0 for i in range(n_arms)])\n",
        "print(\"손잡이별 수익($):\",[\"%d\"% (2*r[1][i]-r[0][i]) for i in range(n_arms)])\n",
        "print(\"순 수익($):\",sum(np.asarray(e)[:,1]))"
      ],
      "metadata": {
        "colab": {
          "base_uri": "https://localhost:8080/"
        },
        "id": "TVIlHqTp7JGb",
        "outputId": "f86fc003-6edb-41cb-c0d7-f0c08c5fe618"
      },
      "execution_count": null,
      "outputs": [
        {
          "output_type": "stream",
          "name": "stdout",
          "text": [
            "손잡이별 승리 확률: ['0.4133', '0.1100', '0.5064', '0.6009', '0.2336']\n",
            "손잡이별 수익($): ['-343', '-1616', '26', '398', '-1045']\n",
            "순 수익($): -2580\n"
          ]
        }
      ]
    },
    {
      "cell_type": "code",
      "source": [
        "# ε-탐욕을 구현하는 함수\n",
        "def epsilon_greedy(eps):\n",
        "    episode=[]\n",
        "    num=np.zeros(n_arms) # 손잡이별로 당긴 횟수\n",
        "    wins=np.zeros(n_arms) # 손잡이별로 승리 횟수\n",
        "    for i in range(n_trial):\n",
        "        r=np.random.random()\n",
        "        if(r<eps or sum(wins)==0): # 확률 eps로 임의 선택\n",
        "            h=np.random.randint(0,n_arms)\n",
        "        else:\n",
        "            prob=np.asarray([wins[i]/num[i] if num[i]>0 else 0.0 for i in range(n_arms)])\n",
        "            prob=prob/sum(prob)\n",
        "            h=np.random.choice(range(n_arms),p=prob)\n",
        "        reward=pull_bandit(h)\n",
        "        episode.append([h,reward])\n",
        "        num[h]+=1\n",
        "        wins[h]+=1 if reward==1 else 0\n",
        "    return episode, (num,wins)\n",
        "\n",
        "e,r=epsilon_greedy(0.1)\n",
        "\n",
        "print(\"손잡이별 승리 확률:\", [\"%6.4f\"% (r[1][i]/r[0][i]) if r[0][i]>0 else 0.0 for i in range(n_arms)])\n",
        "print(\"손잡이별 수익($):\",[\"%d\"% (2*r[1][i]-r[0][i]) for i in range(n_arms)])\n",
        "print(\"순 수익($):\",sum(np.asarray(e)[:,1]))"
      ],
      "metadata": {
        "id": "AWSiYTux7RqK"
      },
      "execution_count": null,
      "outputs": []
    },
    {
      "cell_type": "markdown",
      "source": [
        "##FrozenLake 문제"
      ],
      "metadata": {
        "id": "F0hngMJy8-5T"
      }
    },
    {
      "cell_type": "code",
      "source": [
        "import gym\n",
        "\n",
        "# 환경 불러오기\n",
        "env=gym.make(\"FrozenLake-v0\",is_slippery=False)\n",
        "print(env.observation_space)\n",
        "print(env.action_space)\n",
        "\n",
        "n_trial=20\n",
        "\n",
        "# 에피소드 수집\n",
        "env.reset()\n",
        "episode=[]\n",
        "for i in range(n_trial):\n",
        "    action=env.action_space.sample() # 행동을 취함(랜덤 선택)\n",
        "    obs,reward,done,info=env.step(action) # 보상을 받고 상태가 바뀜\n",
        "    episode.append([action,reward,obs])\n",
        "    env.render()\n",
        "    if done:\n",
        "        break\n",
        "\n",
        "print(episode)\n",
        "env.close()"
      ],
      "metadata": {
        "colab": {
          "base_uri": "https://localhost:8080/"
        },
        "id": "EVhF-XrX9AA6",
        "outputId": "4c245e1c-3823-43c9-87fc-4bda72d537d7"
      },
      "execution_count": null,
      "outputs": [
        {
          "output_type": "stream",
          "name": "stdout",
          "text": [
            "Discrete(16)\n",
            "Discrete(4)\n",
            "  (Down)\n",
            "SFFF\n",
            "\u001b[41mF\u001b[0mHFH\n",
            "FFFH\n",
            "HFFG\n",
            "  (Right)\n",
            "SFFF\n",
            "F\u001b[41mH\u001b[0mFH\n",
            "FFFH\n",
            "HFFG\n",
            "[[1, 0.0, 4], [2, 0.0, 5]]\n"
          ]
        }
      ]
    },
    {
      "cell_type": "markdown",
      "source": [
        "##Q 러닝 프로그래밍"
      ],
      "metadata": {
        "id": "rpiZZu4oC8ai"
      }
    },
    {
      "cell_type": "code",
      "source": [
        "import gym\n",
        "import numpy as np\n",
        "\n",
        "env=gym.make('FrozenLake-v0',is_slippery=False) # 환경 생성\n",
        "Q=np.zeros([env.observation_space.n,env.action_space.n]) # Q 배열 초기화\n",
        "\n",
        "rho=0.8 # 학습률\n",
        "lamda=0.99 # 할인율\n",
        "\n",
        "n_episode=2000\n",
        "length_episode=100\n",
        "\n",
        "# 최적 행동 가치 함수 찾기\n",
        "for i in range(n_episode):\n",
        "    s=env.reset() # 새로운 에피소드 시작\n",
        "    for j in range(length_episode):\n",
        "        argmaxs=np.argwhere(Q[s,:]==np.amax(Q[s,:])).flatten().tolist()\n",
        "        a=np.random.choice(argmaxs)\n",
        "        s1,r,done,_=env.step(a)\n",
        "        Q[s,a]=Q[s,a]+rho*(r+lamda*np.max(Q[s1,:])-Q[s,a]) # 식 (9.18)\n",
        "        s=s1\n",
        "        if done:\n",
        "            break\n",
        "\n",
        "np.set_printoptions(precision=2)\n",
        "print(Q)"
      ],
      "metadata": {
        "colab": {
          "base_uri": "https://localhost:8080/"
        },
        "id": "eI6JT6HTC9bx",
        "outputId": "0b45947c-113e-4dbd-e4a8-29f236b76ad4"
      },
      "execution_count": null,
      "outputs": [
        {
          "output_type": "stream",
          "name": "stdout",
          "text": [
            "[[0.   0.95 0.   0.  ]\n",
            " [0.   0.   0.   0.  ]\n",
            " [0.   0.   0.   0.  ]\n",
            " [0.   0.   0.   0.  ]\n",
            " [0.   0.96 0.   0.  ]\n",
            " [0.   0.   0.   0.  ]\n",
            " [0.   0.   0.   0.  ]\n",
            " [0.   0.   0.   0.  ]\n",
            " [0.   0.   0.97 0.  ]\n",
            " [0.   0.98 0.   0.  ]\n",
            " [0.   0.   0.   0.  ]\n",
            " [0.   0.   0.   0.  ]\n",
            " [0.   0.   0.   0.  ]\n",
            " [0.   0.   0.99 0.  ]\n",
            " [0.   0.   1.   0.  ]\n",
            " [0.   0.   0.   0.  ]]\n"
          ]
        }
      ]
    },
    {
      "cell_type": "markdown",
      "source": [
        "##ε-탐욕 적용"
      ],
      "metadata": {
        "id": "vkvIUpHHD7Ox"
      }
    },
    {
      "cell_type": "code",
      "source": [
        "import gym\n",
        "import numpy as np\n",
        "\n",
        "env=gym.make('FrozenLake-v0',is_slippery=False) # 환경 생성\n",
        "Q=np.zeros([env.observation_space.n,env.action_space.n]) # Q 배열 초기화\n",
        "\n",
        "rho=0.90 # 학습률\n",
        "lamda=0.99 # 할인율\n",
        "eps=1.0 # 엡시론\n",
        "eps_decay=0.999 # 삭감 비율\n",
        "\n",
        "n_episode=3000\n",
        "length_episode=100\n",
        "\n",
        "# 최적 행동 가치 함수 찾기(탐사와 탐험의 균형 추구)\n",
        "for i in range(n_episode):\n",
        "    s=env.reset() # 새로운 에피소드 시작\n",
        "    for j in range(length_episode):\n",
        "        r=np.random.random()\n",
        "        eps=max(0.01,eps*eps_decay) # 엡시론을 조금씩 줄여나감\n",
        "        if(r<eps): # eps 비율만큼 임의 선택\n",
        "            a=np.random.randint(0,env.action_space.n)\n",
        "        else:\n",
        "            argmaxs=np.argwhere(Q[s,:]==np.amax(Q[s,:])).flatten().tolist()\n",
        "            a=np.random.choice(argmaxs)\n",
        "        s1,r,done,_=env.step(a)\n",
        "        Q[s,a]=Q[s,a]+rho*(r+lamda*np.max(Q[s1,:])-Q[s,a])\n",
        "        s=s1\n",
        "        if done:\n",
        "            break\n",
        "\n",
        "np.set_printoptions(precision=2)\n",
        "print(Q)"
      ],
      "metadata": {
        "id": "IPXMgFNmD8f5"
      },
      "execution_count": null,
      "outputs": []
    },
    {
      "cell_type": "markdown",
      "source": [
        "###DQN 프로그래밍"
      ],
      "metadata": {
        "id": "WdD7Nkzcn__U"
      }
    },
    {
      "cell_type": "code",
      "source": [
        "import numpy as np\n",
        "import random\n",
        "import gym\n",
        "import tensorflow as tf\n",
        "from tensorflow.keras.models import Sequential\n",
        "from tensorflow.keras.layers import Dense\n",
        "from tensorflow.keras.optimizers import Adam\n",
        "from collections import deque\n",
        "\n",
        "# 하이퍼 매개변수 설정\n",
        "rho=0.9 # 학습률\n",
        "lamda=0.99 # 할인율\n",
        "eps=0.9\n",
        "eps_decay=0.999\n",
        "batch_siz=64\n",
        "n_episode=100\n",
        "\n",
        "# 신경망을 설계해주는 함수\n",
        "def deep_network():\n",
        "    mlp=Sequential()\n",
        "    mlp.add(Dense(32,input_dim=env.observation_space.shape[0],activation='relu'))\n",
        "    mlp.add(Dense(32,activation='relu'))\n",
        "    mlp.add(Dense(env.action_space.n,activation='linear'))\n",
        "    mlp.compile(loss='mse',optimizer='Adam')\n",
        "    return mlp\n",
        "\n",
        "# DQN 학습\n",
        "def model_learning():\n",
        "    mini_batch=np.asarray(random.sample(D,batch_siz))\n",
        "    state=np.asarray([mini_batch[i,0] for i in range(batch_siz)])\n",
        "    action=mini_batch[:,1]\n",
        "    reward=mini_batch[:,2]\n",
        "    state1=np.asarray([mini_batch[i,3] for i in range(batch_siz)])\n",
        "    done=mini_batch[:,4]\n",
        "\n",
        "    target=model.predict(state)\n",
        "    target1=model.predict(state1)\n",
        "\n",
        "    for i in range(batch_siz):\n",
        "        if done[i]:\n",
        "            target[i][action[i]]=reward[i]\n",
        "        else:\n",
        "            target[i][action[i]]+=rho*((reward[i]+lamda*np.amax(target1[i]))-target[i][action[i]]) # Q 러닝(식 (9.19))\n",
        "    model.fit(state,target,batch_size=batch_siz,epochs=1,verbose=0)\n",
        "\n",
        "env=gym.make(\"CartPole-v0\")\n",
        "\n",
        "model=deep_network() # 신경망 생성\n",
        "D=deque(maxlen=2000) # 리플레이 메모리 초기화\n",
        "scores=[]\n",
        "max_steps=env.spec.max_episode_steps\n",
        "\n",
        "# 신경망 학습\n",
        "for i in range(n_episode):\n",
        "    s=env.reset()\n",
        "    long_reward=0\n",
        "\n",
        "    while True:\n",
        "        r=np.random.random()\n",
        "        eps=max(0.01,eps*eps_decay) # 엡시론을 조금씩 줄여나감\n",
        "        if(r<eps):\n",
        "            a=np.random.randint(0,env.action_space.n) # 랜덤 정책\n",
        "        else:\n",
        "            q=model.predict(np.reshape(s,[1,4])) # 신경망이 예측한 행동\n",
        "            a=np.argmax(q[0])\n",
        "        s1,r,done,_=env.step(a)\n",
        "        if done and long_reward<max_steps-1: # 실패\n",
        "            r=-100\n",
        "\n",
        "        D.append((s,a,r,s1,done))\n",
        "\n",
        "        if len(D)>batch_siz*3:\n",
        "            model_learning()\n",
        "\n",
        "        s=s1\n",
        "        long_reward+=r\n",
        "        \n",
        "        if done:\n",
        "            long_reward=long_reward if long_reward==max_steps else long_reward+100\n",
        "            print(i,\"번째 에피소드의 점수:\",long_reward)\n",
        "            scores.append(long_reward)\n",
        "            break\n",
        "\n",
        "    if i>10 and np.mean(scores[-5:])>(0.95*max_steps):\n",
        "        break\n",
        "    \n",
        "# 신경망 저장\n",
        "model.save(\"./cartpole_by_DQN.h5\")\n",
        "env.close()\n",
        "\n",
        "import matplotlib.pyplot as plt\n",
        "\n",
        "plt.plot(range(1,len(scores)+1),scores)\n",
        "plt.title('DQN scores for CartPole-v0')\n",
        "plt.ylabel('Score')\n",
        "plt.xlabel('Episode')\n",
        "plt.grid()\n",
        "plt.show()"
      ],
      "metadata": {
        "colab": {
          "base_uri": "https://localhost:8080/",
          "height": 853
        },
        "id": "3eqrY0MToBQR",
        "outputId": "4da02fab-c336-42dd-9187-cc3fee8b6031"
      },
      "execution_count": null,
      "outputs": [
        {
          "output_type": "stream",
          "name": "stdout",
          "text": [
            "0 번째 에피소드의 점수: 23.0\n",
            "1 번째 에피소드의 점수: 14.0\n",
            "2 번째 에피소드의 점수: 10.0\n",
            "3 번째 에피소드의 점수: 14.0\n",
            "4 번째 에피소드의 점수: 28.0\n",
            "5 번째 에피소드의 점수: 16.0\n",
            "6 번째 에피소드의 점수: 9.0\n",
            "7 번째 에피소드의 점수: 39.0\n"
          ]
        },
        {
          "output_type": "stream",
          "name": "stderr",
          "text": [
            "/usr/local/lib/python3.7/dist-packages/ipykernel_launcher.py:29: VisibleDeprecationWarning: Creating an ndarray from ragged nested sequences (which is a list-or-tuple of lists-or-tuples-or ndarrays with different lengths or shapes) is deprecated. If you meant to do this, you must specify 'dtype=object' when creating the ndarray.\n"
          ]
        },
        {
          "output_type": "stream",
          "name": "stdout",
          "text": [
            "8 번째 에피소드의 점수: 32.0\n",
            "9 번째 에피소드의 점수: 19.0\n",
            "10 번째 에피소드의 점수: 49.0\n",
            "11 번째 에피소드의 점수: 54.0\n",
            "12 번째 에피소드의 점수: 46.0\n",
            "13 번째 에피소드의 점수: 136.0\n",
            "14 번째 에피소드의 점수: 29.0\n",
            "15 번째 에피소드의 점수: 58.0\n",
            "16 번째 에피소드의 점수: 33.0\n",
            "17 번째 에피소드의 점수: 31.0\n",
            "18 번째 에피소드의 점수: 85.0\n",
            "19 번째 에피소드의 점수: 36.0\n",
            "20 번째 에피소드의 점수: 28.0\n",
            "21 번째 에피소드의 점수: 124.0\n",
            "22 번째 에피소드의 점수: 60.0\n",
            "23 번째 에피소드의 점수: 166.0\n",
            "24 번째 에피소드의 점수: 67.0\n",
            "25 번째 에피소드의 점수: 200.0\n",
            "26 번째 에피소드의 점수: 200.0\n",
            "27 번째 에피소드의 점수: 200.0\n",
            "28 번째 에피소드의 점수: 200.0\n",
            "29 번째 에피소드의 점수: 200.0\n"
          ]
        },
        {
          "output_type": "display_data",
          "data": {
            "text/plain": [
              "<Figure size 432x288 with 1 Axes>"
            ],
            "image/png": "[encoded data removed]"
          },
          "metadata": {
            "needs_background": "light"
          }
        }
      ]
    },
    {
      "cell_type": "code",
      "source": [
        "!pip uninstall pyglet\n",
        "!pip uninstall gym"
      ],
      "metadata": {
        "colab": {
          "base_uri": "https://localhost:8080/"
        },
        "id": "VtFnIvVbr0hK",
        "outputId": "2fd4aded-786d-483f-8a8d-5bda01516f14"
      },
      "execution_count": null,
      "outputs": [
        {
          "output_type": "stream",
          "name": "stdout",
          "text": [
            "Found existing installation: pyglet 1.5.0\n",
            "Uninstalling pyglet-1.5.0:\n",
            "  Would remove:\n",
            "    /usr/local/lib/python3.7/dist-packages/pyglet-1.5.0.dist-info/*\n",
            "    /usr/local/lib/python3.7/dist-packages/pyglet/*\n",
            "Proceed (y/n)? y\n",
            "  Successfully uninstalled pyglet-1.5.0\n",
            "Found existing installation: gym 0.17.3\n",
            "Uninstalling gym-0.17.3:\n",
            "  Would remove:\n",
            "    /usr/local/lib/python3.7/dist-packages/gym-0.17.3.dist-info/*\n",
            "    /usr/local/lib/python3.7/dist-packages/gym/*\n",
            "Proceed (y/n)? y\n",
            "  Successfully uninstalled gym-0.17.3\n"
          ]
        }
      ]
    },
    {
      "cell_type": "markdown",
      "source": [
        "###학습된 DQN으로 게임 플레이\n"
      ],
      "metadata": {
        "id": "j1NeW3sNph4h"
      }
    },
    {
      "cell_type": "code",
      "source": [
        "from tensorflow.keras.models import Sequential\n",
        "from tensorflow.keras.models import load_model\n",
        "import numpy as np\n",
        "import gym\n",
        "import time\n",
        "\n",
        "# 신경망 블러옴\n",
        "model=load_model('./cartpole_by_DQN.h5')\n",
        "\n",
        "env=gym.make(\"CartPole-v0\")\n",
        "long_reward=0\n",
        "\n",
        "# CartPole 플레이\n",
        "s=env.reset()\n",
        "while True:\n",
        "    q=model.predict(np.reshape(s,[1,4])) # 신경망이 예측한 행동\n",
        "    a=np.argmax(q[0])\n",
        "    s1,r,done,_=env.step(a)\n",
        "    s=s1\n",
        "    long_reward+=r\n",
        "\n",
        "    env.render()\n",
        "    time.sleep(0.02)\n",
        "\n",
        "    if done:\n",
        "        print(\"에피소드의 점수:\",long_reward)\n",
        "        break\n",
        "\n",
        "env.close()"
      ],
      "metadata": {
        "colab": {
          "base_uri": "https://localhost:8080/",
          "height": 373
        },
        "id": "Z4uTHZeFpi3x",
        "outputId": "918d66b9-9416-4d71-c5cc-452747629585"
      },
      "execution_count": null,
      "outputs": [
        {
          "output_type": "error",
          "ename": "ImportError",
          "evalue": "ignored",
          "traceback": [
            "\u001b[0;31m---------------------------------------------------------------------------\u001b[0m",
            "\u001b[0;31mImportError\u001b[0m                               Traceback (most recent call last)",
            "\u001b[0;32m<ipython-input-9-153b246d60f5>\u001b[0m in \u001b[0;36m<module>\u001b[0;34m()\u001b[0m\n\u001b[1;32m      4\u001b[0m \u001b[0;32mimport\u001b[0m \u001b[0mgym\u001b[0m\u001b[0;34m\u001b[0m\u001b[0;34m\u001b[0m\u001b[0m\n\u001b[1;32m      5\u001b[0m \u001b[0;32mimport\u001b[0m \u001b[0mtime\u001b[0m\u001b[0;34m\u001b[0m\u001b[0;34m\u001b[0m\u001b[0m\n\u001b[0;32m----> 6\u001b[0;31m \u001b[0;32mfrom\u001b[0m \u001b[0mgym\u001b[0m\u001b[0;34m.\u001b[0m\u001b[0menvs\u001b[0m\u001b[0;34m.\u001b[0m\u001b[0mclassic_control\u001b[0m \u001b[0;32mimport\u001b[0m \u001b[0mrendering\u001b[0m\u001b[0;34m\u001b[0m\u001b[0;34m\u001b[0m\u001b[0m\n\u001b[0m\u001b[1;32m      7\u001b[0m \u001b[0;34m\u001b[0m\u001b[0m\n\u001b[1;32m      8\u001b[0m \u001b[0;31m# 신경망 블러옴\u001b[0m\u001b[0;34m\u001b[0m\u001b[0;34m\u001b[0m\u001b[0;34m\u001b[0m\u001b[0m\n",
            "\u001b[0;31mImportError\u001b[0m: cannot import name 'rendering' from 'gym.envs.classic_control' (/usr/local/lib/python3.7/dist-packages/gym/envs/classic_control/__init__.py)",
            "",
            "\u001b[0;31m---------------------------------------------------------------------------\u001b[0;32m\nNOTE: If your import is failing due to a missing package, you can\nmanually install dependencies using either !pip or !apt.\n\nTo view examples of installing some common dependencies, click the\n\"Open Examples\" button below.\n\u001b[0;31m---------------------------------------------------------------------------\u001b[0m\n"
          ],
          "errorDetails": {
            "actions": [
              {
                "action": "open_url",
                "actionText": "Open Examples",
                "url": "/notebooks/snippets/importing_libraries.ipynb"
              }
            ]
          }
        }
      ]
    },
    {
      "cell_type": "markdown",
      "source": [
        ""
      ],
      "metadata": {
        "id": "8FO-ZLNQkcaW"
      }
    },
    {
      "cell_type": "markdown",
      "source": [
        "##확률적 생성 모델"
      ],
      "metadata": {
        "id": "yqW0mN-9qlqq"
      }
    },
    {
      "cell_type": "markdown",
      "source": [
        "###확률적 생성 모델을 MNIST에 적용"
      ],
      "metadata": {
        "id": "68NXRibFrDjA"
      }
    },
    {
      "cell_type": "code",
      "source": [
        "import numpy as np\n",
        "from tensorflow.keras.datasets import mnist\n",
        "\n",
        "# MNIST 데이터를 읽고 0 패턴만 추출\n",
        "(x_train,y_train),(x_test,y_test)=mnist.load_data()\n",
        "X=x_train[np.isin(y_train,[0])]\n",
        "\n",
        "# 화소 수준의 확률 생성 모델 구축\n",
        "P=np.zeros((28,28,256))\n",
        "for k in range(X.shape[0]):\n",
        "    for i in range(X.shape[1]):\n",
        "        for j in range(X.shape[2]):\n",
        "            P[i][j][X[k][i][j]]+=1\n",
        "P=P/X.shape[0]\n",
        "\n",
        "# 확률 생성 모델을 이용하여 20개 샘플을 생성\n",
        "Xnew=np.zeros((20,28,28))\n",
        "for i in range(20):\n",
        "    for r in range(28):\n",
        "        for c in range(28):\n",
        "            Xnew[i][r][c]=np.random.choice(range(256),p=P[r][c])\n",
        "            \n",
        "import matplotlib.pyplot as plt\n",
        "\n",
        "plt.figure(figsize=(20,4))\n",
        "for r in range(2):\n",
        "    for c in range(10):\n",
        "        plt.subplot(2,10,r*10+c+1)\n",
        "        plt.imshow(Xnew[r*10+c],cmap='gray')\n",
        "        plt.xticks([]); plt.yticks([])\n",
        "plt.show()"
      ],
      "metadata": {
        "colab": {
          "base_uri": "https://localhost:8080/",
          "height": 300
        },
        "id": "KIxjreO9rFHn",
        "outputId": "ce0e21d2-976e-4eed-db39-760ebbec34ac"
      },
      "execution_count": null,
      "outputs": [
        {
          "output_type": "stream",
          "name": "stdout",
          "text": [
            "Downloading data from https://storage.googleapis.com/tensorflow/tf-keras-datasets/mnist.npz\n",
            "11493376/11490434 [==============================] - 0s 0us/step\n",
            "11501568/11490434 [==============================] - 0s 0us/step\n"
          ]
        },
        {
          "output_type": "display_data",
          "data": {
            "text/plain": [
              "<Figure size 1440x288 with 20 Axes>"
            ],
            "image/png": "[encoded data removed]"
          },
          "metadata": {}
        }
      ]
    },
    {
      "cell_type": "markdown",
      "source": [
        "##MNIST를 가지고 오토인코더를 구현"
      ],
      "metadata": {
        "id": "lDeuJAr9t23R"
      }
    },
    {
      "cell_type": "code",
      "execution_count": null,
      "metadata": {
        "colab": {
          "base_uri": "https://localhost:8080/",
          "height": 1000
        },
        "id": "8BJ89xqJqJof",
        "outputId": "83b7254b-c0f1-4fa9-f19f-ee86865a297a"
      },
      "outputs": [
        {
          "output_type": "stream",
          "name": "stdout",
          "text": [
            "Model: \"model_3\"\n",
            "_________________________________________________________________\n",
            " Layer (type)                Output Shape              Param #   \n",
            "=================================================================\n",
            " input_3 (InputLayer)        [(None, 28, 28, 1)]       0         \n",
            "                                                                 \n",
            " conv2d_4 (Conv2D)           (None, 28, 28, 32)        320       \n",
            "                                                                 \n",
            " conv2d_5 (Conv2D)           (None, 14, 14, 64)        18496     \n",
            "                                                                 \n",
            " conv2d_6 (Conv2D)           (None, 7, 7, 64)          36928     \n",
            "                                                                 \n",
            " conv2d_7 (Conv2D)           (None, 7, 7, 64)          36928     \n",
            "                                                                 \n",
            " flatten_1 (Flatten)         (None, 3136)              0         \n",
            "                                                                 \n",
            " dense_2 (Dense)             (None, 32)                100384    \n",
            "                                                                 \n",
            "=================================================================\n",
            "Total params: 193,056\n",
            "Trainable params: 193,056\n",
            "Non-trainable params: 0\n",
            "_________________________________________________________________\n",
            "Model: \"model_4\"\n",
            "_________________________________________________________________\n",
            " Layer (type)                Output Shape              Param #   \n",
            "=================================================================\n",
            " input_4 (InputLayer)        [(None, 32)]              0         \n",
            "                                                                 \n",
            " dense_3 (Dense)             (None, 3136)              103488    \n",
            "                                                                 \n",
            " reshape_1 (Reshape)         (None, 7, 7, 64)          0         \n",
            "                                                                 \n",
            " conv2d_transpose_4 (Conv2DT  (None, 7, 7, 64)         36928     \n",
            " ranspose)                                                       \n",
            "                                                                 \n",
            " conv2d_transpose_5 (Conv2DT  (None, 14, 14, 64)       36928     \n",
            " ranspose)                                                       \n",
            "                                                                 \n",
            " conv2d_transpose_6 (Conv2DT  (None, 28, 28, 32)       18464     \n",
            " ranspose)                                                       \n",
            "                                                                 \n",
            " conv2d_transpose_7 (Conv2DT  (None, 28, 28, 1)        289       \n",
            " ranspose)                                                       \n",
            "                                                                 \n",
            "=================================================================\n",
            "Total params: 196,097\n",
            "Trainable params: 196,097\n",
            "Non-trainable params: 0\n",
            "_________________________________________________________________\n",
            "Epoch 1/5\n",
            "469/469 [==============================] - 190s 404ms/step - loss: 0.0192 - val_loss: 0.0066\n",
            "Epoch 2/5\n",
            "469/469 [==============================] - 182s 387ms/step - loss: 0.0056 - val_loss: 0.0048\n",
            "Epoch 3/5\n",
            "469/469 [==============================] - 184s 393ms/step - loss: 0.0046 - val_loss: 0.0041\n",
            "Epoch 4/5\n",
            "469/469 [==============================] - 187s 399ms/step - loss: 0.0041 - val_loss: 0.0039\n",
            "Epoch 5/5\n",
            "469/469 [==============================] - 191s 408ms/step - loss: 0.0038 - val_loss: 0.0036\n"
          ]
        },
        {
          "output_type": "display_data",
          "data": {
            "text/plain": [
              "<Figure size 1440x288 with 20 Axes>"
            ],
            "image/png": "[encoded data removed]"
          },
          "metadata": {}
        }
      ],
      "source": [
        "import numpy as np\n",
        "from tensorflow.keras.datasets import mnist\n",
        "from tensorflow.keras.layers import Input,Dense,Flatten,Reshape,Conv2D,Conv2DTranspose\n",
        "from tensorflow.keras.models import Model\n",
        "from tensorflow.keras import backend as K\n",
        "\n",
        "# MNIST 데이터를 읽고 신경망에 입력할 준비\n",
        "(x_train,y_train),(x_test,y_test)=mnist.load_data()\n",
        "x_train=x_train.astype('float32')/255.\n",
        "x_test=x_test.astype('float32')/255.\n",
        "x_train=np.reshape(x_train,(len(x_train),28,28,1))\n",
        "x_test=np.reshape(x_test,(len(x_test),28,28,1))\n",
        "\n",
        "zdim=32 # 잠복 공간의 차원\n",
        "\n",
        "# 오토인코더의 인코더 부분 설계\n",
        "encoder_input=Input(shape=(28,28,1))\n",
        "x=Conv2D(32,(3,3),activation='relu',padding='same',strides=(1,1))(encoder_input)\n",
        "x=Conv2D(64,(3,3),activation='relu',padding='same',strides=(2,2))(x)\n",
        "x=Conv2D(64,(3,3),activation='relu',padding='same',strides=(2,2))(x)\n",
        "x=Conv2D(64,(3,3),activation='relu',padding='same',strides=(1,1))(x)\n",
        "x=Flatten()(x)\n",
        "encoder_output=Dense(zdim)(x)\n",
        "model_encoder=Model(encoder_input,encoder_output)\n",
        "model_encoder.summary()\n",
        "\n",
        "# 오토인코더의 디코더 부분 설계\n",
        "decoder_input=Input(shape=(zdim,))\n",
        "x=Dense(3136)(decoder_input)\n",
        "x=Reshape((7,7,64))(x)\n",
        "x=Conv2DTranspose(64,(3,3),activation='relu',padding='same',strides=(1,1))(x)\n",
        "x=Conv2DTranspose(64,(3,3),activation='relu',padding='same',strides=(2,2))(x)\n",
        "x=Conv2DTranspose(32,(3,3),activation='relu',padding='same',strides=(2,2))(x)\n",
        "x=Conv2DTranspose(1,(3,3),activation='relu',padding='same',strides=(1,1))(x)\n",
        "decoder_output=x\n",
        "model_decoder=Model(decoder_input,decoder_output)\n",
        "model_decoder.summary()\n",
        "\n",
        "# 인코더와 디코더를 결합하여 오토인코더 모델 구축\n",
        "model_input=encoder_input\n",
        "model_output=model_decoder(encoder_output)\n",
        "model=Model(model_input,model_output)\n",
        "\n",
        "# 오토인코더 학습\n",
        "model.compile(optimizer='Adam',loss='mse')\n",
        "model.fit(x_train,x_train,epochs=5,batch_size=128,shuffle=True,validation_data=(x_test,x_test))\n",
        "\n",
        "# 복원 실험 1: x_test를 복원하는 예측 실험\n",
        "decoded_img=model.predict(x_test)\n",
        "\n",
        "import matplotlib.pyplot as plt\n",
        "\n",
        "n=10\n",
        "plt.figure(figsize=(20, 4))\n",
        "for i in range(n):\n",
        "    plt.subplot(2, n, i+1)\n",
        "    plt.imshow(x_test[i].reshape(28, 28),cmap='gray')\n",
        "    plt.xticks([]); plt.yticks([])\n",
        "    plt.subplot(2, n, i + n+1)\n",
        "    plt.imshow(decoded_img[i].reshape(28, 28),cmap='gray')\n",
        "    plt.xticks([]); plt.yticks([])\n",
        "plt.show()"
      ]
    },
    {
      "cell_type": "markdown",
      "source": [
        "###학습된 디코더로 새로운 샘플을 생성하는 프로그램\n"
      ],
      "metadata": {
        "id": "S5yh_NcgvVXg"
      }
    },
    {
      "cell_type": "code",
      "source": [
        "# 생성 실험 1: 첫 번째 샘플의 잠복 공간 표현에 잡음을 섞어 새로운 샘플 생성\n",
        "x0=x_test[0]\n",
        "z=model_encoder.predict(x0.reshape(1,28,28,1))\n",
        "print(np.round(z,3))\n",
        "zz=np.zeros((20,zdim))\n",
        "for i in range(20):\n",
        "    zz[i]=z[0]+(i-10)/10.0\n",
        "generated_img=model_decoder.predict(zz)\n",
        "\n",
        "plt.figure(figsize=(20, 4))\n",
        "for i in range(20):\n",
        "    plt.subplot(2,10,i+1)\n",
        "    plt.imshow(generated_img[i].reshape(28,28),cmap='gray')\n",
        "    plt.xticks([]); plt.yticks([])\n",
        "    plt.title('noise='+str((i-10)/10.0))\n",
        "plt.show()\n",
        "\n",
        "# 생성 실험 2: 같은 부류의 두 샘플 사이를 보간하여 새로운 샘플 생성\n",
        "x4_6=np.array((x_test[4],x_test[6]))\n",
        "z=model_encoder.predict(x4_6)\n",
        "zz=np.zeros((20,zdim))\n",
        "for i in range(20):\n",
        "    alpha=i/(20.0-1.0)\n",
        "    zz[i]=(1.0-alpha)*z[0]+alpha*z[1]\n",
        "generated_img=model_decoder.predict(zz)\n",
        "\n",
        "plt.figure(figsize=(20, 4))\n",
        "for i in range(20):\n",
        "    plt.subplot(2,10,i+1)\n",
        "    plt.imshow(generated_img[i].reshape(28,28),cmap='gray')\n",
        "    plt.xticks([]); plt.yticks([])\n",
        "    plt.title('alpha='+str(round(i/(20.0-1.0),3)))\n",
        "plt.show()"
      ],
      "metadata": {
        "id": "9p5tf_GbvWt_"
      },
      "execution_count": null,
      "outputs": []
    },
    {
      "cell_type": "markdown",
      "source": [
        "###2차원 잠복 공간 관찰\n"
      ],
      "metadata": {
        "id": "jEOeS65jwDLY"
      }
    },
    {
      "cell_type": "code",
      "source": [
        "import numpy as np\n",
        "from tensorflow.keras.datasets import mnist\n",
        "from tensorflow.keras.layers import Input,Dense,Flatten,Reshape,Conv2D,Conv2DTranspose\n",
        "from tensorflow.keras.models import Model\n",
        "from tensorflow.keras import backend as K\n",
        "\n",
        "# MNIST 데이터를 읽고 신경망에 입력할 준비\n",
        "(x_train,y_train),(x_test,y_test)=mnist.load_data()\n",
        "x_train=x_train.astype('float32')/255.\n",
        "x_test=x_test.astype('float32')/255.\n",
        "x_train=np.reshape(x_train,(len(x_train),28,28,1))\n",
        "x_test=np.reshape(x_test,(len(x_test),28,28,1))\n",
        "\n",
        "zdim=2 # 시각화를 위해 2차원으로 설정\n",
        "\n",
        "# 오토인코더의 인코더 부분 설계\n",
        "encoder_input=Input(shape=(28,28,1))\n",
        "x=Conv2D(32,(3,3),activation='relu',padding='same',strides=(1,1))(encoder_input)\n",
        "x=Conv2D(64,(3,3),activation='relu',padding='same',strides=(2,2))(x)\n",
        "x=Conv2D(64,(3,3),activation='relu',padding='same',strides=(2,2))(x)\n",
        "x=Conv2D(64,(3,3),activation='relu',padding='same',strides=(1,1))(x)\n",
        "x=Flatten()(x)\n",
        "encoder_output=Dense(zdim)(x)\n",
        "model_encoder=Model(encoder_input,encoder_output)\n",
        "model_encoder.summary()\n",
        "\n",
        "# 오토인코더의 디코더 부분 설계\n",
        "decoder_input=Input(shape=(zdim,))\n",
        "x=Dense(3136)(decoder_input)\n",
        "x=Reshape((7,7,64))(x)\n",
        "x=Conv2DTranspose(64,(3,3),activation='relu',padding='same',strides=(1,1))(x)\n",
        "x=Conv2DTranspose(64,(3,3),activation='relu',padding='same',strides=(2,2))(x)\n",
        "x=Conv2DTranspose(32,(3,3),activation='relu',padding='same',strides=(2,2))(x)\n",
        "x=Conv2DTranspose(1,(3,3),activation='relu',padding='same',strides=(1,1))(x)\n",
        "decoder_output=x\n",
        "model_decoder=Model(decoder_input,decoder_output)\n",
        "model_decoder.summary()\n",
        "\n",
        "# 인코더와 디코더를 결합하여 오토인코더 모델 구축\n",
        "model_input=encoder_input\n",
        "model_output=model_decoder(encoder_output)\n",
        "model=Model(model_input,model_output)\n",
        "\n",
        "# 오토인코더 학습\n",
        "model.compile(optimizer='Adam',loss='mse')\n",
        "model.fit(x_train,x_train,epochs=5,batch_size=128,shuffle=True,validation_data=(x_test,x_test))\n",
        "\n",
        "decoded_img=model.predict(x_test)\n",
        "\n",
        "import matplotlib.pyplot as plt\n",
        "\n",
        "# 테스트 샘플에 대해 복원 품질 평가\n",
        "n = 10\n",
        "plt.figure(figsize=(20, 4))\n",
        "for i in range(n):\n",
        "    plt.subplot(2, n, i+1)\n",
        "    plt.imshow(x_test[i].reshape(28, 28),cmap='gray')\n",
        "    plt.xticks([]); plt.yticks([])\n",
        "    plt.subplot(2, n, i + n+1)\n",
        "    plt.imshow(decoded_img[i].reshape(28, 28),cmap='gray')\n",
        "    plt.xticks([]); plt.yticks([])\n",
        "plt.show()\n",
        "\n",
        "# 테스트 집합의 분포를 2차원 잠복 공간에 시각화\n",
        "n=1000\n",
        "xx=x_test[0:n]\n",
        "z=model_encoder.predict(xx)\n",
        "sc=plt.scatter(z[:,0],z[:,1],s=2,c=y_test[0:n],cmap='rainbow')\n",
        "plt.colorbar(sc)"
      ],
      "metadata": {
        "id": "WpIERC_ewEOv"
      },
      "execution_count": null,
      "outputs": []
    },
    {
      "cell_type": "markdown",
      "source": [
        "##MNIST를 가지고 GAN을 구현"
      ],
      "metadata": {
        "id": "FM98Sg5JxM8A"
      }
    },
    {
      "cell_type": "code",
      "source": [
        "import numpy as np\n",
        "from tensorflow.keras.datasets import mnist\n",
        "from tensorflow.keras.layers import Input,Activation,Dense,Flatten,Reshape,Conv2D,Conv2DTranspose,Dropout,BatchNormalization,UpSampling2D\n",
        "from tensorflow.keras.models import Model\n",
        "from tensorflow.keras import backend as K\n",
        "from tensorflow.keras.losses import mse\n",
        "import matplotlib.pyplot as plt\n",
        "\n",
        "(x_train,y_train),(x_test,y_test)=mnist.load_data()\n",
        "x_train = (x_train.astype('float32')/255.0)*2.0-1.0 # [-1,1] 구간\n",
        "x_test = (x_test.astype('float32')/255.0)*2.0-1.0\n",
        "x_train = np.reshape(x_train, (len(x_train), 28, 28, 1))\n",
        "x_test = np.reshape(x_test, (len(x_test), 28, 28, 1))\n",
        "\n",
        "batch_siz=64\n",
        "epochs=5000\n",
        "dropout_rate=0.4\n",
        "batch_norm=0.9\n",
        "zdim=100 # 잠복 공간의 차원\n",
        "\n",
        "discriminator_input=Input(shape=(28, 28, 1)) # 분별망 D 설계\n",
        "x=Conv2D(64,(5,5),activation='relu',padding='same',strides=(2,2))(discriminator_input)\n",
        "x=Dropout(dropout_rate)(x)\n",
        "x=Conv2D(64,(5,5),activation='relu',padding='same',strides=(2,2))(x)\n",
        "x=Dropout(dropout_rate)(x)\n",
        "x=Conv2D(128,(5,5),activation='relu',padding='same',strides=(2,2))(x)\n",
        "x=Dropout(dropout_rate)(x)\n",
        "x=Conv2D(128,(5,5),activation='relu',padding='same',strides=(1,1))(x)\n",
        "x=Dropout(dropout_rate)(x)\n",
        "x=Flatten()(x)\n",
        "discriminator_output=Dense(1,activation='sigmoid')(x)\n",
        "discriminator=Model(discriminator_input,discriminator_output)\n",
        "\n",
        "generator_input=Input(shape=(zdim,)) # 생성망 G 설계\n",
        "x=Dense(3136)(generator_input)\n",
        "x=BatchNormalization(momentum=batch_norm)(x)\n",
        "x=Activation('relu')(x)\n",
        "x=Reshape((7,7,64))(x)\n",
        "x=UpSampling2D()(x)\n",
        "x=Conv2D(128,(5,5),padding='same')(x)\n",
        "x=BatchNormalization(momentum=batch_norm)(x)\n",
        "x=Activation('relu')(x)\n",
        "x=UpSampling2D()(x)\n",
        "x=Conv2D(64,(5,5),padding='same')(x)\n",
        "x=BatchNormalization(momentum=batch_norm)(x)\n",
        "x=Activation('relu')(x)\n",
        "x=Conv2D(64,(5,5),padding='same')(x)\n",
        "x=BatchNormalization(momentum=batch_norm)(x)\n",
        "x=Activation('relu')(x)\n",
        "x=Conv2D(1,(5,5),activation='tanh',padding='same')(x)\n",
        "generator_output=x\n",
        "generator=Model(generator_input,generator_output)\n",
        "\n",
        "discriminator.compile(optimizer='Adam',loss='binary_crossentropy',metrics=['accuracy'])\n",
        "\n",
        "discriminator.trainable=False\n",
        "gan_input=Input(shape=(zdim,))\n",
        "gan_output=discriminator(generator(gan_input))\n",
        "gan=Model(gan_input,gan_output)\n",
        "gan.compile(optimizer='Adam',loss='binary_crossentropy',metrics=['accuracy'])\n",
        "\n",
        "def train_discriminator(x_train):\n",
        "    c=np.random.randint(0,x_train.shape[0],batch_siz)\n",
        "    real=x_train[c]\n",
        "    discriminator.train_on_batch(real,np.ones((batch_siz,1)))\n",
        "\n",
        "    p=np.random.normal(0,1,(batch_siz,zdim))\n",
        "    fake=generator.predict(p)\n",
        "    discriminator.train_on_batch(fake,np.zeros((batch_siz,1)))\n",
        "\n",
        "def train_generator():\n",
        "    p=np.random.normal(0,1,(batch_siz,zdim))\n",
        "    gan.train_on_batch(p,np.ones((batch_siz,1)))\n",
        "\n",
        "for i in range(epochs+1): # 학습을 수행\n",
        "    train_discriminator(x_train)\n",
        "    train_generator()\n",
        "    if(i%100==0): # 학습 도중 100세대마다 중간 상황 출력\n",
        "        plt.figure(figsize=(20, 4))\n",
        "        plt.suptitle('epoch '+str(i))\n",
        "        for k in range(20):\n",
        "            plt.subplot(2,10,k+1)\n",
        "            img=generator.predict(np.random.normal(0,1,(1,zdim)))\n",
        "            plt.imshow(img[0].reshape(28,28),cmap='gray')\n",
        "            plt.xticks([]); plt.yticks([])\n",
        "        plt.show()\n",
        "\n",
        "imgs=generator.predict(np.random.normal(0,1,(50,zdim)))\n",
        "plt.figure(figsize=(20,10)) # 학습을 마친 후 50개 샘플을 생성하여 출력\n",
        "for i in range(50):\n",
        "    plt.subplot(5,10,i+1)\n",
        "    plt.imshow(imgs[i].reshape(28,28),cmap='gray')\n",
        "    plt.xticks([]); plt.yticks([])"
      ],
      "metadata": {
        "id": "669qn35kxOIP"
      },
      "execution_count": null,
      "outputs": []
    },
    {
      "cell_type": "markdown",
      "source": [
        "###fashion MNIST 데이터로 생성 적대 신경망 학습"
      ],
      "metadata": {
        "id": "JsHRV7YgyOa5"
      }
    },
    {
      "cell_type": "code",
      "source": [
        "import numpy as np\n",
        "from tensorflow.keras.datasets import fashion_mnist\n",
        "from tensorflow.keras.layers import Input,Activation,Dense,Flatten,Reshape,Conv2D,Conv2DTranspose,Dropout,BatchNormalization,UpSampling2D,LeakyReLU\n",
        "from tensorflow.keras.models import Model\n",
        "from tensorflow.keras import backend as K\n",
        "from tensorflow.keras.losses import mse\n",
        "import matplotlib.pyplot as plt\n",
        "\n",
        "(x_train,y_train),(x_test,y_test)=fashion_mnist.load_data()\n",
        "x_train=x_train[np.isin(y_train,[9])] # 9번 부류는 ankle boot\n",
        "x_train = (x_train.astype('float32')/255.0)*2.0-1.0 # [-1,1] 구간\n",
        "x_test = (x_test.astype('float32')/255.0)*2.0-1.0\n",
        "x_train = np.reshape(x_train, (len(x_train), 28, 28, 1))\n",
        "x_test = np.reshape(x_test, (len(x_test), 28, 28, 1))\n",
        "\n",
        "batch_siz=64\n",
        "epochs=5000\n",
        "dropout_rate=0.4\n",
        "batch_norm=0.9\n",
        "zdim=100 # 잠복 공간의 차원\n",
        "\n",
        "discriminator_input=Input(shape=(28, 28, 1)) # 분별망 D 설계\n",
        "x=Conv2D(64,(5,5),activation='relu',padding='same',strides=(2,2))(discriminator_input)\n",
        "x=Dropout(dropout_rate)(x)\n",
        "x=Conv2D(64,(5,5),activation='relu',padding='same',strides=(2,2))(x)\n",
        "x=Dropout(dropout_rate)(x)\n",
        "x=Conv2D(128,(5,5),activation='relu',padding='same',strides=(2,2))(x)\n",
        "x=Dropout(dropout_rate)(x)\n",
        "x=Conv2D(128,(5,5),activation='relu',padding='same',strides=(1,1))(x)\n",
        "x=Dropout(dropout_rate)(x)\n",
        "x=Flatten()(x)\n",
        "discriminator_output=Dense(1,activation='sigmoid')(x)\n",
        "discriminator=Model(discriminator_input,discriminator_output)\n",
        "\n",
        "generator_input=Input(shape=(zdim,)) # 생성망 G 설계\n",
        "x=Dense(3136)(generator_input)\n",
        "x=BatchNormalization(momentum=batch_norm)(x)\n",
        "x=Activation('relu')(x)\n",
        "x=Reshape((7,7,64))(x)\n",
        "x=UpSampling2D()(x)\n",
        "x=Conv2D(128,(5,5),padding='same')(x)\n",
        "x=BatchNormalization(momentum=batch_norm)(x)\n",
        "x=Activation('relu')(x)\n",
        "x=UpSampling2D()(x)\n",
        "x=Conv2D(64,(5,5),padding='same')(x)\n",
        "x=BatchNormalization(momentum=batch_norm)(x)\n",
        "x=Activation('relu')(x)\n",
        "x=Conv2D(64,(5,5),padding='same')(x)\n",
        "x=BatchNormalization(momentum=batch_norm)(x)\n",
        "x=Activation('relu')(x)\n",
        "x=Conv2D(1,(5,5),activation='tanh',padding='same')(x)\n",
        "generator_output=x\n",
        "generator=Model(generator_input,generator_output)\n",
        "\n",
        "discriminator.compile(optimizer='Adam',loss='binary_crossentropy',metrics=['accuracy'])\n",
        "\n",
        "discriminator.trainable=False\n",
        "gan_input=Input(shape=(zdim,))\n",
        "gan_output=discriminator(generator(gan_input))\n",
        "gan=Model(gan_input,gan_output)\n",
        "gan.compile(optimizer='Adam',loss='binary_crossentropy',metrics=['accuracy'])\n",
        "\n",
        "def train_discriminator(x_train):\n",
        "    c=np.random.randint(0,x_train.shape[0],batch_siz)\n",
        "    real=x_train[c]\n",
        "    discriminator.train_on_batch(real,np.ones((batch_siz,1)))\n",
        "\n",
        "    p=np.random.normal(0,1,(batch_siz,zdim))\n",
        "    fake=generator.predict(p)\n",
        "    discriminator.train_on_batch(fake,np.zeros((batch_siz,1)))\n",
        "\n",
        "def train_generator():\n",
        "    p=np.random.normal(0,1,(batch_siz,zdim))\n",
        "    gan.train_on_batch(p,np.ones((batch_siz,1)))\n",
        "\n",
        "for i in range(epochs+1): # 학습을 수행\n",
        "    train_discriminator(x_train)\n",
        "    train_generator()\n",
        "    if(i%100==0): # 학습 도중 100세대마다 중간 상황 출력\n",
        "        plt.figure(figsize=(20, 4))\n",
        "        plt.suptitle('epoch '+str(i))\n",
        "        for k in range(20):\n",
        "            plt.subplot(2,10,k+1)\n",
        "            img=generator.predict(np.random.normal(0,1,(1,zdim)))\n",
        "            plt.imshow(img[0].reshape(28,28),cmap='gray')\n",
        "            plt.xticks([]); plt.yticks([])\n",
        "        plt.show()\n",
        "\n",
        "imgs=generator.predict(np.random.normal(0,1,(50,zdim)))\n",
        "plt.figure(figsize=(20,10)) # 학습을 마친 후 50개 샘플을 생성하여 출력\n",
        "for i in range(50):\n",
        "    plt.subplot(5,10,i+1)\n",
        "    plt.imshow(imgs[i].reshape(28,28),cmap='gray')\n",
        "    plt.xticks([]); plt.yticks([])"
      ],
      "metadata": {
        "id": "v_-nNo1dyPqX"
      },
      "execution_count": null,
      "outputs": []
    },
    {
      "cell_type": "markdown",
      "source": [
        "###생성된 패턴의 품질 평가"
      ],
      "metadata": {
        "id": "56FnCZqUyr0_"
      }
    },
    {
      "cell_type": "code",
      "source": [
        "# 훈련 집합 x_train에서 img와 가장 가까운 영상을 찾아주는 함수\n",
        "def most_similar(img,x_train):\n",
        "    vmin=1.0e10\n",
        "    for i in range(len(x_train)):\n",
        "        dist=np.mean(np.abs(img-x_train[i]))\n",
        "        if dist<vmin:\n",
        "            imin,vmin=i,dist\n",
        "        return x_train[imin]\n",
        "\n",
        "# 50개의 영상에 대해 가장 가까운 영상을 찾아 보여줌\n",
        "plt.figure(figsize=(20,10))\n",
        "for k in range(50):\n",
        "    plt.subplot(5,10,k+1)\n",
        "    plt.imshow(most_similar(imgs[k],x_train).reshape(28,28),cmap='gray')\n",
        "    plt.xticks([]); plt.yticks([])\n",
        "plt.show()"
      ],
      "metadata": {
        "id": "-ySbM9mOys5v"
      },
      "execution_count": null,
      "outputs": []
    }
  ]
}