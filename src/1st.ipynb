{
  "nbformat": 4,
  "nbformat_minor": 0,
  "metadata": {
    "colab": {
      "name": "1st.ipynb",
      "provenance": [],
      "collapsed_sections": []
    },
    "kernelspec": {
      "name": "python3",
      "display_name": "Python 3"
    },
    "language_info": {
      "name": "python"
    }
  },
  "cells": [
    {
      "cell_type": "markdown",
      "source": [
        "#기존 접근 방식과 머신 러닝 접근 방식 비교"
      ],
      "metadata": {
        "id": "VIMCVFjnvtEo"
      }
    },
    {
      "cell_type": "code",
      "execution_count": null,
      "metadata": {
        "colab": {
          "base_uri": "https://localhost:8080/"
        },
        "id": "wqmfswfITNn8",
        "outputId": "1a41ca8c-2f37-4e0b-a50a-479bda795f81"
      },
      "outputs": [
        {
          "output_type": "stream",
          "name": "stdout",
          "text": [
            "y: 31\n"
          ]
        }
      ],
      "source": [
        "def f (x) :\n",
        "\treturn 3*x + 1\n",
        " \n",
        "x = 10\n",
        "y = f(x)\n",
        " \n",
        "print('y:', y)"
      ]
    },
    {
      "cell_type": "code",
      "source": [
        "import tensorflow as tf\n",
        "import numpy as np\n",
        "\n",
        "xs = np.array([-1.0, 0.0, 1.0, 2.0, 3.0, 4.0])\n",
        "ys = np.array([-2.0, 1.0, 4.0, 7.0, 10., 13.])\n",
        "\n",
        "model = tf.keras.Sequential(\n",
        "    [\n",
        "     tf.keras.Input(shape=(1,)),\n",
        "     tf.keras.layers.Dense(1)\n",
        "    ]\n",
        ")\n",
        "\n",
        "model.compile(optimizer='sgd', \n",
        "              loss='mean_squared_error')\n",
        "\n",
        "model.fit(xs, ys, epochs=5)\n",
        "\n",
        "p = model.predict([10.0])\n",
        "\n",
        "print('p:', p)"
      ],
      "metadata": {
        "colab": {
          "base_uri": "https://localhost:8080/"
        },
        "id": "M-Ya_74zwO0J",
        "outputId": "830f0eb6-7981-42f6-e527-66005e90d6e0"
      },
      "execution_count": null,
      "outputs": [
        {
          "output_type": "stream",
          "name": "stdout",
          "text": [
            "Epoch 1/5\n",
            "1/1 [==============================] - 1s 550ms/step - loss: 67.8695\n",
            "Epoch 2/5\n",
            "1/1 [==============================] - 0s 9ms/step - loss: 53.3969\n",
            "Epoch 3/5\n",
            "1/1 [==============================] - 0s 8ms/step - loss: 42.0105\n",
            "Epoch 4/5\n",
            "1/1 [==============================] - 0s 8ms/step - loss: 33.0523\n",
            "Epoch 5/5\n",
            "1/1 [==============================] - 0s 5ms/step - loss: 26.0044\n",
            "p: [[12.172164]]\n"
          ]
        }
      ]
    },
    {
      "cell_type": "markdown",
      "metadata": {
        "id": "6dEoZecExyup"
      },
      "source": [
        "# 쥬피터 노트북 리눅스 명령"
      ]
    },
    {
      "cell_type": "code",
      "execution_count": null,
      "metadata": {
        "id": "lxmWmRSixyuq",
        "outputId": "a2496795-b488-4c0c-8763-2db3de3c3edd",
        "colab": {
          "base_uri": "https://localhost:8080/"
        }
      },
      "outputs": [
        {
          "output_type": "stream",
          "name": "stdout",
          "text": [
            "Ubuntu 18.04.5 LTS\n"
          ]
        }
      ],
      "source": [
        "# OS\n",
        "!cat /etc/issue.net"
      ]
    },
    {
      "cell_type": "code",
      "execution_count": null,
      "metadata": {
        "id": "6lJo7NLLxyuq",
        "outputId": "77d6fea3-3a68-4373-f589-99f8c21a7c21",
        "colab": {
          "base_uri": "https://localhost:8080/"
        }
      },
      "outputs": [
        {
          "output_type": "stream",
          "name": "stdout",
          "text": [
            "processor\t: 0\n",
            "vendor_id\t: GenuineIntel\n",
            "cpu family\t: 6\n",
            "model\t\t: 79\n",
            "model name\t: Intel(R) Xeon(R) CPU @ 2.20GHz\n",
            "stepping\t: 0\n",
            "microcode\t: 0x1\n",
            "cpu MHz\t\t: 2199.998\n",
            "cache size\t: 56320 KB\n",
            "physical id\t: 0\n"
          ]
        }
      ],
      "source": [
        "# CPU 사양\n",
        "!head /proc/cpuinfo"
      ]
    },
    {
      "cell_type": "code",
      "execution_count": null,
      "metadata": {
        "id": "xsXQrgg9xyur",
        "outputId": "7759abf3-fc73-40fd-b6ee-ba80ce83634e",
        "colab": {
          "base_uri": "https://localhost:8080/"
        }
      },
      "outputs": [
        {
          "output_type": "stream",
          "name": "stdout",
          "text": [
            "MemTotal:       13298580 kB\n",
            "MemFree:        10723028 kB\n",
            "MemAvailable:   12456240 kB\n"
          ]
        }
      ],
      "source": [
        "# 메모리 사양\n",
        "!head -n 3 /proc/meminfo"
      ]
    },
    {
      "cell_type": "code",
      "execution_count": null,
      "metadata": {
        "scrolled": true,
        "id": "gBEX5kvbxyur",
        "outputId": "f7901209-11e2-4426-8d7c-9a160edd4cfd",
        "colab": {
          "base_uri": "https://localhost:8080/"
        }
      },
      "outputs": [
        {
          "output_type": "stream",
          "name": "stdout",
          "text": [
            "Filesystem      Size  Used Avail Use% Mounted on\n",
            "overlay         108G   39G   70G  36% /\n",
            "tmpfs            64M     0   64M   0% /dev\n",
            "shm             5.8G     0  5.8G   0% /dev/shm\n",
            "/dev/root       2.0G  1.2G  812M  59% /sbin/docker-init\n",
            "tmpfs           6.4G   36K  6.4G   1% /var/colab\n",
            "/dev/sda1        81G   43G   39G  53% /etc/hosts\n",
            "tmpfs           6.4G     0  6.4G   0% /proc/acpi\n",
            "tmpfs           6.4G     0  6.4G   0% /proc/scsi\n",
            "tmpfs           6.4G     0  6.4G   0% /sys/firmware\n"
          ]
        }
      ],
      "source": [
        "# 디스크 사양\n",
        "!df -h"
      ]
    },
    {
      "cell_type": "code",
      "execution_count": null,
      "metadata": {
        "id": "5wqGGBxgxyus",
        "outputId": "726f3a4d-fd4f-4344-f8e0-4cbf6564ed9a",
        "colab": {
          "base_uri": "https://localhost:8080/"
        }
      },
      "outputs": [
        {
          "output_type": "stream",
          "name": "stdout",
          "text": [
            "Python 3.7.13\n"
          ]
        }
      ],
      "source": [
        "!python --version"
      ]
    },
    {
      "cell_type": "code",
      "source": [
        "import tensorflow as tf\n",
        "\n",
        "print(tf.__version__)"
      ],
      "metadata": {
        "colab": {
          "base_uri": "https://localhost:8080/"
        },
        "id": "th9f_cz-zjbJ",
        "outputId": "5c73ff70-3838-4024-b842-bdd05d02c77f"
      },
      "execution_count": null,
      "outputs": [
        {
          "output_type": "stream",
          "name": "stdout",
          "text": [
            "2.8.2\n"
          ]
        }
      ]
    },
    {
      "cell_type": "code",
      "execution_count": null,
      "metadata": {
        "id": "qreyzPwxxyut",
        "outputId": "8876e8fa-0fb0-4da5-e08b-27138ec02833",
        "colab": {
          "base_uri": "https://localhost:8080/"
        }
      },
      "outputs": [
        {
          "output_type": "stream",
          "name": "stdout",
          "text": [
            "Cloning into 'bigStudy'...\n",
            "remote: Enumerating objects: 122, done.\u001b[K\n",
            "remote: Counting objects: 100% (41/41), done.\u001b[K\n",
            "remote: Compressing objects: 100% (41/41), done.\u001b[K\n",
            "remote: Total 122 (delta 10), reused 0 (delta 0), pack-reused 81\u001b[K\n",
            "Receiving objects: 100% (122/122), 25.23 MiB | 26.52 MiB/s, done.\n",
            "Resolving deltas: 100% (26/26), done.\n"
          ]
        }
      ],
      "source": [
        "!git clone https://github.com/looker2zip/bigStudy"
      ]
    },
    {
      "cell_type": "markdown",
      "source": [
        "#파이썬 기초"
      ],
      "metadata": {
        "id": "20EGkFLrBwmW"
      }
    },
    {
      "cell_type": "markdown",
      "source": [
        "##파이썬 코드 작성과 실행"
      ],
      "metadata": {
        "id": "JRXLkJBxgrrZ"
      }
    },
    {
      "cell_type": "code",
      "execution_count": null,
      "metadata": {
        "colab": {
          "base_uri": "https://localhost:8080/"
        },
        "id": "LeWw6ur03BD7",
        "outputId": "8ffa08f2-305e-429c-ae0e-f5e0d8768a1d"
      },
      "outputs": [
        {
          "output_type": "execute_result",
          "data": {
            "text/plain": [
              "9"
            ]
          },
          "metadata": {},
          "execution_count": 9
        }
      ],
      "source": [
        "4 + 5"
      ]
    },
    {
      "cell_type": "code",
      "source": [
        "print(\"I'm excited to learn Python.\")"
      ],
      "metadata": {
        "colab": {
          "base_uri": "https://localhost:8080/"
        },
        "id": "NsZWW_kc3FeY",
        "outputId": "44b6e332-cf9b-4c3b-dbf7-80b92321ab9f"
      },
      "execution_count": null,
      "outputs": [
        {
          "output_type": "stream",
          "name": "stdout",
          "text": [
            "I'm excited to learn Python.\n"
          ]
        }
      ]
    },
    {
      "cell_type": "code",
      "source": [
        "#!/usr/bin/env python3\n",
        "print(\"Output #1: I'm excited to learn Python.\")"
      ],
      "metadata": {
        "colab": {
          "base_uri": "https://localhost:8080/"
        },
        "id": "GcOYWY_RaMrP",
        "outputId": "fbf63ded-bdd8-4595-b2f5-2242575352a5"
      },
      "execution_count": null,
      "outputs": [
        {
          "output_type": "stream",
          "name": "stdout",
          "text": [
            "Output #1: I'm excited to learn Python.\n"
          ]
        }
      ]
    },
    {
      "cell_type": "code",
      "source": [
        "x=4\n",
        "y=5\n",
        "z=x+y\n",
        "print(\"Output #2: Four plus five equals {0:d}.\".format(z))"
      ],
      "metadata": {
        "colab": {
          "base_uri": "https://localhost:8080/"
        },
        "id": "2-pGh3FO3W2w",
        "outputId": "e2916e72-2f78-40f3-8ee3-a2d36fd9b166"
      },
      "execution_count": null,
      "outputs": [
        {
          "output_type": "stream",
          "name": "stdout",
          "text": [
            "Output #2: Four plus five equals 9.\n"
          ]
        }
      ]
    },
    {
      "cell_type": "code",
      "source": [
        "a = [1, 2, 3, 4]\n",
        "b = [\"first\", \"second\", \"third\", \"fourth\"]\n",
        "c=a+b\n",
        "print(\"Output #3: {0}, {1}, {2}\".format(a, b, c))"
      ],
      "metadata": {
        "colab": {
          "base_uri": "https://localhost:8080/"
        },
        "id": "A9ellb2z3W6O",
        "outputId": "34b5a3ef-c71f-4e4d-bb36-c488be8d74e6"
      },
      "execution_count": null,
      "outputs": [
        {
          "output_type": "stream",
          "name": "stdout",
          "text": [
            "Output #3: [1, 2, 3, 4], ['first', 'second', 'third', 'fourth'], [1, 2, 3, 4, 'first', 'second', 'third', 'fourth']\n"
          ]
        }
      ]
    },
    {
      "cell_type": "code",
      "source": [
        "print(\"Output #3: \",a,\", \",b,\", \",c)"
      ],
      "metadata": {
        "colab": {
          "base_uri": "https://localhost:8080/"
        },
        "id": "TNDzUmAueUK5",
        "outputId": "b1f2b97f-4594-454a-ca59-0e3a21dcff61"
      },
      "execution_count": null,
      "outputs": [
        {
          "output_type": "stream",
          "name": "stdout",
          "text": [
            "Output #3:  [1, 2, 3, 4] ,  ['first', 'second', 'third', 'fourth'] ,  [1, 2, 3, 4, 'first', 'second', 'third', 'fourth']\n"
          ]
        }
      ]
    },
    {
      "cell_type": "markdown",
      "source": [
        "##파이썬 기본 구성 요소"
      ],
      "metadata": {
        "id": "JXdyfW1d5I3N"
      }
    },
    {
      "cell_type": "markdown",
      "source": [
        "###숫자"
      ],
      "metadata": {
        "id": "wPh9I9Kxg2BQ"
      }
    },
    {
      "cell_type": "code",
      "source": [
        "x=9\n",
        "print(\"Output #4: {0}\".format(x))\n",
        "print(\"Output #5: {0}\".format(3**4))\n",
        "print(\"Output #6: {0}\".format(int(8.3)/int(2.7)))"
      ],
      "metadata": {
        "colab": {
          "base_uri": "https://localhost:8080/"
        },
        "id": "aELv3Ke95NTv",
        "outputId": "1846fbd5-e153-429b-b2a7-2fac0782f4dd"
      },
      "execution_count": null,
      "outputs": [
        {
          "output_type": "stream",
          "name": "stdout",
          "text": [
            "Output #4: 9\n",
            "Output #5: 81\n",
            "Output #6: 4.0\n"
          ]
        }
      ]
    },
    {
      "cell_type": "code",
      "source": [
        "print(\"Output #7: {0:.3f}\".format(8.3/2.7))\n",
        "y = 2.5*4.8\n",
        "print(\"Output #8: {0:.1f}\".format(y))\n",
        "r = 8/float(3)\n",
        "print(\"Output #9: {0:.2f}\".format(r))\n",
        "print(\"Output #10: {0:.4f}\".format(8.0/3))"
      ],
      "metadata": {
        "colab": {
          "base_uri": "https://localhost:8080/"
        },
        "id": "DKd75lk35WpO",
        "outputId": "4e360e42-0b00-4e56-b405-a20acaf0e199"
      },
      "execution_count": null,
      "outputs": [
        {
          "output_type": "stream",
          "name": "stdout",
          "text": [
            "Output #7: 3.074\n",
            "Output #8: 12.0\n",
            "Output #9: 2.67\n",
            "Output #10: 2.6667\n"
          ]
        }
      ]
    },
    {
      "cell_type": "markdown",
      "source": [
        "###문자열"
      ],
      "metadata": {
        "id": "XYgbOnmvloBS"
      }
    },
    {
      "cell_type": "code",
      "source": [
        "print(\"Output #14: {0:s}\".format('I\\'m enjoying learning Python.'))\n",
        "print(\"Output #15: {0:s}\".format(\"This is a long string. Without the backslash\"\\\n",
        "+ \"it would run off of the page on the right in the text editor and be very\"\\\n",
        "+ \"difficult to read and edit. By using the backslash you can split the long\"\\\n",
        "+ \"string into smaller strings on separate lines so that the whole string is easy\"\\\n",
        "+ \"to view in the text editor.\"))\n",
        "print(\"Output #16: {0:s}\".format('''You can use triple single quotes for \n",
        "multi-line comment strings.'''))\n",
        "print(\"Output #17: {0:s}\".format(\"\"\"You can also use triple double quotes \n",
        "for multi-line comment strings.\"\"\"))"
      ],
      "metadata": {
        "colab": {
          "base_uri": "https://localhost:8080/"
        },
        "id": "U4bmPVajlqKj",
        "outputId": "a4b7668b-543b-4be5-edc4-aad1defbae7c"
      },
      "execution_count": null,
      "outputs": [
        {
          "output_type": "stream",
          "name": "stdout",
          "text": [
            "Output #14: I'm enjoying learning Python.\n",
            "Output #15: This is a long string. Without the backslashit would run off of the page on the right in the text editor and be verydifficult to read and edit. By using the backslash you can split the longstring into smaller strings on separate lines so that the whole string is easyto view in the text editor.\n",
            "Output #16: You can use triple single quotes for \n",
            "multi-line comment strings.\n",
            "Output #17: You can also use triple double quotes \n",
            "for multi-line comment strings.\n"
          ]
        }
      ]
    },
    {
      "cell_type": "code",
      "source": [
        "string1 = \"This is a \"\n",
        "string2 = \"short string.\"\n",
        "sentence = string1 + string2\n",
        "print(\"Output #18: {0:s}\".format(sentence))\n",
        "print(\"Output #19: {0:s} {1:s}{2:s}\".format(\"She is\", \"very \"*4, \"beautiful.\"))\n",
        "m = len(sentence)\n",
        "print(\"Output #20: {0:d}\".format(m))"
      ],
      "metadata": {
        "colab": {
          "base_uri": "https://localhost:8080/"
        },
        "id": "JISmbLFKpxB8",
        "outputId": "0cc0d8f8-de32-49ba-c08c-075c60062e31"
      },
      "execution_count": null,
      "outputs": [
        {
          "output_type": "stream",
          "name": "stdout",
          "text": [
            "Output #18: This is a short string.\n",
            "Output #19: She is very very very very beautiful.\n",
            "Output #20: 23\n"
          ]
        }
      ]
    },
    {
      "cell_type": "markdown",
      "source": [
        "###문자열 함수"
      ],
      "metadata": {
        "id": "J3vgefxtrIHc"
      }
    },
    {
      "cell_type": "markdown",
      "source": [
        "####split"
      ],
      "metadata": {
        "id": "ElP_E7XmrKJz"
      }
    },
    {
      "cell_type": "code",
      "source": [
        "string1 = \"My deliverable is due in May\"\n",
        "string1_list1 = string1.split()\n",
        "string1_list2 = string1.split(\" \",2)\n",
        "print(\"Output #21: {0}\".format(string1_list1))\n",
        "print(\"Output #22: FIRST PIECE:{0} SECOND PIECE:{1} THIRD PIECE:{2}\".format(string1_list2[0], string1_list2[1], string1_list2[2]))\n",
        "\n",
        "string2 = \"Your,deliverable,is,due,in,June\"\n",
        "string2_list = string2.split(',')\n",
        "print(\"Output #23: {0}\".format(string2_list))\n",
        "print(\"Output #24: {0} {1} {2}\".format(string2_list[1], string2_list[5], string2_list[-1]))"
      ],
      "metadata": {
        "colab": {
          "base_uri": "https://localhost:8080/"
        },
        "id": "3lMx-XterLhb",
        "outputId": "6f515a16-6d29-4997-8219-aa3f0f750719"
      },
      "execution_count": null,
      "outputs": [
        {
          "output_type": "stream",
          "name": "stdout",
          "text": [
            "Output #21: ['My', 'deliverable', 'is', 'due', 'in', 'May']\n",
            "Output #22: FIRST PIECE:My SECOND PIECE:deliverable THIRD PIECE:is due in May\n",
            "Output #23: ['Your', 'deliverable', 'is', 'due', 'in', 'June']\n",
            "Output #24: deliverable June June\n"
          ]
        }
      ]
    },
    {
      "cell_type": "markdown",
      "source": [
        "####join"
      ],
      "metadata": {
        "id": "q64ywS9J0GMf"
      }
    },
    {
      "cell_type": "code",
      "source": [
        "print(\"Output #25: {0}\".format(','.join(string2_list)))"
      ],
      "metadata": {
        "colab": {
          "base_uri": "https://localhost:8080/"
        },
        "id": "ZlP6swhK0IqF",
        "outputId": "48a4347f-8fe0-4dc9-834c-2e7c96e5abaa"
      },
      "execution_count": null,
      "outputs": [
        {
          "output_type": "stream",
          "name": "stdout",
          "text": [
            "Output #25: Your,deliverable,is,due,in,June\n"
          ]
        }
      ]
    },
    {
      "cell_type": "markdown",
      "source": [
        "####strip"
      ],
      "metadata": {
        "id": "kodjLxZ91XUm"
      }
    },
    {
      "cell_type": "code",
      "source": [
        "string3 = \" Remove  unwanted characters   from this string.\\t\\t   \\n\"\n",
        "print(\"Output #26: string3: {0:s}\".format(string3))\n",
        "string3_lstrip = string3.lstrip()\n",
        "print(\"Output #27: lstrip: {0:s}\".format(string3_lstrip))\n",
        "string3_rstrip = string3.rstrip()\n",
        "print(\"Output #28: rstrip: {0:s}\".format(string3_rstrip))\n",
        "string3_strip = string3.strip()\n",
        "print(\"Output #29: strip: {0:s}\".format(string3_strip))"
      ],
      "metadata": {
        "colab": {
          "base_uri": "https://localhost:8080/"
        },
        "id": "H8cohB4H1Yev",
        "outputId": "34ba54de-b110-448d-a5b8-b550db9a786c"
      },
      "execution_count": null,
      "outputs": [
        {
          "output_type": "stream",
          "name": "stdout",
          "text": [
            "Output #26: string3:  Remove  unwanted characters   from this string.\t\t   \n",
            "\n",
            "Output #27: lstrip: Remove  unwanted characters   from this string.\t\t   \n",
            "\n",
            "Output #28: rstrip:  Remove  unwanted characters   from this string.\n",
            "Output #29: strip: Remove  unwanted characters   from this string.\n"
          ]
        }
      ]
    },
    {
      "cell_type": "code",
      "source": [
        "string4 = \"$$Here's another string that has unwanted characters.__---++\"\n",
        "print(\"Output #30: {0:s}\".format(string4))\n",
        "string4 = \"$$The unwanted characters have been removed.__---++\"\n",
        "string4_strip = string4.strip('$_-+')\n",
        "print(\"Output #31: {0:s}\".format(string4_strip))"
      ],
      "metadata": {
        "colab": {
          "base_uri": "https://localhost:8080/"
        },
        "id": "surhuye82jKo",
        "outputId": "513d7c02-9e2c-4bc2-ddf1-5d7ae43c0cec"
      },
      "execution_count": null,
      "outputs": [
        {
          "output_type": "stream",
          "name": "stdout",
          "text": [
            "Output #30: $$Here's another string that has unwanted characters.__---++\n",
            "Output #31: The unwanted characters have been removed.\n"
          ]
        }
      ]
    },
    {
      "cell_type": "markdown",
      "source": [
        "####replace"
      ],
      "metadata": {
        "id": "fyD9uRCsNIte"
      }
    },
    {
      "cell_type": "code",
      "source": [
        "string5 = \"Let's replace the spaces in this sentence with other characters.\"\n",
        "string5_replace = string5.replace(\" \", \"!@!\")\n",
        "print(\"Output #32 (with !@!): {0:s}\".format(string5_replace))\n",
        "string5_replace = string5.replace(\" \", \",\")\n",
        "print(\"Output #33 (with commas): {0:s}\".format(string5_replace))"
      ],
      "metadata": {
        "colab": {
          "base_uri": "https://localhost:8080/"
        },
        "id": "_9MNbxU1NHFP",
        "outputId": "b6f60b20-19b7-4cc4-cee6-4cb348641cb0"
      },
      "execution_count": null,
      "outputs": [
        {
          "output_type": "stream",
          "name": "stdout",
          "text": [
            "Output #32 (with !@!): Let's!@!replace!@!the!@!spaces!@!in!@!this!@!sentence!@!with!@!other!@!characters.\n",
            "Output #33 (with commas): Let's,replace,the,spaces,in,this,sentence,with,other,characters.\n"
          ]
        }
      ]
    },
    {
      "cell_type": "markdown",
      "source": [
        "####lower, upper, capitalize"
      ],
      "metadata": {
        "id": "PVLNOp-AOIiA"
      }
    },
    {
      "cell_type": "code",
      "source": [
        "string6 = \"Here's WHAT Happens WHEN You Use lower.\"\n",
        "print(\"Output #34: {0:s}\".format(string6.lower()))\n",
        "string7 = \"Here's what Happens when You Use UPPER.\"\n",
        "print(\"Output #35: {0:s}\".format(string7.upper()))\n",
        "string8 = \"here's WHAT Happens WHEN you use Capitalize.\"\n",
        "print(\"Output #36: {0:s}\".format(string8.capitalize()))\n",
        "string8_list = string8.split()\n",
        "print(\"Output #37 (on each word):\")\n",
        "for word in string8_list:\n",
        "  print(\"{0:s}\".format(word.capitalize()))"
      ],
      "metadata": {
        "colab": {
          "base_uri": "https://localhost:8080/"
        },
        "id": "96ERxdqGOJoP",
        "outputId": "36529237-2ac7-4f25-a3f1-80c6b19cb179"
      },
      "execution_count": null,
      "outputs": [
        {
          "output_type": "stream",
          "name": "stdout",
          "text": [
            "Output #34: here's what happens when you use lower.\n",
            "Output #35: HERE'S WHAT HAPPENS WHEN YOU USE UPPER.\n",
            "Output #36: Here's what happens when you use capitalize.\n",
            "Output #37 (on each word):\n",
            "Here's\n",
            "What\n",
            "Happens\n",
            "When\n",
            "You\n",
            "Use\n",
            "Capitalize.\n"
          ]
        }
      ]
    },
    {
      "cell_type": "markdown",
      "source": [
        "###정규식"
      ],
      "metadata": {
        "id": "iLFi1QIgQ5op"
      }
    },
    {
      "cell_type": "code",
      "source": [
        "#!/usr/bin/env python3\n",
        "from math import exp, log, sqrt \n",
        "import re"
      ],
      "metadata": {
        "id": "YtkWH5kvQ9Qo"
      },
      "execution_count": null,
      "outputs": []
    },
    {
      "cell_type": "markdown",
      "source": [
        "#####문자열 내 등장하는 패턴의 횟수 세기"
      ],
      "metadata": {
        "id": "XCw3-ND1R9Dg"
      }
    },
    {
      "cell_type": "code",
      "source": [
        "string = \"The quick brown fox jumps over the lazy dog.\"\n",
        "string_list = string.split()\n",
        "pattern = re.compile(r\"The\", re.I)\n",
        "count = 0\n",
        "for word in string_list:\n",
        "  if pattern.search(word):\n",
        "    count += 1\n",
        "print(\"Output #38: {0:d}\".format(count))"
      ],
      "metadata": {
        "colab": {
          "base_uri": "https://localhost:8080/"
        },
        "id": "F9aAo7T3SIyQ",
        "outputId": "5fb74d9b-d38a-42e3-d595-dac91fe39c1d"
      },
      "execution_count": null,
      "outputs": [
        {
          "output_type": "stream",
          "name": "stdout",
          "text": [
            "Output #38: 2\n"
          ]
        }
      ]
    },
    {
      "cell_type": "markdown",
      "source": [
        "#### 문자열 내에서 발견된 패턴  출력하기"
      ],
      "metadata": {
        "id": "D2hX8nLU38o8"
      }
    },
    {
      "cell_type": "code",
      "source": [
        "string = \"The quick brown fox jumps over the lazy dog.\"\n",
        "string_list = string.split()\n",
        "pattern = re.compile(r\"(?P<match_word>The)\", re.I)\n",
        "print(\"Output #39:\")\n",
        "for word in string_list:\n",
        "  if pattern.search(word):\n",
        "    print(\"{:s}\".format(pattern.search(word).group('match_word')))"
      ],
      "metadata": {
        "colab": {
          "base_uri": "https://localhost:8080/"
        },
        "id": "rhNH9iHe4A6R",
        "outputId": "8163c504-fd77-43db-9bf0-fd4c001ec8c2"
      },
      "execution_count": null,
      "outputs": [
        {
          "output_type": "stream",
          "name": "stdout",
          "text": [
            "Output #39:\n",
            "The\n",
            "the\n"
          ]
        }
      ]
    },
    {
      "cell_type": "markdown",
      "source": [
        "###Dates"
      ],
      "metadata": {
        "id": "B05QmjjxPsPQ"
      }
    },
    {
      "cell_type": "code",
      "source": [
        "#!/usr/bin/env python3\n",
        "from math import exp, log, sqrt\n",
        "import re\n",
        "from datetime import date, time, datetime, timedelta"
      ],
      "metadata": {
        "id": "JzuYd_rMPvb3"
      },
      "execution_count": null,
      "outputs": []
    },
    {
      "cell_type": "markdown",
      "source": [
        "####date 객체와  datetime 객체 간 차이\n",
        "'\n",
        "오늘 날짜와 년, 월, 일 요소 출력\n",
        "'"
      ],
      "metadata": {
        "id": "p9I4AiT5QZoM"
      }
    },
    {
      "cell_type": "code",
      "source": [
        "today = date.today()\n",
        "print(\"Output #41: today: {0!s}\".format(today))\n",
        "print(\"Output #42: {0!s}\".format(today.year))\n",
        "print(\"Output #43: {0!s}\".format(today.month))\n",
        "print(\"Output #44: {0!s}\".format(today.day))\n",
        "current_datetime = datetime.today()\n",
        "print(\"Output #45: {0!s}\".format(current_datetime))"
      ],
      "metadata": {
        "colab": {
          "base_uri": "https://localhost:8080/"
        },
        "id": "v0EGqF2BQa37",
        "outputId": "8236416b-6ab0-4a60-8016-d7238189ea2a"
      },
      "execution_count": null,
      "outputs": [
        {
          "output_type": "stream",
          "name": "stdout",
          "text": [
            "Output #41: today: 2022-06-16\n",
            "Output #42: 2022\n",
            "Output #43: 6\n",
            "Output #44: 16\n",
            "Output #45: 2022-06-16 08:21:01.984063\n"
          ]
        }
      ]
    },
    {
      "cell_type": "markdown",
      "source": [
        "####timedelta 함수를 사용하여 날짜 객체에 특정 시간을 더하거나 빼는 방법"
      ],
      "metadata": {
        "id": "kwP9leneU7gM"
      }
    },
    {
      "cell_type": "code",
      "source": [
        "one_day = timedelta(days=-1)\n",
        "yesterday = today + one_day\n",
        "print(\"Output #46: yesterday: {0!s}\".format(yesterday))\n",
        "eight_hours = timedelta(hours=-8)\n",
        "print(\"Output #47: {0!s} {1!s}\".format(eight_hours.days, eight_hours.seconds))"
      ],
      "metadata": {
        "colab": {
          "base_uri": "https://localhost:8080/"
        },
        "id": "Cp-2y7r6U9Iq",
        "outputId": "b3d90d19-1a99-4540-d6ec-29408f9fccae"
      },
      "execution_count": null,
      "outputs": [
        {
          "output_type": "stream",
          "name": "stdout",
          "text": [
            "Output #46: yesterday: 2022-06-15\n",
            "Output #47: -1 57600\n"
          ]
        }
      ]
    },
    {
      "cell_type": "markdown",
      "source": [
        "####strftime 함수를 사용하여 날짜 개체에서 특정 형식의 문자열"
      ],
      "metadata": {
        "id": "nrh4BuizXV0c"
      }
    },
    {
      "cell_type": "code",
      "source": [
        "print(\"Output #50: {:s}\".format(today.strftime('%m/%d/%Y')))\n",
        "print(\"Output #51: {:s}\".format(today.strftime('%b %d, %Y')))\n",
        "print(\"Output #52: {:s}\".format(today.strftime('%Y-%m-%d')))\n",
        "print(\"Output #53: {:s}\".format(today.strftime('%B %d, %Y')))"
      ],
      "metadata": {
        "colab": {
          "base_uri": "https://localhost:8080/"
        },
        "id": "QzvV6lNbXW-b",
        "outputId": "eeca947f-5fdc-42b1-ca17-1ce6a87e47d9"
      },
      "execution_count": null,
      "outputs": [
        {
          "output_type": "stream",
          "name": "stdout",
          "text": [
            "Output #50: 06/16/2022\n",
            "Output #51: Jun 16, 2022\n",
            "Output #52: 2022-06-16\n",
            "Output #53: June 16, 2022\n"
          ]
        }
      ]
    },
    {
      "cell_type": "code",
      "source": [
        "# 날짜를 나타내는 문자열에서 # 특정 형식의 datetime 객체 생성\n",
        "date1 = today.strftime('%m/%d/%Y')\n",
        "date2 = today.strftime('%b %d, %Y')\n",
        "date3 = today.strftime('%Y-%m-%d')\n",
        "date4 = today.strftime('%B %d, %Y')\n",
        "# 두 개의 datetime 객체와 두 개의 날짜 객체\n",
        "# 날짜 형식이 다른 4개의 문자열 기반\n",
        "print(\"Output #54: {!s}\".format(datetime.strptime(date1, '%m/%d/%Y')))\n",
        "print(\"Output #55: {!s}\".format(datetime.strptime(date2, '%b %d, %Y')))\n",
        "# 날짜 부분만 표시\n",
        "print(\"Output #56: {!s}\".format(datetime.date(datetime.strptime(date3, '%Y-%m-%d'))))\n",
        "print(\"Output #57: {!s}\".format(datetime.date(datetime.strptime(date4, '%B %d, %Y'))))"
      ],
      "metadata": {
        "colab": {
          "base_uri": "https://localhost:8080/"
        },
        "id": "vANM-5cMX7bK",
        "outputId": "1ea0afa1-fb86-4dc1-a325-b8f162378b11"
      },
      "execution_count": null,
      "outputs": [
        {
          "output_type": "stream",
          "name": "stdout",
          "text": [
            "Output #54: 2022-06-16 00:00:00\n",
            "Output #55: 2022-06-16 00:00:00\n",
            "Output #56: 2022-06-16\n",
            "Output #57: 2022-06-16\n"
          ]
        }
      ]
    },
    {
      "cell_type": "markdown",
      "source": [
        "###list"
      ],
      "metadata": {
        "id": "o5K1UbuR07cn"
      }
    },
    {
      "cell_type": "code",
      "source": [
        "a_list = [1, 2, 3]\n",
        "print(\"Output #58: {}\".format(a_list))\n",
        "print(\"Output #59: a_list has {} elements.\".format(len(a_list)))\n",
        "print(\"Output #60: the maximum value in a_list is {}.\".format(max(a_list)))\n",
        "print(\"Output #61: the minimum value in a_list is {}.\".format(min(a_list)))\n",
        "another_list = ['printer', 5, ['star', 'circle', 9]]\n",
        "print(\"Output #62: {}\".format(another_list))\n",
        "print(\"Output #63: another_list also has {} elements.\".format(len(another_list)))\n",
        "print(\"Output #64: 5 is in another_list {} time.\".format(another_list.count(5)))"
      ],
      "metadata": {
        "colab": {
          "base_uri": "https://localhost:8080/"
        },
        "id": "AJtoIlw308de",
        "outputId": "e015d135-c086-4267-a906-0a8c93f79395"
      },
      "execution_count": null,
      "outputs": [
        {
          "output_type": "stream",
          "name": "stdout",
          "text": [
            "Output #58: [1, 2, 3]\n",
            "Output #59: a_list has 3 elements.\n",
            "Output #60: the maximum value in a_list is 3.\n",
            "Output #61: the minimum value in a_list is 1.\n",
            "Output #62: ['printer', 5, ['star', 'circle', 9]]\n",
            "Output #63: another_list also has 3 elements.\n",
            "Output #64: 5 is in another_list 1 time.\n"
          ]
        }
      ]
    },
    {
      "cell_type": "markdown",
      "source": [
        "####인덱스 값을 사용하여 목록의 특정 요소에 액세스 "
      ],
      "metadata": {
        "id": "OgJRsEGg17yu"
      }
    },
    {
      "cell_type": "code",
      "source": [
        "print(\"Output #65: {}\".format(a_list[0]))\n",
        "print(\"Output #66: {}\".format(a_list[1]))\n",
        "print(\"Output #67: {}\".format(a_list[2]))\n",
        "print(\"Output #68: {}\".format(a_list[-1]))\n",
        "print(\"Output #69: {}\".format(a_list[-2]))\n",
        "print(\"Output #70: {}\".format(a_list[-3]))\n",
        "print(\"Output #71: {}\".format(another_list[2]))\n",
        "print(\"Output #72: {}\".format(another_list[-1]))"
      ],
      "metadata": {
        "colab": {
          "base_uri": "https://localhost:8080/"
        },
        "id": "JodY7GLm1-1t",
        "outputId": "6a0c1a1e-2220-4536-a4f9-216368fb982f"
      },
      "execution_count": null,
      "outputs": [
        {
          "output_type": "stream",
          "name": "stdout",
          "text": [
            "Output #65: 1\n",
            "Output #66: 2\n",
            "Output #67: 3\n",
            "Output #68: 3\n",
            "Output #69: 2\n",
            "Output #70: 1\n",
            "Output #71: ['star', 'circle', 9]\n",
            "Output #72: ['star', 'circle', 9]\n"
          ]
        }
      ]
    },
    {
      "cell_type": "markdown",
      "source": [
        "####List slices"
      ],
      "metadata": {
        "id": "bUcBbAoa2tIF"
      }
    },
    {
      "cell_type": "code",
      "source": [
        "print(\"Output #73: {}\".format(a_list[0:2]))\n",
        "print(\"Output #74: {}\".format(another_list[:2]))\n",
        "print(\"Output #75: {}\".format(a_list[1:3]))\n",
        "print(\"Output #76: {}\".format(another_list[1:]))"
      ],
      "metadata": {
        "colab": {
          "base_uri": "https://localhost:8080/"
        },
        "id": "idVVgkUu2wKl",
        "outputId": "42b65188-87bd-43bf-8361-b87a897d7774"
      },
      "execution_count": null,
      "outputs": [
        {
          "output_type": "stream",
          "name": "stdout",
          "text": [
            "Output #73: [1, 2]\n",
            "Output #74: ['printer', 5]\n",
            "Output #75: [2, 3]\n",
            "Output #76: [5, ['star', 'circle', 9]]\n"
          ]
        }
      ]
    },
    {
      "cell_type": "markdown",
      "source": [
        "####[:] 사용하여 list 복사"
      ],
      "metadata": {
        "id": "VAY833U24LJm"
      }
    },
    {
      "cell_type": "code",
      "source": [
        "a_new_list = a_list[:]\n",
        "print(\"Output #77: {}\".format(a_new_list))"
      ],
      "metadata": {
        "colab": {
          "base_uri": "https://localhost:8080/"
        },
        "id": "9lQeWs9G4Mfs",
        "outputId": "e58127e8-18cd-4f6d-87ed-3696386f6a6e"
      },
      "execution_count": null,
      "outputs": [
        {
          "output_type": "stream",
          "name": "stdout",
          "text": [
            "Output #77: [1, 2, 3]\n"
          ]
        }
      ]
    },
    {
      "cell_type": "markdown",
      "source": [
        "####+를 사용하여 두 개 이상의 목록을 함께 추가"
      ],
      "metadata": {
        "id": "z6Jb_hTz434r"
      }
    },
    {
      "cell_type": "code",
      "source": [
        "a_longer_list = a_list + another_list\n",
        "print(\"Output #78: {}\".format(a_longer_list))"
      ],
      "metadata": {
        "colab": {
          "base_uri": "https://localhost:8080/"
        },
        "id": "QewPjsR9441E",
        "outputId": "d33436ae-f06e-4c87-aee8-57b72783424b"
      },
      "execution_count": null,
      "outputs": [
        {
          "output_type": "stream",
          "name": "stdout",
          "text": [
            "Output #78: [1, 2, 3, 'printer', 5, ['star', 'circle', 9]]\n"
          ]
        }
      ]
    },
    {
      "cell_type": "markdown",
      "source": [
        "####특정 요소가 목록에 있는지 여부를 확인하려면 in 및 not in을 사용"
      ],
      "metadata": {
        "id": "9M_bZ2qZ5r9i"
      }
    },
    {
      "cell_type": "code",
      "source": [
        "a = 2 in a_list\n",
        "print(\"Output #79: {}\".format(a))\n",
        "if 2 in a_list:\n",
        "  print(\"Output #80: 2 is in {}.\".format(a_list))\n",
        "b = 6 not in a_list\n",
        "print(\"Output #81: {}\".format(b))\n",
        "if 6 not in a_list:\n",
        "  print(\"Output #82: 6 is not in {}.\".format(a_list))"
      ],
      "metadata": {
        "colab": {
          "base_uri": "https://localhost:8080/"
        },
        "id": "rmP-xH0v5tPF",
        "outputId": "d903a3c9-f0fd-40ec-867d-a35d9f9ebd7f"
      },
      "execution_count": null,
      "outputs": [
        {
          "output_type": "stream",
          "name": "stdout",
          "text": [
            "Output #79: True\n",
            "Output #80: 2 is in [1, 2, 3].\n",
            "Output #81: True\n",
            "Output #82: 6 is not in [1, 2, 3].\n"
          ]
        }
      ]
    },
    {
      "cell_type": "markdown",
      "source": [
        "####append, remove, pop"
      ],
      "metadata": {
        "id": "_3cpPbXG6Qc7"
      }
    },
    {
      "cell_type": "code",
      "source": [
        "a_list.append(4)\n",
        "a_list.append(5)\n",
        "a_list.append(6)\n",
        "print(\"Output #83: {}\".format(a_list))\n",
        "a_list.remove(5)\n",
        "print(\"Output #84: {}\".format(a_list))\n",
        "a_list.pop()\n",
        "a_list.pop()\n",
        "print(\"Output #85: {}\".format(a_list))"
      ],
      "metadata": {
        "colab": {
          "base_uri": "https://localhost:8080/"
        },
        "id": "8Pt6eifF6RpT",
        "outputId": "7c0784e5-89d3-4375-f7be-eae66155d91c"
      },
      "execution_count": null,
      "outputs": [
        {
          "output_type": "stream",
          "name": "stdout",
          "text": [
            "Output #83: [1, 2, 3, 4, 5, 6]\n",
            "Output #84: [1, 2, 3, 4, 6]\n",
            "Output #85: [1, 2, 3]\n"
          ]
        }
      ]
    },
    {
      "cell_type": "markdown",
      "source": [
        "####reverse"
      ],
      "metadata": {
        "id": "hrLXyfXK68Hu"
      }
    },
    {
      "cell_type": "code",
      "source": [
        "a_list.reverse()\n",
        "print(\"Output #86: {}\".format(a_list))\n",
        "a_list.reverse()\n",
        "print(\"Output #87: {}\".format(a_list))"
      ],
      "metadata": {
        "colab": {
          "base_uri": "https://localhost:8080/"
        },
        "id": "47nUYQ5_69Lj",
        "outputId": "6d0052cd-258e-41aa-fc7b-c88b7bc7b5d7"
      },
      "execution_count": null,
      "outputs": [
        {
          "output_type": "stream",
          "name": "stdout",
          "text": [
            "Output #86: [3, 2, 1]\n",
            "Output #87: [1, 2, 3]\n"
          ]
        }
      ]
    },
    {
      "cell_type": "markdown",
      "source": [
        "####sort"
      ],
      "metadata": {
        "id": "1TwmTxOm7dSr"
      }
    },
    {
      "cell_type": "code",
      "source": [
        "unordered_list = [3, 5, 1, 7, 2, 8, 4, 9, 0, 6]\n",
        "print(\"Output #88: {}\".format(unordered_list))\n",
        "list_copy = unordered_list[:]\n",
        "list_copy.sort()\n",
        "print(\"Output #89: {}\".format(list_copy))\n",
        "print(\"Output #90: {}\".format(unordered_list))"
      ],
      "metadata": {
        "colab": {
          "base_uri": "https://localhost:8080/"
        },
        "id": "dOC63Kl17eXb",
        "outputId": "245f2cc6-6f20-4389-becf-6c32d7119758"
      },
      "execution_count": null,
      "outputs": [
        {
          "output_type": "stream",
          "name": "stdout",
          "text": [
            "Output #88: [3, 5, 1, 7, 2, 8, 4, 9, 0, 6]\n",
            "Output #89: [0, 1, 2, 3, 4, 5, 6, 7, 8, 9]\n",
            "Output #90: [3, 5, 1, 7, 2, 8, 4, 9, 0, 6]\n"
          ]
        }
      ]
    },
    {
      "cell_type": "markdown",
      "source": [
        "###Tuples"
      ],
      "metadata": {
        "id": "YVECZDfv8e3C"
      }
    },
    {
      "cell_type": "code",
      "source": [
        "my_tuple = ('x', 'y', 'z')\n",
        "print(\"Output #93: {}\".format(my_tuple))\n",
        "print(\"Output #94: my_tuple has {} elements\".format(len(my_tuple)))\n",
        "print(\"Output #95: {}\".format(my_tuple[1]))\n",
        "longer_tuple = my_tuple + my_tuple\n",
        "print(\"Output #96: {}\".format(longer_tuple))"
      ],
      "metadata": {
        "colab": {
          "base_uri": "https://localhost:8080/"
        },
        "id": "aCwUTSzx8f_S",
        "outputId": "d3ea4f93-8d91-4134-ac44-333aa44e757d"
      },
      "execution_count": null,
      "outputs": [
        {
          "output_type": "stream",
          "name": "stdout",
          "text": [
            "Output #93: ('x', 'y', 'z')\n",
            "Output #94: my_tuple has 3 elements\n",
            "Output #95: y\n",
            "Output #96: ('x', 'y', 'z', 'x', 'y', 'z')\n"
          ]
        }
      ]
    },
    {
      "cell_type": "markdown",
      "source": [
        "####Unpack tuples"
      ],
      "metadata": {
        "id": "pAsAd7HN9AeC"
      }
    },
    {
      "cell_type": "code",
      "source": [
        "one, two, three = my_tuple\n",
        "print(\"Output #97: {0} {1} {2}\".format(one, two, three))\n",
        "var1 = 'red'\n",
        "var2 = 'robin'\n",
        "print(\"Output #98: {} {}\".format(var1, var2))\n",
        "# 변수 var1, var2 = var2, var1 간의 값 교환\n",
        "var1, var2 = var2, var1\n",
        "print(\"Output #99: {} {}\".format(var1, var2))"
      ],
      "metadata": {
        "colab": {
          "base_uri": "https://localhost:8080/"
        },
        "id": "Wqi0JG_q9Bti",
        "outputId": "13fec212-5219-49fc-d80e-68d102cbb230"
      },
      "execution_count": null,
      "outputs": [
        {
          "output_type": "stream",
          "name": "stdout",
          "text": [
            "Output #97: x y z\n",
            "Output #98: red robin\n",
            "Output #99: robin red\n"
          ]
        }
      ]
    },
    {
      "cell_type": "markdown",
      "source": [
        "####튜플을 목록으로 변환(또는 그 반대로)"
      ],
      "metadata": {
        "id": "gEd9cTtu98zz"
      }
    },
    {
      "cell_type": "code",
      "source": [
        "my_list = [1, 2, 3]\n",
        "my_tuple = ('x', 'y', 'z')\n",
        "print(\"Output #100: {}\".format(tuple(my_list)))\n",
        "print(\"Output #101: {}\".format(list(my_tuple)))"
      ],
      "metadata": {
        "colab": {
          "base_uri": "https://localhost:8080/"
        },
        "id": "fnz5SjlR991S",
        "outputId": "9cbe5257-5cca-4991-83ad-5f2f5d63982d"
      },
      "execution_count": null,
      "outputs": [
        {
          "output_type": "stream",
          "name": "stdout",
          "text": [
            "Output #100: (1, 2, 3)\n",
            "Output #101: ['x', 'y', 'z']\n"
          ]
        }
      ]
    },
    {
      "cell_type": "markdown",
      "source": [
        "###Dictionaries"
      ],
      "metadata": {
        "id": "5vQEZGySQOwz"
      }
    },
    {
      "cell_type": "markdown",
      "source": [
        "####dictionary 생성"
      ],
      "metadata": {
        "id": "d8h9a9efQQC9"
      }
    },
    {
      "cell_type": "code",
      "source": [
        "empty_dict = { }\n",
        "a_dict = {'one':1, 'two':2, 'three':3}\n",
        "print(\"Output #102: {}\".format(a_dict))\n",
        "print(\"Output #103: a_dict has {!s} elements\".format(len(a_dict)))\n",
        "another_dict = {'x':'printer', 'y':5, 'z':['star', 'circle', 9]}\n",
        "print(\"Output #104: {}\".format(another_dict))\n",
        "print(\"Output #105: another_dict also has {!s} elements\".format(len(another_dict)))"
      ],
      "metadata": {
        "colab": {
          "base_uri": "https://localhost:8080/"
        },
        "id": "z1qiX63-Q0t7",
        "outputId": "9dd34010-02ed-45e1-9f37-c84553adb886"
      },
      "execution_count": null,
      "outputs": [
        {
          "output_type": "stream",
          "name": "stdout",
          "text": [
            "Output #102: {'one': 1, 'two': 2, 'three': 3}\n",
            "Output #103: a_dict has 3 elements\n",
            "Output #104: {'x': 'printer', 'y': 5, 'z': ['star', 'circle', 9]}\n",
            "Output #105: another_dict also has 3 elements\n"
          ]
        }
      ]
    },
    {
      "cell_type": "markdown",
      "source": [
        "####Dictionarie-dictionary 내 값 접근\n"
      ],
      "metadata": {
        "id": "PYx5zKKjRfuj"
      }
    },
    {
      "cell_type": "code",
      "source": [
        "print(\"Output #106: {}\".format(a_dict['two']))\n",
        "print(\"Output #107: {}\".format(another_dict['z']))"
      ],
      "metadata": {
        "colab": {
          "base_uri": "https://localhost:8080/"
        },
        "id": "9W9650aERiqx",
        "outputId": "377ac9e9-874d-466e-d98d-1ba7cde5669c"
      },
      "execution_count": null,
      "outputs": [
        {
          "output_type": "stream",
          "name": "stdout",
          "text": [
            "Output #106: 2\n",
            "Output #107: ['star', 'circle', 9]\n"
          ]
        }
      ]
    },
    {
      "cell_type": "markdown",
      "source": [
        "####copy"
      ],
      "metadata": {
        "id": "PrWpLOd2SR9q"
      }
    },
    {
      "cell_type": "code",
      "source": [
        "a_new_dict = a_dict.copy()\n",
        "print(\"Output #108: {}\".format(a_new_dict))"
      ],
      "metadata": {
        "colab": {
          "base_uri": "https://localhost:8080/"
        },
        "id": "V36uau7oSS9J",
        "outputId": "0140a311-7edc-4c45-919d-d55aceeec0cd"
      },
      "execution_count": null,
      "outputs": [
        {
          "output_type": "stream",
          "name": "stdout",
          "text": [
            "Output #108: {'one': 1, 'two': 2, 'three': 3}\n"
          ]
        }
      ]
    },
    {
      "cell_type": "markdown",
      "source": [
        "####keys, values, and items"
      ],
      "metadata": {
        "id": "d9lJqbKcS2Z5"
      }
    },
    {
      "cell_type": "code",
      "source": [
        "print(\"Output #109: {}\".format(a_dict.keys()))\n",
        "a_dict_keys = a_dict.keys()\n",
        "print(\"Output #110: {}\".format(a_dict_keys))\n",
        "print(\"Output #111: {}\".format(a_dict.values()))\n",
        "print(\"Output #112: {}\".format(a_dict.items()))"
      ],
      "metadata": {
        "colab": {
          "base_uri": "https://localhost:8080/"
        },
        "id": "LKdB2R8yS3rh",
        "outputId": "1a211615-c974-4eb7-931e-7f12a3fc7f84"
      },
      "execution_count": null,
      "outputs": [
        {
          "output_type": "stream",
          "name": "stdout",
          "text": [
            "Output #109: dict_keys(['one', 'two', 'three'])\n",
            "Output #110: dict_keys(['one', 'two', 'three'])\n",
            "Output #111: dict_values([1, 2, 3])\n",
            "Output #112: dict_items([('one', 1), ('two', 2), ('three', 3)])\n"
          ]
        }
      ]
    },
    {
      "cell_type": "markdown",
      "source": [
        "####in, not in, and get"
      ],
      "metadata": {
        "id": "Iw5PD7RJTnhL"
      }
    },
    {
      "cell_type": "code",
      "source": [
        "if 'y' in another_dict:\n",
        "  print(\"Output #114: y is a key in another_dict: {}.\".format(another_dict.keys()))\n",
        "if 'c' not in another_dict:\n",
        "  print(\"Output #115: c is not a key in another_dict: {}.\".format(another_dict.keys()))\n",
        "print(\"Output #116: {!s}\".format(a_dict.get('three')))\n",
        "print(\"Output #117: {!s}\".format(a_dict.get('four')))\n",
        "print(\"Output #118: {!s}\".format(a_dict.get('four', 'Not in dict')))"
      ],
      "metadata": {
        "colab": {
          "base_uri": "https://localhost:8080/"
        },
        "id": "YN2dhwkrTpGK",
        "outputId": "50dd455a-68a7-43fd-8e00-7b91dcbebe13"
      },
      "execution_count": null,
      "outputs": [
        {
          "output_type": "stream",
          "name": "stdout",
          "text": [
            "Output #114: y is a key in another_dict: dict_keys(['x', 'y', 'z']).\n",
            "Output #115: c is not a key in another_dict: dict_keys(['x', 'y', 'z']).\n",
            "Output #116: 3\n",
            "Output #117: None\n",
            "Output #118: Not in dict\n"
          ]
        }
      ]
    },
    {
      "cell_type": "markdown",
      "source": [
        "###Control Flow"
      ],
      "metadata": {
        "id": "NwlUti4OV-5h"
      }
    },
    {
      "cell_type": "markdown",
      "source": [
        "####if-else"
      ],
      "metadata": {
        "id": "B6x9d45KWKba"
      }
    },
    {
      "cell_type": "code",
      "source": [
        "x=5\n",
        "if x > 4 or x != 9:\n",
        "  print(\"Output #124: {}\".format(x)) \n",
        "else:\n",
        "  print(\"Output #124: x is not greater than 4\")"
      ],
      "metadata": {
        "colab": {
          "base_uri": "https://localhost:8080/"
        },
        "id": "9nB-SSCAWLg3",
        "outputId": "fd78a2d9-b0c7-4a6d-eabe-29aaee7837d0"
      },
      "execution_count": null,
      "outputs": [
        {
          "output_type": "stream",
          "name": "stdout",
          "text": [
            "Output #124: 5\n"
          ]
        }
      ]
    },
    {
      "cell_type": "markdown",
      "source": [
        "####if-elif-else"
      ],
      "metadata": {
        "id": "RlnHxXBbW7qQ"
      }
    },
    {
      "cell_type": "code",
      "source": [
        "if x > 6:\n",
        "  print(\"Output #125: x is greater than six\")\n",
        "elif x > 4 and x == 5:\n",
        "  print(\"Output #125: {}\".format(x*x))\n",
        "else:\n",
        "  print(\"Output #125: x is not greater than 4\")"
      ],
      "metadata": {
        "colab": {
          "base_uri": "https://localhost:8080/"
        },
        "id": "QIDRLnPTW9B4",
        "outputId": "8198c43b-ffc1-4403-9606-215732e548d6"
      },
      "execution_count": null,
      "outputs": [
        {
          "output_type": "stream",
          "name": "stdout",
          "text": [
            "Output #125: x is greater than six\n"
          ]
        }
      ]
    },
    {
      "cell_type": "markdown",
      "source": [
        "####Quizzes"
      ],
      "metadata": {
        "id": "KRg5CaGVEL5_"
      }
    },
    {
      "cell_type": "code",
      "source": [
        "# 숫자 맞추기 연습\n",
        "\n",
        "print(\"숫자게임에 오신 것을 환영합니다.\")\n",
        "number = 62\n",
        "s = input(\"1부터 100 사이의 숫자를 추측해보세요: \")\n",
        "guess = int(s)\n",
        "if guess == number:\n",
        "    print(\"맞았습니다.\")\n",
        "else:\n",
        "    print(\"틀렸습니다.\")\n",
        "print(\"게임이 종료되었습니다.\")"
      ],
      "metadata": {
        "colab": {
          "base_uri": "https://localhost:8080/"
        },
        "id": "_ec9bI8-DzVp",
        "outputId": "55b71f02-d029-44a7-93ce-dfe408297e99"
      },
      "execution_count": null,
      "outputs": [
        {
          "output_type": "stream",
          "name": "stdout",
          "text": [
            "숫자게임에 오신 것을 환영합니다.\n",
            "1부터 100 사이의 숫자를 추측해보세요: 62\n",
            "맞았습니다.\n",
            "게임이 종료되었습니다.\n"
          ]
        }
      ]
    },
    {
      "cell_type": "markdown",
      "source": [
        "####for loops"
      ],
      "metadata": {
        "id": "UWdrVmtEXrEX"
      }
    },
    {
      "cell_type": "code",
      "source": [
        "y = ['Jan', 'Feb', 'Mar', 'Apr', 'May', 'Jun', 'Jul', 'Aug', 'Sep', 'Oct', 'Nov', 'Dec']\n",
        "z = ['Annie', 'Betty', 'Claire', 'Daphne', 'Ellie', 'Franchesca', 'Greta', 'Holly', 'Isabel', 'Jenny']\n",
        "print(\"Output #126:\")\n",
        "for month in y:\n",
        "  print(\"{!s}\".format(month))\n",
        "print(\"Output #127: (index value: name in list)\")\n",
        "for i in range(len(z)):\n",
        "  print(\"{0!s}: {1:s}\".format(i, z[i]))\n",
        "print(\"Output #128: (access elements in y with z's index values)\")\n",
        "for j in range(len(z)):\n",
        "  if y[j].startswith('J'):\n",
        "    print(\"{!s}\".format(y[j]))\n",
        "print(\"Output #129:\")\n",
        "for key, value in another_dict.items():\n",
        "  print(\"{0:s}, {1}\".format(key, value))"
      ],
      "metadata": {
        "colab": {
          "base_uri": "https://localhost:8080/"
        },
        "id": "uRbvSRw_XsU-",
        "outputId": "b9536ba7-ce30-47d4-dd44-0ae9919957af"
      },
      "execution_count": null,
      "outputs": [
        {
          "output_type": "stream",
          "name": "stdout",
          "text": [
            "Output #126:\n",
            "Jan\n",
            "Feb\n",
            "Mar\n",
            "Apr\n",
            "May\n",
            "Jun\n",
            "Jul\n",
            "Aug\n",
            "Sep\n",
            "Oct\n",
            "Nov\n",
            "Dec\n",
            "Output #127: (index value: name in list)\n",
            "0: Annie\n",
            "1: Betty\n",
            "2: Claire\n",
            "3: Daphne\n",
            "4: Ellie\n",
            "5: Franchesca\n",
            "6: Greta\n",
            "7: Holly\n",
            "8: Isabel\n",
            "9: Jenny\n",
            "Output #128: (access elements in y with z's index values)\n",
            "Jan\n",
            "Jun\n",
            "Jul\n",
            "Output #129:\n",
            "x, printer\n",
            "y, 5\n",
            "z, ['star', 'circle', 9]\n"
          ]
        }
      ]
    },
    {
      "cell_type": "markdown",
      "source": [
        "###while loops"
      ],
      "metadata": {
        "id": "e3V3r8OyZKjB"
      }
    },
    {
      "cell_type": "code",
      "source": [
        "print(\"Output #134:\")\n",
        "x=0\n",
        "while x < 11:\n",
        "  print(\"{!s}\".format(x))\n",
        "  x += 1"
      ],
      "metadata": {
        "colab": {
          "base_uri": "https://localhost:8080/"
        },
        "id": "d_x3q30BZLsR",
        "outputId": "00f3470c-ef22-4295-f910-088eb8274750"
      },
      "execution_count": null,
      "outputs": [
        {
          "output_type": "stream",
          "name": "stdout",
          "text": [
            "Output #134:\n",
            "0\n",
            "1\n",
            "2\n",
            "3\n",
            "4\n",
            "5\n",
            "6\n",
            "7\n",
            "8\n",
            "9\n",
            "10\n"
          ]
        }
      ]
    },
    {
      "cell_type": "code",
      "source": [
        "import random\n",
        "\n",
        "tries = 0\n",
        "number = random.randint(1, 100)\n",
        "\n",
        "print(\"1부터 100 사이의 숫자를 맞추시오\")\n",
        "\n",
        "while tries < 10:\n",
        "    guess = int(input(\"숫자를 입력하시오: \"))\n",
        "    tries = tries + 1\n",
        "    if guess < number:\n",
        "        print(\"낮음!\")\n",
        "    elif guess > number:\n",
        "        print(\"높음!\")\n",
        "    else:\n",
        "        break\n",
        "\n",
        "if guess == number:\n",
        "     print(\"축하합니다. 시도횟수=\", tries)\n",
        "else:\n",
        "     print(\"정답은 \", number)"
      ],
      "metadata": {
        "colab": {
          "base_uri": "https://localhost:8080/"
        },
        "id": "YE9QD9zxHG2A",
        "outputId": "9883a102-733c-4c97-9d3e-84087366d5d9"
      },
      "execution_count": null,
      "outputs": [
        {
          "output_type": "stream",
          "name": "stdout",
          "text": [
            "1부터 100 사이의 숫자를 맞추시오\n",
            "숫자를 입력하시오: 65\n",
            "높음!\n",
            "숫자를 입력하시오: 50\n",
            "높음!\n",
            "숫자를 입력하시오: 40\n",
            "높음!\n",
            "숫자를 입력하시오: 30\n",
            "높음!\n",
            "숫자를 입력하시오: 20\n",
            "높음!\n",
            "숫자를 입력하시오: 10\n",
            "축하합니다. 시도횟수= 6\n"
          ]
        }
      ]
    },
    {
      "cell_type": "markdown",
      "source": [
        "####try-except"
      ],
      "metadata": {
        "id": "tDwSpnoNz4Qa"
      }
    },
    {
      "cell_type": "code",
      "source": [
        "def getMean(numericValues):\n",
        "  return sum(numericValues)/len(numericValues)\n",
        "  \n",
        "my_list2 = [ ]\n",
        "\n",
        "try:\n",
        "  print(\"Output #138: {}\".format(getMean(my_list2)))\n",
        "except ZeroDivisionError as detail:\n",
        "  print(\"Output #138 (Error): {}\".format(float('nan')))\n",
        "  print(\"Output #138 (Error): {}\".format(detail))"
      ],
      "metadata": {
        "colab": {
          "base_uri": "https://localhost:8080/"
        },
        "outputId": "46e44807-9b2e-4b45-b407-5ad85003c4c9",
        "id": "RZ00KrjGz4Qn"
      },
      "execution_count": null,
      "outputs": [
        {
          "output_type": "stream",
          "name": "stdout",
          "text": [
            "Output #138 (Error): nan\n",
            "Output #138 (Error): division by zero\n"
          ]
        }
      ]
    },
    {
      "cell_type": "markdown",
      "metadata": {
        "id": "LcjfesJZ_tpz"
      },
      "source": [
        "# 파이썬 함수"
      ]
    },
    {
      "cell_type": "markdown",
      "source": [
        "##숫자 값 시퀀스의 평균 계산"
      ],
      "metadata": {
        "id": "4F-Qwv-nac5v"
      }
    },
    {
      "cell_type": "code",
      "source": [
        "def getMean(numericValues):\n",
        "  return sum(numericValues)/len(numericValues) if len(numericValues) > 0 else float('nan')\n",
        "my_list = [2, 2, 4, 4, 6, 6, 8, 8]\n",
        "print(\"Output #135 (mean): {!s}\".format(getMean(my_list)))"
      ],
      "metadata": {
        "colab": {
          "base_uri": "https://localhost:8080/"
        },
        "id": "UrhpOQataV-Q",
        "outputId": "fbb03291-ecbe-4402-bda2-ffe070a6574f"
      },
      "execution_count": null,
      "outputs": [
        {
          "output_type": "stream",
          "name": "stdout",
          "text": [
            "Output #135 (mean): 5.0\n"
          ]
        }
      ]
    },
    {
      "cell_type": "code",
      "source": [
        "import numpy as np\n",
        "print(\"Output #136 (mean):{!s}\".format(np.mean(my_list)))"
      ],
      "metadata": {
        "colab": {
          "base_uri": "https://localhost:8080/"
        },
        "id": "c9FELRbwbMlY",
        "outputId": "5d6775fb-5568-4fd9-a6ec-8927252aae68"
      },
      "execution_count": null,
      "outputs": [
        {
          "output_type": "stream",
          "name": "stdout",
          "text": [
            "Output #136 (mean):5.0\n"
          ]
        }
      ]
    },
    {
      "cell_type": "markdown",
      "metadata": {
        "id": "BY0o-buE_1Wx"
      },
      "source": [
        "## 파이썬 함수 종류"
      ]
    },
    {
      "cell_type": "code",
      "metadata": {
        "id": "5AFuYemF_xI5"
      },
      "source": [
        "def Sum1(a,b):\n",
        "  return a*b"
      ],
      "execution_count": null,
      "outputs": []
    },
    {
      "cell_type": "code",
      "metadata": {
        "colab": {
          "base_uri": "https://localhost:8080/"
        },
        "id": "XVDL7LRr_9-Y",
        "outputId": "5a9f04da-620c-4928-b300-001fbf7faaa2"
      },
      "source": [
        "Sum1(10,10)"
      ],
      "execution_count": null,
      "outputs": [
        {
          "output_type": "execute_result",
          "data": {
            "text/plain": [
              "100"
            ]
          },
          "metadata": {},
          "execution_count": 56
        }
      ]
    },
    {
      "cell_type": "code",
      "metadata": {
        "id": "V0I0m3pBAApp"
      },
      "source": [
        "Sum2=lambda a,b:a+b"
      ],
      "execution_count": null,
      "outputs": []
    },
    {
      "cell_type": "code",
      "metadata": {
        "colab": {
          "base_uri": "https://localhost:8080/"
        },
        "id": "TnNra9a5AEep",
        "outputId": "d1546804-3e25-479e-cf79-bf0499f041ef"
      },
      "source": [
        "Sum2(3,4)"
      ],
      "execution_count": null,
      "outputs": [
        {
          "output_type": "execute_result",
          "data": {
            "text/plain": [
              "7"
            ]
          },
          "metadata": {},
          "execution_count": 58
        }
      ]
    },
    {
      "cell_type": "markdown",
      "metadata": {
        "id": "gpq24K3DAPma"
      },
      "source": [
        "##입력이 여러 개인 함수"
      ]
    },
    {
      "cell_type": "code",
      "metadata": {
        "id": "mizOZOnPAQGj"
      },
      "source": [
        "def add(x, y):\n",
        "    return x + y"
      ],
      "execution_count": null,
      "outputs": []
    },
    {
      "cell_type": "code",
      "metadata": {
        "colab": {
          "base_uri": "https://localhost:8080/"
        },
        "id": "y1sXfScwAR6L",
        "outputId": "22922083-f6a7-499c-e7e8-e785f631d814"
      },
      "source": [
        "add(1, 2)"
      ],
      "execution_count": null,
      "outputs": [
        {
          "output_type": "execute_result",
          "data": {
            "text/plain": [
              "3"
            ]
          },
          "metadata": {},
          "execution_count": 60
        }
      ]
    },
    {
      "cell_type": "code",
      "metadata": {
        "id": "mezjF1urASwZ"
      },
      "source": [
        "def sum(a, b, c):\n",
        "    s = a + b + c\n",
        "    return s"
      ],
      "execution_count": null,
      "outputs": []
    },
    {
      "cell_type": "code",
      "metadata": {
        "colab": {
          "base_uri": "https://localhost:8080/"
        },
        "id": "WP1zTKeHAT3C",
        "outputId": "ac1667ef-01a7-49ee-abc0-ce873817156c"
      },
      "source": [
        "sum(1, 2, 3)"
      ],
      "execution_count": null,
      "outputs": [
        {
          "output_type": "execute_result",
          "data": {
            "text/plain": [
              "6"
            ]
          },
          "metadata": {},
          "execution_count": 62
        }
      ]
    },
    {
      "cell_type": "markdown",
      "metadata": {
        "id": "iublHAy1AonJ"
      },
      "source": [
        "### 지역 변수"
      ]
    },
    {
      "cell_type": "code",
      "metadata": {
        "colab": {
          "base_uri": "https://localhost:8080/"
        },
        "id": "aVBLaR8ZA7zw",
        "outputId": "5b69c755-2404-43ff-9699-e186dc6bdf48"
      },
      "source": [
        "def sub():\n",
        "\ts = \"바나나가 좋음!\"\n",
        "\tprint(s)\n",
        "\n",
        "sub()"
      ],
      "execution_count": null,
      "outputs": [
        {
          "output_type": "stream",
          "name": "stdout",
          "text": [
            "바나나가 좋음!\n"
          ]
        }
      ]
    },
    {
      "cell_type": "markdown",
      "metadata": {
        "id": "tOLsUEKgBAtZ"
      },
      "source": [
        "전역 변수"
      ]
    },
    {
      "cell_type": "code",
      "metadata": {
        "colab": {
          "base_uri": "https://localhost:8080/"
        },
        "id": "GQ2I6pHCAqvh",
        "outputId": "1d3e7264-b17a-4c62-83f9-cca09467cac6"
      },
      "source": [
        "def sub():\n",
        "\tprint(s)\n",
        "\n",
        "s = \"사과가 좋음!\"\n",
        "sub()"
      ],
      "execution_count": null,
      "outputs": [
        {
          "output_type": "stream",
          "name": "stdout",
          "text": [
            "사과가 좋음!\n"
          ]
        }
      ]
    },
    {
      "cell_type": "markdown",
      "metadata": {
        "id": "qEFVOMOSFOn4"
      },
      "source": [
        "지역변수와 전역변수"
      ]
    },
    {
      "cell_type": "code",
      "metadata": {
        "colab": {
          "base_uri": "https://localhost:8080/"
        },
        "id": "vVskCwQ5FLFK",
        "outputId": "c9fdef15-1944-416c-fc07-4a25550aab91"
      },
      "source": [
        "def sub():\n",
        "\ts = \"바나나가 좋음!\"\n",
        "\tprint(s)\n",
        "\n",
        "s = \"사과가 좋음!\"\n",
        "sub()\n",
        "print(s)"
      ],
      "execution_count": null,
      "outputs": [
        {
          "output_type": "stream",
          "name": "stdout",
          "text": [
            "바나나가 좋음!\n",
            "사과가 좋음!\n"
          ]
        }
      ]
    },
    {
      "cell_type": "markdown",
      "metadata": {
        "id": "wMx8r3uCF-Wp"
      },
      "source": [
        "## 값에 의한 호출"
      ]
    },
    {
      "cell_type": "code",
      "metadata": {
        "colab": {
          "base_uri": "https://localhost:8080/"
        },
        "id": "LMt5vDKvF_v4",
        "outputId": "05264b86-895d-4989-f519-2674873a3f25"
      },
      "source": [
        "def modify1(s):\n",
        "\ts += \"To You\"\n",
        "\n",
        "msg = \"Happy Birthday\"\n",
        "print(\"msg=\", msg)\n",
        "modify1(msg)\n",
        "print(\"msg=\", msg)"
      ],
      "execution_count": null,
      "outputs": [
        {
          "output_type": "stream",
          "name": "stdout",
          "text": [
            "msg= Happy Birthday\n",
            "msg= Happy Birthday\n"
          ]
        }
      ]
    },
    {
      "cell_type": "markdown",
      "metadata": {
        "id": "xjZ0gcI5GFpB"
      },
      "source": [
        "## 참조에 의한 호출"
      ]
    },
    {
      "cell_type": "code",
      "metadata": {
        "colab": {
          "base_uri": "https://localhost:8080/"
        },
        "id": "vFXTSrPSGIfZ",
        "outputId": "1c09b8d1-aeb8-4ee2-8754-93d8858ea65e"
      },
      "source": [
        "def modify2(li):\n",
        "    li += [100, 200]\n",
        "\n",
        "list = [1, 2, 3, 4, 5]\n",
        "print(list)\n",
        "modify2(list)\n",
        "print(list)"
      ],
      "execution_count": null,
      "outputs": [
        {
          "output_type": "stream",
          "name": "stdout",
          "text": [
            "[1, 2, 3, 4, 5]\n",
            "[1, 2, 3, 4, 5, 100, 200]\n"
          ]
        }
      ]
    },
    {
      "cell_type": "markdown",
      "metadata": {
        "id": "GUVRO-d8BGIy"
      },
      "source": [
        "## Quiz"
      ]
    },
    {
      "cell_type": "code",
      "metadata": {
        "id": "H_GfAOc0BHui"
      },
      "source": [
        "class FourCal:\n",
        "\tdef setdata(self, first, second):\n",
        "\t\tself.first = first\n",
        "\t\tself.second = second\n",
        "\tdef add(self):\n",
        "\t\tresult = self.first + self.second\n",
        "\t\treturn result\n",
        "\tdef mul(self):\n",
        "\t\tresult = self.first * self.second\n",
        "\t\treturn result\n",
        "\tdef sub(self):\n",
        "\t\tresult = self.first - self.second\n",
        "\t\treturn result\n",
        "\tdef div(self):\n",
        "\t\tresult = self.first / self.second\n",
        "\t\treturn result"
      ],
      "execution_count": null,
      "outputs": []
    },
    {
      "cell_type": "code",
      "metadata": {
        "id": "SCt5VHw7BKAl"
      },
      "source": [
        "a = FourCal()\n",
        "b = FourCal()\n",
        "a.setdata(4, 2)\n",
        "b.setdata(3, 8)"
      ],
      "execution_count": null,
      "outputs": []
    },
    {
      "cell_type": "code",
      "metadata": {
        "colab": {
          "base_uri": "https://localhost:8080/"
        },
        "id": "pMy9E-ONBL3y",
        "outputId": "2e87537a-9695-465b-f1c7-58a3cd5930b5"
      },
      "source": [
        "print(a.add())\n",
        "print(a.mul())\n",
        "print(a.sub())\n",
        "print(a.div())\n",
        "print(b.add())\n",
        "print(b.mul())\n",
        "print(b.sub())\n",
        "print(b.div())"
      ],
      "execution_count": null,
      "outputs": [
        {
          "output_type": "stream",
          "name": "stdout",
          "text": [
            "6\n",
            "8\n",
            "2\n",
            "2.0\n",
            "11\n",
            "24\n",
            "-5\n",
            "0.375\n"
          ]
        }
      ]
    },
    {
      "cell_type": "markdown",
      "metadata": {
        "id": "Zk4uo2JvG4mp"
      },
      "source": [
        "## 함수 작성 예"
      ]
    },
    {
      "cell_type": "code",
      "metadata": {
        "colab": {
          "base_uri": "https://localhost:8080/"
        },
        "id": "14EpSHxHG7P8",
        "outputId": "4bd664a8-92e8-4d64-c0c6-2092fb205b05"
      },
      "source": [
        "50\n",
        "def readList():\n",
        "\tnlist = []\n",
        "\tflag = True;\n",
        "\twhile flag :\n",
        "\t\tnumber = int(input(\"숫자를 입력하시오: \"))\n",
        "\t\tif number < 0:\n",
        "\t\t\tflag = False\n",
        "\t\telse :\n",
        "\t\t\tnlist.append(number)\n",
        "\treturn nlist\n",
        "\n",
        "def processList(nlist):\n",
        "\tnlist.sort()\n",
        "\treturn nlist\n",
        "\n",
        "\n",
        "def printList(nlist):\n",
        "\tfor i in nlist:\n",
        "\t\tprint(\"성적=\", i)\n",
        "\n",
        "def main():\n",
        "\tnlist = readList()\n",
        "\tprocessList(nlist)\n",
        "\tprintList(nlist)\n",
        "\n",
        "if __name__ == \"__main__\":\n",
        "\tmain()"
      ],
      "execution_count": null,
      "outputs": [
        {
          "output_type": "stream",
          "name": "stdout",
          "text": [
            "숫자를 입력하시오: 20\n",
            "숫자를 입력하시오: 30\n",
            "숫자를 입력하시오: 40\n",
            "숫자를 입력하시오: -1\n",
            "성적= 20\n",
            "성적= 30\n",
            "성적= 40\n"
          ]
        }
      ]
    },
    {
      "cell_type": "markdown",
      "source": [
        "###Exceptions"
      ],
      "metadata": {
        "id": "g9wCdLQ3cGe_"
      }
    },
    {
      "cell_type": "markdown",
      "metadata": {
        "id": "xIiyn1bLeP4M"
      },
      "source": [
        "# 모듈"
      ]
    },
    {
      "cell_type": "markdown",
      "metadata": {
        "id": "lg-Tts_ceSvD"
      },
      "source": [
        "## 모듈 import"
      ]
    },
    {
      "cell_type": "code",
      "metadata": {
        "colab": {
          "base_uri": "https://localhost:8080/"
        },
        "id": "VHH2mxY-epZk",
        "outputId": "a11691f6-479c-4e8c-ed5b-f6fa970eb9b4"
      },
      "source": [
        "import math\n",
        "math.pow(2, 10)"
      ],
      "execution_count": null,
      "outputs": [
        {
          "output_type": "execute_result",
          "data": {
            "text/plain": [
              "1024.0"
            ]
          },
          "metadata": {},
          "execution_count": 72
        }
      ]
    },
    {
      "cell_type": "code",
      "metadata": {
        "colab": {
          "base_uri": "https://localhost:8080/"
        },
        "id": "cRoC1Vyze0Ii",
        "outputId": "34739c61-12cf-4b4f-e4ae-85e4dbc6efa5"
      },
      "source": [
        "math.pi"
      ],
      "execution_count": null,
      "outputs": [
        {
          "output_type": "execute_result",
          "data": {
            "text/plain": [
              "3.141592653589793"
            ]
          },
          "metadata": {},
          "execution_count": 73
        }
      ]
    },
    {
      "cell_type": "code",
      "metadata": {
        "id": "JZvi1dtqe3m6",
        "colab": {
          "base_uri": "https://localhost:8080/"
        },
        "outputId": "fd584267-746e-4c6a-e436-c4f2470ad87f"
      },
      "source": [
        "dir(math)"
      ],
      "execution_count": null,
      "outputs": [
        {
          "output_type": "execute_result",
          "data": {
            "text/plain": [
              "['__doc__',\n",
              " '__loader__',\n",
              " '__name__',\n",
              " '__package__',\n",
              " '__spec__',\n",
              " 'acos',\n",
              " 'acosh',\n",
              " 'asin',\n",
              " 'asinh',\n",
              " 'atan',\n",
              " 'atan2',\n",
              " 'atanh',\n",
              " 'ceil',\n",
              " 'copysign',\n",
              " 'cos',\n",
              " 'cosh',\n",
              " 'degrees',\n",
              " 'e',\n",
              " 'erf',\n",
              " 'erfc',\n",
              " 'exp',\n",
              " 'expm1',\n",
              " 'fabs',\n",
              " 'factorial',\n",
              " 'floor',\n",
              " 'fmod',\n",
              " 'frexp',\n",
              " 'fsum',\n",
              " 'gamma',\n",
              " 'gcd',\n",
              " 'hypot',\n",
              " 'inf',\n",
              " 'isclose',\n",
              " 'isfinite',\n",
              " 'isinf',\n",
              " 'isnan',\n",
              " 'ldexp',\n",
              " 'lgamma',\n",
              " 'log',\n",
              " 'log10',\n",
              " 'log1p',\n",
              " 'log2',\n",
              " 'modf',\n",
              " 'nan',\n",
              " 'pi',\n",
              " 'pow',\n",
              " 'radians',\n",
              " 'remainder',\n",
              " 'sin',\n",
              " 'sinh',\n",
              " 'sqrt',\n",
              " 'tan',\n",
              " 'tanh',\n",
              " 'tau',\n",
              " 'trunc']"
            ]
          },
          "metadata": {},
          "execution_count": 74
        }
      ]
    },
    {
      "cell_type": "markdown",
      "metadata": {
        "id": "IiA9105UfUI9"
      },
      "source": [
        "# 수학 모듈"
      ]
    },
    {
      "cell_type": "code",
      "metadata": {
        "colab": {
          "base_uri": "https://localhost:8080/"
        },
        "id": "NwesbbVIfWLK",
        "outputId": "cad39a18-26cd-44ed-e425-1b5a409681b5"
      },
      "source": [
        "import math\n",
        "math.floor(3.14)"
      ],
      "execution_count": null,
      "outputs": [
        {
          "output_type": "execute_result",
          "data": {
            "text/plain": [
              "3"
            ]
          },
          "metadata": {
            "tags": []
          },
          "execution_count": 15
        }
      ]
    },
    {
      "cell_type": "markdown",
      "metadata": {
        "id": "OQOMOCn_flTz"
      },
      "source": [
        "# 분수 모듈"
      ]
    },
    {
      "cell_type": "code",
      "metadata": {
        "colab": {
          "base_uri": "https://localhost:8080/"
        },
        "id": "vRzWABh2fnbT",
        "outputId": "c8ba0920-cb9e-4455-8804-7cddfe74006e"
      },
      "source": [
        "import fractions\n",
        "\n",
        "fractions.Fraction(4, 16)"
      ],
      "execution_count": null,
      "outputs": [
        {
          "output_type": "execute_result",
          "data": {
            "text/plain": [
              "Fraction(1, 4)"
            ]
          },
          "metadata": {
            "tags": []
          },
          "execution_count": 17
        }
      ]
    },
    {
      "cell_type": "code",
      "metadata": {
        "colab": {
          "base_uri": "https://localhost:8080/"
        },
        "id": "NMrihC4Af2pU",
        "outputId": "653ca82f-0b85-4014-f487-b3b3869b6764"
      },
      "source": [
        "import fractions\n",
        "\n",
        "fractions.gcd(120, 180)"
      ],
      "execution_count": null,
      "outputs": [
        {
          "output_type": "stream",
          "text": [
            "/usr/local/lib/python3.7/dist-packages/ipykernel_launcher.py:3: DeprecationWarning: fractions.gcd() is deprecated. Use math.gcd() instead.\n",
            "  This is separate from the ipykernel package so we can avoid doing imports until\n"
          ],
          "name": "stderr"
        },
        {
          "output_type": "execute_result",
          "data": {
            "text/plain": [
              "60"
            ]
          },
          "metadata": {
            "tags": []
          },
          "execution_count": 18
        }
      ]
    },
    {
      "cell_type": "markdown",
      "metadata": {
        "id": "97bNPsFngQ_l"
      },
      "source": [
        "# 랜덤 모듈"
      ]
    },
    {
      "cell_type": "code",
      "metadata": {
        "colab": {
          "base_uri": "https://localhost:8080/"
        },
        "id": "7FxSr16dgTFa",
        "outputId": "9a9f7a44-4d55-416d-a1c0-8df8fd649039"
      },
      "source": [
        "import random\n",
        "\n",
        "random.random()"
      ],
      "execution_count": null,
      "outputs": [
        {
          "output_type": "execute_result",
          "data": {
            "text/plain": [
              "0.3344190307697521"
            ]
          },
          "metadata": {
            "tags": []
          },
          "execution_count": 19
        }
      ]
    },
    {
      "cell_type": "code",
      "metadata": {
        "colab": {
          "base_uri": "https://localhost:8080/"
        },
        "id": "iu6Zgn2xgZ_j",
        "outputId": "d5b62ff8-8d34-4989-c657-92dee6c67827"
      },
      "source": [
        "random.uniform(3,4)"
      ],
      "execution_count": null,
      "outputs": [
        {
          "output_type": "execute_result",
          "data": {
            "text/plain": [
              "3.1828964007379397"
            ]
          },
          "metadata": {
            "tags": []
          },
          "execution_count": 20
        }
      ]
    },
    {
      "cell_type": "code",
      "metadata": {
        "colab": {
          "base_uri": "https://localhost:8080/"
        },
        "id": "I22kL77mgeKD",
        "outputId": "1ae78dfd-6a29-4f49-a2f8-a4756e6ea8bf"
      },
      "source": [
        "[\n",
        " random.randrange(20) for i in range(10)\n",
        "]"
      ],
      "execution_count": null,
      "outputs": [
        {
          "output_type": "execute_result",
          "data": {
            "text/plain": [
              "[14, 1, 12, 4, 13, 7, 4, 4, 8, 0]"
            ]
          },
          "metadata": {
            "tags": []
          },
          "execution_count": 21
        }
      ]
    },
    {
      "cell_type": "code",
      "metadata": {
        "colab": {
          "base_uri": "https://localhost:8080/"
        },
        "id": "36C32K7Ogl9c",
        "outputId": "bb701315-015c-40a0-f2de-73ec20bdfb48"
      },
      "source": [
        "L1=list(range(10))\n",
        "L1"
      ],
      "execution_count": null,
      "outputs": [
        {
          "output_type": "execute_result",
          "data": {
            "text/plain": [
              "[0, 1, 2, 3, 4, 5, 6, 7, 8, 9]"
            ]
          },
          "metadata": {
            "tags": []
          },
          "execution_count": 23
        }
      ]
    },
    {
      "cell_type": "markdown",
      "metadata": {
        "id": "M-EuDqLU8ual"
      },
      "source": [
        "가위 바위 보 게임"
      ]
    },
    {
      "cell_type": "code",
      "metadata": {
        "id": "eRJMkx2HgtA6",
        "colab": {
          "base_uri": "https://localhost:8080/"
        },
        "outputId": "343c8d52-6444-4600-f12c-3c83a5661071"
      },
      "source": [
        "import random;\n",
        "\n",
        "player = input(\"(가위, 바위, 보) 중에서 하나를 선택하세요: \");\n",
        "\n",
        "number = random.randint(0,2);\n",
        "if (number == 0):\n",
        "    computer = \"가위\";\n",
        "elif (number == 1):\n",
        "    computer = \"바위\";\n",
        "else:\n",
        "    computer = \"보\";\n",
        "print(\"사용자: \", player, \"컴퓨터: \", computer)\n",
        "\n",
        "if (player == computer):\n",
        "    print(\"비겼음!\");\n",
        "elif (player == \"바위\"):\n",
        "    if (computer == \"보\"):\n",
        "        print(\"컴퓨터가 이겼음!\");\n",
        "    else:\n",
        "        print(\"사용자가 이겼음!\");\n",
        "elif (player == \"보\"):\n",
        "    if (computer == \"비위\"):\n",
        "        print(\"사용자가 이겼음!\");\n",
        "    else:\n",
        "        print(\"컴퓨터가 이겼음!\");\n",
        "elif (player == \"가위\"):\n",
        "    if (computer == \"바위\"):\n",
        "        print(\"컴퓨터가 이겼음!\");\n",
        "    else:\n",
        "        print(\"사용자가 이겼음!\");"
      ],
      "execution_count": null,
      "outputs": [
        {
          "output_type": "stream",
          "text": [
            "(가위, 바위, 보) 중에서 하나를 선택하세요: 가위\n",
            "사용자:  가위 컴퓨터:  가위\n",
            "비겼음!\n"
          ],
          "name": "stdout"
        }
      ]
    },
    {
      "cell_type": "markdown",
      "metadata": {
        "id": "jEUyrreThUW8"
      },
      "source": [
        "# 타임 모듈"
      ]
    },
    {
      "cell_type": "code",
      "metadata": {
        "colab": {
          "base_uri": "https://localhost:8080/"
        },
        "id": "0Wl40tiAhWGC",
        "outputId": "86051639-46ca-4e42-8c03-98c3034e1489"
      },
      "source": [
        "import time\n",
        "\n",
        "time.time()"
      ],
      "execution_count": 1,
      "outputs": [
        {
          "output_type": "execute_result",
          "data": {
            "text/plain": [
              "1655507619.0745256"
            ]
          },
          "metadata": {},
          "execution_count": 1
        }
      ]
    },
    {
      "cell_type": "code",
      "metadata": {
        "colab": {
          "base_uri": "https://localhost:8080/"
        },
        "id": "HdZORHcBhg7T",
        "outputId": "b6c28e37-e24e-472d-cdf1-2b024d3e22ef"
      },
      "source": [
        "time.gmtime()"
      ],
      "execution_count": null,
      "outputs": [
        {
          "output_type": "execute_result",
          "data": {
            "text/plain": [
              "time.struct_time(tm_year=2021, tm_mon=2, tm_mday=24, tm_hour=14, tm_min=51, tm_sec=39, tm_wday=2, tm_yday=55, tm_isdst=0)"
            ]
          },
          "metadata": {
            "tags": []
          },
          "execution_count": 31
        }
      ]
    },
    {
      "cell_type": "code",
      "metadata": {
        "colab": {
          "base_uri": "https://localhost:8080/"
        },
        "id": "0dAbqOu0hjlb",
        "outputId": "ffaf4ab9-3e8a-497b-acd1-26dd6e198aa9"
      },
      "source": [
        "time.localtime()"
      ],
      "execution_count": 2,
      "outputs": [
        {
          "output_type": "execute_result",
          "data": {
            "text/plain": [
              "time.struct_time(tm_year=2022, tm_mon=6, tm_mday=17, tm_hour=23, tm_min=14, tm_sec=44, tm_wday=4, tm_yday=168, tm_isdst=0)"
            ]
          },
          "metadata": {},
          "execution_count": 2
        }
      ]
    },
    {
      "cell_type": "code",
      "metadata": {
        "colab": {
          "base_uri": "https://localhost:8080/"
        },
        "id": "44FPTJ2vhwk6",
        "outputId": "67c98c31-9f8b-4e85-b647-29e637b10fe3"
      },
      "source": [
        "import datetime\n",
        "\n",
        "datetime.date.today()"
      ],
      "execution_count": 3,
      "outputs": [
        {
          "output_type": "execute_result",
          "data": {
            "text/plain": [
              "datetime.date(2022, 6, 17)"
            ]
          },
          "metadata": {},
          "execution_count": 3
        }
      ]
    },
    {
      "cell_type": "code",
      "metadata": {
        "colab": {
          "base_uri": "https://localhost:8080/"
        },
        "id": "DoNQvacXh1fb",
        "outputId": "dfc4bf78-d02f-48c3-effc-cfc0c3272bd3"
      },
      "source": [
        "day=datetime.date.today()\n",
        "\n",
        "print(day.month)\n",
        "print(day.max)"
      ],
      "execution_count": 4,
      "outputs": [
        {
          "output_type": "stream",
          "name": "stdout",
          "text": [
            "6\n",
            "9999-12-31\n"
          ]
        }
      ]
    },
    {
      "cell_type": "code",
      "metadata": {
        "colab": {
          "base_uri": "https://localhost:8080/"
        },
        "id": "2aXSKKOoiCJ7",
        "outputId": "30c7e66b-c6ff-4dcb-e008-926ae7d650f4"
      },
      "source": [
        "datetime.datetime.now()"
      ],
      "execution_count": 5,
      "outputs": [
        {
          "output_type": "execute_result",
          "data": {
            "text/plain": [
              "datetime.datetime(2022, 6, 17, 23, 14, 59, 520777)"
            ]
          },
          "metadata": {},
          "execution_count": 5
        }
      ]
    },
    {
      "cell_type": "markdown",
      "metadata": {
        "id": "4enzW1sA6842"
      },
      "source": [
        "덧셈을 1억번 수행하는데 몇 초가 걸리는지 한번 체크"
      ]
    },
    {
      "cell_type": "code",
      "metadata": {
        "colab": {
          "base_uri": "https://localhost:8080/"
        },
        "id": "pensA53V609Y",
        "outputId": "a7b4eed7-d33b-4dc7-d78e-8a72bb923400"
      },
      "source": [
        "import timeit\n",
        " \n",
        "start_time = timeit.default_timer() # 시작 시간 체크\n",
        " \n",
        "sum = 0\n",
        " \n",
        "for i in range(100000000):\n",
        "    sum += i\n",
        "    \n",
        "terminate_time = timeit.default_timer() # 종료 시간 체크  \n",
        " \n",
        "print(\"%f초 걸렸습니다.\" % (terminate_time - start_time))"
      ],
      "execution_count": 6,
      "outputs": [
        {
          "output_type": "stream",
          "name": "stdout",
          "text": [
            "13.237197초 걸렸습니다.\n"
          ]
        }
      ]
    },
    {
      "cell_type": "markdown",
      "metadata": {
        "school_cell_uuid": "0ed9d8ec3ce74e0284e43e8a53117fe8",
        "id": "S7AwnqISFqQ-"
      },
      "source": [
        "# 파이썬 객체지향 프로그래밍"
      ]
    },
    {
      "cell_type": "markdown",
      "metadata": {
        "school_cell_uuid": "ddf595aca5324f219a7a71f856e322bd",
        "id": "hBGa_JZsFqRC"
      },
      "source": [
        "## 객체"
      ]
    },
    {
      "cell_type": "code",
      "metadata": {
        "school_cell_uuid": "56390e74cd9d44e98874a573b53e7af5",
        "id": "bvp-zXBRFqRF",
        "outputId": "c546e3e0-d669-41a5-ca9f-6a951d21d0ab",
        "colab": {
          "base_uri": "https://localhost:8080/"
        }
      },
      "source": [
        "h = 10\n",
        "v = 20\n",
        "\n",
        "\n",
        "def area(h, v):\n",
        "    return h * v\n",
        "\n",
        "\n",
        "a = area(h, v)\n",
        "print(a)"
      ],
      "execution_count": 7,
      "outputs": [
        {
          "output_type": "stream",
          "name": "stdout",
          "text": [
            "200\n"
          ]
        }
      ]
    },
    {
      "cell_type": "code",
      "metadata": {
        "school_cell_uuid": "32cf4aa03cda40dfa48d2ddbda12c919",
        "id": "zbaG1fdYFqRG"
      },
      "source": [
        "class Rectangle(object):\n",
        "\n",
        "    def __init__(self, h, v):\n",
        "        self.h = h\n",
        "        self.v = v\n",
        "\n",
        "    def area(self):\n",
        "        return self.h * self.v"
      ],
      "execution_count": 8,
      "outputs": []
    },
    {
      "cell_type": "markdown",
      "metadata": {
        "school_cell_uuid": "4fba0939a71948b9ad569aad344bfdd5",
        "id": "CUeHAG1VFqRG"
      },
      "source": [
        "이 부분은 클래스(class) 구현이라고 한다. 실제로 길이 변수들을 저장하고 면적을 계산하는 코드는 다음과 같다."
      ]
    },
    {
      "cell_type": "code",
      "metadata": {
        "school_cell_uuid": "cf84beb92d0c4b22a822e418882e9041",
        "id": "ydy47etNFqRG",
        "outputId": "91b8eadb-be7d-457d-efd8-ee6c5c64c2de",
        "colab": {
          "base_uri": "https://localhost:8080/"
        }
      },
      "source": [
        "r = Rectangle(10, 20)\n",
        "a = r.area()\n",
        "print(a)"
      ],
      "execution_count": 9,
      "outputs": [
        {
          "output_type": "stream",
          "name": "stdout",
          "text": [
            "200\n"
          ]
        }
      ]
    },
    {
      "cell_type": "code",
      "metadata": {
        "school_cell_uuid": "0ae6301f5bed4223ac8de365fcb69224",
        "id": "VZNUaeGoFqRH",
        "outputId": "23934acc-5e85-4fd3-ef45-81db824ef391",
        "colab": {
          "base_uri": "https://localhost:8080/"
        }
      },
      "source": [
        "r.h"
      ],
      "execution_count": 10,
      "outputs": [
        {
          "output_type": "execute_result",
          "data": {
            "text/plain": [
              "10"
            ]
          },
          "metadata": {},
          "execution_count": 10
        }
      ]
    },
    {
      "cell_type": "code",
      "metadata": {
        "school_cell_uuid": "42ff56d9970c422282286e13f709defb",
        "id": "sTCrWrSoFqRH",
        "outputId": "1af98d6d-bbce-4db5-e358-1e396d5c5dcc",
        "colab": {
          "base_uri": "https://localhost:8080/"
        }
      },
      "source": [
        "r.v"
      ],
      "execution_count": 11,
      "outputs": [
        {
          "output_type": "execute_result",
          "data": {
            "text/plain": [
              "20"
            ]
          },
          "metadata": {},
          "execution_count": 11
        }
      ]
    },
    {
      "cell_type": "code",
      "metadata": {
        "school_cell_uuid": "38978f00de9f4c3a93eec080f6b07b5f",
        "id": "tjc8hAAqFqRH",
        "outputId": "7e830046-93e5-4c3c-8a03-c9e9dc51c83c",
        "colab": {
          "base_uri": "https://localhost:8080/"
        }
      },
      "source": [
        "r.area()"
      ],
      "execution_count": 12,
      "outputs": [
        {
          "output_type": "execute_result",
          "data": {
            "text/plain": [
              "200"
            ]
          },
          "metadata": {},
          "execution_count": 12
        }
      ]
    },
    {
      "cell_type": "markdown",
      "metadata": {
        "school_cell_uuid": "ccf76584091d42bbab2cff93d0f98f83",
        "id": "uVjrdnpVFqRI"
      },
      "source": [
        "## 클래스"
      ]
    },
    {
      "cell_type": "markdown",
      "metadata": {
        "school_cell_uuid": "77ee7faf126147558c1869c332622914",
        "id": "sO7syCGEFqRI"
      },
      "source": [
        "예를 들어 위에서 만들어 놓은 `Rectangle` 클래스로 다음과 같이 5개의 사각형을 만들 수도 있다."
      ]
    },
    {
      "cell_type": "code",
      "metadata": {
        "school_cell_uuid": "324de69bfaab4f43b2d49d0227d18ee2",
        "id": "iF3IJXy2FqRI"
      },
      "source": [
        "a = Rectangle(1, 1)   # 가로 1, 세로 1인 사각형\n",
        "b = Rectangle(2, 1)   # 가로 2, 세로 1인 사각형\n",
        "c = Rectangle(4, 2)   # 가로 4, 세로 2인 사각형\n",
        "d = Rectangle(6, 3)   # 가로 6, 세로 3인 사각형\n",
        "e = Rectangle(8, 5)   # 가로 8, 세로 5인 사각형"
      ],
      "execution_count": 13,
      "outputs": []
    },
    {
      "cell_type": "markdown",
      "metadata": {
        "school_cell_uuid": "88f41a82ce854064ba986b21d4c906bb",
        "id": "EY6cB48cFqRJ"
      },
      "source": [
        "이 사각형들의 면적은 다음과 같이 계산한다."
      ]
    },
    {
      "cell_type": "code",
      "metadata": {
        "school_cell_uuid": "d2cf1206d17241eabbf2863b0639e7cf",
        "id": "zwr-VTndFqRJ",
        "outputId": "b6fa0c80-d4df-4378-ec54-c27a6d255d82",
        "colab": {
          "base_uri": "https://localhost:8080/"
        }
      },
      "source": [
        "print(a.area())\n",
        "print(b.area())\n",
        "print(c.area())\n",
        "print(d.area())\n",
        "print(e.area())"
      ],
      "execution_count": 14,
      "outputs": [
        {
          "output_type": "stream",
          "name": "stdout",
          "text": [
            "1\n",
            "2\n",
            "8\n",
            "18\n",
            "40\n"
          ]
        }
      ]
    },
    {
      "cell_type": "markdown",
      "metadata": {
        "school_cell_uuid": "b502fceec9794f3e9f029d812e97bb67",
        "id": "INeJyTCtFqRJ"
      },
      "source": [
        "## 생성자"
      ]
    },
    {
      "cell_type": "code",
      "metadata": {
        "id": "pCfDa5wuLKKX"
      },
      "source": [
        "class Counter:\n",
        "    def __init__(self) :\n",
        "        self.count = 0\n",
        "    def reset(self) :\n",
        "        self.count = 0\n",
        "    def increment(self):\n",
        "        self.count += 1\n",
        "    def get(self):\n",
        "        return self.count"
      ],
      "execution_count": 15,
      "outputs": []
    },
    {
      "cell_type": "markdown",
      "metadata": {
        "id": "QvmCi2ZaLVV4"
      },
      "source": [
        "##메서드"
      ]
    },
    {
      "cell_type": "code",
      "metadata": {
        "id": "475IcgNXLXVI"
      },
      "source": [
        "class Television:\n",
        "\tdef __init__(self, channel, volume, on):\n",
        "\t\tself.channel = channel\n",
        "\t\tself.volume = volume\n",
        "\t\tself.on = on\n",
        "\n",
        "\tdef show(self):\n",
        "\t\tprint(self.channel, self.volume, self.on)\n",
        "\n",
        "\tdef setChannel(self, channel):\n",
        "\t\tself.channel = channel\n",
        "\n",
        "\tdef getChannel(self):\n",
        "\t\treturn self.channel"
      ],
      "execution_count": 16,
      "outputs": []
    },
    {
      "cell_type": "code",
      "metadata": {
        "colab": {
          "base_uri": "https://localhost:8080/"
        },
        "id": "lp0XJ0lALbr-",
        "outputId": "3070b55e-4922-4ef6-8468-a594e94fcfe0"
      },
      "source": [
        "t = Television(9, 10, True)\n",
        "\n",
        "t.show()\n",
        "t.setChannel(11)\n",
        "t.show()"
      ],
      "execution_count": 17,
      "outputs": [
        {
          "output_type": "stream",
          "name": "stdout",
          "text": [
            "9 10 True\n",
            "11 10 True\n"
          ]
        }
      ]
    },
    {
      "cell_type": "markdown",
      "metadata": {
        "id": "Tb58MTqHL7n2"
      },
      "source": [
        "## 접근자와 설정자"
      ]
    },
    {
      "cell_type": "code",
      "metadata": {
        "colab": {
          "base_uri": "https://localhost:8080/",
          "height": 35
        },
        "id": "6q82ZmPfL-0g",
        "outputId": "a86aec01-af6a-43ef-c4aa-a18a85817424"
      },
      "source": [
        "class Student:\n",
        "\tdef __init__(self, name=None, age=0):\n",
        "\t\tself.__name = name\n",
        "\t\tself.__age = age\n",
        "\n",
        "\tdef getAge(self):\n",
        "\t\treturn self.__age\n",
        "\n",
        "\tdef getName(self):\n",
        "\t\treturn self.__name\n",
        "\n",
        "\tdef setAge(self, age):\n",
        "\t\tself.__age=age\n",
        "\n",
        "\tdef setName(self, name):\n",
        "\t\tself.__name=name\n",
        "\n",
        "obj=Student(\"Hong\", 20)\n",
        "obj.getName()\n"
      ],
      "execution_count": 18,
      "outputs": [
        {
          "output_type": "execute_result",
          "data": {
            "text/plain": [
              "'Hong'"
            ],
            "application/vnd.google.colaboratory.intrinsic+json": {
              "type": "string"
            }
          },
          "metadata": {},
          "execution_count": 18
        }
      ]
    },
    {
      "cell_type": "markdown",
      "metadata": {
        "id": "qQrqBZm-MG62"
      },
      "source": [
        "Quiz "
      ]
    },
    {
      "cell_type": "code",
      "metadata": {
        "colab": {
          "base_uri": "https://localhost:8080/"
        },
        "id": "rsd15OF0MVrm",
        "outputId": "406e3688-d9ea-4840-b8e4-4f4a708238f4"
      },
      "source": [
        "import math\n",
        "class Circle:\n",
        "\tdef __init__(self, radius=1.0):\n",
        "\t\tself.__radius = radius\n",
        "\n",
        "\tdef setRadius(self, r):\n",
        "\t\tself.__radius = r\n",
        "\n",
        "\tdef getRadius(self):\n",
        "\t\treturn self.__radius\n",
        "\n",
        "\tdef calcArea(self):\n",
        "\t\tarea = math.pi*self.__radius*self.__radius\n",
        "\t\treturn area\n",
        "\tdef calcCircum(self):\n",
        "\t\tcircumference = 2.0*math.pi*self.__radius\n",
        "\t\treturn circumference\n",
        "\n",
        "c1=Circle(10)\n",
        "print(\"원의 반지름=\", c1.getRadius())\n",
        "print(\"원의 넓이=\", c1.calcArea())\n",
        "print(\"원의 둘레=\", c1.calcCircum())"
      ],
      "execution_count": 19,
      "outputs": [
        {
          "output_type": "stream",
          "name": "stdout",
          "text": [
            "원의 반지름= 10\n",
            "원의 넓이= 314.1592653589793\n",
            "원의 둘레= 62.83185307179586\n"
          ]
        }
      ]
    },
    {
      "cell_type": "markdown",
      "metadata": {
        "school_cell_uuid": "f340f16029414c7c9ac7aad1827ba89a",
        "id": "_rU_-yA7FqRK"
      },
      "source": [
        "## 재난지원금"
      ]
    },
    {
      "cell_type": "code",
      "metadata": {
        "school_cell_uuid": "d0c62c060d7c457ea1d1952f6e2085f4",
        "id": "jIsrQfuJFqRL"
      },
      "source": [
        "class 재난지원금(object):\n",
        "\n",
        "    def __init__(self):\n",
        "        self.life = 1000\n",
        "\n",
        "    def 지출(self):\n",
        "        self.life -= 10\n",
        "        print(\"지출! =\", self.life)"
      ],
      "execution_count": 20,
      "outputs": []
    },
    {
      "cell_type": "markdown",
      "metadata": {
        "school_cell_uuid": "d521c282dca34ffc8137bbdd6922c5b9",
        "id": "e8KzZilqFqRL"
      },
      "source": [
        "이 클래스로 `a`, `b`, `c` 세 개의 객체를 생성한다."
      ]
    },
    {
      "cell_type": "code",
      "metadata": {
        "school_cell_uuid": "75f18b1a7b864dceb8d13b02277575c9",
        "id": "l9NsxCK9FqRL"
      },
      "source": [
        "a = 재난지원금()\n",
        "b = 재난지원금()\n",
        "c = 재난지원금()"
      ],
      "execution_count": 21,
      "outputs": []
    },
    {
      "cell_type": "markdown",
      "metadata": {
        "school_cell_uuid": "dc661ed0429645cdbfd07603b17982e9",
        "id": "COOOLHB8FqRL"
      },
      "source": [
        "모든 객체의 초기 life 속성값은 모두 1000이다."
      ]
    },
    {
      "cell_type": "code",
      "metadata": {
        "school_cell_uuid": "af55301c85cb42a89b31940fa8feed9c",
        "colab": {
          "base_uri": "https://localhost:8080/"
        },
        "id": "B-XfHCmkFqRM",
        "outputId": "8640e353-1563-4d92-9d37-77c0522a4d75"
      },
      "source": [
        "a.life, b.life, c.life"
      ],
      "execution_count": 22,
      "outputs": [
        {
          "output_type": "execute_result",
          "data": {
            "text/plain": [
              "(1000, 1000, 1000)"
            ]
          },
          "metadata": {},
          "execution_count": 22
        }
      ]
    },
    {
      "cell_type": "markdown",
      "metadata": {
        "school_cell_uuid": "d9fd0736e04844369f366148a24c8fc3",
        "id": "dmALoNtVFqRM"
      },
      "source": [
        "하지만 지출!을 하면 지원금은 감소된다."
      ]
    },
    {
      "cell_type": "code",
      "metadata": {
        "school_cell_uuid": "55b5d2351b51494ca09ab6eac66269d7",
        "colab": {
          "base_uri": "https://localhost:8080/"
        },
        "id": "l3BSpMEZFqRM",
        "outputId": "c27d45f7-38ce-43bb-9e49-b8e034b137e2"
      },
      "source": [
        "a.지출()"
      ],
      "execution_count": 23,
      "outputs": [
        {
          "output_type": "stream",
          "name": "stdout",
          "text": [
            "지출! = 990\n"
          ]
        }
      ]
    },
    {
      "cell_type": "code",
      "metadata": {
        "school_cell_uuid": "fc64fd7432f9404192842ef2ca9383ff",
        "colab": {
          "base_uri": "https://localhost:8080/"
        },
        "id": "lKyXD7MpFqRM",
        "outputId": "4c6e1b17-2978-49da-8f0a-2579d24dd60c"
      },
      "source": [
        "b.지출()"
      ],
      "execution_count": 24,
      "outputs": [
        {
          "output_type": "stream",
          "name": "stdout",
          "text": [
            "지출! = 990\n"
          ]
        }
      ]
    },
    {
      "cell_type": "code",
      "metadata": {
        "school_cell_uuid": "3dba58e2dd3a4872b537666e8fc20c2f",
        "colab": {
          "base_uri": "https://localhost:8080/"
        },
        "id": "wGQXO7xaFqRN",
        "outputId": "58f7fb7b-87bf-4242-ad40-ba096e3c8549"
      },
      "source": [
        "a.지출()\n",
        "a.지출()\n",
        "a.지출()\n",
        "a.지출()\n",
        "a.지출()"
      ],
      "execution_count": 25,
      "outputs": [
        {
          "output_type": "stream",
          "name": "stdout",
          "text": [
            "지출! = 980\n",
            "지출! = 970\n",
            "지출! = 960\n",
            "지출! = 950\n",
            "지출! = 940\n"
          ]
        }
      ]
    },
    {
      "cell_type": "code",
      "metadata": {
        "school_cell_uuid": "99d2b03d001541dab69dfd511a77f358",
        "colab": {
          "base_uri": "https://localhost:8080/"
        },
        "id": "PiIHURJJFqRN",
        "outputId": "0002cad2-8c94-47dd-8c52-7cb13e9fa035"
      },
      "source": [
        "a.life, b.life, c.life"
      ],
      "execution_count": 26,
      "outputs": [
        {
          "output_type": "execute_result",
          "data": {
            "text/plain": [
              "(940, 990, 1000)"
            ]
          },
          "metadata": {},
          "execution_count": 26
        }
      ]
    },
    {
      "cell_type": "markdown",
      "source": [
        "####try-except"
      ],
      "metadata": {
        "id": "WlFzzgX1cH8Z"
      }
    },
    {
      "cell_type": "code",
      "source": [
        "def getMean(numericValues):\n",
        "  return sum(numericValues)/len(numericValues)\n",
        "  \n",
        "my_list2 = [ ]\n",
        "\n",
        "try:\n",
        "  print(\"Output #138: {}\".format(getMean(my_list2)))\n",
        "except ZeroDivisionError as detail:\n",
        "  print(\"Output #138 (Error): {}\".format(float('nan')))\n",
        "  print(\"Output #138 (Error): {}\".format(detail))"
      ],
      "metadata": {
        "colab": {
          "base_uri": "https://localhost:8080/"
        },
        "id": "XBj0Yd7McPgm",
        "outputId": "46e44807-9b2e-4b45-b407-5ad85003c4c9"
      },
      "execution_count": null,
      "outputs": [
        {
          "output_type": "stream",
          "name": "stdout",
          "text": [
            "Output #138 (Error): nan\n",
            "Output #138 (Error): division by zero\n"
          ]
        }
      ]
    },
    {
      "cell_type": "markdown",
      "source": [
        ""
      ],
      "metadata": {
        "id": "DRkZrZDSx0CR"
      }
    }
  ]
}