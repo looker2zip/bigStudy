{
  "nbformat": 4,
  "nbformat_minor": 0,
  "metadata": {
    "colab": {
      "name": "Google_Colab.ipynb",
      "provenance": [],
      "collapsed_sections": []
    },
    "kernelspec": {
      "name": "python3",
      "display_name": "Python 3"
    },
    "language_info": {
      "name": "python"
    }
  },
  "cells": [
    {
      "cell_type": "code",
      "execution_count": 1,
      "metadata": {
        "colab": {
          "base_uri": "https://localhost:8080/"
        },
        "id": "Os_zsa25vCRx",
        "outputId": "81a39eb2-1a05-42fa-e307-6bd38e038c3b"
      },
      "outputs": [
        {
          "output_type": "stream",
          "name": "stdout",
          "text": [
            "<class 'numpy.ndarray'>\n"
          ]
        }
      ],
      "source": [
        "import numpy\n",
        "\n",
        "a=[1,2,3]\n",
        "b=numpy.array(a)\n",
        "\n",
        "print(type(b))\n"
      ]
    },
    {
      "cell_type": "code",
      "source": [
        "import tensorflow as tf\n",
        "\n",
        "print(tf.__version__)\n"
      ],
      "metadata": {
        "colab": {
          "base_uri": "https://localhost:8080/"
        },
        "id": "iJ8yWJNcvJ-c",
        "outputId": "e5fa7cb8-44cd-4daf-87db-c34af9067d4c"
      },
      "execution_count": 2,
      "outputs": [
        {
          "output_type": "stream",
          "name": "stdout",
          "text": [
            "2.8.0\n"
          ]
        }
      ]
    },
    {
      "cell_type": "code",
      "source": [
        "import tensorflow as tf\n",
        "with tf.compat.v1.Session() as sess:\n",
        "   helloworld = tf.constant(\"Hello World!\")\n",
        "   print(sess.run(helloworld))\n",
        "\n",
        "print(\"+++++++++++++++++++++++++++++++++++++++++++++\")\n",
        "\n",
        "helloworld = tf.constant(\"Hello World!\")\n",
        "tf.print(helloworld)"
      ],
      "metadata": {
        "colab": {
          "base_uri": "https://localhost:8080/"
        },
        "id": "9W3WyZEqvM0k",
        "outputId": "9d3e5a75-0c49-49be-d5d1-854ea8791c24"
      },
      "execution_count": 3,
      "outputs": [
        {
          "output_type": "stream",
          "name": "stdout",
          "text": [
            "b'Hello World!'\n",
            "+++++++++++++++++++++++++++++++++++++++++++++\n",
            "Hello World!\n"
          ]
        }
      ]
    }
  ]
}