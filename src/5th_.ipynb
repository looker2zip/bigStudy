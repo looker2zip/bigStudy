{
  "nbformat": 4,
  "nbformat_minor": 0,
  "metadata": {
    "colab": {
      "name": "5th_.ipynb",
      "provenance": [],
      "collapsed_sections": []
    },
    "kernelspec": {
      "name": "python3",
      "display_name": "Python 3"
    },
    "language_info": {
      "name": "python"
    }
  },
  "cells": [
    {
      "cell_type": "markdown",
      "source": [
        "#Normalizing and Standardizing"
      ],
      "metadata": {
        "id": "RnEqE6kDqnev"
      }
    },
    {
      "cell_type": "markdown",
      "metadata": {
        "id": "rKr8oKyepb4F"
      },
      "source": [
        "##데이터 스케일Data Scaling "
      ]
    },
    {
      "cell_type": "code",
      "source": [
        "# 라이브러리를 임포트합니다.\n",
        "import numpy as np\n",
        "from sklearn.preprocessing import MinMaxScaler\n",
        "\n",
        "X_train = np.array([[-500.5],\n",
        "                    [-100.1],\n",
        "                    [0],\n",
        "                    [100.1],\n",
        "                    [900.9]])\n",
        "\n",
        "\n",
        "# minmax scaler 선언 및 학습\n",
        "minmaxScaler = MinMaxScaler().fit(X_train)\n",
        "\n",
        "# train셋 내 feature들에 대하여 minmax scaling 수행\n",
        "X_train_minmax = minmaxScaler.transform(X_train)\n",
        "\n",
        "# 특성을 출력합니다.\n",
        "scaled_feature"
      ],
      "metadata": {
        "colab": {
          "base_uri": "https://localhost:8080/"
        },
        "id": "_rm12mFSX0TO",
        "outputId": "5a947c4f-529c-441a-c0e7-dfa3f6621a7e"
      },
      "execution_count": 8,
      "outputs": [
        {
          "output_type": "execute_result",
          "data": {
            "text/plain": [
              "array([[0.        ],\n",
              "       [0.28571429],\n",
              "       [0.35714286],\n",
              "       [0.42857143],\n",
              "       [1.        ]])"
            ]
          },
          "metadata": {},
          "execution_count": 8
        }
      ]
    },
    {
      "cell_type": "code",
      "metadata": {
        "id": "WGSSj7VWpb4K",
        "outputId": "d6b41c71-5d23-4003-d406-991a7faff5e8",
        "colab": {
          "base_uri": "https://localhost:8080/"
        }
      },
      "source": [
        "# 라이브러리를 임포트합니다.\n",
        "import numpy as np\n",
        "from sklearn import preprocessing\n",
        "\n",
        "# 특성을 만듭니다.\n",
        "feature = np.array([[-500.5],\n",
        "                    [-100.1],\n",
        "                    [0],\n",
        "                    [100.1],\n",
        "                    [900.9]])\n",
        "\n",
        "# 스케일러 객체를 만듭니다.\n",
        "minmax_scale = preprocessing.MinMaxScaler(feature_range=(0, 1))\n",
        "\n",
        "# 특성의 스케일을 변환합니다.\n",
        "scaled_feature = minmax_scale.fit_transform(feature)\n",
        "\n",
        "# 특성을 출력합니다.\n",
        "scaled_feature"
      ],
      "execution_count": 1,
      "outputs": [
        {
          "output_type": "execute_result",
          "data": {
            "text/plain": [
              "array([[0.        ],\n",
              "       [0.28571429],\n",
              "       [0.35714286],\n",
              "       [0.42857143],\n",
              "       [1.        ]])"
            ]
          },
          "metadata": {},
          "execution_count": 1
        }
      ]
    },
    {
      "cell_type": "code",
      "metadata": {
        "id": "y-A6Xl-Ipb4L",
        "outputId": "99e3d233-0537-42a3-efab-e83831aca8b0",
        "colab": {
          "base_uri": "https://localhost:8080/"
        }
      },
      "source": [
        "# 훈련 세트를 변환합니다.\n",
        "preprocessing.MinMaxScaler().fit_transform(feature[:3])"
      ],
      "execution_count": 2,
      "outputs": [
        {
          "output_type": "execute_result",
          "data": {
            "text/plain": [
              "array([[0. ],\n",
              "       [0.8],\n",
              "       [1. ]])"
            ]
          },
          "metadata": {},
          "execution_count": 2
        }
      ]
    },
    {
      "cell_type": "code",
      "metadata": {
        "id": "sp0tycxQpb4M",
        "outputId": "a862d877-f04b-4fa0-c740-8ff188486680",
        "colab": {
          "base_uri": "https://localhost:8080/"
        }
      },
      "source": [
        "# 테스트 세트를 변환합니다.\n",
        "preprocessing.MinMaxScaler().fit_transform(feature[3:])"
      ],
      "execution_count": 3,
      "outputs": [
        {
          "output_type": "execute_result",
          "data": {
            "text/plain": [
              "array([[0.],\n",
              "       [1.]])"
            ]
          },
          "metadata": {},
          "execution_count": 3
        }
      ]
    },
    {
      "cell_type": "code",
      "metadata": {
        "id": "2ihEaZn6pb4M",
        "outputId": "edb50003-bd25-4211-af0e-969b024ae282",
        "colab": {
          "base_uri": "https://localhost:8080/"
        }
      },
      "source": [
        "# 훈련 세트로 변환기를 학습합니다.\n",
        "scaler = preprocessing.MinMaxScaler().fit(feature[:3])\n",
        "scaler.transform(feature[:3])"
      ],
      "execution_count": 4,
      "outputs": [
        {
          "output_type": "execute_result",
          "data": {
            "text/plain": [
              "array([[0. ],\n",
              "       [0.8],\n",
              "       [1. ]])"
            ]
          },
          "metadata": {},
          "execution_count": 4
        }
      ]
    },
    {
      "cell_type": "code",
      "metadata": {
        "id": "cDZFWQgupb4M",
        "outputId": "b32e218c-0738-4b7b-e5c2-17b7a4d80488",
        "colab": {
          "base_uri": "https://localhost:8080/"
        }
      },
      "source": [
        "# 훈련 세트에서 학습한 변환기로 테스트 세트를 변환합니다.\n",
        "scaler.transform(feature[3:])"
      ],
      "execution_count": 5,
      "outputs": [
        {
          "output_type": "execute_result",
          "data": {
            "text/plain": [
              "array([[1.2],\n",
              "       [2.8]])"
            ]
          },
          "metadata": {},
          "execution_count": 5
        }
      ]
    },
    {
      "cell_type": "markdown",
      "metadata": {
        "id": "FHNGfYs2pb4N"
      },
      "source": [
        "## 특성 표준화"
      ]
    },
    {
      "cell_type": "code",
      "metadata": {
        "id": "7u607h9Lpb4N",
        "outputId": "d7d0e981-eca7-4515-ec6b-ed0077de9514",
        "colab": {
          "base_uri": "https://localhost:8080/"
        }
      },
      "source": [
        "# 라이브러리를 임포트합니다.\n",
        "import numpy as np\n",
        "from sklearn import preprocessing\n",
        "\n",
        "# 특성을 만듭니다.\n",
        "x = np.array([[-1000.1],\n",
        "              [-200.2],\n",
        "              [500.5],\n",
        "              [600.6],\n",
        "              [9000.9]])\n",
        "\n",
        "# 변환기 객체를 만듭니다.\n",
        "scaler = preprocessing.StandardScaler()\n",
        "\n",
        "# 특성을 변환합니다.\n",
        "standardized = scaler.fit_transform(x)\n",
        "\n",
        "# 특성을 출력합니다.\n",
        "standardized"
      ],
      "execution_count": 9,
      "outputs": [
        {
          "output_type": "execute_result",
          "data": {
            "text/plain": [
              "array([[-0.76058269],\n",
              "       [-0.54177196],\n",
              "       [-0.35009716],\n",
              "       [-0.32271504],\n",
              "       [ 1.97516685]])"
            ]
          },
          "metadata": {},
          "execution_count": 9
        }
      ]
    },
    {
      "cell_type": "code",
      "metadata": {
        "id": "-4nJyC74pb4N",
        "outputId": "446569af-1aca-4604-9407-3b8a6dd666fe",
        "colab": {
          "base_uri": "https://localhost:8080/"
        }
      },
      "source": [
        "# 평균과 표준 편차를 출력합니다.\n",
        "print(\"평균 Mean:\", round(standardized.mean()))\n",
        "print(\"표준 편차 Standard deviation:\", standardized.std())"
      ],
      "execution_count": 10,
      "outputs": [
        {
          "output_type": "stream",
          "name": "stdout",
          "text": [
            "평균 Mean: 0\n",
            "표준 편차 Standard deviation: 1.0\n"
          ]
        }
      ]
    },
    {
      "cell_type": "code",
      "metadata": {
        "id": "SvX897ZJpb4N",
        "outputId": "e1a78668-5f21-41a3-c5c6-5c122db76af9",
        "colab": {
          "base_uri": "https://localhost:8080/"
        }
      },
      "source": [
        "# 변환기 객체를 만듭니다.\n",
        "robust_scaler = preprocessing.RobustScaler()\n",
        "\n",
        "# 특성을 변환합니다.\n",
        "robust_scaler.fit_transform(x)"
      ],
      "execution_count": 11,
      "outputs": [
        {
          "output_type": "execute_result",
          "data": {
            "text/plain": [
              "array([[-1.87387612],\n",
              "       [-0.875     ],\n",
              "       [ 0.        ],\n",
              "       [ 0.125     ],\n",
              "       [10.61488511]])"
            ]
          },
          "metadata": {},
          "execution_count": 11
        }
      ]
    },
    {
      "cell_type": "code",
      "metadata": {
        "id": "7YzMYGtepb4O",
        "outputId": "080abe25-0c26-4a53-f70e-8dde291f8087",
        "colab": {
          "base_uri": "https://localhost:8080/"
        }
      },
      "source": [
        "interquatile_range = x[3] - x[1]\n",
        "(x - np.median(x)) / interquatile_range"
      ],
      "execution_count": 12,
      "outputs": [
        {
          "output_type": "execute_result",
          "data": {
            "text/plain": [
              "array([[-1.87387612],\n",
              "       [-0.875     ],\n",
              "       [ 0.        ],\n",
              "       [ 0.125     ],\n",
              "       [10.61488511]])"
            ]
          },
          "metadata": {},
          "execution_count": 12
        }
      ]
    },
    {
      "cell_type": "code",
      "metadata": {
        "id": "7zqHr3Hjpb4O",
        "outputId": "7db34616-92ab-4133-9261-9be1b9bcfb9d",
        "colab": {
          "base_uri": "https://localhost:8080/"
        }
      },
      "source": [
        "preprocessing.QuantileTransformer().fit_transform(x)"
      ],
      "execution_count": 13,
      "outputs": [
        {
          "output_type": "stream",
          "name": "stderr",
          "text": [
            "/usr/local/lib/python3.7/dist-packages/sklearn/preprocessing/_data.py:2593: UserWarning: n_quantiles (1000) is greater than the total number of samples (5). n_quantiles is set to n_samples.\n",
            "  \"n_samples.\" % (self.n_quantiles, n_samples)\n"
          ]
        },
        {
          "output_type": "execute_result",
          "data": {
            "text/plain": [
              "array([[0.  ],\n",
              "       [0.25],\n",
              "       [0.5 ],\n",
              "       [0.75],\n",
              "       [1.  ]])"
            ]
          },
          "metadata": {},
          "execution_count": 13
        }
      ]
    },
    {
      "cell_type": "markdown",
      "metadata": {
        "id": "QxfNDXhJpb4O"
      },
      "source": [
        "## 특성 정규화"
      ]
    },
    {
      "cell_type": "code",
      "metadata": {
        "id": "JOvcCoOjpb4P",
        "outputId": "148c5e62-32d6-4da4-f51a-8ba50cc3645d",
        "colab": {
          "base_uri": "https://localhost:8080/"
        }
      },
      "source": [
        "# 라이브러리를 임포트합니다.\n",
        "import numpy as np\n",
        "from sklearn.preprocessing import Normalizer\n",
        "\n",
        "# 특성 행렬을 만듭니다.\n",
        "features = np.array([[0.5, 0.5],\n",
        "                     [1.1, 3.4],\n",
        "                     [1.5, 20.2],\n",
        "                     [1.63, 34.4],\n",
        "                     [10.9, 3.3]])\n",
        "\n",
        "# 변환기 객체를 만듭니다.\n",
        "normalizer = Normalizer(norm=\"l2\")\n",
        "\n",
        "# 특성 행렬을 변환합니다.\n",
        "normalizer.transform(features)"
      ],
      "execution_count": 14,
      "outputs": [
        {
          "output_type": "execute_result",
          "data": {
            "text/plain": [
              "array([[0.70710678, 0.70710678],\n",
              "       [0.30782029, 0.95144452],\n",
              "       [0.07405353, 0.99725427],\n",
              "       [0.04733062, 0.99887928],\n",
              "       [0.95709822, 0.28976368]])"
            ]
          },
          "metadata": {},
          "execution_count": 14
        }
      ]
    },
    {
      "cell_type": "code",
      "metadata": {
        "id": "snxptyd2pb4P",
        "outputId": "99c35948-4bd9-48ee-c2ce-e91bdb8612b5",
        "colab": {
          "base_uri": "https://localhost:8080/"
        }
      },
      "source": [
        "# 특성 행렬을 변환합니다.\n",
        "features_l2_norm = Normalizer(norm=\"l2\").transform(features)\n",
        "\n",
        "# 특성 행렬을 출력합니다.\n",
        "features_l2_norm"
      ],
      "execution_count": 15,
      "outputs": [
        {
          "output_type": "execute_result",
          "data": {
            "text/plain": [
              "array([[0.70710678, 0.70710678],\n",
              "       [0.30782029, 0.95144452],\n",
              "       [0.07405353, 0.99725427],\n",
              "       [0.04733062, 0.99887928],\n",
              "       [0.95709822, 0.28976368]])"
            ]
          },
          "metadata": {},
          "execution_count": 15
        }
      ]
    },
    {
      "cell_type": "code",
      "metadata": {
        "id": "rTaB3bfDpb4P",
        "outputId": "9c4a5f3b-d497-4237-d42a-d3c287f34773",
        "colab": {
          "base_uri": "https://localhost:8080/"
        }
      },
      "source": [
        "# 특성 행렬을 변환합니다.\n",
        "features_l1_norm = Normalizer(norm=\"l1\").transform(features)\n",
        "\n",
        "# 특성 행렬을 출력합니다.\n",
        "features_l1_norm"
      ],
      "execution_count": 16,
      "outputs": [
        {
          "output_type": "execute_result",
          "data": {
            "text/plain": [
              "array([[0.5       , 0.5       ],\n",
              "       [0.24444444, 0.75555556],\n",
              "       [0.06912442, 0.93087558],\n",
              "       [0.04524008, 0.95475992],\n",
              "       [0.76760563, 0.23239437]])"
            ]
          },
          "metadata": {},
          "execution_count": 16
        }
      ]
    },
    {
      "cell_type": "code",
      "metadata": {
        "id": "cSfpoIgNpb4P",
        "outputId": "75197a78-7451-4df3-b96f-c8d189a9432c",
        "colab": {
          "base_uri": "https://localhost:8080/"
        }
      },
      "source": [
        "# 합을 출력합니다.\n",
        "print(\"첫 번째 샘플 값의 합:\",\n",
        "   features_l1_norm[0, 0] + features_l1_norm[0, 1])"
      ],
      "execution_count": 17,
      "outputs": [
        {
          "output_type": "stream",
          "name": "stdout",
          "text": [
            "첫 번째 샘플 값의 합: 1.0\n"
          ]
        }
      ]
    },
    {
      "cell_type": "code",
      "metadata": {
        "id": "RYse8UdHpb4Q",
        "outputId": "7aae6751-9b66-48d6-d35f-f038db7b57b4",
        "colab": {
          "base_uri": "https://localhost:8080/"
        }
      },
      "source": [
        "# L1 노름을 사용한 변환.\n",
        "# 각 행(axis=1)을 합한 결과가 2차원 배열로 유지되도록 keepdims를 True로 설정합니다.\n",
        "features / np.sum(np.abs(features), axis=1, keepdims=True)"
      ],
      "execution_count": 18,
      "outputs": [
        {
          "output_type": "execute_result",
          "data": {
            "text/plain": [
              "array([[0.5       , 0.5       ],\n",
              "       [0.24444444, 0.75555556],\n",
              "       [0.06912442, 0.93087558],\n",
              "       [0.04524008, 0.95475992],\n",
              "       [0.76760563, 0.23239437]])"
            ]
          },
          "metadata": {},
          "execution_count": 18
        }
      ]
    },
    {
      "cell_type": "code",
      "metadata": {
        "id": "m561jAUCpb4Q",
        "outputId": "5913d23a-dd5c-45a2-f27c-0f2f08c43e36",
        "colab": {
          "base_uri": "https://localhost:8080/"
        }
      },
      "source": [
        "# L2 노름을 사용한 변환.\n",
        "features / np.sqrt(np.sum(np.square(features), axis=1, keepdims=True))"
      ],
      "execution_count": 19,
      "outputs": [
        {
          "output_type": "execute_result",
          "data": {
            "text/plain": [
              "array([[0.70710678, 0.70710678],\n",
              "       [0.30782029, 0.95144452],\n",
              "       [0.07405353, 0.99725427],\n",
              "       [0.04733062, 0.99887928],\n",
              "       [0.95709822, 0.28976368]])"
            ]
          },
          "metadata": {},
          "execution_count": 19
        }
      ]
    },
    {
      "cell_type": "code",
      "metadata": {
        "id": "XwowBZzbpb4Q",
        "outputId": "b6c783db-8507-41a2-f8be-c74e32b4f896",
        "colab": {
          "base_uri": "https://localhost:8080/"
        }
      },
      "source": [
        "# 각 행에서 최댓값으로 나눕니다.\n",
        "Normalizer(norm=\"max\").transform(features)"
      ],
      "execution_count": 20,
      "outputs": [
        {
          "output_type": "execute_result",
          "data": {
            "text/plain": [
              "array([[1.        , 1.        ],\n",
              "       [0.32352941, 1.        ],\n",
              "       [0.07425743, 1.        ],\n",
              "       [0.04738372, 1.        ],\n",
              "       [1.        , 0.30275229]])"
            ]
          },
          "metadata": {},
          "execution_count": 20
        }
      ]
    },
    {
      "cell_type": "markdown",
      "metadata": {
        "id": "gYzO82_6pb4Q"
      },
      "source": [
        "### 다항 특성과 교차항 특성 생성하기"
      ]
    },
    {
      "cell_type": "code",
      "metadata": {
        "id": "RjafbBmcpb4R",
        "outputId": "726f2226-e118-444e-bed9-d926c24185f5",
        "colab": {
          "base_uri": "https://localhost:8080/"
        }
      },
      "source": [
        "# 라이브러리를 임포트합니다.\n",
        "import numpy as np\n",
        "from sklearn.preprocessing import PolynomialFeatures\n",
        "\n",
        "# 특성 행렬을 만듭니다.\n",
        "features = np.array([[2, 3],\n",
        "                     [2, 3],\n",
        "                     [2, 3]])\n",
        "\n",
        "# PolynomialFeatures 객체를 만듭니다.\n",
        "polynomial_interaction = PolynomialFeatures(degree=2, include_bias=False)\n",
        "\n",
        "# 다항 특성을 만듭니다.\n",
        "polynomial_interaction.fit_transform(features)"
      ],
      "execution_count": 21,
      "outputs": [
        {
          "output_type": "execute_result",
          "data": {
            "text/plain": [
              "array([[2., 3., 4., 6., 9.],\n",
              "       [2., 3., 4., 6., 9.],\n",
              "       [2., 3., 4., 6., 9.]])"
            ]
          },
          "metadata": {},
          "execution_count": 21
        }
      ]
    },
    {
      "cell_type": "code",
      "metadata": {
        "id": "GtMga1UJpb4R",
        "outputId": "ae8248b6-be58-4484-cfb8-ae051b52ca49",
        "colab": {
          "base_uri": "https://localhost:8080/"
        }
      },
      "source": [
        "interaction = PolynomialFeatures(degree=2, \n",
        "                                 interaction_only=True, include_bias=False)\n",
        "interaction.fit_transform(features)"
      ],
      "execution_count": 22,
      "outputs": [
        {
          "output_type": "execute_result",
          "data": {
            "text/plain": [
              "array([[2., 3., 6.],\n",
              "       [2., 3., 6.],\n",
              "       [2., 3., 6.]])"
            ]
          },
          "metadata": {},
          "execution_count": 22
        }
      ]
    },
    {
      "cell_type": "code",
      "metadata": {
        "id": "HhE70vZFpb4R",
        "outputId": "b838939a-5a1e-43aa-f4fb-cfeae535811c",
        "colab": {
          "base_uri": "https://localhost:8080/"
        }
      },
      "source": [
        "# 상수항 1을 추가합니다.\n",
        "polynomial_bias = PolynomialFeatures(degree=2, include_bias=True).fit(features)\n",
        "polynomial_bias.transform(features)"
      ],
      "execution_count": 23,
      "outputs": [
        {
          "output_type": "execute_result",
          "data": {
            "text/plain": [
              "array([[1., 2., 3., 4., 6., 9.],\n",
              "       [1., 2., 3., 4., 6., 9.],\n",
              "       [1., 2., 3., 4., 6., 9.]])"
            ]
          },
          "metadata": {},
          "execution_count": 23
        }
      ]
    },
    {
      "cell_type": "code",
      "metadata": {
        "id": "xIMAk-fRpb4R",
        "outputId": "24585954-5b4e-47e2-8336-88478c4729be",
        "colab": {
          "base_uri": "https://localhost:8080/"
        }
      },
      "source": [
        "polynomial_bias.get_feature_names()"
      ],
      "execution_count": 24,
      "outputs": [
        {
          "output_type": "stream",
          "name": "stderr",
          "text": [
            "/usr/local/lib/python3.7/dist-packages/sklearn/utils/deprecation.py:87: FutureWarning: Function get_feature_names is deprecated; get_feature_names is deprecated in 1.0 and will be removed in 1.2. Please use get_feature_names_out instead.\n",
            "  warnings.warn(msg, category=FutureWarning)\n"
          ]
        },
        {
          "output_type": "execute_result",
          "data": {
            "text/plain": [
              "['1', 'x0', 'x1', 'x0^2', 'x0 x1', 'x1^2']"
            ]
          },
          "metadata": {},
          "execution_count": 24
        }
      ]
    },
    {
      "cell_type": "markdown",
      "metadata": {
        "id": "ZtfsALLqpb4S"
      },
      "source": [
        "### 하나 이상의 특성에 사용자 정의 변환을 적용"
      ]
    },
    {
      "cell_type": "code",
      "metadata": {
        "id": "ImGDcNvnpb4S",
        "outputId": "05e8e0ee-b12b-42b2-ffb6-c296f7f4982c",
        "colab": {
          "base_uri": "https://localhost:8080/"
        }
      },
      "source": [
        "# 라이브러리를 임포트합니다.\n",
        "import numpy as np\n",
        "from sklearn.preprocessing import FunctionTransformer\n",
        "\n",
        "# 특성 행렬을 만듭니다.\n",
        "features = np.array([[2, 3],\n",
        "                     [2, 3],\n",
        "                     [2, 3]])\n",
        "\n",
        "# 간단한 함수를 정의합니다.\n",
        "def add_ten(x):\n",
        "    return x + 10\n",
        "\n",
        "# 변환기 객체를 만듭니다.\n",
        "ten_transformer = FunctionTransformer(add_ten)\n",
        "\n",
        "# 특성 행렬을 변환합니다.\n",
        "ten_transformer.transform(features)"
      ],
      "execution_count": 25,
      "outputs": [
        {
          "output_type": "execute_result",
          "data": {
            "text/plain": [
              "array([[12, 13],\n",
              "       [12, 13],\n",
              "       [12, 13]])"
            ]
          },
          "metadata": {},
          "execution_count": 25
        }
      ]
    },
    {
      "cell_type": "code",
      "metadata": {
        "id": "84XRe0Kopb4S",
        "outputId": "ff9b501f-5bf3-4776-eaba-1966c21eacd0",
        "colab": {
          "base_uri": "https://localhost:8080/",
          "height": 143
        }
      },
      "source": [
        "# 라이브러리를 임포트합니다.\n",
        "import pandas as pd\n",
        "\n",
        "# 데이터프레임을 만듭니다.\n",
        "df = pd.DataFrame(features, columns=[\"feature_1\", \"feature_2\"])\n",
        "\n",
        "# 함수를 적용합니다.\n",
        "df.apply(add_ten)"
      ],
      "execution_count": 26,
      "outputs": [
        {
          "output_type": "execute_result",
          "data": {
            "text/plain": [
              "   feature_1  feature_2\n",
              "0         12         13\n",
              "1         12         13\n",
              "2         12         13"
            ],
            "text/html": [
              "\n",
              "  <div id=\"df-68374996-3c13-4c55-b559-82deddf17b87\">\n",
              "    <div class=\"colab-df-container\">\n",
              "      <div>\n",
              "<style scoped>\n",
              "    .dataframe tbody tr th:only-of-type {\n",
              "        vertical-align: middle;\n",
              "    }\n",
              "\n",
              "    .dataframe tbody tr th {\n",
              "        vertical-align: top;\n",
              "    }\n",
              "\n",
              "    .dataframe thead th {\n",
              "        text-align: right;\n",
              "    }\n",
              "</style>\n",
              "<table border=\"1\" class=\"dataframe\">\n",
              "  <thead>\n",
              "    <tr style=\"text-align: right;\">\n",
              "      <th></th>\n",
              "      <th>feature_1</th>\n",
              "      <th>feature_2</th>\n",
              "    </tr>\n",
              "  </thead>\n",
              "  <tbody>\n",
              "    <tr>\n",
              "      <th>0</th>\n",
              "      <td>12</td>\n",
              "      <td>13</td>\n",
              "    </tr>\n",
              "    <tr>\n",
              "      <th>1</th>\n",
              "      <td>12</td>\n",
              "      <td>13</td>\n",
              "    </tr>\n",
              "    <tr>\n",
              "      <th>2</th>\n",
              "      <td>12</td>\n",
              "      <td>13</td>\n",
              "    </tr>\n",
              "  </tbody>\n",
              "</table>\n",
              "</div>\n",
              "      <button class=\"colab-df-convert\" onclick=\"convertToInteractive('df-68374996-3c13-4c55-b559-82deddf17b87')\"\n",
              "              title=\"Convert this dataframe to an interactive table.\"\n",
              "              style=\"display:none;\">\n",
              "        \n",
              "  <svg xmlns=\"http://www.w3.org/2000/svg\" height=\"24px\"viewBox=\"0 0 24 24\"\n",
              "       width=\"24px\">\n",
              "    <path d=\"M0 0h24v24H0V0z\" fill=\"none\"/>\n",
              "    <path d=\"M18.56 5.44l.94 2.06.94-2.06 2.06-.94-2.06-.94-.94-2.06-.94 2.06-2.06.94zm-11 1L8.5 8.5l.94-2.06 2.06-.94-2.06-.94L8.5 2.5l-.94 2.06-2.06.94zm10 10l.94 2.06.94-2.06 2.06-.94-2.06-.94-.94-2.06-.94 2.06-2.06.94z\"/><path d=\"M17.41 7.96l-1.37-1.37c-.4-.4-.92-.59-1.43-.59-.52 0-1.04.2-1.43.59L10.3 9.45l-7.72 7.72c-.78.78-.78 2.05 0 2.83L4 21.41c.39.39.9.59 1.41.59.51 0 1.02-.2 1.41-.59l7.78-7.78 2.81-2.81c.8-.78.8-2.07 0-2.86zM5.41 20L4 18.59l7.72-7.72 1.47 1.35L5.41 20z\"/>\n",
              "  </svg>\n",
              "      </button>\n",
              "      \n",
              "  <style>\n",
              "    .colab-df-container {\n",
              "      display:flex;\n",
              "      flex-wrap:wrap;\n",
              "      gap: 12px;\n",
              "    }\n",
              "\n",
              "    .colab-df-convert {\n",
              "      background-color: #E8F0FE;\n",
              "      border: none;\n",
              "      border-radius: 50%;\n",
              "      cursor: pointer;\n",
              "      display: none;\n",
              "      fill: #1967D2;\n",
              "      height: 32px;\n",
              "      padding: 0 0 0 0;\n",
              "      width: 32px;\n",
              "    }\n",
              "\n",
              "    .colab-df-convert:hover {\n",
              "      background-color: #E2EBFA;\n",
              "      box-shadow: 0px 1px 2px rgba(60, 64, 67, 0.3), 0px 1px 3px 1px rgba(60, 64, 67, 0.15);\n",
              "      fill: #174EA6;\n",
              "    }\n",
              "\n",
              "    [theme=dark] .colab-df-convert {\n",
              "      background-color: #3B4455;\n",
              "      fill: #D2E3FC;\n",
              "    }\n",
              "\n",
              "    [theme=dark] .colab-df-convert:hover {\n",
              "      background-color: #434B5C;\n",
              "      box-shadow: 0px 1px 3px 1px rgba(0, 0, 0, 0.15);\n",
              "      filter: drop-shadow(0px 1px 2px rgba(0, 0, 0, 0.3));\n",
              "      fill: #FFFFFF;\n",
              "    }\n",
              "  </style>\n",
              "\n",
              "      <script>\n",
              "        const buttonEl =\n",
              "          document.querySelector('#df-68374996-3c13-4c55-b559-82deddf17b87 button.colab-df-convert');\n",
              "        buttonEl.style.display =\n",
              "          google.colab.kernel.accessAllowed ? 'block' : 'none';\n",
              "\n",
              "        async function convertToInteractive(key) {\n",
              "          const element = document.querySelector('#df-68374996-3c13-4c55-b559-82deddf17b87');\n",
              "          const dataTable =\n",
              "            await google.colab.kernel.invokeFunction('convertToInteractive',\n",
              "                                                     [key], {});\n",
              "          if (!dataTable) return;\n",
              "\n",
              "          const docLinkHtml = 'Like what you see? Visit the ' +\n",
              "            '<a target=\"_blank\" href=https://colab.research.google.com/notebooks/data_table.ipynb>data table notebook</a>'\n",
              "            + ' to learn more about interactive tables.';\n",
              "          element.innerHTML = '';\n",
              "          dataTable['output_type'] = 'display_data';\n",
              "          await google.colab.output.renderOutput(dataTable, element);\n",
              "          const docLink = document.createElement('div');\n",
              "          docLink.innerHTML = docLinkHtml;\n",
              "          element.appendChild(docLink);\n",
              "        }\n",
              "      </script>\n",
              "    </div>\n",
              "  </div>\n",
              "  "
            ]
          },
          "metadata": {},
          "execution_count": 26
        }
      ]
    },
    {
      "cell_type": "code",
      "metadata": {
        "id": "sxXnNYVFpb4S",
        "outputId": "8cfe9b16-b127-467d-d4a7-5ab4ba24d8b7",
        "colab": {
          "base_uri": "https://localhost:8080/"
        }
      },
      "source": [
        "FunctionTransformer(add_ten, validate=False).transform(np.array([1, 2, 3]))"
      ],
      "execution_count": 27,
      "outputs": [
        {
          "output_type": "execute_result",
          "data": {
            "text/plain": [
              "array([11, 12, 13])"
            ]
          },
          "metadata": {},
          "execution_count": 27
        }
      ]
    },
    {
      "cell_type": "code",
      "metadata": {
        "id": "k0ot3K-qpb4S",
        "outputId": "1b39c75b-869d-479c-c806-d02785c4cd14",
        "colab": {
          "base_uri": "https://localhost:8080/"
        }
      },
      "source": [
        "from sklearn.compose import ColumnTransformer\n",
        "\n",
        "# 100을 더하는 함수를 만듭니다.\n",
        "def add_hundred(x):\n",
        "    return x + 100\n",
        "\n",
        "# (이름, 변환기, 열 리스트)로 구성된 튜플의 리스트를 ColumnTransformer에 전달합니다.\n",
        "ct = ColumnTransformer(\n",
        "    [(\"add_ten\", FunctionTransformer(add_ten, validate=True), ['feature_1']),\n",
        "     (\"add_hundred\", FunctionTransformer(add_hundred, validate=True), ['feature_2'])])\n",
        "\n",
        "ct.fit_transform(df)"
      ],
      "execution_count": 28,
      "outputs": [
        {
          "output_type": "execute_result",
          "data": {
            "text/plain": [
              "array([[ 12, 103],\n",
              "       [ 12, 103],\n",
              "       [ 12, 103]])"
            ]
          },
          "metadata": {},
          "execution_count": 28
        }
      ]
    },
    {
      "cell_type": "code",
      "source": [
        "import pandas as pd\n",
        "df = pd.DataFrame({\n",
        "'category': ['fruits','fruits','fruits','fruits','fruits','vegetables','vegetables','vegetables','vegetables','vegetables'],\n",
        "'product' : ['apple','orange','durian','coconut','grape','cabbage','carrot','spinach','grass','potato'],\n",
        "'sales'   : [10,20,30,40,100,10,30,50,60,100]\n",
        "})\n",
        "df.head()\n",
        "\n",
        "\n",
        "\n",
        "from sklearn import preprocessing\n",
        "from sklearn.preprocessing import MinMaxScaler\n",
        "scaler = MinMaxScaler()\n",
        "df_fruits = df[df['category'] == \"fruits\"]\n",
        "df_fruits['sales'] = scaler.fit_transform(df_fruits[['sales']])\n",
        "df_fruits.head()"
      ],
      "metadata": {
        "colab": {
          "base_uri": "https://localhost:8080/",
          "height": 310
        },
        "id": "Z20a75OuZngj",
        "outputId": "88468f07-a872-41cf-dd55-2fe05d81e8a5"
      },
      "execution_count": 29,
      "outputs": [
        {
          "output_type": "stream",
          "name": "stderr",
          "text": [
            "/usr/local/lib/python3.7/dist-packages/ipykernel_launcher.py:15: SettingWithCopyWarning: \n",
            "A value is trying to be set on a copy of a slice from a DataFrame.\n",
            "Try using .loc[row_indexer,col_indexer] = value instead\n",
            "\n",
            "See the caveats in the documentation: https://pandas.pydata.org/pandas-docs/stable/user_guide/indexing.html#returning-a-view-versus-a-copy\n",
            "  from ipykernel import kernelapp as app\n"
          ]
        },
        {
          "output_type": "execute_result",
          "data": {
            "text/plain": [
              "  category  product     sales\n",
              "0   fruits    apple  0.000000\n",
              "1   fruits   orange  0.111111\n",
              "2   fruits   durian  0.222222\n",
              "3   fruits  coconut  0.333333\n",
              "4   fruits    grape  1.000000"
            ],
            "text/html": [
              "\n",
              "  <div id=\"df-a8ff5f37-a5c1-4bfc-99b5-7916ef866cd7\">\n",
              "    <div class=\"colab-df-container\">\n",
              "      <div>\n",
              "<style scoped>\n",
              "    .dataframe tbody tr th:only-of-type {\n",
              "        vertical-align: middle;\n",
              "    }\n",
              "\n",
              "    .dataframe tbody tr th {\n",
              "        vertical-align: top;\n",
              "    }\n",
              "\n",
              "    .dataframe thead th {\n",
              "        text-align: right;\n",
              "    }\n",
              "</style>\n",
              "<table border=\"1\" class=\"dataframe\">\n",
              "  <thead>\n",
              "    <tr style=\"text-align: right;\">\n",
              "      <th></th>\n",
              "      <th>category</th>\n",
              "      <th>product</th>\n",
              "      <th>sales</th>\n",
              "    </tr>\n",
              "  </thead>\n",
              "  <tbody>\n",
              "    <tr>\n",
              "      <th>0</th>\n",
              "      <td>fruits</td>\n",
              "      <td>apple</td>\n",
              "      <td>0.000000</td>\n",
              "    </tr>\n",
              "    <tr>\n",
              "      <th>1</th>\n",
              "      <td>fruits</td>\n",
              "      <td>orange</td>\n",
              "      <td>0.111111</td>\n",
              "    </tr>\n",
              "    <tr>\n",
              "      <th>2</th>\n",
              "      <td>fruits</td>\n",
              "      <td>durian</td>\n",
              "      <td>0.222222</td>\n",
              "    </tr>\n",
              "    <tr>\n",
              "      <th>3</th>\n",
              "      <td>fruits</td>\n",
              "      <td>coconut</td>\n",
              "      <td>0.333333</td>\n",
              "    </tr>\n",
              "    <tr>\n",
              "      <th>4</th>\n",
              "      <td>fruits</td>\n",
              "      <td>grape</td>\n",
              "      <td>1.000000</td>\n",
              "    </tr>\n",
              "  </tbody>\n",
              "</table>\n",
              "</div>\n",
              "      <button class=\"colab-df-convert\" onclick=\"convertToInteractive('df-a8ff5f37-a5c1-4bfc-99b5-7916ef866cd7')\"\n",
              "              title=\"Convert this dataframe to an interactive table.\"\n",
              "              style=\"display:none;\">\n",
              "        \n",
              "  <svg xmlns=\"http://www.w3.org/2000/svg\" height=\"24px\"viewBox=\"0 0 24 24\"\n",
              "       width=\"24px\">\n",
              "    <path d=\"M0 0h24v24H0V0z\" fill=\"none\"/>\n",
              "    <path d=\"M18.56 5.44l.94 2.06.94-2.06 2.06-.94-2.06-.94-.94-2.06-.94 2.06-2.06.94zm-11 1L8.5 8.5l.94-2.06 2.06-.94-2.06-.94L8.5 2.5l-.94 2.06-2.06.94zm10 10l.94 2.06.94-2.06 2.06-.94-2.06-.94-.94-2.06-.94 2.06-2.06.94z\"/><path d=\"M17.41 7.96l-1.37-1.37c-.4-.4-.92-.59-1.43-.59-.52 0-1.04.2-1.43.59L10.3 9.45l-7.72 7.72c-.78.78-.78 2.05 0 2.83L4 21.41c.39.39.9.59 1.41.59.51 0 1.02-.2 1.41-.59l7.78-7.78 2.81-2.81c.8-.78.8-2.07 0-2.86zM5.41 20L4 18.59l7.72-7.72 1.47 1.35L5.41 20z\"/>\n",
              "  </svg>\n",
              "      </button>\n",
              "      \n",
              "  <style>\n",
              "    .colab-df-container {\n",
              "      display:flex;\n",
              "      flex-wrap:wrap;\n",
              "      gap: 12px;\n",
              "    }\n",
              "\n",
              "    .colab-df-convert {\n",
              "      background-color: #E8F0FE;\n",
              "      border: none;\n",
              "      border-radius: 50%;\n",
              "      cursor: pointer;\n",
              "      display: none;\n",
              "      fill: #1967D2;\n",
              "      height: 32px;\n",
              "      padding: 0 0 0 0;\n",
              "      width: 32px;\n",
              "    }\n",
              "\n",
              "    .colab-df-convert:hover {\n",
              "      background-color: #E2EBFA;\n",
              "      box-shadow: 0px 1px 2px rgba(60, 64, 67, 0.3), 0px 1px 3px 1px rgba(60, 64, 67, 0.15);\n",
              "      fill: #174EA6;\n",
              "    }\n",
              "\n",
              "    [theme=dark] .colab-df-convert {\n",
              "      background-color: #3B4455;\n",
              "      fill: #D2E3FC;\n",
              "    }\n",
              "\n",
              "    [theme=dark] .colab-df-convert:hover {\n",
              "      background-color: #434B5C;\n",
              "      box-shadow: 0px 1px 3px 1px rgba(0, 0, 0, 0.15);\n",
              "      filter: drop-shadow(0px 1px 2px rgba(0, 0, 0, 0.3));\n",
              "      fill: #FFFFFF;\n",
              "    }\n",
              "  </style>\n",
              "\n",
              "      <script>\n",
              "        const buttonEl =\n",
              "          document.querySelector('#df-a8ff5f37-a5c1-4bfc-99b5-7916ef866cd7 button.colab-df-convert');\n",
              "        buttonEl.style.display =\n",
              "          google.colab.kernel.accessAllowed ? 'block' : 'none';\n",
              "\n",
              "        async function convertToInteractive(key) {\n",
              "          const element = document.querySelector('#df-a8ff5f37-a5c1-4bfc-99b5-7916ef866cd7');\n",
              "          const dataTable =\n",
              "            await google.colab.kernel.invokeFunction('convertToInteractive',\n",
              "                                                     [key], {});\n",
              "          if (!dataTable) return;\n",
              "\n",
              "          const docLinkHtml = 'Like what you see? Visit the ' +\n",
              "            '<a target=\"_blank\" href=https://colab.research.google.com/notebooks/data_table.ipynb>data table notebook</a>'\n",
              "            + ' to learn more about interactive tables.';\n",
              "          element.innerHTML = '';\n",
              "          dataTable['output_type'] = 'display_data';\n",
              "          await google.colab.output.renderOutput(dataTable, element);\n",
              "          const docLink = document.createElement('div');\n",
              "          docLink.innerHTML = docLinkHtml;\n",
              "          element.appendChild(docLink);\n",
              "        }\n",
              "      </script>\n",
              "    </div>\n",
              "  </div>\n",
              "  "
            ]
          },
          "metadata": {},
          "execution_count": 29
        }
      ]
    },
    {
      "cell_type": "markdown",
      "metadata": {
        "id": "kTLYQW4prAVE"
      },
      "source": [
        "# 차원 축소"
      ]
    },
    {
      "cell_type": "markdown",
      "metadata": {
        "id": "Kbi1kaY-rAVE"
      },
      "source": [
        "## 특성 추출과 차원 축소"
      ]
    },
    {
      "cell_type": "markdown",
      "metadata": {
        "id": "RLxXsplyrAVE"
      },
      "source": [
        "### 주성분 분석(Principal Component Analysis, PCA)"
      ]
    },
    {
      "cell_type": "code",
      "execution_count": 30,
      "metadata": {
        "id": "D5LXNhVfrAVE",
        "outputId": "f9107196-25fc-4a34-8774-b22dade94e38",
        "colab": {
          "base_uri": "https://localhost:8080/"
        }
      },
      "outputs": [
        {
          "output_type": "stream",
          "name": "stdout",
          "text": [
            "원본 특성 개수: 64\n",
            "줄어든 특성 개수: 54\n"
          ]
        }
      ],
      "source": [
        "# 라이브러리를 임포트합니다.\n",
        "from sklearn.preprocessing import StandardScaler\n",
        "from sklearn.decomposition import PCA\n",
        "from sklearn import datasets\n",
        "\n",
        "# 데이터를 로드합니다.\n",
        "digits = datasets.load_digits()\n",
        "\n",
        "# 특성 행렬을 표준화 처리합니다.\n",
        "features = StandardScaler().fit_transform(digits.data)\n",
        "\n",
        "# 99%의 분산을 유지하도록 PCA 클래스 객체를 만듭니다.\n",
        "pca = PCA(n_components=0.99, whiten=True)\n",
        "\n",
        "# PCA를 수행합니다.\n",
        "features_pca = pca.fit_transform(features)\n",
        "\n",
        "# 결과를 확인합니다.\n",
        "print(\"원본 특성 개수:\", features.shape[1])\n",
        "print(\"줄어든 특성 개수:\", features_pca.shape[1])"
      ]
    },
    {
      "cell_type": "code",
      "execution_count": 31,
      "metadata": {
        "id": "0YSGJYfurAVE",
        "outputId": "1cbeb638-c994-4304-cbff-cbee61627404",
        "colab": {
          "base_uri": "https://localhost:8080/",
          "height": 265
        }
      },
      "outputs": [
        {
          "output_type": "display_data",
          "data": {
            "text/plain": [
              "<Figure size 432x288 with 1 Axes>"
            ],
            "image/png": "[encoded data removed]"
          },
          "metadata": {
            "needs_background": "light"
          }
        }
      ],
      "source": [
        "import matplotlib.pyplot as plt\n",
        "\n",
        "plt.scatter(features_pca[:, 0], features_pca[:, 1])\n",
        "plt.show()"
      ]
    },
    {
      "cell_type": "code",
      "execution_count": 32,
      "metadata": {
        "id": "ZIQFG4CTrAVE",
        "outputId": "0cc13af6-fe09-4ec7-987b-d69635bf1310",
        "colab": {
          "base_uri": "https://localhost:8080/",
          "height": 265
        }
      },
      "outputs": [
        {
          "output_type": "display_data",
          "data": {
            "text/plain": [
              "<Figure size 432x288 with 1 Axes>"
            ],
            "image/png": "[encoded data removed]"
          },
          "metadata": {
            "needs_background": "light"
          }
        }
      ],
      "source": [
        "pca_nowhiten = PCA(n_components=0.99)\n",
        "features_nowhiten = pca_nowhiten.fit_transform(features)\n",
        "plt.scatter(features_nowhiten[:, 0], features_nowhiten[:, 1])\n",
        "plt.show()"
      ]
    },
    {
      "cell_type": "code",
      "execution_count": 33,
      "metadata": {
        "id": "N4yXm4U6rAVE",
        "outputId": "11857eed-9ad8-4906-8b7b-bd0e5136da98",
        "colab": {
          "base_uri": "https://localhost:8080/"
        }
      },
      "outputs": [
        {
          "output_type": "execute_result",
          "data": {
            "text/plain": [
              "(54, 64)"
            ]
          },
          "metadata": {},
          "execution_count": 33
        }
      ],
      "source": [
        "pca_nowhiten.components_.shape"
      ]
    },
    {
      "cell_type": "code",
      "execution_count": 34,
      "metadata": {
        "id": "GIBjih7prAVF",
        "outputId": "df1f4a86-040a-4838-ff81-c45a55e6e4ed",
        "colab": {
          "base_uri": "https://localhost:8080/"
        }
      },
      "outputs": [
        {
          "output_type": "execute_result",
          "data": {
            "text/plain": [
              "True"
            ]
          },
          "metadata": {},
          "execution_count": 34
        }
      ],
      "source": [
        "import numpy as np\n",
        "\n",
        "np.allclose(features_nowhiten, np.dot(features, pca_nowhiten.components_.T))"
      ]
    },
    {
      "cell_type": "code",
      "execution_count": 35,
      "metadata": {
        "id": "JL3UytijrAVF",
        "outputId": "e213a5b6-ec65-4afe-875f-40c9c03e69a0",
        "colab": {
          "base_uri": "https://localhost:8080/",
          "height": 265
        }
      },
      "outputs": [
        {
          "output_type": "display_data",
          "data": {
            "text/plain": [
              "<Figure size 432x288 with 1 Axes>"
            ],
            "image/png": "[encoded data removed]"
          },
          "metadata": {
            "needs_background": "light"
          }
        }
      ],
      "source": [
        "pca = PCA(whiten=True).fit(features)\n",
        "plt.plot(np.cumsum(pca.explained_variance_ratio_))\n",
        "plt.show()"
      ]
    },
    {
      "cell_type": "code",
      "execution_count": 36,
      "metadata": {
        "id": "FD_jblZFrAVF",
        "outputId": "06f471fa-4b33-4b3f-b4cc-c6b37c074e19",
        "colab": {
          "base_uri": "https://localhost:8080/",
          "height": 265
        }
      },
      "outputs": [
        {
          "output_type": "display_data",
          "data": {
            "text/plain": [
              "<Figure size 432x288 with 1 Axes>"
            ],
            "image/png": "[encoded data removed]"
          },
          "metadata": {
            "needs_background": "light"
          }
        }
      ],
      "source": [
        "# 표준화하지 않은 원본 데이터를 사용합니다.\n",
        "pca.fit(digits.data)\n",
        "plt.plot(np.cumsum(pca.explained_variance_ratio_))\n",
        "plt.show()"
      ]
    },
    {
      "cell_type": "markdown",
      "metadata": {
        "id": "sJtgZE3-rAVF"
      },
      "source": [
        "### 선형적으로 구분되지 않는 데이터의 차원을 축소하기"
      ]
    },
    {
      "cell_type": "markdown",
      "metadata": {
        "id": "ex8B5JE1rAVF"
      },
      "source": [
        "#### Kernel trick을 사용한 주성분 분석\n"
      ]
    },
    {
      "cell_type": "code",
      "execution_count": 37,
      "metadata": {
        "id": "CtuaEbMmrAVF",
        "outputId": "fd14c243-113a-4cb8-bc46-28643049f784",
        "colab": {
          "base_uri": "https://localhost:8080/"
        }
      },
      "outputs": [
        {
          "output_type": "stream",
          "name": "stdout",
          "text": [
            "원본 특성 개수: 2\n",
            "줄어든 특성 개수: 1\n"
          ]
        }
      ],
      "source": [
        "# 라이브러리를 임포트합니다.\n",
        "from sklearn.decomposition import KernelPCA\n",
        "from sklearn.datasets import make_circles\n",
        "\n",
        "# 선형적으로 구분되지 않는 데이터를 만듭니다.\n",
        "features, _ = make_circles(n_samples=1000, random_state=1, noise=0.1, factor=0.1)\n",
        "\n",
        "# 방사 기저 함수(radius basis function, RBF)를 사용하여 커널 PCA를 적용합니다.\n",
        "kpca = KernelPCA(kernel=\"rbf\", gamma=15, n_components=1)\n",
        "features_kpca = kpca.fit_transform(features)\n",
        "\n",
        "print(\"원본 특성 개수:\", features.shape[1])\n",
        "print(\"줄어든 특성 개수:\", features_kpca.shape[1])"
      ]
    },
    {
      "cell_type": "code",
      "execution_count": 38,
      "metadata": {
        "id": "7_PTstVdrAVG",
        "outputId": "7be91213-b1c1-43fb-bef2-536a948438d8",
        "colab": {
          "base_uri": "https://localhost:8080/",
          "height": 165
        }
      },
      "outputs": [
        {
          "output_type": "error",
          "ename": "AttributeError",
          "evalue": "ignored",
          "traceback": [
            "\u001b[0;31m---------------------------------------------------------------------------\u001b[0m",
            "\u001b[0;31mAttributeError\u001b[0m                            Traceback (most recent call last)",
            "\u001b[0;32m<ipython-input-38-c4ec15340a6e>\u001b[0m in \u001b[0;36m<module>\u001b[0;34m()\u001b[0m\n\u001b[0;32m----> 1\u001b[0;31m \u001b[0mkpca\u001b[0m\u001b[0;34m.\u001b[0m\u001b[0mcomponents_\u001b[0m\u001b[0;34m\u001b[0m\u001b[0;34m\u001b[0m\u001b[0m\n\u001b[0m",
            "\u001b[0;31mAttributeError\u001b[0m: 'KernelPCA' object has no attribute 'components_'"
          ]
        }
      ],
      "source": [
        "kpca.components_"
      ]
    },
    {
      "cell_type": "markdown",
      "metadata": {
        "id": "uLjU4s43rAVG"
      },
      "source": [
        "### 클래스 분리를 최대화함으로써 특성을 줄이기"
      ]
    },
    {
      "cell_type": "markdown",
      "metadata": {
        "id": "QZAn_2rmrAVG"
      },
      "source": [
        "#### LDA(linear discriminant analysis)\n"
      ]
    },
    {
      "cell_type": "code",
      "execution_count": 39,
      "metadata": {
        "id": "XQ6Zeh38rAVG",
        "outputId": "7f759fc4-d21a-412e-ab62-f7e5b6fa9d25",
        "colab": {
          "base_uri": "https://localhost:8080/"
        }
      },
      "outputs": [
        {
          "output_type": "stream",
          "name": "stdout",
          "text": [
            "원본 특성 개수: 4\n",
            "줄어든 특성 개수: 1\n"
          ]
        }
      ],
      "source": [
        "# 라이브러리를 임포트합니다.\n",
        "from sklearn import datasets\n",
        "from sklearn.discriminant_analysis import LinearDiscriminantAnalysis\n",
        "\n",
        "# 붓꽃 데이터셋을 로드합니다.\n",
        "iris = datasets.load_iris()\n",
        "features = iris.data\n",
        "target = iris.target\n",
        "\n",
        "# LDA 객체를 만들고 실행하여 특성을 변환합니다.\n",
        "lda = LinearDiscriminantAnalysis(n_components=1)\n",
        "features_lda = lda.fit(features, target).transform(features)\n",
        "\n",
        "# 특성 개수를 출력합니다.\n",
        "print(\"원본 특성 개수:\", features.shape[1])\n",
        "print(\"줄어든 특성 개수:\", features_lda.shape[1])"
      ]
    },
    {
      "cell_type": "code",
      "execution_count": 40,
      "metadata": {
        "id": "Td7idzCurAVG",
        "outputId": "201b7980-9bef-4659-fd55-a30135f20284",
        "colab": {
          "base_uri": "https://localhost:8080/"
        }
      },
      "outputs": [
        {
          "output_type": "execute_result",
          "data": {
            "text/plain": [
              "array([0.9912126])"
            ]
          },
          "metadata": {},
          "execution_count": 40
        }
      ],
      "source": [
        "lda.explained_variance_ratio_"
      ]
    },
    {
      "cell_type": "code",
      "execution_count": 41,
      "metadata": {
        "id": "FKQRsQOwrAVG",
        "outputId": "dc7c2470-85b0-49bf-9d07-d6f714f9a7c1",
        "colab": {
          "base_uri": "https://localhost:8080/"
        }
      },
      "outputs": [
        {
          "output_type": "execute_result",
          "data": {
            "text/plain": [
              "1"
            ]
          },
          "metadata": {},
          "execution_count": 41
        }
      ],
      "source": [
        "# LDA를 만들고 실행합니다.\n",
        "lda = LinearDiscriminantAnalysis(n_components=None)\n",
        "features_lda = lda.fit(features, target)\n",
        "\n",
        "# 설명된 분산의 비율이 담긴 배열을 저장합니다.\n",
        "lda_var_ratios = lda.explained_variance_ratio_\n",
        "\n",
        "# 함수를 만듭니다.\n",
        "def select_n_components(var_ratio, goal_var: float) -> int:\n",
        "    # 설명된 분산의 초기값을 지정합니다.\n",
        "    total_variance = 0.0\n",
        "\n",
        "    # 특성 개수의 초깃값을 지정합니다.\n",
        "    n_components = 0\n",
        "\n",
        "    # 각 특성의 설명된 분산을 순회합니다.\n",
        "    for explained_variance in var_ratio:\n",
        "\n",
        "        # 설명된 분산 값을 누적합니다.\n",
        "        total_variance += explained_variance\n",
        "\n",
        "        # 성분 개수를 카운트합니다.\n",
        "        n_components += 1\n",
        "\n",
        "        # 설명된 분산이 목표치에 도달하면 \n",
        "        if total_variance >= goal_var:\n",
        "            # 반복을 종료합니다.\n",
        "            break\n",
        "\n",
        "    # 성분 개수를 반환합니다.\n",
        "    return n_components\n",
        "\n",
        "# 함수를 실행합니다.\n",
        "select_n_components(lda_var_ratios, 0.95)"
      ]
    },
    {
      "cell_type": "markdown",
      "metadata": {
        "id": "ezXRebsArAVG"
      },
      "source": [
        "### NMF를 사용한 특성 축소"
      ]
    },
    {
      "cell_type": "code",
      "execution_count": 42,
      "metadata": {
        "id": "e6uLN1PJrAVH",
        "outputId": "81253ba4-811a-4843-87d9-71050552ade5",
        "colab": {
          "base_uri": "https://localhost:8080/"
        }
      },
      "outputs": [
        {
          "output_type": "stream",
          "name": "stderr",
          "text": [
            "/usr/local/lib/python3.7/dist-packages/sklearn/decomposition/_nmf.py:294: FutureWarning: The 'init' value, when 'init=None' and n_components is less than n_samples and n_features, will be changed from 'nndsvd' to 'nndsvda' in 1.1 (renaming of 0.26).\n",
            "  FutureWarning,\n"
          ]
        },
        {
          "output_type": "stream",
          "name": "stdout",
          "text": [
            "원본 특성 개수: 64\n",
            "줄어든 특성 개수: 10\n"
          ]
        },
        {
          "output_type": "stream",
          "name": "stderr",
          "text": [
            "/usr/local/lib/python3.7/dist-packages/sklearn/decomposition/_nmf.py:1641: ConvergenceWarning: Maximum number of iterations 200 reached. Increase it to improve convergence.\n",
            "  ConvergenceWarning,\n"
          ]
        }
      ],
      "source": [
        "# 라이브러리를 임포트합니다.\n",
        "from sklearn.decomposition import NMF\n",
        "from sklearn import datasets\n",
        "\n",
        "# 데이터를 로드합니다.\n",
        "digits = datasets.load_digits()\n",
        "\n",
        "# 특성 행렬을 로드합니다.\n",
        "features = digits.data\n",
        "\n",
        "# NMF를 만들고 학습하고 적용합니다.\n",
        "nmf = NMF(n_components=10, random_state=1)\n",
        "features_nmf = nmf.fit_transform(features)\n",
        "\n",
        "# 결과를 출력합니다.\n",
        "print(\"원본 특성 개수:\", features.shape[1])\n",
        "print(\"줄어든 특성 개수:\", features_nmf.shape[1])"
      ]
    },
    {
      "cell_type": "code",
      "execution_count": 43,
      "metadata": {
        "id": "9VkTOm9NrAVH",
        "outputId": "094b3d15-d051-4e27-d6c9-2e70e48c8118",
        "colab": {
          "base_uri": "https://localhost:8080/"
        }
      },
      "outputs": [
        {
          "output_type": "execute_result",
          "data": {
            "text/plain": [
              "(10, 64)"
            ]
          },
          "metadata": {},
          "execution_count": 43
        }
      ],
      "source": [
        "nmf.components_.shape"
      ]
    },
    {
      "cell_type": "code",
      "execution_count": 44,
      "metadata": {
        "id": "cUgd0ExmrAVH",
        "outputId": "e72d06ff-b82a-4c3a-db68-bce6bd711d9d",
        "colab": {
          "base_uri": "https://localhost:8080/"
        }
      },
      "outputs": [
        {
          "output_type": "execute_result",
          "data": {
            "text/plain": [
              "True"
            ]
          },
          "metadata": {},
          "execution_count": 44
        }
      ],
      "source": [
        "np.all(nmf.components_ >= 0)"
      ]
    },
    {
      "cell_type": "code",
      "execution_count": 45,
      "metadata": {
        "id": "MLQTdLFUrAVH",
        "outputId": "9d028828-03ae-431d-d840-f67e4a40d682",
        "colab": {
          "base_uri": "https://localhost:8080/"
        }
      },
      "outputs": [
        {
          "output_type": "execute_result",
          "data": {
            "text/plain": [
              "-0.2006204374412819"
            ]
          },
          "metadata": {},
          "execution_count": 45
        }
      ],
      "source": [
        "np.mean(features - np.dot(features_nmf, nmf.components_))"
      ]
    },
    {
      "cell_type": "code",
      "execution_count": 46,
      "metadata": {
        "id": "Ja66SpiqrAVH",
        "colab": {
          "base_uri": "https://localhost:8080/"
        },
        "outputId": "a91d8bda-ca73-4ec2-c368-248210ccd110"
      },
      "outputs": [
        {
          "output_type": "stream",
          "name": "stderr",
          "text": [
            "/usr/local/lib/python3.7/dist-packages/sklearn/decomposition/_nmf.py:294: FutureWarning: The 'init' value, when 'init=None' and n_components is less than n_samples and n_features, will be changed from 'nndsvd' to 'nndsvda' in 1.1 (renaming of 0.26).\n",
            "  FutureWarning,\n"
          ]
        }
      ],
      "source": [
        "nmf_mu = NMF(n_components=10, solver='mu', random_state=1)\n",
        "features_nmf_mu = nmf_mu.fit_transform(features)"
      ]
    },
    {
      "cell_type": "code",
      "execution_count": 47,
      "metadata": {
        "id": "TMH273kZrAVH",
        "outputId": "ae55ebf2-3bfd-467e-a9d2-5461dc13b523",
        "colab": {
          "base_uri": "https://localhost:8080/"
        }
      },
      "outputs": [
        {
          "output_type": "execute_result",
          "data": {
            "text/plain": [
              "-0.12629945585681118"
            ]
          },
          "metadata": {},
          "execution_count": 47
        }
      ],
      "source": [
        "np.mean(features - np.dot(features_nmf_mu, nmf_mu.components_))"
      ]
    },
    {
      "cell_type": "markdown",
      "metadata": {
        "id": "XujpOJ7prAVH"
      },
      "source": [
        "### TSVD를 사용한 특성 축소"
      ]
    },
    {
      "cell_type": "code",
      "execution_count": 48,
      "metadata": {
        "id": "3dMge2ZArAVI",
        "outputId": "739e51d9-c5cd-461e-d568-cc5fbde98200",
        "colab": {
          "base_uri": "https://localhost:8080/"
        }
      },
      "outputs": [
        {
          "output_type": "stream",
          "name": "stdout",
          "text": [
            "원본 특성 개수: 64\n",
            "줄어든 특성 개수: 10\n"
          ]
        }
      ],
      "source": [
        "# 라이브러리를 임포트합니다.\n",
        "from sklearn.preprocessing import StandardScaler\n",
        "from sklearn.decomposition import TruncatedSVD\n",
        "from scipy.sparse import csr_matrix\n",
        "from sklearn import datasets\n",
        "import numpy as np\n",
        "\n",
        "# 데이터를 로드합니다.\n",
        "digits = datasets.load_digits()\n",
        "\n",
        "# 특성 행렬을 표준화 처리합니다.\n",
        "features = StandardScaler().fit_transform(digits.data)\n",
        "\n",
        "# 희소 행렬을 만듭니다.\n",
        "features_sparse = csr_matrix(features)\n",
        "\n",
        "# TSVD 객체를 만듭니다.\n",
        "tsvd = TruncatedSVD(n_components=10)\n",
        "\n",
        "# 희소 행렬에 TSVD를 적용합니다.\n",
        "features_sparse_tsvd = tsvd.fit(features_sparse).transform(features_sparse)\n",
        "\n",
        "# 결과를 출력합니다.\n",
        "print(\"원본 특성 개수:\", features_sparse.shape[1])\n",
        "print(\"줄어든 특성 개수:\", features_sparse_tsvd.shape[1])"
      ]
    },
    {
      "cell_type": "code",
      "execution_count": 49,
      "metadata": {
        "id": "6x8-kGYtrAVI",
        "outputId": "1a7f8f29-5a02-4ddc-d081-412cb05f1380",
        "colab": {
          "base_uri": "https://localhost:8080/"
        }
      },
      "outputs": [
        {
          "output_type": "execute_result",
          "data": {
            "text/plain": [
              "0.3003938539103364"
            ]
          },
          "metadata": {},
          "execution_count": 49
        }
      ],
      "source": [
        "# 처음 세 개의 성분이 설명하는 분산의 비율 합\n",
        "tsvd.explained_variance_ratio_[0:3].sum()"
      ]
    },
    {
      "cell_type": "code",
      "execution_count": 50,
      "metadata": {
        "id": "k9V077qKrAVI",
        "outputId": "66ec44ef-84b2-486d-aa72-f5b7c7e62bac",
        "colab": {
          "base_uri": "https://localhost:8080/"
        }
      },
      "outputs": [
        {
          "output_type": "execute_result",
          "data": {
            "text/plain": [
              "40"
            ]
          },
          "metadata": {},
          "execution_count": 50
        }
      ],
      "source": [
        "# 특성 개수보다 하나 작은 TSVD를 만들고 실행합니다.\n",
        "tsvd = TruncatedSVD(n_components=features_sparse.shape[1]-1)\n",
        "features_tsvd = tsvd.fit(features)\n",
        "\n",
        "# 설명된 분산을 리스트에 저장합니다.\n",
        "tsvd_var_ratios = tsvd.explained_variance_ratio_\n",
        "\n",
        "# 함수를 만듭니다.\n",
        "def select_n_components(var_ratio, goal_var):\n",
        "    # 설명된 분산을 초기화합니다.\n",
        "    total_variance = 0.0\n",
        "\n",
        "    # 특성 개수를 초기화합니다.\n",
        "    n_components = 0\n",
        "\n",
        "    # 특성의 설명된 분산을 순환합니다.\n",
        "    for explained_variance in var_ratio:\n",
        "\n",
        "        # 설명된 분산을 누적합니다.\n",
        "        total_variance += explained_variance\n",
        "\n",
        "        # 성분 개수를 카운트합니다.\n",
        "        n_components += 1\n",
        "\n",
        "        # 설명된 분산의 목표에 도달하면\n",
        "        if total_variance >= goal_var:\n",
        "            # 반복을 마칩니다.\n",
        "            break\n",
        "\n",
        "    # 성분 개수를 반환합니다.\n",
        "    return n_components\n",
        "\n",
        "# 함수를 실행합니다.\n",
        "select_n_components(tsvd_var_ratios, 0.95)"
      ]
    },
    {
      "cell_type": "code",
      "execution_count": 51,
      "metadata": {
        "id": "ocKQaDlfrAVI"
      },
      "outputs": [],
      "source": [
        "features = digits.data - np.mean(digits.data, axis=0)\n",
        "\n",
        "pca = PCA(n_components=40, random_state=1)\n",
        "features_pca = pca.fit_transform(features)"
      ]
    },
    {
      "cell_type": "code",
      "execution_count": 52,
      "metadata": {
        "id": "gNXf7-lCrAVI"
      },
      "outputs": [],
      "source": [
        "tsvd = TruncatedSVD(n_components=40, random_state=1)\n",
        "features_tsvd = tsvd.fit_transform(features)"
      ]
    },
    {
      "cell_type": "code",
      "execution_count": 53,
      "metadata": {
        "id": "jobYnwCdrAVI",
        "outputId": "0d8e75fd-0e65-4ebd-9577-2d3dd22a82a0",
        "colab": {
          "base_uri": "https://localhost:8080/"
        }
      },
      "outputs": [
        {
          "output_type": "execute_result",
          "data": {
            "text/plain": [
              "0.002201522881438711"
            ]
          },
          "metadata": {},
          "execution_count": 53
        }
      ],
      "source": [
        "np.max(np.abs(features_pca - features_tsvd))"
      ]
    },
    {
      "cell_type": "markdown",
      "metadata": {
        "id": "SgpLikxdrAVJ"
      },
      "source": [
        "## 특성 선택과 차원 축소"
      ]
    },
    {
      "cell_type": "markdown",
      "metadata": {
        "id": "Ofj9D9sjrAVJ"
      },
      "source": [
        "### 분산을 기준으로 수치 특성 선택"
      ]
    },
    {
      "cell_type": "code",
      "execution_count": 54,
      "metadata": {
        "id": "UER4GaNnrAVJ",
        "outputId": "c1f5e08c-2545-45cb-f4b0-fb1668fa8c56",
        "colab": {
          "base_uri": "https://localhost:8080/"
        }
      },
      "outputs": [
        {
          "output_type": "execute_result",
          "data": {
            "text/plain": [
              "array([[5.1, 1.4, 0.2],\n",
              "       [4.9, 1.4, 0.2],\n",
              "       [4.7, 1.3, 0.2]])"
            ]
          },
          "metadata": {},
          "execution_count": 54
        }
      ],
      "source": [
        "# 라이브러리를 임포트합니다.\n",
        "from sklearn import datasets\n",
        "from sklearn.feature_selection import VarianceThreshold\n",
        "\n",
        "# 예제 데이터를 로드합니다.\n",
        "iris = datasets.load_iris()\n",
        "\n",
        "# 특성과 타깃을 만듭니다.\n",
        "features = iris.data\n",
        "target = iris.target\n",
        "\n",
        "# 기준값을 만듭니다.\n",
        "thresholder = VarianceThreshold(threshold=.5)\n",
        "\n",
        "# 기준값보다 높은 특성을 선택합니다.\n",
        "features_high_variance = thresholder.fit_transform(features)\n",
        "\n",
        "# 선택한 특성을 확인합니다.\n",
        "features_high_variance[0:3]"
      ]
    },
    {
      "cell_type": "code",
      "execution_count": 55,
      "metadata": {
        "id": "c1GuDWMBrAVJ",
        "outputId": "41f2909f-9b84-4e17-b3d8-36236815ddc2",
        "colab": {
          "base_uri": "https://localhost:8080/"
        }
      },
      "outputs": [
        {
          "output_type": "execute_result",
          "data": {
            "text/plain": [
              "array([0.68112222, 0.18871289, 3.09550267, 0.57713289])"
            ]
          },
          "metadata": {},
          "execution_count": 55
        }
      ],
      "source": [
        "# 분산을 확인합니다.\n",
        "thresholder.variances_"
      ]
    },
    {
      "cell_type": "code",
      "execution_count": 56,
      "metadata": {
        "id": "tq3NbBnvrAVJ",
        "outputId": "4db60ed8-8f6b-4e9c-819e-7d4d60a54272",
        "colab": {
          "base_uri": "https://localhost:8080/"
        }
      },
      "outputs": [
        {
          "output_type": "execute_result",
          "data": {
            "text/plain": [
              "array([1., 1., 1., 1.])"
            ]
          },
          "metadata": {},
          "execution_count": 56
        }
      ],
      "source": [
        "# 라이브러리를 임포트합니다.\n",
        "from sklearn.preprocessing import StandardScaler\n",
        "\n",
        "# 특성 행렬을 표준화합니다.\n",
        "scaler = StandardScaler()\n",
        "features_std = scaler.fit_transform(features)\n",
        "\n",
        "# 각 특성의 분산을 계산합니다.\n",
        "selector = VarianceThreshold()\n",
        "selector.fit(features_std).variances_"
      ]
    },
    {
      "cell_type": "markdown",
      "metadata": {
        "id": "SZQNvVpfrAVJ"
      },
      "source": [
        "### 분산을 기준으로 이진 특성 선택"
      ]
    },
    {
      "cell_type": "code",
      "execution_count": 57,
      "metadata": {
        "id": "4wm65S9VrAVK",
        "outputId": "3f127dad-67af-4c9f-8634-2e605dfc8194",
        "colab": {
          "base_uri": "https://localhost:8080/"
        }
      },
      "outputs": [
        {
          "output_type": "execute_result",
          "data": {
            "text/plain": [
              "array([[0],\n",
              "       [1],\n",
              "       [0],\n",
              "       [1],\n",
              "       [0]])"
            ]
          },
          "metadata": {},
          "execution_count": 57
        }
      ],
      "source": [
        "# 라이브러리를 임포트합니다.\n",
        "from sklearn.feature_selection import VarianceThreshold\n",
        "\n",
        "# 예제 특성 행렬을 만듭니다.\n",
        "# 특성 0: 80%가 클래스 0\n",
        "# 특성 1: 80%가 클래스 1\n",
        "# 특성 2: 60%가 클래스 0, 40%는 클래스 1\n",
        "features = [[0, 1, 0],\n",
        "            [0, 1, 1],\n",
        "            [0, 1, 0],\n",
        "            [0, 1, 1],\n",
        "            [1, 0, 0]]\n",
        "\n",
        "# 분산을 기준으로 선택합니다.\n",
        "thresholder = VarianceThreshold(threshold=(.75 * (1 - .75)))\n",
        "thresholder.fit_transform(features)"
      ]
    },
    {
      "cell_type": "code",
      "execution_count": 58,
      "metadata": {
        "id": "fHieh0ekrAVK",
        "outputId": "949984cb-e214-4fe7-9f41-468e9161d0df",
        "colab": {
          "base_uri": "https://localhost:8080/"
        }
      },
      "outputs": [
        {
          "output_type": "execute_result",
          "data": {
            "text/plain": [
              "array([0.16, 0.16, 0.24])"
            ]
          },
          "metadata": {},
          "execution_count": 58
        }
      ],
      "source": [
        "thresholder.variances_"
      ]
    },
    {
      "cell_type": "code",
      "execution_count": 59,
      "metadata": {
        "id": "jMBI1LcarAVK",
        "outputId": "dd50889d-fad4-4349-95e0-5317c1683f95",
        "colab": {
          "base_uri": "https://localhost:8080/"
        }
      },
      "outputs": [
        {
          "output_type": "execute_result",
          "data": {
            "text/plain": [
              "array([0.16, 0.16, 0.24])"
            ]
          },
          "metadata": {},
          "execution_count": 59
        }
      ],
      "source": [
        "import numpy as np\n",
        "np.var(features, axis=0)"
      ]
    },
    {
      "cell_type": "markdown",
      "metadata": {
        "id": "d68vHjKGrAVK"
      },
      "source": [
        "### 상관관계가 큰 특성"
      ]
    },
    {
      "cell_type": "code",
      "execution_count": 60,
      "metadata": {
        "id": "Gz_7NUSArAVK",
        "outputId": "65529b8b-0c60-467f-8218-e22c0426a348",
        "colab": {
          "base_uri": "https://localhost:8080/",
          "height": 198
        }
      },
      "outputs": [
        {
          "output_type": "stream",
          "name": "stderr",
          "text": [
            "/usr/local/lib/python3.7/dist-packages/ipykernel_launcher.py:24: DeprecationWarning: `np.bool` is a deprecated alias for the builtin `bool`. To silence this warning, use `bool` by itself. Doing this will not modify any behavior and is safe. If you specifically wanted the numpy scalar type, use `np.bool_` here.\n",
            "Deprecated in NumPy 1.20; for more details and guidance: https://numpy.org/devdocs/release/1.20.0-notes.html#deprecations\n"
          ]
        },
        {
          "output_type": "execute_result",
          "data": {
            "text/plain": [
              "   0  2\n",
              "0  1  1\n",
              "1  2  0\n",
              "2  3  1"
            ],
            "text/html": [
              "\n",
              "  <div id=\"df-d339f388-7f4a-4aa9-ad8a-68cfac9659a7\">\n",
              "    <div class=\"colab-df-container\">\n",
              "      <div>\n",
              "<style scoped>\n",
              "    .dataframe tbody tr th:only-of-type {\n",
              "        vertical-align: middle;\n",
              "    }\n",
              "\n",
              "    .dataframe tbody tr th {\n",
              "        vertical-align: top;\n",
              "    }\n",
              "\n",
              "    .dataframe thead th {\n",
              "        text-align: right;\n",
              "    }\n",
              "</style>\n",
              "<table border=\"1\" class=\"dataframe\">\n",
              "  <thead>\n",
              "    <tr style=\"text-align: right;\">\n",
              "      <th></th>\n",
              "      <th>0</th>\n",
              "      <th>2</th>\n",
              "    </tr>\n",
              "  </thead>\n",
              "  <tbody>\n",
              "    <tr>\n",
              "      <th>0</th>\n",
              "      <td>1</td>\n",
              "      <td>1</td>\n",
              "    </tr>\n",
              "    <tr>\n",
              "      <th>1</th>\n",
              "      <td>2</td>\n",
              "      <td>0</td>\n",
              "    </tr>\n",
              "    <tr>\n",
              "      <th>2</th>\n",
              "      <td>3</td>\n",
              "      <td>1</td>\n",
              "    </tr>\n",
              "  </tbody>\n",
              "</table>\n",
              "</div>\n",
              "      <button class=\"colab-df-convert\" onclick=\"convertToInteractive('df-d339f388-7f4a-4aa9-ad8a-68cfac9659a7')\"\n",
              "              title=\"Convert this dataframe to an interactive table.\"\n",
              "              style=\"display:none;\">\n",
              "        \n",
              "  <svg xmlns=\"http://www.w3.org/2000/svg\" height=\"24px\"viewBox=\"0 0 24 24\"\n",
              "       width=\"24px\">\n",
              "    <path d=\"M0 0h24v24H0V0z\" fill=\"none\"/>\n",
              "    <path d=\"M18.56 5.44l.94 2.06.94-2.06 2.06-.94-2.06-.94-.94-2.06-.94 2.06-2.06.94zm-11 1L8.5 8.5l.94-2.06 2.06-.94-2.06-.94L8.5 2.5l-.94 2.06-2.06.94zm10 10l.94 2.06.94-2.06 2.06-.94-2.06-.94-.94-2.06-.94 2.06-2.06.94z\"/><path d=\"M17.41 7.96l-1.37-1.37c-.4-.4-.92-.59-1.43-.59-.52 0-1.04.2-1.43.59L10.3 9.45l-7.72 7.72c-.78.78-.78 2.05 0 2.83L4 21.41c.39.39.9.59 1.41.59.51 0 1.02-.2 1.41-.59l7.78-7.78 2.81-2.81c.8-.78.8-2.07 0-2.86zM5.41 20L4 18.59l7.72-7.72 1.47 1.35L5.41 20z\"/>\n",
              "  </svg>\n",
              "      </button>\n",
              "      \n",
              "  <style>\n",
              "    .colab-df-container {\n",
              "      display:flex;\n",
              "      flex-wrap:wrap;\n",
              "      gap: 12px;\n",
              "    }\n",
              "\n",
              "    .colab-df-convert {\n",
              "      background-color: #E8F0FE;\n",
              "      border: none;\n",
              "      border-radius: 50%;\n",
              "      cursor: pointer;\n",
              "      display: none;\n",
              "      fill: #1967D2;\n",
              "      height: 32px;\n",
              "      padding: 0 0 0 0;\n",
              "      width: 32px;\n",
              "    }\n",
              "\n",
              "    .colab-df-convert:hover {\n",
              "      background-color: #E2EBFA;\n",
              "      box-shadow: 0px 1px 2px rgba(60, 64, 67, 0.3), 0px 1px 3px 1px rgba(60, 64, 67, 0.15);\n",
              "      fill: #174EA6;\n",
              "    }\n",
              "\n",
              "    [theme=dark] .colab-df-convert {\n",
              "      background-color: #3B4455;\n",
              "      fill: #D2E3FC;\n",
              "    }\n",
              "\n",
              "    [theme=dark] .colab-df-convert:hover {\n",
              "      background-color: #434B5C;\n",
              "      box-shadow: 0px 1px 3px 1px rgba(0, 0, 0, 0.15);\n",
              "      filter: drop-shadow(0px 1px 2px rgba(0, 0, 0, 0.3));\n",
              "      fill: #FFFFFF;\n",
              "    }\n",
              "  </style>\n",
              "\n",
              "      <script>\n",
              "        const buttonEl =\n",
              "          document.querySelector('#df-d339f388-7f4a-4aa9-ad8a-68cfac9659a7 button.colab-df-convert');\n",
              "        buttonEl.style.display =\n",
              "          google.colab.kernel.accessAllowed ? 'block' : 'none';\n",
              "\n",
              "        async function convertToInteractive(key) {\n",
              "          const element = document.querySelector('#df-d339f388-7f4a-4aa9-ad8a-68cfac9659a7');\n",
              "          const dataTable =\n",
              "            await google.colab.kernel.invokeFunction('convertToInteractive',\n",
              "                                                     [key], {});\n",
              "          if (!dataTable) return;\n",
              "\n",
              "          const docLinkHtml = 'Like what you see? Visit the ' +\n",
              "            '<a target=\"_blank\" href=https://colab.research.google.com/notebooks/data_table.ipynb>data table notebook</a>'\n",
              "            + ' to learn more about interactive tables.';\n",
              "          element.innerHTML = '';\n",
              "          dataTable['output_type'] = 'display_data';\n",
              "          await google.colab.output.renderOutput(dataTable, element);\n",
              "          const docLink = document.createElement('div');\n",
              "          docLink.innerHTML = docLinkHtml;\n",
              "          element.appendChild(docLink);\n",
              "        }\n",
              "      </script>\n",
              "    </div>\n",
              "  </div>\n",
              "  "
            ]
          },
          "metadata": {},
          "execution_count": 60
        }
      ],
      "source": [
        "# 라이브러리를 임포트합니다.\n",
        "import pandas as pd\n",
        "import numpy as np\n",
        "\n",
        "# 상관관계가 큰 두 개의 특성을 가진 특성 행렬을 만듭니다.\n",
        "features = np.array([[1, 1, 1],\n",
        "                     [2, 2, 0],\n",
        "                     [3, 3, 1],\n",
        "                     [4, 4, 0],\n",
        "                     [5, 5, 1],\n",
        "                     [6, 6, 0],\n",
        "                     [7, 7, 1],\n",
        "                     [8, 7, 0],\n",
        "                     [9, 7, 1]])\n",
        "\n",
        "# 특성 행렬을 DataFrame으로 변환합니다.\n",
        "dataframe = pd.DataFrame(features)\n",
        "\n",
        "# 상관관계 행렬을 만듭니다.\n",
        "corr_matrix = dataframe.corr().abs()\n",
        "\n",
        "# 상관관계 행렬의 상삼각(upper triangle) 행렬을 선택합니다.\n",
        "upper = corr_matrix.where(np.triu(np.ones(corr_matrix.shape),\n",
        "                          k=1).astype(np.bool))\n",
        "\n",
        "# 상관 계수가 0.95보다 큰 특성 열의 인덱스를 찾습니다.\n",
        "to_drop = [column for column in upper.columns if any(upper[column] > 0.95)]\n",
        "\n",
        "# 특성을 삭제합니다.\n",
        "dataframe.drop(dataframe.columns[to_drop], axis=1).head(3)"
      ]
    },
    {
      "cell_type": "code",
      "execution_count": 61,
      "metadata": {
        "id": "Wfvr2HAdrAVK",
        "outputId": "b24d4c6a-18f0-4adb-9bfb-d70f510bdead",
        "colab": {
          "base_uri": "https://localhost:8080/",
          "height": 143
        }
      },
      "outputs": [
        {
          "output_type": "execute_result",
          "data": {
            "text/plain": [
              "          0         1         2\n",
              "0  1.000000  0.976103  0.000000\n",
              "1  0.976103  1.000000 -0.034503\n",
              "2  0.000000 -0.034503  1.000000"
            ],
            "text/html": [
              "\n",
              "  <div id=\"df-c339022b-aab3-473d-8859-7f9c72c60611\">\n",
              "    <div class=\"colab-df-container\">\n",
              "      <div>\n",
              "<style scoped>\n",
              "    .dataframe tbody tr th:only-of-type {\n",
              "        vertical-align: middle;\n",
              "    }\n",
              "\n",
              "    .dataframe tbody tr th {\n",
              "        vertical-align: top;\n",
              "    }\n",
              "\n",
              "    .dataframe thead th {\n",
              "        text-align: right;\n",
              "    }\n",
              "</style>\n",
              "<table border=\"1\" class=\"dataframe\">\n",
              "  <thead>\n",
              "    <tr style=\"text-align: right;\">\n",
              "      <th></th>\n",
              "      <th>0</th>\n",
              "      <th>1</th>\n",
              "      <th>2</th>\n",
              "    </tr>\n",
              "  </thead>\n",
              "  <tbody>\n",
              "    <tr>\n",
              "      <th>0</th>\n",
              "      <td>1.000000</td>\n",
              "      <td>0.976103</td>\n",
              "      <td>0.000000</td>\n",
              "    </tr>\n",
              "    <tr>\n",
              "      <th>1</th>\n",
              "      <td>0.976103</td>\n",
              "      <td>1.000000</td>\n",
              "      <td>-0.034503</td>\n",
              "    </tr>\n",
              "    <tr>\n",
              "      <th>2</th>\n",
              "      <td>0.000000</td>\n",
              "      <td>-0.034503</td>\n",
              "      <td>1.000000</td>\n",
              "    </tr>\n",
              "  </tbody>\n",
              "</table>\n",
              "</div>\n",
              "      <button class=\"colab-df-convert\" onclick=\"convertToInteractive('df-c339022b-aab3-473d-8859-7f9c72c60611')\"\n",
              "              title=\"Convert this dataframe to an interactive table.\"\n",
              "              style=\"display:none;\">\n",
              "        \n",
              "  <svg xmlns=\"http://www.w3.org/2000/svg\" height=\"24px\"viewBox=\"0 0 24 24\"\n",
              "       width=\"24px\">\n",
              "    <path d=\"M0 0h24v24H0V0z\" fill=\"none\"/>\n",
              "    <path d=\"M18.56 5.44l.94 2.06.94-2.06 2.06-.94-2.06-.94-.94-2.06-.94 2.06-2.06.94zm-11 1L8.5 8.5l.94-2.06 2.06-.94-2.06-.94L8.5 2.5l-.94 2.06-2.06.94zm10 10l.94 2.06.94-2.06 2.06-.94-2.06-.94-.94-2.06-.94 2.06-2.06.94z\"/><path d=\"M17.41 7.96l-1.37-1.37c-.4-.4-.92-.59-1.43-.59-.52 0-1.04.2-1.43.59L10.3 9.45l-7.72 7.72c-.78.78-.78 2.05 0 2.83L4 21.41c.39.39.9.59 1.41.59.51 0 1.02-.2 1.41-.59l7.78-7.78 2.81-2.81c.8-.78.8-2.07 0-2.86zM5.41 20L4 18.59l7.72-7.72 1.47 1.35L5.41 20z\"/>\n",
              "  </svg>\n",
              "      </button>\n",
              "      \n",
              "  <style>\n",
              "    .colab-df-container {\n",
              "      display:flex;\n",
              "      flex-wrap:wrap;\n",
              "      gap: 12px;\n",
              "    }\n",
              "\n",
              "    .colab-df-convert {\n",
              "      background-color: #E8F0FE;\n",
              "      border: none;\n",
              "      border-radius: 50%;\n",
              "      cursor: pointer;\n",
              "      display: none;\n",
              "      fill: #1967D2;\n",
              "      height: 32px;\n",
              "      padding: 0 0 0 0;\n",
              "      width: 32px;\n",
              "    }\n",
              "\n",
              "    .colab-df-convert:hover {\n",
              "      background-color: #E2EBFA;\n",
              "      box-shadow: 0px 1px 2px rgba(60, 64, 67, 0.3), 0px 1px 3px 1px rgba(60, 64, 67, 0.15);\n",
              "      fill: #174EA6;\n",
              "    }\n",
              "\n",
              "    [theme=dark] .colab-df-convert {\n",
              "      background-color: #3B4455;\n",
              "      fill: #D2E3FC;\n",
              "    }\n",
              "\n",
              "    [theme=dark] .colab-df-convert:hover {\n",
              "      background-color: #434B5C;\n",
              "      box-shadow: 0px 1px 3px 1px rgba(0, 0, 0, 0.15);\n",
              "      filter: drop-shadow(0px 1px 2px rgba(0, 0, 0, 0.3));\n",
              "      fill: #FFFFFF;\n",
              "    }\n",
              "  </style>\n",
              "\n",
              "      <script>\n",
              "        const buttonEl =\n",
              "          document.querySelector('#df-c339022b-aab3-473d-8859-7f9c72c60611 button.colab-df-convert');\n",
              "        buttonEl.style.display =\n",
              "          google.colab.kernel.accessAllowed ? 'block' : 'none';\n",
              "\n",
              "        async function convertToInteractive(key) {\n",
              "          const element = document.querySelector('#df-c339022b-aab3-473d-8859-7f9c72c60611');\n",
              "          const dataTable =\n",
              "            await google.colab.kernel.invokeFunction('convertToInteractive',\n",
              "                                                     [key], {});\n",
              "          if (!dataTable) return;\n",
              "\n",
              "          const docLinkHtml = 'Like what you see? Visit the ' +\n",
              "            '<a target=\"_blank\" href=https://colab.research.google.com/notebooks/data_table.ipynb>data table notebook</a>'\n",
              "            + ' to learn more about interactive tables.';\n",
              "          element.innerHTML = '';\n",
              "          dataTable['output_type'] = 'display_data';\n",
              "          await google.colab.output.renderOutput(dataTable, element);\n",
              "          const docLink = document.createElement('div');\n",
              "          docLink.innerHTML = docLinkHtml;\n",
              "          element.appendChild(docLink);\n",
              "        }\n",
              "      </script>\n",
              "    </div>\n",
              "  </div>\n",
              "  "
            ]
          },
          "metadata": {},
          "execution_count": 61
        }
      ],
      "source": [
        "dataframe.corr()"
      ]
    },
    {
      "cell_type": "code",
      "execution_count": 62,
      "metadata": {
        "id": "LfMOK5SrrAVL",
        "outputId": "0818a146-47cd-4109-d611-72cd509003a6",
        "colab": {
          "base_uri": "https://localhost:8080/",
          "height": 143
        }
      },
      "outputs": [
        {
          "output_type": "execute_result",
          "data": {
            "text/plain": [
              "    0         1         2\n",
              "0 NaN  0.976103  0.000000\n",
              "1 NaN       NaN  0.034503\n",
              "2 NaN       NaN       NaN"
            ],
            "text/html": [
              "\n",
              "  <div id=\"df-3a4ddca6-f5be-479a-a8fa-8631fb7bea5e\">\n",
              "    <div class=\"colab-df-container\">\n",
              "      <div>\n",
              "<style scoped>\n",
              "    .dataframe tbody tr th:only-of-type {\n",
              "        vertical-align: middle;\n",
              "    }\n",
              "\n",
              "    .dataframe tbody tr th {\n",
              "        vertical-align: top;\n",
              "    }\n",
              "\n",
              "    .dataframe thead th {\n",
              "        text-align: right;\n",
              "    }\n",
              "</style>\n",
              "<table border=\"1\" class=\"dataframe\">\n",
              "  <thead>\n",
              "    <tr style=\"text-align: right;\">\n",
              "      <th></th>\n",
              "      <th>0</th>\n",
              "      <th>1</th>\n",
              "      <th>2</th>\n",
              "    </tr>\n",
              "  </thead>\n",
              "  <tbody>\n",
              "    <tr>\n",
              "      <th>0</th>\n",
              "      <td>NaN</td>\n",
              "      <td>0.976103</td>\n",
              "      <td>0.000000</td>\n",
              "    </tr>\n",
              "    <tr>\n",
              "      <th>1</th>\n",
              "      <td>NaN</td>\n",
              "      <td>NaN</td>\n",
              "      <td>0.034503</td>\n",
              "    </tr>\n",
              "    <tr>\n",
              "      <th>2</th>\n",
              "      <td>NaN</td>\n",
              "      <td>NaN</td>\n",
              "      <td>NaN</td>\n",
              "    </tr>\n",
              "  </tbody>\n",
              "</table>\n",
              "</div>\n",
              "      <button class=\"colab-df-convert\" onclick=\"convertToInteractive('df-3a4ddca6-f5be-479a-a8fa-8631fb7bea5e')\"\n",
              "              title=\"Convert this dataframe to an interactive table.\"\n",
              "              style=\"display:none;\">\n",
              "        \n",
              "  <svg xmlns=\"http://www.w3.org/2000/svg\" height=\"24px\"viewBox=\"0 0 24 24\"\n",
              "       width=\"24px\">\n",
              "    <path d=\"M0 0h24v24H0V0z\" fill=\"none\"/>\n",
              "    <path d=\"M18.56 5.44l.94 2.06.94-2.06 2.06-.94-2.06-.94-.94-2.06-.94 2.06-2.06.94zm-11 1L8.5 8.5l.94-2.06 2.06-.94-2.06-.94L8.5 2.5l-.94 2.06-2.06.94zm10 10l.94 2.06.94-2.06 2.06-.94-2.06-.94-.94-2.06-.94 2.06-2.06.94z\"/><path d=\"M17.41 7.96l-1.37-1.37c-.4-.4-.92-.59-1.43-.59-.52 0-1.04.2-1.43.59L10.3 9.45l-7.72 7.72c-.78.78-.78 2.05 0 2.83L4 21.41c.39.39.9.59 1.41.59.51 0 1.02-.2 1.41-.59l7.78-7.78 2.81-2.81c.8-.78.8-2.07 0-2.86zM5.41 20L4 18.59l7.72-7.72 1.47 1.35L5.41 20z\"/>\n",
              "  </svg>\n",
              "      </button>\n",
              "      \n",
              "  <style>\n",
              "    .colab-df-container {\n",
              "      display:flex;\n",
              "      flex-wrap:wrap;\n",
              "      gap: 12px;\n",
              "    }\n",
              "\n",
              "    .colab-df-convert {\n",
              "      background-color: #E8F0FE;\n",
              "      border: none;\n",
              "      border-radius: 50%;\n",
              "      cursor: pointer;\n",
              "      display: none;\n",
              "      fill: #1967D2;\n",
              "      height: 32px;\n",
              "      padding: 0 0 0 0;\n",
              "      width: 32px;\n",
              "    }\n",
              "\n",
              "    .colab-df-convert:hover {\n",
              "      background-color: #E2EBFA;\n",
              "      box-shadow: 0px 1px 2px rgba(60, 64, 67, 0.3), 0px 1px 3px 1px rgba(60, 64, 67, 0.15);\n",
              "      fill: #174EA6;\n",
              "    }\n",
              "\n",
              "    [theme=dark] .colab-df-convert {\n",
              "      background-color: #3B4455;\n",
              "      fill: #D2E3FC;\n",
              "    }\n",
              "\n",
              "    [theme=dark] .colab-df-convert:hover {\n",
              "      background-color: #434B5C;\n",
              "      box-shadow: 0px 1px 3px 1px rgba(0, 0, 0, 0.15);\n",
              "      filter: drop-shadow(0px 1px 2px rgba(0, 0, 0, 0.3));\n",
              "      fill: #FFFFFF;\n",
              "    }\n",
              "  </style>\n",
              "\n",
              "      <script>\n",
              "        const buttonEl =\n",
              "          document.querySelector('#df-3a4ddca6-f5be-479a-a8fa-8631fb7bea5e button.colab-df-convert');\n",
              "        buttonEl.style.display =\n",
              "          google.colab.kernel.accessAllowed ? 'block' : 'none';\n",
              "\n",
              "        async function convertToInteractive(key) {\n",
              "          const element = document.querySelector('#df-3a4ddca6-f5be-479a-a8fa-8631fb7bea5e');\n",
              "          const dataTable =\n",
              "            await google.colab.kernel.invokeFunction('convertToInteractive',\n",
              "                                                     [key], {});\n",
              "          if (!dataTable) return;\n",
              "\n",
              "          const docLinkHtml = 'Like what you see? Visit the ' +\n",
              "            '<a target=\"_blank\" href=https://colab.research.google.com/notebooks/data_table.ipynb>data table notebook</a>'\n",
              "            + ' to learn more about interactive tables.';\n",
              "          element.innerHTML = '';\n",
              "          dataTable['output_type'] = 'display_data';\n",
              "          await google.colab.output.renderOutput(dataTable, element);\n",
              "          const docLink = document.createElement('div');\n",
              "          docLink.innerHTML = docLinkHtml;\n",
              "          element.appendChild(docLink);\n",
              "        }\n",
              "      </script>\n",
              "    </div>\n",
              "  </div>\n",
              "  "
            ]
          },
          "metadata": {},
          "execution_count": 62
        }
      ],
      "source": [
        "upper"
      ]
    },
    {
      "cell_type": "code",
      "execution_count": 63,
      "metadata": {
        "id": "R1lJbOu0rAVL",
        "outputId": "a04377c3-6a5c-4cb7-de2e-b7e64def44b0",
        "colab": {
          "base_uri": "https://localhost:8080/"
        }
      },
      "outputs": [
        {
          "output_type": "execute_result",
          "data": {
            "text/plain": [
              "array([[ 1.        ,  0.97610336,  0.        ],\n",
              "       [ 0.97610336,  1.        , -0.03450328],\n",
              "       [ 0.        , -0.03450328,  1.        ]])"
            ]
          },
          "metadata": {},
          "execution_count": 63
        }
      ],
      "source": [
        "np.corrcoef(features, rowvar=False)"
      ]
    },
    {
      "cell_type": "code",
      "execution_count": 64,
      "metadata": {
        "id": "ryw3EByerAVL",
        "outputId": "160c97b5-c700-4eef-b838-3e15730e5aa0",
        "colab": {
          "base_uri": "https://localhost:8080/"
        }
      },
      "outputs": [
        {
          "output_type": "execute_result",
          "data": {
            "text/plain": [
              "array([[0., 0., 1., 1.],\n",
              "       [0., 0., 0., 1.],\n",
              "       [0., 0., 0., 0.],\n",
              "       [0., 0., 0., 0.]])"
            ]
          },
          "metadata": {},
          "execution_count": 64
        }
      ],
      "source": [
        "np.triu(np.ones((4, 4)), k=2)"
      ]
    },
    {
      "cell_type": "code",
      "execution_count": 65,
      "metadata": {
        "id": "s337Mcf0rAVL",
        "outputId": "21402d11-abdd-4fe2-b93a-4f9d00de08e1",
        "colab": {
          "base_uri": "https://localhost:8080/"
        }
      },
      "outputs": [
        {
          "output_type": "execute_result",
          "data": {
            "text/plain": [
              "array([[1., 0., 0., 0.],\n",
              "       [1., 1., 0., 0.],\n",
              "       [1., 1., 1., 0.],\n",
              "       [1., 1., 1., 1.]])"
            ]
          },
          "metadata": {},
          "execution_count": 65
        }
      ],
      "source": [
        "np.tril(np.ones((4, 4)), k=0)"
      ]
    },
    {
      "cell_type": "markdown",
      "metadata": {
        "id": "9LOKJOSRrAVL"
      },
      "source": [
        "### 범주형 특성에서 관련 없는 특성 삭제"
      ]
    },
    {
      "cell_type": "code",
      "execution_count": 66,
      "metadata": {
        "id": "8ZmZwEiyrAVL",
        "outputId": "e37d581b-a632-42ce-b001-01aeadf535b1",
        "colab": {
          "base_uri": "https://localhost:8080/"
        }
      },
      "outputs": [
        {
          "output_type": "stream",
          "name": "stdout",
          "text": [
            "원본 특성 개수: 4\n",
            "줄어든 특성 개수: 2\n"
          ]
        }
      ],
      "source": [
        "# 라이브러리를 임포트합니다.\n",
        "from sklearn.datasets import load_iris\n",
        "from sklearn.feature_selection import SelectKBest\n",
        "from sklearn.feature_selection import chi2, f_classif\n",
        "\n",
        "# 데이터를 로드합니다.\n",
        "iris = load_iris()\n",
        "features = iris.data\n",
        "target = iris.target\n",
        "\n",
        "# 범주형 데이터를 정수형으로 변환합니다.\n",
        "features = features.astype(int)\n",
        "\n",
        "# 카이제곱 통계값이 가장 큰 특성 두 개를 선택합니다.\n",
        "chi2_selector = SelectKBest(chi2, k=2)\n",
        "features_kbest = chi2_selector.fit_transform(features, target)\n",
        "\n",
        "# 결과를 확인합니다.\n",
        "print(\"원본 특성 개수:\", features.shape[1])\n",
        "print(\"줄어든 특성 개수:\", features_kbest.shape[1])"
      ]
    },
    {
      "cell_type": "code",
      "execution_count": 67,
      "metadata": {
        "id": "cQPGynTOrAVL",
        "outputId": "07124e8b-e9d3-4428-fe84-f82aeb80f886",
        "colab": {
          "base_uri": "https://localhost:8080/"
        }
      },
      "outputs": [
        {
          "output_type": "stream",
          "name": "stdout",
          "text": [
            "원본 특성 개수: 4\n",
            "줄어든 특성 개수: 2\n"
          ]
        }
      ],
      "source": [
        "# F-값이 가장 높은 특성 두 개를 선택합니다.\n",
        "fvalue_selector = SelectKBest(f_classif, k=2)\n",
        "features_kbest = fvalue_selector.fit_transform(features, target)\n",
        "\n",
        "# 결과를 확인합니다.\n",
        "print(\"원본 특성 개수:\", features.shape[1])\n",
        "print(\"줄어든 특성 개수:\", features_kbest.shape[1])"
      ]
    },
    {
      "cell_type": "code",
      "execution_count": 68,
      "metadata": {
        "id": "noMzbsfArAVM",
        "outputId": "3c412630-64d6-4214-f6be-d1e002e7389a",
        "colab": {
          "base_uri": "https://localhost:8080/"
        }
      },
      "outputs": [
        {
          "output_type": "stream",
          "name": "stdout",
          "text": [
            "원본 특성 개수: 4\n",
            "줄어든 특성 개수: 3\n"
          ]
        }
      ],
      "source": [
        "# 라이브러리를 임포트합니다.\n",
        "from sklearn.feature_selection import SelectPercentile\n",
        "\n",
        "# 가장 큰 F-값의 상위 75% 특성을 선택합니다.\n",
        "fvalue_selector = SelectPercentile(f_classif, percentile=75)\n",
        "features_kbest = fvalue_selector.fit_transform(features, target)\n",
        "\n",
        "# 결과를 선택합니다.\n",
        "print(\"원본 특성 개수:\", features.shape[1])\n",
        "print(\"줄어든 특성 개수:\", features_kbest.shape[1])"
      ]
    },
    {
      "cell_type": "markdown",
      "metadata": {
        "id": "D_M9GnBarAVM"
      },
      "source": [
        "### 재귀적 특성 제거(RFE: recursive feature elimination)"
      ]
    },
    {
      "cell_type": "code",
      "execution_count": 69,
      "metadata": {
        "id": "i_6HGb2MrAVM",
        "outputId": "829c33e7-1dd7-4230-b62c-4b679458a2d6",
        "colab": {
          "base_uri": "https://localhost:8080/"
        }
      },
      "outputs": [
        {
          "output_type": "execute_result",
          "data": {
            "text/plain": [
              "array([[ 0.00850799,  0.7031277 ],\n",
              "       [-1.07500204,  2.56148527],\n",
              "       [ 1.37940721, -1.77039484],\n",
              "       ...,\n",
              "       [-0.80331656, -1.60648007],\n",
              "       [ 0.39508844, -1.34564911],\n",
              "       [-0.55383035,  0.82880112]])"
            ]
          },
          "metadata": {},
          "execution_count": 69
        }
      ],
      "source": [
        "# 라이브러리를 임포트합니다.\n",
        "from sklearn.datasets import make_regression\n",
        "from sklearn.feature_selection import RFECV\n",
        "from sklearn import datasets, linear_model\n",
        "\n",
        "# 특성 행렬과 타깃 벡터를 생성합니다.\n",
        "features, target = make_regression(n_samples = 10000,\n",
        "                                   n_features = 100,\n",
        "                                   n_informative = 2,\n",
        "                                   random_state = 1)\n",
        "\n",
        "# 선형 회귀 모델을 만듭니다.\n",
        "ols = linear_model.LinearRegression()\n",
        "\n",
        "# 재귀적으로 특성을 제거합니다.\n",
        "rfecv = RFECV(estimator=ols, step=1, scoring=\"neg_mean_squared_error\")\n",
        "rfecv.fit(features, target)\n",
        "rfecv.transform(features)"
      ]
    },
    {
      "cell_type": "code",
      "execution_count": 70,
      "metadata": {
        "id": "7usXbDLurAVM",
        "outputId": "209eb276-c034-4f37-da97-6b5d64de33bc",
        "colab": {
          "base_uri": "https://localhost:8080/"
        }
      },
      "outputs": [
        {
          "output_type": "execute_result",
          "data": {
            "text/plain": [
              "2"
            ]
          },
          "metadata": {},
          "execution_count": 70
        }
      ],
      "source": [
        "# 최선의 특성 개수\n",
        "rfecv.n_features_"
      ]
    },
    {
      "cell_type": "code",
      "execution_count": 71,
      "metadata": {
        "id": "Jk-fzzJlrAVM",
        "outputId": "4c788ad6-18ab-45ff-d618-c3b5ec6acff7",
        "colab": {
          "base_uri": "https://localhost:8080/"
        }
      },
      "outputs": [
        {
          "output_type": "execute_result",
          "data": {
            "text/plain": [
              "array([False, False, False, False, False,  True, False, False, False,\n",
              "       False, False, False, False, False, False, False, False, False,\n",
              "       False, False, False, False, False, False, False, False, False,\n",
              "       False, False, False, False, False, False, False, False, False,\n",
              "       False, False, False,  True, False, False, False, False, False,\n",
              "       False, False, False, False, False, False, False, False, False,\n",
              "       False, False, False, False, False, False, False, False, False,\n",
              "       False, False, False, False, False, False, False, False, False,\n",
              "       False, False, False, False, False, False, False, False, False,\n",
              "       False, False, False, False, False, False, False, False, False,\n",
              "       False, False, False, False, False, False, False, False, False,\n",
              "       False])"
            ]
          },
          "metadata": {},
          "execution_count": 71
        }
      ],
      "source": [
        "# 선택된 특성이 표시된 불리언 마스크\n",
        "rfecv.support_"
      ]
    },
    {
      "cell_type": "code",
      "execution_count": 72,
      "metadata": {
        "id": "o3aCpXhCrAVM",
        "outputId": "e80d109a-2d98-42f1-bf2c-d18aa5d70b52",
        "colab": {
          "base_uri": "https://localhost:8080/"
        }
      },
      "outputs": [
        {
          "output_type": "execute_result",
          "data": {
            "text/plain": [
              "array([33, 39, 42, 20,  6,  1, 82, 35, 32,  3, 10, 72, 24, 44, 12, 49, 93,\n",
              "       84, 94,  2, 25, 21, 78, 31, 43, 50, 47, 52, 81, 23, 61, 96, 80, 14,\n",
              "       15, 58, 75, 29, 83,  1, 18, 68, 46, 19, 30,  5, 48, 60, 56, 69, 89,\n",
              "        4, 79, 62, 11,  7, 98, 17, 71, 95, 54, 65,  9, 77, 53, 67, 16, 87,\n",
              "       41, 85, 97, 70, 26, 76, 59, 99, 36, 34, 38, 90, 55, 64, 57, 88, 22,\n",
              "       73, 86, 92, 27, 51, 66, 13, 74, 45, 40, 63, 37, 28,  8, 91])"
            ]
          },
          "metadata": {},
          "execution_count": 72
        }
      ],
      "source": [
        "# 특성의 순위: 최고(1)에서 최악(96)까지\n",
        "rfecv.ranking_"
      ]
    },
    {
      "cell_type": "code",
      "execution_count": 73,
      "metadata": {
        "id": "8n8a_nQxrAVN",
        "outputId": "3af03d26-de25-42d5-b357-fded2854eadf",
        "colab": {
          "base_uri": "https://localhost:8080/"
        }
      },
      "outputs": [
        {
          "output_type": "execute_result",
          "data": {
            "text/plain": [
              "array([[ 0.00850799,  0.0992611 ,  0.7031277 ],\n",
              "       [-1.07500204,  0.92859616,  2.56148527],\n",
              "       [ 1.37940721,  1.83471056, -1.77039484],\n",
              "       ...,\n",
              "       [-0.80331656, -0.40335314, -1.60648007],\n",
              "       [ 0.39508844, -0.98395086, -1.34564911],\n",
              "       [-0.55383035,  0.05065251,  0.82880112]])"
            ]
          },
          "metadata": {},
          "execution_count": 73
        }
      ],
      "source": [
        "from sklearn.feature_selection import RFE\n",
        "\n",
        "rfe = RFE(estimator=ols, n_features_to_select=3)\n",
        "rfe.fit(features, target)\n",
        "rfe.transform(features)"
      ]
    },
    {
      "cell_type": "markdown",
      "metadata": {
        "id": "qDWahcz5rAVN"
      },
      "source": [
        "# 과제PCA 적용해 유방암 데이터셋 시각화하기"
      ]
    },
    {
      "cell_type": "markdown",
      "metadata": {
        "id": "WgdVsW6TrAVN"
      },
      "source": [
        "## 유방암 데이터의 클래스별 특성 히스토그램"
      ]
    },
    {
      "cell_type": "code",
      "execution_count": null,
      "metadata": {
        "id": "wqgWji1qrAVN",
        "outputId": "c5f4deea-b8d1-4266-ba16-a02b3d8fe1d4"
      },
      "outputs": [
        {
          "name": "stderr",
          "output_type": "stream",
          "text": [
            "/usr/local/lib/python3.7/site-packages/matplotlib/backends/backend_agg.py:238: RuntimeWarning: Glyph 53945 missing from current font.\n",
            "  font.set_text(s, 0.0, flags=flags)\n",
            "/usr/local/lib/python3.7/site-packages/matplotlib/backends/backend_agg.py:238: RuntimeWarning: Glyph 49457 missing from current font.\n",
            "  font.set_text(s, 0.0, flags=flags)\n",
            "/usr/local/lib/python3.7/site-packages/matplotlib/backends/backend_agg.py:238: RuntimeWarning: Glyph 53356 missing from current font.\n",
            "  font.set_text(s, 0.0, flags=flags)\n",
            "/usr/local/lib/python3.7/site-packages/matplotlib/backends/backend_agg.py:238: RuntimeWarning: Glyph 44592 missing from current font.\n",
            "  font.set_text(s, 0.0, flags=flags)\n",
            "/usr/local/lib/python3.7/site-packages/matplotlib/backends/backend_agg.py:238: RuntimeWarning: Glyph 48712 missing from current font.\n",
            "  font.set_text(s, 0.0, flags=flags)\n",
            "/usr/local/lib/python3.7/site-packages/matplotlib/backends/backend_agg.py:238: RuntimeWarning: Glyph 46020 missing from current font.\n",
            "  font.set_text(s, 0.0, flags=flags)\n",
            "/usr/local/lib/python3.7/site-packages/matplotlib/backends/backend_agg.py:238: RuntimeWarning: Glyph 50501 missing from current font.\n",
            "  font.set_text(s, 0.0, flags=flags)\n",
            "/usr/local/lib/python3.7/site-packages/matplotlib/backends/backend_agg.py:238: RuntimeWarning: Glyph 50577 missing from current font.\n",
            "  font.set_text(s, 0.0, flags=flags)\n",
            "/usr/local/lib/python3.7/site-packages/matplotlib/backends/backend_agg.py:201: RuntimeWarning: Glyph 53945 missing from current font.\n",
            "  font.set_text(s, 0, flags=flags)\n",
            "/usr/local/lib/python3.7/site-packages/matplotlib/backends/backend_agg.py:201: RuntimeWarning: Glyph 49457 missing from current font.\n",
            "  font.set_text(s, 0, flags=flags)\n",
            "/usr/local/lib/python3.7/site-packages/matplotlib/backends/backend_agg.py:201: RuntimeWarning: Glyph 53356 missing from current font.\n",
            "  font.set_text(s, 0, flags=flags)\n",
            "/usr/local/lib/python3.7/site-packages/matplotlib/backends/backend_agg.py:201: RuntimeWarning: Glyph 44592 missing from current font.\n",
            "  font.set_text(s, 0, flags=flags)\n",
            "/usr/local/lib/python3.7/site-packages/matplotlib/backends/backend_agg.py:201: RuntimeWarning: Glyph 48712 missing from current font.\n",
            "  font.set_text(s, 0, flags=flags)\n",
            "/usr/local/lib/python3.7/site-packages/matplotlib/backends/backend_agg.py:201: RuntimeWarning: Glyph 46020 missing from current font.\n",
            "  font.set_text(s, 0, flags=flags)\n",
            "/usr/local/lib/python3.7/site-packages/matplotlib/backends/backend_agg.py:201: RuntimeWarning: Glyph 50501 missing from current font.\n",
            "  font.set_text(s, 0, flags=flags)\n",
            "/usr/local/lib/python3.7/site-packages/matplotlib/backends/backend_agg.py:201: RuntimeWarning: Glyph 50577 missing from current font.\n",
            "  font.set_text(s, 0, flags=flags)\n"
          ]
        },
        {
          "data": {
            "image/png": "[encoded data removed]",
            "text/plain": [
              "<Figure size 720x1440 with 30 Axes>"
            ]
          },
          "metadata": {
            "needs_background": "light"
          },
          "output_type": "display_data"
        }
      ],
      "source": [
        "from sklearn.datasets import load_breast_cancer\n",
        "import matplotlib.pyplot as plt\n",
        "import numpy as np\n",
        "import mglearn\n",
        "\n",
        "cancer = load_breast_cancer()\n",
        "\n",
        "fig,axes = plt.subplots(15,2,figsize=(10,20))\n",
        "\n",
        "malignant = cancer.data[cancer.target==0]\n",
        "\n",
        "benign = cancer.data[cancer.target==1]\n",
        "\n",
        "ax = axes.ravel()\n",
        "\n",
        "for i in range(30):\n",
        "\n",
        "    _,bins = np.histogram(cancer.data[:,i],bins=50)\n",
        "\n",
        "    ax[i].hist(malignant[:,i],bins=bins, color=mglearn.cm3(0),alpha=.5)\n",
        "\n",
        "    ax[i].hist(benign[:,i],bins=bins, color=mglearn.cm3(2),alpha=.5)\n",
        "\n",
        "    ax[i].set_title(cancer.feature_names[i])\n",
        "\n",
        "    ax[i].set_yticks(())\n",
        "ax[0].set_xlabel(\"특성 크기\")\n",
        "ax[0].set_ylabel(\"빈도\")\n",
        "ax[0].legend([\"악성\", \"양성\"], loc=\"best\")\n",
        "fig.tight_layout()"
      ]
    },
    {
      "cell_type": "markdown",
      "metadata": {
        "id": "m819AsQ2rAVN"
      },
      "source": [
        "## pca적용 전에 StandardScaler를 사용해 데이터 스케일 조정\n",
        "두개의 주성분을 사용해 그린 유방암 데이터셋의 2차원 산점도"
      ]
    },
    {
      "cell_type": "code",
      "execution_count": null,
      "metadata": {
        "id": "u2fP1pYkrAVN",
        "outputId": "8b7f6e65-63e5-4a17-91d5-28a686482448"
      },
      "outputs": [
        {
          "name": "stdout",
          "output_type": "stream",
          "text": [
            "원본 데이터 형태 : (569, 30)\n",
            "축소된 데이터 형태 : (569, 2)\n"
          ]
        },
        {
          "data": {
            "image/png": "[encoded data removed]",
            "text/plain": [
              "<Figure size 576x576 with 1 Axes>"
            ]
          },
          "metadata": {
            "needs_background": "light"
          },
          "output_type": "display_data"
        }
      ],
      "source": [
        "import matplotlib.pyplot as plt\n",
        "\n",
        "import mglearn\n",
        "\n",
        "from sklearn.datasets import load_breast_cancer\n",
        "\n",
        "from sklearn.preprocessing import StandardScaler\n",
        "\n",
        "\n",
        "\n",
        "cancer = load_breast_cancer()\n",
        "\n",
        "\n",
        "\n",
        "# StandardScaler를 사용해 각 틍성의 분산이 1이 되도록 스케일 조정\n",
        "\n",
        "standard_scaler = StandardScaler()\n",
        "\n",
        "standard_scaler.fit(cancer.data)\n",
        "\n",
        "\n",
        "\n",
        "X_scaled = standard_scaler.transform(cancer.data)\n",
        "\n",
        "\n",
        "\n",
        "# PCA 객체를 생성하고 fit메서드를 호출해 주성분을 찾고, transform 메서드를 호출해 데이터를 회전시키고 차원을 축소한다.\n",
        "\n",
        "# 기본값일때 PCA는 데이터를 회전만 시키고 모든 주성분을 유지한다.\n",
        "\n",
        "# 데이터의 차원을 줄이려면 PCA 객체를 지정하면 된다.\n",
        "\n",
        "\n",
        "\n",
        "from sklearn.decomposition import PCA\n",
        "\n",
        "\n",
        "\n",
        "# 데이터 첫 2개의 성분만 유지한다.\n",
        "\n",
        "pca = PCA(n_components=2)\n",
        "\n",
        "\n",
        "\n",
        "# PCA 모델 만들기\n",
        "\n",
        "pca.fit(X_scaled)\n",
        "\n",
        "\n",
        "\n",
        "# 처음 두개의 주성분을 사용해 데이터 변환\n",
        "\n",
        "X_pca = pca.transform(X_scaled)\n",
        "\n",
        "\n",
        "\n",
        "print(\"원본 데이터 형태 : {}\".format(str(X_scaled.shape)))\n",
        "\n",
        "print(\"축소된 데이터 형태 : {}\".format(str(X_pca.shape)))\n",
        "\n",
        "# 원본 데이터 형태 : (569, 30)\n",
        "\n",
        "# 축소된 데이터 형태 : (569, 2)\n",
        "\n",
        "\n",
        "\n",
        "# 두개의 주성분을 그래프로 나타내자.\n",
        "\n",
        "plt.figure(figsize=(8,8))\n",
        "\n",
        "mglearn.discrete_scatter(X_pca[:,0],X_pca[:,1],cancer.target)\n",
        "\n",
        "plt.legend([\"neg\",\"pos\"],loc=\"best\")\n",
        "\n",
        "plt.gca().set_aspect(\"equal\")\n",
        "\n",
        "plt.xlabel(\"1st attr\")\n",
        "\n",
        "plt.ylabel(\"2nd attr\")\n",
        "\n",
        "plt.show()"
      ]
    },
    {
      "cell_type": "markdown",
      "metadata": {
        "id": "a2lvCUHUrAVO"
      },
      "source": [
        "## components_ 값을 출력"
      ]
    },
    {
      "cell_type": "code",
      "execution_count": null,
      "metadata": {
        "id": "DMw09Vg8rAVO",
        "outputId": "49953569-90da-4f79-81fa-35b41f928843"
      },
      "outputs": [
        {
          "name": "stdout",
          "output_type": "stream",
          "text": [
            "PCA 주성분: (2, 30)\n",
            "PCA 주성분: [[ 0.21890244  0.10372458  0.22753729  0.22099499  0.14258969  0.23928535\n",
            "   0.25840048  0.26085376  0.13816696  0.06436335  0.20597878  0.01742803\n",
            "   0.21132592  0.20286964  0.01453145  0.17039345  0.15358979  0.1834174\n",
            "   0.04249842  0.10256832  0.22799663  0.10446933  0.23663968  0.22487053\n",
            "   0.12795256  0.21009588  0.22876753  0.25088597  0.12290456  0.13178394]\n",
            " [-0.23385713 -0.05970609 -0.21518136 -0.23107671  0.18611302  0.15189161\n",
            "   0.06016536 -0.0347675   0.19034877  0.36657547 -0.10555215  0.08997968\n",
            "  -0.08945723 -0.15229263  0.20443045  0.2327159   0.19720728  0.13032156\n",
            "   0.183848    0.28009203 -0.21986638 -0.0454673  -0.19987843 -0.21935186\n",
            "   0.17230435  0.14359317  0.09796411 -0.00825724  0.14188335  0.27533947]]\n"
          ]
        }
      ],
      "source": [
        "from sklearn.datasets import load_breast_cancer\n",
        "\n",
        "from sklearn.preprocessing import StandardScaler\n",
        "\n",
        "\n",
        "\n",
        "cancer = load_breast_cancer()\n",
        "\n",
        "\n",
        "\n",
        "# StandardScaler를 사용해 각 틍성의 분산이 1이 되도록 스케일 조정\n",
        "\n",
        "standard_scaler = StandardScaler()\n",
        "\n",
        "standard_scaler.fit(cancer.data)\n",
        "\n",
        "\n",
        "\n",
        "X_scaled = standard_scaler.transform(cancer.data)\n",
        "\n",
        "\n",
        "\n",
        "from sklearn.decomposition import PCA\n",
        "\n",
        "# 데이터 첫 2개의 성분만 유지한다.\n",
        "\n",
        "pca = PCA(n_components=2)\n",
        "\n",
        "# PCA 모델 만들기\n",
        "\n",
        "pca.fit(X_scaled)\n",
        "\n",
        "\n",
        "\n",
        "# 처음 두개의 주성분을 사용해 데이터 변환\n",
        "\n",
        "X_pca = pca.transform(X_scaled)\n",
        "\n",
        "\n",
        "\n",
        "print(\"PCA 주성분: {}\".format(pca.components_.shape))\n",
        "\n",
        "print(\"PCA 주성분: {}\".format(pca.components_))"
      ]
    },
    {
      "cell_type": "markdown",
      "metadata": {
        "id": "ma5rMo3trAVO"
      },
      "source": [
        "## 유방암 데이터셋에서 찾은 처음 두 개의 주성분 히트맵"
      ]
    },
    {
      "cell_type": "code",
      "execution_count": null,
      "metadata": {
        "id": "XJPDSEDerAVO",
        "outputId": "ea5a0713-3d22-47ba-bccf-d12cfb074d3c"
      },
      "outputs": [
        {
          "name": "stdout",
          "output_type": "stream",
          "text": [
            "원본 데이터 형태: (569, 30)\n",
            "축소된 데이터 형태: (569, 2)\n"
          ]
        },
        {
          "data": {
            "text/plain": [
              "Text(0, 0.5, '두\\xa0번째\\xa0주성분')"
            ]
          },
          "execution_count": 75,
          "metadata": {},
          "output_type": "execute_result"
        },
        {
          "name": "stderr",
          "output_type": "stream",
          "text": [
            "/usr/local/lib/python3.7/site-packages/matplotlib/backends/backend_agg.py:238: RuntimeWarning: Glyph 52395 missing from current font.\n",
            "  font.set_text(s, 0.0, flags=flags)\n",
            "/usr/local/lib/python3.7/site-packages/matplotlib/backends/backend_agg.py:238: RuntimeWarning: Glyph 48264 missing from current font.\n",
            "  font.set_text(s, 0.0, flags=flags)\n",
            "/usr/local/lib/python3.7/site-packages/matplotlib/backends/backend_agg.py:238: RuntimeWarning: Glyph 51704 missing from current font.\n",
            "  font.set_text(s, 0.0, flags=flags)\n",
            "/usr/local/lib/python3.7/site-packages/matplotlib/backends/backend_agg.py:238: RuntimeWarning: Glyph 51452 missing from current font.\n",
            "  font.set_text(s, 0.0, flags=flags)\n",
            "/usr/local/lib/python3.7/site-packages/matplotlib/backends/backend_agg.py:238: RuntimeWarning: Glyph 49457 missing from current font.\n",
            "  font.set_text(s, 0.0, flags=flags)\n",
            "/usr/local/lib/python3.7/site-packages/matplotlib/backends/backend_agg.py:238: RuntimeWarning: Glyph 48516 missing from current font.\n",
            "  font.set_text(s, 0.0, flags=flags)\n",
            "/usr/local/lib/python3.7/site-packages/matplotlib/backends/backend_agg.py:238: RuntimeWarning: Glyph 46160 missing from current font.\n",
            "  font.set_text(s, 0.0, flags=flags)\n",
            "/usr/local/lib/python3.7/site-packages/matplotlib/backends/backend_agg.py:238: RuntimeWarning: Glyph 50501 missing from current font.\n",
            "  font.set_text(s, 0.0, flags=flags)\n",
            "/usr/local/lib/python3.7/site-packages/matplotlib/backends/backend_agg.py:238: RuntimeWarning: Glyph 50577 missing from current font.\n",
            "  font.set_text(s, 0.0, flags=flags)\n",
            "/usr/local/lib/python3.7/site-packages/matplotlib/backends/backend_agg.py:201: RuntimeWarning: Glyph 52395 missing from current font.\n",
            "  font.set_text(s, 0, flags=flags)\n",
            "/usr/local/lib/python3.7/site-packages/matplotlib/backends/backend_agg.py:201: RuntimeWarning: Glyph 48264 missing from current font.\n",
            "  font.set_text(s, 0, flags=flags)\n",
            "/usr/local/lib/python3.7/site-packages/matplotlib/backends/backend_agg.py:201: RuntimeWarning: Glyph 51704 missing from current font.\n",
            "  font.set_text(s, 0, flags=flags)\n",
            "/usr/local/lib/python3.7/site-packages/matplotlib/backends/backend_agg.py:201: RuntimeWarning: Glyph 51452 missing from current font.\n",
            "  font.set_text(s, 0, flags=flags)\n",
            "/usr/local/lib/python3.7/site-packages/matplotlib/backends/backend_agg.py:201: RuntimeWarning: Glyph 49457 missing from current font.\n",
            "  font.set_text(s, 0, flags=flags)\n",
            "/usr/local/lib/python3.7/site-packages/matplotlib/backends/backend_agg.py:201: RuntimeWarning: Glyph 48516 missing from current font.\n",
            "  font.set_text(s, 0, flags=flags)\n",
            "/usr/local/lib/python3.7/site-packages/matplotlib/backends/backend_agg.py:201: RuntimeWarning: Glyph 46160 missing from current font.\n",
            "  font.set_text(s, 0, flags=flags)\n",
            "/usr/local/lib/python3.7/site-packages/matplotlib/backends/backend_agg.py:201: RuntimeWarning: Glyph 50501 missing from current font.\n",
            "  font.set_text(s, 0, flags=flags)\n",
            "/usr/local/lib/python3.7/site-packages/matplotlib/backends/backend_agg.py:201: RuntimeWarning: Glyph 50577 missing from current font.\n",
            "  font.set_text(s, 0, flags=flags)\n"
          ]
        },
        {
          "data": {
            "image/png": "[encoded data removed]",
            "text/plain": [
              "<Figure size 576x576 with 1 Axes>"
            ]
          },
          "metadata": {
            "needs_background": "light"
          },
          "output_type": "display_data"
        }
      ],
      "source": [
        "import matplotlib.pyplot as plt\n",
        "\n",
        "from sklearn.datasets import load_breast_cancer\n",
        "\n",
        "from sklearn.preprocessing import StandardScaler\n",
        "\n",
        "from sklearn.decomposition import PCA\n",
        "\n",
        "\n",
        "\n",
        "cancer = load_breast_cancer()\n",
        "\n",
        "# StandardScaler를 사용해 각 틍성의 분산이 1이 되도록 스케일 조정\n",
        "\n",
        "standard_scaler = StandardScaler()\n",
        "\n",
        "standard_scaler.fit(cancer.data)\n",
        "\n",
        "\n",
        "\n",
        "X_scaled = standard_scaler.transform(cancer.data)\n",
        "\n",
        "\n",
        "\n",
        "# 데이터 첫 2개의 성분만 유지한다.\n",
        "\n",
        "pca = PCA(n_components=2)\n",
        "\n",
        "\n",
        "\n",
        "# PCA 모델 만들기\n",
        "\n",
        "pca.fit(X_scaled)\n",
        "\n",
        "\n",
        "\n",
        "# 처음 두새의 주성분을 사용해 데이터 변환\n",
        "\n",
        "X_pca = pca.transform(X_scaled)\n",
        "print(\"원본 데이터 형태:\", str(X_scaled.shape))\n",
        "print(\"축소된 데이터 형태:\", str(X_pca.shape))\n",
        "\n",
        "# 클래스를 색깔로 구분하여 처음 두 개의 주성분을 그래프로 나타냅니다.\n",
        "\n",
        "\n",
        "\n",
        "plt.figure(figsize=(8,8))\n",
        "mglearn.discrete_scatter(X_pca[:,0], X_pca[:, 1], cancer.target)\n",
        "plt.legend([\"악성\", \"양성\"],loc=\"best\")\n",
        "plt.gca().set_aspect(\"equal\")\n",
        "plt.xlabel(\"첫 번째 주성분\")\n",
        "plt.ylabel(\"두 번째 주성분\")"
      ]
    },
    {
      "cell_type": "code",
      "execution_count": null,
      "metadata": {
        "id": "NtS7wUj5rAVO",
        "outputId": "e296da0f-a1a1-430f-bbb1-e2d7d9f2ab0f"
      },
      "outputs": [
        {
          "name": "stdout",
          "output_type": "stream",
          "text": [
            "PCA 주성분 형태: (2, 30)\n",
            "PCA 주성분: [[ 0.21890244  0.10372458  0.22753729  0.22099499  0.14258969  0.23928535\n",
            "   0.25840048  0.26085376  0.13816696  0.06436335  0.20597878  0.01742803\n",
            "   0.21132592  0.20286964  0.01453145  0.17039345  0.15358979  0.1834174\n",
            "   0.04249842  0.10256832  0.22799663  0.10446933  0.23663968  0.22487053\n",
            "   0.12795256  0.21009588  0.22876753  0.25088597  0.12290456  0.13178394]\n",
            " [-0.23385713 -0.05970609 -0.21518136 -0.23107671  0.18611302  0.15189161\n",
            "   0.06016536 -0.0347675   0.19034877  0.36657547 -0.10555215  0.08997968\n",
            "  -0.08945723 -0.15229263  0.20443045  0.2327159   0.19720728  0.13032156\n",
            "   0.183848    0.28009203 -0.21986638 -0.0454673  -0.19987843 -0.21935186\n",
            "   0.17230435  0.14359317  0.09796411 -0.00825724  0.14188335  0.27533947]]\n"
          ]
        },
        {
          "name": "stderr",
          "output_type": "stream",
          "text": [
            "/usr/local/lib/python3.7/site-packages/matplotlib/backends/backend_agg.py:238: RuntimeWarning: Glyph 8722 missing from current font.\n",
            "  font.set_text(s, 0.0, flags=flags)\n",
            "/usr/local/lib/python3.7/site-packages/matplotlib/backends/backend_agg.py:201: RuntimeWarning: Glyph 8722 missing from current font.\n",
            "  font.set_text(s, 0, flags=flags)\n"
          ]
        },
        {
          "data": {
            "image/png": "[encoded data removed]",
            "text/plain": [
              "<Figure size 1152x144 with 2 Axes>"
            ]
          },
          "metadata": {
            "needs_background": "light"
          },
          "output_type": "display_data"
        }
      ],
      "source": [
        "print(\"PCA 주성분 형태:\", pca.components_.shape)\n",
        "print(\"PCA 주성분:\", pca.components_)\n",
        "\n",
        "plt.matshow(pca.components_, cmap=\"viridis\")\n",
        "plt.yticks([0, 1], [\"첫 번째 주성분\", \"두 번째 주성분\"])\n",
        "\n",
        "plt.colorbar()\n",
        "\n",
        "plt.xticks(range(len(cancer.feature_names)), cancer.feature_names, rotation=60, ha='left')\n",
        "\n",
        "plt.xlabel(\"특성\")\n",
        "\n",
        "plt.ylabel(\"주성분\")\n",
        "\n",
        "plt.show()"
      ]
    },
    {
      "cell_type": "code",
      "execution_count": null,
      "metadata": {
        "id": "9Xljmc7PrAVP"
      },
      "outputs": [],
      "source": [
        ""
      ]
    }
  ]
}