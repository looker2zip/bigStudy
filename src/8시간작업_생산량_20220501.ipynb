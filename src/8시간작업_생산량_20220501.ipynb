{
  "nbformat": 4,
  "nbformat_minor": 0,
  "metadata": {
    "colab": {
      "name": "8시간작업 생산량-20220501.ipynb",
      "provenance": [],
      "collapsed_sections": []
    },
    "kernelspec": {
      "name": "python3",
      "display_name": "Python 3"
    },
    "language_info": {
      "name": "python"
    }
  },
  "cells": [
    {
      "cell_type": "code",
      "execution_count": 2,
      "metadata": {
        "colab": {
          "base_uri": "https://localhost:8080/"
        },
        "id": "Sj2bRRXnKjwf",
        "outputId": "5d056876-7d88-4af7-9ded-eb78aa525427"
      },
      "outputs": [
        {
          "output_type": "stream",
          "name": "stdout",
          "text": [
            "WARNING:tensorflow:From /usr/local/lib/python3.7/dist-packages/tensorflow/python/compat/v2_compat.py:107: disable_resource_variables (from tensorflow.python.ops.variable_scope) is deprecated and will be removed in a future version.\n",
            "Instructions for updating:\n",
            "non-resource variables are not supported in the long term\n",
            "0 4586919000.0 [10371.226] [2137.9863]\n",
            "500 8689091.0 [25535.604] [1959.6868]\n",
            "1000 8633853.0 [25627.229] [1505.9667]\n",
            "1500 8632681.0 [25640.578] [1439.8519]\n",
            "2000 8632657.0 [25642.525] [1430.2142]\n",
            "2500 8632654.0 [25642.805] [1428.8236]\n",
            "3000 8632657.0 [25642.844] [1428.6343]\n",
            "3500 8632657.0 [25642.848] [1428.6133]\n",
            "4000 8632657.0 [25642.848] [1428.6133]\n",
            "4500 8632657.0 [25642.848] [1428.6133]\n",
            "5000 8632657.0 [25642.848] [1428.6133]\n",
            "[206571.39]\n"
          ]
        }
      ],
      "source": [
        "#import tensorflow as tf\n",
        "import tensorflow.compat.v1 as tf\n",
        "tf.disable_v2_behavior()\n",
        "\n",
        "xData=[1,2,3,4,5,6,7]\n",
        "yData=[25000,55000,75000,110000,128000,155000,180000]\n",
        "\n",
        "W=tf.Variable(tf.random_uniform([1], -100, 100))\n",
        "b=tf.Variable(tf.random_uniform([1], -100, 100))\n",
        "\n",
        "X=tf.placeholder(tf.float32)\n",
        "Y=tf.placeholder(tf.float32)\n",
        "\n",
        "H=W*X+b\n",
        "cost=tf.reduce_mean(tf.square(H-Y))\n",
        "\n",
        "a=tf.Variable(0.01)\n",
        "optimizer=tf.train.GradientDescentOptimizer(a)\n",
        "train=optimizer.minimize(cost)\n",
        "init=tf.global_variables_initializer()\n",
        "\n",
        "sess=tf.Session()\n",
        "sess.run(init)\n",
        "\n",
        "for i in range(5001):\n",
        "   sess.run(train, feed_dict={X: xData, Y: yData})\n",
        "   if i % 500 ==0:\n",
        "       print(i, sess.run(cost, feed_dict={X: xData, Y: yData}), sess.run(W), sess.run(b))\n",
        "print(sess.run(H, feed_dict={X: [8]}))"
      ]
    }
  ]
}