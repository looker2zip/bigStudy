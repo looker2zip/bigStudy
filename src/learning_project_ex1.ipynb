{
 "cells": [
  {
   "cell_type": "markdown",
   "metadata": {},
   "source": [
    "# 설정"
   ]
  },
  {
   "cell_type": "code",
   "execution_count": null,
   "metadata": {},
   "outputs": [],
   "source": [
    "pip install numpy scipy sklearn pandas matplotlib"
   ]
  },
  {
   "cell_type": "code",
   "execution_count": null,
   "metadata": {},
   "outputs": [],
   "source": [
    "pip install xlrd"
   ]
  },
  {
   "cell_type": "code",
   "execution_count": null,
   "metadata": {},
   "outputs": [],
   "source": [
    "pip install xlrd==2.0.1"
   ]
  },
  {
   "cell_type": "code",
   "execution_count": null,
   "metadata": {},
   "outputs": [],
   "source": [
    "import sys\n",
    "print(\"python 버전 : {}\".format(sys.version))\n",
    "import pandas as pd\n",
    "print(\"pandas 버전 : {}\".format(pd.__version__))\n",
    "import matplotlib\n",
    "print(\"matplotlib 버전 : {}\".format(matplotlib.__version__))\n",
    "import numpy as np\n",
    "print(\"numpy 버전 : {}\".format(np.__version__))\n",
    "import scipy as sp\n",
    "print(\"scipy 버전 : {}\".format(sp.__version__))\n",
    "import IPython\n",
    "print(\"IPython 버전 : {}\".format(IPython.__version__))\n",
    "import sklearn\n",
    "print(\"sklearn : {}\".format(sklearn.__version__))"
   ]
  },
  {
   "cell_type": "code",
   "execution_count": 1,
   "metadata": {},
   "outputs": [
    {
     "name": "stdout",
     "output_type": "stream",
     "text": [
      "C:\\Users\\k8s\\mlops_workspaces\\learning_project\n"
     ]
    }
   ],
   "source": [
    "cd C:\\Users\\k8s\\mlops_workspaces\\learning_project"
   ]
  },
  {
   "cell_type": "code",
   "execution_count": 2,
   "metadata": {},
   "outputs": [
    {
     "name": "stdout",
     "output_type": "stream",
     "text": [
      " C 드라이브의 볼륨에는 이름이 없습니다.\n",
      " 볼륨 일련 번호: BED0-C858\n",
      "\n",
      " C:\\Users\\k8s\\mlops_workspaces\\learning_project 디렉터리\n",
      "\n",
      "[.]                          [..]\n",
      "[.ipynb_checkpoints]         2020-01-21_A_Line.xlsx\n",
      "2020-01-22_A_Line.xlsx       2020-01-23_A_Line.xlsx\n",
      "2020-01-24_A_Line.xlsx       2020-01-25_A_Line.xlsx\n",
      "learning_project_ex1.ipynb   \n",
      "               6개 파일           6,364,907 바이트\n",
      "               3개 디렉터리  12,031,934,464 바이트 남음\n"
     ]
    }
   ],
   "source": [
    "!dir/w/p"
   ]
  },
  {
   "cell_type": "code",
   "execution_count": 3,
   "metadata": {},
   "outputs": [],
   "source": [
    "# 파이썬 2와 파이썬 3 지원\n",
    "from __future__ import division, print_function, unicode_literals\n",
    "\n",
    "# 공통\n",
    "import numpy as np\n",
    "import os\n",
    "\n",
    "# 일관된 출력을 위해 유사난수 초기화\n",
    "np.random.seed(42)\n",
    "\n",
    "# 맷플롯립 설정\n",
    "%matplotlib inline\n",
    "import matplotlib\n",
    "import matplotlib.pyplot as plt\n",
    "plt.rcParams['axes.labelsize'] = 14\n",
    "plt.rcParams['xtick.labelsize'] = 12\n",
    "plt.rcParams['ytick.labelsize'] = 12\n",
    "\n",
    "# 한글출력\n",
    "matplotlib.rc('font', family='NanumBarunGothic')\n",
    "plt.rcParams['axes.unicode_minus'] = False\n",
    "\n",
    "# 그림을 저장할 폴드\n",
    "PROJECT_ROOT_DIR = \".\"\n",
    "PROJECT_ID = \"learning\"\n",
    "IMAGES_PATH = os.path.join(PROJECT_ROOT_DIR, \"images\", PROJECT_ID)\n",
    "\n",
    "def save_fig(fig_id, tight_layout=True, fig_extension=\"png\", resolution=300):\n",
    "    path = os.path.join(IMAGES_PATH, fig_id + \".\" + fig_extension)\n",
    "    if tight_layout:\n",
    "        plt.tight_layout()\n",
    "    plt.savefig(path, format=fig_extension, dpi=resolution)"
   ]
  },
  {
   "cell_type": "code",
   "execution_count": 4,
   "metadata": {},
   "outputs": [
    {
     "name": "stderr",
     "output_type": "stream",
     "text": [
      "findfont: Font family ['NanumBarunGothic'] not found. Falling back to DejaVu Sans.\n",
      "findfont: Font family ['NanumBarunGothic'] not found. Falling back to DejaVu Sans.\n",
      "C:\\DEV\\miniconda3\\envs\\tf37_cpu\\lib\\site-packages\\IPython\\core\\pylabtools.py:151: UserWarning: Glyph 54620 (\\N{HANGUL SYLLABLE HAN}) missing from current font.\n",
      "  fig.canvas.print_figure(bytes_io, **kw)\n",
      "C:\\DEV\\miniconda3\\envs\\tf37_cpu\\lib\\site-packages\\IPython\\core\\pylabtools.py:151: UserWarning: Glyph 44544 (\\N{HANGUL SYLLABLE GEUL}) missing from current font.\n",
      "  fig.canvas.print_figure(bytes_io, **kw)\n",
      "C:\\DEV\\miniconda3\\envs\\tf37_cpu\\lib\\site-packages\\IPython\\core\\pylabtools.py:151: UserWarning: Glyph 53580 (\\N{HANGUL SYLLABLE TE}) missing from current font.\n",
      "  fig.canvas.print_figure(bytes_io, **kw)\n",
      "C:\\DEV\\miniconda3\\envs\\tf37_cpu\\lib\\site-packages\\IPython\\core\\pylabtools.py:151: UserWarning: Glyph 49828 (\\N{HANGUL SYLLABLE SEU}) missing from current font.\n",
      "  fig.canvas.print_figure(bytes_io, **kw)\n",
      "C:\\DEV\\miniconda3\\envs\\tf37_cpu\\lib\\site-packages\\IPython\\core\\pylabtools.py:151: UserWarning: Glyph 53944 (\\N{HANGUL SYLLABLE TEU}) missing from current font.\n",
      "  fig.canvas.print_figure(bytes_io, **kw)\n",
      "C:\\DEV\\miniconda3\\envs\\tf37_cpu\\lib\\site-packages\\IPython\\core\\pylabtools.py:151: UserWarning: Glyph 50857 (\\N{HANGUL SYLLABLE YONG}) missing from current font.\n",
      "  fig.canvas.print_figure(bytes_io, **kw)\n"
     ]
    },
    {
     "data": {
      "image/png": "[encoded data removed]",
      "text/plain": [
       "<Figure size 360x360 with 1 Axes>"
      ]
     },
     "metadata": {
      "needs_background": "light"
     },
     "output_type": "display_data"
    }
   ],
   "source": [
    "plt.figure(figsize=(5,5))\n",
    "plt.plot([0,1], [0,1], label='한글테스트용')\n",
    "plt.legend()\n",
    "plt.show()"
   ]
  },
  {
   "cell_type": "markdown",
   "metadata": {},
   "source": [
    "# 데이터 가져오기"
   ]
  },
  {
   "cell_type": "markdown",
   "metadata": {},
   "source": [
    "통합 문서의 개수 및 각 통합 문서의 행과 열 개수 세기"
   ]
  },
  {
   "cell_type": "code",
   "execution_count": 6,
   "metadata": {},
   "outputs": [],
   "source": [
    "import openpyxl"
   ]
  },
  {
   "cell_type": "code",
   "execution_count": 20,
   "metadata": {},
   "outputs": [
    {
     "name": "stdout",
     "output_type": "stream",
     "text": [
      "Workbook: 2020-01-21_A_Line.xlsx\n",
      "Number of worksheets: <Worksheet \"RC\">\n"
     ]
    },
    {
     "ename": "AttributeError",
     "evalue": "'Workbook' object has no attribute 'sheets'",
     "output_type": "error",
     "traceback": [
      "\u001b[1;31m---------------------------------------------------------------------------\u001b[0m",
      "\u001b[1;31mAttributeError\u001b[0m                            Traceback (most recent call last)",
      "\u001b[1;32m~\\AppData\\Local\\Temp\\ipykernel_10084\\374109659.py\u001b[0m in \u001b[0;36m<module>\u001b[1;34m\u001b[0m\n\u001b[0;32m     13\u001b[0m         \u001b[0mprint\u001b[0m\u001b[1;33m(\u001b[0m\u001b[1;34m'Workbook: {}'\u001b[0m\u001b[1;33m.\u001b[0m\u001b[0mformat\u001b[0m\u001b[1;33m(\u001b[0m\u001b[0mos\u001b[0m\u001b[1;33m.\u001b[0m\u001b[0mpath\u001b[0m\u001b[1;33m.\u001b[0m\u001b[0mbasename\u001b[0m\u001b[1;33m(\u001b[0m\u001b[0minput_file\u001b[0m\u001b[1;33m)\u001b[0m\u001b[1;33m)\u001b[0m\u001b[1;33m)\u001b[0m\u001b[1;33m\u001b[0m\u001b[1;33m\u001b[0m\u001b[0m\n\u001b[0;32m     14\u001b[0m         \u001b[0mprint\u001b[0m\u001b[1;33m(\u001b[0m\u001b[1;34m'Number of worksheets: {}'\u001b[0m\u001b[1;33m.\u001b[0m\u001b[0mformat\u001b[0m\u001b[1;33m(\u001b[0m\u001b[0mws\u001b[0m\u001b[1;33m)\u001b[0m\u001b[1;33m)\u001b[0m\u001b[1;33m\u001b[0m\u001b[1;33m\u001b[0m\u001b[0m\n\u001b[1;32m---> 15\u001b[1;33m         \u001b[1;32mfor\u001b[0m \u001b[0mworksheet\u001b[0m \u001b[1;32min\u001b[0m \u001b[0mworkbook\u001b[0m\u001b[1;33m.\u001b[0m\u001b[0msheets\u001b[0m\u001b[1;33m(\u001b[0m\u001b[1;33m)\u001b[0m\u001b[1;33m:\u001b[0m\u001b[1;33m\u001b[0m\u001b[1;33m\u001b[0m\u001b[0m\n\u001b[0m\u001b[0;32m     16\u001b[0m \t\tprint('Worksheet name:', worksheet.name, '\\tRows:',\\\n\u001b[0;32m     17\u001b[0m \t\t\t\tworksheet.nrows, '\\tColumns:', worksheet.ncols)\n",
      "\u001b[1;31mAttributeError\u001b[0m: 'Workbook' object has no attribute 'sheets'"
     ]
    }
   ],
   "source": [
    "#!/usr/bin/env python3\n",
    "import glob\n",
    "import os\n",
    "import sys\n",
    "#from xlrd import open_workbook\n",
    "\n",
    "workbook_counter = 0\n",
    "n = 0\n",
    "for input_file in glob.glob('*.xlsx'):\n",
    "\tworkbook = openpyxl.load_workbook(input_file)\n",
    "\tsheets = workbook.sheetnames\n",
    "\tws = workbook[sheets[n]]\n",
    "\tprint('Workbook: {}'.format(os.path.basename(input_file)))\n",
    "\tprint('Number of worksheets: {}'.format(ws))\n",
    "\tfor worksheet in workbook.sheets():\n",
    "\t\tprint('Worksheet name:', worksheet.name, '\\tRows:',\\\n",
    "\t\t\t\tworksheet.nrows, '\\tColumns:', worksheet.ncols)\n",
    "\tworkbook_counter += 1\n",
    "print('Number of Excel workbooks: {}'.format(workbook_counter))"
   ]
  },
  {
   "cell_type": "code",
   "execution_count": 21,
   "metadata": {},
   "outputs": [
    {
     "name": "stderr",
     "output_type": "stream",
     "text": [
      "C:\\DEV\\miniconda3\\envs\\tf37_cpu\\lib\\site-packages\\openpyxl\\worksheet\\_reader.py:312: UserWarning: Unknown extension is not supported and will be removed\n",
      "  warn(msg)\n"
     ]
    }
   ],
   "source": [
    "import pandas as pd\n",
    "import glob\n",
    "import os\n",
    "\n",
    "all_workbooks = glob.glob('*.xlsx')\n",
    "data_frames = []\n",
    "for workbook in all_workbooks:\n",
    "\tall_worksheets = pd.read_excel(workbook, sheet_name=None, index_col=None)\n",
    "\tfor worksheet_name, data in all_worksheets.items():\n",
    "\t\tdata_frames.append(data)\n",
    "all_data_concatenated = pd.concat(data_frames, axis=0, ignore_index=True)\n",
    "\n",
    "writer = pd.ExcelWriter(\"A_Line_2020_01.xlsx\")\n",
    "all_data_concatenated.to_excel(writer, sheet_name='all_data_all_workbooks', index=False)\n",
    "writer.save()"
   ]
  },
  {
   "cell_type": "code",
   "execution_count": 25,
   "metadata": {},
   "outputs": [],
   "source": [
    "#불러올 파일의 경로를 filename 변수에 저장\n",
    "filename = './A_Line_2020_01.xlsx'"
   ]
  },
  {
   "cell_type": "code",
   "execution_count": 22,
   "metadata": {},
   "outputs": [],
   "source": [
    "import pandas as pd"
   ]
  },
  {
   "cell_type": "code",
   "execution_count": 27,
   "metadata": {},
   "outputs": [
    {
     "data": {
      "text/html": [
       "<div>\n",
       "<style scoped>\n",
       "    .dataframe tbody tr th:only-of-type {\n",
       "        vertical-align: middle;\n",
       "    }\n",
       "\n",
       "    .dataframe tbody tr th {\n",
       "        vertical-align: top;\n",
       "    }\n",
       "\n",
       "    .dataframe thead th {\n",
       "        text-align: right;\n",
       "    }\n",
       "</style>\n",
       "<table border=\"1\" class=\"dataframe\">\n",
       "  <thead>\n",
       "    <tr style=\"text-align: right;\">\n",
       "      <th></th>\n",
       "      <th>Date</th>\n",
       "      <th>Time</th>\n",
       "      <th>Result</th>\n",
       "      <th>Periods</th>\n",
       "      <th>WRITING</th>\n",
       "      <th>BLE DEVICENAME</th>\n",
       "      <th>BLE MAC ADDRESS</th>\n",
       "      <th>FCTVER</th>\n",
       "      <th>MLBSERIAL</th>\n",
       "      <th>FATPSERIAL</th>\n",
       "      <th>DSNSERIAL</th>\n",
       "      <th>ETC</th>\n",
       "      <th>BLE RSSI</th>\n",
       "      <th>ATIVECURR</th>\n",
       "      <th>STANBYCURR</th>\n",
       "      <th>IR/Current</th>\n",
       "      <th>IR LED</th>\n",
       "      <th>ACC_X</th>\n",
       "      <th>ACC_Y</th>\n",
       "      <th>ACC_Z</th>\n",
       "    </tr>\n",
       "  </thead>\n",
       "  <tbody>\n",
       "    <tr>\n",
       "      <th>0</th>\n",
       "      <td>2020-01-21</td>\n",
       "      <td>19:06:34</td>\n",
       "      <td>OK</td>\n",
       "      <td>19.4</td>\n",
       "      <td>OK</td>\n",
       "      <td>AbbeyFactoryTest</td>\n",
       "      <td>B010A059463E</td>\n",
       "      <td>Dec 15 2019</td>\n",
       "      <td>GRS65006337020A24N00002</td>\n",
       "      <td>WIP24211QUH100002</td>\n",
       "      <td>24211QUH100002</td>\n",
       "      <td>OK</td>\n",
       "      <td>-33.0</td>\n",
       "      <td>2.1</td>\n",
       "      <td>2.9</td>\n",
       "      <td>224.1</td>\n",
       "      <td>1628</td>\n",
       "      <td>-8</td>\n",
       "      <td>-7</td>\n",
       "      <td>1151</td>\n",
       "    </tr>\n",
       "    <tr>\n",
       "      <th>1</th>\n",
       "      <td>2020-01-21</td>\n",
       "      <td>19:06:34</td>\n",
       "      <td>OK</td>\n",
       "      <td>19.8</td>\n",
       "      <td>OK</td>\n",
       "      <td>AbbeyFactoryTest</td>\n",
       "      <td>B010A0594640</td>\n",
       "      <td>Dec 15 2019</td>\n",
       "      <td>GRS65006337020A24N00004</td>\n",
       "      <td>WIP24211QUH100004</td>\n",
       "      <td>24211QUH100004</td>\n",
       "      <td>OK</td>\n",
       "      <td>-34.0</td>\n",
       "      <td>2.1</td>\n",
       "      <td>2.4</td>\n",
       "      <td>212.3</td>\n",
       "      <td>741</td>\n",
       "      <td>9</td>\n",
       "      <td>-8</td>\n",
       "      <td>1122</td>\n",
       "    </tr>\n",
       "    <tr>\n",
       "      <th>2</th>\n",
       "      <td>2020-01-21</td>\n",
       "      <td>19:06:34</td>\n",
       "      <td>OK</td>\n",
       "      <td>19.6</td>\n",
       "      <td>OK</td>\n",
       "      <td>AbbeyFactoryTest</td>\n",
       "      <td>B010A0594646</td>\n",
       "      <td>Dec 15 2019</td>\n",
       "      <td>GRS65006337020A24N00005</td>\n",
       "      <td>WIP24211QUH100005</td>\n",
       "      <td>24211QUH100005</td>\n",
       "      <td>OK</td>\n",
       "      <td>-42.0</td>\n",
       "      <td>2.1</td>\n",
       "      <td>2.5</td>\n",
       "      <td>217.4</td>\n",
       "      <td>1133</td>\n",
       "      <td>-21</td>\n",
       "      <td>-45</td>\n",
       "      <td>968</td>\n",
       "    </tr>\n",
       "    <tr>\n",
       "      <th>3</th>\n",
       "      <td>2020-01-21</td>\n",
       "      <td>19:06:34</td>\n",
       "      <td>OK</td>\n",
       "      <td>18.6</td>\n",
       "      <td>OK</td>\n",
       "      <td>AbbeyFactoryTest</td>\n",
       "      <td>B010A0594642</td>\n",
       "      <td>Dec 15 2019</td>\n",
       "      <td>GRS65006337020A24N00003</td>\n",
       "      <td>WIP24211QUH100003</td>\n",
       "      <td>24211QUH100003</td>\n",
       "      <td>OK</td>\n",
       "      <td>-33.0</td>\n",
       "      <td>2.0</td>\n",
       "      <td>1.9</td>\n",
       "      <td>217.1</td>\n",
       "      <td>1254</td>\n",
       "      <td>-5</td>\n",
       "      <td>-40</td>\n",
       "      <td>942</td>\n",
       "    </tr>\n",
       "    <tr>\n",
       "      <th>4</th>\n",
       "      <td>2020-01-21</td>\n",
       "      <td>19:06:34</td>\n",
       "      <td>OK</td>\n",
       "      <td>18.9</td>\n",
       "      <td>OK</td>\n",
       "      <td>AbbeyFactoryTest</td>\n",
       "      <td>B010A0594648</td>\n",
       "      <td>Dec 15 2019</td>\n",
       "      <td>GRS65006337020A24N00001</td>\n",
       "      <td>WIP24211QUH100001</td>\n",
       "      <td>24211QUH100001</td>\n",
       "      <td>OK</td>\n",
       "      <td>-37.0</td>\n",
       "      <td>2.0</td>\n",
       "      <td>2.5</td>\n",
       "      <td>225.1</td>\n",
       "      <td>2785</td>\n",
       "      <td>-35</td>\n",
       "      <td>-11</td>\n",
       "      <td>948</td>\n",
       "    </tr>\n",
       "  </tbody>\n",
       "</table>\n",
       "</div>"
      ],
      "text/plain": [
       "        Date      Time Result  Periods WRITING    BLE DEVICENAME  \\\n",
       "0 2020-01-21  19:06:34     OK     19.4      OK  AbbeyFactoryTest   \n",
       "1 2020-01-21  19:06:34     OK     19.8      OK  AbbeyFactoryTest   \n",
       "2 2020-01-21  19:06:34     OK     19.6      OK  AbbeyFactoryTest   \n",
       "3 2020-01-21  19:06:34     OK     18.6      OK  AbbeyFactoryTest   \n",
       "4 2020-01-21  19:06:34     OK     18.9      OK  AbbeyFactoryTest   \n",
       "\n",
       "  BLE MAC ADDRESS       FCTVER                MLBSERIAL         FATPSERIAL  \\\n",
       "0    B010A059463E  Dec 15 2019  GRS65006337020A24N00002  WIP24211QUH100002   \n",
       "1    B010A0594640  Dec 15 2019  GRS65006337020A24N00004  WIP24211QUH100004   \n",
       "2    B010A0594646  Dec 15 2019  GRS65006337020A24N00005  WIP24211QUH100005   \n",
       "3    B010A0594642  Dec 15 2019  GRS65006337020A24N00003  WIP24211QUH100003   \n",
       "4    B010A0594648  Dec 15 2019  GRS65006337020A24N00001  WIP24211QUH100001   \n",
       "\n",
       "        DSNSERIAL ETC  BLE RSSI  ATIVECURR  STANBYCURR  IR/Current  IR LED  \\\n",
       "0  24211QUH100002  OK     -33.0        2.1         2.9       224.1    1628   \n",
       "1  24211QUH100004  OK     -34.0        2.1         2.4       212.3     741   \n",
       "2  24211QUH100005  OK     -42.0        2.1         2.5       217.4    1133   \n",
       "3  24211QUH100003  OK     -33.0        2.0         1.9       217.1    1254   \n",
       "4  24211QUH100001  OK     -37.0        2.0         2.5       225.1    2785   \n",
       "\n",
       "   ACC_X  ACC_Y  ACC_Z  \n",
       "0     -8     -7   1151  \n",
       "1      9     -8   1122  \n",
       "2    -21    -45    968  \n",
       "3     -5    -40    942  \n",
       "4    -35    -11    948  "
      ]
     },
     "execution_count": 27,
     "metadata": {},
     "output_type": "execute_result"
    }
   ],
   "source": [
    "#pandas read_excel로 불러오기\n",
    "A_Line_2020_01 = pd.read_excel(filename)\n",
    "A_Line_2020_01.head()"
   ]
  },
  {
   "cell_type": "code",
   "execution_count": 28,
   "metadata": {},
   "outputs": [],
   "source": [
    "A_Line_2020_01.to_csv('./A_Line_2020_01.csv', index=False)"
   ]
  },
  {
   "cell_type": "code",
   "execution_count": 29,
   "metadata": {},
   "outputs": [
    {
     "name": "stderr",
     "output_type": "stream",
     "text": [
      "C:\\DEV\\miniconda3\\envs\\tf37_cpu\\lib\\site-packages\\IPython\\core\\interactiveshell.py:3553: DtypeWarning: Columns (5) have mixed types.Specify dtype option on import or set low_memory=False.\n",
      "  exec(code_obj, self.user_global_ns, self.user_ns)\n"
     ]
    }
   ],
   "source": [
    "import pandas as pd\n",
    "\n",
    "A_Line_2020_01=pd.read_csv('./A_Line_2020_01.csv')"
   ]
  },
  {
   "cell_type": "code",
   "execution_count": 31,
   "metadata": {},
   "outputs": [
    {
     "data": {
      "text/html": [
       "<div>\n",
       "<style scoped>\n",
       "    .dataframe tbody tr th:only-of-type {\n",
       "        vertical-align: middle;\n",
       "    }\n",
       "\n",
       "    .dataframe tbody tr th {\n",
       "        vertical-align: top;\n",
       "    }\n",
       "\n",
       "    .dataframe thead th {\n",
       "        text-align: right;\n",
       "    }\n",
       "</style>\n",
       "<table border=\"1\" class=\"dataframe\">\n",
       "  <thead>\n",
       "    <tr style=\"text-align: right;\">\n",
       "      <th></th>\n",
       "      <th>Date</th>\n",
       "      <th>Time</th>\n",
       "      <th>Result</th>\n",
       "      <th>Periods</th>\n",
       "      <th>WRITING</th>\n",
       "      <th>BLE DEVICENAME</th>\n",
       "      <th>BLE MAC ADDRESS</th>\n",
       "      <th>FCTVER</th>\n",
       "      <th>MLBSERIAL</th>\n",
       "      <th>FATPSERIAL</th>\n",
       "      <th>DSNSERIAL</th>\n",
       "      <th>ETC</th>\n",
       "      <th>BLE RSSI</th>\n",
       "      <th>ATIVECURR</th>\n",
       "      <th>STANBYCURR</th>\n",
       "      <th>IR/Current</th>\n",
       "      <th>IR LED</th>\n",
       "      <th>ACC_X</th>\n",
       "      <th>ACC_Y</th>\n",
       "      <th>ACC_Z</th>\n",
       "    </tr>\n",
       "  </thead>\n",
       "  <tbody>\n",
       "    <tr>\n",
       "      <th>0</th>\n",
       "      <td>2020-01-21</td>\n",
       "      <td>19:06:34</td>\n",
       "      <td>OK</td>\n",
       "      <td>19.4</td>\n",
       "      <td>OK</td>\n",
       "      <td>AbbeyFactoryTest</td>\n",
       "      <td>B010A059463E</td>\n",
       "      <td>Dec 15 2019</td>\n",
       "      <td>GRS65006337020A24N00002</td>\n",
       "      <td>WIP24211QUH100002</td>\n",
       "      <td>24211QUH100002</td>\n",
       "      <td>OK</td>\n",
       "      <td>-33.0</td>\n",
       "      <td>2.1</td>\n",
       "      <td>2.9</td>\n",
       "      <td>224.1</td>\n",
       "      <td>1628</td>\n",
       "      <td>-8</td>\n",
       "      <td>-7</td>\n",
       "      <td>1151</td>\n",
       "    </tr>\n",
       "    <tr>\n",
       "      <th>1</th>\n",
       "      <td>2020-01-21</td>\n",
       "      <td>19:06:34</td>\n",
       "      <td>OK</td>\n",
       "      <td>19.8</td>\n",
       "      <td>OK</td>\n",
       "      <td>AbbeyFactoryTest</td>\n",
       "      <td>B010A0594640</td>\n",
       "      <td>Dec 15 2019</td>\n",
       "      <td>GRS65006337020A24N00004</td>\n",
       "      <td>WIP24211QUH100004</td>\n",
       "      <td>24211QUH100004</td>\n",
       "      <td>OK</td>\n",
       "      <td>-34.0</td>\n",
       "      <td>2.1</td>\n",
       "      <td>2.4</td>\n",
       "      <td>212.3</td>\n",
       "      <td>741</td>\n",
       "      <td>9</td>\n",
       "      <td>-8</td>\n",
       "      <td>1122</td>\n",
       "    </tr>\n",
       "    <tr>\n",
       "      <th>2</th>\n",
       "      <td>2020-01-21</td>\n",
       "      <td>19:06:34</td>\n",
       "      <td>OK</td>\n",
       "      <td>19.6</td>\n",
       "      <td>OK</td>\n",
       "      <td>AbbeyFactoryTest</td>\n",
       "      <td>B010A0594646</td>\n",
       "      <td>Dec 15 2019</td>\n",
       "      <td>GRS65006337020A24N00005</td>\n",
       "      <td>WIP24211QUH100005</td>\n",
       "      <td>24211QUH100005</td>\n",
       "      <td>OK</td>\n",
       "      <td>-42.0</td>\n",
       "      <td>2.1</td>\n",
       "      <td>2.5</td>\n",
       "      <td>217.4</td>\n",
       "      <td>1133</td>\n",
       "      <td>-21</td>\n",
       "      <td>-45</td>\n",
       "      <td>968</td>\n",
       "    </tr>\n",
       "    <tr>\n",
       "      <th>3</th>\n",
       "      <td>2020-01-21</td>\n",
       "      <td>19:06:34</td>\n",
       "      <td>OK</td>\n",
       "      <td>18.6</td>\n",
       "      <td>OK</td>\n",
       "      <td>AbbeyFactoryTest</td>\n",
       "      <td>B010A0594642</td>\n",
       "      <td>Dec 15 2019</td>\n",
       "      <td>GRS65006337020A24N00003</td>\n",
       "      <td>WIP24211QUH100003</td>\n",
       "      <td>24211QUH100003</td>\n",
       "      <td>OK</td>\n",
       "      <td>-33.0</td>\n",
       "      <td>2.0</td>\n",
       "      <td>1.9</td>\n",
       "      <td>217.1</td>\n",
       "      <td>1254</td>\n",
       "      <td>-5</td>\n",
       "      <td>-40</td>\n",
       "      <td>942</td>\n",
       "    </tr>\n",
       "    <tr>\n",
       "      <th>4</th>\n",
       "      <td>2020-01-21</td>\n",
       "      <td>19:06:34</td>\n",
       "      <td>OK</td>\n",
       "      <td>18.9</td>\n",
       "      <td>OK</td>\n",
       "      <td>AbbeyFactoryTest</td>\n",
       "      <td>B010A0594648</td>\n",
       "      <td>Dec 15 2019</td>\n",
       "      <td>GRS65006337020A24N00001</td>\n",
       "      <td>WIP24211QUH100001</td>\n",
       "      <td>24211QUH100001</td>\n",
       "      <td>OK</td>\n",
       "      <td>-37.0</td>\n",
       "      <td>2.0</td>\n",
       "      <td>2.5</td>\n",
       "      <td>225.1</td>\n",
       "      <td>2785</td>\n",
       "      <td>-35</td>\n",
       "      <td>-11</td>\n",
       "      <td>948</td>\n",
       "    </tr>\n",
       "    <tr>\n",
       "      <th>...</th>\n",
       "      <td>...</td>\n",
       "      <td>...</td>\n",
       "      <td>...</td>\n",
       "      <td>...</td>\n",
       "      <td>...</td>\n",
       "      <td>...</td>\n",
       "      <td>...</td>\n",
       "      <td>...</td>\n",
       "      <td>...</td>\n",
       "      <td>...</td>\n",
       "      <td>...</td>\n",
       "      <td>...</td>\n",
       "      <td>...</td>\n",
       "      <td>...</td>\n",
       "      <td>...</td>\n",
       "      <td>...</td>\n",
       "      <td>...</td>\n",
       "      <td>...</td>\n",
       "      <td>...</td>\n",
       "      <td>...</td>\n",
       "    </tr>\n",
       "    <tr>\n",
       "      <th>42059</th>\n",
       "      <td>2020-01-25</td>\n",
       "      <td>23:57:42</td>\n",
       "      <td>OK</td>\n",
       "      <td>14.2</td>\n",
       "      <td>OK</td>\n",
       "      <td>NaN</td>\n",
       "      <td>AC4D16E55472</td>\n",
       "      <td>Dec 15 2019</td>\n",
       "      <td>GRS65006337020A24R007IZ</td>\n",
       "      <td>WIP24251QUH1007IZ</td>\n",
       "      <td>24251QUH1007IZ</td>\n",
       "      <td>OK</td>\n",
       "      <td>NaN</td>\n",
       "      <td>2.1</td>\n",
       "      <td>2.8</td>\n",
       "      <td>220.3</td>\n",
       "      <td>1687</td>\n",
       "      <td>-6</td>\n",
       "      <td>5</td>\n",
       "      <td>1196</td>\n",
       "    </tr>\n",
       "    <tr>\n",
       "      <th>42060</th>\n",
       "      <td>2020-01-25</td>\n",
       "      <td>23:57:42</td>\n",
       "      <td>OK</td>\n",
       "      <td>15.2</td>\n",
       "      <td>OK</td>\n",
       "      <td>NaN</td>\n",
       "      <td>AC4D16E5548F</td>\n",
       "      <td>Dec 15 2019</td>\n",
       "      <td>GRS65006337020A24R007IY</td>\n",
       "      <td>WIP24251QUH1007IY</td>\n",
       "      <td>24251QUH1007IY</td>\n",
       "      <td>OK</td>\n",
       "      <td>NaN</td>\n",
       "      <td>2.1</td>\n",
       "      <td>2.6</td>\n",
       "      <td>218.1</td>\n",
       "      <td>754</td>\n",
       "      <td>40</td>\n",
       "      <td>43</td>\n",
       "      <td>1222</td>\n",
       "    </tr>\n",
       "    <tr>\n",
       "      <th>42061</th>\n",
       "      <td>2020-01-25</td>\n",
       "      <td>23:57:42</td>\n",
       "      <td>OK</td>\n",
       "      <td>14.0</td>\n",
       "      <td>OK</td>\n",
       "      <td>NaN</td>\n",
       "      <td>AC4D16E55485</td>\n",
       "      <td>Dec 15 2019</td>\n",
       "      <td>GRS65006337020A24R007J0</td>\n",
       "      <td>WIP24251QUH1007J0</td>\n",
       "      <td>24251QUH1007J0</td>\n",
       "      <td>OK</td>\n",
       "      <td>NaN</td>\n",
       "      <td>2.1</td>\n",
       "      <td>2.1</td>\n",
       "      <td>219.5</td>\n",
       "      <td>1152</td>\n",
       "      <td>2</td>\n",
       "      <td>10</td>\n",
       "      <td>1062</td>\n",
       "    </tr>\n",
       "    <tr>\n",
       "      <th>42062</th>\n",
       "      <td>2020-01-25</td>\n",
       "      <td>23:57:42</td>\n",
       "      <td>OK</td>\n",
       "      <td>14.5</td>\n",
       "      <td>OK</td>\n",
       "      <td>NaN</td>\n",
       "      <td>AC4D16E55490</td>\n",
       "      <td>Dec 15 2019</td>\n",
       "      <td>GRS65006337020A24R007J2</td>\n",
       "      <td>WIP24251QUH1007J2</td>\n",
       "      <td>24251QUH1007J2</td>\n",
       "      <td>OK</td>\n",
       "      <td>NaN</td>\n",
       "      <td>2.0</td>\n",
       "      <td>2.5</td>\n",
       "      <td>217.3</td>\n",
       "      <td>1288</td>\n",
       "      <td>1</td>\n",
       "      <td>-17</td>\n",
       "      <td>976</td>\n",
       "    </tr>\n",
       "    <tr>\n",
       "      <th>42063</th>\n",
       "      <td>2020-01-25</td>\n",
       "      <td>23:57:42</td>\n",
       "      <td>OK</td>\n",
       "      <td>14.9</td>\n",
       "      <td>OK</td>\n",
       "      <td>NaN</td>\n",
       "      <td>AC4D16E5548A</td>\n",
       "      <td>Dec 15 2019</td>\n",
       "      <td>GRS65006337020A24R007J1</td>\n",
       "      <td>WIP24251QUH1007J1</td>\n",
       "      <td>24251QUH1007J1</td>\n",
       "      <td>OK</td>\n",
       "      <td>NaN</td>\n",
       "      <td>2.0</td>\n",
       "      <td>2.1</td>\n",
       "      <td>225.9</td>\n",
       "      <td>2851</td>\n",
       "      <td>31</td>\n",
       "      <td>-20</td>\n",
       "      <td>951</td>\n",
       "    </tr>\n",
       "  </tbody>\n",
       "</table>\n",
       "<p>42064 rows × 20 columns</p>\n",
       "</div>"
      ],
      "text/plain": [
       "             Date      Time Result  Periods WRITING    BLE DEVICENAME  \\\n",
       "0      2020-01-21  19:06:34     OK     19.4      OK  AbbeyFactoryTest   \n",
       "1      2020-01-21  19:06:34     OK     19.8      OK  AbbeyFactoryTest   \n",
       "2      2020-01-21  19:06:34     OK     19.6      OK  AbbeyFactoryTest   \n",
       "3      2020-01-21  19:06:34     OK     18.6      OK  AbbeyFactoryTest   \n",
       "4      2020-01-21  19:06:34     OK     18.9      OK  AbbeyFactoryTest   \n",
       "...           ...       ...    ...      ...     ...               ...   \n",
       "42059  2020-01-25  23:57:42     OK     14.2      OK               NaN   \n",
       "42060  2020-01-25  23:57:42     OK     15.2      OK               NaN   \n",
       "42061  2020-01-25  23:57:42     OK     14.0      OK               NaN   \n",
       "42062  2020-01-25  23:57:42     OK     14.5      OK               NaN   \n",
       "42063  2020-01-25  23:57:42     OK     14.9      OK               NaN   \n",
       "\n",
       "      BLE MAC ADDRESS       FCTVER                MLBSERIAL  \\\n",
       "0        B010A059463E  Dec 15 2019  GRS65006337020A24N00002   \n",
       "1        B010A0594640  Dec 15 2019  GRS65006337020A24N00004   \n",
       "2        B010A0594646  Dec 15 2019  GRS65006337020A24N00005   \n",
       "3        B010A0594642  Dec 15 2019  GRS65006337020A24N00003   \n",
       "4        B010A0594648  Dec 15 2019  GRS65006337020A24N00001   \n",
       "...               ...          ...                      ...   \n",
       "42059    AC4D16E55472  Dec 15 2019  GRS65006337020A24R007IZ   \n",
       "42060    AC4D16E5548F  Dec 15 2019  GRS65006337020A24R007IY   \n",
       "42061    AC4D16E55485  Dec 15 2019  GRS65006337020A24R007J0   \n",
       "42062    AC4D16E55490  Dec 15 2019  GRS65006337020A24R007J2   \n",
       "42063    AC4D16E5548A  Dec 15 2019  GRS65006337020A24R007J1   \n",
       "\n",
       "              FATPSERIAL       DSNSERIAL ETC  BLE RSSI  ATIVECURR  STANBYCURR  \\\n",
       "0      WIP24211QUH100002  24211QUH100002  OK     -33.0        2.1         2.9   \n",
       "1      WIP24211QUH100004  24211QUH100004  OK     -34.0        2.1         2.4   \n",
       "2      WIP24211QUH100005  24211QUH100005  OK     -42.0        2.1         2.5   \n",
       "3      WIP24211QUH100003  24211QUH100003  OK     -33.0        2.0         1.9   \n",
       "4      WIP24211QUH100001  24211QUH100001  OK     -37.0        2.0         2.5   \n",
       "...                  ...             ...  ..       ...        ...         ...   \n",
       "42059  WIP24251QUH1007IZ  24251QUH1007IZ  OK       NaN        2.1         2.8   \n",
       "42060  WIP24251QUH1007IY  24251QUH1007IY  OK       NaN        2.1         2.6   \n",
       "42061  WIP24251QUH1007J0  24251QUH1007J0  OK       NaN        2.1         2.1   \n",
       "42062  WIP24251QUH1007J2  24251QUH1007J2  OK       NaN        2.0         2.5   \n",
       "42063  WIP24251QUH1007J1  24251QUH1007J1  OK       NaN        2.0         2.1   \n",
       "\n",
       "       IR/Current  IR LED  ACC_X  ACC_Y  ACC_Z  \n",
       "0           224.1    1628     -8     -7   1151  \n",
       "1           212.3     741      9     -8   1122  \n",
       "2           217.4    1133    -21    -45    968  \n",
       "3           217.1    1254     -5    -40    942  \n",
       "4           225.1    2785    -35    -11    948  \n",
       "...           ...     ...    ...    ...    ...  \n",
       "42059       220.3    1687     -6      5   1196  \n",
       "42060       218.1     754     40     43   1222  \n",
       "42061       219.5    1152      2     10   1062  \n",
       "42062       217.3    1288      1    -17    976  \n",
       "42063       225.9    2851     31    -20    951  \n",
       "\n",
       "[42064 rows x 20 columns]"
      ]
     },
     "execution_count": 31,
     "metadata": {},
     "output_type": "execute_result"
    }
   ],
   "source": [
    "A_Line_2020_01"
   ]
  },
  {
   "cell_type": "code",
   "execution_count": 32,
   "metadata": {},
   "outputs": [
    {
     "name": "stdout",
     "output_type": "stream",
     "text": [
      "<class 'pandas.core.frame.DataFrame'>\n",
      "RangeIndex: 42064 entries, 0 to 42063\n",
      "Data columns (total 20 columns):\n",
      " #   Column           Non-Null Count  Dtype  \n",
      "---  ------           --------------  -----  \n",
      " 0   Date             42064 non-null  object \n",
      " 1   Time             42064 non-null  object \n",
      " 2   Result           42064 non-null  object \n",
      " 3   Periods          42064 non-null  float64\n",
      " 4   WRITING          42064 non-null  object \n",
      " 5   BLE DEVICENAME   10545 non-null  object \n",
      " 6   BLE MAC ADDRESS  41691 non-null  object \n",
      " 7   FCTVER           42022 non-null  object \n",
      " 8   MLBSERIAL        42064 non-null  object \n",
      " 9   FATPSERIAL       42021 non-null  object \n",
      " 10  DSNSERIAL        42021 non-null  object \n",
      " 11  ETC              42021 non-null  object \n",
      " 12  BLE RSSI         10564 non-null  float64\n",
      " 13  ATIVECURR        42064 non-null  float64\n",
      " 14  STANBYCURR       42064 non-null  float64\n",
      " 15  IR/Current       42064 non-null  float64\n",
      " 16  IR LED           42064 non-null  int64  \n",
      " 17  ACC_X            42064 non-null  int64  \n",
      " 18  ACC_Y            42064 non-null  int64  \n",
      " 19  ACC_Z            42064 non-null  int64  \n",
      "dtypes: float64(5), int64(4), object(11)\n",
      "memory usage: 6.4+ MB\n"
     ]
    }
   ],
   "source": [
    "A_Line_2020_01.info()"
   ]
  },
  {
   "cell_type": "code",
   "execution_count": 33,
   "metadata": {},
   "outputs": [
    {
     "data": {
      "text/plain": [
       "Date        Time      Result  Periods  WRITING  BLE DEVICENAME    BLE MAC ADDRESS  FCTVER       MLBSERIAL                FATPSERIAL         DSNSERIAL       ETC  BLE RSSI  ATIVECURR  STANBYCURR  IR/Current  IR LED  ACC_X  ACC_Y  ACC_Z\n",
       "2020-01-21  19:06:34  OK      18.6     OK       AbbeyFactoryTest  B010A0594642     Dec 15 2019  GRS65006337020A24N00003  WIP24211QUH100003  24211QUH100003  OK   -33.0     2.0        1.9         217.1       1254    -5     -40    942      1\n",
       "2020-01-22  05:47:32  OK      15.9     OK       AbbeyFactoryTest  AC4D16E5D69A     Dec 15 2019  GRS65006337020A24M0032E  WIP24221QUH10032E  24221QUH10032E  OK   -34.0     2.1        2.5         232.3       777      18     5     1066     1\n",
       "                              16.4     OK       AbbeyFactoryTest  AC4D16E5D803     Dec 15 2019  GRS65006337020A24M0032C  WIP24221QUH10032C  24221QUH10032C  OK   -33.0     2.2        2.5         220.8       1665    -28    -13    1224     1\n",
       "                              16.6     OK       AbbeyFactoryTest  AC4D16E5D6A6     Dec 15 2019  GRS65006337020A24M0032H  WIP24221QUH10032H  24221QUH10032H  OK   -33.0     2.0        2.7         221.0       2828    -20    -44    1008     1\n",
       "                              16.9     OK       AbbeyFactoryTest  AC4D16E5D778     Dec 15 2019  GRS65006337020A24M0032D  WIP24221QUH10032D  24221QUH10032D  OK   -33.0     2.1        2.5         222.8       1693    -11    -7     1141     1\n",
       "                                                                                                                                                                                                                                            ..\n",
       "            00:30:32  OK      15.2     OK       AbbeyFactoryTest  AC4D16E98CA7     Dec 15 2019  GRS65006337020A24M000CL  WIP24221QUH1000CL  24221QUH1000CL  OK   -45.0     2.1        2.5         225.2       1182    -25    -9     1118     1\n",
       "                              15.4     OK       AbbeyFactoryTest  AC4D16E98CB1     Dec 15 2019  GRS65006337020A24M000CJ  WIP24221QUH1000CJ  24221QUH1000CJ  OK   -33.0     2.1        1.9         232.3       784     -20    -15    1034     1\n",
       "                              15.6     OK       AbbeyFactoryTest  AC4D16E98AC4     Dec 15 2019  GRS65006337020A24M000CN  WIP24221QUH1000CN  24221QUH1000CN  OK   -32.0     2.1        2.5         222.3       1303    -14     19    1039     1\n",
       "                              15.9     OK       AbbeyFactoryTest  AC4D16E98C9D     Dec 15 2019  GRS65006337020A24M000CI  WIP24221QUH1000CI  24221QUH1000CI  OK   -34.0     2.1        1.9         229.7       1656    -14    -36    928      1\n",
       "            12:19:03  OK      20.6     OK       AbbeyFactoryTest  FCA89B70BEF0     Dec 15 2019  GRS65006337020A24M005TH  WIP24221QUH1005TH  24221QUH1005TH  OK   -32.0     2.1        2.7         227.6       2853     8     -2     1101     1\n",
       "Length: 10545, dtype: int64"
      ]
     },
     "execution_count": 33,
     "metadata": {},
     "output_type": "execute_result"
    }
   ],
   "source": [
    "A_Line_2020_01.value_counts()"
   ]
  },
  {
   "cell_type": "code",
   "execution_count": 34,
   "metadata": {},
   "outputs": [
    {
     "data": {
      "text/html": [
       "<div>\n",
       "<style scoped>\n",
       "    .dataframe tbody tr th:only-of-type {\n",
       "        vertical-align: middle;\n",
       "    }\n",
       "\n",
       "    .dataframe tbody tr th {\n",
       "        vertical-align: top;\n",
       "    }\n",
       "\n",
       "    .dataframe thead th {\n",
       "        text-align: right;\n",
       "    }\n",
       "</style>\n",
       "<table border=\"1\" class=\"dataframe\">\n",
       "  <thead>\n",
       "    <tr style=\"text-align: right;\">\n",
       "      <th></th>\n",
       "      <th>Periods</th>\n",
       "      <th>BLE RSSI</th>\n",
       "      <th>ATIVECURR</th>\n",
       "      <th>STANBYCURR</th>\n",
       "      <th>IR/Current</th>\n",
       "      <th>IR LED</th>\n",
       "      <th>ACC_X</th>\n",
       "      <th>ACC_Y</th>\n",
       "      <th>ACC_Z</th>\n",
       "    </tr>\n",
       "  </thead>\n",
       "  <tbody>\n",
       "    <tr>\n",
       "      <th>count</th>\n",
       "      <td>42064.000000</td>\n",
       "      <td>10564.000000</td>\n",
       "      <td>42064.000000</td>\n",
       "      <td>42064.000000</td>\n",
       "      <td>42064.000000</td>\n",
       "      <td>42064.000000</td>\n",
       "      <td>42064.000000</td>\n",
       "      <td>42064.000000</td>\n",
       "      <td>42064.000000</td>\n",
       "    </tr>\n",
       "    <tr>\n",
       "      <th>mean</th>\n",
       "      <td>15.202506</td>\n",
       "      <td>-52.870314</td>\n",
       "      <td>2.236245</td>\n",
       "      <td>3.437395</td>\n",
       "      <td>223.079381</td>\n",
       "      <td>1526.223540</td>\n",
       "      <td>-10.533235</td>\n",
       "      <td>-9.615895</td>\n",
       "      <td>1091.170859</td>\n",
       "    </tr>\n",
       "    <tr>\n",
       "      <th>std</th>\n",
       "      <td>1.358608</td>\n",
       "      <td>422.226879</td>\n",
       "      <td>20.671937</td>\n",
       "      <td>50.737914</td>\n",
       "      <td>25.090842</td>\n",
       "      <td>636.268804</td>\n",
       "      <td>320.161166</td>\n",
       "      <td>320.333924</td>\n",
       "      <td>378.456985</td>\n",
       "    </tr>\n",
       "    <tr>\n",
       "      <th>min</th>\n",
       "      <td>11.400000</td>\n",
       "      <td>-9999.000000</td>\n",
       "      <td>-0.100000</td>\n",
       "      <td>-0.100000</td>\n",
       "      <td>-0.100000</td>\n",
       "      <td>6.000000</td>\n",
       "      <td>-9999.000000</td>\n",
       "      <td>-9999.000000</td>\n",
       "      <td>-9999.000000</td>\n",
       "    </tr>\n",
       "    <tr>\n",
       "      <th>25%</th>\n",
       "      <td>14.400000</td>\n",
       "      <td>-36.000000</td>\n",
       "      <td>2.000000</td>\n",
       "      <td>2.400000</td>\n",
       "      <td>219.200000</td>\n",
       "      <td>1151.000000</td>\n",
       "      <td>-13.000000</td>\n",
       "      <td>-13.000000</td>\n",
       "      <td>1009.000000</td>\n",
       "    </tr>\n",
       "    <tr>\n",
       "      <th>50%</th>\n",
       "      <td>14.900000</td>\n",
       "      <td>-33.000000</td>\n",
       "      <td>2.100000</td>\n",
       "      <td>2.600000</td>\n",
       "      <td>228.100000</td>\n",
       "      <td>1346.000000</td>\n",
       "      <td>0.000000</td>\n",
       "      <td>0.000000</td>\n",
       "      <td>1104.000000</td>\n",
       "    </tr>\n",
       "    <tr>\n",
       "      <th>75%</th>\n",
       "      <td>15.300000</td>\n",
       "      <td>-33.000000</td>\n",
       "      <td>2.200000</td>\n",
       "      <td>2.700000</td>\n",
       "      <td>232.400000</td>\n",
       "      <td>1703.000000</td>\n",
       "      <td>12.000000</td>\n",
       "      <td>14.000000</td>\n",
       "      <td>1197.000000</td>\n",
       "    </tr>\n",
       "    <tr>\n",
       "      <th>max</th>\n",
       "      <td>28.200000</td>\n",
       "      <td>-32.000000</td>\n",
       "      <td>3000.000000</td>\n",
       "      <td>3000.000000</td>\n",
       "      <td>3000.000000</td>\n",
       "      <td>3082.000000</td>\n",
       "      <td>497.000000</td>\n",
       "      <td>240.000000</td>\n",
       "      <td>2047.000000</td>\n",
       "    </tr>\n",
       "  </tbody>\n",
       "</table>\n",
       "</div>"
      ],
      "text/plain": [
       "            Periods      BLE RSSI     ATIVECURR    STANBYCURR    IR/Current  \\\n",
       "count  42064.000000  10564.000000  42064.000000  42064.000000  42064.000000   \n",
       "mean      15.202506    -52.870314      2.236245      3.437395    223.079381   \n",
       "std        1.358608    422.226879     20.671937     50.737914     25.090842   \n",
       "min       11.400000  -9999.000000     -0.100000     -0.100000     -0.100000   \n",
       "25%       14.400000    -36.000000      2.000000      2.400000    219.200000   \n",
       "50%       14.900000    -33.000000      2.100000      2.600000    228.100000   \n",
       "75%       15.300000    -33.000000      2.200000      2.700000    232.400000   \n",
       "max       28.200000    -32.000000   3000.000000   3000.000000   3000.000000   \n",
       "\n",
       "             IR LED         ACC_X         ACC_Y         ACC_Z  \n",
       "count  42064.000000  42064.000000  42064.000000  42064.000000  \n",
       "mean    1526.223540    -10.533235     -9.615895   1091.170859  \n",
       "std      636.268804    320.161166    320.333924    378.456985  \n",
       "min        6.000000  -9999.000000  -9999.000000  -9999.000000  \n",
       "25%     1151.000000    -13.000000    -13.000000   1009.000000  \n",
       "50%     1346.000000      0.000000      0.000000   1104.000000  \n",
       "75%     1703.000000     12.000000     14.000000   1197.000000  \n",
       "max     3082.000000    497.000000    240.000000   2047.000000  "
      ]
     },
     "execution_count": 34,
     "metadata": {},
     "output_type": "execute_result"
    }
   ],
   "source": [
    "A_Line_2020_01.describe()"
   ]
  },
  {
   "cell_type": "code",
   "execution_count": 35,
   "metadata": {},
   "outputs": [
    {
     "data": {
      "image/png": "[encoded data removed]",
      "text/plain": [
       "<Figure size 1440x1080 with 9 Axes>"
      ]
     },
     "metadata": {
      "needs_background": "light"
     },
     "output_type": "display_data"
    }
   ],
   "source": [
    "%matplotlib inline\n",
    "import matplotlib.pyplot as plt\n",
    "A_Line_2020_01.hist(bins=50, figsize=(20,15))\n",
    "plt.show()"
   ]
  },
  {
   "cell_type": "code",
   "execution_count": 42,
   "metadata": {},
   "outputs": [
    {
     "data": {
      "text/plain": [
       "0    OK\n",
       "1    OK\n",
       "2    OK\n",
       "3    OK\n",
       "4    OK\n",
       "5    OK\n",
       "6    OK\n",
       "7    OK\n",
       "8    OK\n",
       "9    OK\n",
       "Name: Result, dtype: object"
      ]
     },
     "execution_count": 42,
     "metadata": {},
     "output_type": "execute_result"
    }
   ],
   "source": [
    "A_Line_2020_01_cat = A_Line_2020_01['Result']\n",
    "A_Line_2020_01_cat.head(10)"
   ]
  },
  {
   "cell_type": "code",
   "execution_count": 44,
   "metadata": {},
   "outputs": [
    {
     "data": {
      "text/plain": [
       "array([0, 0, 0, 0, 0, 0, 0, 0, 0, 0], dtype=int64)"
      ]
     },
     "execution_count": 44,
     "metadata": {},
     "output_type": "execute_result"
    }
   ],
   "source": [
    "A_Line_2020_01_cat_encoded, A_Line_2020_01_categories = A_Line_2020_01_cat.factorize()\n",
    "A_Line_2020_01_cat_encoded[:10]"
   ]
  },
  {
   "cell_type": "code",
   "execution_count": 45,
   "metadata": {},
   "outputs": [
    {
     "data": {
      "text/plain": [
       "Index(['OK', 'FAIL'], dtype='object')"
      ]
     },
     "execution_count": 45,
     "metadata": {},
     "output_type": "execute_result"
    }
   ],
   "source": [
    "A_Line_2020_01_categories"
   ]
  },
  {
   "cell_type": "code",
   "execution_count": 48,
   "metadata": {},
   "outputs": [
    {
     "data": {
      "text/html": [
       "<div>\n",
       "<style scoped>\n",
       "    .dataframe tbody tr th:only-of-type {\n",
       "        vertical-align: middle;\n",
       "    }\n",
       "\n",
       "    .dataframe tbody tr th {\n",
       "        vertical-align: top;\n",
       "    }\n",
       "\n",
       "    .dataframe thead th {\n",
       "        text-align: right;\n",
       "    }\n",
       "</style>\n",
       "<table border=\"1\" class=\"dataframe\">\n",
       "  <thead>\n",
       "    <tr style=\"text-align: right;\">\n",
       "      <th></th>\n",
       "      <th>FAIL</th>\n",
       "      <th>OK</th>\n",
       "    </tr>\n",
       "  </thead>\n",
       "  <tbody>\n",
       "    <tr>\n",
       "      <th>0</th>\n",
       "      <td>0</td>\n",
       "      <td>1</td>\n",
       "    </tr>\n",
       "    <tr>\n",
       "      <th>1</th>\n",
       "      <td>0</td>\n",
       "      <td>1</td>\n",
       "    </tr>\n",
       "    <tr>\n",
       "      <th>2</th>\n",
       "      <td>0</td>\n",
       "      <td>1</td>\n",
       "    </tr>\n",
       "    <tr>\n",
       "      <th>3</th>\n",
       "      <td>0</td>\n",
       "      <td>1</td>\n",
       "    </tr>\n",
       "    <tr>\n",
       "      <th>4</th>\n",
       "      <td>0</td>\n",
       "      <td>1</td>\n",
       "    </tr>\n",
       "  </tbody>\n",
       "</table>\n",
       "</div>"
      ],
      "text/plain": [
       "   FAIL  OK\n",
       "0     0   1\n",
       "1     0   1\n",
       "2     0   1\n",
       "3     0   1\n",
       "4     0   1"
      ]
     },
     "execution_count": 48,
     "metadata": {},
     "output_type": "execute_result"
    }
   ],
   "source": [
    "Result_cat=pd.get_dummies(A_Line_2020_01[\"Result\"])\n",
    "Result_cat.head()"
   ]
  },
  {
   "cell_type": "code",
   "execution_count": 49,
   "metadata": {},
   "outputs": [
    {
     "data": {
      "text/html": [
       "<div>\n",
       "<style scoped>\n",
       "    .dataframe tbody tr th:only-of-type {\n",
       "        vertical-align: middle;\n",
       "    }\n",
       "\n",
       "    .dataframe tbody tr th {\n",
       "        vertical-align: top;\n",
       "    }\n",
       "\n",
       "    .dataframe thead th {\n",
       "        text-align: right;\n",
       "    }\n",
       "</style>\n",
       "<table border=\"1\" class=\"dataframe\">\n",
       "  <thead>\n",
       "    <tr style=\"text-align: right;\">\n",
       "      <th></th>\n",
       "      <th>Date</th>\n",
       "      <th>Time</th>\n",
       "      <th>Result</th>\n",
       "      <th>Periods</th>\n",
       "      <th>WRITING</th>\n",
       "      <th>BLE DEVICENAME</th>\n",
       "      <th>BLE MAC ADDRESS</th>\n",
       "      <th>FCTVER</th>\n",
       "      <th>MLBSERIAL</th>\n",
       "      <th>FATPSERIAL</th>\n",
       "      <th>...</th>\n",
       "      <th>BLE RSSI</th>\n",
       "      <th>ATIVECURR</th>\n",
       "      <th>STANBYCURR</th>\n",
       "      <th>IR/Current</th>\n",
       "      <th>IR LED</th>\n",
       "      <th>ACC_X</th>\n",
       "      <th>ACC_Y</th>\n",
       "      <th>ACC_Z</th>\n",
       "      <th>FAIL</th>\n",
       "      <th>OK</th>\n",
       "    </tr>\n",
       "  </thead>\n",
       "  <tbody>\n",
       "    <tr>\n",
       "      <th>0</th>\n",
       "      <td>2020-01-21</td>\n",
       "      <td>19:06:34</td>\n",
       "      <td>OK</td>\n",
       "      <td>19.4</td>\n",
       "      <td>OK</td>\n",
       "      <td>AbbeyFactoryTest</td>\n",
       "      <td>B010A059463E</td>\n",
       "      <td>Dec 15 2019</td>\n",
       "      <td>GRS65006337020A24N00002</td>\n",
       "      <td>WIP24211QUH100002</td>\n",
       "      <td>...</td>\n",
       "      <td>-33.0</td>\n",
       "      <td>2.1</td>\n",
       "      <td>2.9</td>\n",
       "      <td>224.1</td>\n",
       "      <td>1628</td>\n",
       "      <td>-8</td>\n",
       "      <td>-7</td>\n",
       "      <td>1151</td>\n",
       "      <td>0</td>\n",
       "      <td>1</td>\n",
       "    </tr>\n",
       "    <tr>\n",
       "      <th>1</th>\n",
       "      <td>2020-01-21</td>\n",
       "      <td>19:06:34</td>\n",
       "      <td>OK</td>\n",
       "      <td>19.8</td>\n",
       "      <td>OK</td>\n",
       "      <td>AbbeyFactoryTest</td>\n",
       "      <td>B010A0594640</td>\n",
       "      <td>Dec 15 2019</td>\n",
       "      <td>GRS65006337020A24N00004</td>\n",
       "      <td>WIP24211QUH100004</td>\n",
       "      <td>...</td>\n",
       "      <td>-34.0</td>\n",
       "      <td>2.1</td>\n",
       "      <td>2.4</td>\n",
       "      <td>212.3</td>\n",
       "      <td>741</td>\n",
       "      <td>9</td>\n",
       "      <td>-8</td>\n",
       "      <td>1122</td>\n",
       "      <td>0</td>\n",
       "      <td>1</td>\n",
       "    </tr>\n",
       "    <tr>\n",
       "      <th>2</th>\n",
       "      <td>2020-01-21</td>\n",
       "      <td>19:06:34</td>\n",
       "      <td>OK</td>\n",
       "      <td>19.6</td>\n",
       "      <td>OK</td>\n",
       "      <td>AbbeyFactoryTest</td>\n",
       "      <td>B010A0594646</td>\n",
       "      <td>Dec 15 2019</td>\n",
       "      <td>GRS65006337020A24N00005</td>\n",
       "      <td>WIP24211QUH100005</td>\n",
       "      <td>...</td>\n",
       "      <td>-42.0</td>\n",
       "      <td>2.1</td>\n",
       "      <td>2.5</td>\n",
       "      <td>217.4</td>\n",
       "      <td>1133</td>\n",
       "      <td>-21</td>\n",
       "      <td>-45</td>\n",
       "      <td>968</td>\n",
       "      <td>0</td>\n",
       "      <td>1</td>\n",
       "    </tr>\n",
       "    <tr>\n",
       "      <th>3</th>\n",
       "      <td>2020-01-21</td>\n",
       "      <td>19:06:34</td>\n",
       "      <td>OK</td>\n",
       "      <td>18.6</td>\n",
       "      <td>OK</td>\n",
       "      <td>AbbeyFactoryTest</td>\n",
       "      <td>B010A0594642</td>\n",
       "      <td>Dec 15 2019</td>\n",
       "      <td>GRS65006337020A24N00003</td>\n",
       "      <td>WIP24211QUH100003</td>\n",
       "      <td>...</td>\n",
       "      <td>-33.0</td>\n",
       "      <td>2.0</td>\n",
       "      <td>1.9</td>\n",
       "      <td>217.1</td>\n",
       "      <td>1254</td>\n",
       "      <td>-5</td>\n",
       "      <td>-40</td>\n",
       "      <td>942</td>\n",
       "      <td>0</td>\n",
       "      <td>1</td>\n",
       "    </tr>\n",
       "    <tr>\n",
       "      <th>4</th>\n",
       "      <td>2020-01-21</td>\n",
       "      <td>19:06:34</td>\n",
       "      <td>OK</td>\n",
       "      <td>18.9</td>\n",
       "      <td>OK</td>\n",
       "      <td>AbbeyFactoryTest</td>\n",
       "      <td>B010A0594648</td>\n",
       "      <td>Dec 15 2019</td>\n",
       "      <td>GRS65006337020A24N00001</td>\n",
       "      <td>WIP24211QUH100001</td>\n",
       "      <td>...</td>\n",
       "      <td>-37.0</td>\n",
       "      <td>2.0</td>\n",
       "      <td>2.5</td>\n",
       "      <td>225.1</td>\n",
       "      <td>2785</td>\n",
       "      <td>-35</td>\n",
       "      <td>-11</td>\n",
       "      <td>948</td>\n",
       "      <td>0</td>\n",
       "      <td>1</td>\n",
       "    </tr>\n",
       "    <tr>\n",
       "      <th>...</th>\n",
       "      <td>...</td>\n",
       "      <td>...</td>\n",
       "      <td>...</td>\n",
       "      <td>...</td>\n",
       "      <td>...</td>\n",
       "      <td>...</td>\n",
       "      <td>...</td>\n",
       "      <td>...</td>\n",
       "      <td>...</td>\n",
       "      <td>...</td>\n",
       "      <td>...</td>\n",
       "      <td>...</td>\n",
       "      <td>...</td>\n",
       "      <td>...</td>\n",
       "      <td>...</td>\n",
       "      <td>...</td>\n",
       "      <td>...</td>\n",
       "      <td>...</td>\n",
       "      <td>...</td>\n",
       "      <td>...</td>\n",
       "      <td>...</td>\n",
       "    </tr>\n",
       "    <tr>\n",
       "      <th>42059</th>\n",
       "      <td>2020-01-25</td>\n",
       "      <td>23:57:42</td>\n",
       "      <td>OK</td>\n",
       "      <td>14.2</td>\n",
       "      <td>OK</td>\n",
       "      <td>NaN</td>\n",
       "      <td>AC4D16E55472</td>\n",
       "      <td>Dec 15 2019</td>\n",
       "      <td>GRS65006337020A24R007IZ</td>\n",
       "      <td>WIP24251QUH1007IZ</td>\n",
       "      <td>...</td>\n",
       "      <td>NaN</td>\n",
       "      <td>2.1</td>\n",
       "      <td>2.8</td>\n",
       "      <td>220.3</td>\n",
       "      <td>1687</td>\n",
       "      <td>-6</td>\n",
       "      <td>5</td>\n",
       "      <td>1196</td>\n",
       "      <td>0</td>\n",
       "      <td>1</td>\n",
       "    </tr>\n",
       "    <tr>\n",
       "      <th>42060</th>\n",
       "      <td>2020-01-25</td>\n",
       "      <td>23:57:42</td>\n",
       "      <td>OK</td>\n",
       "      <td>15.2</td>\n",
       "      <td>OK</td>\n",
       "      <td>NaN</td>\n",
       "      <td>AC4D16E5548F</td>\n",
       "      <td>Dec 15 2019</td>\n",
       "      <td>GRS65006337020A24R007IY</td>\n",
       "      <td>WIP24251QUH1007IY</td>\n",
       "      <td>...</td>\n",
       "      <td>NaN</td>\n",
       "      <td>2.1</td>\n",
       "      <td>2.6</td>\n",
       "      <td>218.1</td>\n",
       "      <td>754</td>\n",
       "      <td>40</td>\n",
       "      <td>43</td>\n",
       "      <td>1222</td>\n",
       "      <td>0</td>\n",
       "      <td>1</td>\n",
       "    </tr>\n",
       "    <tr>\n",
       "      <th>42061</th>\n",
       "      <td>2020-01-25</td>\n",
       "      <td>23:57:42</td>\n",
       "      <td>OK</td>\n",
       "      <td>14.0</td>\n",
       "      <td>OK</td>\n",
       "      <td>NaN</td>\n",
       "      <td>AC4D16E55485</td>\n",
       "      <td>Dec 15 2019</td>\n",
       "      <td>GRS65006337020A24R007J0</td>\n",
       "      <td>WIP24251QUH1007J0</td>\n",
       "      <td>...</td>\n",
       "      <td>NaN</td>\n",
       "      <td>2.1</td>\n",
       "      <td>2.1</td>\n",
       "      <td>219.5</td>\n",
       "      <td>1152</td>\n",
       "      <td>2</td>\n",
       "      <td>10</td>\n",
       "      <td>1062</td>\n",
       "      <td>0</td>\n",
       "      <td>1</td>\n",
       "    </tr>\n",
       "    <tr>\n",
       "      <th>42062</th>\n",
       "      <td>2020-01-25</td>\n",
       "      <td>23:57:42</td>\n",
       "      <td>OK</td>\n",
       "      <td>14.5</td>\n",
       "      <td>OK</td>\n",
       "      <td>NaN</td>\n",
       "      <td>AC4D16E55490</td>\n",
       "      <td>Dec 15 2019</td>\n",
       "      <td>GRS65006337020A24R007J2</td>\n",
       "      <td>WIP24251QUH1007J2</td>\n",
       "      <td>...</td>\n",
       "      <td>NaN</td>\n",
       "      <td>2.0</td>\n",
       "      <td>2.5</td>\n",
       "      <td>217.3</td>\n",
       "      <td>1288</td>\n",
       "      <td>1</td>\n",
       "      <td>-17</td>\n",
       "      <td>976</td>\n",
       "      <td>0</td>\n",
       "      <td>1</td>\n",
       "    </tr>\n",
       "    <tr>\n",
       "      <th>42063</th>\n",
       "      <td>2020-01-25</td>\n",
       "      <td>23:57:42</td>\n",
       "      <td>OK</td>\n",
       "      <td>14.9</td>\n",
       "      <td>OK</td>\n",
       "      <td>NaN</td>\n",
       "      <td>AC4D16E5548A</td>\n",
       "      <td>Dec 15 2019</td>\n",
       "      <td>GRS65006337020A24R007J1</td>\n",
       "      <td>WIP24251QUH1007J1</td>\n",
       "      <td>...</td>\n",
       "      <td>NaN</td>\n",
       "      <td>2.0</td>\n",
       "      <td>2.1</td>\n",
       "      <td>225.9</td>\n",
       "      <td>2851</td>\n",
       "      <td>31</td>\n",
       "      <td>-20</td>\n",
       "      <td>951</td>\n",
       "      <td>0</td>\n",
       "      <td>1</td>\n",
       "    </tr>\n",
       "  </tbody>\n",
       "</table>\n",
       "<p>42064 rows × 22 columns</p>\n",
       "</div>"
      ],
      "text/plain": [
       "             Date      Time Result  Periods WRITING    BLE DEVICENAME  \\\n",
       "0      2020-01-21  19:06:34     OK     19.4      OK  AbbeyFactoryTest   \n",
       "1      2020-01-21  19:06:34     OK     19.8      OK  AbbeyFactoryTest   \n",
       "2      2020-01-21  19:06:34     OK     19.6      OK  AbbeyFactoryTest   \n",
       "3      2020-01-21  19:06:34     OK     18.6      OK  AbbeyFactoryTest   \n",
       "4      2020-01-21  19:06:34     OK     18.9      OK  AbbeyFactoryTest   \n",
       "...           ...       ...    ...      ...     ...               ...   \n",
       "42059  2020-01-25  23:57:42     OK     14.2      OK               NaN   \n",
       "42060  2020-01-25  23:57:42     OK     15.2      OK               NaN   \n",
       "42061  2020-01-25  23:57:42     OK     14.0      OK               NaN   \n",
       "42062  2020-01-25  23:57:42     OK     14.5      OK               NaN   \n",
       "42063  2020-01-25  23:57:42     OK     14.9      OK               NaN   \n",
       "\n",
       "      BLE MAC ADDRESS       FCTVER                MLBSERIAL  \\\n",
       "0        B010A059463E  Dec 15 2019  GRS65006337020A24N00002   \n",
       "1        B010A0594640  Dec 15 2019  GRS65006337020A24N00004   \n",
       "2        B010A0594646  Dec 15 2019  GRS65006337020A24N00005   \n",
       "3        B010A0594642  Dec 15 2019  GRS65006337020A24N00003   \n",
       "4        B010A0594648  Dec 15 2019  GRS65006337020A24N00001   \n",
       "...               ...          ...                      ...   \n",
       "42059    AC4D16E55472  Dec 15 2019  GRS65006337020A24R007IZ   \n",
       "42060    AC4D16E5548F  Dec 15 2019  GRS65006337020A24R007IY   \n",
       "42061    AC4D16E55485  Dec 15 2019  GRS65006337020A24R007J0   \n",
       "42062    AC4D16E55490  Dec 15 2019  GRS65006337020A24R007J2   \n",
       "42063    AC4D16E5548A  Dec 15 2019  GRS65006337020A24R007J1   \n",
       "\n",
       "              FATPSERIAL  ... BLE RSSI ATIVECURR  STANBYCURR  IR/Current  \\\n",
       "0      WIP24211QUH100002  ...    -33.0       2.1         2.9       224.1   \n",
       "1      WIP24211QUH100004  ...    -34.0       2.1         2.4       212.3   \n",
       "2      WIP24211QUH100005  ...    -42.0       2.1         2.5       217.4   \n",
       "3      WIP24211QUH100003  ...    -33.0       2.0         1.9       217.1   \n",
       "4      WIP24211QUH100001  ...    -37.0       2.0         2.5       225.1   \n",
       "...                  ...  ...      ...       ...         ...         ...   \n",
       "42059  WIP24251QUH1007IZ  ...      NaN       2.1         2.8       220.3   \n",
       "42060  WIP24251QUH1007IY  ...      NaN       2.1         2.6       218.1   \n",
       "42061  WIP24251QUH1007J0  ...      NaN       2.1         2.1       219.5   \n",
       "42062  WIP24251QUH1007J2  ...      NaN       2.0         2.5       217.3   \n",
       "42063  WIP24251QUH1007J1  ...      NaN       2.0         2.1       225.9   \n",
       "\n",
       "       IR LED  ACC_X  ACC_Y  ACC_Z  FAIL  OK  \n",
       "0        1628     -8     -7   1151     0   1  \n",
       "1         741      9     -8   1122     0   1  \n",
       "2        1133    -21    -45    968     0   1  \n",
       "3        1254     -5    -40    942     0   1  \n",
       "4        2785    -35    -11    948     0   1  \n",
       "...       ...    ...    ...    ...   ...  ..  \n",
       "42059    1687     -6      5   1196     0   1  \n",
       "42060     754     40     43   1222     0   1  \n",
       "42061    1152      2     10   1062     0   1  \n",
       "42062    1288      1    -17    976     0   1  \n",
       "42063    2851     31    -20    951     0   1  \n",
       "\n",
       "[42064 rows x 22 columns]"
      ]
     },
     "execution_count": 49,
     "metadata": {},
     "output_type": "execute_result"
    }
   ],
   "source": [
    "A_Line_2020_01_concat=pd.concat([A_Line_2020_01,Result_cat],axis=1)\n",
    "A_Line_2020_01_concat"
   ]
  },
  {
   "cell_type": "code",
   "execution_count": 50,
   "metadata": {},
   "outputs": [
    {
     "data": {
      "text/html": [
       "<div>\n",
       "<style scoped>\n",
       "    .dataframe tbody tr th:only-of-type {\n",
       "        vertical-align: middle;\n",
       "    }\n",
       "\n",
       "    .dataframe tbody tr th {\n",
       "        vertical-align: top;\n",
       "    }\n",
       "\n",
       "    .dataframe thead th {\n",
       "        text-align: right;\n",
       "    }\n",
       "</style>\n",
       "<table border=\"1\" class=\"dataframe\">\n",
       "  <thead>\n",
       "    <tr style=\"text-align: right;\">\n",
       "      <th></th>\n",
       "      <th>Date</th>\n",
       "      <th>Time</th>\n",
       "      <th>Result</th>\n",
       "      <th>Periods</th>\n",
       "      <th>WRITING</th>\n",
       "      <th>BLE DEVICENAME</th>\n",
       "      <th>BLE MAC ADDRESS</th>\n",
       "      <th>FCTVER</th>\n",
       "      <th>MLBSERIAL</th>\n",
       "      <th>FATPSERIAL</th>\n",
       "      <th>...</th>\n",
       "      <th>ETC</th>\n",
       "      <th>BLE RSSI</th>\n",
       "      <th>ATIVECURR</th>\n",
       "      <th>STANBYCURR</th>\n",
       "      <th>IR/Current</th>\n",
       "      <th>IR LED</th>\n",
       "      <th>ACC_X</th>\n",
       "      <th>ACC_Y</th>\n",
       "      <th>ACC_Z</th>\n",
       "      <th>FAIL</th>\n",
       "    </tr>\n",
       "  </thead>\n",
       "  <tbody>\n",
       "    <tr>\n",
       "      <th>0</th>\n",
       "      <td>2020-01-21</td>\n",
       "      <td>19:06:34</td>\n",
       "      <td>OK</td>\n",
       "      <td>19.4</td>\n",
       "      <td>OK</td>\n",
       "      <td>AbbeyFactoryTest</td>\n",
       "      <td>B010A059463E</td>\n",
       "      <td>Dec 15 2019</td>\n",
       "      <td>GRS65006337020A24N00002</td>\n",
       "      <td>WIP24211QUH100002</td>\n",
       "      <td>...</td>\n",
       "      <td>OK</td>\n",
       "      <td>-33.0</td>\n",
       "      <td>2.1</td>\n",
       "      <td>2.9</td>\n",
       "      <td>224.1</td>\n",
       "      <td>1628</td>\n",
       "      <td>-8</td>\n",
       "      <td>-7</td>\n",
       "      <td>1151</td>\n",
       "      <td>0</td>\n",
       "    </tr>\n",
       "    <tr>\n",
       "      <th>1</th>\n",
       "      <td>2020-01-21</td>\n",
       "      <td>19:06:34</td>\n",
       "      <td>OK</td>\n",
       "      <td>19.8</td>\n",
       "      <td>OK</td>\n",
       "      <td>AbbeyFactoryTest</td>\n",
       "      <td>B010A0594640</td>\n",
       "      <td>Dec 15 2019</td>\n",
       "      <td>GRS65006337020A24N00004</td>\n",
       "      <td>WIP24211QUH100004</td>\n",
       "      <td>...</td>\n",
       "      <td>OK</td>\n",
       "      <td>-34.0</td>\n",
       "      <td>2.1</td>\n",
       "      <td>2.4</td>\n",
       "      <td>212.3</td>\n",
       "      <td>741</td>\n",
       "      <td>9</td>\n",
       "      <td>-8</td>\n",
       "      <td>1122</td>\n",
       "      <td>0</td>\n",
       "    </tr>\n",
       "    <tr>\n",
       "      <th>2</th>\n",
       "      <td>2020-01-21</td>\n",
       "      <td>19:06:34</td>\n",
       "      <td>OK</td>\n",
       "      <td>19.6</td>\n",
       "      <td>OK</td>\n",
       "      <td>AbbeyFactoryTest</td>\n",
       "      <td>B010A0594646</td>\n",
       "      <td>Dec 15 2019</td>\n",
       "      <td>GRS65006337020A24N00005</td>\n",
       "      <td>WIP24211QUH100005</td>\n",
       "      <td>...</td>\n",
       "      <td>OK</td>\n",
       "      <td>-42.0</td>\n",
       "      <td>2.1</td>\n",
       "      <td>2.5</td>\n",
       "      <td>217.4</td>\n",
       "      <td>1133</td>\n",
       "      <td>-21</td>\n",
       "      <td>-45</td>\n",
       "      <td>968</td>\n",
       "      <td>0</td>\n",
       "    </tr>\n",
       "    <tr>\n",
       "      <th>3</th>\n",
       "      <td>2020-01-21</td>\n",
       "      <td>19:06:34</td>\n",
       "      <td>OK</td>\n",
       "      <td>18.6</td>\n",
       "      <td>OK</td>\n",
       "      <td>AbbeyFactoryTest</td>\n",
       "      <td>B010A0594642</td>\n",
       "      <td>Dec 15 2019</td>\n",
       "      <td>GRS65006337020A24N00003</td>\n",
       "      <td>WIP24211QUH100003</td>\n",
       "      <td>...</td>\n",
       "      <td>OK</td>\n",
       "      <td>-33.0</td>\n",
       "      <td>2.0</td>\n",
       "      <td>1.9</td>\n",
       "      <td>217.1</td>\n",
       "      <td>1254</td>\n",
       "      <td>-5</td>\n",
       "      <td>-40</td>\n",
       "      <td>942</td>\n",
       "      <td>0</td>\n",
       "    </tr>\n",
       "    <tr>\n",
       "      <th>4</th>\n",
       "      <td>2020-01-21</td>\n",
       "      <td>19:06:34</td>\n",
       "      <td>OK</td>\n",
       "      <td>18.9</td>\n",
       "      <td>OK</td>\n",
       "      <td>AbbeyFactoryTest</td>\n",
       "      <td>B010A0594648</td>\n",
       "      <td>Dec 15 2019</td>\n",
       "      <td>GRS65006337020A24N00001</td>\n",
       "      <td>WIP24211QUH100001</td>\n",
       "      <td>...</td>\n",
       "      <td>OK</td>\n",
       "      <td>-37.0</td>\n",
       "      <td>2.0</td>\n",
       "      <td>2.5</td>\n",
       "      <td>225.1</td>\n",
       "      <td>2785</td>\n",
       "      <td>-35</td>\n",
       "      <td>-11</td>\n",
       "      <td>948</td>\n",
       "      <td>0</td>\n",
       "    </tr>\n",
       "  </tbody>\n",
       "</table>\n",
       "<p>5 rows × 21 columns</p>\n",
       "</div>"
      ],
      "text/plain": [
       "         Date      Time Result  Periods WRITING    BLE DEVICENAME  \\\n",
       "0  2020-01-21  19:06:34     OK     19.4      OK  AbbeyFactoryTest   \n",
       "1  2020-01-21  19:06:34     OK     19.8      OK  AbbeyFactoryTest   \n",
       "2  2020-01-21  19:06:34     OK     19.6      OK  AbbeyFactoryTest   \n",
       "3  2020-01-21  19:06:34     OK     18.6      OK  AbbeyFactoryTest   \n",
       "4  2020-01-21  19:06:34     OK     18.9      OK  AbbeyFactoryTest   \n",
       "\n",
       "  BLE MAC ADDRESS       FCTVER                MLBSERIAL         FATPSERIAL  \\\n",
       "0    B010A059463E  Dec 15 2019  GRS65006337020A24N00002  WIP24211QUH100002   \n",
       "1    B010A0594640  Dec 15 2019  GRS65006337020A24N00004  WIP24211QUH100004   \n",
       "2    B010A0594646  Dec 15 2019  GRS65006337020A24N00005  WIP24211QUH100005   \n",
       "3    B010A0594642  Dec 15 2019  GRS65006337020A24N00003  WIP24211QUH100003   \n",
       "4    B010A0594648  Dec 15 2019  GRS65006337020A24N00001  WIP24211QUH100001   \n",
       "\n",
       "   ... ETC BLE RSSI  ATIVECURR  STANBYCURR  IR/Current  IR LED  ACC_X  ACC_Y  \\\n",
       "0  ...  OK    -33.0        2.1         2.9       224.1    1628     -8     -7   \n",
       "1  ...  OK    -34.0        2.1         2.4       212.3     741      9     -8   \n",
       "2  ...  OK    -42.0        2.1         2.5       217.4    1133    -21    -45   \n",
       "3  ...  OK    -33.0        2.0         1.9       217.1    1254     -5    -40   \n",
       "4  ...  OK    -37.0        2.0         2.5       225.1    2785    -35    -11   \n",
       "\n",
       "   ACC_Z  FAIL  \n",
       "0   1151     0  \n",
       "1   1122     0  \n",
       "2    968     0  \n",
       "3    942     0  \n",
       "4    948     0  \n",
       "\n",
       "[5 rows x 21 columns]"
      ]
     },
     "execution_count": 50,
     "metadata": {},
     "output_type": "execute_result"
    }
   ],
   "source": [
    "A_Line_2020_01_concat=A_Line_2020_01_concat.drop(\"OK\",axis=1)\n",
    "A_Line_2020_01_concat.head()"
   ]
  },
  {
   "cell_type": "code",
   "execution_count": 51,
   "metadata": {},
   "outputs": [
    {
     "data": {
      "text/plain": [
       "FAIL          1.000000\n",
       "STANBYCURR    0.343049\n",
       "ATIVECURR     0.135024\n",
       "Periods       0.020627\n",
       "IR LED       -0.069940\n",
       "IR/Current   -0.152341\n",
       "ACC_Z        -0.595898\n",
       "ACC_X        -0.625213\n",
       "ACC_Y        -0.627090\n",
       "BLE RSSI     -0.838453\n",
       "Name: FAIL, dtype: float64"
      ]
     },
     "execution_count": 51,
     "metadata": {},
     "output_type": "execute_result"
    }
   ],
   "source": [
    "corr_matrix = A_Line_2020_01_concat.corr()\n",
    "corr_matrix[\"FAIL\"].sort_values(ascending=False)"
   ]
  },
  {
   "cell_type": "code",
   "execution_count": 54,
   "metadata": {},
   "outputs": [
    {
     "data": {
      "text/plain": [
       "array([[<AxesSubplot:xlabel='FAIL', ylabel='FAIL'>,\n",
       "        <AxesSubplot:xlabel='STANBYCURR', ylabel='FAIL'>,\n",
       "        <AxesSubplot:xlabel='ATIVECURR', ylabel='FAIL'>,\n",
       "        <AxesSubplot:xlabel='Periods', ylabel='FAIL'>],\n",
       "       [<AxesSubplot:xlabel='FAIL', ylabel='STANBYCURR'>,\n",
       "        <AxesSubplot:xlabel='STANBYCURR', ylabel='STANBYCURR'>,\n",
       "        <AxesSubplot:xlabel='ATIVECURR', ylabel='STANBYCURR'>,\n",
       "        <AxesSubplot:xlabel='Periods', ylabel='STANBYCURR'>],\n",
       "       [<AxesSubplot:xlabel='FAIL', ylabel='ATIVECURR'>,\n",
       "        <AxesSubplot:xlabel='STANBYCURR', ylabel='ATIVECURR'>,\n",
       "        <AxesSubplot:xlabel='ATIVECURR', ylabel='ATIVECURR'>,\n",
       "        <AxesSubplot:xlabel='Periods', ylabel='ATIVECURR'>],\n",
       "       [<AxesSubplot:xlabel='FAIL', ylabel='Periods'>,\n",
       "        <AxesSubplot:xlabel='STANBYCURR', ylabel='Periods'>,\n",
       "        <AxesSubplot:xlabel='ATIVECURR', ylabel='Periods'>,\n",
       "        <AxesSubplot:xlabel='Periods', ylabel='Periods'>]], dtype=object)"
      ]
     },
     "execution_count": 54,
     "metadata": {},
     "output_type": "execute_result"
    },
    {
     "name": "stderr",
     "output_type": "stream",
     "text": [
      "findfont: Font family ['NanumBarunGothic'] not found. Falling back to DejaVu Sans.\n",
      "findfont: Font family ['NanumBarunGothic'] not found. Falling back to DejaVu Sans.\n"
     ]
    },
    {
     "data": {
      "image/png": "[encoded data removed]",
      "text/plain": [
       "<Figure size 864x576 with 16 Axes>"
      ]
     },
     "metadata": {
      "needs_background": "light"
     },
     "output_type": "display_data"
    }
   ],
   "source": [
    "from pandas.plotting import scatter_matrix\n",
    "attributes = [\"FAIL\", \"STANBYCURR\", \"ATIVECURR\", \"Periods\"]\n",
    "scatter_matrix(A_Line_2020_01_concat[attributes], figsize=(12, 8))"
   ]
  },
  {
   "cell_type": "code",
   "execution_count": 63,
   "metadata": {},
   "outputs": [
    {
     "data": {
      "text/html": [
       "<div>\n",
       "<style scoped>\n",
       "    .dataframe tbody tr th:only-of-type {\n",
       "        vertical-align: middle;\n",
       "    }\n",
       "\n",
       "    .dataframe tbody tr th {\n",
       "        vertical-align: top;\n",
       "    }\n",
       "\n",
       "    .dataframe thead th {\n",
       "        text-align: right;\n",
       "    }\n",
       "</style>\n",
       "<table border=\"1\" class=\"dataframe\">\n",
       "  <thead>\n",
       "    <tr style=\"text-align: right;\">\n",
       "      <th></th>\n",
       "      <th>BLE RSSI</th>\n",
       "      <th>ATIVECURR</th>\n",
       "      <th>STANBYCURR</th>\n",
       "      <th>IR/Current</th>\n",
       "      <th>IR LED</th>\n",
       "      <th>ACC_X</th>\n",
       "      <th>ACC_Y</th>\n",
       "      <th>ACC_Z</th>\n",
       "      <th>FAIL</th>\n",
       "    </tr>\n",
       "  </thead>\n",
       "  <tbody>\n",
       "    <tr>\n",
       "      <th>0</th>\n",
       "      <td>-33.0</td>\n",
       "      <td>2.1</td>\n",
       "      <td>2.9</td>\n",
       "      <td>224.1</td>\n",
       "      <td>1628</td>\n",
       "      <td>-8</td>\n",
       "      <td>-7</td>\n",
       "      <td>1151</td>\n",
       "      <td>0</td>\n",
       "    </tr>\n",
       "    <tr>\n",
       "      <th>1</th>\n",
       "      <td>-34.0</td>\n",
       "      <td>2.1</td>\n",
       "      <td>2.4</td>\n",
       "      <td>212.3</td>\n",
       "      <td>741</td>\n",
       "      <td>9</td>\n",
       "      <td>-8</td>\n",
       "      <td>1122</td>\n",
       "      <td>0</td>\n",
       "    </tr>\n",
       "    <tr>\n",
       "      <th>2</th>\n",
       "      <td>-42.0</td>\n",
       "      <td>2.1</td>\n",
       "      <td>2.5</td>\n",
       "      <td>217.4</td>\n",
       "      <td>1133</td>\n",
       "      <td>-21</td>\n",
       "      <td>-45</td>\n",
       "      <td>968</td>\n",
       "      <td>0</td>\n",
       "    </tr>\n",
       "    <tr>\n",
       "      <th>3</th>\n",
       "      <td>-33.0</td>\n",
       "      <td>2.0</td>\n",
       "      <td>1.9</td>\n",
       "      <td>217.1</td>\n",
       "      <td>1254</td>\n",
       "      <td>-5</td>\n",
       "      <td>-40</td>\n",
       "      <td>942</td>\n",
       "      <td>0</td>\n",
       "    </tr>\n",
       "    <tr>\n",
       "      <th>4</th>\n",
       "      <td>-37.0</td>\n",
       "      <td>2.0</td>\n",
       "      <td>2.5</td>\n",
       "      <td>225.1</td>\n",
       "      <td>2785</td>\n",
       "      <td>-35</td>\n",
       "      <td>-11</td>\n",
       "      <td>948</td>\n",
       "      <td>0</td>\n",
       "    </tr>\n",
       "  </tbody>\n",
       "</table>\n",
       "</div>"
      ],
      "text/plain": [
       "   BLE RSSI  ATIVECURR  STANBYCURR  IR/Current  IR LED  ACC_X  ACC_Y  ACC_Z  \\\n",
       "0     -33.0        2.1         2.9       224.1    1628     -8     -7   1151   \n",
       "1     -34.0        2.1         2.4       212.3     741      9     -8   1122   \n",
       "2     -42.0        2.1         2.5       217.4    1133    -21    -45    968   \n",
       "3     -33.0        2.0         1.9       217.1    1254     -5    -40    942   \n",
       "4     -37.0        2.0         2.5       225.1    2785    -35    -11    948   \n",
       "\n",
       "   FAIL  \n",
       "0     0  \n",
       "1     0  \n",
       "2     0  \n",
       "3     0  \n",
       "4     0  "
      ]
     },
     "execution_count": 63,
     "metadata": {},
     "output_type": "execute_result"
    }
   ],
   "source": [
    "A_Line_2020_01_concat_iloc=A_Line_2020_01_concat.iloc[:,12:]\n",
    "A_Line_2020_01_concat_iloc.head()"
   ]
  },
  {
   "cell_type": "code",
   "execution_count": 64,
   "metadata": {},
   "outputs": [],
   "source": [
    "X_features = A_Line_2020_01_concat_iloc.iloc[:,0:-1]\n",
    "y_label = A_Line_2020_01_concat_iloc.iloc[:,-1]"
   ]
  },
  {
   "cell_type": "code",
   "execution_count": 65,
   "metadata": {},
   "outputs": [
    {
     "data": {
      "text/html": [
       "<div>\n",
       "<style scoped>\n",
       "    .dataframe tbody tr th:only-of-type {\n",
       "        vertical-align: middle;\n",
       "    }\n",
       "\n",
       "    .dataframe tbody tr th {\n",
       "        vertical-align: top;\n",
       "    }\n",
       "\n",
       "    .dataframe thead th {\n",
       "        text-align: right;\n",
       "    }\n",
       "</style>\n",
       "<table border=\"1\" class=\"dataframe\">\n",
       "  <thead>\n",
       "    <tr style=\"text-align: right;\">\n",
       "      <th></th>\n",
       "      <th>BLE RSSI</th>\n",
       "      <th>ATIVECURR</th>\n",
       "      <th>STANBYCURR</th>\n",
       "      <th>IR/Current</th>\n",
       "      <th>IR LED</th>\n",
       "      <th>ACC_X</th>\n",
       "      <th>ACC_Y</th>\n",
       "      <th>ACC_Z</th>\n",
       "    </tr>\n",
       "  </thead>\n",
       "  <tbody>\n",
       "    <tr>\n",
       "      <th>0</th>\n",
       "      <td>-33.0</td>\n",
       "      <td>2.1</td>\n",
       "      <td>2.9</td>\n",
       "      <td>224.1</td>\n",
       "      <td>1628</td>\n",
       "      <td>-8</td>\n",
       "      <td>-7</td>\n",
       "      <td>1151</td>\n",
       "    </tr>\n",
       "    <tr>\n",
       "      <th>1</th>\n",
       "      <td>-34.0</td>\n",
       "      <td>2.1</td>\n",
       "      <td>2.4</td>\n",
       "      <td>212.3</td>\n",
       "      <td>741</td>\n",
       "      <td>9</td>\n",
       "      <td>-8</td>\n",
       "      <td>1122</td>\n",
       "    </tr>\n",
       "    <tr>\n",
       "      <th>2</th>\n",
       "      <td>-42.0</td>\n",
       "      <td>2.1</td>\n",
       "      <td>2.5</td>\n",
       "      <td>217.4</td>\n",
       "      <td>1133</td>\n",
       "      <td>-21</td>\n",
       "      <td>-45</td>\n",
       "      <td>968</td>\n",
       "    </tr>\n",
       "    <tr>\n",
       "      <th>3</th>\n",
       "      <td>-33.0</td>\n",
       "      <td>2.0</td>\n",
       "      <td>1.9</td>\n",
       "      <td>217.1</td>\n",
       "      <td>1254</td>\n",
       "      <td>-5</td>\n",
       "      <td>-40</td>\n",
       "      <td>942</td>\n",
       "    </tr>\n",
       "    <tr>\n",
       "      <th>4</th>\n",
       "      <td>-37.0</td>\n",
       "      <td>2.0</td>\n",
       "      <td>2.5</td>\n",
       "      <td>225.1</td>\n",
       "      <td>2785</td>\n",
       "      <td>-35</td>\n",
       "      <td>-11</td>\n",
       "      <td>948</td>\n",
       "    </tr>\n",
       "    <tr>\n",
       "      <th>...</th>\n",
       "      <td>...</td>\n",
       "      <td>...</td>\n",
       "      <td>...</td>\n",
       "      <td>...</td>\n",
       "      <td>...</td>\n",
       "      <td>...</td>\n",
       "      <td>...</td>\n",
       "      <td>...</td>\n",
       "    </tr>\n",
       "    <tr>\n",
       "      <th>42059</th>\n",
       "      <td>NaN</td>\n",
       "      <td>2.1</td>\n",
       "      <td>2.8</td>\n",
       "      <td>220.3</td>\n",
       "      <td>1687</td>\n",
       "      <td>-6</td>\n",
       "      <td>5</td>\n",
       "      <td>1196</td>\n",
       "    </tr>\n",
       "    <tr>\n",
       "      <th>42060</th>\n",
       "      <td>NaN</td>\n",
       "      <td>2.1</td>\n",
       "      <td>2.6</td>\n",
       "      <td>218.1</td>\n",
       "      <td>754</td>\n",
       "      <td>40</td>\n",
       "      <td>43</td>\n",
       "      <td>1222</td>\n",
       "    </tr>\n",
       "    <tr>\n",
       "      <th>42061</th>\n",
       "      <td>NaN</td>\n",
       "      <td>2.1</td>\n",
       "      <td>2.1</td>\n",
       "      <td>219.5</td>\n",
       "      <td>1152</td>\n",
       "      <td>2</td>\n",
       "      <td>10</td>\n",
       "      <td>1062</td>\n",
       "    </tr>\n",
       "    <tr>\n",
       "      <th>42062</th>\n",
       "      <td>NaN</td>\n",
       "      <td>2.0</td>\n",
       "      <td>2.5</td>\n",
       "      <td>217.3</td>\n",
       "      <td>1288</td>\n",
       "      <td>1</td>\n",
       "      <td>-17</td>\n",
       "      <td>976</td>\n",
       "    </tr>\n",
       "    <tr>\n",
       "      <th>42063</th>\n",
       "      <td>NaN</td>\n",
       "      <td>2.0</td>\n",
       "      <td>2.1</td>\n",
       "      <td>225.9</td>\n",
       "      <td>2851</td>\n",
       "      <td>31</td>\n",
       "      <td>-20</td>\n",
       "      <td>951</td>\n",
       "    </tr>\n",
       "  </tbody>\n",
       "</table>\n",
       "<p>42064 rows × 8 columns</p>\n",
       "</div>"
      ],
      "text/plain": [
       "       BLE RSSI  ATIVECURR  STANBYCURR  IR/Current  IR LED  ACC_X  ACC_Y  \\\n",
       "0         -33.0        2.1         2.9       224.1    1628     -8     -7   \n",
       "1         -34.0        2.1         2.4       212.3     741      9     -8   \n",
       "2         -42.0        2.1         2.5       217.4    1133    -21    -45   \n",
       "3         -33.0        2.0         1.9       217.1    1254     -5    -40   \n",
       "4         -37.0        2.0         2.5       225.1    2785    -35    -11   \n",
       "...         ...        ...         ...         ...     ...    ...    ...   \n",
       "42059       NaN        2.1         2.8       220.3    1687     -6      5   \n",
       "42060       NaN        2.1         2.6       218.1     754     40     43   \n",
       "42061       NaN        2.1         2.1       219.5    1152      2     10   \n",
       "42062       NaN        2.0         2.5       217.3    1288      1    -17   \n",
       "42063       NaN        2.0         2.1       225.9    2851     31    -20   \n",
       "\n",
       "       ACC_Z  \n",
       "0       1151  \n",
       "1       1122  \n",
       "2        968  \n",
       "3        942  \n",
       "4        948  \n",
       "...      ...  \n",
       "42059   1196  \n",
       "42060   1222  \n",
       "42061   1062  \n",
       "42062    976  \n",
       "42063    951  \n",
       "\n",
       "[42064 rows x 8 columns]"
      ]
     },
     "execution_count": 65,
     "metadata": {},
     "output_type": "execute_result"
    }
   ],
   "source": [
    "X_features"
   ]
  },
  {
   "cell_type": "code",
   "execution_count": 66,
   "metadata": {},
   "outputs": [
    {
     "data": {
      "text/plain": [
       "0        0\n",
       "1        0\n",
       "2        0\n",
       "3        0\n",
       "4        0\n",
       "        ..\n",
       "42059    0\n",
       "42060    0\n",
       "42061    0\n",
       "42062    0\n",
       "42063    0\n",
       "Name: FAIL, Length: 42064, dtype: uint8"
      ]
     },
     "execution_count": 66,
     "metadata": {},
     "output_type": "execute_result"
    }
   ],
   "source": [
    "y_label"
   ]
  },
  {
   "cell_type": "code",
   "execution_count": 37,
   "metadata": {},
   "outputs": [
    {
     "name": "stdout",
     "output_type": "stream",
     "text": [
      "Collecting xgboost\n",
      "  Downloading xgboost-1.6.1-py3-none-win_amd64.whl (125.4 MB)\n",
      "Requirement already satisfied: scipy in c:\\dev\\miniconda3\\envs\\tf37_cpu\\lib\\site-packages (from xgboost) (1.7.3)\n",
      "Requirement already satisfied: numpy in c:\\dev\\miniconda3\\envs\\tf37_cpu\\lib\\site-packages (from xgboost) (1.21.6)\n",
      "Installing collected packages: xgboost\n",
      "Successfully installed xgboost-1.6.1\n",
      "Note: you may need to restart the kernel to use updated packages.\n"
     ]
    }
   ],
   "source": [
    "pip install xgboost"
   ]
  },
  {
   "cell_type": "code",
   "execution_count": 38,
   "metadata": {},
   "outputs": [],
   "source": [
    "import xgboost as xgb ## XGBoost 불러오기\n",
    "from xgboost import plot_importance ## Feature Importance를 불러오기 위함\n",
    "import pandas as pd\n",
    "import numpy as np\n",
    "from sklearn.datasets import load_breast_cancer\n",
    "from sklearn.model_selection import train_test_split\n",
    "from sklearn.metrics import confusion_matrix, accuracy_score, precision_score, recall_score\n",
    "from sklearn.metrics import confusion_matrix, f1_score, roc_auc_score\n",
    "import warnings\n",
    "warnings.filterwarnings('ignore')"
   ]
  },
  {
   "cell_type": "code",
   "execution_count": 67,
   "metadata": {},
   "outputs": [
    {
     "name": "stdout",
     "output_type": "stream",
     "text": [
      "(33651, 8) (8413, 8)\n"
     ]
    }
   ],
   "source": [
    "X_train, X_test, y_train, y_test = train_test_split(X_features, y_label, test_size=0.2, random_state=156)\n",
    "print(X_train.shape, X_test.shape)"
   ]
  },
  {
   "cell_type": "code",
   "execution_count": 59,
   "metadata": {},
   "outputs": [],
   "source": [
    "from xgboost import plot_importance\n",
    "from xgboost import XGBClassifier"
   ]
  },
  {
   "cell_type": "code",
   "execution_count": 68,
   "metadata": {},
   "outputs": [
    {
     "name": "stdout",
     "output_type": "stream",
     "text": [
      "[0]\tvalidation_0-logloss:0.59823\n",
      "[1]\tvalidation_0-logloss:0.52049\n",
      "[2]\tvalidation_0-logloss:0.45567\n",
      "[3]\tvalidation_0-logloss:0.40087\n",
      "[4]\tvalidation_0-logloss:0.35406\n",
      "[5]\tvalidation_0-logloss:0.31374\n",
      "[6]\tvalidation_0-logloss:0.27876\n",
      "[7]\tvalidation_0-logloss:0.24826\n",
      "[8]\tvalidation_0-logloss:0.22152\n",
      "[9]\tvalidation_0-logloss:0.19801\n",
      "[10]\tvalidation_0-logloss:0.17726\n",
      "[11]\tvalidation_0-logloss:0.15888\n",
      "[12]\tvalidation_0-logloss:0.14257\n",
      "[13]\tvalidation_0-logloss:0.12807\n",
      "[14]\tvalidation_0-logloss:0.11514\n",
      "[15]\tvalidation_0-logloss:0.10361\n",
      "[16]\tvalidation_0-logloss:0.09329\n",
      "[17]\tvalidation_0-logloss:0.08407\n",
      "[18]\tvalidation_0-logloss:0.07580\n",
      "[19]\tvalidation_0-logloss:0.06838\n",
      "[20]\tvalidation_0-logloss:0.06172\n",
      "[21]\tvalidation_0-logloss:0.05574\n",
      "[22]\tvalidation_0-logloss:0.05037\n",
      "[23]\tvalidation_0-logloss:0.04554\n",
      "[24]\tvalidation_0-logloss:0.04119\n",
      "[25]\tvalidation_0-logloss:0.03727\n",
      "[26]\tvalidation_0-logloss:0.03375\n",
      "[27]\tvalidation_0-logloss:0.03058\n",
      "[28]\tvalidation_0-logloss:0.02771\n",
      "[29]\tvalidation_0-logloss:0.02513\n",
      "[30]\tvalidation_0-logloss:0.02279\n",
      "[31]\tvalidation_0-logloss:0.02069\n",
      "[32]\tvalidation_0-logloss:0.01880\n",
      "[33]\tvalidation_0-logloss:0.01708\n",
      "[34]\tvalidation_0-logloss:0.01552\n",
      "[35]\tvalidation_0-logloss:0.01412\n",
      "[36]\tvalidation_0-logloss:0.01286\n",
      "[37]\tvalidation_0-logloss:0.01173\n",
      "[38]\tvalidation_0-logloss:0.01070\n",
      "[39]\tvalidation_0-logloss:0.00976\n",
      "[40]\tvalidation_0-logloss:0.00893\n",
      "[41]\tvalidation_0-logloss:0.00817\n",
      "[42]\tvalidation_0-logloss:0.00749\n",
      "[43]\tvalidation_0-logloss:0.00688\n",
      "[44]\tvalidation_0-logloss:0.00632\n",
      "[45]\tvalidation_0-logloss:0.00581\n",
      "[46]\tvalidation_0-logloss:0.00537\n",
      "[47]\tvalidation_0-logloss:0.00495\n",
      "[48]\tvalidation_0-logloss:0.00459\n",
      "[49]\tvalidation_0-logloss:0.00426\n",
      "[50]\tvalidation_0-logloss:0.00396\n",
      "[51]\tvalidation_0-logloss:0.00369\n",
      "[52]\tvalidation_0-logloss:0.00345\n",
      "[53]\tvalidation_0-logloss:0.00323\n",
      "[54]\tvalidation_0-logloss:0.00303\n",
      "[55]\tvalidation_0-logloss:0.00286\n",
      "[56]\tvalidation_0-logloss:0.00270\n",
      "[57]\tvalidation_0-logloss:0.00256\n",
      "[58]\tvalidation_0-logloss:0.00243\n",
      "[59]\tvalidation_0-logloss:0.00232\n",
      "[60]\tvalidation_0-logloss:0.00221\n",
      "[61]\tvalidation_0-logloss:0.00212\n",
      "[62]\tvalidation_0-logloss:0.00204\n",
      "[63]\tvalidation_0-logloss:0.00197\n",
      "[64]\tvalidation_0-logloss:0.00190\n",
      "[65]\tvalidation_0-logloss:0.00185\n",
      "[66]\tvalidation_0-logloss:0.00179\n",
      "[67]\tvalidation_0-logloss:0.00174\n",
      "[68]\tvalidation_0-logloss:0.00170\n",
      "[69]\tvalidation_0-logloss:0.00166\n",
      "[70]\tvalidation_0-logloss:0.00162\n",
      "[71]\tvalidation_0-logloss:0.00159\n",
      "[72]\tvalidation_0-logloss:0.00155\n",
      "[73]\tvalidation_0-logloss:0.00153\n",
      "[74]\tvalidation_0-logloss:0.00150\n",
      "[75]\tvalidation_0-logloss:0.00148\n",
      "[76]\tvalidation_0-logloss:0.00145\n",
      "[77]\tvalidation_0-logloss:0.00144\n",
      "[78]\tvalidation_0-logloss:0.00142\n",
      "[79]\tvalidation_0-logloss:0.00141\n",
      "[80]\tvalidation_0-logloss:0.00140\n",
      "[81]\tvalidation_0-logloss:0.00138\n",
      "[82]\tvalidation_0-logloss:0.00137\n",
      "[83]\tvalidation_0-logloss:0.00135\n",
      "[84]\tvalidation_0-logloss:0.00135\n",
      "[85]\tvalidation_0-logloss:0.00133\n",
      "[86]\tvalidation_0-logloss:0.00133\n",
      "[87]\tvalidation_0-logloss:0.00132\n",
      "[88]\tvalidation_0-logloss:0.00132\n",
      "[89]\tvalidation_0-logloss:0.00132\n",
      "[90]\tvalidation_0-logloss:0.00131\n",
      "[91]\tvalidation_0-logloss:0.00131\n",
      "[92]\tvalidation_0-logloss:0.00130\n",
      "[93]\tvalidation_0-logloss:0.00130\n",
      "[94]\tvalidation_0-logloss:0.00131\n",
      "[95]\tvalidation_0-logloss:0.00130\n",
      "[96]\tvalidation_0-logloss:0.00130\n",
      "[97]\tvalidation_0-logloss:0.00129\n",
      "[98]\tvalidation_0-logloss:0.00129\n",
      "[99]\tvalidation_0-logloss:0.00130\n",
      "[100]\tvalidation_0-logloss:0.00130\n",
      "[101]\tvalidation_0-logloss:0.00129\n",
      "[102]\tvalidation_0-logloss:0.00129\n",
      "[103]\tvalidation_0-logloss:0.00128\n",
      "[104]\tvalidation_0-logloss:0.00128\n",
      "[105]\tvalidation_0-logloss:0.00128\n",
      "[106]\tvalidation_0-logloss:0.00128\n",
      "[107]\tvalidation_0-logloss:0.00128\n",
      "[108]\tvalidation_0-logloss:0.00128\n",
      "[109]\tvalidation_0-logloss:0.00128\n",
      "[110]\tvalidation_0-logloss:0.00127\n",
      "[111]\tvalidation_0-logloss:0.00127\n",
      "[112]\tvalidation_0-logloss:0.00128\n",
      "[113]\tvalidation_0-logloss:0.00128\n",
      "[114]\tvalidation_0-logloss:0.00127\n",
      "[115]\tvalidation_0-logloss:0.00127\n",
      "[116]\tvalidation_0-logloss:0.00128\n",
      "[117]\tvalidation_0-logloss:0.00128\n",
      "[118]\tvalidation_0-logloss:0.00128\n",
      "[119]\tvalidation_0-logloss:0.00128\n",
      "[120]\tvalidation_0-logloss:0.00128\n",
      "[121]\tvalidation_0-logloss:0.00129\n",
      "[122]\tvalidation_0-logloss:0.00128\n",
      "[123]\tvalidation_0-logloss:0.00128\n",
      "[124]\tvalidation_0-logloss:0.00128\n",
      "[125]\tvalidation_0-logloss:0.00129\n",
      "[126]\tvalidation_0-logloss:0.00128\n",
      "[127]\tvalidation_0-logloss:0.00129\n",
      "[128]\tvalidation_0-logloss:0.00128\n",
      "[129]\tvalidation_0-logloss:0.00129\n",
      "[130]\tvalidation_0-logloss:0.00129\n",
      "[131]\tvalidation_0-logloss:0.00128\n",
      "[132]\tvalidation_0-logloss:0.00129\n",
      "[133]\tvalidation_0-logloss:0.00129\n",
      "[134]\tvalidation_0-logloss:0.00129\n",
      "[135]\tvalidation_0-logloss:0.00129\n",
      "[136]\tvalidation_0-logloss:0.00129\n",
      "[137]\tvalidation_0-logloss:0.00130\n",
      "[138]\tvalidation_0-logloss:0.00130\n",
      "[139]\tvalidation_0-logloss:0.00130\n",
      "[140]\tvalidation_0-logloss:0.00130\n",
      "[141]\tvalidation_0-logloss:0.00130\n",
      "[142]\tvalidation_0-logloss:0.00129\n",
      "[143]\tvalidation_0-logloss:0.00130\n",
      "[144]\tvalidation_0-logloss:0.00130\n",
      "[145]\tvalidation_0-logloss:0.00130\n",
      "[146]\tvalidation_0-logloss:0.00129\n",
      "[147]\tvalidation_0-logloss:0.00129\n",
      "[148]\tvalidation_0-logloss:0.00129\n",
      "[149]\tvalidation_0-logloss:0.00129\n",
      "[150]\tvalidation_0-logloss:0.00129\n",
      "[151]\tvalidation_0-logloss:0.00129\n",
      "[152]\tvalidation_0-logloss:0.00129\n",
      "[153]\tvalidation_0-logloss:0.00129\n",
      "[154]\tvalidation_0-logloss:0.00129\n",
      "[155]\tvalidation_0-logloss:0.00129\n",
      "[156]\tvalidation_0-logloss:0.00129\n",
      "[157]\tvalidation_0-logloss:0.00129\n",
      "[158]\tvalidation_0-logloss:0.00130\n",
      "[159]\tvalidation_0-logloss:0.00130\n",
      "[160]\tvalidation_0-logloss:0.00129\n",
      "[161]\tvalidation_0-logloss:0.00129\n",
      "[162]\tvalidation_0-logloss:0.00129\n",
      "[163]\tvalidation_0-logloss:0.00130\n",
      "[164]\tvalidation_0-logloss:0.00130\n",
      "[165]\tvalidation_0-logloss:0.00130\n",
      "[166]\tvalidation_0-logloss:0.00130\n",
      "[167]\tvalidation_0-logloss:0.00130\n",
      "[168]\tvalidation_0-logloss:0.00130\n",
      "[169]\tvalidation_0-logloss:0.00130\n",
      "[170]\tvalidation_0-logloss:0.00130\n",
      "[171]\tvalidation_0-logloss:0.00131\n",
      "[172]\tvalidation_0-logloss:0.00131\n",
      "[173]\tvalidation_0-logloss:0.00131\n",
      "[174]\tvalidation_0-logloss:0.00131\n",
      "[175]\tvalidation_0-logloss:0.00131\n",
      "[176]\tvalidation_0-logloss:0.00131\n",
      "[177]\tvalidation_0-logloss:0.00131\n",
      "[178]\tvalidation_0-logloss:0.00131\n",
      "[179]\tvalidation_0-logloss:0.00131\n",
      "[180]\tvalidation_0-logloss:0.00131\n",
      "[181]\tvalidation_0-logloss:0.00132\n",
      "[182]\tvalidation_0-logloss:0.00132\n",
      "[183]\tvalidation_0-logloss:0.00131\n",
      "[184]\tvalidation_0-logloss:0.00132\n",
      "[185]\tvalidation_0-logloss:0.00132\n",
      "[186]\tvalidation_0-logloss:0.00132\n",
      "[187]\tvalidation_0-logloss:0.00132\n",
      "[188]\tvalidation_0-logloss:0.00132\n",
      "[189]\tvalidation_0-logloss:0.00132\n",
      "[190]\tvalidation_0-logloss:0.00133\n",
      "[191]\tvalidation_0-logloss:0.00133\n",
      "[192]\tvalidation_0-logloss:0.00133\n",
      "[193]\tvalidation_0-logloss:0.00133\n",
      "[194]\tvalidation_0-logloss:0.00133\n",
      "[195]\tvalidation_0-logloss:0.00133\n",
      "[196]\tvalidation_0-logloss:0.00133\n",
      "[197]\tvalidation_0-logloss:0.00133\n",
      "[198]\tvalidation_0-logloss:0.00134\n",
      "[199]\tvalidation_0-logloss:0.00134\n",
      "[200]\tvalidation_0-logloss:0.00134\n",
      "[201]\tvalidation_0-logloss:0.00134\n",
      "[202]\tvalidation_0-logloss:0.00134\n",
      "[203]\tvalidation_0-logloss:0.00134\n",
      "[204]\tvalidation_0-logloss:0.00134\n",
      "[205]\tvalidation_0-logloss:0.00134\n",
      "[206]\tvalidation_0-logloss:0.00134\n",
      "[207]\tvalidation_0-logloss:0.00134\n",
      "[208]\tvalidation_0-logloss:0.00135\n",
      "[209]\tvalidation_0-logloss:0.00134\n",
      "[210]\tvalidation_0-logloss:0.00135\n",
      "[211]\tvalidation_0-logloss:0.00135\n"
     ]
    },
    {
     "data": {
      "text/plain": [
       "XGBClassifier(base_score=0.5, booster='gbtree', callbacks=None,\n",
       "              colsample_bylevel=1, colsample_bynode=1, colsample_bytree=1,\n",
       "              early_stopping_rounds=None, enable_categorical=False,\n",
       "              eval_metric=None, gamma=0, gpu_id=-1, grow_policy='depthwise',\n",
       "              importance_type=None, interaction_constraints='',\n",
       "              learning_rate=0.1, max_bin=256, max_cat_to_onehot=4,\n",
       "              max_delta_step=0, max_depth=4, max_leaves=0, min_child_weight=1,\n",
       "              missing=nan, monotone_constraints='()', n_estimators=500,\n",
       "              n_jobs=0, num_parallel_tree=1, predictor='auto', random_state=0,\n",
       "              reg_alpha=0, reg_lambda=1, ...)"
      ]
     },
     "execution_count": 68,
     "metadata": {},
     "output_type": "execute_result"
    }
   ],
   "source": [
    "xgb = XGBClassifier(n_estimators=500, learning_rate=0.1, max_depth=4)\n",
    "evals=[(X_test, y_test)]\n",
    "xgb.fit(X_train, y_train, early_stopping_rounds=100, eval_set=evals, verbose=1)"
   ]
  },
  {
   "cell_type": "code",
   "execution_count": 70,
   "metadata": {},
   "outputs": [],
   "source": [
    "import xgboost as xgb"
   ]
  },
  {
   "cell_type": "code",
   "execution_count": 71,
   "metadata": {},
   "outputs": [],
   "source": [
    "dtrain = xgb.DMatrix(data=X_train, label = y_train)\n",
    "dtest = xgb.DMatrix(data=X_test, label=y_test)"
   ]
  },
  {
   "cell_type": "code",
   "execution_count": 72,
   "metadata": {},
   "outputs": [],
   "source": [
    "# max_depth = 3, 학습률은 0.1, 예제가 이진분류이므로 목적함수(objective)는 binary:logistic(이진 로지스틱)\n",
    "# 오류함수의 평가성능지표는 logloss\n",
    "# 부스팅 반복횟수는 400\n",
    "# 조기중단을 위한 최소 반복횟수는 100\n",
    "\n",
    "params = {'max_depth' : 3,\n",
    "         'eta' : 0.1, \n",
    "         'objective' : 'binary:logistic',\n",
    "         'eval_metric' : 'logloss',\n",
    "         'early_stoppings' : 100 }\n",
    "\n",
    "num_rounds = 400"
   ]
  },
  {
   "cell_type": "code",
   "execution_count": 73,
   "metadata": {},
   "outputs": [
    {
     "name": "stdout",
     "output_type": "stream",
     "text": [
      "[22:06:16] WARNING: C:/Users/Administrator/workspace/xgboost-win64_release_1.6.0/src/learner.cc:627: \n",
      "Parameters: { \"early_stoppings\" } might not be used.\n",
      "\n",
      "  This could be a false alarm, with some parameters getting used by language bindings but\n",
      "  then being mistakenly passed down to XGBoost core, or some parameter actually being used\n",
      "  but getting flagged wrongly here. Please open an issue if you find any such cases.\n",
      "\n",
      "\n",
      "[0]\ttrain-logloss:0.59823\teval-logloss:0.59824\n",
      "[1]\ttrain-logloss:0.52050\teval-logloss:0.52050\n",
      "[2]\ttrain-logloss:0.45568\teval-logloss:0.45568\n",
      "[3]\ttrain-logloss:0.40088\teval-logloss:0.40089\n",
      "[4]\ttrain-logloss:0.35407\teval-logloss:0.35408\n",
      "[5]\ttrain-logloss:0.31375\teval-logloss:0.31375\n",
      "[6]\ttrain-logloss:0.27877\teval-logloss:0.27878\n",
      "[7]\ttrain-logloss:0.24826\teval-logloss:0.24828\n",
      "[8]\ttrain-logloss:0.22153\teval-logloss:0.22155\n",
      "[9]\ttrain-logloss:0.19801\teval-logloss:0.19804\n",
      "[10]\ttrain-logloss:0.17725\teval-logloss:0.17728\n",
      "[11]\ttrain-logloss:0.15887\teval-logloss:0.15891\n",
      "[12]\ttrain-logloss:0.14255\teval-logloss:0.14260\n",
      "[13]\ttrain-logloss:0.12804\teval-logloss:0.12809\n",
      "[14]\ttrain-logloss:0.11510\teval-logloss:0.11516\n",
      "[15]\ttrain-logloss:0.10356\teval-logloss:0.10363\n",
      "[16]\ttrain-logloss:0.09324\teval-logloss:0.09331\n",
      "[17]\ttrain-logloss:0.08400\teval-logloss:0.08408\n",
      "[18]\ttrain-logloss:0.07572\teval-logloss:0.07582\n",
      "[19]\ttrain-logloss:0.06830\teval-logloss:0.06840\n",
      "[20]\ttrain-logloss:0.06163\teval-logloss:0.06174\n",
      "[21]\ttrain-logloss:0.05564\teval-logloss:0.05576\n",
      "[22]\ttrain-logloss:0.05025\teval-logloss:0.05038\n",
      "[23]\ttrain-logloss:0.04540\teval-logloss:0.04554\n",
      "[24]\ttrain-logloss:0.04104\teval-logloss:0.04119\n",
      "[25]\ttrain-logloss:0.03711\teval-logloss:0.03727\n",
      "[26]\ttrain-logloss:0.03357\teval-logloss:0.03375\n",
      "[27]\ttrain-logloss:0.03038\teval-logloss:0.03057\n",
      "[28]\ttrain-logloss:0.02750\teval-logloss:0.02770\n",
      "[29]\ttrain-logloss:0.02489\teval-logloss:0.02512\n",
      "[30]\ttrain-logloss:0.02255\teval-logloss:0.02279\n",
      "[31]\ttrain-logloss:0.02043\teval-logloss:0.02069\n",
      "[32]\ttrain-logloss:0.01852\teval-logloss:0.01879\n",
      "[33]\ttrain-logloss:0.01680\teval-logloss:0.01708\n",
      "[34]\ttrain-logloss:0.01524\teval-logloss:0.01554\n",
      "[35]\ttrain-logloss:0.01384\teval-logloss:0.01415\n",
      "[36]\ttrain-logloss:0.01255\teval-logloss:0.01288\n",
      "[37]\ttrain-logloss:0.01139\teval-logloss:0.01174\n",
      "[38]\ttrain-logloss:0.01033\teval-logloss:0.01072\n",
      "[39]\ttrain-logloss:0.00938\teval-logloss:0.00979\n",
      "[40]\ttrain-logloss:0.00852\teval-logloss:0.00895\n",
      "[41]\ttrain-logloss:0.00775\teval-logloss:0.00819\n",
      "[42]\ttrain-logloss:0.00705\teval-logloss:0.00751\n",
      "[43]\ttrain-logloss:0.00641\teval-logloss:0.00690\n",
      "[44]\ttrain-logloss:0.00584\teval-logloss:0.00633\n",
      "[45]\ttrain-logloss:0.00532\teval-logloss:0.00583\n",
      "[46]\ttrain-logloss:0.00485\teval-logloss:0.00538\n",
      "[47]\ttrain-logloss:0.00442\teval-logloss:0.00497\n",
      "[48]\ttrain-logloss:0.00404\teval-logloss:0.00460\n",
      "[49]\ttrain-logloss:0.00369\teval-logloss:0.00426\n",
      "[50]\ttrain-logloss:0.00338\teval-logloss:0.00397\n",
      "[51]\ttrain-logloss:0.00309\teval-logloss:0.00370\n",
      "[52]\ttrain-logloss:0.00283\teval-logloss:0.00346\n",
      "[53]\ttrain-logloss:0.00260\teval-logloss:0.00323\n",
      "[54]\ttrain-logloss:0.00239\teval-logloss:0.00304\n",
      "[55]\ttrain-logloss:0.00220\teval-logloss:0.00286\n",
      "[56]\ttrain-logloss:0.00202\teval-logloss:0.00271\n",
      "[57]\ttrain-logloss:0.00187\teval-logloss:0.00256\n",
      "[58]\ttrain-logloss:0.00172\teval-logloss:0.00243\n",
      "[59]\ttrain-logloss:0.00159\teval-logloss:0.00232\n",
      "[60]\ttrain-logloss:0.00148\teval-logloss:0.00222\n",
      "[61]\ttrain-logloss:0.00137\teval-logloss:0.00212\n",
      "[62]\ttrain-logloss:0.00128\teval-logloss:0.00204\n",
      "[63]\ttrain-logloss:0.00119\teval-logloss:0.00197\n",
      "[64]\ttrain-logloss:0.00111\teval-logloss:0.00191\n",
      "[65]\ttrain-logloss:0.00104\teval-logloss:0.00185\n",
      "[66]\ttrain-logloss:0.00098\teval-logloss:0.00179\n",
      "[67]\ttrain-logloss:0.00092\teval-logloss:0.00174\n",
      "[68]\ttrain-logloss:0.00086\teval-logloss:0.00170\n",
      "[69]\ttrain-logloss:0.00081\teval-logloss:0.00166\n",
      "[70]\ttrain-logloss:0.00077\teval-logloss:0.00162\n",
      "[71]\ttrain-logloss:0.00073\teval-logloss:0.00159\n",
      "[72]\ttrain-logloss:0.00069\teval-logloss:0.00156\n",
      "[73]\ttrain-logloss:0.00065\teval-logloss:0.00153\n",
      "[74]\ttrain-logloss:0.00062\teval-logloss:0.00150\n",
      "[75]\ttrain-logloss:0.00059\teval-logloss:0.00148\n",
      "[76]\ttrain-logloss:0.00056\teval-logloss:0.00146\n",
      "[77]\ttrain-logloss:0.00054\teval-logloss:0.00144\n",
      "[78]\ttrain-logloss:0.00051\teval-logloss:0.00142\n",
      "[79]\ttrain-logloss:0.00049\teval-logloss:0.00141\n",
      "[80]\ttrain-logloss:0.00047\teval-logloss:0.00139\n",
      "[81]\ttrain-logloss:0.00045\teval-logloss:0.00137\n",
      "[82]\ttrain-logloss:0.00043\teval-logloss:0.00136\n",
      "[83]\ttrain-logloss:0.00042\teval-logloss:0.00135\n",
      "[84]\ttrain-logloss:0.00040\teval-logloss:0.00134\n",
      "[85]\ttrain-logloss:0.00039\teval-logloss:0.00133\n",
      "[86]\ttrain-logloss:0.00038\teval-logloss:0.00132\n",
      "[87]\ttrain-logloss:0.00037\teval-logloss:0.00132\n",
      "[88]\ttrain-logloss:0.00036\teval-logloss:0.00132\n",
      "[89]\ttrain-logloss:0.00035\teval-logloss:0.00131\n",
      "[90]\ttrain-logloss:0.00034\teval-logloss:0.00131\n",
      "[91]\ttrain-logloss:0.00033\teval-logloss:0.00130\n",
      "[92]\ttrain-logloss:0.00032\teval-logloss:0.00129\n",
      "[93]\ttrain-logloss:0.00031\teval-logloss:0.00130\n",
      "[94]\ttrain-logloss:0.00031\teval-logloss:0.00129\n",
      "[95]\ttrain-logloss:0.00030\teval-logloss:0.00129\n",
      "[96]\ttrain-logloss:0.00029\teval-logloss:0.00130\n",
      "[97]\ttrain-logloss:0.00029\teval-logloss:0.00130\n",
      "[98]\ttrain-logloss:0.00028\teval-logloss:0.00129\n",
      "[99]\ttrain-logloss:0.00028\teval-logloss:0.00129\n",
      "[100]\ttrain-logloss:0.00027\teval-logloss:0.00129\n",
      "[101]\ttrain-logloss:0.00027\teval-logloss:0.00128\n",
      "[102]\ttrain-logloss:0.00026\teval-logloss:0.00128\n",
      "[103]\ttrain-logloss:0.00026\teval-logloss:0.00128\n",
      "[104]\ttrain-logloss:0.00026\teval-logloss:0.00127\n",
      "[105]\ttrain-logloss:0.00025\teval-logloss:0.00127\n",
      "[106]\ttrain-logloss:0.00025\teval-logloss:0.00127\n",
      "[107]\ttrain-logloss:0.00025\teval-logloss:0.00127\n",
      "[108]\ttrain-logloss:0.00024\teval-logloss:0.00127\n",
      "[109]\ttrain-logloss:0.00024\teval-logloss:0.00127\n",
      "[110]\ttrain-logloss:0.00024\teval-logloss:0.00127\n",
      "[111]\ttrain-logloss:0.00023\teval-logloss:0.00127\n",
      "[112]\ttrain-logloss:0.00023\teval-logloss:0.00127\n",
      "[113]\ttrain-logloss:0.00023\teval-logloss:0.00128\n",
      "[114]\ttrain-logloss:0.00023\teval-logloss:0.00128\n",
      "[115]\ttrain-logloss:0.00022\teval-logloss:0.00128\n",
      "[116]\ttrain-logloss:0.00022\teval-logloss:0.00129\n",
      "[117]\ttrain-logloss:0.00022\teval-logloss:0.00129\n",
      "[118]\ttrain-logloss:0.00022\teval-logloss:0.00129\n",
      "[119]\ttrain-logloss:0.00022\teval-logloss:0.00129\n",
      "[120]\ttrain-logloss:0.00021\teval-logloss:0.00128\n",
      "[121]\ttrain-logloss:0.00021\teval-logloss:0.00128\n",
      "[122]\ttrain-logloss:0.00021\teval-logloss:0.00128\n",
      "[123]\ttrain-logloss:0.00021\teval-logloss:0.00128\n",
      "[124]\ttrain-logloss:0.00021\teval-logloss:0.00128\n",
      "[125]\ttrain-logloss:0.00020\teval-logloss:0.00128\n",
      "[126]\ttrain-logloss:0.00020\teval-logloss:0.00128\n",
      "[127]\ttrain-logloss:0.00020\teval-logloss:0.00128\n",
      "[128]\ttrain-logloss:0.00020\teval-logloss:0.00128\n",
      "[129]\ttrain-logloss:0.00020\teval-logloss:0.00128\n",
      "[130]\ttrain-logloss:0.00020\teval-logloss:0.00129\n",
      "[131]\ttrain-logloss:0.00019\teval-logloss:0.00128\n",
      "[132]\ttrain-logloss:0.00019\teval-logloss:0.00129\n",
      "[133]\ttrain-logloss:0.00019\teval-logloss:0.00128\n",
      "[134]\ttrain-logloss:0.00019\teval-logloss:0.00128\n",
      "[135]\ttrain-logloss:0.00019\teval-logloss:0.00128\n",
      "[136]\ttrain-logloss:0.00019\teval-logloss:0.00129\n",
      "[137]\ttrain-logloss:0.00019\teval-logloss:0.00128\n",
      "[138]\ttrain-logloss:0.00019\teval-logloss:0.00128\n",
      "[139]\ttrain-logloss:0.00019\teval-logloss:0.00128\n",
      "[140]\ttrain-logloss:0.00018\teval-logloss:0.00129\n",
      "[141]\ttrain-logloss:0.00018\teval-logloss:0.00128\n",
      "[142]\ttrain-logloss:0.00018\teval-logloss:0.00128\n",
      "[143]\ttrain-logloss:0.00018\teval-logloss:0.00129\n",
      "[144]\ttrain-logloss:0.00018\teval-logloss:0.00128\n",
      "[145]\ttrain-logloss:0.00018\teval-logloss:0.00128\n",
      "[146]\ttrain-logloss:0.00018\teval-logloss:0.00129\n",
      "[147]\ttrain-logloss:0.00018\teval-logloss:0.00129\n",
      "[148]\ttrain-logloss:0.00018\teval-logloss:0.00129\n",
      "[149]\ttrain-logloss:0.00018\teval-logloss:0.00129\n",
      "[150]\ttrain-logloss:0.00017\teval-logloss:0.00129\n",
      "[151]\ttrain-logloss:0.00017\teval-logloss:0.00129\n",
      "[152]\ttrain-logloss:0.00017\teval-logloss:0.00129\n",
      "[153]\ttrain-logloss:0.00017\teval-logloss:0.00129\n",
      "[154]\ttrain-logloss:0.00017\teval-logloss:0.00129\n",
      "[155]\ttrain-logloss:0.00017\teval-logloss:0.00129\n",
      "[156]\ttrain-logloss:0.00017\teval-logloss:0.00129\n",
      "[157]\ttrain-logloss:0.00017\teval-logloss:0.00129\n",
      "[158]\ttrain-logloss:0.00017\teval-logloss:0.00129\n",
      "[159]\ttrain-logloss:0.00017\teval-logloss:0.00129\n",
      "[160]\ttrain-logloss:0.00017\teval-logloss:0.00129\n",
      "[161]\ttrain-logloss:0.00016\teval-logloss:0.00129\n",
      "[162]\ttrain-logloss:0.00016\teval-logloss:0.00129\n",
      "[163]\ttrain-logloss:0.00016\teval-logloss:0.00129\n",
      "[164]\ttrain-logloss:0.00016\teval-logloss:0.00129\n",
      "[165]\ttrain-logloss:0.00016\teval-logloss:0.00129\n",
      "[166]\ttrain-logloss:0.00016\teval-logloss:0.00129\n",
      "[167]\ttrain-logloss:0.00016\teval-logloss:0.00129\n",
      "[168]\ttrain-logloss:0.00016\teval-logloss:0.00129\n",
      "[169]\ttrain-logloss:0.00016\teval-logloss:0.00129\n",
      "[170]\ttrain-logloss:0.00016\teval-logloss:0.00130\n",
      "[171]\ttrain-logloss:0.00016\teval-logloss:0.00130\n",
      "[172]\ttrain-logloss:0.00016\teval-logloss:0.00130\n",
      "[173]\ttrain-logloss:0.00016\teval-logloss:0.00130\n",
      "[174]\ttrain-logloss:0.00016\teval-logloss:0.00130\n",
      "[175]\ttrain-logloss:0.00016\teval-logloss:0.00130\n",
      "[176]\ttrain-logloss:0.00015\teval-logloss:0.00130\n",
      "[177]\ttrain-logloss:0.00015\teval-logloss:0.00130\n",
      "[178]\ttrain-logloss:0.00015\teval-logloss:0.00131\n",
      "[179]\ttrain-logloss:0.00015\teval-logloss:0.00130\n",
      "[180]\ttrain-logloss:0.00015\teval-logloss:0.00130\n",
      "[181]\ttrain-logloss:0.00015\teval-logloss:0.00131\n",
      "[182]\ttrain-logloss:0.00015\teval-logloss:0.00131\n",
      "[183]\ttrain-logloss:0.00015\teval-logloss:0.00131\n",
      "[184]\ttrain-logloss:0.00015\teval-logloss:0.00131\n",
      "[185]\ttrain-logloss:0.00015\teval-logloss:0.00130\n",
      "[186]\ttrain-logloss:0.00015\teval-logloss:0.00130\n",
      "[187]\ttrain-logloss:0.00015\teval-logloss:0.00131\n",
      "[188]\ttrain-logloss:0.00015\teval-logloss:0.00131\n",
      "[189]\ttrain-logloss:0.00015\teval-logloss:0.00131\n",
      "[190]\ttrain-logloss:0.00015\teval-logloss:0.00131\n",
      "[191]\ttrain-logloss:0.00015\teval-logloss:0.00131\n",
      "[192]\ttrain-logloss:0.00015\teval-logloss:0.00131\n",
      "[193]\ttrain-logloss:0.00015\teval-logloss:0.00132\n",
      "[194]\ttrain-logloss:0.00015\teval-logloss:0.00132\n",
      "[195]\ttrain-logloss:0.00015\teval-logloss:0.00132\n",
      "[196]\ttrain-logloss:0.00015\teval-logloss:0.00132\n",
      "[197]\ttrain-logloss:0.00015\teval-logloss:0.00132\n",
      "[198]\ttrain-logloss:0.00014\teval-logloss:0.00132\n",
      "[199]\ttrain-logloss:0.00014\teval-logloss:0.00132\n",
      "[200]\ttrain-logloss:0.00014\teval-logloss:0.00132\n",
      "[201]\ttrain-logloss:0.00014\teval-logloss:0.00132\n",
      "[202]\ttrain-logloss:0.00014\teval-logloss:0.00132\n",
      "[203]\ttrain-logloss:0.00014\teval-logloss:0.00133\n",
      "[204]\ttrain-logloss:0.00014\teval-logloss:0.00133\n",
      "[205]\ttrain-logloss:0.00014\teval-logloss:0.00133\n",
      "[206]\ttrain-logloss:0.00014\teval-logloss:0.00133\n",
      "[207]\ttrain-logloss:0.00014\teval-logloss:0.00133\n",
      "[208]\ttrain-logloss:0.00014\teval-logloss:0.00133\n",
      "[209]\ttrain-logloss:0.00014\teval-logloss:0.00133\n",
      "[210]\ttrain-logloss:0.00014\teval-logloss:0.00134\n",
      "[211]\ttrain-logloss:0.00014\teval-logloss:0.00134\n",
      "[212]\ttrain-logloss:0.00014\teval-logloss:0.00134\n",
      "[213]\ttrain-logloss:0.00014\teval-logloss:0.00134\n",
      "[214]\ttrain-logloss:0.00014\teval-logloss:0.00134\n",
      "[215]\ttrain-logloss:0.00014\teval-logloss:0.00134\n",
      "[216]\ttrain-logloss:0.00014\teval-logloss:0.00134\n",
      "[217]\ttrain-logloss:0.00014\teval-logloss:0.00134\n",
      "[218]\ttrain-logloss:0.00014\teval-logloss:0.00134\n",
      "[219]\ttrain-logloss:0.00014\teval-logloss:0.00134\n",
      "[220]\ttrain-logloss:0.00014\teval-logloss:0.00135\n",
      "[221]\ttrain-logloss:0.00014\teval-logloss:0.00135\n",
      "[222]\ttrain-logloss:0.00014\teval-logloss:0.00135\n",
      "[223]\ttrain-logloss:0.00014\teval-logloss:0.00135\n",
      "[224]\ttrain-logloss:0.00014\teval-logloss:0.00135\n",
      "[225]\ttrain-logloss:0.00014\teval-logloss:0.00135\n",
      "[226]\ttrain-logloss:0.00014\teval-logloss:0.00135\n",
      "[227]\ttrain-logloss:0.00014\teval-logloss:0.00135\n",
      "[228]\ttrain-logloss:0.00014\teval-logloss:0.00135\n",
      "[229]\ttrain-logloss:0.00014\teval-logloss:0.00135\n",
      "[230]\ttrain-logloss:0.00014\teval-logloss:0.00136\n",
      "[231]\ttrain-logloss:0.00014\teval-logloss:0.00136\n",
      "[232]\ttrain-logloss:0.00014\teval-logloss:0.00136\n",
      "[233]\ttrain-logloss:0.00013\teval-logloss:0.00136\n",
      "[234]\ttrain-logloss:0.00013\teval-logloss:0.00136\n",
      "[235]\ttrain-logloss:0.00013\teval-logloss:0.00136\n",
      "[236]\ttrain-logloss:0.00013\teval-logloss:0.00136\n",
      "[237]\ttrain-logloss:0.00013\teval-logloss:0.00136\n",
      "[238]\ttrain-logloss:0.00013\teval-logloss:0.00136\n",
      "[239]\ttrain-logloss:0.00013\teval-logloss:0.00136\n",
      "[240]\ttrain-logloss:0.00013\teval-logloss:0.00136\n",
      "[241]\ttrain-logloss:0.00013\teval-logloss:0.00136\n",
      "[242]\ttrain-logloss:0.00013\teval-logloss:0.00136\n",
      "[243]\ttrain-logloss:0.00013\teval-logloss:0.00136\n",
      "[244]\ttrain-logloss:0.00013\teval-logloss:0.00136\n",
      "[245]\ttrain-logloss:0.00013\teval-logloss:0.00136\n",
      "[246]\ttrain-logloss:0.00013\teval-logloss:0.00136\n",
      "[247]\ttrain-logloss:0.00013\teval-logloss:0.00136\n",
      "[248]\ttrain-logloss:0.00013\teval-logloss:0.00136\n",
      "[249]\ttrain-logloss:0.00013\teval-logloss:0.00136\n",
      "[250]\ttrain-logloss:0.00013\teval-logloss:0.00136\n",
      "[251]\ttrain-logloss:0.00013\teval-logloss:0.00136\n",
      "[252]\ttrain-logloss:0.00013\teval-logloss:0.00136\n",
      "[253]\ttrain-logloss:0.00013\teval-logloss:0.00136\n",
      "[254]\ttrain-logloss:0.00013\teval-logloss:0.00136\n",
      "[255]\ttrain-logloss:0.00013\teval-logloss:0.00136\n",
      "[256]\ttrain-logloss:0.00013\teval-logloss:0.00136\n",
      "[257]\ttrain-logloss:0.00013\teval-logloss:0.00136\n",
      "[258]\ttrain-logloss:0.00013\teval-logloss:0.00136\n",
      "[259]\ttrain-logloss:0.00013\teval-logloss:0.00136\n",
      "[260]\ttrain-logloss:0.00013\teval-logloss:0.00136\n",
      "[261]\ttrain-logloss:0.00013\teval-logloss:0.00136\n",
      "[262]\ttrain-logloss:0.00013\teval-logloss:0.00136\n",
      "[263]\ttrain-logloss:0.00013\teval-logloss:0.00136\n",
      "[264]\ttrain-logloss:0.00013\teval-logloss:0.00136\n",
      "[265]\ttrain-logloss:0.00013\teval-logloss:0.00136\n",
      "[266]\ttrain-logloss:0.00013\teval-logloss:0.00136\n",
      "[267]\ttrain-logloss:0.00013\teval-logloss:0.00136\n",
      "[268]\ttrain-logloss:0.00013\teval-logloss:0.00136\n",
      "[269]\ttrain-logloss:0.00013\teval-logloss:0.00136\n",
      "[270]\ttrain-logloss:0.00013\teval-logloss:0.00137\n",
      "[271]\ttrain-logloss:0.00013\teval-logloss:0.00136\n",
      "[272]\ttrain-logloss:0.00013\teval-logloss:0.00137\n",
      "[273]\ttrain-logloss:0.00013\teval-logloss:0.00136\n",
      "[274]\ttrain-logloss:0.00013\teval-logloss:0.00136\n",
      "[275]\ttrain-logloss:0.00013\teval-logloss:0.00136\n",
      "[276]\ttrain-logloss:0.00013\teval-logloss:0.00136\n",
      "[277]\ttrain-logloss:0.00013\teval-logloss:0.00136\n",
      "[278]\ttrain-logloss:0.00013\teval-logloss:0.00136\n",
      "[279]\ttrain-logloss:0.00013\teval-logloss:0.00136\n",
      "[280]\ttrain-logloss:0.00013\teval-logloss:0.00136\n",
      "[281]\ttrain-logloss:0.00013\teval-logloss:0.00136\n",
      "[282]\ttrain-logloss:0.00013\teval-logloss:0.00137\n",
      "[283]\ttrain-logloss:0.00013\teval-logloss:0.00137\n",
      "[284]\ttrain-logloss:0.00013\teval-logloss:0.00137\n",
      "[285]\ttrain-logloss:0.00013\teval-logloss:0.00137\n",
      "[286]\ttrain-logloss:0.00013\teval-logloss:0.00137\n",
      "[287]\ttrain-logloss:0.00013\teval-logloss:0.00137\n",
      "[288]\ttrain-logloss:0.00013\teval-logloss:0.00137\n",
      "[289]\ttrain-logloss:0.00012\teval-logloss:0.00137\n",
      "[290]\ttrain-logloss:0.00012\teval-logloss:0.00137\n",
      "[291]\ttrain-logloss:0.00012\teval-logloss:0.00137\n",
      "[292]\ttrain-logloss:0.00012\teval-logloss:0.00137\n",
      "[293]\ttrain-logloss:0.00012\teval-logloss:0.00137\n",
      "[294]\ttrain-logloss:0.00012\teval-logloss:0.00137\n",
      "[295]\ttrain-logloss:0.00012\teval-logloss:0.00137\n",
      "[296]\ttrain-logloss:0.00012\teval-logloss:0.00137\n",
      "[297]\ttrain-logloss:0.00012\teval-logloss:0.00137\n",
      "[298]\ttrain-logloss:0.00012\teval-logloss:0.00136\n",
      "[299]\ttrain-logloss:0.00012\teval-logloss:0.00136\n",
      "[300]\ttrain-logloss:0.00012\teval-logloss:0.00137\n",
      "[301]\ttrain-logloss:0.00012\teval-logloss:0.00137\n",
      "[302]\ttrain-logloss:0.00012\teval-logloss:0.00137\n",
      "[303]\ttrain-logloss:0.00012\teval-logloss:0.00137\n",
      "[304]\ttrain-logloss:0.00012\teval-logloss:0.00137\n",
      "[305]\ttrain-logloss:0.00012\teval-logloss:0.00137\n",
      "[306]\ttrain-logloss:0.00012\teval-logloss:0.00137\n",
      "[307]\ttrain-logloss:0.00012\teval-logloss:0.00137\n",
      "[308]\ttrain-logloss:0.00012\teval-logloss:0.00137\n",
      "[309]\ttrain-logloss:0.00012\teval-logloss:0.00137\n",
      "[310]\ttrain-logloss:0.00012\teval-logloss:0.00137\n",
      "[311]\ttrain-logloss:0.00012\teval-logloss:0.00137\n",
      "[312]\ttrain-logloss:0.00012\teval-logloss:0.00137\n",
      "[313]\ttrain-logloss:0.00012\teval-logloss:0.00137\n",
      "[314]\ttrain-logloss:0.00012\teval-logloss:0.00137\n",
      "[315]\ttrain-logloss:0.00012\teval-logloss:0.00137\n",
      "[316]\ttrain-logloss:0.00012\teval-logloss:0.00137\n",
      "[317]\ttrain-logloss:0.00012\teval-logloss:0.00138\n",
      "[318]\ttrain-logloss:0.00012\teval-logloss:0.00138\n",
      "[319]\ttrain-logloss:0.00012\teval-logloss:0.00138\n",
      "[320]\ttrain-logloss:0.00012\teval-logloss:0.00138\n",
      "[321]\ttrain-logloss:0.00012\teval-logloss:0.00138\n",
      "[322]\ttrain-logloss:0.00012\teval-logloss:0.00138\n",
      "[323]\ttrain-logloss:0.00012\teval-logloss:0.00138\n",
      "[324]\ttrain-logloss:0.00012\teval-logloss:0.00138\n",
      "[325]\ttrain-logloss:0.00012\teval-logloss:0.00138\n",
      "[326]\ttrain-logloss:0.00012\teval-logloss:0.00138\n",
      "[327]\ttrain-logloss:0.00012\teval-logloss:0.00138\n",
      "[328]\ttrain-logloss:0.00012\teval-logloss:0.00138\n",
      "[329]\ttrain-logloss:0.00012\teval-logloss:0.00138\n",
      "[330]\ttrain-logloss:0.00012\teval-logloss:0.00138\n",
      "[331]\ttrain-logloss:0.00012\teval-logloss:0.00138\n",
      "[332]\ttrain-logloss:0.00012\teval-logloss:0.00138\n",
      "[333]\ttrain-logloss:0.00012\teval-logloss:0.00138\n",
      "[334]\ttrain-logloss:0.00012\teval-logloss:0.00138\n",
      "[335]\ttrain-logloss:0.00012\teval-logloss:0.00138\n",
      "[336]\ttrain-logloss:0.00012\teval-logloss:0.00138\n",
      "[337]\ttrain-logloss:0.00012\teval-logloss:0.00138\n",
      "[338]\ttrain-logloss:0.00012\teval-logloss:0.00138\n",
      "[339]\ttrain-logloss:0.00012\teval-logloss:0.00138\n",
      "[340]\ttrain-logloss:0.00012\teval-logloss:0.00138\n",
      "[341]\ttrain-logloss:0.00012\teval-logloss:0.00138\n",
      "[342]\ttrain-logloss:0.00012\teval-logloss:0.00138\n",
      "[343]\ttrain-logloss:0.00012\teval-logloss:0.00138\n",
      "[344]\ttrain-logloss:0.00012\teval-logloss:0.00138\n",
      "[345]\ttrain-logloss:0.00012\teval-logloss:0.00138\n",
      "[346]\ttrain-logloss:0.00012\teval-logloss:0.00138\n",
      "[347]\ttrain-logloss:0.00012\teval-logloss:0.00138\n",
      "[348]\ttrain-logloss:0.00012\teval-logloss:0.00138\n",
      "[349]\ttrain-logloss:0.00012\teval-logloss:0.00139\n",
      "[350]\ttrain-logloss:0.00012\teval-logloss:0.00139\n",
      "[351]\ttrain-logloss:0.00012\teval-logloss:0.00138\n",
      "[352]\ttrain-logloss:0.00012\teval-logloss:0.00138\n",
      "[353]\ttrain-logloss:0.00012\teval-logloss:0.00139\n",
      "[354]\ttrain-logloss:0.00012\teval-logloss:0.00139\n",
      "[355]\ttrain-logloss:0.00012\teval-logloss:0.00139\n",
      "[356]\ttrain-logloss:0.00012\teval-logloss:0.00139\n",
      "[357]\ttrain-logloss:0.00012\teval-logloss:0.00139\n",
      "[358]\ttrain-logloss:0.00012\teval-logloss:0.00139\n",
      "[359]\ttrain-logloss:0.00012\teval-logloss:0.00139\n",
      "[360]\ttrain-logloss:0.00012\teval-logloss:0.00139\n",
      "[361]\ttrain-logloss:0.00012\teval-logloss:0.00139\n",
      "[362]\ttrain-logloss:0.00012\teval-logloss:0.00139\n",
      "[363]\ttrain-logloss:0.00012\teval-logloss:0.00139\n",
      "[364]\ttrain-logloss:0.00012\teval-logloss:0.00139\n",
      "[365]\ttrain-logloss:0.00012\teval-logloss:0.00139\n",
      "[366]\ttrain-logloss:0.00012\teval-logloss:0.00139\n",
      "[367]\ttrain-logloss:0.00012\teval-logloss:0.00139\n",
      "[368]\ttrain-logloss:0.00012\teval-logloss:0.00139\n",
      "[369]\ttrain-logloss:0.00012\teval-logloss:0.00139\n",
      "[370]\ttrain-logloss:0.00012\teval-logloss:0.00139\n",
      "[371]\ttrain-logloss:0.00012\teval-logloss:0.00139\n",
      "[372]\ttrain-logloss:0.00012\teval-logloss:0.00139\n",
      "[373]\ttrain-logloss:0.00012\teval-logloss:0.00139\n",
      "[374]\ttrain-logloss:0.00012\teval-logloss:0.00139\n",
      "[375]\ttrain-logloss:0.00012\teval-logloss:0.00139\n",
      "[376]\ttrain-logloss:0.00012\teval-logloss:0.00139\n",
      "[377]\ttrain-logloss:0.00012\teval-logloss:0.00139\n",
      "[378]\ttrain-logloss:0.00012\teval-logloss:0.00139\n",
      "[379]\ttrain-logloss:0.00012\teval-logloss:0.00139\n",
      "[380]\ttrain-logloss:0.00012\teval-logloss:0.00139\n",
      "[381]\ttrain-logloss:0.00012\teval-logloss:0.00139\n",
      "[382]\ttrain-logloss:0.00012\teval-logloss:0.00139\n",
      "[383]\ttrain-logloss:0.00012\teval-logloss:0.00139\n",
      "[384]\ttrain-logloss:0.00012\teval-logloss:0.00139\n",
      "[385]\ttrain-logloss:0.00012\teval-logloss:0.00139\n",
      "[386]\ttrain-logloss:0.00012\teval-logloss:0.00139\n",
      "[387]\ttrain-logloss:0.00012\teval-logloss:0.00139\n",
      "[388]\ttrain-logloss:0.00012\teval-logloss:0.00139\n",
      "[389]\ttrain-logloss:0.00012\teval-logloss:0.00139\n",
      "[390]\ttrain-logloss:0.00012\teval-logloss:0.00140\n",
      "[391]\ttrain-logloss:0.00012\teval-logloss:0.00140\n",
      "[392]\ttrain-logloss:0.00012\teval-logloss:0.00140\n",
      "[393]\ttrain-logloss:0.00012\teval-logloss:0.00140\n",
      "[394]\ttrain-logloss:0.00012\teval-logloss:0.00140\n",
      "[395]\ttrain-logloss:0.00012\teval-logloss:0.00140\n",
      "[396]\ttrain-logloss:0.00011\teval-logloss:0.00140\n",
      "[397]\ttrain-logloss:0.00011\teval-logloss:0.00140\n",
      "[398]\ttrain-logloss:0.00011\teval-logloss:0.00140\n",
      "[399]\ttrain-logloss:0.00011\teval-logloss:0.00140\n"
     ]
    }
   ],
   "source": [
    "# train 데이터 세트는 'train', evaluation(test) 데이터 세트는 'eval' 로 명기\n",
    "wlist = [(dtrain, 'train'), (dtest,'eval')]\n",
    "# 하이퍼 파라미터와 early stopping 파라미터를 train() 함수의 파라미터로 전달\n",
    "xgb_model = xgb.train(params = params, dtrain=dtrain, num_boost_round=num_rounds, evals=wlist)"
   ]
  },
  {
   "cell_type": "code",
   "execution_count": 74,
   "metadata": {},
   "outputs": [
    {
     "name": "stdout",
     "output_type": "stream",
     "text": [
      "predict() 수행 결과값을 10개만 표시, 예측 확률 값으로 표시됨\n",
      "[0. 0. 0. 0. 0. 0. 0. 0. 0. 0.]\n",
      "예측값 10개만 표시:  [0, 0, 0, 0, 0, 0, 0, 0, 0, 0]\n"
     ]
    }
   ],
   "source": [
    "pred_probs = xgb_model.predict(dtest)\n",
    "print('predict() 수행 결과값을 10개만 표시, 예측 확률 값으로 표시됨')\n",
    "print(np.round(pred_probs[:10], 3))\n",
    "\n",
    "# 예측 확률이 0.5보다 크면 1, 그렇지 않으면 0으로 예측값 결정해 리스트 객체인 preds에 저장\n",
    "preds = [ 1 if x > 0.5 else 0 for x in pred_probs]\n",
    "print('예측값 10개만 표시: ', preds[:10])"
   ]
  },
  {
   "cell_type": "code",
   "execution_count": 75,
   "metadata": {},
   "outputs": [],
   "source": [
    "# 혼동행렬, 정확도, 정밀도, 재현율, F1, AUC 불러오기\n",
    "def get_clf_eval(y_test, y_pred):\n",
    "    confusion = confusion_matrix(y_test, y_pred)\n",
    "    accuracy = accuracy_score(y_test, y_pred)\n",
    "    precision = precision_score(y_test, y_pred)\n",
    "    recall = recall_score(y_test, y_pred)\n",
    "    F1 = f1_score(y_test, y_pred)\n",
    "    AUC = roc_auc_score(y_test, y_pred)\n",
    "    print('오차행렬:\\n', confusion)\n",
    "    print('\\n정확도: {:.4f}'.format(accuracy))\n",
    "    print('정밀도: {:.4f}'.format(precision))\n",
    "    print('재현율: {:.4f}'.format(recall))\n",
    "    print('F1: {:.4f}'.format(F1))\n",
    "    print('AUC: {:.4f}'.format(AUC))"
   ]
  },
  {
   "cell_type": "code",
   "execution_count": 76,
   "metadata": {},
   "outputs": [
    {
     "name": "stdout",
     "output_type": "stream",
     "text": [
      "오차행렬:\n",
      " [[8389    0]\n",
      " [   2   22]]\n",
      "\n",
      "정확도: 0.9998\n",
      "정밀도: 1.0000\n",
      "재현율: 0.9167\n",
      "F1: 0.9565\n",
      "AUC: 0.9583\n"
     ]
    }
   ],
   "source": [
    "get_clf_eval(y_test, preds)"
   ]
  },
  {
   "cell_type": "code",
   "execution_count": 77,
   "metadata": {},
   "outputs": [
    {
     "data": {
      "text/plain": [
       "<AxesSubplot:title={'center':'Feature importance'}, xlabel='F score', ylabel='Features'>"
      ]
     },
     "execution_count": 77,
     "metadata": {},
     "output_type": "execute_result"
    },
    {
     "data": {
      "image/png": "[encoded data removed]",
      "text/plain": [
       "<Figure size 720x864 with 1 Axes>"
      ]
     },
     "metadata": {
      "needs_background": "light"
     },
     "output_type": "display_data"
    }
   ],
   "source": [
    "from xgboost import plot_importance\n",
    "import matplotlib.pyplot as plt\n",
    "%matplotlib inline\n",
    "\n",
    "fig, ax = plt.subplots(figsize=(10, 12))\n",
    "plot_importance(xgb_model, ax=ax)"
   ]
  },
  {
   "cell_type": "code",
   "execution_count": null,
   "metadata": {},
   "outputs": [],
   "source": []
  },
  {
   "cell_type": "code",
   "execution_count": null,
   "metadata": {},
   "outputs": [],
   "source": [
    "# 일관된 출력을 위해 유사난수 초기화\n",
    "np.random.seed(42)"
   ]
  },
  {
   "cell_type": "code",
   "execution_count": null,
   "metadata": {},
   "outputs": [],
   "source": [
    "import numpy as np\n",
    "\n",
    "# 예시를 위해서 만든 것입니다. 사이킷런에는 train_test_split() 함수가 있습니다.\n",
    "def split_train_test(data, test_ratio):\n",
    "    shuffled_indices = np.random.permutation(len(data))\n",
    "    test_set_size = int(len(data) * test_ratio)\n",
    "    test_indices = shuffled_indices[:test_set_size]\n",
    "    train_indices = shuffled_indices[test_set_size:]\n",
    "    return data.iloc[train_indices], data.iloc[test_indices]"
   ]
  },
  {
   "cell_type": "code",
   "execution_count": null,
   "metadata": {},
   "outputs": [],
   "source": [
    "train_set, test_set = split_train_test(housing, 0.2)\n",
    "print(len(train_set), \"train +\", len(test_set), \"test\")"
   ]
  },
  {
   "cell_type": "code",
   "execution_count": null,
   "metadata": {},
   "outputs": [],
   "source": [
    "from zlib import crc32\n",
    "\n",
    "def test_set_check(identifier, test_ratio):\n",
    "    return crc32(np.int64(identifier)) & 0xffffffff < test_ratio * 2**32\n",
    "\n",
    "def split_train_test_by_id(data, test_ratio, id_column):\n",
    "    ids = data[id_column]\n",
    "    in_test_set = ids.apply(lambda id_: test_set_check(id_, test_ratio))\n",
    "    return data.loc[~in_test_set], data.loc[in_test_set]"
   ]
  },
  {
   "cell_type": "markdown",
   "metadata": {},
   "source": [
    "위의 `test_set_check()` 함수는 파이썬 2와 파이썬 3에서 모두 작동되고 다음의 hashlib를 사용한 구현보다 훨씬 빠릅니다."
   ]
  },
  {
   "cell_type": "code",
   "execution_count": null,
   "metadata": {},
   "outputs": [],
   "source": [
    "import hashlib\n",
    "\n",
    "def test_set_check(identifier, test_ratio, hash=hashlib.md5):\n",
    "    return bytearray(hash(np.int64(identifier)).digest())[-1] < 256 * test_ratio"
   ]
  },
  {
   "cell_type": "code",
   "execution_count": null,
   "metadata": {},
   "outputs": [],
   "source": [
    "# 이 버전의 test_set_check() 함수가 파이썬 2도 지원합니다.\n",
    "def test_set_check(identifier, test_ratio, hash=hashlib.md5):\n",
    "    return bytearray(hash(np.int64(identifier)).digest())[-1] < 256 * test_ratio"
   ]
  },
  {
   "cell_type": "code",
   "execution_count": null,
   "metadata": {},
   "outputs": [],
   "source": [
    "housing_with_id = housing.reset_index()   # `index` 열이 추가된 데이터프레임이 반환됩니다.\n",
    "train_set, test_set = split_train_test_by_id(housing_with_id, 0.2, \"index\")"
   ]
  },
  {
   "cell_type": "code",
   "execution_count": null,
   "metadata": {},
   "outputs": [],
   "source": [
    "housing_with_id[\"id\"] = housing[\"longitude\"] * 1000 + housing[\"latitude\"]\n",
    "train_set, test_set = split_train_test_by_id(housing_with_id, 0.2, \"id\")"
   ]
  },
  {
   "cell_type": "code",
   "execution_count": null,
   "metadata": {},
   "outputs": [],
   "source": [
    "test_set.head()"
   ]
  },
  {
   "cell_type": "code",
   "execution_count": null,
   "metadata": {},
   "outputs": [],
   "source": [
    "from sklearn.model_selection import train_test_split\n",
    "\n",
    "train_set, test_set = train_test_split(housing, test_size=0.2, random_state=42)"
   ]
  },
  {
   "cell_type": "code",
   "execution_count": null,
   "metadata": {},
   "outputs": [],
   "source": [
    "test_set.head()"
   ]
  },
  {
   "cell_type": "code",
   "execution_count": null,
   "metadata": {},
   "outputs": [],
   "source": [
    "housing[\"median_income\"].hist()"
   ]
  },
  {
   "cell_type": "code",
   "execution_count": null,
   "metadata": {},
   "outputs": [],
   "source": [
    "# 소득 카테고리 개수를 제한하기 위해 1.5로 나눕니다.\n",
    "housing[\"income_cat\"] = np.ceil(housing[\"median_income\"] / 1.5)\n",
    "# 5 이상은 5로 레이블합니다.\n",
    "housing[\"income_cat\"].where(housing[\"income_cat\"] < 5, 5.0, inplace=True)"
   ]
  },
  {
   "cell_type": "code",
   "execution_count": null,
   "metadata": {},
   "outputs": [],
   "source": [
    "housing[\"income_cat\"].value_counts()"
   ]
  },
  {
   "cell_type": "code",
   "execution_count": null,
   "metadata": {},
   "outputs": [],
   "source": [
    "housing[\"income_cat\"].hist()\n",
    "save_fig('income_category_hist')"
   ]
  },
  {
   "cell_type": "code",
   "execution_count": null,
   "metadata": {},
   "outputs": [],
   "source": [
    "from sklearn.model_selection import StratifiedShuffleSplit\n",
    "\n",
    "split = StratifiedShuffleSplit(n_splits=1, test_size=0.2, random_state=42)\n",
    "for train_index, test_index in split.split(housing, housing[\"income_cat\"]):\n",
    "    strat_train_set = housing.loc[train_index]\n",
    "    strat_test_set = housing.loc[test_index]"
   ]
  },
  {
   "cell_type": "code",
   "execution_count": null,
   "metadata": {},
   "outputs": [],
   "source": [
    "strat_test_set[\"income_cat\"].value_counts() / len(strat_test_set)"
   ]
  },
  {
   "cell_type": "code",
   "execution_count": null,
   "metadata": {},
   "outputs": [],
   "source": [
    "housing[\"income_cat\"].value_counts() / len(housing)"
   ]
  },
  {
   "cell_type": "code",
   "execution_count": null,
   "metadata": {},
   "outputs": [],
   "source": [
    "def income_cat_proportions(data):\n",
    "    return data[\"income_cat\"].value_counts() / len(data)\n",
    "\n",
    "train_set, test_set = train_test_split(housing, test_size=0.2, random_state=42)\n",
    "\n",
    "compare_props = pd.DataFrame({\n",
    "    \"Overall\": income_cat_proportions(housing),\n",
    "    \"Stratified\": income_cat_proportions(strat_test_set),\n",
    "    \"Random\": income_cat_proportions(test_set),\n",
    "}).sort_index()\n",
    "compare_props[\"Rand. %error\"] = 100 * compare_props[\"Random\"] / compare_props[\"Overall\"] - 100\n",
    "compare_props[\"Strat. %error\"] = 100 * compare_props[\"Stratified\"] / compare_props[\"Overall\"] - 100"
   ]
  },
  {
   "cell_type": "code",
   "execution_count": null,
   "metadata": {},
   "outputs": [],
   "source": [
    "compare_props"
   ]
  },
  {
   "cell_type": "code",
   "execution_count": null,
   "metadata": {},
   "outputs": [],
   "source": [
    "for set_ in (strat_train_set, strat_test_set):\n",
    "    set_.drop(\"income_cat\", axis=1, inplace=True)"
   ]
  },
  {
   "cell_type": "markdown",
   "metadata": {},
   "source": [
    "# 데이터 이해를 위한 탐색과 시각화"
   ]
  },
  {
   "cell_type": "code",
   "execution_count": null,
   "metadata": {},
   "outputs": [],
   "source": [
    "housing = strat_train_set.copy()"
   ]
  },
  {
   "cell_type": "code",
   "execution_count": null,
   "metadata": {},
   "outputs": [],
   "source": [
    "ax = housing.plot(kind=\"scatter\", x=\"longitude\", y=\"latitude\")\n",
    "ax.set(xlabel='경도', ylabel='위도')\n",
    "save_fig(\"bad_visualization_plot\")"
   ]
  },
  {
   "cell_type": "code",
   "execution_count": null,
   "metadata": {},
   "outputs": [],
   "source": [
    "ax = housing.plot(kind=\"scatter\", x=\"longitude\", y=\"latitude\", alpha=0.1)\n",
    "ax.set(xlabel='경도', ylabel='위도')\n",
    "save_fig(\"better_visualization_plot\")"
   ]
  },
  {
   "cell_type": "markdown",
   "metadata": {},
   "source": [
    "`sharex=False` 매개변수는 x-축의 값과 범례를 표시하지 못하는 버그를 수정합니다. 이는 임시 방편입니다(https://github.com/pandas-dev/pandas/issues/10611 참조). 수정 사항을 알려준 Wilmer Arellano에게 감사합니다."
   ]
  },
  {
   "cell_type": "code",
   "execution_count": null,
   "metadata": {},
   "outputs": [],
   "source": [
    "ax = housing.plot(kind=\"scatter\", x=\"longitude\", y=\"latitude\", alpha=0.4,\n",
    "    s=housing[\"population\"]/100, label=\"인구\", figsize=(10,7),\n",
    "    c=\"median_house_value\", cmap=plt.get_cmap(\"jet\"), colorbar=True,\n",
    "    sharex=False)\n",
    "ax.set(xlabel='경도', ylabel='위도')\n",
    "plt.legend()\n",
    "save_fig(\"housing_prices_scatterplot\")"
   ]
  },
  {
   "cell_type": "code",
   "execution_count": null,
   "metadata": {},
   "outputs": [],
   "source": [
    "import matplotlib.image as mpimg\n",
    "california_img=mpimg.imread(PROJECT_ROOT_DIR + '/images/end_to_end_project/california.png')\n",
    "ax = housing.plot(kind=\"scatter\", x=\"longitude\", y=\"latitude\", figsize=(10,7),\n",
    "                       s=housing['population']/100, label=\"인구\",\n",
    "                       c=\"median_house_value\", cmap=plt.get_cmap(\"jet\"),\n",
    "                       colorbar=False, alpha=0.4,\n",
    "                      )\n",
    "plt.imshow(california_img, extent=[-124.55, -113.80, 32.45, 42.05], alpha=0.5)\n",
    "plt.ylabel(\"위도\", fontsize=14)\n",
    "plt.xlabel(\"경도\", fontsize=14)\n",
    "\n",
    "prices = housing[\"median_house_value\"]\n",
    "tick_values = np.linspace(prices.min(), prices.max(), 11)\n",
    "cbar = plt.colorbar()\n",
    "cbar.ax.set_yticklabels([\"$%dk\"%(round(v/1000)) for v in tick_values], fontsize=14)\n",
    "cbar.set_label('중간 주택 가격', fontsize=16)\n",
    "\n",
    "plt.legend(fontsize=16)\n",
    "save_fig(\"california_housing_prices_plot\")\n",
    "plt.show()"
   ]
  },
  {
   "cell_type": "code",
   "execution_count": null,
   "metadata": {},
   "outputs": [],
   "source": [
    "corr_matrix = housing.corr()"
   ]
  },
  {
   "cell_type": "code",
   "execution_count": null,
   "metadata": {
    "scrolled": true
   },
   "outputs": [],
   "source": [
    "corr_matrix[\"median_house_value\"].sort_values(ascending=False)"
   ]
  },
  {
   "cell_type": "code",
   "execution_count": null,
   "metadata": {},
   "outputs": [],
   "source": [
    "from pandas.plotting import scatter_matrix\n",
    "\n",
    "attributes = [\"median_house_value\", \"median_income\", \"total_rooms\",\n",
    "              \"housing_median_age\"]\n",
    "scatter_matrix(housing[attributes], figsize=(12, 8))\n",
    "save_fig(\"scatter_matrix_plot\")"
   ]
  },
  {
   "cell_type": "code",
   "execution_count": null,
   "metadata": {},
   "outputs": [],
   "source": [
    "housing.plot(kind=\"scatter\", x=\"median_income\", y=\"median_house_value\",\n",
    "             alpha=0.1)\n",
    "plt.axis([0, 16, 0, 550000])\n",
    "save_fig(\"income_vs_house_value_scatterplot\")"
   ]
  },
  {
   "cell_type": "code",
   "execution_count": null,
   "metadata": {},
   "outputs": [],
   "source": [
    "housing[\"rooms_per_household\"] = housing[\"total_rooms\"]/housing[\"households\"]\n",
    "housing[\"bedrooms_per_room\"] = housing[\"total_bedrooms\"]/housing[\"total_rooms\"]\n",
    "housing[\"population_per_household\"]=housing[\"population\"]/housing[\"households\"]"
   ]
  },
  {
   "cell_type": "code",
   "execution_count": null,
   "metadata": {},
   "outputs": [],
   "source": [
    "corr_matrix = housing.corr()\n",
    "corr_matrix[\"median_house_value\"].sort_values(ascending=False)"
   ]
  },
  {
   "cell_type": "code",
   "execution_count": null,
   "metadata": {},
   "outputs": [],
   "source": [
    "housing.plot(kind=\"scatter\", x=\"rooms_per_household\", y=\"median_house_value\",\n",
    "             alpha=0.2)\n",
    "plt.axis([0, 5, 0, 520000])\n",
    "plt.show()"
   ]
  },
  {
   "cell_type": "code",
   "execution_count": null,
   "metadata": {},
   "outputs": [],
   "source": [
    "housing.describe()"
   ]
  },
  {
   "cell_type": "markdown",
   "metadata": {},
   "source": [
    "# 머신러닝 알고리즘을 위한 데이터 준비"
   ]
  },
  {
   "cell_type": "code",
   "execution_count": null,
   "metadata": {},
   "outputs": [],
   "source": [
    "housing = strat_train_set.drop(\"median_house_value\", axis=1) # 훈련 세트를 위해 레이블 삭제\n",
    "housing_labels = strat_train_set[\"median_house_value\"].copy()"
   ]
  },
  {
   "cell_type": "code",
   "execution_count": null,
   "metadata": {
    "scrolled": true
   },
   "outputs": [],
   "source": [
    "sample_incomplete_rows = housing[housing.isnull().any(axis=1)].head()\n",
    "sample_incomplete_rows"
   ]
  },
  {
   "cell_type": "code",
   "execution_count": null,
   "metadata": {},
   "outputs": [],
   "source": [
    "sample_incomplete_rows.dropna(subset=[\"total_bedrooms\"])    # 옵션 1"
   ]
  },
  {
   "cell_type": "code",
   "execution_count": null,
   "metadata": {},
   "outputs": [],
   "source": [
    "sample_incomplete_rows.drop(\"total_bedrooms\", axis=1)       # 옵션 2"
   ]
  },
  {
   "cell_type": "code",
   "execution_count": null,
   "metadata": {},
   "outputs": [],
   "source": [
    "median = housing[\"total_bedrooms\"].median()\n",
    "sample_incomplete_rows[\"total_bedrooms\"].fillna(median, inplace=True) # 옵션 3\n",
    "sample_incomplete_rows"
   ]
  },
  {
   "cell_type": "code",
   "execution_count": null,
   "metadata": {},
   "outputs": [],
   "source": [
    "from sklearn.preprocessing import Imputer\n",
    "\n",
    "imputer = Imputer(strategy=\"median\")"
   ]
  },
  {
   "cell_type": "markdown",
   "metadata": {},
   "source": [
    "중간값이 수치형 특성에서만 계산될 수 있기 때문에 텍스트 특성을 삭제합니다:"
   ]
  },
  {
   "cell_type": "code",
   "execution_count": null,
   "metadata": {},
   "outputs": [],
   "source": [
    "housing_num = housing.drop('ocean_proximity', axis=1)\n",
    "# 다른 방법: housing_num = housing.select_dtypes(include=[np.number])"
   ]
  },
  {
   "cell_type": "code",
   "execution_count": null,
   "metadata": {},
   "outputs": [],
   "source": [
    "imputer.fit(housing_num)"
   ]
  },
  {
   "cell_type": "code",
   "execution_count": null,
   "metadata": {
    "scrolled": true
   },
   "outputs": [],
   "source": [
    "imputer.statistics_"
   ]
  },
  {
   "cell_type": "markdown",
   "metadata": {},
   "source": [
    "각 특성의 중간 값이 수동으로 계산한 것과 같은지 확인해 보세요:"
   ]
  },
  {
   "cell_type": "code",
   "execution_count": null,
   "metadata": {},
   "outputs": [],
   "source": [
    "housing_num.median().values"
   ]
  },
  {
   "cell_type": "markdown",
   "metadata": {},
   "source": [
    "훈련 세트 변환:"
   ]
  },
  {
   "cell_type": "code",
   "execution_count": null,
   "metadata": {},
   "outputs": [],
   "source": [
    "X = imputer.transform(housing_num)"
   ]
  },
  {
   "cell_type": "code",
   "execution_count": null,
   "metadata": {},
   "outputs": [],
   "source": [
    "housing_tr = pd.DataFrame(X, columns=housing_num.columns,\n",
    "                          index = list(housing.index.values))"
   ]
  },
  {
   "cell_type": "code",
   "execution_count": null,
   "metadata": {},
   "outputs": [],
   "source": [
    "housing_tr.loc[sample_incomplete_rows.index.values]"
   ]
  },
  {
   "cell_type": "code",
   "execution_count": null,
   "metadata": {},
   "outputs": [],
   "source": [
    "imputer.strategy"
   ]
  },
  {
   "cell_type": "code",
   "execution_count": null,
   "metadata": {},
   "outputs": [],
   "source": [
    "housing_tr = pd.DataFrame(X, columns=housing_num.columns)\n",
    "housing_tr.head()"
   ]
  },
  {
   "cell_type": "markdown",
   "metadata": {},
   "source": [
    "이제 범주형 입력 특성인 `ocean_proximity`을 전처리합니다:"
   ]
  },
  {
   "cell_type": "markdown",
   "metadata": {},
   "source": [
    "### 책에 실린 방법"
   ]
  },
  {
   "cell_type": "code",
   "execution_count": null,
   "metadata": {},
   "outputs": [],
   "source": [
    "housing_cat = housing['ocean_proximity']\n",
    "housing_cat.head(10)"
   ]
  },
  {
   "cell_type": "markdown",
   "metadata": {},
   "source": [
    "판다스의 `factorize()` 메소드는 문자열 범주형 특성을 머신러닝 알고리즘이 다루기 쉬운 숫자 범주형 특성으로 변환시켜 줍니다:"
   ]
  },
  {
   "cell_type": "code",
   "execution_count": null,
   "metadata": {},
   "outputs": [],
   "source": [
    "housing_cat_encoded, housing_categories = housing_cat.factorize()\n",
    "housing_cat_encoded[:10]"
   ]
  },
  {
   "cell_type": "code",
   "execution_count": null,
   "metadata": {},
   "outputs": [],
   "source": [
    "housing_categories"
   ]
  },
  {
   "cell_type": "markdown",
   "metadata": {},
   "source": [
    "`OneHotEncoder`를 사용하여 범주형 값을 원-핫 벡터로 변경합니다:"
   ]
  },
  {
   "cell_type": "code",
   "execution_count": null,
   "metadata": {},
   "outputs": [],
   "source": [
    "from sklearn.preprocessing import OneHotEncoder\n",
    "\n",
    "encoder = OneHotEncoder()\n",
    "housing_cat_1hot = encoder.fit_transform(housing_cat_encoded.reshape(-1,1))\n",
    "housing_cat_1hot"
   ]
  },
  {
   "cell_type": "markdown",
   "metadata": {},
   "source": [
    "`OneHotEncoder`는 기본적으로 희소 행렬을 반환합니다. 필요하면 밀집 배열로 변환할 수 있습니다:"
   ]
  },
  {
   "cell_type": "code",
   "execution_count": null,
   "metadata": {},
   "outputs": [],
   "source": [
    "housing_cat_1hot.toarray()"
   ]
  },
  {
   "cell_type": "code",
   "execution_count": null,
   "metadata": {},
   "outputs": [],
   "source": [
    "# [PR #9151](https://github.com/scikit-learn/scikit-learn/pull/9151)에서 가져온 CategoricalEncoder 클래스의 정의.\n",
    "# 이 클래스는 사이킷런 0.20에 포함될 예정입니다.\n",
    "\n",
    "from sklearn.base import BaseEstimator, TransformerMixin\n",
    "from sklearn.utils import check_array\n",
    "from sklearn.preprocessing import LabelEncoder\n",
    "from scipy import sparse\n",
    "\n",
    "class CategoricalEncoder(BaseEstimator, TransformerMixin):\n",
    "    \"\"\"Encode categorical features as a numeric array.\n",
    "    The input to this transformer should be a matrix of integers or strings,\n",
    "    denoting the values taken on by categorical (discrete) features.\n",
    "    The features can be encoded using a one-hot aka one-of-K scheme\n",
    "    (``encoding='onehot'``, the default) or converted to ordinal integers\n",
    "    (``encoding='ordinal'``).\n",
    "    This encoding is needed for feeding categorical data to many scikit-learn\n",
    "    estimators, notably linear models and SVMs with the standard kernels.\n",
    "    Read more in the :ref:`User Guide <preprocessing_categorical_features>`.\n",
    "    Parameters\n",
    "    ----------\n",
    "    encoding : str, 'onehot', 'onehot-dense' or 'ordinal'\n",
    "        The type of encoding to use (default is 'onehot'):\n",
    "        - 'onehot': encode the features using a one-hot aka one-of-K scheme\n",
    "          (or also called 'dummy' encoding). This creates a binary column for\n",
    "          each category and returns a sparse matrix.\n",
    "        - 'onehot-dense': the same as 'onehot' but returns a dense array\n",
    "          instead of a sparse matrix.\n",
    "        - 'ordinal': encode the features as ordinal integers. This results in\n",
    "          a single column of integers (0 to n_categories - 1) per feature.\n",
    "    categories : 'auto' or a list of lists/arrays of values.\n",
    "        Categories (unique values) per feature:\n",
    "        - 'auto' : Determine categories automatically from the training data.\n",
    "        - list : ``categories[i]`` holds the categories expected in the ith\n",
    "          column. The passed categories are sorted before encoding the data\n",
    "          (used categories can be found in the ``categories_`` attribute).\n",
    "    dtype : number type, default np.float64\n",
    "        Desired dtype of output.\n",
    "    handle_unknown : 'error' (default) or 'ignore'\n",
    "        Whether to raise an error or ignore if a unknown categorical feature is\n",
    "        present during transform (default is to raise). When this is parameter\n",
    "        is set to 'ignore' and an unknown category is encountered during\n",
    "        transform, the resulting one-hot encoded columns for this feature\n",
    "        will be all zeros.\n",
    "        Ignoring unknown categories is not supported for\n",
    "        ``encoding='ordinal'``.\n",
    "    Attributes\n",
    "    ----------\n",
    "    categories_ : list of arrays\n",
    "        The categories of each feature determined during fitting. When\n",
    "        categories were specified manually, this holds the sorted categories\n",
    "        (in order corresponding with output of `transform`).\n",
    "    Examples\n",
    "    --------\n",
    "    Given a dataset with three features and two samples, we let the encoder\n",
    "    find the maximum value per feature and transform the data to a binary\n",
    "    one-hot encoding.\n",
    "    >>> from sklearn.preprocessing import CategoricalEncoder\n",
    "    >>> enc = CategoricalEncoder(handle_unknown='ignore')\n",
    "    >>> enc.fit([[0, 0, 3], [1, 1, 0], [0, 2, 1], [1, 0, 2]])\n",
    "    ... # doctest: +ELLIPSIS\n",
    "    CategoricalEncoder(categories='auto', dtype=<... 'numpy.float64'>,\n",
    "              encoding='onehot', handle_unknown='ignore')\n",
    "    >>> enc.transform([[0, 1, 1], [1, 0, 4]]).toarray()\n",
    "    array([[ 1.,  0.,  0.,  1.,  0.,  0.,  1.,  0.,  0.],\n",
    "           [ 0.,  1.,  1.,  0.,  0.,  0.,  0.,  0.,  0.]])\n",
    "    See also\n",
    "    --------\n",
    "    sklearn.preprocessing.OneHotEncoder : performs a one-hot encoding of\n",
    "      integer ordinal features. The ``OneHotEncoder assumes`` that input\n",
    "      features take on values in the range ``[0, max(feature)]`` instead of\n",
    "      using the unique values.\n",
    "    sklearn.feature_extraction.DictVectorizer : performs a one-hot encoding of\n",
    "      dictionary items (also handles string-valued features).\n",
    "    sklearn.feature_extraction.FeatureHasher : performs an approximate one-hot\n",
    "      encoding of dictionary items or strings.\n",
    "    \"\"\"\n",
    "\n",
    "    def __init__(self, encoding='onehot', categories='auto', dtype=np.float64,\n",
    "                 handle_unknown='error'):\n",
    "        self.encoding = encoding\n",
    "        self.categories = categories\n",
    "        self.dtype = dtype\n",
    "        self.handle_unknown = handle_unknown\n",
    "\n",
    "    def fit(self, X, y=None):\n",
    "        \"\"\"Fit the CategoricalEncoder to X.\n",
    "        Parameters\n",
    "        ----------\n",
    "        X : array-like, shape [n_samples, n_feature]\n",
    "            The data to determine the categories of each feature.\n",
    "        Returns\n",
    "        -------\n",
    "        self\n",
    "        \"\"\"\n",
    "\n",
    "        if self.encoding not in ['onehot', 'onehot-dense', 'ordinal']:\n",
    "            template = (\"encoding should be either 'onehot', 'onehot-dense' \"\n",
    "                        \"or 'ordinal', got %s\")\n",
    "            raise ValueError(template % self.handle_unknown)\n",
    "\n",
    "        if self.handle_unknown not in ['error', 'ignore']:\n",
    "            template = (\"handle_unknown should be either 'error' or \"\n",
    "                        \"'ignore', got %s\")\n",
    "            raise ValueError(template % self.handle_unknown)\n",
    "\n",
    "        if self.encoding == 'ordinal' and self.handle_unknown == 'ignore':\n",
    "            raise ValueError(\"handle_unknown='ignore' is not supported for\"\n",
    "                             \" encoding='ordinal'\")\n",
    "\n",
    "        X = check_array(X, dtype=np.object, accept_sparse='csc', copy=True)\n",
    "        n_samples, n_features = X.shape\n",
    "\n",
    "        self._label_encoders_ = [LabelEncoder() for _ in range(n_features)]\n",
    "\n",
    "        for i in range(n_features):\n",
    "            le = self._label_encoders_[i]\n",
    "            Xi = X[:, i]\n",
    "            if self.categories == 'auto':\n",
    "                le.fit(Xi)\n",
    "            else:\n",
    "                valid_mask = np.in1d(Xi, self.categories[i])\n",
    "                if not np.all(valid_mask):\n",
    "                    if self.handle_unknown == 'error':\n",
    "                        diff = np.unique(Xi[~valid_mask])\n",
    "                        msg = (\"Found unknown categories {0} in column {1}\"\n",
    "                               \" during fit\".format(diff, i))\n",
    "                        raise ValueError(msg)\n",
    "                le.classes_ = np.array(np.sort(self.categories[i]))\n",
    "\n",
    "        self.categories_ = [le.classes_ for le in self._label_encoders_]\n",
    "\n",
    "        return self\n",
    "\n",
    "    def transform(self, X):\n",
    "        \"\"\"Transform X using one-hot encoding.\n",
    "        Parameters\n",
    "        ----------\n",
    "        X : array-like, shape [n_samples, n_features]\n",
    "            The data to encode.\n",
    "        Returns\n",
    "        -------\n",
    "        X_out : sparse matrix or a 2-d array\n",
    "            Transformed input.\n",
    "        \"\"\"\n",
    "        X = check_array(X, accept_sparse='csc', dtype=np.object, copy=True)\n",
    "        n_samples, n_features = X.shape\n",
    "        X_int = np.zeros_like(X, dtype=np.int)\n",
    "        X_mask = np.ones_like(X, dtype=np.bool)\n",
    "\n",
    "        for i in range(n_features):\n",
    "            valid_mask = np.in1d(X[:, i], self.categories_[i])\n",
    "\n",
    "            if not np.all(valid_mask):\n",
    "                if self.handle_unknown == 'error':\n",
    "                    diff = np.unique(X[~valid_mask, i])\n",
    "                    msg = (\"Found unknown categories {0} in column {1}\"\n",
    "                           \" during transform\".format(diff, i))\n",
    "                    raise ValueError(msg)\n",
    "                else:\n",
    "                    # Set the problematic rows to an acceptable value and\n",
    "                    # continue `The rows are marked `X_mask` and will be\n",
    "                    # removed later.\n",
    "                    X_mask[:, i] = valid_mask\n",
    "                    X[:, i][~valid_mask] = self.categories_[i][0]\n",
    "            X_int[:, i] = self._label_encoders_[i].transform(X[:, i])\n",
    "\n",
    "        if self.encoding == 'ordinal':\n",
    "            return X_int.astype(self.dtype, copy=False)\n",
    "\n",
    "        mask = X_mask.ravel()\n",
    "        n_values = [cats.shape[0] for cats in self.categories_]\n",
    "        n_values = np.array([0] + n_values)\n",
    "        indices = np.cumsum(n_values)\n",
    "\n",
    "        column_indices = (X_int + indices[:-1]).ravel()[mask]\n",
    "        row_indices = np.repeat(np.arange(n_samples, dtype=np.int32),\n",
    "                                n_features)[mask]\n",
    "        data = np.ones(n_samples * n_features)[mask]\n",
    "\n",
    "        out = sparse.csc_matrix((data, (row_indices, column_indices)),\n",
    "                                shape=(n_samples, indices[-1]),\n",
    "                                dtype=self.dtype).tocsr()\n",
    "        if self.encoding == 'onehot-dense':\n",
    "            return out.toarray()\n",
    "        else:\n",
    "            return out"
   ]
  },
  {
   "cell_type": "markdown",
   "metadata": {},
   "source": [
    "`CategoricalEncoder`는 하나 이상의 특성을 가진 2D 배열을 기대합니다. 따라서 `housing_cat`을 2D 배열로 바꾸어 주어야 합니다:"
   ]
  },
  {
   "cell_type": "code",
   "execution_count": null,
   "metadata": {},
   "outputs": [],
   "source": [
    "#from sklearn.preprocessing import CategoricalEncoder # Scikit-Learn 0.20에서 추가 예정\n",
    "\n",
    "cat_encoder = CategoricalEncoder()\n",
    "housing_cat_reshaped = housing_cat.values.reshape(-1, 1)\n",
    "housing_cat_1hot = cat_encoder.fit_transform(housing_cat_reshaped)\n",
    "housing_cat_1hot"
   ]
  },
  {
   "cell_type": "markdown",
   "metadata": {},
   "source": [
    "기본 인코딩은 원-핫 벡터이고 희소 행렬로 반환됩니다. `toarray()` 메소드를 사용하여 밀집 배열로 바꿀 수 있습니다:"
   ]
  },
  {
   "cell_type": "code",
   "execution_count": null,
   "metadata": {},
   "outputs": [],
   "source": [
    "housing_cat_1hot.toarray()"
   ]
  },
  {
   "cell_type": "markdown",
   "metadata": {},
   "source": [
    "또는 encoding 매개변수를 `\"onehot-dense\"`로 지정하여 희소 행렬대신 밀집 행렬을 얻을 수 있습니다:"
   ]
  },
  {
   "cell_type": "code",
   "execution_count": null,
   "metadata": {},
   "outputs": [],
   "source": [
    "cat_encoder = CategoricalEncoder(encoding=\"onehot-dense\")\n",
    "housing_cat_1hot = cat_encoder.fit_transform(housing_cat_reshaped)\n",
    "housing_cat_1hot"
   ]
  },
  {
   "cell_type": "code",
   "execution_count": null,
   "metadata": {},
   "outputs": [],
   "source": [
    "cat_encoder.categories_"
   ]
  },
  {
   "cell_type": "markdown",
   "metadata": {},
   "source": [
    "### future_encoders.py를 사용한 새로운 방법"
   ]
  },
  {
   "cell_type": "code",
   "execution_count": null,
   "metadata": {},
   "outputs": [],
   "source": [
    "housing_cat = housing[['ocean_proximity']]\n",
    "housing_cat.head(10)"
   ]
  },
  {
   "cell_type": "markdown",
   "metadata": {},
   "source": [
    "주의: 번역서는 판다스의 `Series.factorize()` 메서드를 사용하여 문자열 범주형 특성을 정수로 인코딩합니다. 사이킷런 0.20에 추가될 `OrdinalEncoder` 클래스(PR #10521)는 입력 특성(레이블 `y`가 아니라 `X`)을 위해 설계되었고 파이프라인(나중에 이 노트북에서 나옵니다)과 잘 작동되기 때문에 더 좋은 방법입니다. 지금은 `future_encoders.py` 파일에서 임포트하지만 사이킷런 0.20 버전이 릴리스되면 `sklearn.preprocessing`에서 바로 임포팅할 수 있습니다."
   ]
  },
  {
   "cell_type": "code",
   "execution_count": null,
   "metadata": {},
   "outputs": [],
   "source": [
    "from future_encoders import OrdinalEncoder"
   ]
  },
  {
   "cell_type": "code",
   "execution_count": null,
   "metadata": {},
   "outputs": [],
   "source": [
    "ordinal_encoder = OrdinalEncoder()\n",
    "housing_cat_encoded = ordinal_encoder.fit_transform(housing_cat)\n",
    "housing_cat_encoded[:10]"
   ]
  },
  {
   "cell_type": "code",
   "execution_count": null,
   "metadata": {},
   "outputs": [],
   "source": [
    "ordinal_encoder.categories_"
   ]
  },
  {
   "cell_type": "markdown",
   "metadata": {},
   "source": [
    "주의: 번역서는 `CategoricalEncoder`를 사용하여 각 범주형 값을 원-핫 벡터로 변경합니다. 이 클래스는 `OrdinalEncoder`와 새로운 `OneHotEncoder`로 리팩토링되었습니다. 지금은 `OneHotEncoder`가 정수형 범주 입력만 다룰 수 있지만 사이킷런 0.20에서는 문자열 범주 입력도 다룰 수 있을 것입니다(PR #10521). 지금은 `future_encoders.py` 파일에서 임포트하지만 사이킷런 0.20 버전이 릴리스되면 `sklearn.preprocessing`에서 바로 임포팅할 수 있습니다."
   ]
  },
  {
   "cell_type": "code",
   "execution_count": null,
   "metadata": {},
   "outputs": [],
   "source": [
    "from future_encoders import OneHotEncoder\n",
    "\n",
    "cat_encoder = OneHotEncoder()\n",
    "housing_cat_1hot = cat_encoder.fit_transform(housing_cat)\n",
    "housing_cat_1hot"
   ]
  },
  {
   "cell_type": "markdown",
   "metadata": {},
   "source": [
    "기본적으로 `OneHotEncoder` 클래스는 희소 행렬을 반환하지만 필요하면 `toarray()` 메서드를 호출하여 밀집 배열로 바꿀 수 있습니다:"
   ]
  },
  {
   "cell_type": "code",
   "execution_count": null,
   "metadata": {},
   "outputs": [],
   "source": [
    "housing_cat_1hot.toarray()"
   ]
  },
  {
   "cell_type": "markdown",
   "metadata": {},
   "source": [
    "또는 `OneHotEncoder` 객체를 만들 때 `sparse=False`로 지정하면 됩니다:"
   ]
  },
  {
   "cell_type": "code",
   "execution_count": null,
   "metadata": {},
   "outputs": [],
   "source": [
    "cat_encoder = OneHotEncoder(sparse=False)\n",
    "housing_cat_1hot = cat_encoder.fit_transform(housing_cat)\n",
    "housing_cat_1hot"
   ]
  },
  {
   "cell_type": "code",
   "execution_count": null,
   "metadata": {},
   "outputs": [],
   "source": [
    "cat_encoder.categories_"
   ]
  },
  {
   "cell_type": "markdown",
   "metadata": {},
   "source": [
    "### 다시 책의 내용이 이어집니다"
   ]
  },
  {
   "cell_type": "markdown",
   "metadata": {},
   "source": [
    "추가 특성을 위해 나만의 변환기를 만들겠습니다:"
   ]
  },
  {
   "cell_type": "code",
   "execution_count": null,
   "metadata": {},
   "outputs": [],
   "source": [
    "from sklearn.base import BaseEstimator, TransformerMixin\n",
    "\n",
    "# 컬럼 인덱스\n",
    "rooms_ix, bedrooms_ix, population_ix, household_ix = 3, 4, 5, 6\n",
    "\n",
    "class CombinedAttributesAdder(BaseEstimator, TransformerMixin):\n",
    "    def __init__(self, add_bedrooms_per_room = True): # no *args or **kargs\n",
    "        self.add_bedrooms_per_room = add_bedrooms_per_room\n",
    "    def fit(self, X, y=None):\n",
    "        return self  # nothing else to do\n",
    "    def transform(self, X, y=None):\n",
    "        rooms_per_household = X[:, rooms_ix] / X[:, household_ix]\n",
    "        population_per_household = X[:, population_ix] / X[:, household_ix]\n",
    "        if self.add_bedrooms_per_room:\n",
    "            bedrooms_per_room = X[:, bedrooms_ix] / X[:, rooms_ix]\n",
    "            return np.c_[X, rooms_per_household, population_per_household,\n",
    "                         bedrooms_per_room]\n",
    "        else:\n",
    "            return np.c_[X, rooms_per_household, population_per_household]\n",
    "\n",
    "attr_adder = CombinedAttributesAdder(add_bedrooms_per_room=False)\n",
    "housing_extra_attribs = attr_adder.transform(housing.values)"
   ]
  },
  {
   "cell_type": "code",
   "execution_count": null,
   "metadata": {},
   "outputs": [],
   "source": [
    "housing_extra_attribs = pd.DataFrame(\n",
    "    housing_extra_attribs, \n",
    "    columns=list(housing.columns)+[\"rooms_per_household\", \"population_per_household\"])\n",
    "housing_extra_attribs.head()"
   ]
  },
  {
   "cell_type": "markdown",
   "metadata": {},
   "source": [
    "수치 특성을 전처리하기 위한 파이프라인을 만듭니다:"
   ]
  },
  {
   "cell_type": "code",
   "execution_count": null,
   "metadata": {},
   "outputs": [],
   "source": [
    "from sklearn.pipeline import Pipeline\n",
    "from sklearn.preprocessing import StandardScaler\n",
    "\n",
    "num_pipeline = Pipeline([\n",
    "        ('imputer', Imputer(strategy=\"median\")),\n",
    "        ('attribs_adder', CombinedAttributesAdder()),\n",
    "        ('std_scaler', StandardScaler()),\n",
    "    ])\n",
    "\n",
    "housing_num_tr = num_pipeline.fit_transform(housing_num)"
   ]
  },
  {
   "cell_type": "code",
   "execution_count": null,
   "metadata": {},
   "outputs": [],
   "source": [
    "housing_num_tr"
   ]
  },
  {
   "cell_type": "markdown",
   "metadata": {},
   "source": [
    "판단스 DataFrame 컬럼의 일부를 선택하는 변환기를 만듭니다:"
   ]
  },
  {
   "cell_type": "code",
   "execution_count": null,
   "metadata": {},
   "outputs": [],
   "source": [
    "from sklearn.base import BaseEstimator, TransformerMixin\n",
    "\n",
    "# 사이킷런이 DataFrame을 바로 사용하지 못하므로\n",
    "# 수치형이나 범주형 컬럼을 선택하는 클래스를 만듭니다.\n",
    "class DataFrameSelector(BaseEstimator, TransformerMixin):\n",
    "    def __init__(self, attribute_names):\n",
    "        self.attribute_names = attribute_names\n",
    "    def fit(self, X, y=None):\n",
    "        return self\n",
    "    def transform(self, X):\n",
    "        return X[self.attribute_names].values"
   ]
  },
  {
   "cell_type": "markdown",
   "metadata": {},
   "source": [
    "하나의 큰 파이프라인에 이들을 모두 결합하여 수치형과 범주형 특성을 전처리합니다:"
   ]
  },
  {
   "cell_type": "code",
   "execution_count": null,
   "metadata": {},
   "outputs": [],
   "source": [
    "num_attribs = list(housing_num)\n",
    "cat_attribs = [\"ocean_proximity\"]\n",
    "\n",
    "num_pipeline = Pipeline([\n",
    "        ('selector', DataFrameSelector(num_attribs)),\n",
    "        ('imputer', Imputer(strategy=\"median\")),\n",
    "        ('attribs_adder', CombinedAttributesAdder()),\n",
    "        ('std_scaler', StandardScaler()),\n",
    "    ])\n",
    "\n",
    "cat_pipeline = Pipeline([\n",
    "        ('selector', DataFrameSelector(cat_attribs)),\n",
    "        ('cat_encoder', CategoricalEncoder(encoding=\"onehot-dense\")),\n",
    "    ])"
   ]
  },
  {
   "cell_type": "markdown",
   "metadata": {},
   "source": [
    "### future_encoders.py를 사용한 방법 =========================="
   ]
  },
  {
   "cell_type": "code",
   "execution_count": null,
   "metadata": {},
   "outputs": [],
   "source": [
    "\n",
    "cat_pipeline = Pipeline([\n",
    "        ('selector', DataFrameSelector(cat_attribs)),\n",
    "        ('cat_encoder', OneHotEncoder(sparse=False)),\n",
    "    ])"
   ]
  },
  {
   "cell_type": "markdown",
   "metadata": {},
   "source": [
    "### ===================================================="
   ]
  },
  {
   "cell_type": "code",
   "execution_count": null,
   "metadata": {},
   "outputs": [],
   "source": [
    "from sklearn.pipeline import FeatureUnion\n",
    "\n",
    "full_pipeline = FeatureUnion(transformer_list=[\n",
    "        (\"num_pipeline\", num_pipeline),\n",
    "        (\"cat_pipeline\", cat_pipeline),\n",
    "    ])"
   ]
  },
  {
   "cell_type": "code",
   "execution_count": null,
   "metadata": {},
   "outputs": [],
   "source": [
    "housing_prepared = full_pipeline.fit_transform(housing)\n",
    "housing_prepared"
   ]
  },
  {
   "cell_type": "code",
   "execution_count": null,
   "metadata": {},
   "outputs": [],
   "source": [
    "housing_prepared.shape"
   ]
  },
  {
   "cell_type": "markdown",
   "metadata": {},
   "source": [
    "# 모델 선택과 훈련"
   ]
  },
  {
   "cell_type": "code",
   "execution_count": null,
   "metadata": {},
   "outputs": [],
   "source": [
    "from sklearn.linear_model import LinearRegression\n",
    "\n",
    "lin_reg = LinearRegression()\n",
    "lin_reg.fit(housing_prepared, housing_labels)"
   ]
  },
  {
   "cell_type": "code",
   "execution_count": null,
   "metadata": {},
   "outputs": [],
   "source": [
    "# 훈련 샘플 몇 개를 사용해 전체 파이프라인을 적용해 보겠습니다.\n",
    "some_data = housing.iloc[:5]\n",
    "some_labels = housing_labels.iloc[:5]\n",
    "some_data_prepared = full_pipeline.transform(some_data)\n",
    "\n",
    "print(\"예측:\", lin_reg.predict(some_data_prepared))"
   ]
  },
  {
   "cell_type": "markdown",
   "metadata": {},
   "source": [
    "실제 값과 비교합니다:"
   ]
  },
  {
   "cell_type": "code",
   "execution_count": null,
   "metadata": {},
   "outputs": [],
   "source": [
    "print(\"레이블:\", list(some_labels))"
   ]
  },
  {
   "cell_type": "code",
   "execution_count": null,
   "metadata": {},
   "outputs": [],
   "source": [
    "some_data_prepared"
   ]
  },
  {
   "cell_type": "code",
   "execution_count": null,
   "metadata": {},
   "outputs": [],
   "source": [
    "from sklearn.metrics import mean_squared_error\n",
    "\n",
    "housing_predictions = lin_reg.predict(housing_prepared)\n",
    "lin_mse = mean_squared_error(housing_labels, housing_predictions)\n",
    "lin_rmse = np.sqrt(lin_mse)\n",
    "lin_rmse"
   ]
  },
  {
   "cell_type": "code",
   "execution_count": null,
   "metadata": {},
   "outputs": [],
   "source": [
    "from sklearn.metrics import mean_absolute_error\n",
    "\n",
    "lin_mae = mean_absolute_error(housing_labels, housing_predictions)\n",
    "lin_mae"
   ]
  },
  {
   "cell_type": "code",
   "execution_count": null,
   "metadata": {},
   "outputs": [],
   "source": [
    "from sklearn.tree import DecisionTreeRegressor\n",
    "\n",
    "tree_reg = DecisionTreeRegressor(random_state=42)\n",
    "tree_reg.fit(housing_prepared, housing_labels)"
   ]
  },
  {
   "cell_type": "code",
   "execution_count": null,
   "metadata": {},
   "outputs": [],
   "source": [
    "housing_predictions = tree_reg.predict(housing_prepared)\n",
    "tree_mse = mean_squared_error(housing_labels, housing_predictions)\n",
    "tree_rmse = np.sqrt(tree_mse)\n",
    "tree_rmse"
   ]
  },
  {
   "cell_type": "markdown",
   "metadata": {},
   "source": [
    "# 모델 세부 튜닝"
   ]
  },
  {
   "cell_type": "code",
   "execution_count": null,
   "metadata": {},
   "outputs": [],
   "source": [
    "from sklearn.model_selection import cross_val_score\n",
    "\n",
    "scores = cross_val_score(tree_reg, housing_prepared, housing_labels,\n",
    "                         scoring=\"neg_mean_squared_error\", cv=10)\n",
    "tree_rmse_scores = np.sqrt(-scores)"
   ]
  },
  {
   "cell_type": "code",
   "execution_count": null,
   "metadata": {},
   "outputs": [],
   "source": [
    "def display_scores(scores):\n",
    "    print(\"점수:\", scores)\n",
    "    print(\"평균:\", scores.mean())\n",
    "    print(\"표준편차:\", scores.std())\n",
    "\n",
    "display_scores(tree_rmse_scores)"
   ]
  },
  {
   "cell_type": "code",
   "execution_count": null,
   "metadata": {},
   "outputs": [],
   "source": [
    "lin_scores = cross_val_score(lin_reg, housing_prepared, housing_labels,\n",
    "                             scoring=\"neg_mean_squared_error\", cv=10)\n",
    "lin_rmse_scores = np.sqrt(-lin_scores)\n",
    "display_scores(lin_rmse_scores)"
   ]
  },
  {
   "cell_type": "code",
   "execution_count": null,
   "metadata": {},
   "outputs": [],
   "source": [
    "from sklearn.ensemble import RandomForestRegressor\n",
    "\n",
    "forest_reg = RandomForestRegressor(random_state=42)\n",
    "forest_reg.fit(housing_prepared, housing_labels)"
   ]
  },
  {
   "cell_type": "code",
   "execution_count": null,
   "metadata": {},
   "outputs": [],
   "source": [
    "housing_predictions = forest_reg.predict(housing_prepared)\n",
    "forest_mse = mean_squared_error(housing_labels, housing_predictions)\n",
    "forest_rmse = np.sqrt(forest_mse)\n",
    "forest_rmse"
   ]
  },
  {
   "cell_type": "code",
   "execution_count": null,
   "metadata": {},
   "outputs": [],
   "source": [
    "from sklearn.model_selection import cross_val_score\n",
    "\n",
    "forest_scores = cross_val_score(forest_reg, housing_prepared, housing_labels,\n",
    "                                scoring=\"neg_mean_squared_error\", cv=10)\n",
    "forest_rmse_scores = np.sqrt(-forest_scores)\n",
    "display_scores(forest_rmse_scores)"
   ]
  },
  {
   "cell_type": "code",
   "execution_count": null,
   "metadata": {},
   "outputs": [],
   "source": [
    "scores = cross_val_score(lin_reg, housing_prepared, housing_labels, scoring=\"neg_mean_squared_error\", cv=10)\n",
    "pd.Series(np.sqrt(-scores)).describe()"
   ]
  },
  {
   "cell_type": "code",
   "execution_count": null,
   "metadata": {},
   "outputs": [],
   "source": [
    "from sklearn.svm import SVR\n",
    "\n",
    "svm_reg = SVR(kernel=\"linear\")\n",
    "svm_reg.fit(housing_prepared, housing_labels)\n",
    "housing_predictions = svm_reg.predict(housing_prepared)\n",
    "svm_mse = mean_squared_error(housing_labels, housing_predictions)\n",
    "svm_rmse = np.sqrt(svm_mse)\n",
    "svm_rmse"
   ]
  },
  {
   "cell_type": "code",
   "execution_count": null,
   "metadata": {},
   "outputs": [],
   "source": [
    "from sklearn.model_selection import GridSearchCV\n",
    "\n",
    "param_grid = [\n",
    "    # 하이퍼파라미터 12(=3×4)개의 조합을 시도합니다.\n",
    "    {'n_estimators': [3, 10, 30], 'max_features': [2, 4, 6, 8]},\n",
    "    # bootstrap은 False로 하고 6(=2×3)개의 조합을 시도합니다.\n",
    "    {'bootstrap': [False], 'n_estimators': [3, 10], 'max_features': [2, 3, 4]},\n",
    "  ]\n",
    "\n",
    "forest_reg = RandomForestRegressor(random_state=42)\n",
    "# 다섯 폴드에서 훈련하면 총 (12+6)*5=90번의 훈련이 일어납니다.\n",
    "grid_search = GridSearchCV(forest_reg, param_grid, cv=5, scoring='neg_mean_squared_error', \n",
    "                           return_train_score=True, n_jobs=-1)\n",
    "grid_search.fit(housing_prepared, housing_labels)"
   ]
  },
  {
   "cell_type": "markdown",
   "metadata": {},
   "source": [
    "최상의 파라미터 조합:"
   ]
  },
  {
   "cell_type": "code",
   "execution_count": null,
   "metadata": {},
   "outputs": [],
   "source": [
    "grid_search.best_params_"
   ]
  },
  {
   "cell_type": "code",
   "execution_count": null,
   "metadata": {},
   "outputs": [],
   "source": [
    "grid_search.best_estimator_"
   ]
  },
  {
   "cell_type": "markdown",
   "metadata": {},
   "source": [
    "그리드서치에서 테스트한 하이퍼파라미터 조합의 점수를 확인합니다:"
   ]
  },
  {
   "cell_type": "code",
   "execution_count": null,
   "metadata": {
    "scrolled": true
   },
   "outputs": [],
   "source": [
    "cvres = grid_search.cv_results_\n",
    "for mean_score, params in zip(cvres[\"mean_test_score\"], cvres[\"params\"]):\n",
    "    print(np.sqrt(-mean_score), params)"
   ]
  },
  {
   "cell_type": "code",
   "execution_count": null,
   "metadata": {},
   "outputs": [],
   "source": [
    "pd.DataFrame(grid_search.cv_results_)"
   ]
  },
  {
   "cell_type": "code",
   "execution_count": null,
   "metadata": {},
   "outputs": [],
   "source": [
    "from sklearn.model_selection import RandomizedSearchCV\n",
    "from scipy.stats import randint\n",
    "\n",
    "param_distribs = {\n",
    "        'n_estimators': randint(low=1, high=200),\n",
    "        'max_features': randint(low=1, high=8),\n",
    "    }\n",
    "\n",
    "forest_reg = RandomForestRegressor(random_state=42)\n",
    "rnd_search = RandomizedSearchCV(forest_reg, param_distributions=param_distribs,\n",
    "                                n_iter=10, cv=5, scoring='neg_mean_squared_error', \n",
    "                                random_state=42, n_jobs=-1)\n",
    "rnd_search.fit(housing_prepared, housing_labels)"
   ]
  },
  {
   "cell_type": "code",
   "execution_count": null,
   "metadata": {},
   "outputs": [],
   "source": [
    "cvres = rnd_search.cv_results_\n",
    "for mean_score, params in zip(cvres[\"mean_test_score\"], cvres[\"params\"]):\n",
    "    print(np.sqrt(-mean_score), params)"
   ]
  },
  {
   "cell_type": "code",
   "execution_count": null,
   "metadata": {},
   "outputs": [],
   "source": [
    "feature_importances = grid_search.best_estimator_.feature_importances_\n",
    "feature_importances"
   ]
  },
  {
   "cell_type": "code",
   "execution_count": null,
   "metadata": {},
   "outputs": [],
   "source": [
    "extra_attribs = [\"rooms_per_hhold\", \"pop_per_hhold\", \"bedrooms_per_room\"]\n",
    "cat_encoder = cat_pipeline.named_steps[\"cat_encoder\"]\n",
    "cat_one_hot_attribs = list(cat_encoder.categories_[0])\n",
    "attributes = num_attribs + extra_attribs + cat_one_hot_attribs\n",
    "sorted(zip(feature_importances, attributes), reverse=True)"
   ]
  },
  {
   "cell_type": "code",
   "execution_count": null,
   "metadata": {},
   "outputs": [],
   "source": [
    "final_model = grid_search.best_estimator_\n",
    "\n",
    "X_test = strat_test_set.drop(\"median_house_value\", axis=1)\n",
    "y_test = strat_test_set[\"median_house_value\"].copy()\n",
    "\n",
    "X_test_prepared = full_pipeline.transform(X_test)\n",
    "final_predictions = final_model.predict(X_test_prepared)\n",
    "\n",
    "final_mse = mean_squared_error(y_test, final_predictions)\n",
    "final_rmse = np.sqrt(final_mse)"
   ]
  },
  {
   "cell_type": "code",
   "execution_count": null,
   "metadata": {},
   "outputs": [],
   "source": [
    "final_rmse"
   ]
  },
  {
   "cell_type": "markdown",
   "metadata": {},
   "source": [
    "테스트 RMSE에 대한 95% 신뢰 구간을 계산할 수 있습니다:"
   ]
  },
  {
   "cell_type": "code",
   "execution_count": null,
   "metadata": {},
   "outputs": [],
   "source": [
    "from scipy import stats"
   ]
  },
  {
   "cell_type": "code",
   "execution_count": null,
   "metadata": {},
   "outputs": [],
   "source": [
    "confidence = 0.95\n",
    "squared_errors = (final_predictions - y_test) ** 2\n",
    "mean = squared_errors.mean()\n",
    "m = len(squared_errors)\n",
    "\n",
    "np.sqrt(stats.t.interval(confidence, m - 1,\n",
    "                         loc=np.mean(squared_errors),\n",
    "                         scale=stats.sem(squared_errors)))"
   ]
  },
  {
   "cell_type": "markdown",
   "metadata": {},
   "source": [
    "다음과 같이 수동으로 계산할 수도 있습니다:"
   ]
  },
  {
   "cell_type": "code",
   "execution_count": null,
   "metadata": {},
   "outputs": [],
   "source": [
    "tscore = stats.t.ppf((1 + confidence) / 2, df=m - 1)\n",
    "tmargin = tscore * squared_errors.std(ddof=1) / np.sqrt(m)\n",
    "np.sqrt(mean - tmargin), np.sqrt(mean + tmargin)"
   ]
  },
  {
   "cell_type": "markdown",
   "metadata": {},
   "source": [
    "또는 t 점수 대신 z 점수를 사용할 수도 있습니다:"
   ]
  },
  {
   "cell_type": "code",
   "execution_count": null,
   "metadata": {},
   "outputs": [],
   "source": [
    "zscore = stats.norm.ppf((1 + confidence) / 2)\n",
    "zmargin = zscore * squared_errors.std(ddof=1) / np.sqrt(m)\n",
    "np.sqrt(mean - zmargin), np.sqrt(mean + zmargin)"
   ]
  },
  {
   "cell_type": "markdown",
   "metadata": {},
   "source": [
    "# 추가 내용"
   ]
  },
  {
   "cell_type": "markdown",
   "metadata": {},
   "source": [
    "## 전처리와 예측을 포함한 파이프라인"
   ]
  },
  {
   "cell_type": "code",
   "execution_count": null,
   "metadata": {},
   "outputs": [],
   "source": [
    "full_pipeline_with_predictor = Pipeline([\n",
    "        (\"preparation\", full_pipeline),\n",
    "        (\"linear\", LinearRegression())\n",
    "    ])\n",
    "\n",
    "full_pipeline_with_predictor.fit(housing, housing_labels)\n",
    "full_pipeline_with_predictor.predict(some_data)"
   ]
  },
  {
   "cell_type": "markdown",
   "metadata": {},
   "source": [
    "## joblib을 사용한 모델 저장"
   ]
  },
  {
   "cell_type": "code",
   "execution_count": null,
   "metadata": {},
   "outputs": [],
   "source": [
    "my_model = full_pipeline_with_predictor"
   ]
  },
  {
   "cell_type": "code",
   "execution_count": null,
   "metadata": {},
   "outputs": [],
   "source": [
    "from sklearn.externals import joblib\n",
    "joblib.dump(my_model, \"my_model.pkl\") # DIFF\n",
    "#...\n",
    "my_model_loaded = joblib.load(\"my_model.pkl\") # DIFF"
   ]
  },
  {
   "cell_type": "markdown",
   "metadata": {},
   "source": [
    "## `RandomizedSearchCV`을 위한 Scipy 분포 함수"
   ]
  },
  {
   "cell_type": "code",
   "execution_count": null,
   "metadata": {},
   "outputs": [],
   "source": [
    "from scipy.stats import geom, expon\n",
    "geom_distrib=geom(0.5).rvs(10000, random_state=42)\n",
    "expon_distrib=expon(scale=1).rvs(10000, random_state=42)\n",
    "plt.hist(geom_distrib, bins=50)\n",
    "plt.show()\n",
    "plt.hist(expon_distrib, bins=50)\n",
    "plt.show()"
   ]
  },
  {
   "cell_type": "markdown",
   "metadata": {},
   "source": [
    "# 연습문제 해답"
   ]
  },
  {
   "cell_type": "markdown",
   "metadata": {},
   "source": [
    "## 1."
   ]
  },
  {
   "cell_type": "markdown",
   "metadata": {
    "collapsed": true
   },
   "source": [
    "질문: 서포트 벡터 머신 회귀(sklearn.svm.SVR)를 kernel=“linear”(하이퍼파라미터 C를 바꿔가며)나 kernel=“rbf”(하이퍼파라미터 C와 gamma를 바꿔가며) 등의 다양한 하이퍼파라미터 설정으로 시도해보세요. 지금은 이 하이퍼파라미터가 무엇을 의미하는지 너무 신경 쓰지 마세요. 최상의 SVR 모델은 무엇인가요?"
   ]
  },
  {
   "cell_type": "code",
   "execution_count": null,
   "metadata": {},
   "outputs": [],
   "source": [
    "from sklearn.model_selection import GridSearchCV\n",
    "\n",
    "param_grid = [\n",
    "        {'kernel': ['linear'], 'C': [10., 30., 100., 300., 1000., 3000., 10000., 30000.0]},\n",
    "        {'kernel': ['rbf'], 'C': [1.0, 3.0, 10., 30., 100., 300., 1000.0],\n",
    "         'gamma': [0.01, 0.03, 0.1, 0.3, 1.0, 3.0]},\n",
    "    ]\n",
    "\n",
    "svm_reg = SVR()\n",
    "grid_search = GridSearchCV(svm_reg, param_grid, cv=5, scoring='neg_mean_squared_error', \n",
    "                           verbose=2, n_jobs=-1)\n",
    "grid_search.fit(housing_prepared, housing_labels)"
   ]
  },
  {
   "cell_type": "markdown",
   "metadata": {},
   "source": [
    "최상 모델의 (5-폴드 교차 검증으로 평가한) 점수는 다음과 같습니다:"
   ]
  },
  {
   "cell_type": "code",
   "execution_count": null,
   "metadata": {},
   "outputs": [],
   "source": [
    "negative_mse = grid_search.best_score_\n",
    "rmse = np.sqrt(-negative_mse)\n",
    "rmse"
   ]
  },
  {
   "cell_type": "markdown",
   "metadata": {},
   "source": [
    "이는 `RandomForestRegressor`보다 훨씬 좋지 않네요. 최상의 하이퍼파라미터를 확인해 보겠습니다:"
   ]
  },
  {
   "cell_type": "code",
   "execution_count": null,
   "metadata": {},
   "outputs": [],
   "source": [
    "grid_search.best_params_"
   ]
  },
  {
   "cell_type": "markdown",
   "metadata": {},
   "source": [
    "선형 커널이 RBF 커널보다 성능이 나은 것 같습니다. `C`는 테스트한 것 중에 최대값이 선택되었습니다. 따라서 (작은 값들은 지우고) 더 큰 값의 `C`로 그리드서치를 다시 실행해 보아야 합니다. 아마도 더 큰 값의 `C`에서 성능이 높아질 것입니다."
   ]
  },
  {
   "cell_type": "markdown",
   "metadata": {},
   "source": [
    "## 2."
   ]
  },
  {
   "cell_type": "markdown",
   "metadata": {},
   "source": [
    "질문: GridSearchCV를 RandomizedSearchCV로 바꿔보세요."
   ]
  },
  {
   "cell_type": "code",
   "execution_count": null,
   "metadata": {},
   "outputs": [],
   "source": [
    "from sklearn.model_selection import RandomizedSearchCV\n",
    "from scipy.stats import expon, reciprocal\n",
    "\n",
    "# expon(), reciprocal()와 다른 확률 분포 함수에 대해서는\n",
    "# https://docs.scipy.org/doc/scipy/reference/stats.html를 참고하세요.\n",
    "\n",
    "# 노트: kernel 매개변수가 \"linear\"일 때는 gamma가 무시됩니다.\n",
    "param_distribs = {\n",
    "        'kernel': ['linear', 'rbf'],\n",
    "        'C': reciprocal(20, 200000),\n",
    "        'gamma': expon(scale=1.0),\n",
    "    }\n",
    "\n",
    "svm_reg = SVR()\n",
    "rnd_search = RandomizedSearchCV(svm_reg, param_distributions=param_distribs,\n",
    "                                n_iter=50, cv=5, scoring='neg_mean_squared_error',\n",
    "                                verbose=2, n_jobs=-1, random_state=42)\n",
    "rnd_search.fit(housing_prepared, housing_labels)"
   ]
  },
  {
   "cell_type": "markdown",
   "metadata": {},
   "source": [
    "최상 모델의 (5-폴드 교차 검증으로 평가한) 점수는 다음과 같습니다:"
   ]
  },
  {
   "cell_type": "code",
   "execution_count": null,
   "metadata": {},
   "outputs": [],
   "source": [
    "negative_mse = rnd_search.best_score_\n",
    "rmse = np.sqrt(-negative_mse)\n",
    "rmse"
   ]
  },
  {
   "cell_type": "markdown",
   "metadata": {},
   "source": [
    "이제 `RandomForestRegressor`의 성능에 훨씬 가까워졌습니다(하지만 아직 차이가 납니다). 최상의 하이퍼파라미터를 확인해 보겠습니다:"
   ]
  },
  {
   "cell_type": "code",
   "execution_count": null,
   "metadata": {},
   "outputs": [],
   "source": [
    "rnd_search.best_params_"
   ]
  },
  {
   "cell_type": "markdown",
   "metadata": {},
   "source": [
    "이번에는 RBF 커널에 대해 최적의 하이퍼파라미터 조합을 찾았습니다. 보통 랜덤서치가 같은 시간안에 그리드서치보다 더 좋은 하이퍼파라미터를 찾습니다."
   ]
  },
  {
   "cell_type": "markdown",
   "metadata": {},
   "source": [
    "여기서 사용된 `scale=1.0`인 지수 분포를 살펴보겠습니다. 일부 샘플은 1.0보다 아주 크거나 작습니다. 하지만 로그 분포를 보면 대부분의 값이 exp(-2)와 exp(+2), 즉 0.1과 7.4 사이에 집중되어 있음을 알 수 있습니다."
   ]
  },
  {
   "cell_type": "code",
   "execution_count": null,
   "metadata": {},
   "outputs": [],
   "source": [
    "expon_distrib = expon(scale=1.)\n",
    "samples = expon_distrib.rvs(10000, random_state=42)\n",
    "plt.figure(figsize=(10, 4))\n",
    "plt.subplot(121)\n",
    "plt.title(\"Exponential distribution (scale=1.0)\")\n",
    "plt.hist(samples, bins=50)\n",
    "plt.subplot(122)\n",
    "plt.title(\"Log of this distribution\")\n",
    "plt.hist(np.log(samples), bins=50)\n",
    "plt.show()"
   ]
  },
  {
   "cell_type": "markdown",
   "metadata": {},
   "source": [
    "`C`에 사용된 분포는 매우 다릅니다. 주어진 범위안에서 균등 분포로 샘플링됩니다. 그래서 오른쪽 로그 분포가 거의 일정하게 나타납니다. 이런 분포는 원하는 스케일이 정확이 무엇인지 모를 때 사용하면 좋습니다:"
   ]
  },
  {
   "cell_type": "code",
   "execution_count": null,
   "metadata": {},
   "outputs": [],
   "source": [
    "reciprocal_distrib = reciprocal(20, 200000)\n",
    "samples = reciprocal_distrib.rvs(10000, random_state=42)\n",
    "plt.figure(figsize=(10, 4))\n",
    "plt.subplot(121)\n",
    "plt.title(\"Reciprocal distribution (scale=1.0)\")\n",
    "plt.hist(samples, bins=50)\n",
    "plt.subplot(122)\n",
    "plt.title(\"Log of this distribution\")\n",
    "plt.hist(np.log(samples), bins=50)\n",
    "plt.show()"
   ]
  },
  {
   "cell_type": "markdown",
   "metadata": {},
   "source": [
    "reciprocal() 함수는 하이퍼파라미터의 스케일에 대해 전혀 감을 잡을 수 없을 때 사용합니다(오른쪽 그래프에서 볼 수 있듯이 주어진 범위안에서 모든 값이 균등합니다). 반면 지수 분포는 하이퍼파라미터의 스케일을 (어느정도) 알고 있을 때 사용하는 것이 좋습니다."
   ]
  },
  {
   "cell_type": "markdown",
   "metadata": {},
   "source": [
    "## 3."
   ]
  },
  {
   "cell_type": "markdown",
   "metadata": {},
   "source": [
    "질문: 가장 중요한 특성을 선택하는 변환기를 준비 파이프라인에 추가해보세요."
   ]
  },
  {
   "cell_type": "code",
   "execution_count": null,
   "metadata": {},
   "outputs": [],
   "source": [
    "from sklearn.base import BaseEstimator, TransformerMixin\n",
    "\n",
    "def indices_of_top_k(arr, k):\n",
    "    return np.sort(np.argpartition(np.array(arr), -k)[-k:])\n",
    "\n",
    "class TopFeatureSelector(BaseEstimator, TransformerMixin):\n",
    "    def __init__(self, feature_importances, k):\n",
    "        self.feature_importances = feature_importances\n",
    "        self.k = k\n",
    "    def fit(self, X, y=None):\n",
    "        self.feature_indices_ = indices_of_top_k(self.feature_importances, self.k)\n",
    "        return self\n",
    "    def transform(self, X):\n",
    "        return X[:, self.feature_indices_]"
   ]
  },
  {
   "cell_type": "markdown",
   "metadata": {},
   "source": [
    "노트: 이 특성 선택 클래스는 이미 어떤 식으로든 특성 중요도를 계산했다고 가정합니다(가령 `RandomForestRegressor`을 사용하여). `TopFeatureSelector`의 `fit()` 메서드에서 직접 계산할 수도 있지만 (캐싱을 사용하지 않을 경우) 이렇게 하면 그리드서치나 랜덤서치의 모든 하이퍼파라미터 조합에 대해 계산이 일어나기 때문에 매우 느려집니다."
   ]
  },
  {
   "cell_type": "markdown",
   "metadata": {},
   "source": [
    "선택할 특성의 개수를 지정합니다:"
   ]
  },
  {
   "cell_type": "code",
   "execution_count": null,
   "metadata": {},
   "outputs": [],
   "source": [
    "k = 5"
   ]
  },
  {
   "cell_type": "markdown",
   "metadata": {},
   "source": [
    "최상의 k개 특성의 인덱스를 확인해 보겠습니다:"
   ]
  },
  {
   "cell_type": "code",
   "execution_count": null,
   "metadata": {},
   "outputs": [],
   "source": [
    "top_k_feature_indices = indices_of_top_k(feature_importances, k)\n",
    "top_k_feature_indices"
   ]
  },
  {
   "cell_type": "code",
   "execution_count": null,
   "metadata": {},
   "outputs": [],
   "source": [
    "np.array(attributes)[top_k_feature_indices]"
   ]
  },
  {
   "cell_type": "markdown",
   "metadata": {},
   "source": [
    "최상의 k개 특성이 맞는지 다시 확인합니다:"
   ]
  },
  {
   "cell_type": "code",
   "execution_count": null,
   "metadata": {},
   "outputs": [],
   "source": [
    "sorted(zip(feature_importances, attributes), reverse=True)[:k]"
   ]
  },
  {
   "cell_type": "markdown",
   "metadata": {},
   "source": [
    "좋습니다. 이제 이전에 정의한 준비 파이프라인과 특성 선택기를 추가한 새로운 파이프라인을 만듭니다:"
   ]
  },
  {
   "cell_type": "code",
   "execution_count": null,
   "metadata": {},
   "outputs": [],
   "source": [
    "preparation_and_feature_selection_pipeline = Pipeline([\n",
    "    ('preparation', full_pipeline),\n",
    "    ('feature_selection', TopFeatureSelector(feature_importances, k))\n",
    "])"
   ]
  },
  {
   "cell_type": "code",
   "execution_count": null,
   "metadata": {},
   "outputs": [],
   "source": [
    "housing_prepared_top_k_features = preparation_and_feature_selection_pipeline.fit_transform(housing)"
   ]
  },
  {
   "cell_type": "markdown",
   "metadata": {},
   "source": [
    "처음 3개 샘플의 특성을 확인해 보겠습니다:"
   ]
  },
  {
   "cell_type": "code",
   "execution_count": null,
   "metadata": {},
   "outputs": [],
   "source": [
    "housing_prepared_top_k_features[0:3]"
   ]
  },
  {
   "cell_type": "markdown",
   "metadata": {},
   "source": [
    "최상의 k개 특성이 맞는지 다시 확인합니다:"
   ]
  },
  {
   "cell_type": "code",
   "execution_count": null,
   "metadata": {},
   "outputs": [],
   "source": [
    "housing_prepared[0:3, top_k_feature_indices]"
   ]
  },
  {
   "cell_type": "markdown",
   "metadata": {},
   "source": [
    "성공입니다!  :)"
   ]
  },
  {
   "cell_type": "markdown",
   "metadata": {},
   "source": [
    "## 4."
   ]
  },
  {
   "cell_type": "markdown",
   "metadata": {},
   "source": [
    "질문: 전체 데이터 준비 과정과 최종 예측을 하나의 파이프라인으로 만들어보세요."
   ]
  },
  {
   "cell_type": "code",
   "execution_count": null,
   "metadata": {},
   "outputs": [],
   "source": [
    "prepare_select_and_predict_pipeline = Pipeline([\n",
    "    ('preparation', full_pipeline),\n",
    "    ('feature_selection', TopFeatureSelector(feature_importances, k)),\n",
    "    ('svm_reg', SVR(**rnd_search.best_params_))\n",
    "])"
   ]
  },
  {
   "cell_type": "code",
   "execution_count": null,
   "metadata": {},
   "outputs": [],
   "source": [
    "prepare_select_and_predict_pipeline.fit(housing, housing_labels)"
   ]
  },
  {
   "cell_type": "markdown",
   "metadata": {},
   "source": [
    "몇 개의 샘플에 전체 파이프라인을 적용해 보겠습니다:"
   ]
  },
  {
   "cell_type": "code",
   "execution_count": null,
   "metadata": {},
   "outputs": [],
   "source": [
    "some_data = housing.iloc[:4]\n",
    "some_labels = housing_labels.iloc[:4]\n",
    "\n",
    "print(\"예측:\\t\", prepare_select_and_predict_pipeline.predict(some_data))\n",
    "print(\"레이블:\\t\\t\", list(some_labels))"
   ]
  },
  {
   "cell_type": "markdown",
   "metadata": {},
   "source": [
    "전체 파이프라인이 잘 작동하는 것 같습니다. 물론 예측 성능이 아주 좋지는 않습니다. `SVR`보다 `RandomForestRegressor`가 더 나은 것 같습니다."
   ]
  },
  {
   "cell_type": "markdown",
   "metadata": {},
   "source": [
    "## 5."
   ]
  },
  {
   "cell_type": "markdown",
   "metadata": {},
   "source": [
    "질문: `GridSearchCV`를 사용해 준비 단계의 옵션을 자동으로 탐색해보세요."
   ]
  },
  {
   "cell_type": "code",
   "execution_count": null,
   "metadata": {},
   "outputs": [],
   "source": [
    "param_grid = [\n",
    "        {'preparation__num_pipeline__imputer__strategy': ['mean', 'median', 'most_frequent'],\n",
    "         'feature_selection__k': list(range(1, len(feature_importances) + 1))}\n",
    "]\n",
    "\n",
    "grid_search_prep = GridSearchCV(prepare_select_and_predict_pipeline, param_grid, cv=5,\n",
    "                                scoring='neg_mean_squared_error', verbose=2, n_jobs=-1)\n",
    "grid_search_prep.fit(housing, housing_labels)"
   ]
  },
  {
   "cell_type": "code",
   "execution_count": null,
   "metadata": {},
   "outputs": [],
   "source": [
    "grid_search_prep.best_params_"
   ]
  },
  {
   "cell_type": "markdown",
   "metadata": {},
   "source": [
    "최상의 Imputer 정책은 `most_frequent`이고 거의 모든 특성이 유용합니다(16개 중 15개). 마지막 특성(`ISLAND`)은 잡음이 추가될 뿐입니다."
   ]
  },
  {
   "cell_type": "markdown",
   "metadata": {},
   "source": [
    "축하합니다! 이제 머신러닝에 대해 꽤 많은 것을 알게 되었습니다. :)"
   ]
  }
 ],
 "metadata": {
  "kernelspec": {
   "display_name": "tf37_cpu",
   "language": "python",
   "name": "tf37_cpu"
  },
  "language_info": {
   "codemirror_mode": {
    "name": "ipython",
    "version": 3
   },
   "file_extension": ".py",
   "mimetype": "text/x-python",
   "name": "python",
   "nbconvert_exporter": "python",
   "pygments_lexer": "ipython3",
   "version": "3.7.13"
  },
  "nav_menu": {
   "height": "279px",
   "width": "309px"
  },
  "toc": {
   "nav_menu": {},
   "number_sections": true,
   "sideBar": true,
   "skip_h1_title": false,
   "toc_cell": false,
   "toc_position": {},
   "toc_section_display": "block",
   "toc_window_display": false
  }
 },
 "nbformat": 4,
 "nbformat_minor": 1
}
