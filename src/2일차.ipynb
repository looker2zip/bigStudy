{
  "nbformat": 4,
  "nbformat_minor": 0,
  "metadata": {
    "celltoolbar": "Edit Metadata",
    "kernelspec": {
      "display_name": "Python 3",
      "language": "python",
      "name": "python3"
    },
    "language_info": {
      "codemirror_mode": {
        "name": "ipython",
        "version": 3
      },
      "file_extension": ".py",
      "mimetype": "text/x-python",
      "name": "python",
      "nbconvert_exporter": "python",
      "pygments_lexer": "ipython3",
      "version": "3.8.3"
    },
    "colab": {
      "name": "2일차.ipynb",
      "provenance": [],
      "collapsed_sections": [
        "QqdsWMiSAqyy"
      ]
    }
  },
  "cells": [
    {
      "cell_type": "code",
      "source": [
        "!rm -rf bigStudy"
      ],
      "metadata": {
        "colab": {
          "base_uri": "https://localhost:8080/"
        },
        "id": "T7r1nlH0NsLV",
        "outputId": "ba5081c8-ef73-4323-ebe9-2fb08628520c"
      },
      "execution_count": 161,
      "outputs": [
        {
          "output_type": "stream",
          "name": "stdout",
          "text": [
            "/bin/bash: rm -rf bigStudy: command not found\n"
          ]
        }
      ]
    },
    {
      "cell_type": "code",
      "source": [
        "!git clone 'https://github.com/looker2zip/bigStudy.git'"
      ],
      "metadata": {
        "colab": {
          "base_uri": "https://localhost:8080/"
        },
        "id": "utMDTphBN2de",
        "outputId": "df476e50-8c96-43bc-a70d-72121652d2aa"
      },
      "execution_count": 163,
      "outputs": [
        {
          "output_type": "stream",
          "name": "stdout",
          "text": [
            "Cloning into 'bigStudy'...\n",
            "remote: Enumerating objects: 37, done.\u001b[K\n",
            "remote: Counting objects: 100% (37/37), done.\u001b[K\n",
            "remote: Compressing objects: 100% (33/33), done.\u001b[K\n",
            "remote: Total 37 (delta 3), reused 0 (delta 0), pack-reused 0\u001b[K\n",
            "Unpacking objects: 100% (37/37), done.\n"
          ]
        }
      ]
    },
    {
      "cell_type": "markdown",
      "metadata": {
        "id": "T16YZofK3Qgk"
      },
      "source": [
        "# 프리미티브 타입"
      ]
    },
    {
      "cell_type": "markdown",
      "metadata": {
        "id": "JloXCUu-3cqK"
      },
      "source": [
        "##리스트"
      ]
    },
    {
      "cell_type": "code",
      "metadata": {
        "colab": {
          "base_uri": "https://localhost:8080/"
        },
        "id": "UNsTP9wp3qcg",
        "outputId": "394bc9fc-a4a8-47c9-e1a7-25726d77cad7"
      },
      "source": [
        "L=[88, 90, 100]\n",
        "L"
      ],
      "execution_count": 1,
      "outputs": [
        {
          "output_type": "execute_result",
          "data": {
            "text/plain": [
              "[88, 90, 100]"
            ]
          },
          "metadata": {},
          "execution_count": 1
        }
      ]
    },
    {
      "cell_type": "code",
      "metadata": {
        "colab": {
          "base_uri": "https://localhost:8080/"
        },
        "id": "e9s006KR3sPq",
        "outputId": "4f314ca6-0c80-424e-b32e-d78f70343ccd"
      },
      "source": [
        "#88과 100의 평균 구하기\n",
        "\n",
        "(L[0]+L[2])/2"
      ],
      "execution_count": 2,
      "outputs": [
        {
          "output_type": "execute_result",
          "data": {
            "text/plain": [
              "94.0"
            ]
          },
          "metadata": {},
          "execution_count": 2
        }
      ]
    },
    {
      "cell_type": "markdown",
      "metadata": {
        "id": "RgC4vYGh3dPg"
      },
      "source": [
        "##딕셔너리"
      ]
    },
    {
      "cell_type": "code",
      "metadata": {
        "colab": {
          "base_uri": "https://localhost:8080/"
        },
        "id": "9PwKnZbP3wa8",
        "outputId": "c030f019-f41a-4535-c08c-fc62f05bde63"
      },
      "source": [
        "D={\n",
        "    \"math\": 88,\n",
        "    \"english\": 90,\n",
        "    \"history\" : 100\n",
        "}\n",
        "\n",
        "D"
      ],
      "execution_count": 3,
      "outputs": [
        {
          "output_type": "execute_result",
          "data": {
            "text/plain": [
              "{'english': 90, 'history': 100, 'math': 88}"
            ]
          },
          "metadata": {},
          "execution_count": 3
        }
      ]
    },
    {
      "cell_type": "code",
      "metadata": {
        "colab": {
          "base_uri": "https://localhost:8080/"
        },
        "id": "J9iVxpeU3wdg",
        "outputId": "c3812ae5-38a7-4a7d-95b5-f0d38891646f"
      },
      "source": [
        "#수학점수와 영어점수 평균 구하기\n",
        "\n",
        "(D[\"english\"]+D[\"math\"])/2"
      ],
      "execution_count": 4,
      "outputs": [
        {
          "output_type": "execute_result",
          "data": {
            "text/plain": [
              "89.0"
            ]
          },
          "metadata": {},
          "execution_count": 4
        }
      ]
    },
    {
      "cell_type": "markdown",
      "metadata": {
        "id": "VbAg2lXi3daF"
      },
      "source": [
        "##튜플"
      ]
    },
    {
      "cell_type": "code",
      "metadata": {
        "colab": {
          "base_uri": "https://localhost:8080/"
        },
        "id": "k6myAWaJ30Zz",
        "outputId": "a19b9ec8-de8e-4e48-aecf-56e6a4f038bb"
      },
      "source": [
        "T=(88, 90, 100)\n",
        "T"
      ],
      "execution_count": 5,
      "outputs": [
        {
          "output_type": "execute_result",
          "data": {
            "text/plain": [
              "(88, 90, 100)"
            ]
          },
          "metadata": {},
          "execution_count": 5
        }
      ]
    },
    {
      "cell_type": "code",
      "metadata": {
        "colab": {
          "base_uri": "https://localhost:8080/"
        },
        "id": "Rrd8SoNu30i6",
        "outputId": "b75a614f-321d-49d0-cd8e-be3684fb6bf0"
      },
      "source": [
        "#88과 100의 평균 구하기\n",
        "\n",
        "(T[0]+T[2])/2"
      ],
      "execution_count": 6,
      "outputs": [
        {
          "output_type": "execute_result",
          "data": {
            "text/plain": [
              "94.0"
            ]
          },
          "metadata": {},
          "execution_count": 6
        }
      ]
    },
    {
      "cell_type": "markdown",
      "metadata": {
        "id": "M8-BGjki3d9S"
      },
      "source": [
        "##셋"
      ]
    },
    {
      "cell_type": "code",
      "metadata": {
        "colab": {
          "base_uri": "https://localhost:8080/"
        },
        "id": "Pr-IDohp3a-Q",
        "outputId": "9dec36a0-8703-444f-c087-3759c72a36e1"
      },
      "source": [
        "S={88, 90, 100}\n",
        "S"
      ],
      "execution_count": 7,
      "outputs": [
        {
          "output_type": "execute_result",
          "data": {
            "text/plain": [
              "{88, 90, 100}"
            ]
          },
          "metadata": {},
          "execution_count": 7
        }
      ]
    },
    {
      "cell_type": "markdown",
      "metadata": {
        "school_cell_uuid": "4e7a40fb49b24c27ba1c62ef2f52ecc4",
        "id": "fj3ZwB8jr8Fq"
      },
      "source": [
        "# 배열의 생성과 변형"
      ]
    },
    {
      "cell_type": "markdown",
      "metadata": {
        "id": "_M0W97j3xldk"
      },
      "source": [
        "## 배열 생성 기초"
      ]
    },
    {
      "cell_type": "code",
      "metadata": {
        "id": "RMOTnQTpxtNB"
      },
      "source": [
        "import numpy as np"
      ],
      "execution_count": 8,
      "outputs": []
    },
    {
      "cell_type": "code",
      "metadata": {
        "id": "IbIYSkHCxzbv"
      },
      "source": [
        "# 1차원 배열\n",
        "A1=np.array(\n",
        "    [0,1,2,3,4,5,6,7,8,9,10]\n",
        ")"
      ],
      "execution_count": 9,
      "outputs": []
    },
    {
      "cell_type": "code",
      "metadata": {
        "colab": {
          "base_uri": "https://localhost:8080/"
        },
        "id": "bLTrFghhx0lB",
        "outputId": "da6525dd-0059-4533-91c7-ffd4e3a0cb2e"
      },
      "source": [
        "# 첫번째 값과 가장 마지막 값에 대한 평균을 구하시오.\n",
        "\n",
        "(A1[0]+A1[-1])/2"
      ],
      "execution_count": 10,
      "outputs": [
        {
          "output_type": "execute_result",
          "data": {
            "text/plain": [
              "5.0"
            ]
          },
          "metadata": {},
          "execution_count": 10
        }
      ]
    },
    {
      "cell_type": "code",
      "metadata": {
        "colab": {
          "base_uri": "https://localhost:8080/"
        },
        "id": "qRw1E7LRx9IZ",
        "outputId": "3d67bb1a-8f52-43e7-a8a7-3cba2db78f8b"
      },
      "source": [
        "# 2차원 배열\n",
        "A2=np.array(\n",
        "   [\n",
        "    [0,1,2],\n",
        "    [3,4,5]\n",
        "   ]\n",
        ")\n",
        "\n",
        "A2"
      ],
      "execution_count": 11,
      "outputs": [
        {
          "output_type": "execute_result",
          "data": {
            "text/plain": [
              "array([[0, 1, 2],\n",
              "       [3, 4, 5]])"
            ]
          },
          "metadata": {},
          "execution_count": 11
        }
      ]
    },
    {
      "cell_type": "code",
      "metadata": {
        "colab": {
          "base_uri": "https://localhost:8080/"
        },
        "id": "rSPne7ykyBnU",
        "outputId": "b57dbb23-fd7a-4841-ac82-36b3dd599f06"
      },
      "source": [
        "# 첫번째 값과 가장 마지막 값에 대한 평균을 구하시오.\n",
        "\n",
        "(A2[0,0]+A2[-1,-1])/2"
      ],
      "execution_count": 12,
      "outputs": [
        {
          "output_type": "execute_result",
          "data": {
            "text/plain": [
              "2.5"
            ]
          },
          "metadata": {},
          "execution_count": 12
        }
      ]
    },
    {
      "cell_type": "code",
      "metadata": {
        "colab": {
          "base_uri": "https://localhost:8080/"
        },
        "id": "vVLjzOOjyCmV",
        "outputId": "b9268d34-b33f-41be-bdd1-205c8f945436"
      },
      "source": [
        "# 3차원 배열\n",
        "A3=np.array(\n",
        "    [\n",
        "     [\n",
        "      [0,1,2,3],\n",
        "      [4,5,6,7],\n",
        "      [8,9,10,11]\n",
        "     ],\n",
        "     [\n",
        "      [12,13,14,15],\n",
        "      [16,17,18,19],\n",
        "      [20,21,22,23]\n",
        "     ]\n",
        "    ]\n",
        ")\n",
        "\n",
        "A3"
      ],
      "execution_count": 13,
      "outputs": [
        {
          "output_type": "execute_result",
          "data": {
            "text/plain": [
              "array([[[ 0,  1,  2,  3],\n",
              "        [ 4,  5,  6,  7],\n",
              "        [ 8,  9, 10, 11]],\n",
              "\n",
              "       [[12, 13, 14, 15],\n",
              "        [16, 17, 18, 19],\n",
              "        [20, 21, 22, 23]]])"
            ]
          },
          "metadata": {},
          "execution_count": 13
        }
      ]
    },
    {
      "cell_type": "code",
      "metadata": {
        "colab": {
          "base_uri": "https://localhost:8080/"
        },
        "id": "bUj_qYPvyGmi",
        "outputId": "15f83fd9-9c07-4df6-c231-2062a29a5cde"
      },
      "source": [
        "# 첫번째 값과 가장 마지막 값에 대한 평균을 구하시오.\n",
        "\n",
        "(A3[0,0,0]+A3[-1,-1,-1])/2"
      ],
      "execution_count": 14,
      "outputs": [
        {
          "output_type": "execute_result",
          "data": {
            "text/plain": [
              "11.5"
            ]
          },
          "metadata": {},
          "execution_count": 14
        }
      ]
    },
    {
      "cell_type": "code",
      "metadata": {
        "colab": {
          "base_uri": "https://localhost:8080/"
        },
        "id": "oPzJTRFIyJoQ",
        "outputId": "b3b5c149-0b48-4f56-8721-a2e3dfc4eb59"
      },
      "source": [
        "# 배열의 깊이, 행, 열 개수\n",
        "\n",
        "# 1차원\n",
        "len(A1)\n",
        "# 2차원\n",
        "#len(A2), len(A2[0])\n",
        "# 3차원\n",
        "#len(A3), len(A3[0]), len(A3[0][0])"
      ],
      "execution_count": 15,
      "outputs": [
        {
          "output_type": "execute_result",
          "data": {
            "text/plain": [
              "11"
            ]
          },
          "metadata": {},
          "execution_count": 15
        }
      ]
    },
    {
      "cell_type": "code",
      "metadata": {
        "colab": {
          "base_uri": "https://localhost:8080/"
        },
        "id": "_9TkrtNqyNhD",
        "outputId": "d66a7ed1-4e29-4611-c238-d5c48073db57"
      },
      "source": [
        "# 차원과 크기 확인\n",
        "# 1차원\n",
        "#A1.ndim, A1.shape\n",
        "\n",
        "# 2차원\n",
        "#A2.ndim, A2.shape\n",
        "\n",
        "# 3차원\n",
        "A3.ndim, A3.shape"
      ],
      "execution_count": 16,
      "outputs": [
        {
          "output_type": "execute_result",
          "data": {
            "text/plain": [
              "(3, (2, 3, 4))"
            ]
          },
          "metadata": {},
          "execution_count": 16
        }
      ]
    },
    {
      "cell_type": "code",
      "metadata": {
        "colab": {
          "base_uri": "https://localhost:8080/"
        },
        "id": "s9dmZP9Y9xWD",
        "outputId": "9077c378-cf8f-4a29-e33c-9dd92bd9f428"
      },
      "source": [
        "A=np.array([[1,2,3],[4,5,6]])\n",
        "B=np.array([[-3,-2,-1],[-6,-5,-4]])\n",
        "print(A)\n",
        "print(B)"
      ],
      "execution_count": 17,
      "outputs": [
        {
          "output_type": "stream",
          "name": "stdout",
          "text": [
            "[[1 2 3]\n",
            " [4 5 6]]\n",
            "[[-3 -2 -1]\n",
            " [-6 -5 -4]]\n"
          ]
        }
      ]
    },
    {
      "cell_type": "code",
      "metadata": {
        "colab": {
          "base_uri": "https://localhost:8080/",
          "height": 338
        },
        "id": "dZ5A_ajt-VEy",
        "outputId": "d69283b6-5d80-4191-8e8e-86128d3d6966"
      },
      "source": [
        "print(A+B)\n",
        "print(A-B)\n",
        "print(A*B)\n",
        "print(np.dot(A,B))"
      ],
      "execution_count": 18,
      "outputs": [
        {
          "output_type": "stream",
          "name": "stdout",
          "text": [
            "[[-2  0  2]\n",
            " [-2  0  2]]\n",
            "[[ 4  4  4]\n",
            " [10 10 10]]\n",
            "[[ -3  -4  -3]\n",
            " [-24 -25 -24]]\n"
          ]
        },
        {
          "output_type": "error",
          "ename": "ValueError",
          "evalue": "ignored",
          "traceback": [
            "\u001b[0;31m---------------------------------------------------------------------------\u001b[0m",
            "\u001b[0;31mValueError\u001b[0m                                Traceback (most recent call last)",
            "\u001b[0;32m<ipython-input-18-50e8d0f8be19>\u001b[0m in \u001b[0;36m<module>\u001b[0;34m()\u001b[0m\n\u001b[1;32m      2\u001b[0m \u001b[0mprint\u001b[0m\u001b[0;34m(\u001b[0m\u001b[0mA\u001b[0m\u001b[0;34m-\u001b[0m\u001b[0mB\u001b[0m\u001b[0;34m)\u001b[0m\u001b[0;34m\u001b[0m\u001b[0;34m\u001b[0m\u001b[0m\n\u001b[1;32m      3\u001b[0m \u001b[0mprint\u001b[0m\u001b[0;34m(\u001b[0m\u001b[0mA\u001b[0m\u001b[0;34m*\u001b[0m\u001b[0mB\u001b[0m\u001b[0;34m)\u001b[0m\u001b[0;34m\u001b[0m\u001b[0;34m\u001b[0m\u001b[0m\n\u001b[0;32m----> 4\u001b[0;31m \u001b[0mprint\u001b[0m\u001b[0;34m(\u001b[0m\u001b[0mnp\u001b[0m\u001b[0;34m.\u001b[0m\u001b[0mdot\u001b[0m\u001b[0;34m(\u001b[0m\u001b[0mA\u001b[0m\u001b[0;34m,\u001b[0m\u001b[0mB\u001b[0m\u001b[0;34m)\u001b[0m\u001b[0;34m)\u001b[0m\u001b[0;34m\u001b[0m\u001b[0;34m\u001b[0m\u001b[0m\n\u001b[0m",
            "\u001b[0;32m<__array_function__ internals>\u001b[0m in \u001b[0;36mdot\u001b[0;34m(*args, **kwargs)\u001b[0m\n",
            "\u001b[0;31mValueError\u001b[0m: shapes (2,3) and (2,3) not aligned: 3 (dim 1) != 2 (dim 0)"
          ]
        }
      ]
    },
    {
      "cell_type": "code",
      "metadata": {
        "colab": {
          "base_uri": "https://localhost:8080/"
        },
        "id": "ki_N3upU-jtS",
        "outputId": "c020eed6-819c-4010-db6a-c155083f4dc4"
      },
      "source": [
        "A"
      ],
      "execution_count": 19,
      "outputs": [
        {
          "output_type": "execute_result",
          "data": {
            "text/plain": [
              "array([[1, 2, 3],\n",
              "       [4, 5, 6]])"
            ]
          },
          "metadata": {},
          "execution_count": 19
        }
      ]
    },
    {
      "cell_type": "code",
      "metadata": {
        "colab": {
          "base_uri": "https://localhost:8080/"
        },
        "id": "Y37KYZ7s-mNi",
        "outputId": "95bb0f4b-20dd-4731-d05d-a37d70410f82"
      },
      "source": [
        "A.T"
      ],
      "execution_count": 20,
      "outputs": [
        {
          "output_type": "execute_result",
          "data": {
            "text/plain": [
              "array([[1, 4],\n",
              "       [2, 5],\n",
              "       [3, 6]])"
            ]
          },
          "metadata": {},
          "execution_count": 20
        }
      ]
    },
    {
      "cell_type": "code",
      "metadata": {
        "colab": {
          "base_uri": "https://localhost:8080/"
        },
        "id": "AkKd2Chz-nxy",
        "outputId": "d4bc636b-4450-4bc9-d23f-972058e3c966"
      },
      "source": [
        "print(np.dot(A.T,B))"
      ],
      "execution_count": 21,
      "outputs": [
        {
          "output_type": "stream",
          "name": "stdout",
          "text": [
            "[[-27 -22 -17]\n",
            " [-36 -29 -22]\n",
            " [-45 -36 -27]]\n"
          ]
        }
      ]
    },
    {
      "cell_type": "markdown",
      "metadata": {
        "school_cell_uuid": "1cdcb42b3e724cff877530732ddf7d46",
        "id": "HjLmGm-rr8F1"
      },
      "source": [
        "## 배열 생성"
      ]
    },
    {
      "cell_type": "markdown",
      "metadata": {
        "school_cell_uuid": "42a8ae213d734409a35527275c0b4264",
        "id": "1MLA1rsMr8F1"
      },
      "source": [
        "NumPy는 몇가지 단순한 배열을 생성하는 명령을 제공한다.\n",
        " \n",
        "* `zeros`, `ones`\n",
        "* `zeros_like`, `ones_like`\n",
        "* `empty`\n",
        "* `arange`\n",
        "* `linspace`, `logspace`"
      ]
    },
    {
      "cell_type": "markdown",
      "metadata": {
        "school_cell_uuid": "7c79b2111e3e438eb66470e15acc0c78",
        "id": "vfjZE-Epr8F2"
      },
      "source": [
        "크기가 정해져 있고 모든 값이 0인 배열을 생성하려면 `zeros` 명령을 사용한다. 인수로는 배열을 크기를 뜻하는 정수를 넣는다."
      ]
    },
    {
      "cell_type": "code",
      "metadata": {
        "school_cell_uuid": "0450ddaee8694b2d8297b1b15035182b",
        "id": "qZihJTvKr8F2",
        "outputId": "54585b58-6aff-4eb6-9fe6-130aa0434b75",
        "colab": {
          "base_uri": "https://localhost:8080/"
        }
      },
      "source": [
        "a = np.zeros(5)\n",
        "a"
      ],
      "execution_count": 22,
      "outputs": [
        {
          "output_type": "execute_result",
          "data": {
            "text/plain": [
              "array([0., 0., 0., 0., 0.])"
            ]
          },
          "metadata": {},
          "execution_count": 22
        }
      ]
    },
    {
      "cell_type": "markdown",
      "metadata": {
        "school_cell_uuid": "128099e12e224f7daa7967d737681571",
        "id": "cXjo4kGgr8F3"
      },
      "source": [
        "크기를 뜻하는 튜플을 입력하면 다차원 배열도 만들 수 있다."
      ]
    },
    {
      "cell_type": "code",
      "metadata": {
        "school_cell_uuid": "4f578f16747a471aafb9094e27f897d9",
        "id": "wZMte8Gmr8F3",
        "outputId": "7f963a70-8f17-4bfd-a835-5c9d2f581522",
        "colab": {
          "base_uri": "https://localhost:8080/"
        }
      },
      "source": [
        "b = np.zeros((2, 3))\n",
        "b"
      ],
      "execution_count": 23,
      "outputs": [
        {
          "output_type": "execute_result",
          "data": {
            "text/plain": [
              "array([[0., 0., 0.],\n",
              "       [0., 0., 0.]])"
            ]
          },
          "metadata": {},
          "execution_count": 23
        }
      ]
    },
    {
      "cell_type": "markdown",
      "metadata": {
        "school_cell_uuid": "ff1a3dc84bd44470820a5c0b34e3b437",
        "id": "zcd7ZuQ8r8F3"
      },
      "source": [
        "`array` 명령과 마찬가지로 `dtype` 인수를 명시하면 해당 자료형 원소를 가진 배열을 만든다."
      ]
    },
    {
      "cell_type": "code",
      "metadata": {
        "school_cell_uuid": "0638b07330ae4cd48dc4b928b51c274e",
        "id": "BpoHHKOrr8F3",
        "outputId": "62dff061-9e23-4e03-ce26-fad7f50d8b69",
        "colab": {
          "base_uri": "https://localhost:8080/"
        }
      },
      "source": [
        "c = np.zeros((5, 2), dtype=\"i\")\n",
        "c"
      ],
      "execution_count": 24,
      "outputs": [
        {
          "output_type": "execute_result",
          "data": {
            "text/plain": [
              "array([[0, 0],\n",
              "       [0, 0],\n",
              "       [0, 0],\n",
              "       [0, 0],\n",
              "       [0, 0]], dtype=int32)"
            ]
          },
          "metadata": {},
          "execution_count": 24
        }
      ]
    },
    {
      "cell_type": "markdown",
      "metadata": {
        "school_cell_uuid": "9c28797b1d2f4b228db15e34bcfa1593",
        "id": "VAvgHb9qr8F4"
      },
      "source": [
        "문자열 배열도 가능하지면 모든 원소의 문자열 크기가 같아야 한다. 만약 더 큰 크기의 문자열을 할당하면 잘릴 수 있다."
      ]
    },
    {
      "cell_type": "code",
      "metadata": {
        "school_cell_uuid": "3650282440d34d588621f1034c8a6c85",
        "id": "oGq4GMYWr8F4",
        "outputId": "ac5be48f-9f5d-4de8-fec1-45077f3e0383",
        "colab": {
          "base_uri": "https://localhost:8080/"
        }
      },
      "source": [
        "d = np.zeros(5, dtype=\"U4\")\n",
        "d"
      ],
      "execution_count": 25,
      "outputs": [
        {
          "output_type": "execute_result",
          "data": {
            "text/plain": [
              "array(['', '', '', '', ''], dtype='<U4')"
            ]
          },
          "metadata": {},
          "execution_count": 25
        }
      ]
    },
    {
      "cell_type": "code",
      "metadata": {
        "school_cell_uuid": "4988c5b5d8cb4b249d89cf6f2bfd87de",
        "id": "y2K25T9xr8F4",
        "outputId": "3962fad8-f985-4610-c2ee-74818baf6cbe",
        "colab": {
          "base_uri": "https://localhost:8080/"
        }
      },
      "source": [
        "d[0] = \"abc\"\n",
        "d[1] = \"abcd\"\n",
        "d[2] = \"ABCDE\"\n",
        "d"
      ],
      "execution_count": 26,
      "outputs": [
        {
          "output_type": "execute_result",
          "data": {
            "text/plain": [
              "array(['abc', 'abcd', 'ABCD', '', ''], dtype='<U4')"
            ]
          },
          "metadata": {},
          "execution_count": 26
        }
      ]
    },
    {
      "cell_type": "markdown",
      "metadata": {
        "school_cell_uuid": "278bf302cf734be6a097281158512c1e",
        "id": "U6ewKUUSr8F5"
      },
      "source": [
        "0이 아닌 1로 초기화된 배열을 생성하려면 `ones` 명령을 사용한다."
      ]
    },
    {
      "cell_type": "code",
      "metadata": {
        "school_cell_uuid": "3c4d0f3f2ff84ac39390ced7385db2d2",
        "id": "c-Uxsek1r8F5",
        "outputId": "8c52a13a-0ece-41cb-fabe-5e2511041852",
        "colab": {
          "base_uri": "https://localhost:8080/"
        }
      },
      "source": [
        "e = np.ones((2, 3, 4), dtype=\"i8\")\n",
        "e"
      ],
      "execution_count": 27,
      "outputs": [
        {
          "output_type": "execute_result",
          "data": {
            "text/plain": [
              "array([[[1, 1, 1, 1],\n",
              "        [1, 1, 1, 1],\n",
              "        [1, 1, 1, 1]],\n",
              "\n",
              "       [[1, 1, 1, 1],\n",
              "        [1, 1, 1, 1],\n",
              "        [1, 1, 1, 1]]])"
            ]
          },
          "metadata": {},
          "execution_count": 27
        }
      ]
    },
    {
      "cell_type": "markdown",
      "metadata": {
        "school_cell_uuid": "31a0e99a37ce4b04a48c1c6ab5d0722e",
        "id": "9Ku3syDWr8F5"
      },
      "source": [
        "만약 크기를 튜플로 명시하지 않고 다른 배열과 같은 크기의 배열을 생성하고 싶다면 `ones_like`, `zeros_like` 명령을 사용한다."
      ]
    },
    {
      "cell_type": "code",
      "metadata": {
        "school_cell_uuid": "27dc216486b1400e81701bf57a5bc3ec",
        "id": "c4iBz8rnr8F5",
        "outputId": "5896649e-8622-4cb1-a8e2-ef3d936cb31c",
        "colab": {
          "base_uri": "https://localhost:8080/"
        }
      },
      "source": [
        "f = np.ones_like(b, dtype=\"f\")\n",
        "f"
      ],
      "execution_count": 28,
      "outputs": [
        {
          "output_type": "execute_result",
          "data": {
            "text/plain": [
              "array([[1., 1., 1.],\n",
              "       [1., 1., 1.]], dtype=float32)"
            ]
          },
          "metadata": {},
          "execution_count": 28
        }
      ]
    },
    {
      "cell_type": "code",
      "metadata": {
        "school_cell_uuid": "37614cdedd624fa28a0f54441845892a",
        "id": "UiT9nuaNr8F6",
        "outputId": "b700f45f-7dc7-463c-c8e8-c252a2e610c8",
        "colab": {
          "base_uri": "https://localhost:8080/"
        }
      },
      "source": [
        "g = np.empty((4, 3))\n",
        "g"
      ],
      "execution_count": 29,
      "outputs": [
        {
          "output_type": "execute_result",
          "data": {
            "text/plain": [
              "array([[4.68450556e-310, 0.00000000e+000, 0.00000000e+000],\n",
              "       [0.00000000e+000, 0.00000000e+000, 0.00000000e+000],\n",
              "       [0.00000000e+000, 0.00000000e+000, 0.00000000e+000],\n",
              "       [0.00000000e+000, 0.00000000e+000, 0.00000000e+000]])"
            ]
          },
          "metadata": {},
          "execution_count": 29
        }
      ]
    },
    {
      "cell_type": "markdown",
      "metadata": {
        "school_cell_uuid": "269accf0732f43be8912260ceb0a6609",
        "id": "vMIDnQOTr8F7"
      },
      "source": [
        "`arange` 명령은 NumPy 버전의 `range` 명령이라고 볼 수 있다. 특정한 규칙에 따라 증가하는 수열을 만든다. "
      ]
    },
    {
      "cell_type": "code",
      "metadata": {
        "school_cell_uuid": "b732c7a3553247be989a6e35d79fb83a",
        "id": "67nEha-ar8F7",
        "outputId": "eb36f2d1-e911-4c71-9314-ce6b879ce67c",
        "colab": {
          "base_uri": "https://localhost:8080/"
        }
      },
      "source": [
        "np.arange(10)  # 0 .. n-1"
      ],
      "execution_count": 30,
      "outputs": [
        {
          "output_type": "execute_result",
          "data": {
            "text/plain": [
              "array([0, 1, 2, 3, 4, 5, 6, 7, 8, 9])"
            ]
          },
          "metadata": {},
          "execution_count": 30
        }
      ]
    },
    {
      "cell_type": "code",
      "metadata": {
        "school_cell_uuid": "d0cb5cefda834591987ce4dd5174644b",
        "id": "9lWxj8_3r8F7",
        "outputId": "d785251c-44a8-4621-a06c-99caf860e28b",
        "colab": {
          "base_uri": "https://localhost:8080/"
        }
      },
      "source": [
        "np.arange(3, 21, 2)  # 시작, 끝(포함하지 않음), 단계"
      ],
      "execution_count": 31,
      "outputs": [
        {
          "output_type": "execute_result",
          "data": {
            "text/plain": [
              "array([ 3,  5,  7,  9, 11, 13, 15, 17, 19])"
            ]
          },
          "metadata": {},
          "execution_count": 31
        }
      ]
    },
    {
      "cell_type": "markdown",
      "metadata": {
        "school_cell_uuid": "4320ced2361c452286d820e0d3f8cbfc",
        "id": "XWS6RnQnr8F8"
      },
      "source": [
        "`linspace` 명령이나 `logspace` 명령은 선형 구간 혹은 로그 구간을 지정한 구간의 수만큼 분할한다."
      ]
    },
    {
      "cell_type": "code",
      "metadata": {
        "school_cell_uuid": "7e36ecf98ff347eda7659c2d5455b690",
        "id": "A_Eo6nOgr8F8",
        "outputId": "70bf6546-a6a2-45ef-d025-cb39fea6a4ab",
        "colab": {
          "base_uri": "https://localhost:8080/"
        }
      },
      "source": [
        "np.linspace(0, 100, 5)  # 시작, 끝(포함), 갯수"
      ],
      "execution_count": 32,
      "outputs": [
        {
          "output_type": "execute_result",
          "data": {
            "text/plain": [
              "array([  0.,  25.,  50.,  75., 100.])"
            ]
          },
          "metadata": {},
          "execution_count": 32
        }
      ]
    },
    {
      "cell_type": "code",
      "metadata": {
        "id": "1Bx5luo5r8F8",
        "outputId": "a4ef2cc7-89b2-4fec-e4a6-d52d834d7f40",
        "colab": {
          "base_uri": "https://localhost:8080/"
        }
      },
      "source": [
        "np.logspace(0.1, 1, 10)"
      ],
      "execution_count": 33,
      "outputs": [
        {
          "output_type": "execute_result",
          "data": {
            "text/plain": [
              "array([ 1.25892541,  1.58489319,  1.99526231,  2.51188643,  3.16227766,\n",
              "        3.98107171,  5.01187234,  6.30957344,  7.94328235, 10.        ])"
            ]
          },
          "metadata": {},
          "execution_count": 33
        }
      ]
    },
    {
      "cell_type": "markdown",
      "metadata": {
        "school_cell_uuid": "e051247ba49240a79a260dc42ea0eec8",
        "id": "eh-01lAkr8F-"
      },
      "source": [
        "## 배열의 크기 변형"
      ]
    },
    {
      "cell_type": "code",
      "metadata": {
        "school_cell_uuid": "8b76f25bf4684e0b97520db76f09688e",
        "id": "QWuaHo83r8F-",
        "colab": {
          "base_uri": "https://localhost:8080/"
        },
        "outputId": "1f77e5c4-f9d0-4b39-d651-2d0f7288a1d6"
      },
      "source": [
        "a = np.arange(12)\n",
        "a"
      ],
      "execution_count": 34,
      "outputs": [
        {
          "output_type": "execute_result",
          "data": {
            "text/plain": [
              "array([ 0,  1,  2,  3,  4,  5,  6,  7,  8,  9, 10, 11])"
            ]
          },
          "metadata": {},
          "execution_count": 34
        }
      ]
    },
    {
      "cell_type": "code",
      "metadata": {
        "school_cell_uuid": "0652bfe7847a4c1fa3bbcc77623598dc",
        "id": "aevyeh_tr8F-",
        "colab": {
          "base_uri": "https://localhost:8080/"
        },
        "outputId": "f3d1dc45-4677-472f-ba0a-2efd5227935d"
      },
      "source": [
        "b = a.reshape(3, 4)\n",
        "b"
      ],
      "execution_count": 35,
      "outputs": [
        {
          "output_type": "execute_result",
          "data": {
            "text/plain": [
              "array([[ 0,  1,  2,  3],\n",
              "       [ 4,  5,  6,  7],\n",
              "       [ 8,  9, 10, 11]])"
            ]
          },
          "metadata": {},
          "execution_count": 35
        }
      ]
    },
    {
      "cell_type": "markdown",
      "metadata": {
        "school_cell_uuid": "6e46b05e869747b1ae07074efebe4597",
        "id": "EOGSJiIKr8F_"
      },
      "source": [
        "사용하는 원소의 갯수가 정해저 있기 때문에 `reshape` 명령의 형태 튜플의 원소 중 하나는 -1이라는 숫자로 대체할 수 있다. -1을 넣으면 해당 숫자는 다를 값에서 계산되어 사용된다."
      ]
    },
    {
      "cell_type": "code",
      "metadata": {
        "school_cell_uuid": "f04885d56e174f638ef35803c0057597",
        "id": "es7L84uzr8F_",
        "outputId": "c5987806-2f39-466b-983c-66531a2af76c",
        "colab": {
          "base_uri": "https://localhost:8080/"
        }
      },
      "source": [
        "a.reshape(3, -1)"
      ],
      "execution_count": 36,
      "outputs": [
        {
          "output_type": "execute_result",
          "data": {
            "text/plain": [
              "array([[ 0,  1,  2,  3],\n",
              "       [ 4,  5,  6,  7],\n",
              "       [ 8,  9, 10, 11]])"
            ]
          },
          "metadata": {},
          "execution_count": 36
        }
      ]
    },
    {
      "cell_type": "code",
      "metadata": {
        "school_cell_uuid": "81f66a4782c74011a5143a10cb21728b",
        "id": "AD7J3yiFr8F_",
        "outputId": "9a207cc6-04b2-4c55-e0ba-49449f98deb6",
        "colab": {
          "base_uri": "https://localhost:8080/"
        }
      },
      "source": [
        "a.reshape(2, 2, -1)"
      ],
      "execution_count": 37,
      "outputs": [
        {
          "output_type": "execute_result",
          "data": {
            "text/plain": [
              "array([[[ 0,  1,  2],\n",
              "        [ 3,  4,  5]],\n",
              "\n",
              "       [[ 6,  7,  8],\n",
              "        [ 9, 10, 11]]])"
            ]
          },
          "metadata": {},
          "execution_count": 37
        }
      ]
    },
    {
      "cell_type": "code",
      "metadata": {
        "school_cell_uuid": "1aa82c72705f4adca24100997b321ec8",
        "id": "pWjVmLaZr8F_",
        "outputId": "8b6c6fbf-7ac0-4ef6-fd22-386c52c89046",
        "colab": {
          "base_uri": "https://localhost:8080/"
        }
      },
      "source": [
        "a.reshape(2, -1, 2)"
      ],
      "execution_count": 38,
      "outputs": [
        {
          "output_type": "execute_result",
          "data": {
            "text/plain": [
              "array([[[ 0,  1],\n",
              "        [ 2,  3],\n",
              "        [ 4,  5]],\n",
              "\n",
              "       [[ 6,  7],\n",
              "        [ 8,  9],\n",
              "        [10, 11]]])"
            ]
          },
          "metadata": {},
          "execution_count": 38
        }
      ]
    },
    {
      "cell_type": "markdown",
      "metadata": {
        "school_cell_uuid": "8c338a382a704ee8b4ecb1f14639b9a5",
        "id": "qGrU2pf_r8GA"
      },
      "source": [
        "다차원 배열을 무조건 1차원으로 만들기 위해서는 `flatten` 나 `ravel` 메서드를 사용한다."
      ]
    },
    {
      "cell_type": "code",
      "metadata": {
        "school_cell_uuid": "da52ccdff6824783a9151e544f3910c4",
        "id": "NbFHA97sr8GA",
        "outputId": "95bd4ca5-b23e-4d48-d33d-d5190e480e07",
        "colab": {
          "base_uri": "https://localhost:8080/"
        }
      },
      "source": [
        "a.flatten()"
      ],
      "execution_count": 39,
      "outputs": [
        {
          "output_type": "execute_result",
          "data": {
            "text/plain": [
              "array([ 0,  1,  2,  3,  4,  5,  6,  7,  8,  9, 10, 11])"
            ]
          },
          "metadata": {},
          "execution_count": 39
        }
      ]
    },
    {
      "cell_type": "code",
      "metadata": {
        "id": "G39B0IDmr8GA",
        "outputId": "f6d4ba16-d5df-4df4-e164-702ea5e9d493",
        "colab": {
          "base_uri": "https://localhost:8080/"
        }
      },
      "source": [
        "a.ravel()"
      ],
      "execution_count": 40,
      "outputs": [
        {
          "output_type": "execute_result",
          "data": {
            "text/plain": [
              "array([ 0,  1,  2,  3,  4,  5,  6,  7,  8,  9, 10, 11])"
            ]
          },
          "metadata": {},
          "execution_count": 40
        }
      ]
    },
    {
      "cell_type": "markdown",
      "metadata": {
        "school_cell_uuid": "4b3e0edbc5e7492796eac84d7a5e2257",
        "id": "9inj_YaSr8GC"
      },
      "source": [
        "## 배열 연결"
      ]
    },
    {
      "cell_type": "code",
      "metadata": {
        "school_cell_uuid": "88a84a888e994a3bbf68e0430ac79860",
        "id": "DsM0wBB3r8GD",
        "outputId": "42ea8599-a303-4278-a0fb-2e915854b445",
        "colab": {
          "base_uri": "https://localhost:8080/"
        }
      },
      "source": [
        "a1 = np.ones((2, 3))\n",
        "a1"
      ],
      "execution_count": 41,
      "outputs": [
        {
          "output_type": "execute_result",
          "data": {
            "text/plain": [
              "array([[1., 1., 1.],\n",
              "       [1., 1., 1.]])"
            ]
          },
          "metadata": {},
          "execution_count": 41
        }
      ]
    },
    {
      "cell_type": "code",
      "metadata": {
        "school_cell_uuid": "d8d4aadda3634cefb9c9f93248d28dec",
        "id": "maouU0Yhr8GD",
        "outputId": "70e0d599-c708-4e69-e0d7-a455e649a6b1",
        "colab": {
          "base_uri": "https://localhost:8080/"
        }
      },
      "source": [
        "a2 = np.zeros((2, 2))\n",
        "a2"
      ],
      "execution_count": 42,
      "outputs": [
        {
          "output_type": "execute_result",
          "data": {
            "text/plain": [
              "array([[0., 0.],\n",
              "       [0., 0.]])"
            ]
          },
          "metadata": {},
          "execution_count": 42
        }
      ]
    },
    {
      "cell_type": "code",
      "metadata": {
        "school_cell_uuid": "55da73c949884fcdbb8a7244be95ecc3",
        "id": "dVYgcJLHr8GD",
        "outputId": "5a07a1a2-4a94-46d7-8b30-735f3469d5d3",
        "colab": {
          "base_uri": "https://localhost:8080/"
        }
      },
      "source": [
        "np.hstack([a1, a2])"
      ],
      "execution_count": 43,
      "outputs": [
        {
          "output_type": "execute_result",
          "data": {
            "text/plain": [
              "array([[1., 1., 1., 0., 0.],\n",
              "       [1., 1., 1., 0., 0.]])"
            ]
          },
          "metadata": {},
          "execution_count": 43
        }
      ]
    },
    {
      "cell_type": "code",
      "metadata": {
        "school_cell_uuid": "9a90c72a781a446eab015b05d0521cd5",
        "id": "tjdHSAzwr8GE",
        "outputId": "f863ea05-2c92-4555-fdc3-0cec0129f834",
        "colab": {
          "base_uri": "https://localhost:8080/"
        }
      },
      "source": [
        "b1 = np.ones((2, 3))\n",
        "b1"
      ],
      "execution_count": 44,
      "outputs": [
        {
          "output_type": "execute_result",
          "data": {
            "text/plain": [
              "array([[1., 1., 1.],\n",
              "       [1., 1., 1.]])"
            ]
          },
          "metadata": {},
          "execution_count": 44
        }
      ]
    },
    {
      "cell_type": "code",
      "metadata": {
        "school_cell_uuid": "087a1f7e8cd74acc95060ebd02261437",
        "id": "RXybjJbzr8GE",
        "outputId": "5beac327-9d4e-4143-ccea-2192eca6dc02",
        "colab": {
          "base_uri": "https://localhost:8080/"
        }
      },
      "source": [
        "b2 = np.zeros((3, 3))\n",
        "b2"
      ],
      "execution_count": 45,
      "outputs": [
        {
          "output_type": "execute_result",
          "data": {
            "text/plain": [
              "array([[0., 0., 0.],\n",
              "       [0., 0., 0.],\n",
              "       [0., 0., 0.]])"
            ]
          },
          "metadata": {},
          "execution_count": 45
        }
      ]
    },
    {
      "cell_type": "code",
      "metadata": {
        "school_cell_uuid": "30bccce9ef044067b14d7bd6ee5179da",
        "id": "gzqX_4Gar8GF",
        "outputId": "22678f52-e4c6-4aad-c028-827a1ce7b3ff",
        "colab": {
          "base_uri": "https://localhost:8080/"
        }
      },
      "source": [
        "np.vstack([b1, b2])"
      ],
      "execution_count": 46,
      "outputs": [
        {
          "output_type": "execute_result",
          "data": {
            "text/plain": [
              "array([[1., 1., 1.],\n",
              "       [1., 1., 1.],\n",
              "       [0., 0., 0.],\n",
              "       [0., 0., 0.],\n",
              "       [0., 0., 0.]])"
            ]
          },
          "metadata": {},
          "execution_count": 46
        }
      ]
    },
    {
      "cell_type": "code",
      "metadata": {
        "school_cell_uuid": "27186ffea90b42c1b35559f4ffb8c262",
        "id": "aUUteu_yr8GF",
        "outputId": "8713e276-c58c-439d-83d6-c54d6cc9bfd5",
        "colab": {
          "base_uri": "https://localhost:8080/"
        }
      },
      "source": [
        "c1 = np.ones((3, 4))\n",
        "c1"
      ],
      "execution_count": 47,
      "outputs": [
        {
          "output_type": "execute_result",
          "data": {
            "text/plain": [
              "array([[1., 1., 1., 1.],\n",
              "       [1., 1., 1., 1.],\n",
              "       [1., 1., 1., 1.]])"
            ]
          },
          "metadata": {},
          "execution_count": 47
        }
      ]
    },
    {
      "cell_type": "code",
      "metadata": {
        "school_cell_uuid": "ea73e674615a4adab9381f357c7c98f8",
        "id": "kgVfra-Ir8GG",
        "outputId": "79d74a39-6cdf-420d-fc47-eccbead2d097",
        "colab": {
          "base_uri": "https://localhost:8080/"
        }
      },
      "source": [
        "c2 = np.zeros((3, 4))\n",
        "c2"
      ],
      "execution_count": 48,
      "outputs": [
        {
          "output_type": "execute_result",
          "data": {
            "text/plain": [
              "array([[0., 0., 0., 0.],\n",
              "       [0., 0., 0., 0.],\n",
              "       [0., 0., 0., 0.]])"
            ]
          },
          "metadata": {},
          "execution_count": 48
        }
      ]
    },
    {
      "cell_type": "code",
      "metadata": {
        "school_cell_uuid": "0978be1cd9d44954a83e9e132be02c42",
        "id": "_33Xiwgpr8GG",
        "outputId": "558262de-612a-4fcc-bb14-155d4ae69b76",
        "colab": {
          "base_uri": "https://localhost:8080/"
        }
      },
      "source": [
        "np.dstack([c1, c2])"
      ],
      "execution_count": 49,
      "outputs": [
        {
          "output_type": "execute_result",
          "data": {
            "text/plain": [
              "array([[[1., 0.],\n",
              "        [1., 0.],\n",
              "        [1., 0.],\n",
              "        [1., 0.]],\n",
              "\n",
              "       [[1., 0.],\n",
              "        [1., 0.],\n",
              "        [1., 0.],\n",
              "        [1., 0.]],\n",
              "\n",
              "       [[1., 0.],\n",
              "        [1., 0.],\n",
              "        [1., 0.],\n",
              "        [1., 0.]]])"
            ]
          },
          "metadata": {},
          "execution_count": 49
        }
      ]
    },
    {
      "cell_type": "code",
      "metadata": {
        "school_cell_uuid": "f9238b1bdcb54f41b622a9a478f89fa0",
        "id": "jP8AZvfer8GG",
        "outputId": "02836b6f-894c-4b86-e4af-82eb0b9ccc91",
        "colab": {
          "base_uri": "https://localhost:8080/"
        }
      },
      "source": [
        "(np.dstack([c1, c2])).shape"
      ],
      "execution_count": 50,
      "outputs": [
        {
          "output_type": "execute_result",
          "data": {
            "text/plain": [
              "(3, 4, 2)"
            ]
          },
          "metadata": {},
          "execution_count": 50
        }
      ]
    },
    {
      "cell_type": "code",
      "metadata": {
        "school_cell_uuid": "564cc3e527fb4afeafe8b9d091e5fd22",
        "id": "_Ec2b-Pyr8GH",
        "outputId": "fd035424-9c24-44ab-bc76-3a252d1a82a0",
        "colab": {
          "base_uri": "https://localhost:8080/"
        }
      },
      "source": [
        "c = np.stack([c1, c2])\n",
        "c"
      ],
      "execution_count": 51,
      "outputs": [
        {
          "output_type": "execute_result",
          "data": {
            "text/plain": [
              "array([[[1., 1., 1., 1.],\n",
              "        [1., 1., 1., 1.],\n",
              "        [1., 1., 1., 1.]],\n",
              "\n",
              "       [[0., 0., 0., 0.],\n",
              "        [0., 0., 0., 0.],\n",
              "        [0., 0., 0., 0.]]])"
            ]
          },
          "metadata": {},
          "execution_count": 51
        }
      ]
    },
    {
      "cell_type": "code",
      "metadata": {
        "school_cell_uuid": "97b1f59e6c47453bbdfe416e01575868",
        "id": "9I4BgUrPr8GH",
        "outputId": "885e6d44-0a5a-4157-c6e7-bec0f0ae76cc",
        "colab": {
          "base_uri": "https://localhost:8080/"
        }
      },
      "source": [
        "c.shape"
      ],
      "execution_count": 52,
      "outputs": [
        {
          "output_type": "execute_result",
          "data": {
            "text/plain": [
              "(2, 3, 4)"
            ]
          },
          "metadata": {},
          "execution_count": 52
        }
      ]
    },
    {
      "cell_type": "markdown",
      "metadata": {
        "school_cell_uuid": "a0c4da583b854d0b8b8d99803ab2aba2",
        "id": "2snFi9qar8GH"
      },
      "source": [
        "`axis` 인수가 1이면 두번째 차원으로 새로운 차원이 삽입된다. 다음 예에서 즉, shape 변화는 2개의 (3 x 4) -> 1개의 (3 x **2** x 4) 이다"
      ]
    },
    {
      "cell_type": "code",
      "metadata": {
        "school_cell_uuid": "bd36c52ba54e4effa63767b54b403c37",
        "scrolled": true,
        "id": "Y0B5ZaAlr8GI",
        "outputId": "22ce12be-5ab1-4648-8c38-17a83d398bb7",
        "colab": {
          "base_uri": "https://localhost:8080/"
        }
      },
      "source": [
        "c = np.stack([c1, c2], axis=1)\n",
        "c"
      ],
      "execution_count": 53,
      "outputs": [
        {
          "output_type": "execute_result",
          "data": {
            "text/plain": [
              "array([[[1., 1., 1., 1.],\n",
              "        [0., 0., 0., 0.]],\n",
              "\n",
              "       [[1., 1., 1., 1.],\n",
              "        [0., 0., 0., 0.]],\n",
              "\n",
              "       [[1., 1., 1., 1.],\n",
              "        [0., 0., 0., 0.]]])"
            ]
          },
          "metadata": {},
          "execution_count": 53
        }
      ]
    },
    {
      "cell_type": "code",
      "metadata": {
        "school_cell_uuid": "60dde750853a4cdd82f38b2bc4990215",
        "id": "kryePXY0r8GI",
        "outputId": "cd9402d2-568b-4537-e9af-af6f4c54ea4a",
        "colab": {
          "base_uri": "https://localhost:8080/"
        }
      },
      "source": [
        "c.shape"
      ],
      "execution_count": 54,
      "outputs": [
        {
          "output_type": "execute_result",
          "data": {
            "text/plain": [
              "(3, 2, 4)"
            ]
          },
          "metadata": {},
          "execution_count": 54
        }
      ]
    },
    {
      "cell_type": "code",
      "metadata": {
        "school_cell_uuid": "ab65c502a80f48b48c3274e552983943",
        "id": "Lvu7R5V0r8GJ",
        "outputId": "67206806-fff5-42b5-c273-aafe1542de1d",
        "colab": {
          "base_uri": "https://localhost:8080/"
        }
      },
      "source": [
        "np.r_[np.array([1, 2, 3]), np.array([4, 5, 6])]"
      ],
      "execution_count": 55,
      "outputs": [
        {
          "output_type": "execute_result",
          "data": {
            "text/plain": [
              "array([1, 2, 3, 4, 5, 6])"
            ]
          },
          "metadata": {},
          "execution_count": 55
        }
      ]
    },
    {
      "cell_type": "code",
      "metadata": {
        "school_cell_uuid": "ab65c502a80f48b48c3274e552983943",
        "id": "-XrMbV2Wr8GJ",
        "outputId": "75bd7f31-b9ea-4599-cf60-ed573ad0e1c0",
        "colab": {
          "base_uri": "https://localhost:8080/"
        }
      },
      "source": [
        "np.c_[np.array([1, 2, 3]), np.array([4, 5, 6])]"
      ],
      "execution_count": 56,
      "outputs": [
        {
          "output_type": "execute_result",
          "data": {
            "text/plain": [
              "array([[1, 4],\n",
              "       [2, 5],\n",
              "       [3, 6]])"
            ]
          },
          "metadata": {},
          "execution_count": 56
        }
      ]
    },
    {
      "cell_type": "code",
      "metadata": {
        "school_cell_uuid": "1d16457e5bee4d788fc845103e0aa963",
        "id": "M8AS_ChCr8GK",
        "outputId": "0416ef2e-766b-46d6-b5b4-7ada49a879b2",
        "colab": {
          "base_uri": "https://localhost:8080/"
        }
      },
      "source": [
        "a = np.array([[0, 1, 2], [3, 4, 5]])\n",
        "np.tile(a, 2)"
      ],
      "execution_count": 57,
      "outputs": [
        {
          "output_type": "execute_result",
          "data": {
            "text/plain": [
              "array([[0, 1, 2, 0, 1, 2],\n",
              "       [3, 4, 5, 3, 4, 5]])"
            ]
          },
          "metadata": {},
          "execution_count": 57
        }
      ]
    },
    {
      "cell_type": "code",
      "metadata": {
        "school_cell_uuid": "83f17209217c46fbb3973f6c0f910c74",
        "id": "IRPozZaxr8GK",
        "outputId": "d0c9bb77-3372-48b4-a408-31e9d7fbcc2b",
        "colab": {
          "base_uri": "https://localhost:8080/"
        }
      },
      "source": [
        "np.tile(a, (3, 2))"
      ],
      "execution_count": 58,
      "outputs": [
        {
          "output_type": "execute_result",
          "data": {
            "text/plain": [
              "array([[0, 1, 2, 0, 1, 2],\n",
              "       [3, 4, 5, 3, 4, 5],\n",
              "       [0, 1, 2, 0, 1, 2],\n",
              "       [3, 4, 5, 3, 4, 5],\n",
              "       [0, 1, 2, 0, 1, 2],\n",
              "       [3, 4, 5, 3, 4, 5]])"
            ]
          },
          "metadata": {},
          "execution_count": 58
        }
      ]
    },
    {
      "cell_type": "markdown",
      "metadata": {
        "id": "yXHznubv3LtR"
      },
      "source": [
        "난수와 시드 파이썬에서 시드를 설정하는 함수는 seed이다. 인수로는 0과 같거나 큰 정수를 넣어준다."
      ]
    },
    {
      "cell_type": "code",
      "metadata": {
        "id": "gPcEPsIF3MjT"
      },
      "source": [
        "np.random.seed(0)"
      ],
      "execution_count": 59,
      "outputs": []
    },
    {
      "cell_type": "code",
      "metadata": {
        "colab": {
          "base_uri": "https://localhost:8080/"
        },
        "id": "-1QawSul3Uks",
        "outputId": "011d2cbe-5f10-48aa-cbc8-5e3da0b8d94b"
      },
      "source": [
        "np.random.rand(5)"
      ],
      "execution_count": 60,
      "outputs": [
        {
          "output_type": "execute_result",
          "data": {
            "text/plain": [
              "array([0.5488135 , 0.71518937, 0.60276338, 0.54488318, 0.4236548 ])"
            ]
          },
          "metadata": {},
          "execution_count": 60
        }
      ]
    },
    {
      "cell_type": "code",
      "metadata": {
        "colab": {
          "base_uri": "https://localhost:8080/"
        },
        "id": "QBCwArp03nQy",
        "outputId": "25be52fd-422e-405e-caf3-d89a43ca71dc"
      },
      "source": [
        "np.random.rand(10)"
      ],
      "execution_count": 61,
      "outputs": [
        {
          "output_type": "execute_result",
          "data": {
            "text/plain": [
              "array([0.64589411, 0.43758721, 0.891773  , 0.96366276, 0.38344152,\n",
              "       0.79172504, 0.52889492, 0.56804456, 0.92559664, 0.07103606])"
            ]
          },
          "metadata": {},
          "execution_count": 61
        }
      ]
    },
    {
      "cell_type": "code",
      "metadata": {
        "colab": {
          "base_uri": "https://localhost:8080/"
        },
        "id": "WLHsqJ5u3qjU",
        "outputId": "574f55d2-f2f3-4629-bea6-04238b79fff6"
      },
      "source": [
        "np.random.rand(3, 5)"
      ],
      "execution_count": 62,
      "outputs": [
        {
          "output_type": "execute_result",
          "data": {
            "text/plain": [
              "array([[0.0871293 , 0.0202184 , 0.83261985, 0.77815675, 0.87001215],\n",
              "       [0.97861834, 0.79915856, 0.46147936, 0.78052918, 0.11827443],\n",
              "       [0.63992102, 0.14335329, 0.94466892, 0.52184832, 0.41466194]])"
            ]
          },
          "metadata": {},
          "execution_count": 62
        }
      ]
    },
    {
      "cell_type": "code",
      "metadata": {
        "colab": {
          "base_uri": "https://localhost:8080/"
        },
        "id": "6C3AZ5vv3tCr",
        "outputId": "06da6886-9388-4efe-97a2-c5f4152a3bf5"
      },
      "source": [
        "np.random.randn(10)"
      ],
      "execution_count": 63,
      "outputs": [
        {
          "output_type": "execute_result",
          "data": {
            "text/plain": [
              "array([ 0.8644362 , -0.74216502,  2.26975462, -1.45436567,  0.04575852,\n",
              "       -0.18718385,  1.53277921,  1.46935877,  0.15494743,  0.37816252])"
            ]
          },
          "metadata": {},
          "execution_count": 63
        }
      ]
    },
    {
      "cell_type": "code",
      "metadata": {
        "colab": {
          "base_uri": "https://localhost:8080/"
        },
        "id": "DCS6D9qV3vES",
        "outputId": "02b53de1-2007-4ea3-a92f-b9ab1e11fa96"
      },
      "source": [
        "np.random.randn(3, 5)"
      ],
      "execution_count": 64,
      "outputs": [
        {
          "output_type": "execute_result",
          "data": {
            "text/plain": [
              "array([[-0.88778575, -1.98079647, -0.34791215,  0.15634897,  1.23029068],\n",
              "       [ 1.20237985, -0.38732682, -0.30230275, -1.04855297, -1.42001794],\n",
              "       [-1.70627019,  1.9507754 , -0.50965218, -0.4380743 , -1.25279536]])"
            ]
          },
          "metadata": {},
          "execution_count": 64
        }
      ]
    },
    {
      "cell_type": "code",
      "metadata": {
        "colab": {
          "base_uri": "https://localhost:8080/"
        },
        "id": "c3nKybHG3x28",
        "outputId": "cd0b5b4d-e1dc-499f-b21c-bd7162b1f3e9"
      },
      "source": [
        "np.random.randint(10, size=10)"
      ],
      "execution_count": 65,
      "outputs": [
        {
          "output_type": "execute_result",
          "data": {
            "text/plain": [
              "array([4, 3, 7, 5, 5, 0, 1, 5, 9, 3])"
            ]
          },
          "metadata": {},
          "execution_count": 65
        }
      ]
    },
    {
      "cell_type": "code",
      "metadata": {
        "colab": {
          "base_uri": "https://localhost:8080/"
        },
        "id": "DULsy03O3z1M",
        "outputId": "f0d7a15c-d9fa-436a-e9a7-6f0499209671"
      },
      "source": [
        "np.random.randint(10, 20, size=(3, 5))"
      ],
      "execution_count": 66,
      "outputs": [
        {
          "output_type": "execute_result",
          "data": {
            "text/plain": [
              "array([[10, 15, 10, 11, 12],\n",
              "       [14, 12, 10, 13, 12],\n",
              "       [10, 17, 15, 19, 10]])"
            ]
          },
          "metadata": {},
          "execution_count": 66
        }
      ]
    },
    {
      "cell_type": "markdown",
      "metadata": {
        "id": "0h-VrnBG4LOr"
      },
      "source": [
        "샘플링"
      ]
    },
    {
      "cell_type": "code",
      "metadata": {
        "colab": {
          "base_uri": "https://localhost:8080/"
        },
        "id": "9pa3mhkl4M-O",
        "outputId": "ddb870df-fa80-49e6-ef9d-7303f2a72123"
      },
      "source": [
        "np.random.choice(5, 5, replace=False)  # shuffle 명령과 같다."
      ],
      "execution_count": 67,
      "outputs": [
        {
          "output_type": "execute_result",
          "data": {
            "text/plain": [
              "array([0, 1, 3, 4, 2])"
            ]
          },
          "metadata": {},
          "execution_count": 67
        }
      ]
    },
    {
      "cell_type": "code",
      "metadata": {
        "colab": {
          "base_uri": "https://localhost:8080/"
        },
        "id": "AOx8ZUNH4Stx",
        "outputId": "f7b20976-8cb8-4de6-92ad-cba70c3acd72"
      },
      "source": [
        "np.random.choice(5, 3, replace=False)  # 3개만 선택"
      ],
      "execution_count": 68,
      "outputs": [
        {
          "output_type": "execute_result",
          "data": {
            "text/plain": [
              "array([4, 0, 1])"
            ]
          },
          "metadata": {},
          "execution_count": 68
        }
      ]
    },
    {
      "cell_type": "code",
      "metadata": {
        "colab": {
          "base_uri": "https://localhost:8080/"
        },
        "id": "EBOHNdLI4VFI",
        "outputId": "0029cbdf-f0b7-404a-b098-3d75c30f7d87"
      },
      "source": [
        "np.random.choice(5, 10)  # 반복해서 10개 선택"
      ],
      "execution_count": 69,
      "outputs": [
        {
          "output_type": "execute_result",
          "data": {
            "text/plain": [
              "array([3, 3, 3, 2, 3, 4, 1, 2, 3, 1])"
            ]
          },
          "metadata": {},
          "execution_count": 69
        }
      ]
    },
    {
      "cell_type": "code",
      "metadata": {
        "colab": {
          "base_uri": "https://localhost:8080/"
        },
        "id": "cFrj0JNM4W6o",
        "outputId": "6bd2d6ff-fd4b-4ca1-c019-eb86114b5227"
      },
      "source": [
        "np.random.choice(5, 10, p=[0.1, 0, 0.3, 0.6, 0])  # 선택 확률을 다르게 해서 10개 선택"
      ],
      "execution_count": 70,
      "outputs": [
        {
          "output_type": "execute_result",
          "data": {
            "text/plain": [
              "array([3, 0, 2, 0, 3, 3, 3, 2, 2, 3])"
            ]
          },
          "metadata": {},
          "execution_count": 70
        }
      ]
    },
    {
      "cell_type": "markdown",
      "source": [
        "비복원추출"
      ],
      "metadata": {
        "id": "y7YxMDQaxcnK"
      }
    },
    {
      "cell_type": "code",
      "source": [
        "np.random.choice(10, 5, replace=False)"
      ],
      "metadata": {
        "colab": {
          "base_uri": "https://localhost:8080/"
        },
        "id": "FIrqYYNvxxwl",
        "outputId": "d2af1548-64f4-46ee-d211-a1650179c330"
      },
      "execution_count": 72,
      "outputs": [
        {
          "output_type": "execute_result",
          "data": {
            "text/plain": [
              "array([1, 6, 5, 4, 2])"
            ]
          },
          "metadata": {},
          "execution_count": 72
        }
      ]
    },
    {
      "cell_type": "code",
      "source": [
        "np.random.choice(10, 5, replace=False)"
      ],
      "metadata": {
        "colab": {
          "base_uri": "https://localhost:8080/"
        },
        "id": "ZQgjeBerxx0Q",
        "outputId": "cf0b8fea-d988-4ea9-90ef-efce2e39db69"
      },
      "execution_count": 73,
      "outputs": [
        {
          "output_type": "execute_result",
          "data": {
            "text/plain": [
              "array([7, 1, 2, 8, 6])"
            ]
          },
          "metadata": {},
          "execution_count": 73
        }
      ]
    },
    {
      "cell_type": "markdown",
      "source": [
        "복원추출"
      ],
      "metadata": {
        "id": "pl-0mIrZx5qS"
      }
    },
    {
      "cell_type": "code",
      "source": [
        "np.random.choice(10, 5)"
      ],
      "metadata": {
        "colab": {
          "base_uri": "https://localhost:8080/"
        },
        "id": "VhMQdpoXxZla",
        "outputId": "f5211d49-9c12-43e9-d75d-b52f65755990"
      },
      "execution_count": 71,
      "outputs": [
        {
          "output_type": "execute_result",
          "data": {
            "text/plain": [
              "array([8, 8, 2, 3, 2])"
            ]
          },
          "metadata": {},
          "execution_count": 71
        }
      ]
    },
    {
      "cell_type": "code",
      "source": [
        "np.random.choice(10, 5, replace=True)"
      ],
      "metadata": {
        "colab": {
          "base_uri": "https://localhost:8080/"
        },
        "id": "wb6pDZpmxx4R",
        "outputId": "a3dd58bd-c579-45a7-c548-f3080022ad66"
      },
      "execution_count": 74,
      "outputs": [
        {
          "output_type": "execute_result",
          "data": {
            "text/plain": [
              "array([9, 8, 0, 8, 5])"
            ]
          },
          "metadata": {},
          "execution_count": 74
        }
      ]
    },
    {
      "cell_type": "markdown",
      "metadata": {
        "id": "RoW9C-Qu8R95"
      },
      "source": [
        "# scipy"
      ]
    },
    {
      "cell_type": "markdown",
      "metadata": {
        "id": "Ae9FDIcE8VXk"
      },
      "source": [
        "scipy란?\n",
        "과학 기술 계산용 함수 및 알고리즘을 제공한다.\n",
        "cipy subpackages\n",
        "scipy.stats\n",
        "\n",
        "통계 Statistics\n",
        "scipy.constants\n",
        "\n",
        "물리/수학 상수 Physical and mathematical constants\n",
        "scipy.special\n",
        "\n",
        "수학 함수 Any special mathematical functions\n",
        "scipy.linalg\n",
        "\n",
        "선형 대수 Linear algebra routines\n",
        "scipy.interpolate\n",
        "\n",
        "보간 Interpolation\n",
        "scipy.optimize\n",
        "\n",
        "최적화 Optimization\n",
        "scipy.fftpack\n",
        "\n",
        "Fast Fourier transforms → 음성(소리 신호 처리)"
      ]
    },
    {
      "cell_type": "markdown",
      "metadata": {
        "id": "zB6FadE68bWG"
      },
      "source": [
        "1. scipy.stats 통계"
      ]
    },
    {
      "cell_type": "code",
      "metadata": {
        "id": "UOFITG7G8fbE"
      },
      "source": [
        "# scipy.stats를 사용하려면 아래 seaborn과 함께 import를 해주어야만 실행이 된다!\n",
        "\n",
        "import scipy as sp\n",
        "import seaborn as sns\n",
        "import numpy as np\n",
        "import matplotlib as mpl\n",
        "import matplotlib.pylab as plt\n",
        "%matplotlib inline"
      ],
      "execution_count": 75,
      "outputs": []
    },
    {
      "cell_type": "code",
      "metadata": {
        "colab": {
          "base_uri": "https://localhost:8080/"
        },
        "id": "Y4qsQ5kn8oeR",
        "outputId": "88967d99-53d0-4b89-eaa3-3b7c6fc36f4a"
      },
      "source": [
        "# random variable 사용 방법\n",
        "\n",
        "rv = sp.stats.norm(loc=10, scale=10)\n",
        "rv.rvs(size=(3,10), random_state=1)"
      ],
      "execution_count": 76,
      "outputs": [
        {
          "output_type": "execute_result",
          "data": {
            "text/plain": [
              "array([[ 26.24345364,   3.88243586,   4.71828248,  -0.72968622,\n",
              "         18.65407629, -13.01538697,  27.44811764,   2.38793099,\n",
              "         13.19039096,   7.50629625],\n",
              "       [ 24.62107937, -10.60140709,   6.77582796,   6.15945645,\n",
              "         21.33769442,  -0.99891267,   8.27571792,   1.22141582,\n",
              "         10.42213747,  15.82815214],\n",
              "       [ -1.00619177,  21.4472371 ,  19.01590721,  15.02494339,\n",
              "         19.00855949,   3.16272141,   8.77109774,   0.64230566,\n",
              "          7.3211192 ,  15.30355467]])"
            ]
          },
          "metadata": {},
          "execution_count": 76
        }
      ]
    },
    {
      "cell_type": "code",
      "metadata": {
        "colab": {
          "base_uri": "https://localhost:8080/",
          "height": 320
        },
        "id": "Ex9BPCoi90Ow",
        "outputId": "f45c2ec9-bbaf-4fcb-854f-3396f52515cd"
      },
      "source": [
        "sns.distplot(rv.rvs(size=10000, random_state=1))\n",
        "plt.show()"
      ],
      "execution_count": 77,
      "outputs": [
        {
          "output_type": "stream",
          "name": "stderr",
          "text": [
            "/usr/local/lib/python3.7/dist-packages/seaborn/distributions.py:2619: FutureWarning: `distplot` is a deprecated function and will be removed in a future version. Please adapt your code to use either `displot` (a figure-level function with similar flexibility) or `histplot` (an axes-level function for histograms).\n",
            "  warnings.warn(msg, FutureWarning)\n"
          ]
        },
        {
          "output_type": "display_data",
          "data": {
            "image/png": "[encoded data removed]",
            "text/plain": [
              "<Figure size 432x288 with 1 Axes>"
            ]
          },
          "metadata": {
            "needs_background": "light"
          }
        }
      ]
    },
    {
      "cell_type": "code",
      "metadata": {
        "colab": {
          "base_uri": "https://localhost:8080/",
          "height": 265
        },
        "id": "O1cNne9192du",
        "outputId": "3b7d77fc-1dea-440b-e083-6b9da820935d"
      },
      "source": [
        "# -40 ~ 60에서 1,000개 점\n",
        "xx = np.linspace(-40, 60, 1000)\n",
        "pdf = rv.pdf(xx)\n",
        "plt.plot(xx, pdf)\n",
        "plt.show()"
      ],
      "execution_count": 78,
      "outputs": [
        {
          "output_type": "display_data",
          "data": {
            "image/png": "[encoded data removed]",
            "text/plain": [
              "<Figure size 432x288 with 1 Axes>"
            ]
          },
          "metadata": {
            "needs_background": "light"
          }
        }
      ]
    },
    {
      "cell_type": "code",
      "metadata": {
        "colab": {
          "base_uri": "https://localhost:8080/",
          "height": 265
        },
        "id": "UVIh8H5m94a3",
        "outputId": "f03d1a75-dc30-4549-a00d-978e3c712be3"
      },
      "source": [
        "cdf = rv.cdf(xx)\n",
        "plt.plot(xx, cdf)\n",
        "plt.show()"
      ],
      "execution_count": 79,
      "outputs": [
        {
          "output_type": "display_data",
          "data": {
            "image/png": "[encoded data removed]",
            "text/plain": [
              "<Figure size 432x288 with 1 Axes>"
            ]
          },
          "metadata": {
            "needs_background": "light"
          }
        }
      ]
    },
    {
      "cell_type": "markdown",
      "metadata": {
        "id": "cY6X_GMK_fF9"
      },
      "source": [
        "2. scipy.constants 상수"
      ]
    },
    {
      "cell_type": "code",
      "metadata": {
        "colab": {
          "base_uri": "https://localhost:8080/"
        },
        "id": "fkjLEtw0_jbx",
        "outputId": "d5dfff2a-5822-45fa-ebad-4b97368e86f9"
      },
      "source": [
        "sp.pi"
      ],
      "execution_count": 80,
      "outputs": [
        {
          "output_type": "execute_result",
          "data": {
            "text/plain": [
              "3.141592653589793"
            ]
          },
          "metadata": {},
          "execution_count": 80
        }
      ]
    },
    {
      "cell_type": "code",
      "metadata": {
        "id": "10dwEfWZ_mmY"
      },
      "source": [
        "import scipy.constants"
      ],
      "execution_count": 81,
      "outputs": []
    },
    {
      "cell_type": "code",
      "metadata": {
        "colab": {
          "base_uri": "https://localhost:8080/"
        },
        "id": "gEd7u2A7_oZ3",
        "outputId": "ba87e14b-992d-4728-ee13-ee43d403f594"
      },
      "source": [
        "# speed of light (광속의 상수)\n",
        "sp.constants.c"
      ],
      "execution_count": 82,
      "outputs": [
        {
          "output_type": "execute_result",
          "data": {
            "text/plain": [
              "299792458.0"
            ]
          },
          "metadata": {},
          "execution_count": 82
        }
      ]
    },
    {
      "cell_type": "markdown",
      "metadata": {
        "id": "ZnArrMjA_qfo"
      },
      "source": [
        "3. scipy.special 수학 함수"
      ]
    },
    {
      "cell_type": "code",
      "metadata": {
        "colab": {
          "base_uri": "https://localhost:8080/",
          "height": 281
        },
        "id": "SXWikL91_vL-",
        "outputId": "507b5be3-7fba-4d03-9b68-495984563c67"
      },
      "source": [
        "x = np.linspace(-3, 3, 1000)\n",
        "\n",
        "# erorr function\n",
        "y1 = sp.special.erf(x)\n",
        "a = plt.subplot(211)\n",
        "plt.plot(x, y1)\n",
        "plt.title(\"erf\")\n",
        "# x_tick None\n",
        "a.xaxis.set_ticklabels([])\n",
        "\n",
        "# logistic\n",
        "y2 = sp.special.expit(x)\n",
        "plt.subplot(212)\n",
        "plt.plot(x, y2)\n",
        "plt.title(\"logistic\")\n",
        "plt.show()"
      ],
      "execution_count": 83,
      "outputs": [
        {
          "output_type": "display_data",
          "data": {
            "image/png": "[encoded data removed]",
            "text/plain": [
              "<Figure size 432x288 with 2 Axes>"
            ]
          },
          "metadata": {
            "needs_background": "light"
          }
        }
      ]
    },
    {
      "cell_type": "markdown",
      "metadata": {
        "id": "ZrUpagE0_zCe"
      },
      "source": [
        "4.scipy.linalg 선형대수"
      ]
    },
    {
      "cell_type": "code",
      "metadata": {
        "colab": {
          "base_uri": "https://localhost:8080/"
        },
        "id": "L1pdX3nr_3GG",
        "outputId": "6a49a6ef-8174-4e4e-df9c-3ba88a1a5500"
      },
      "source": [
        "# inverse(역행렬)\n",
        "A = np.array([[1, 2],\n",
        "              [3, 4]])\n",
        "sp.linalg.inv(A)  "
      ],
      "execution_count": 84,
      "outputs": [
        {
          "output_type": "execute_result",
          "data": {
            "text/plain": [
              "array([[-2. ,  1. ],\n",
              "       [ 1.5, -0.5]])"
            ]
          },
          "metadata": {},
          "execution_count": 84
        }
      ]
    },
    {
      "cell_type": "code",
      "metadata": {
        "colab": {
          "base_uri": "https://localhost:8080/"
        },
        "id": "bJxfM0l4_6lN",
        "outputId": "e240b91b-b3b1-4a92-c71f-89840134b117"
      },
      "source": [
        "# determinant\n",
        "sp.linalg.det(A)  "
      ],
      "execution_count": 85,
      "outputs": [
        {
          "output_type": "execute_result",
          "data": {
            "text/plain": [
              "-2.0"
            ]
          },
          "metadata": {},
          "execution_count": 85
        }
      ]
    },
    {
      "cell_type": "markdown",
      "metadata": {
        "id": "3SzaG4Op_8BV"
      },
      "source": [
        "5.scipy.interpolate 보간"
      ]
    },
    {
      "cell_type": "code",
      "metadata": {
        "colab": {
          "base_uri": "https://localhost:8080/",
          "height": 265
        },
        "id": "rEw_rwV6_89A",
        "outputId": "d04cf666-79ed-47db-e6d8-8f679e31b07d"
      },
      "source": [
        "# interp1d → 1차원 보간 / interp2d → 2차원 보간\n",
        "from scipy.interpolate import interp1d\n",
        "\n",
        "x = np.linspace(0, 10, num=11, endpoint=True)\n",
        "y = np.cos(-x**2/9.0)\n",
        "\n",
        "f = interp1d(x, y)\n",
        "# kind='cubic' → 선형보다 부드럽게\n",
        "f2 = interp1d(x, y, kind='cubic')\n",
        "\n",
        "xnew = np.linspace(0, 10, num=41)\n",
        "plt.plot(x, y, 'o', xnew, f(xnew), '-', xnew, f2(xnew), '--')\n",
        "plt.legend(['data', 'linear', 'cubic'])\n",
        "plt.show()"
      ],
      "execution_count": 86,
      "outputs": [
        {
          "output_type": "display_data",
          "data": {
            "image/png": "[encoded data removed]",
            "text/plain": [
              "<Figure size 432x288 with 1 Axes>"
            ]
          },
          "metadata": {
            "needs_background": "light"
          }
        }
      ]
    },
    {
      "cell_type": "code",
      "metadata": {
        "colab": {
          "base_uri": "https://localhost:8080/",
          "height": 268
        },
        "id": "8XEs57zZ__K4",
        "outputId": "23aba81f-2c53-4275-c197-b339e6e57b57"
      },
      "source": [
        "# mgrid (-1, 1) 20조각으로 나눠라\n",
        "## shape을 서로 맞춰준다. (가로, 세로), 3차원 그림을 그릴 때, 꼭 알아야 한다.\n",
        "\n",
        "x, y = np.mgrid[-1:1:20j, -1:1:20j]\n",
        "z = (x+y) * np.exp(-6.0*(x*x+y*y))\n",
        "plt.pcolormesh(x, y, z)\n",
        "plt.show()"
      ],
      "execution_count": 87,
      "outputs": [
        {
          "output_type": "display_data",
          "data": {
            "image/png": "[encoded data removed]",
            "text/plain": [
              "<Figure size 432x288 with 1 Axes>"
            ]
          },
          "metadata": {
            "needs_background": "light"
          }
        }
      ]
    },
    {
      "cell_type": "code",
      "metadata": {
        "colab": {
          "base_uri": "https://localhost:8080/",
          "height": 268
        },
        "id": "oGXcwhr9AA1I",
        "outputId": "f9d38edc-7595-409b-b3e4-595ba90cccb5"
      },
      "source": [
        "# mgrid (-1, 1) 100조각으로 나눠라\n",
        "xnew, ynew = np.mgrid[-1:1:100j, -1:1:100j]\n",
        "tck = sp.interpolate.bisplrep(x, y, z, s=0)\n",
        "znew = sp.interpolate.bisplev(xnew[:,0], ynew[0,:], tck)\n",
        "plt.pcolormesh(xnew, ynew, znew)\n",
        "plt.show()"
      ],
      "execution_count": 88,
      "outputs": [
        {
          "output_type": "display_data",
          "data": {
            "image/png": "[encoded data removed]",
            "text/plain": [
              "<Figure size 432x288 with 1 Axes>"
            ]
          },
          "metadata": {
            "needs_background": "light"
          }
        }
      ]
    },
    {
      "cell_type": "markdown",
      "metadata": {
        "id": "s3ZzNkzaACgK"
      },
      "source": [
        "6.scipy.optimize 최적화"
      ]
    },
    {
      "cell_type": "code",
      "metadata": {
        "id": "CG4wDUI2AENP"
      },
      "source": [
        "from scipy import optimize"
      ],
      "execution_count": 89,
      "outputs": []
    },
    {
      "cell_type": "code",
      "metadata": {
        "colab": {
          "base_uri": "https://localhost:8080/",
          "height": 265
        },
        "id": "xVA42s-DAHTb",
        "outputId": "a7e5f547-fbbd-4f55-93f0-9cae79eb270e"
      },
      "source": [
        "def f(x):\n",
        "    return x**2 + 10*np.sin(x)\n",
        "\n",
        "# np.arange(start, end, step)\n",
        "x = np.arange(-10, 10, 0.1)\n",
        "plt.plot(x, f(x))\n",
        "plt.show()"
      ],
      "execution_count": 90,
      "outputs": [
        {
          "output_type": "display_data",
          "data": {
            "image/png": "[encoded data removed]",
            "text/plain": [
              "<Figure size 432x288 with 1 Axes>"
            ]
          },
          "metadata": {
            "needs_background": "light"
          }
        }
      ]
    },
    {
      "cell_type": "code",
      "metadata": {
        "colab": {
          "base_uri": "https://localhost:8080/"
        },
        "id": "E-TTFRIgAKsJ",
        "outputId": "f2ed129c-8ad0-4e2b-c9cb-327f574fa069"
      },
      "source": [
        "# x=4부터 시작해서 최소값을 찾아라\n",
        "result = optimize.minimize(f, 4)\n",
        "print(result)\n",
        "x0 = result['x']\n",
        "x0"
      ],
      "execution_count": 91,
      "outputs": [
        {
          "output_type": "stream",
          "name": "stdout",
          "text": [
            "      fun: 8.315585579478032\n",
            " hess_inv: array([[0.118692]])\n",
            "      jac: array([3.09944153e-06])\n",
            "  message: 'Optimization terminated successfully.'\n",
            "     nfev: 15\n",
            "      nit: 3\n",
            "     njev: 5\n",
            "   status: 0\n",
            "  success: True\n",
            "        x: array([3.83746748])\n"
          ]
        },
        {
          "output_type": "execute_result",
          "data": {
            "text/plain": [
              "array([3.83746748])"
            ]
          },
          "metadata": {},
          "execution_count": 91
        }
      ]
    },
    {
      "cell_type": "code",
      "metadata": {
        "colab": {
          "base_uri": "https://localhost:8080/",
          "height": 411
        },
        "id": "3ZS-zxypANgg",
        "outputId": "0d297f54-ef60-41a8-a0e2-b84be228b440"
      },
      "source": [
        "from mpl_toolkits.mplot3d import Axes3D\n",
        "\n",
        "def sixhump(x):\n",
        "    return (4 - 2.1*x[0]**2 + x[0]**4 / 3.) * x[0]**2 + x[0] * x[1] + (-4 + 4*x[1]**2) * x[1] **2\n",
        "\n",
        "x = np.linspace(-2, 2)\n",
        "y = np.linspace(-1, 1)\n",
        "xg, yg = np.mgrid[-2:2:100j, -1:1:100j]\n",
        "\n",
        "plt.figure(figsize=(10, 7))\n",
        "\n",
        "ax = plt.subplot(111, projection='3d')\n",
        "ax.plot_surface(xg, yg, sixhump([xg, yg]), rstride=1, cstride=1, cmap=plt.cm.jet, linewidth=0,  alpha=0.7)\n",
        "ax.set_xlabel('x')\n",
        "ax.set_ylabel('y')\n",
        "plt.show()"
      ],
      "execution_count": 92,
      "outputs": [
        {
          "output_type": "display_data",
          "data": {
            "image/png": "[encoded data removed]",
            "text/plain": [
              "<Figure size 720x504 with 1 Axes>"
            ]
          },
          "metadata": {
            "needs_background": "light"
          }
        }
      ]
    },
    {
      "cell_type": "code",
      "metadata": {
        "colab": {
          "base_uri": "https://localhost:8080/"
        },
        "id": "Ow4_tU7EAXsv",
        "outputId": "8f906d7e-7dae-4de6-c55f-25d11d6730d9"
      },
      "source": [
        "x1 = optimize.minimize(sixhump, (1, 1))['x']\n",
        "x2 = optimize.minimize(sixhump, (-1, -1))['x']\n",
        "print(x1, x2)"
      ],
      "execution_count": 93,
      "outputs": [
        {
          "output_type": "stream",
          "name": "stdout",
          "text": [
            "[ 0.08984197 -0.71265635] [-0.08984198  0.71265633]\n"
          ]
        }
      ]
    },
    {
      "cell_type": "code",
      "metadata": {
        "colab": {
          "base_uri": "https://localhost:8080/",
          "height": 411
        },
        "id": "qDTXYQ4dAZjI",
        "outputId": "cd50af23-edd5-40fc-f98f-d34db3a2091b"
      },
      "source": [
        "plt.figure(figsize=(10, 7))\n",
        "\n",
        "ax = plt.subplot(111, projection='3d')\n",
        "ax.plot_surface(xg, yg, sixhump([xg, yg]), rstride=1, cstride=1, cmap=plt.cm.jet, linewidth=0,  alpha=0.3)\n",
        "ax.scatter(x1[0], x1[1], sixhump(x1), c='r', s=500)\n",
        "ax.scatter(x2[0], x2[1], sixhump(x2), c='r', s=500)\n",
        "plt.show()"
      ],
      "execution_count": 94,
      "outputs": [
        {
          "output_type": "display_data",
          "data": {
            "image/png": "[encoded data removed]",
            "text/plain": [
              "<Figure size 720x504 with 1 Axes>"
            ]
          },
          "metadata": {
            "needs_background": "light"
          }
        }
      ]
    },
    {
      "cell_type": "markdown",
      "metadata": {
        "id": "WV8MrkD7Adnz"
      },
      "source": [
        "7.scipy.fftpack 고속 퓨리에 변환 Fast Fourier transforms"
      ]
    },
    {
      "cell_type": "code",
      "metadata": {
        "colab": {
          "base_uri": "https://localhost:8080/",
          "height": 265
        },
        "id": "dKn_2OEqAe63",
        "outputId": "60d219a3-0c73-4b2c-caed-37f9de074e66"
      },
      "source": [
        "time_step = 0.02\n",
        "period = 5.\n",
        "\n",
        "time_vec = np.arange(0, 20, time_step)\n",
        "\n",
        "sig = np.sin(2 * np.pi / period * time_vec) + 0.5 * np.random.randn(time_vec.size)\n",
        "plt.plot(sig)\n",
        "plt.show()"
      ],
      "execution_count": 95,
      "outputs": [
        {
          "output_type": "display_data",
          "data": {
            "image/png": "[encoded data removed]",
            "text/plain": [
              "<Figure size 432x288 with 1 Axes>"
            ]
          },
          "metadata": {
            "needs_background": "light"
          }
        }
      ]
    },
    {
      "cell_type": "code",
      "metadata": {
        "colab": {
          "base_uri": "https://localhost:8080/",
          "height": 333
        },
        "id": "NNm_j0ydAh69",
        "outputId": "7fa1bb8d-bc1e-4b05-a25f-b2412a2953a4"
      },
      "source": [
        "import scipy.fftpack\n",
        "\n",
        "sample_freq = sp.fftpack.fftfreq(sig.size, d=time_step)\n",
        "sig_fft = sp.fftpack.fft(sig)\n",
        "pidxs = np.where(sample_freq > 0)\n",
        "\n",
        "freqs, power = sample_freq[pidxs], np.abs(sig_fft)[pidxs]\n",
        "freq = freqs[power.argmax()]\n",
        "\n",
        "plt.stem(freqs[:50], power[:50])\n",
        "plt.xlabel('Frequency [Hz]')\n",
        "plt.ylabel('plower')\n",
        "plt.show()"
      ],
      "execution_count": 96,
      "outputs": [
        {
          "output_type": "stream",
          "name": "stderr",
          "text": [
            "/usr/local/lib/python3.7/dist-packages/ipykernel_launcher.py:10: UserWarning: In Matplotlib 3.3 individual lines on a stem plot will be added as a LineCollection instead of individual lines. This significantly improves the performance of a stem plot. To remove this warning and switch to the new behaviour, set the \"use_line_collection\" keyword argument to True.\n",
            "  # Remove the CWD from sys.path while we load stuff.\n"
          ]
        },
        {
          "output_type": "display_data",
          "data": {
            "image/png": "[encoded data removed]",
            "text/plain": [
              "<Figure size 432x288 with 1 Axes>"
            ]
          },
          "metadata": {
            "needs_background": "light"
          }
        }
      ]
    },
    {
      "cell_type": "markdown",
      "metadata": {
        "id": "QqdsWMiSAqyy"
      },
      "source": [
        "# sympy"
      ]
    },
    {
      "cell_type": "code",
      "metadata": {
        "colab": {
          "base_uri": "https://localhost:8080/"
        },
        "id": "bgnOJ0KTAuBY",
        "outputId": "c757ad53-f2b2-461b-e23d-c60138df99f1"
      },
      "source": [
        "import math\n",
        "math.sqrt(2)"
      ],
      "execution_count": 97,
      "outputs": [
        {
          "output_type": "execute_result",
          "data": {
            "text/plain": [
              "1.4142135623730951"
            ]
          },
          "metadata": {},
          "execution_count": 97
        }
      ]
    },
    {
      "cell_type": "code",
      "metadata": {
        "id": "FmH46lYDAwNF"
      },
      "source": [
        "import sympy\n",
        "from sympy import *\n",
        "\n",
        "init_printing(use_latex='mathjax')"
      ],
      "execution_count": 98,
      "outputs": []
    },
    {
      "cell_type": "code",
      "metadata": {
        "colab": {
          "base_uri": "https://localhost:8080/",
          "height": 0
        },
        "id": "xahJOZdrAxwf",
        "outputId": "d7e2c80e-eb51-4789-a9aa-06530eeabd9c"
      },
      "source": [
        "sympy.sqrt(2)"
      ],
      "execution_count": 99,
      "outputs": [
        {
          "output_type": "execute_result",
          "data": {
            "text/latex": "$\\displaystyle \\sqrt{2}$",
            "text/plain": [
              "√2"
            ]
          },
          "metadata": {},
          "execution_count": 99
        }
      ]
    },
    {
      "cell_type": "code",
      "metadata": {
        "colab": {
          "base_uri": "https://localhost:8080/",
          "height": 0
        },
        "id": "42C01gUWAzKl",
        "outputId": "5dae8f20-9aac-4174-bcc0-e4a4cab80c1d"
      },
      "source": [
        "a = Rational(1,2)\n",
        "b = Rational(1,4)\n",
        "a + b"
      ],
      "execution_count": 100,
      "outputs": [
        {
          "output_type": "execute_result",
          "data": {
            "text/latex": "$\\displaystyle \\frac{3}{4}$",
            "text/plain": [
              "3/4"
            ]
          },
          "metadata": {},
          "execution_count": 100
        }
      ]
    },
    {
      "cell_type": "code",
      "metadata": {
        "colab": {
          "base_uri": "https://localhost:8080/",
          "height": 0
        },
        "id": "JSavjEriA00-",
        "outputId": "f6d50d28-f640-4353-f99a-18bade4b515f"
      },
      "source": [
        "x, y = symbols('x y')\n",
        "expr = x**2 + 2*x*y + y**2\n",
        "expr"
      ],
      "execution_count": 101,
      "outputs": [
        {
          "output_type": "execute_result",
          "data": {
            "text/latex": "$\\displaystyle x^{2} + 2 x y + y^{2}$",
            "text/plain": [
              " 2            2\n",
              "x  + 2⋅x⋅y + y "
            ]
          },
          "metadata": {},
          "execution_count": 101
        }
      ]
    },
    {
      "cell_type": "code",
      "metadata": {
        "colab": {
          "base_uri": "https://localhost:8080/",
          "height": 0
        },
        "id": "ZEjuHJs2A2KR",
        "outputId": "6b6c4200-8e8e-4c54-c56b-3ca868c6d846"
      },
      "source": [
        "# 인수분해\n",
        "factor(expr)"
      ],
      "execution_count": 102,
      "outputs": [
        {
          "output_type": "execute_result",
          "data": {
            "text/latex": "$\\displaystyle \\left(x + y\\right)^{2}$",
            "text/plain": [
              "       2\n",
              "(x + y) "
            ]
          },
          "metadata": {},
          "execution_count": 102
        }
      ]
    },
    {
      "cell_type": "code",
      "metadata": {
        "colab": {
          "base_uri": "https://localhost:8080/",
          "height": 0
        },
        "id": "UW09CvxxA3m1",
        "outputId": "c04304dc-35fa-494d-9adc-3f8a047c4521"
      },
      "source": [
        "# 식 전개\n",
        "expand((x + y)**3)"
      ],
      "execution_count": 103,
      "outputs": [
        {
          "output_type": "execute_result",
          "data": {
            "text/latex": "$\\displaystyle x^{3} + 3 x^{2} y + 3 x y^{2} + y^{3}$",
            "text/plain": [
              " 3      2          2    3\n",
              "x  + 3⋅x ⋅y + 3⋅x⋅y  + y "
            ]
          },
          "metadata": {},
          "execution_count": 103
        }
      ]
    },
    {
      "cell_type": "code",
      "metadata": {
        "colab": {
          "base_uri": "https://localhost:8080/",
          "height": 0
        },
        "id": "wyL1KKXFA41i",
        "outputId": "b0fc9960-680e-4914-cf29-e7ebcff805b9"
      },
      "source": [
        "x, t, z, nu = symbols('x t z nu')\n",
        "expr = sin(x)*exp(x)\n",
        "expr"
      ],
      "execution_count": 104,
      "outputs": [
        {
          "output_type": "execute_result",
          "data": {
            "text/latex": "$\\displaystyle e^{x} \\sin{\\left(x \\right)}$",
            "text/plain": [
              " x       \n",
              "ℯ ⋅sin(x)"
            ]
          },
          "metadata": {},
          "execution_count": 104
        }
      ]
    },
    {
      "cell_type": "code",
      "metadata": {
        "colab": {
          "base_uri": "https://localhost:8080/",
          "height": 0
        },
        "id": "2JVNwJ4fA6N0",
        "outputId": "a60b497c-e6b6-469e-8f52-e95a4cd7ed1b"
      },
      "source": [
        "# 함수 expr를 x에 대해 미분해라.\n",
        "diff(expr, x)"
      ],
      "execution_count": 105,
      "outputs": [
        {
          "output_type": "execute_result",
          "data": {
            "text/latex": "$\\displaystyle e^{x} \\sin{\\left(x \\right)} + e^{x} \\cos{\\left(x \\right)}$",
            "text/plain": [
              " x           x       \n",
              "ℯ ⋅sin(x) + ℯ ⋅cos(x)"
            ]
          },
          "metadata": {},
          "execution_count": 105
        }
      ]
    },
    {
      "cell_type": "code",
      "metadata": {
        "colab": {
          "base_uri": "https://localhost:8080/",
          "height": 0
        },
        "id": "9uKHuVAaA7jF",
        "outputId": "e1950385-8302-4dc1-cb8d-c81ef52b4e50"
      },
      "source": [
        "# x에 대해 적분해라.\n",
        "diff(expr, x)\n",
        "integrate(exp(x)*sin(x) + exp(x)*cos(x), x)"
      ],
      "execution_count": 106,
      "outputs": [
        {
          "output_type": "execute_result",
          "data": {
            "text/latex": "$\\displaystyle e^{x} \\sin{\\left(x \\right)}$",
            "text/plain": [
              " x       \n",
              "ℯ ⋅sin(x)"
            ]
          },
          "metadata": {},
          "execution_count": 106
        }
      ]
    },
    {
      "cell_type": "markdown",
      "source": [
        ""
      ],
      "metadata": {
        "id": "aYdFYbXjhGND"
      }
    },
    {
      "cell_type": "markdown",
      "metadata": {
        "school_cell_uuid": "dc6b83ffa8d24ceab4fc4ffa0d5ad13c",
        "id": "QYfj8zTuM7gb"
      },
      "source": [
        "# 4.1 판다스 패키지의 소개"
      ]
    },
    {
      "cell_type": "markdown",
      "metadata": {
        "id": "VjqAQsDbM7ge"
      },
      "source": [
        "## 판다스 패키지 임포트"
      ]
    },
    {
      "cell_type": "code",
      "metadata": {
        "id": "oSv3sKodM7ge"
      },
      "source": [
        "import pandas as pd"
      ],
      "execution_count": 107,
      "outputs": []
    },
    {
      "cell_type": "markdown",
      "metadata": {
        "school_cell_uuid": "a6ed8b46916e4ef1b2bf35d32f40067a",
        "id": "1zVTC6awM7gg"
      },
      "source": [
        "## 시리즈 클래스"
      ]
    },
    {
      "cell_type": "markdown",
      "metadata": {
        "school_cell_uuid": "5abd1aa1c4d24870a06f9815af803680",
        "id": "fD9oB8n_M7gh"
      },
      "source": [
        "### 시리즈 생성"
      ]
    },
    {
      "cell_type": "code",
      "metadata": {
        "colab": {
          "base_uri": "https://localhost:8080/"
        },
        "id": "QpYdvdQ8NkXl",
        "outputId": "2dc70c1f-9d49-49b9-a89b-250ae32471b8"
      },
      "source": [
        "# 인덱스 없이 시리즈 생성\n",
        "S1=pd.Series(\n",
        "    range(11,15)\n",
        ")\n",
        "\n",
        "S1"
      ],
      "execution_count": 108,
      "outputs": [
        {
          "output_type": "execute_result",
          "data": {
            "text/plain": [
              "0    11\n",
              "1    12\n",
              "2    13\n",
              "3    14\n",
              "dtype: int64"
            ]
          },
          "metadata": {},
          "execution_count": 108
        }
      ]
    },
    {
      "cell_type": "code",
      "metadata": {
        "colab": {
          "base_uri": "https://localhost:8080/"
        },
        "id": "0PSx_H9xNqHg",
        "outputId": "96136bbc-a02a-4601-8bf1-1e70b153c5b3"
      },
      "source": [
        "# 인덱스 있는 상태에서 시리즈 생성\n",
        "S2=pd.Series(\n",
        "    [1,2,3,4],\n",
        "    index=[\"봄\",\"여름\",\"가을\",\"겨울\"]\n",
        ")\n",
        "\n",
        "S2"
      ],
      "execution_count": 109,
      "outputs": [
        {
          "output_type": "execute_result",
          "data": {
            "text/plain": [
              "봄     1\n",
              "여름    2\n",
              "가을    3\n",
              "겨울    4\n",
              "dtype: int64"
            ]
          },
          "metadata": {},
          "execution_count": 109
        }
      ]
    },
    {
      "cell_type": "markdown",
      "metadata": {
        "id": "p0kx3t0pNsX5"
      },
      "source": [
        "*시리즈에* 대한 인덱스와 값 조회"
      ]
    },
    {
      "cell_type": "code",
      "metadata": {
        "colab": {
          "base_uri": "https://localhost:8080/"
        },
        "id": "k3Cae9pmNuUS",
        "outputId": "7a11e89f-1681-499a-d127-efa24dfa2324"
      },
      "source": [
        "#S1\n",
        "print(S1.index)\n",
        "print(S1.values)"
      ],
      "execution_count": 110,
      "outputs": [
        {
          "output_type": "stream",
          "name": "stdout",
          "text": [
            "RangeIndex(start=0, stop=4, step=1)\n",
            "[11 12 13 14]\n"
          ]
        }
      ]
    },
    {
      "cell_type": "code",
      "metadata": {
        "colab": {
          "base_uri": "https://localhost:8080/"
        },
        "id": "2L_iVrZXNm5f",
        "outputId": "321ddd46-451c-42aa-b75f-93ee1af24bc8"
      },
      "source": [
        "#S2\n",
        "print(S2.index)\n",
        "print(S2.values)"
      ],
      "execution_count": 111,
      "outputs": [
        {
          "output_type": "stream",
          "name": "stdout",
          "text": [
            "Index(['봄', '여름', '가을', '겨울'], dtype='object')\n",
            "[1 2 3 4]\n"
          ]
        }
      ]
    },
    {
      "cell_type": "markdown",
      "metadata": {
        "id": "8wswvF-JN3xp"
      },
      "source": [
        "시리즈 인덱싱"
      ]
    },
    {
      "cell_type": "code",
      "metadata": {
        "colab": {
          "base_uri": "https://localhost:8080/"
        },
        "id": "l8LkC1g3N4Xo",
        "outputId": "35353128-ea54-4237-e62b-3f492e518ee5"
      },
      "source": [
        "# 봄과 겨울에 대한 평균\n",
        "# 번호\n",
        "print((S2[0]+S2[3])/2)\n",
        "# 이름\n",
        "print((S2[\"봄\"]+S2[\"겨울\"])/2)"
      ],
      "execution_count": 112,
      "outputs": [
        {
          "output_type": "stream",
          "name": "stdout",
          "text": [
            "2.5\n",
            "2.5\n"
          ]
        }
      ]
    },
    {
      "cell_type": "markdown",
      "metadata": {
        "id": "l6ASd-R3NzO4"
      },
      "source": [
        "시리즈에 대한 명명"
      ]
    },
    {
      "cell_type": "code",
      "metadata": {
        "colab": {
          "base_uri": "https://localhost:8080/"
        },
        "id": "2BDXblYfN06I",
        "outputId": "5e9c7156-c1f7-4bde-cc66-c1ec6fccf3ec"
      },
      "source": [
        "# 시리즈에 명명\n",
        "S2.name=\"계절정보\"\n",
        "\n",
        "# 인덱스에 대한 명명\n",
        "S2.index.name=\"계절\"\n",
        "# S2.values.name=\"계절코드\" 에러남\n",
        "\n",
        "S2"
      ],
      "execution_count": 113,
      "outputs": [
        {
          "output_type": "execute_result",
          "data": {
            "text/plain": [
              "계절\n",
              "봄     1\n",
              "여름    2\n",
              "가을    3\n",
              "겨울    4\n",
              "Name: 계절정보, dtype: int64"
            ]
          },
          "metadata": {},
          "execution_count": 113
        }
      ]
    },
    {
      "cell_type": "markdown",
      "metadata": {
        "school_cell_uuid": "3726aba0c5734c22a8ed620db33c3074",
        "id": "v_nYg-bTM7gx"
      },
      "source": [
        "### 데이터의 갱신, 추가, 삭제"
      ]
    },
    {
      "cell_type": "markdown",
      "metadata": {
        "school_cell_uuid": "5bdb56ee5555453e84d5f9a7956b1cae",
        "id": "EQb9MqTgM7gx"
      },
      "source": [
        "인덱싱을 이용하면 딕셔너리처럼 데이터를 갱신(update)하거나 추가(add)할 수 있다."
      ]
    },
    {
      "cell_type": "code",
      "metadata": {
        "school_cell_uuid": "225cd381ff2c4cfca1c4f0519ea257d5",
        "colab": {
          "base_uri": "https://localhost:8080/"
        },
        "id": "_oZmuOW1M7gx",
        "outputId": "2c99e14d-db62-45d0-bbad-d032541bb411"
      },
      "source": [
        "S2[\"봄\"] = 11\n",
        "S2"
      ],
      "execution_count": 116,
      "outputs": [
        {
          "output_type": "execute_result",
          "data": {
            "text/plain": [
              "계절\n",
              "여름     2\n",
              "가을     3\n",
              "겨울     4\n",
              "봄     11\n",
              "Name: 계절정보, dtype: int64"
            ]
          },
          "metadata": {},
          "execution_count": 116
        }
      ]
    },
    {
      "cell_type": "markdown",
      "metadata": {
        "school_cell_uuid": "dd1d397fd51a4926b11f2a2048a7fea9",
        "id": "lrgLfarrM7gy"
      },
      "source": [
        "데이터를 삭제할 때도 딕셔너리처럼 ``del`` 명령을 사용한다."
      ]
    },
    {
      "cell_type": "code",
      "metadata": {
        "school_cell_uuid": "8bde53108bf44e1dbade9d5074fb488b",
        "colab": {
          "base_uri": "https://localhost:8080/"
        },
        "id": "K7jYo4hoM7gy",
        "outputId": "be94de1d-b120-4fab-92da-7d66d0db3dba"
      },
      "source": [
        "del S2[\"봄\"]\n",
        "S2"
      ],
      "execution_count": 117,
      "outputs": [
        {
          "output_type": "execute_result",
          "data": {
            "text/plain": [
              "계절\n",
              "여름    2\n",
              "가을    3\n",
              "겨울    4\n",
              "Name: 계절정보, dtype: int64"
            ]
          },
          "metadata": {},
          "execution_count": 117
        }
      ]
    },
    {
      "cell_type": "markdown",
      "metadata": {
        "school_cell_uuid": "79de6d0a0c8b499c8163397ada893f78",
        "id": "CULUqxKkM7gy"
      },
      "source": [
        "## 데이터프레임 클래스"
      ]
    },
    {
      "cell_type": "markdown",
      "metadata": {
        "school_cell_uuid": "0107de19770349c7857370bad3bae07c",
        "id": "hnInJ6TIM7gz"
      },
      "source": [
        "### 데이터프레임 생성"
      ]
    },
    {
      "cell_type": "code",
      "metadata": {
        "colab": {
          "base_uri": "https://localhost:8080/",
          "height": 175
        },
        "id": "_9p74IbrQn4a",
        "outputId": "785ab404-9b78-4ae9-83ef-7fa74a2fb955"
      },
      "source": [
        "DF1=pd.DataFrame(\n",
        "    {                \n",
        "        \"2015\": [9904312, 3448737, 2890451, 2466052],\n",
        "        \"2010\": [9631482, 3393191, 2632035, 2431774],\n",
        "        \"2005\": [9762546, 3512547, 2517680, 2456016],\n",
        "        \"2000\": [9853972, 3655437, 2466338, 2473990],\n",
        "        \"지역\": [\"수도권\", \"경상권\", \"수도권\", \"경상권\"],\n",
        "        \"2010-2015 증가율\": [0.0283, 0.0163, 0.0982, 0.0141]\n",
        "    }\n",
        ")\n",
        "\n",
        "DF1"
      ],
      "execution_count": 133,
      "outputs": [
        {
          "output_type": "execute_result",
          "data": {
            "text/html": [
              "\n",
              "  <div id=\"df-2a2390d9-a7e8-4d2b-9495-74670b90fc1f\">\n",
              "    <div class=\"colab-df-container\">\n",
              "      <div>\n",
              "<style scoped>\n",
              "    .dataframe tbody tr th:only-of-type {\n",
              "        vertical-align: middle;\n",
              "    }\n",
              "\n",
              "    .dataframe tbody tr th {\n",
              "        vertical-align: top;\n",
              "    }\n",
              "\n",
              "    .dataframe thead th {\n",
              "        text-align: right;\n",
              "    }\n",
              "</style>\n",
              "<table border=\"1\" class=\"dataframe\">\n",
              "  <thead>\n",
              "    <tr style=\"text-align: right;\">\n",
              "      <th></th>\n",
              "      <th>2015</th>\n",
              "      <th>2010</th>\n",
              "      <th>2005</th>\n",
              "      <th>2000</th>\n",
              "      <th>지역</th>\n",
              "      <th>2010-2015 증가율</th>\n",
              "    </tr>\n",
              "  </thead>\n",
              "  <tbody>\n",
              "    <tr>\n",
              "      <th>0</th>\n",
              "      <td>9904312</td>\n",
              "      <td>9631482</td>\n",
              "      <td>9762546</td>\n",
              "      <td>9853972</td>\n",
              "      <td>수도권</td>\n",
              "      <td>0.0283</td>\n",
              "    </tr>\n",
              "    <tr>\n",
              "      <th>1</th>\n",
              "      <td>3448737</td>\n",
              "      <td>3393191</td>\n",
              "      <td>3512547</td>\n",
              "      <td>3655437</td>\n",
              "      <td>경상권</td>\n",
              "      <td>0.0163</td>\n",
              "    </tr>\n",
              "    <tr>\n",
              "      <th>2</th>\n",
              "      <td>2890451</td>\n",
              "      <td>2632035</td>\n",
              "      <td>2517680</td>\n",
              "      <td>2466338</td>\n",
              "      <td>수도권</td>\n",
              "      <td>0.0982</td>\n",
              "    </tr>\n",
              "    <tr>\n",
              "      <th>3</th>\n",
              "      <td>2466052</td>\n",
              "      <td>2431774</td>\n",
              "      <td>2456016</td>\n",
              "      <td>2473990</td>\n",
              "      <td>경상권</td>\n",
              "      <td>0.0141</td>\n",
              "    </tr>\n",
              "  </tbody>\n",
              "</table>\n",
              "</div>\n",
              "      <button class=\"colab-df-convert\" onclick=\"convertToInteractive('df-2a2390d9-a7e8-4d2b-9495-74670b90fc1f')\"\n",
              "              title=\"Convert this dataframe to an interactive table.\"\n",
              "              style=\"display:none;\">\n",
              "        \n",
              "  <svg xmlns=\"http://www.w3.org/2000/svg\" height=\"24px\"viewBox=\"0 0 24 24\"\n",
              "       width=\"24px\">\n",
              "    <path d=\"M0 0h24v24H0V0z\" fill=\"none\"/>\n",
              "    <path d=\"M18.56 5.44l.94 2.06.94-2.06 2.06-.94-2.06-.94-.94-2.06-.94 2.06-2.06.94zm-11 1L8.5 8.5l.94-2.06 2.06-.94-2.06-.94L8.5 2.5l-.94 2.06-2.06.94zm10 10l.94 2.06.94-2.06 2.06-.94-2.06-.94-.94-2.06-.94 2.06-2.06.94z\"/><path d=\"M17.41 7.96l-1.37-1.37c-.4-.4-.92-.59-1.43-.59-.52 0-1.04.2-1.43.59L10.3 9.45l-7.72 7.72c-.78.78-.78 2.05 0 2.83L4 21.41c.39.39.9.59 1.41.59.51 0 1.02-.2 1.41-.59l7.78-7.78 2.81-2.81c.8-.78.8-2.07 0-2.86zM5.41 20L4 18.59l7.72-7.72 1.47 1.35L5.41 20z\"/>\n",
              "  </svg>\n",
              "      </button>\n",
              "      \n",
              "  <style>\n",
              "    .colab-df-container {\n",
              "      display:flex;\n",
              "      flex-wrap:wrap;\n",
              "      gap: 12px;\n",
              "    }\n",
              "\n",
              "    .colab-df-convert {\n",
              "      background-color: #E8F0FE;\n",
              "      border: none;\n",
              "      border-radius: 50%;\n",
              "      cursor: pointer;\n",
              "      display: none;\n",
              "      fill: #1967D2;\n",
              "      height: 32px;\n",
              "      padding: 0 0 0 0;\n",
              "      width: 32px;\n",
              "    }\n",
              "\n",
              "    .colab-df-convert:hover {\n",
              "      background-color: #E2EBFA;\n",
              "      box-shadow: 0px 1px 2px rgba(60, 64, 67, 0.3), 0px 1px 3px 1px rgba(60, 64, 67, 0.15);\n",
              "      fill: #174EA6;\n",
              "    }\n",
              "\n",
              "    [theme=dark] .colab-df-convert {\n",
              "      background-color: #3B4455;\n",
              "      fill: #D2E3FC;\n",
              "    }\n",
              "\n",
              "    [theme=dark] .colab-df-convert:hover {\n",
              "      background-color: #434B5C;\n",
              "      box-shadow: 0px 1px 3px 1px rgba(0, 0, 0, 0.15);\n",
              "      filter: drop-shadow(0px 1px 2px rgba(0, 0, 0, 0.3));\n",
              "      fill: #FFFFFF;\n",
              "    }\n",
              "  </style>\n",
              "\n",
              "      <script>\n",
              "        const buttonEl =\n",
              "          document.querySelector('#df-2a2390d9-a7e8-4d2b-9495-74670b90fc1f button.colab-df-convert');\n",
              "        buttonEl.style.display =\n",
              "          google.colab.kernel.accessAllowed ? 'block' : 'none';\n",
              "\n",
              "        async function convertToInteractive(key) {\n",
              "          const element = document.querySelector('#df-2a2390d9-a7e8-4d2b-9495-74670b90fc1f');\n",
              "          const dataTable =\n",
              "            await google.colab.kernel.invokeFunction('convertToInteractive',\n",
              "                                                     [key], {});\n",
              "          if (!dataTable) return;\n",
              "\n",
              "          const docLinkHtml = 'Like what you see? Visit the ' +\n",
              "            '<a target=\"_blank\" href=https://colab.research.google.com/notebooks/data_table.ipynb>data table notebook</a>'\n",
              "            + ' to learn more about interactive tables.';\n",
              "          element.innerHTML = '';\n",
              "          dataTable['output_type'] = 'display_data';\n",
              "          await google.colab.output.renderOutput(dataTable, element);\n",
              "          const docLink = document.createElement('div');\n",
              "          docLink.innerHTML = docLinkHtml;\n",
              "          element.appendChild(docLink);\n",
              "        }\n",
              "      </script>\n",
              "    </div>\n",
              "  </div>\n",
              "  "
            ],
            "text/plain": [
              "      2015     2010     2005     2000   지역  2010-2015 증가율\n",
              "0  9904312  9631482  9762546  9853972  수도권         0.0283\n",
              "1  3448737  3393191  3512547  3655437  경상권         0.0163\n",
              "2  2890451  2632035  2517680  2466338  수도권         0.0982\n",
              "3  2466052  2431774  2456016  2473990  경상권         0.0141"
            ]
          },
          "metadata": {},
          "execution_count": 133
        }
      ]
    },
    {
      "cell_type": "code",
      "metadata": {
        "colab": {
          "base_uri": "https://localhost:8080/",
          "height": 175
        },
        "id": "DcJfSsq6QoBO",
        "outputId": "53fca22a-faa8-4d0e-93fb-ec157d9c2201"
      },
      "source": [
        "DF2=pd.DataFrame(\n",
        "    {                \n",
        "        \"2015\": [9904312, 3448737, 2890451, 2466052],\n",
        "        \"2010\": [9631482, 3393191, 2632035, 2431774],\n",
        "        \"2005\": [9762546, 3512547, 2517680, 2456016],\n",
        "        \"2000\": [9853972, 3655437, 2466338, 2473990],\n",
        "        \"지역\": [\"수도권\", \"경상권\", \"수도권\", \"경상권\"],\n",
        "        \"2010-2015 증가율\": [0.0283, 0.0163, 0.0982, 0.0141]\n",
        "    },index=[\"서울\",\"부산\",\"인천\",\"대구\"],\n",
        "    columns=[\"지역\",\"2000\",\"2005\",\"2010\",\"2015\",\"2010-2015 증가율\"]\n",
        ")\n",
        "\n",
        "DF2"
      ],
      "execution_count": 134,
      "outputs": [
        {
          "output_type": "execute_result",
          "data": {
            "text/html": [
              "\n",
              "  <div id=\"df-ca849986-c89a-4231-89ff-94aab1d87010\">\n",
              "    <div class=\"colab-df-container\">\n",
              "      <div>\n",
              "<style scoped>\n",
              "    .dataframe tbody tr th:only-of-type {\n",
              "        vertical-align: middle;\n",
              "    }\n",
              "\n",
              "    .dataframe tbody tr th {\n",
              "        vertical-align: top;\n",
              "    }\n",
              "\n",
              "    .dataframe thead th {\n",
              "        text-align: right;\n",
              "    }\n",
              "</style>\n",
              "<table border=\"1\" class=\"dataframe\">\n",
              "  <thead>\n",
              "    <tr style=\"text-align: right;\">\n",
              "      <th></th>\n",
              "      <th>지역</th>\n",
              "      <th>2000</th>\n",
              "      <th>2005</th>\n",
              "      <th>2010</th>\n",
              "      <th>2015</th>\n",
              "      <th>2010-2015 증가율</th>\n",
              "    </tr>\n",
              "  </thead>\n",
              "  <tbody>\n",
              "    <tr>\n",
              "      <th>서울</th>\n",
              "      <td>수도권</td>\n",
              "      <td>9853972</td>\n",
              "      <td>9762546</td>\n",
              "      <td>9631482</td>\n",
              "      <td>9904312</td>\n",
              "      <td>0.0283</td>\n",
              "    </tr>\n",
              "    <tr>\n",
              "      <th>부산</th>\n",
              "      <td>경상권</td>\n",
              "      <td>3655437</td>\n",
              "      <td>3512547</td>\n",
              "      <td>3393191</td>\n",
              "      <td>3448737</td>\n",
              "      <td>0.0163</td>\n",
              "    </tr>\n",
              "    <tr>\n",
              "      <th>인천</th>\n",
              "      <td>수도권</td>\n",
              "      <td>2466338</td>\n",
              "      <td>2517680</td>\n",
              "      <td>2632035</td>\n",
              "      <td>2890451</td>\n",
              "      <td>0.0982</td>\n",
              "    </tr>\n",
              "    <tr>\n",
              "      <th>대구</th>\n",
              "      <td>경상권</td>\n",
              "      <td>2473990</td>\n",
              "      <td>2456016</td>\n",
              "      <td>2431774</td>\n",
              "      <td>2466052</td>\n",
              "      <td>0.0141</td>\n",
              "    </tr>\n",
              "  </tbody>\n",
              "</table>\n",
              "</div>\n",
              "      <button class=\"colab-df-convert\" onclick=\"convertToInteractive('df-ca849986-c89a-4231-89ff-94aab1d87010')\"\n",
              "              title=\"Convert this dataframe to an interactive table.\"\n",
              "              style=\"display:none;\">\n",
              "        \n",
              "  <svg xmlns=\"http://www.w3.org/2000/svg\" height=\"24px\"viewBox=\"0 0 24 24\"\n",
              "       width=\"24px\">\n",
              "    <path d=\"M0 0h24v24H0V0z\" fill=\"none\"/>\n",
              "    <path d=\"M18.56 5.44l.94 2.06.94-2.06 2.06-.94-2.06-.94-.94-2.06-.94 2.06-2.06.94zm-11 1L8.5 8.5l.94-2.06 2.06-.94-2.06-.94L8.5 2.5l-.94 2.06-2.06.94zm10 10l.94 2.06.94-2.06 2.06-.94-2.06-.94-.94-2.06-.94 2.06-2.06.94z\"/><path d=\"M17.41 7.96l-1.37-1.37c-.4-.4-.92-.59-1.43-.59-.52 0-1.04.2-1.43.59L10.3 9.45l-7.72 7.72c-.78.78-.78 2.05 0 2.83L4 21.41c.39.39.9.59 1.41.59.51 0 1.02-.2 1.41-.59l7.78-7.78 2.81-2.81c.8-.78.8-2.07 0-2.86zM5.41 20L4 18.59l7.72-7.72 1.47 1.35L5.41 20z\"/>\n",
              "  </svg>\n",
              "      </button>\n",
              "      \n",
              "  <style>\n",
              "    .colab-df-container {\n",
              "      display:flex;\n",
              "      flex-wrap:wrap;\n",
              "      gap: 12px;\n",
              "    }\n",
              "\n",
              "    .colab-df-convert {\n",
              "      background-color: #E8F0FE;\n",
              "      border: none;\n",
              "      border-radius: 50%;\n",
              "      cursor: pointer;\n",
              "      display: none;\n",
              "      fill: #1967D2;\n",
              "      height: 32px;\n",
              "      padding: 0 0 0 0;\n",
              "      width: 32px;\n",
              "    }\n",
              "\n",
              "    .colab-df-convert:hover {\n",
              "      background-color: #E2EBFA;\n",
              "      box-shadow: 0px 1px 2px rgba(60, 64, 67, 0.3), 0px 1px 3px 1px rgba(60, 64, 67, 0.15);\n",
              "      fill: #174EA6;\n",
              "    }\n",
              "\n",
              "    [theme=dark] .colab-df-convert {\n",
              "      background-color: #3B4455;\n",
              "      fill: #D2E3FC;\n",
              "    }\n",
              "\n",
              "    [theme=dark] .colab-df-convert:hover {\n",
              "      background-color: #434B5C;\n",
              "      box-shadow: 0px 1px 3px 1px rgba(0, 0, 0, 0.15);\n",
              "      filter: drop-shadow(0px 1px 2px rgba(0, 0, 0, 0.3));\n",
              "      fill: #FFFFFF;\n",
              "    }\n",
              "  </style>\n",
              "\n",
              "      <script>\n",
              "        const buttonEl =\n",
              "          document.querySelector('#df-ca849986-c89a-4231-89ff-94aab1d87010 button.colab-df-convert');\n",
              "        buttonEl.style.display =\n",
              "          google.colab.kernel.accessAllowed ? 'block' : 'none';\n",
              "\n",
              "        async function convertToInteractive(key) {\n",
              "          const element = document.querySelector('#df-ca849986-c89a-4231-89ff-94aab1d87010');\n",
              "          const dataTable =\n",
              "            await google.colab.kernel.invokeFunction('convertToInteractive',\n",
              "                                                     [key], {});\n",
              "          if (!dataTable) return;\n",
              "\n",
              "          const docLinkHtml = 'Like what you see? Visit the ' +\n",
              "            '<a target=\"_blank\" href=https://colab.research.google.com/notebooks/data_table.ipynb>data table notebook</a>'\n",
              "            + ' to learn more about interactive tables.';\n",
              "          element.innerHTML = '';\n",
              "          dataTable['output_type'] = 'display_data';\n",
              "          await google.colab.output.renderOutput(dataTable, element);\n",
              "          const docLink = document.createElement('div');\n",
              "          docLink.innerHTML = docLinkHtml;\n",
              "          element.appendChild(docLink);\n",
              "        }\n",
              "      </script>\n",
              "    </div>\n",
              "  </div>\n",
              "  "
            ],
            "text/plain": [
              "     지역     2000     2005     2010     2015  2010-2015 증가율\n",
              "서울  수도권  9853972  9762546  9631482  9904312         0.0283\n",
              "부산  경상권  3655437  3512547  3393191  3448737         0.0163\n",
              "인천  수도권  2466338  2517680  2632035  2890451         0.0982\n",
              "대구  경상권  2473990  2456016  2431774  2466052         0.0141"
            ]
          },
          "metadata": {},
          "execution_count": 134
        }
      ]
    },
    {
      "cell_type": "code",
      "metadata": {
        "school_cell_uuid": "ad56dd6a97c849a6ba1df6cacaad4716",
        "colab": {
          "base_uri": "https://localhost:8080/",
          "height": 175
        },
        "id": "2Bm9vizgM7g0",
        "outputId": "840b4a26-090d-4742-9c7a-3cffc6661f8b"
      },
      "source": [
        "data={                \n",
        "        \"2015\": [9904312, 3448737, 2890451, 2466052],\n",
        "        \"2010\": [9631482, 3393191, 2632035, 2431774],\n",
        "        \"2005\": [9762546, 3512547, 2517680, 2456016],\n",
        "        \"2000\": [9853972, 3655437, 2466338, 2473990],\n",
        "        \"지역\": [\"수도권\", \"경상권\", \"수도권\", \"경상권\"],\n",
        "        \"2010-2015 증가율\": [0.0283, 0.0163, 0.0982, 0.0141]\n",
        "    }\n",
        "index=[\"서울\",\"부산\",\"인천\",\"대구\"]\n",
        "columns=[\"지역\",\"2000\",\"2005\",\"2010\",\"2015\",\"2010-2015 증가율\"]\n",
        "\n",
        "DF3=pd.DataFrame(data,index=index,columns=columns)\n",
        "\n",
        "DF3"
      ],
      "execution_count": 135,
      "outputs": [
        {
          "output_type": "execute_result",
          "data": {
            "text/html": [
              "\n",
              "  <div id=\"df-d88a3c84-41d0-44d2-b2da-dd3e65de8d13\">\n",
              "    <div class=\"colab-df-container\">\n",
              "      <div>\n",
              "<style scoped>\n",
              "    .dataframe tbody tr th:only-of-type {\n",
              "        vertical-align: middle;\n",
              "    }\n",
              "\n",
              "    .dataframe tbody tr th {\n",
              "        vertical-align: top;\n",
              "    }\n",
              "\n",
              "    .dataframe thead th {\n",
              "        text-align: right;\n",
              "    }\n",
              "</style>\n",
              "<table border=\"1\" class=\"dataframe\">\n",
              "  <thead>\n",
              "    <tr style=\"text-align: right;\">\n",
              "      <th></th>\n",
              "      <th>지역</th>\n",
              "      <th>2000</th>\n",
              "      <th>2005</th>\n",
              "      <th>2010</th>\n",
              "      <th>2015</th>\n",
              "      <th>2010-2015 증가율</th>\n",
              "    </tr>\n",
              "  </thead>\n",
              "  <tbody>\n",
              "    <tr>\n",
              "      <th>서울</th>\n",
              "      <td>수도권</td>\n",
              "      <td>9853972</td>\n",
              "      <td>9762546</td>\n",
              "      <td>9631482</td>\n",
              "      <td>9904312</td>\n",
              "      <td>0.0283</td>\n",
              "    </tr>\n",
              "    <tr>\n",
              "      <th>부산</th>\n",
              "      <td>경상권</td>\n",
              "      <td>3655437</td>\n",
              "      <td>3512547</td>\n",
              "      <td>3393191</td>\n",
              "      <td>3448737</td>\n",
              "      <td>0.0163</td>\n",
              "    </tr>\n",
              "    <tr>\n",
              "      <th>인천</th>\n",
              "      <td>수도권</td>\n",
              "      <td>2466338</td>\n",
              "      <td>2517680</td>\n",
              "      <td>2632035</td>\n",
              "      <td>2890451</td>\n",
              "      <td>0.0982</td>\n",
              "    </tr>\n",
              "    <tr>\n",
              "      <th>대구</th>\n",
              "      <td>경상권</td>\n",
              "      <td>2473990</td>\n",
              "      <td>2456016</td>\n",
              "      <td>2431774</td>\n",
              "      <td>2466052</td>\n",
              "      <td>0.0141</td>\n",
              "    </tr>\n",
              "  </tbody>\n",
              "</table>\n",
              "</div>\n",
              "      <button class=\"colab-df-convert\" onclick=\"convertToInteractive('df-d88a3c84-41d0-44d2-b2da-dd3e65de8d13')\"\n",
              "              title=\"Convert this dataframe to an interactive table.\"\n",
              "              style=\"display:none;\">\n",
              "        \n",
              "  <svg xmlns=\"http://www.w3.org/2000/svg\" height=\"24px\"viewBox=\"0 0 24 24\"\n",
              "       width=\"24px\">\n",
              "    <path d=\"M0 0h24v24H0V0z\" fill=\"none\"/>\n",
              "    <path d=\"M18.56 5.44l.94 2.06.94-2.06 2.06-.94-2.06-.94-.94-2.06-.94 2.06-2.06.94zm-11 1L8.5 8.5l.94-2.06 2.06-.94-2.06-.94L8.5 2.5l-.94 2.06-2.06.94zm10 10l.94 2.06.94-2.06 2.06-.94-2.06-.94-.94-2.06-.94 2.06-2.06.94z\"/><path d=\"M17.41 7.96l-1.37-1.37c-.4-.4-.92-.59-1.43-.59-.52 0-1.04.2-1.43.59L10.3 9.45l-7.72 7.72c-.78.78-.78 2.05 0 2.83L4 21.41c.39.39.9.59 1.41.59.51 0 1.02-.2 1.41-.59l7.78-7.78 2.81-2.81c.8-.78.8-2.07 0-2.86zM5.41 20L4 18.59l7.72-7.72 1.47 1.35L5.41 20z\"/>\n",
              "  </svg>\n",
              "      </button>\n",
              "      \n",
              "  <style>\n",
              "    .colab-df-container {\n",
              "      display:flex;\n",
              "      flex-wrap:wrap;\n",
              "      gap: 12px;\n",
              "    }\n",
              "\n",
              "    .colab-df-convert {\n",
              "      background-color: #E8F0FE;\n",
              "      border: none;\n",
              "      border-radius: 50%;\n",
              "      cursor: pointer;\n",
              "      display: none;\n",
              "      fill: #1967D2;\n",
              "      height: 32px;\n",
              "      padding: 0 0 0 0;\n",
              "      width: 32px;\n",
              "    }\n",
              "\n",
              "    .colab-df-convert:hover {\n",
              "      background-color: #E2EBFA;\n",
              "      box-shadow: 0px 1px 2px rgba(60, 64, 67, 0.3), 0px 1px 3px 1px rgba(60, 64, 67, 0.15);\n",
              "      fill: #174EA6;\n",
              "    }\n",
              "\n",
              "    [theme=dark] .colab-df-convert {\n",
              "      background-color: #3B4455;\n",
              "      fill: #D2E3FC;\n",
              "    }\n",
              "\n",
              "    [theme=dark] .colab-df-convert:hover {\n",
              "      background-color: #434B5C;\n",
              "      box-shadow: 0px 1px 3px 1px rgba(0, 0, 0, 0.15);\n",
              "      filter: drop-shadow(0px 1px 2px rgba(0, 0, 0, 0.3));\n",
              "      fill: #FFFFFF;\n",
              "    }\n",
              "  </style>\n",
              "\n",
              "      <script>\n",
              "        const buttonEl =\n",
              "          document.querySelector('#df-d88a3c84-41d0-44d2-b2da-dd3e65de8d13 button.colab-df-convert');\n",
              "        buttonEl.style.display =\n",
              "          google.colab.kernel.accessAllowed ? 'block' : 'none';\n",
              "\n",
              "        async function convertToInteractive(key) {\n",
              "          const element = document.querySelector('#df-d88a3c84-41d0-44d2-b2da-dd3e65de8d13');\n",
              "          const dataTable =\n",
              "            await google.colab.kernel.invokeFunction('convertToInteractive',\n",
              "                                                     [key], {});\n",
              "          if (!dataTable) return;\n",
              "\n",
              "          const docLinkHtml = 'Like what you see? Visit the ' +\n",
              "            '<a target=\"_blank\" href=https://colab.research.google.com/notebooks/data_table.ipynb>data table notebook</a>'\n",
              "            + ' to learn more about interactive tables.';\n",
              "          element.innerHTML = '';\n",
              "          dataTable['output_type'] = 'display_data';\n",
              "          await google.colab.output.renderOutput(dataTable, element);\n",
              "          const docLink = document.createElement('div');\n",
              "          docLink.innerHTML = docLinkHtml;\n",
              "          element.appendChild(docLink);\n",
              "        }\n",
              "      </script>\n",
              "    </div>\n",
              "  </div>\n",
              "  "
            ],
            "text/plain": [
              "     지역     2000     2005     2010     2015  2010-2015 증가율\n",
              "서울  수도권  9853972  9762546  9631482  9904312         0.0283\n",
              "부산  경상권  3655437  3512547  3393191  3448737         0.0163\n",
              "인천  수도권  2466338  2517680  2632035  2890451         0.0982\n",
              "대구  경상권  2473990  2456016  2431774  2466052         0.0141"
            ]
          },
          "metadata": {},
          "execution_count": 135
        }
      ]
    },
    {
      "cell_type": "markdown",
      "metadata": {
        "id": "cgwEN986Q30L"
      },
      "source": [
        "속성확인"
      ]
    },
    {
      "cell_type": "code",
      "metadata": {
        "colab": {
          "base_uri": "https://localhost:8080/"
        },
        "id": "QTtOPyM4Q5v5",
        "outputId": "fcea452b-9f16-4ef2-8cfb-587e14303bed"
      },
      "source": [
        "print(DF3.index)\n",
        "print(DF3.values)\n",
        "print(DF3.columns)"
      ],
      "execution_count": 136,
      "outputs": [
        {
          "output_type": "stream",
          "name": "stdout",
          "text": [
            "Index(['서울', '부산', '인천', '대구'], dtype='object')\n",
            "[['수도권' 9853972 9762546 9631482 9904312 0.0283]\n",
            " ['경상권' 3655437 3512547 3393191 3448737 0.0163]\n",
            " ['수도권' 2466338 2517680 2632035 2890451 0.0982]\n",
            " ['경상권' 2473990 2456016 2431774 2466052 0.0141]]\n",
            "Index(['지역', '2000', '2005', '2010', '2015', '2010-2015 증가율'], dtype='object')\n"
          ]
        }
      ]
    },
    {
      "cell_type": "markdown",
      "metadata": {
        "school_cell_uuid": "c8d07e451acd4222befd8ae9d57f09c9",
        "id": "hYbaVUeOM7g2"
      },
      "source": [
        "*시리즈에서* 처럼 열방향 인덱스와 행방향 인덱스에 이름을 붙이는 것도 가능하다."
      ]
    },
    {
      "cell_type": "code",
      "metadata": {
        "school_cell_uuid": "fe7f799f91754b3d89bdd25eeee35b1a",
        "colab": {
          "base_uri": "https://localhost:8080/",
          "height": 206
        },
        "id": "Ls_BY3_-M7g2",
        "outputId": "78bf7ef9-b4dc-47a2-bbe1-d816aa9f19df"
      },
      "source": [
        "DF3.index.name=\"도시\"\n",
        "DF3.columns.name=\"특성\"\n",
        "DF3"
      ],
      "execution_count": 137,
      "outputs": [
        {
          "output_type": "execute_result",
          "data": {
            "text/html": [
              "\n",
              "  <div id=\"df-43c739d9-6799-45e9-a1cb-2c7bac55ea5c\">\n",
              "    <div class=\"colab-df-container\">\n",
              "      <div>\n",
              "<style scoped>\n",
              "    .dataframe tbody tr th:only-of-type {\n",
              "        vertical-align: middle;\n",
              "    }\n",
              "\n",
              "    .dataframe tbody tr th {\n",
              "        vertical-align: top;\n",
              "    }\n",
              "\n",
              "    .dataframe thead th {\n",
              "        text-align: right;\n",
              "    }\n",
              "</style>\n",
              "<table border=\"1\" class=\"dataframe\">\n",
              "  <thead>\n",
              "    <tr style=\"text-align: right;\">\n",
              "      <th>특성</th>\n",
              "      <th>지역</th>\n",
              "      <th>2000</th>\n",
              "      <th>2005</th>\n",
              "      <th>2010</th>\n",
              "      <th>2015</th>\n",
              "      <th>2010-2015 증가율</th>\n",
              "    </tr>\n",
              "    <tr>\n",
              "      <th>도시</th>\n",
              "      <th></th>\n",
              "      <th></th>\n",
              "      <th></th>\n",
              "      <th></th>\n",
              "      <th></th>\n",
              "      <th></th>\n",
              "    </tr>\n",
              "  </thead>\n",
              "  <tbody>\n",
              "    <tr>\n",
              "      <th>서울</th>\n",
              "      <td>수도권</td>\n",
              "      <td>9853972</td>\n",
              "      <td>9762546</td>\n",
              "      <td>9631482</td>\n",
              "      <td>9904312</td>\n",
              "      <td>0.0283</td>\n",
              "    </tr>\n",
              "    <tr>\n",
              "      <th>부산</th>\n",
              "      <td>경상권</td>\n",
              "      <td>3655437</td>\n",
              "      <td>3512547</td>\n",
              "      <td>3393191</td>\n",
              "      <td>3448737</td>\n",
              "      <td>0.0163</td>\n",
              "    </tr>\n",
              "    <tr>\n",
              "      <th>인천</th>\n",
              "      <td>수도권</td>\n",
              "      <td>2466338</td>\n",
              "      <td>2517680</td>\n",
              "      <td>2632035</td>\n",
              "      <td>2890451</td>\n",
              "      <td>0.0982</td>\n",
              "    </tr>\n",
              "    <tr>\n",
              "      <th>대구</th>\n",
              "      <td>경상권</td>\n",
              "      <td>2473990</td>\n",
              "      <td>2456016</td>\n",
              "      <td>2431774</td>\n",
              "      <td>2466052</td>\n",
              "      <td>0.0141</td>\n",
              "    </tr>\n",
              "  </tbody>\n",
              "</table>\n",
              "</div>\n",
              "      <button class=\"colab-df-convert\" onclick=\"convertToInteractive('df-43c739d9-6799-45e9-a1cb-2c7bac55ea5c')\"\n",
              "              title=\"Convert this dataframe to an interactive table.\"\n",
              "              style=\"display:none;\">\n",
              "        \n",
              "  <svg xmlns=\"http://www.w3.org/2000/svg\" height=\"24px\"viewBox=\"0 0 24 24\"\n",
              "       width=\"24px\">\n",
              "    <path d=\"M0 0h24v24H0V0z\" fill=\"none\"/>\n",
              "    <path d=\"M18.56 5.44l.94 2.06.94-2.06 2.06-.94-2.06-.94-.94-2.06-.94 2.06-2.06.94zm-11 1L8.5 8.5l.94-2.06 2.06-.94-2.06-.94L8.5 2.5l-.94 2.06-2.06.94zm10 10l.94 2.06.94-2.06 2.06-.94-2.06-.94-.94-2.06-.94 2.06-2.06.94z\"/><path d=\"M17.41 7.96l-1.37-1.37c-.4-.4-.92-.59-1.43-.59-.52 0-1.04.2-1.43.59L10.3 9.45l-7.72 7.72c-.78.78-.78 2.05 0 2.83L4 21.41c.39.39.9.59 1.41.59.51 0 1.02-.2 1.41-.59l7.78-7.78 2.81-2.81c.8-.78.8-2.07 0-2.86zM5.41 20L4 18.59l7.72-7.72 1.47 1.35L5.41 20z\"/>\n",
              "  </svg>\n",
              "      </button>\n",
              "      \n",
              "  <style>\n",
              "    .colab-df-container {\n",
              "      display:flex;\n",
              "      flex-wrap:wrap;\n",
              "      gap: 12px;\n",
              "    }\n",
              "\n",
              "    .colab-df-convert {\n",
              "      background-color: #E8F0FE;\n",
              "      border: none;\n",
              "      border-radius: 50%;\n",
              "      cursor: pointer;\n",
              "      display: none;\n",
              "      fill: #1967D2;\n",
              "      height: 32px;\n",
              "      padding: 0 0 0 0;\n",
              "      width: 32px;\n",
              "    }\n",
              "\n",
              "    .colab-df-convert:hover {\n",
              "      background-color: #E2EBFA;\n",
              "      box-shadow: 0px 1px 2px rgba(60, 64, 67, 0.3), 0px 1px 3px 1px rgba(60, 64, 67, 0.15);\n",
              "      fill: #174EA6;\n",
              "    }\n",
              "\n",
              "    [theme=dark] .colab-df-convert {\n",
              "      background-color: #3B4455;\n",
              "      fill: #D2E3FC;\n",
              "    }\n",
              "\n",
              "    [theme=dark] .colab-df-convert:hover {\n",
              "      background-color: #434B5C;\n",
              "      box-shadow: 0px 1px 3px 1px rgba(0, 0, 0, 0.15);\n",
              "      filter: drop-shadow(0px 1px 2px rgba(0, 0, 0, 0.3));\n",
              "      fill: #FFFFFF;\n",
              "    }\n",
              "  </style>\n",
              "\n",
              "      <script>\n",
              "        const buttonEl =\n",
              "          document.querySelector('#df-43c739d9-6799-45e9-a1cb-2c7bac55ea5c button.colab-df-convert');\n",
              "        buttonEl.style.display =\n",
              "          google.colab.kernel.accessAllowed ? 'block' : 'none';\n",
              "\n",
              "        async function convertToInteractive(key) {\n",
              "          const element = document.querySelector('#df-43c739d9-6799-45e9-a1cb-2c7bac55ea5c');\n",
              "          const dataTable =\n",
              "            await google.colab.kernel.invokeFunction('convertToInteractive',\n",
              "                                                     [key], {});\n",
              "          if (!dataTable) return;\n",
              "\n",
              "          const docLinkHtml = 'Like what you see? Visit the ' +\n",
              "            '<a target=\"_blank\" href=https://colab.research.google.com/notebooks/data_table.ipynb>data table notebook</a>'\n",
              "            + ' to learn more about interactive tables.';\n",
              "          element.innerHTML = '';\n",
              "          dataTable['output_type'] = 'display_data';\n",
              "          await google.colab.output.renderOutput(dataTable, element);\n",
              "          const docLink = document.createElement('div');\n",
              "          docLink.innerHTML = docLinkHtml;\n",
              "          element.appendChild(docLink);\n",
              "        }\n",
              "      </script>\n",
              "    </div>\n",
              "  </div>\n",
              "  "
            ],
            "text/plain": [
              "특성   지역     2000     2005     2010     2015  2010-2015 증가율\n",
              "도시                                                        \n",
              "서울  수도권  9853972  9762546  9631482  9904312         0.0283\n",
              "부산  경상권  3655437  3512547  3393191  3448737         0.0163\n",
              "인천  수도권  2466338  2517680  2632035  2890451         0.0982\n",
              "대구  경상권  2473990  2456016  2431774  2466052         0.0141"
            ]
          },
          "metadata": {},
          "execution_count": 137
        }
      ]
    },
    {
      "cell_type": "markdown",
      "metadata": {
        "school_cell_uuid": "fe47c0e2dea04ec3ae0564ff78e9c881",
        "id": "uM6AfF49M7g3"
      },
      "source": [
        "데이터프레임은 전치(transpose)를 포함하여 넘파이 2차원 배열이 가지는 대부분의 속성이나 메서드를 지원한다."
      ]
    },
    {
      "cell_type": "code",
      "metadata": {
        "school_cell_uuid": "a344bf84667e43618339bcaa9f5ab7b9",
        "colab": {
          "base_uri": "https://localhost:8080/",
          "height": 268
        },
        "id": "1uN9T2o8M7g3",
        "outputId": "689cd62c-0545-46f5-b4c4-c0128f0a9d04"
      },
      "source": [
        "DF3.T"
      ],
      "execution_count": 138,
      "outputs": [
        {
          "output_type": "execute_result",
          "data": {
            "text/html": [
              "\n",
              "  <div id=\"df-e0c07b25-6963-4532-bd90-5f226fe1cac1\">\n",
              "    <div class=\"colab-df-container\">\n",
              "      <div>\n",
              "<style scoped>\n",
              "    .dataframe tbody tr th:only-of-type {\n",
              "        vertical-align: middle;\n",
              "    }\n",
              "\n",
              "    .dataframe tbody tr th {\n",
              "        vertical-align: top;\n",
              "    }\n",
              "\n",
              "    .dataframe thead th {\n",
              "        text-align: right;\n",
              "    }\n",
              "</style>\n",
              "<table border=\"1\" class=\"dataframe\">\n",
              "  <thead>\n",
              "    <tr style=\"text-align: right;\">\n",
              "      <th>도시</th>\n",
              "      <th>서울</th>\n",
              "      <th>부산</th>\n",
              "      <th>인천</th>\n",
              "      <th>대구</th>\n",
              "    </tr>\n",
              "    <tr>\n",
              "      <th>특성</th>\n",
              "      <th></th>\n",
              "      <th></th>\n",
              "      <th></th>\n",
              "      <th></th>\n",
              "    </tr>\n",
              "  </thead>\n",
              "  <tbody>\n",
              "    <tr>\n",
              "      <th>지역</th>\n",
              "      <td>수도권</td>\n",
              "      <td>경상권</td>\n",
              "      <td>수도권</td>\n",
              "      <td>경상권</td>\n",
              "    </tr>\n",
              "    <tr>\n",
              "      <th>2000</th>\n",
              "      <td>9853972</td>\n",
              "      <td>3655437</td>\n",
              "      <td>2466338</td>\n",
              "      <td>2473990</td>\n",
              "    </tr>\n",
              "    <tr>\n",
              "      <th>2005</th>\n",
              "      <td>9762546</td>\n",
              "      <td>3512547</td>\n",
              "      <td>2517680</td>\n",
              "      <td>2456016</td>\n",
              "    </tr>\n",
              "    <tr>\n",
              "      <th>2010</th>\n",
              "      <td>9631482</td>\n",
              "      <td>3393191</td>\n",
              "      <td>2632035</td>\n",
              "      <td>2431774</td>\n",
              "    </tr>\n",
              "    <tr>\n",
              "      <th>2015</th>\n",
              "      <td>9904312</td>\n",
              "      <td>3448737</td>\n",
              "      <td>2890451</td>\n",
              "      <td>2466052</td>\n",
              "    </tr>\n",
              "    <tr>\n",
              "      <th>2010-2015 증가율</th>\n",
              "      <td>0.0283</td>\n",
              "      <td>0.0163</td>\n",
              "      <td>0.0982</td>\n",
              "      <td>0.0141</td>\n",
              "    </tr>\n",
              "  </tbody>\n",
              "</table>\n",
              "</div>\n",
              "      <button class=\"colab-df-convert\" onclick=\"convertToInteractive('df-e0c07b25-6963-4532-bd90-5f226fe1cac1')\"\n",
              "              title=\"Convert this dataframe to an interactive table.\"\n",
              "              style=\"display:none;\">\n",
              "        \n",
              "  <svg xmlns=\"http://www.w3.org/2000/svg\" height=\"24px\"viewBox=\"0 0 24 24\"\n",
              "       width=\"24px\">\n",
              "    <path d=\"M0 0h24v24H0V0z\" fill=\"none\"/>\n",
              "    <path d=\"M18.56 5.44l.94 2.06.94-2.06 2.06-.94-2.06-.94-.94-2.06-.94 2.06-2.06.94zm-11 1L8.5 8.5l.94-2.06 2.06-.94-2.06-.94L8.5 2.5l-.94 2.06-2.06.94zm10 10l.94 2.06.94-2.06 2.06-.94-2.06-.94-.94-2.06-.94 2.06-2.06.94z\"/><path d=\"M17.41 7.96l-1.37-1.37c-.4-.4-.92-.59-1.43-.59-.52 0-1.04.2-1.43.59L10.3 9.45l-7.72 7.72c-.78.78-.78 2.05 0 2.83L4 21.41c.39.39.9.59 1.41.59.51 0 1.02-.2 1.41-.59l7.78-7.78 2.81-2.81c.8-.78.8-2.07 0-2.86zM5.41 20L4 18.59l7.72-7.72 1.47 1.35L5.41 20z\"/>\n",
              "  </svg>\n",
              "      </button>\n",
              "      \n",
              "  <style>\n",
              "    .colab-df-container {\n",
              "      display:flex;\n",
              "      flex-wrap:wrap;\n",
              "      gap: 12px;\n",
              "    }\n",
              "\n",
              "    .colab-df-convert {\n",
              "      background-color: #E8F0FE;\n",
              "      border: none;\n",
              "      border-radius: 50%;\n",
              "      cursor: pointer;\n",
              "      display: none;\n",
              "      fill: #1967D2;\n",
              "      height: 32px;\n",
              "      padding: 0 0 0 0;\n",
              "      width: 32px;\n",
              "    }\n",
              "\n",
              "    .colab-df-convert:hover {\n",
              "      background-color: #E2EBFA;\n",
              "      box-shadow: 0px 1px 2px rgba(60, 64, 67, 0.3), 0px 1px 3px 1px rgba(60, 64, 67, 0.15);\n",
              "      fill: #174EA6;\n",
              "    }\n",
              "\n",
              "    [theme=dark] .colab-df-convert {\n",
              "      background-color: #3B4455;\n",
              "      fill: #D2E3FC;\n",
              "    }\n",
              "\n",
              "    [theme=dark] .colab-df-convert:hover {\n",
              "      background-color: #434B5C;\n",
              "      box-shadow: 0px 1px 3px 1px rgba(0, 0, 0, 0.15);\n",
              "      filter: drop-shadow(0px 1px 2px rgba(0, 0, 0, 0.3));\n",
              "      fill: #FFFFFF;\n",
              "    }\n",
              "  </style>\n",
              "\n",
              "      <script>\n",
              "        const buttonEl =\n",
              "          document.querySelector('#df-e0c07b25-6963-4532-bd90-5f226fe1cac1 button.colab-df-convert');\n",
              "        buttonEl.style.display =\n",
              "          google.colab.kernel.accessAllowed ? 'block' : 'none';\n",
              "\n",
              "        async function convertToInteractive(key) {\n",
              "          const element = document.querySelector('#df-e0c07b25-6963-4532-bd90-5f226fe1cac1');\n",
              "          const dataTable =\n",
              "            await google.colab.kernel.invokeFunction('convertToInteractive',\n",
              "                                                     [key], {});\n",
              "          if (!dataTable) return;\n",
              "\n",
              "          const docLinkHtml = 'Like what you see? Visit the ' +\n",
              "            '<a target=\"_blank\" href=https://colab.research.google.com/notebooks/data_table.ipynb>data table notebook</a>'\n",
              "            + ' to learn more about interactive tables.';\n",
              "          element.innerHTML = '';\n",
              "          dataTable['output_type'] = 'display_data';\n",
              "          await google.colab.output.renderOutput(dataTable, element);\n",
              "          const docLink = document.createElement('div');\n",
              "          docLink.innerHTML = docLinkHtml;\n",
              "          element.appendChild(docLink);\n",
              "        }\n",
              "      </script>\n",
              "    </div>\n",
              "  </div>\n",
              "  "
            ],
            "text/plain": [
              "도시                  서울       부산       인천       대구\n",
              "특성                                               \n",
              "지역                 수도권      경상권      수도권      경상권\n",
              "2000           9853972  3655437  2466338  2473990\n",
              "2005           9762546  3512547  2517680  2456016\n",
              "2010           9631482  3393191  2632035  2431774\n",
              "2015           9904312  3448737  2890451  2466052\n",
              "2010-2015 증가율   0.0283   0.0163   0.0982   0.0141"
            ]
          },
          "metadata": {},
          "execution_count": 138
        }
      ]
    },
    {
      "cell_type": "markdown",
      "metadata": {
        "school_cell_uuid": "2a3a6d464e6b4433bd5174559fd19a5b",
        "id": "t7ysOH7GM7g3"
      },
      "source": [
        "### 열 데이터의 갱신, 추가, 삭제"
      ]
    },
    {
      "cell_type": "markdown",
      "metadata": {
        "school_cell_uuid": "6fd687f1f7d34fd1a97eaba03409dfbd",
        "id": "x5Jsd5a3M7g4"
      },
      "source": [
        "데이터프레임은 열 시리즈의 딕셔너리으로 볼 수 있으므로 열 단위로 데이터를 갱신하거나 추가, 삭제할 수 있다."
      ]
    },
    {
      "cell_type": "code",
      "metadata": {
        "school_cell_uuid": "118e7896d2a04b1991857b59411a7a7a",
        "colab": {
          "base_uri": "https://localhost:8080/",
          "height": 206
        },
        "id": "AIF3-jESM7g4",
        "outputId": "b4539373-4070-4de7-f6c4-5557ccd04093"
      },
      "source": [
        "# \"2010-2015 증가율\"이라는 이름의 열 추가\n",
        "DF3[\"2010-2015 증가율\"] = DF3[\"2010-2015 증가율\"] * 100\n",
        "DF3"
      ],
      "execution_count": 139,
      "outputs": [
        {
          "output_type": "execute_result",
          "data": {
            "text/html": [
              "\n",
              "  <div id=\"df-79416384-7077-4541-8358-c351f3d5f691\">\n",
              "    <div class=\"colab-df-container\">\n",
              "      <div>\n",
              "<style scoped>\n",
              "    .dataframe tbody tr th:only-of-type {\n",
              "        vertical-align: middle;\n",
              "    }\n",
              "\n",
              "    .dataframe tbody tr th {\n",
              "        vertical-align: top;\n",
              "    }\n",
              "\n",
              "    .dataframe thead th {\n",
              "        text-align: right;\n",
              "    }\n",
              "</style>\n",
              "<table border=\"1\" class=\"dataframe\">\n",
              "  <thead>\n",
              "    <tr style=\"text-align: right;\">\n",
              "      <th>특성</th>\n",
              "      <th>지역</th>\n",
              "      <th>2000</th>\n",
              "      <th>2005</th>\n",
              "      <th>2010</th>\n",
              "      <th>2015</th>\n",
              "      <th>2010-2015 증가율</th>\n",
              "    </tr>\n",
              "    <tr>\n",
              "      <th>도시</th>\n",
              "      <th></th>\n",
              "      <th></th>\n",
              "      <th></th>\n",
              "      <th></th>\n",
              "      <th></th>\n",
              "      <th></th>\n",
              "    </tr>\n",
              "  </thead>\n",
              "  <tbody>\n",
              "    <tr>\n",
              "      <th>서울</th>\n",
              "      <td>수도권</td>\n",
              "      <td>9853972</td>\n",
              "      <td>9762546</td>\n",
              "      <td>9631482</td>\n",
              "      <td>9904312</td>\n",
              "      <td>2.83</td>\n",
              "    </tr>\n",
              "    <tr>\n",
              "      <th>부산</th>\n",
              "      <td>경상권</td>\n",
              "      <td>3655437</td>\n",
              "      <td>3512547</td>\n",
              "      <td>3393191</td>\n",
              "      <td>3448737</td>\n",
              "      <td>1.63</td>\n",
              "    </tr>\n",
              "    <tr>\n",
              "      <th>인천</th>\n",
              "      <td>수도권</td>\n",
              "      <td>2466338</td>\n",
              "      <td>2517680</td>\n",
              "      <td>2632035</td>\n",
              "      <td>2890451</td>\n",
              "      <td>9.82</td>\n",
              "    </tr>\n",
              "    <tr>\n",
              "      <th>대구</th>\n",
              "      <td>경상권</td>\n",
              "      <td>2473990</td>\n",
              "      <td>2456016</td>\n",
              "      <td>2431774</td>\n",
              "      <td>2466052</td>\n",
              "      <td>1.41</td>\n",
              "    </tr>\n",
              "  </tbody>\n",
              "</table>\n",
              "</div>\n",
              "      <button class=\"colab-df-convert\" onclick=\"convertToInteractive('df-79416384-7077-4541-8358-c351f3d5f691')\"\n",
              "              title=\"Convert this dataframe to an interactive table.\"\n",
              "              style=\"display:none;\">\n",
              "        \n",
              "  <svg xmlns=\"http://www.w3.org/2000/svg\" height=\"24px\"viewBox=\"0 0 24 24\"\n",
              "       width=\"24px\">\n",
              "    <path d=\"M0 0h24v24H0V0z\" fill=\"none\"/>\n",
              "    <path d=\"M18.56 5.44l.94 2.06.94-2.06 2.06-.94-2.06-.94-.94-2.06-.94 2.06-2.06.94zm-11 1L8.5 8.5l.94-2.06 2.06-.94-2.06-.94L8.5 2.5l-.94 2.06-2.06.94zm10 10l.94 2.06.94-2.06 2.06-.94-2.06-.94-.94-2.06-.94 2.06-2.06.94z\"/><path d=\"M17.41 7.96l-1.37-1.37c-.4-.4-.92-.59-1.43-.59-.52 0-1.04.2-1.43.59L10.3 9.45l-7.72 7.72c-.78.78-.78 2.05 0 2.83L4 21.41c.39.39.9.59 1.41.59.51 0 1.02-.2 1.41-.59l7.78-7.78 2.81-2.81c.8-.78.8-2.07 0-2.86zM5.41 20L4 18.59l7.72-7.72 1.47 1.35L5.41 20z\"/>\n",
              "  </svg>\n",
              "      </button>\n",
              "      \n",
              "  <style>\n",
              "    .colab-df-container {\n",
              "      display:flex;\n",
              "      flex-wrap:wrap;\n",
              "      gap: 12px;\n",
              "    }\n",
              "\n",
              "    .colab-df-convert {\n",
              "      background-color: #E8F0FE;\n",
              "      border: none;\n",
              "      border-radius: 50%;\n",
              "      cursor: pointer;\n",
              "      display: none;\n",
              "      fill: #1967D2;\n",
              "      height: 32px;\n",
              "      padding: 0 0 0 0;\n",
              "      width: 32px;\n",
              "    }\n",
              "\n",
              "    .colab-df-convert:hover {\n",
              "      background-color: #E2EBFA;\n",
              "      box-shadow: 0px 1px 2px rgba(60, 64, 67, 0.3), 0px 1px 3px 1px rgba(60, 64, 67, 0.15);\n",
              "      fill: #174EA6;\n",
              "    }\n",
              "\n",
              "    [theme=dark] .colab-df-convert {\n",
              "      background-color: #3B4455;\n",
              "      fill: #D2E3FC;\n",
              "    }\n",
              "\n",
              "    [theme=dark] .colab-df-convert:hover {\n",
              "      background-color: #434B5C;\n",
              "      box-shadow: 0px 1px 3px 1px rgba(0, 0, 0, 0.15);\n",
              "      filter: drop-shadow(0px 1px 2px rgba(0, 0, 0, 0.3));\n",
              "      fill: #FFFFFF;\n",
              "    }\n",
              "  </style>\n",
              "\n",
              "      <script>\n",
              "        const buttonEl =\n",
              "          document.querySelector('#df-79416384-7077-4541-8358-c351f3d5f691 button.colab-df-convert');\n",
              "        buttonEl.style.display =\n",
              "          google.colab.kernel.accessAllowed ? 'block' : 'none';\n",
              "\n",
              "        async function convertToInteractive(key) {\n",
              "          const element = document.querySelector('#df-79416384-7077-4541-8358-c351f3d5f691');\n",
              "          const dataTable =\n",
              "            await google.colab.kernel.invokeFunction('convertToInteractive',\n",
              "                                                     [key], {});\n",
              "          if (!dataTable) return;\n",
              "\n",
              "          const docLinkHtml = 'Like what you see? Visit the ' +\n",
              "            '<a target=\"_blank\" href=https://colab.research.google.com/notebooks/data_table.ipynb>data table notebook</a>'\n",
              "            + ' to learn more about interactive tables.';\n",
              "          element.innerHTML = '';\n",
              "          dataTable['output_type'] = 'display_data';\n",
              "          await google.colab.output.renderOutput(dataTable, element);\n",
              "          const docLink = document.createElement('div');\n",
              "          docLink.innerHTML = docLinkHtml;\n",
              "          element.appendChild(docLink);\n",
              "        }\n",
              "      </script>\n",
              "    </div>\n",
              "  </div>\n",
              "  "
            ],
            "text/plain": [
              "특성   지역     2000     2005     2010     2015  2010-2015 증가율\n",
              "도시                                                        \n",
              "서울  수도권  9853972  9762546  9631482  9904312           2.83\n",
              "부산  경상권  3655437  3512547  3393191  3448737           1.63\n",
              "인천  수도권  2466338  2517680  2632035  2890451           9.82\n",
              "대구  경상권  2473990  2456016  2431774  2466052           1.41"
            ]
          },
          "metadata": {},
          "execution_count": 139
        }
      ]
    },
    {
      "cell_type": "code",
      "metadata": {
        "school_cell_uuid": "f06e0eb3cc234b458e6005c5daeff851",
        "colab": {
          "base_uri": "https://localhost:8080/",
          "height": 206
        },
        "id": "QKnuj-M5M7g4",
        "outputId": "4787f683-c54b-4965-fa88-c827c390aeec"
      },
      "source": [
        "# \"2005-2010 증가율\"이라는 이름의 열 추가\n",
        "DF3[\"2005-2010 증가율\"] = ((DF3[\"2010\"] - DF3[\"2005\"]) / DF3[\"2005\"] * 100).round(2)\n",
        "DF3"
      ],
      "execution_count": 140,
      "outputs": [
        {
          "output_type": "execute_result",
          "data": {
            "text/html": [
              "\n",
              "  <div id=\"df-7b5b0ea8-f6fd-4026-9a26-d2f7eba1effa\">\n",
              "    <div class=\"colab-df-container\">\n",
              "      <div>\n",
              "<style scoped>\n",
              "    .dataframe tbody tr th:only-of-type {\n",
              "        vertical-align: middle;\n",
              "    }\n",
              "\n",
              "    .dataframe tbody tr th {\n",
              "        vertical-align: top;\n",
              "    }\n",
              "\n",
              "    .dataframe thead th {\n",
              "        text-align: right;\n",
              "    }\n",
              "</style>\n",
              "<table border=\"1\" class=\"dataframe\">\n",
              "  <thead>\n",
              "    <tr style=\"text-align: right;\">\n",
              "      <th>특성</th>\n",
              "      <th>지역</th>\n",
              "      <th>2000</th>\n",
              "      <th>2005</th>\n",
              "      <th>2010</th>\n",
              "      <th>2015</th>\n",
              "      <th>2010-2015 증가율</th>\n",
              "      <th>2005-2010 증가율</th>\n",
              "    </tr>\n",
              "    <tr>\n",
              "      <th>도시</th>\n",
              "      <th></th>\n",
              "      <th></th>\n",
              "      <th></th>\n",
              "      <th></th>\n",
              "      <th></th>\n",
              "      <th></th>\n",
              "      <th></th>\n",
              "    </tr>\n",
              "  </thead>\n",
              "  <tbody>\n",
              "    <tr>\n",
              "      <th>서울</th>\n",
              "      <td>수도권</td>\n",
              "      <td>9853972</td>\n",
              "      <td>9762546</td>\n",
              "      <td>9631482</td>\n",
              "      <td>9904312</td>\n",
              "      <td>2.83</td>\n",
              "      <td>-1.34</td>\n",
              "    </tr>\n",
              "    <tr>\n",
              "      <th>부산</th>\n",
              "      <td>경상권</td>\n",
              "      <td>3655437</td>\n",
              "      <td>3512547</td>\n",
              "      <td>3393191</td>\n",
              "      <td>3448737</td>\n",
              "      <td>1.63</td>\n",
              "      <td>-3.40</td>\n",
              "    </tr>\n",
              "    <tr>\n",
              "      <th>인천</th>\n",
              "      <td>수도권</td>\n",
              "      <td>2466338</td>\n",
              "      <td>2517680</td>\n",
              "      <td>2632035</td>\n",
              "      <td>2890451</td>\n",
              "      <td>9.82</td>\n",
              "      <td>4.54</td>\n",
              "    </tr>\n",
              "    <tr>\n",
              "      <th>대구</th>\n",
              "      <td>경상권</td>\n",
              "      <td>2473990</td>\n",
              "      <td>2456016</td>\n",
              "      <td>2431774</td>\n",
              "      <td>2466052</td>\n",
              "      <td>1.41</td>\n",
              "      <td>-0.99</td>\n",
              "    </tr>\n",
              "  </tbody>\n",
              "</table>\n",
              "</div>\n",
              "      <button class=\"colab-df-convert\" onclick=\"convertToInteractive('df-7b5b0ea8-f6fd-4026-9a26-d2f7eba1effa')\"\n",
              "              title=\"Convert this dataframe to an interactive table.\"\n",
              "              style=\"display:none;\">\n",
              "        \n",
              "  <svg xmlns=\"http://www.w3.org/2000/svg\" height=\"24px\"viewBox=\"0 0 24 24\"\n",
              "       width=\"24px\">\n",
              "    <path d=\"M0 0h24v24H0V0z\" fill=\"none\"/>\n",
              "    <path d=\"M18.56 5.44l.94 2.06.94-2.06 2.06-.94-2.06-.94-.94-2.06-.94 2.06-2.06.94zm-11 1L8.5 8.5l.94-2.06 2.06-.94-2.06-.94L8.5 2.5l-.94 2.06-2.06.94zm10 10l.94 2.06.94-2.06 2.06-.94-2.06-.94-.94-2.06-.94 2.06-2.06.94z\"/><path d=\"M17.41 7.96l-1.37-1.37c-.4-.4-.92-.59-1.43-.59-.52 0-1.04.2-1.43.59L10.3 9.45l-7.72 7.72c-.78.78-.78 2.05 0 2.83L4 21.41c.39.39.9.59 1.41.59.51 0 1.02-.2 1.41-.59l7.78-7.78 2.81-2.81c.8-.78.8-2.07 0-2.86zM5.41 20L4 18.59l7.72-7.72 1.47 1.35L5.41 20z\"/>\n",
              "  </svg>\n",
              "      </button>\n",
              "      \n",
              "  <style>\n",
              "    .colab-df-container {\n",
              "      display:flex;\n",
              "      flex-wrap:wrap;\n",
              "      gap: 12px;\n",
              "    }\n",
              "\n",
              "    .colab-df-convert {\n",
              "      background-color: #E8F0FE;\n",
              "      border: none;\n",
              "      border-radius: 50%;\n",
              "      cursor: pointer;\n",
              "      display: none;\n",
              "      fill: #1967D2;\n",
              "      height: 32px;\n",
              "      padding: 0 0 0 0;\n",
              "      width: 32px;\n",
              "    }\n",
              "\n",
              "    .colab-df-convert:hover {\n",
              "      background-color: #E2EBFA;\n",
              "      box-shadow: 0px 1px 2px rgba(60, 64, 67, 0.3), 0px 1px 3px 1px rgba(60, 64, 67, 0.15);\n",
              "      fill: #174EA6;\n",
              "    }\n",
              "\n",
              "    [theme=dark] .colab-df-convert {\n",
              "      background-color: #3B4455;\n",
              "      fill: #D2E3FC;\n",
              "    }\n",
              "\n",
              "    [theme=dark] .colab-df-convert:hover {\n",
              "      background-color: #434B5C;\n",
              "      box-shadow: 0px 1px 3px 1px rgba(0, 0, 0, 0.15);\n",
              "      filter: drop-shadow(0px 1px 2px rgba(0, 0, 0, 0.3));\n",
              "      fill: #FFFFFF;\n",
              "    }\n",
              "  </style>\n",
              "\n",
              "      <script>\n",
              "        const buttonEl =\n",
              "          document.querySelector('#df-7b5b0ea8-f6fd-4026-9a26-d2f7eba1effa button.colab-df-convert');\n",
              "        buttonEl.style.display =\n",
              "          google.colab.kernel.accessAllowed ? 'block' : 'none';\n",
              "\n",
              "        async function convertToInteractive(key) {\n",
              "          const element = document.querySelector('#df-7b5b0ea8-f6fd-4026-9a26-d2f7eba1effa');\n",
              "          const dataTable =\n",
              "            await google.colab.kernel.invokeFunction('convertToInteractive',\n",
              "                                                     [key], {});\n",
              "          if (!dataTable) return;\n",
              "\n",
              "          const docLinkHtml = 'Like what you see? Visit the ' +\n",
              "            '<a target=\"_blank\" href=https://colab.research.google.com/notebooks/data_table.ipynb>data table notebook</a>'\n",
              "            + ' to learn more about interactive tables.';\n",
              "          element.innerHTML = '';\n",
              "          dataTable['output_type'] = 'display_data';\n",
              "          await google.colab.output.renderOutput(dataTable, element);\n",
              "          const docLink = document.createElement('div');\n",
              "          docLink.innerHTML = docLinkHtml;\n",
              "          element.appendChild(docLink);\n",
              "        }\n",
              "      </script>\n",
              "    </div>\n",
              "  </div>\n",
              "  "
            ],
            "text/plain": [
              "특성   지역     2000     2005     2010     2015  2010-2015 증가율  2005-2010 증가율\n",
              "도시                                                                       \n",
              "서울  수도권  9853972  9762546  9631482  9904312           2.83          -1.34\n",
              "부산  경상권  3655437  3512547  3393191  3448737           1.63          -3.40\n",
              "인천  수도권  2466338  2517680  2632035  2890451           9.82           4.54\n",
              "대구  경상권  2473990  2456016  2431774  2466052           1.41          -0.99"
            ]
          },
          "metadata": {},
          "execution_count": 140
        }
      ]
    },
    {
      "cell_type": "code",
      "metadata": {
        "school_cell_uuid": "53766b5a5edd4c24bd9f42a867bdc25c",
        "colab": {
          "base_uri": "https://localhost:8080/",
          "height": 206
        },
        "id": "rMHepf_3M7g4",
        "outputId": "cbde0308-eb96-47df-d9b9-86265cea13e7"
      },
      "source": [
        "# \"2010-2015 증가율\"이라는 이름의 열 삭제\n",
        "del DF3[\"2010-2015 증가율\"]\n",
        "DF3"
      ],
      "execution_count": 141,
      "outputs": [
        {
          "output_type": "execute_result",
          "data": {
            "text/html": [
              "\n",
              "  <div id=\"df-99ef1b17-54b5-4c9b-9344-7ce2b004306f\">\n",
              "    <div class=\"colab-df-container\">\n",
              "      <div>\n",
              "<style scoped>\n",
              "    .dataframe tbody tr th:only-of-type {\n",
              "        vertical-align: middle;\n",
              "    }\n",
              "\n",
              "    .dataframe tbody tr th {\n",
              "        vertical-align: top;\n",
              "    }\n",
              "\n",
              "    .dataframe thead th {\n",
              "        text-align: right;\n",
              "    }\n",
              "</style>\n",
              "<table border=\"1\" class=\"dataframe\">\n",
              "  <thead>\n",
              "    <tr style=\"text-align: right;\">\n",
              "      <th>특성</th>\n",
              "      <th>지역</th>\n",
              "      <th>2000</th>\n",
              "      <th>2005</th>\n",
              "      <th>2010</th>\n",
              "      <th>2015</th>\n",
              "      <th>2005-2010 증가율</th>\n",
              "    </tr>\n",
              "    <tr>\n",
              "      <th>도시</th>\n",
              "      <th></th>\n",
              "      <th></th>\n",
              "      <th></th>\n",
              "      <th></th>\n",
              "      <th></th>\n",
              "      <th></th>\n",
              "    </tr>\n",
              "  </thead>\n",
              "  <tbody>\n",
              "    <tr>\n",
              "      <th>서울</th>\n",
              "      <td>수도권</td>\n",
              "      <td>9853972</td>\n",
              "      <td>9762546</td>\n",
              "      <td>9631482</td>\n",
              "      <td>9904312</td>\n",
              "      <td>-1.34</td>\n",
              "    </tr>\n",
              "    <tr>\n",
              "      <th>부산</th>\n",
              "      <td>경상권</td>\n",
              "      <td>3655437</td>\n",
              "      <td>3512547</td>\n",
              "      <td>3393191</td>\n",
              "      <td>3448737</td>\n",
              "      <td>-3.40</td>\n",
              "    </tr>\n",
              "    <tr>\n",
              "      <th>인천</th>\n",
              "      <td>수도권</td>\n",
              "      <td>2466338</td>\n",
              "      <td>2517680</td>\n",
              "      <td>2632035</td>\n",
              "      <td>2890451</td>\n",
              "      <td>4.54</td>\n",
              "    </tr>\n",
              "    <tr>\n",
              "      <th>대구</th>\n",
              "      <td>경상권</td>\n",
              "      <td>2473990</td>\n",
              "      <td>2456016</td>\n",
              "      <td>2431774</td>\n",
              "      <td>2466052</td>\n",
              "      <td>-0.99</td>\n",
              "    </tr>\n",
              "  </tbody>\n",
              "</table>\n",
              "</div>\n",
              "      <button class=\"colab-df-convert\" onclick=\"convertToInteractive('df-99ef1b17-54b5-4c9b-9344-7ce2b004306f')\"\n",
              "              title=\"Convert this dataframe to an interactive table.\"\n",
              "              style=\"display:none;\">\n",
              "        \n",
              "  <svg xmlns=\"http://www.w3.org/2000/svg\" height=\"24px\"viewBox=\"0 0 24 24\"\n",
              "       width=\"24px\">\n",
              "    <path d=\"M0 0h24v24H0V0z\" fill=\"none\"/>\n",
              "    <path d=\"M18.56 5.44l.94 2.06.94-2.06 2.06-.94-2.06-.94-.94-2.06-.94 2.06-2.06.94zm-11 1L8.5 8.5l.94-2.06 2.06-.94-2.06-.94L8.5 2.5l-.94 2.06-2.06.94zm10 10l.94 2.06.94-2.06 2.06-.94-2.06-.94-.94-2.06-.94 2.06-2.06.94z\"/><path d=\"M17.41 7.96l-1.37-1.37c-.4-.4-.92-.59-1.43-.59-.52 0-1.04.2-1.43.59L10.3 9.45l-7.72 7.72c-.78.78-.78 2.05 0 2.83L4 21.41c.39.39.9.59 1.41.59.51 0 1.02-.2 1.41-.59l7.78-7.78 2.81-2.81c.8-.78.8-2.07 0-2.86zM5.41 20L4 18.59l7.72-7.72 1.47 1.35L5.41 20z\"/>\n",
              "  </svg>\n",
              "      </button>\n",
              "      \n",
              "  <style>\n",
              "    .colab-df-container {\n",
              "      display:flex;\n",
              "      flex-wrap:wrap;\n",
              "      gap: 12px;\n",
              "    }\n",
              "\n",
              "    .colab-df-convert {\n",
              "      background-color: #E8F0FE;\n",
              "      border: none;\n",
              "      border-radius: 50%;\n",
              "      cursor: pointer;\n",
              "      display: none;\n",
              "      fill: #1967D2;\n",
              "      height: 32px;\n",
              "      padding: 0 0 0 0;\n",
              "      width: 32px;\n",
              "    }\n",
              "\n",
              "    .colab-df-convert:hover {\n",
              "      background-color: #E2EBFA;\n",
              "      box-shadow: 0px 1px 2px rgba(60, 64, 67, 0.3), 0px 1px 3px 1px rgba(60, 64, 67, 0.15);\n",
              "      fill: #174EA6;\n",
              "    }\n",
              "\n",
              "    [theme=dark] .colab-df-convert {\n",
              "      background-color: #3B4455;\n",
              "      fill: #D2E3FC;\n",
              "    }\n",
              "\n",
              "    [theme=dark] .colab-df-convert:hover {\n",
              "      background-color: #434B5C;\n",
              "      box-shadow: 0px 1px 3px 1px rgba(0, 0, 0, 0.15);\n",
              "      filter: drop-shadow(0px 1px 2px rgba(0, 0, 0, 0.3));\n",
              "      fill: #FFFFFF;\n",
              "    }\n",
              "  </style>\n",
              "\n",
              "      <script>\n",
              "        const buttonEl =\n",
              "          document.querySelector('#df-99ef1b17-54b5-4c9b-9344-7ce2b004306f button.colab-df-convert');\n",
              "        buttonEl.style.display =\n",
              "          google.colab.kernel.accessAllowed ? 'block' : 'none';\n",
              "\n",
              "        async function convertToInteractive(key) {\n",
              "          const element = document.querySelector('#df-99ef1b17-54b5-4c9b-9344-7ce2b004306f');\n",
              "          const dataTable =\n",
              "            await google.colab.kernel.invokeFunction('convertToInteractive',\n",
              "                                                     [key], {});\n",
              "          if (!dataTable) return;\n",
              "\n",
              "          const docLinkHtml = 'Like what you see? Visit the ' +\n",
              "            '<a target=\"_blank\" href=https://colab.research.google.com/notebooks/data_table.ipynb>data table notebook</a>'\n",
              "            + ' to learn more about interactive tables.';\n",
              "          element.innerHTML = '';\n",
              "          dataTable['output_type'] = 'display_data';\n",
              "          await google.colab.output.renderOutput(dataTable, element);\n",
              "          const docLink = document.createElement('div');\n",
              "          docLink.innerHTML = docLinkHtml;\n",
              "          element.appendChild(docLink);\n",
              "        }\n",
              "      </script>\n",
              "    </div>\n",
              "  </div>\n",
              "  "
            ],
            "text/plain": [
              "특성   지역     2000     2005     2010     2015  2005-2010 증가율\n",
              "도시                                                        \n",
              "서울  수도권  9853972  9762546  9631482  9904312          -1.34\n",
              "부산  경상권  3655437  3512547  3393191  3448737          -3.40\n",
              "인천  수도권  2466338  2517680  2632035  2890451           4.54\n",
              "대구  경상권  2473990  2456016  2431774  2466052          -0.99"
            ]
          },
          "metadata": {},
          "execution_count": 141
        }
      ]
    },
    {
      "cell_type": "markdown",
      "metadata": {
        "id": "JIkMb0UHRQ0D"
      },
      "source": [
        "열 인덱싱"
      ]
    },
    {
      "cell_type": "code",
      "source": [
        "data={                \n",
        "        \"2015\": [9904312, 3448737, 2890451, 2466052],\n",
        "        \"2010\": [9631482, 3393191, 2632035, 2431774],\n",
        "        \"2005\": [9762546, 3512547, 2517680, 2456016],\n",
        "        \"2000\": [9853972, 3655437, 2466338, 2473990],\n",
        "        \"지역\": [\"수도권\", \"경상권\", \"수도권\", \"경상권\"],\n",
        "        \"2010-2015 증가율\": [0.0283, 0.0163, 0.0982, 0.0141]\n",
        "    }\n",
        "index=[\"서울\",\"부산\",\"인천\",\"대구\"]\n",
        "columns=[\"지역\",\"2000\",\"2005\",\"2010\",\"2015\",\"2010-2015 증가율\"]\n",
        "\n",
        "DF3=pd.DataFrame(data,index=index,columns=columns)\n",
        "\n",
        "DF3"
      ],
      "metadata": {
        "colab": {
          "base_uri": "https://localhost:8080/",
          "height": 175
        },
        "id": "aLw5KOGYMis2",
        "outputId": "2f65c6ce-385c-4d0a-cde3-ea83d0acda47"
      },
      "execution_count": 145,
      "outputs": [
        {
          "output_type": "execute_result",
          "data": {
            "text/html": [
              "\n",
              "  <div id=\"df-fa61fa64-c71c-491c-87aa-2aaefe6e21b0\">\n",
              "    <div class=\"colab-df-container\">\n",
              "      <div>\n",
              "<style scoped>\n",
              "    .dataframe tbody tr th:only-of-type {\n",
              "        vertical-align: middle;\n",
              "    }\n",
              "\n",
              "    .dataframe tbody tr th {\n",
              "        vertical-align: top;\n",
              "    }\n",
              "\n",
              "    .dataframe thead th {\n",
              "        text-align: right;\n",
              "    }\n",
              "</style>\n",
              "<table border=\"1\" class=\"dataframe\">\n",
              "  <thead>\n",
              "    <tr style=\"text-align: right;\">\n",
              "      <th></th>\n",
              "      <th>지역</th>\n",
              "      <th>2000</th>\n",
              "      <th>2005</th>\n",
              "      <th>2010</th>\n",
              "      <th>2015</th>\n",
              "      <th>2010-2015 증가율</th>\n",
              "    </tr>\n",
              "  </thead>\n",
              "  <tbody>\n",
              "    <tr>\n",
              "      <th>서울</th>\n",
              "      <td>수도권</td>\n",
              "      <td>9853972</td>\n",
              "      <td>9762546</td>\n",
              "      <td>9631482</td>\n",
              "      <td>9904312</td>\n",
              "      <td>0.0283</td>\n",
              "    </tr>\n",
              "    <tr>\n",
              "      <th>부산</th>\n",
              "      <td>경상권</td>\n",
              "      <td>3655437</td>\n",
              "      <td>3512547</td>\n",
              "      <td>3393191</td>\n",
              "      <td>3448737</td>\n",
              "      <td>0.0163</td>\n",
              "    </tr>\n",
              "    <tr>\n",
              "      <th>인천</th>\n",
              "      <td>수도권</td>\n",
              "      <td>2466338</td>\n",
              "      <td>2517680</td>\n",
              "      <td>2632035</td>\n",
              "      <td>2890451</td>\n",
              "      <td>0.0982</td>\n",
              "    </tr>\n",
              "    <tr>\n",
              "      <th>대구</th>\n",
              "      <td>경상권</td>\n",
              "      <td>2473990</td>\n",
              "      <td>2456016</td>\n",
              "      <td>2431774</td>\n",
              "      <td>2466052</td>\n",
              "      <td>0.0141</td>\n",
              "    </tr>\n",
              "  </tbody>\n",
              "</table>\n",
              "</div>\n",
              "      <button class=\"colab-df-convert\" onclick=\"convertToInteractive('df-fa61fa64-c71c-491c-87aa-2aaefe6e21b0')\"\n",
              "              title=\"Convert this dataframe to an interactive table.\"\n",
              "              style=\"display:none;\">\n",
              "        \n",
              "  <svg xmlns=\"http://www.w3.org/2000/svg\" height=\"24px\"viewBox=\"0 0 24 24\"\n",
              "       width=\"24px\">\n",
              "    <path d=\"M0 0h24v24H0V0z\" fill=\"none\"/>\n",
              "    <path d=\"M18.56 5.44l.94 2.06.94-2.06 2.06-.94-2.06-.94-.94-2.06-.94 2.06-2.06.94zm-11 1L8.5 8.5l.94-2.06 2.06-.94-2.06-.94L8.5 2.5l-.94 2.06-2.06.94zm10 10l.94 2.06.94-2.06 2.06-.94-2.06-.94-.94-2.06-.94 2.06-2.06.94z\"/><path d=\"M17.41 7.96l-1.37-1.37c-.4-.4-.92-.59-1.43-.59-.52 0-1.04.2-1.43.59L10.3 9.45l-7.72 7.72c-.78.78-.78 2.05 0 2.83L4 21.41c.39.39.9.59 1.41.59.51 0 1.02-.2 1.41-.59l7.78-7.78 2.81-2.81c.8-.78.8-2.07 0-2.86zM5.41 20L4 18.59l7.72-7.72 1.47 1.35L5.41 20z\"/>\n",
              "  </svg>\n",
              "      </button>\n",
              "      \n",
              "  <style>\n",
              "    .colab-df-container {\n",
              "      display:flex;\n",
              "      flex-wrap:wrap;\n",
              "      gap: 12px;\n",
              "    }\n",
              "\n",
              "    .colab-df-convert {\n",
              "      background-color: #E8F0FE;\n",
              "      border: none;\n",
              "      border-radius: 50%;\n",
              "      cursor: pointer;\n",
              "      display: none;\n",
              "      fill: #1967D2;\n",
              "      height: 32px;\n",
              "      padding: 0 0 0 0;\n",
              "      width: 32px;\n",
              "    }\n",
              "\n",
              "    .colab-df-convert:hover {\n",
              "      background-color: #E2EBFA;\n",
              "      box-shadow: 0px 1px 2px rgba(60, 64, 67, 0.3), 0px 1px 3px 1px rgba(60, 64, 67, 0.15);\n",
              "      fill: #174EA6;\n",
              "    }\n",
              "\n",
              "    [theme=dark] .colab-df-convert {\n",
              "      background-color: #3B4455;\n",
              "      fill: #D2E3FC;\n",
              "    }\n",
              "\n",
              "    [theme=dark] .colab-df-convert:hover {\n",
              "      background-color: #434B5C;\n",
              "      box-shadow: 0px 1px 3px 1px rgba(0, 0, 0, 0.15);\n",
              "      filter: drop-shadow(0px 1px 2px rgba(0, 0, 0, 0.3));\n",
              "      fill: #FFFFFF;\n",
              "    }\n",
              "  </style>\n",
              "\n",
              "      <script>\n",
              "        const buttonEl =\n",
              "          document.querySelector('#df-fa61fa64-c71c-491c-87aa-2aaefe6e21b0 button.colab-df-convert');\n",
              "        buttonEl.style.display =\n",
              "          google.colab.kernel.accessAllowed ? 'block' : 'none';\n",
              "\n",
              "        async function convertToInteractive(key) {\n",
              "          const element = document.querySelector('#df-fa61fa64-c71c-491c-87aa-2aaefe6e21b0');\n",
              "          const dataTable =\n",
              "            await google.colab.kernel.invokeFunction('convertToInteractive',\n",
              "                                                     [key], {});\n",
              "          if (!dataTable) return;\n",
              "\n",
              "          const docLinkHtml = 'Like what you see? Visit the ' +\n",
              "            '<a target=\"_blank\" href=https://colab.research.google.com/notebooks/data_table.ipynb>data table notebook</a>'\n",
              "            + ' to learn more about interactive tables.';\n",
              "          element.innerHTML = '';\n",
              "          dataTable['output_type'] = 'display_data';\n",
              "          await google.colab.output.renderOutput(dataTable, element);\n",
              "          const docLink = document.createElement('div');\n",
              "          docLink.innerHTML = docLinkHtml;\n",
              "          element.appendChild(docLink);\n",
              "        }\n",
              "      </script>\n",
              "    </div>\n",
              "  </div>\n",
              "  "
            ],
            "text/plain": [
              "     지역     2000     2005     2010     2015  2010-2015 증가율\n",
              "서울  수도권  9853972  9762546  9631482  9904312         0.0283\n",
              "부산  경상권  3655437  3512547  3393191  3448737         0.0163\n",
              "인천  수도권  2466338  2517680  2632035  2890451         0.0982\n",
              "대구  경상권  2473990  2456016  2431774  2466052         0.0141"
            ]
          },
          "metadata": {},
          "execution_count": 145
        }
      ]
    },
    {
      "cell_type": "code",
      "metadata": {
        "colab": {
          "base_uri": "https://localhost:8080/"
        },
        "id": "QTP2AwtYRSZC",
        "outputId": "58b73489-ba6a-4075-e8c6-9b323ba243cc"
      },
      "source": [
        "DF3[\"지역\"]"
      ],
      "execution_count": 146,
      "outputs": [
        {
          "output_type": "execute_result",
          "data": {
            "text/plain": [
              "서울    수도권\n",
              "부산    경상권\n",
              "인천    수도권\n",
              "대구    경상권\n",
              "Name: 지역, dtype: object"
            ]
          },
          "metadata": {},
          "execution_count": 146
        }
      ]
    },
    {
      "cell_type": "code",
      "metadata": {
        "colab": {
          "base_uri": "https://localhost:8080/"
        },
        "id": "Ickp-neHRUSD",
        "outputId": "22f9754d-764e-4eee-d193-93e61d193df4"
      },
      "source": [
        "type(DF3[\"지역\"])"
      ],
      "execution_count": 147,
      "outputs": [
        {
          "output_type": "execute_result",
          "data": {
            "text/plain": [
              "pandas.core.series.Series"
            ]
          },
          "metadata": {},
          "execution_count": 147
        }
      ]
    },
    {
      "cell_type": "code",
      "metadata": {
        "colab": {
          "base_uri": "https://localhost:8080/",
          "height": 175
        },
        "id": "e9aXsqG9RV60",
        "outputId": "fb896350-6c23-47f5-bf4a-280483504743"
      },
      "source": [
        "DF3[[\"지역\",\"2010-2015 증가율\"]]"
      ],
      "execution_count": 148,
      "outputs": [
        {
          "output_type": "execute_result",
          "data": {
            "text/html": [
              "\n",
              "  <div id=\"df-1c6d5cdb-eb2e-42a9-b155-44f365fc0784\">\n",
              "    <div class=\"colab-df-container\">\n",
              "      <div>\n",
              "<style scoped>\n",
              "    .dataframe tbody tr th:only-of-type {\n",
              "        vertical-align: middle;\n",
              "    }\n",
              "\n",
              "    .dataframe tbody tr th {\n",
              "        vertical-align: top;\n",
              "    }\n",
              "\n",
              "    .dataframe thead th {\n",
              "        text-align: right;\n",
              "    }\n",
              "</style>\n",
              "<table border=\"1\" class=\"dataframe\">\n",
              "  <thead>\n",
              "    <tr style=\"text-align: right;\">\n",
              "      <th></th>\n",
              "      <th>지역</th>\n",
              "      <th>2010-2015 증가율</th>\n",
              "    </tr>\n",
              "  </thead>\n",
              "  <tbody>\n",
              "    <tr>\n",
              "      <th>서울</th>\n",
              "      <td>수도권</td>\n",
              "      <td>0.0283</td>\n",
              "    </tr>\n",
              "    <tr>\n",
              "      <th>부산</th>\n",
              "      <td>경상권</td>\n",
              "      <td>0.0163</td>\n",
              "    </tr>\n",
              "    <tr>\n",
              "      <th>인천</th>\n",
              "      <td>수도권</td>\n",
              "      <td>0.0982</td>\n",
              "    </tr>\n",
              "    <tr>\n",
              "      <th>대구</th>\n",
              "      <td>경상권</td>\n",
              "      <td>0.0141</td>\n",
              "    </tr>\n",
              "  </tbody>\n",
              "</table>\n",
              "</div>\n",
              "      <button class=\"colab-df-convert\" onclick=\"convertToInteractive('df-1c6d5cdb-eb2e-42a9-b155-44f365fc0784')\"\n",
              "              title=\"Convert this dataframe to an interactive table.\"\n",
              "              style=\"display:none;\">\n",
              "        \n",
              "  <svg xmlns=\"http://www.w3.org/2000/svg\" height=\"24px\"viewBox=\"0 0 24 24\"\n",
              "       width=\"24px\">\n",
              "    <path d=\"M0 0h24v24H0V0z\" fill=\"none\"/>\n",
              "    <path d=\"M18.56 5.44l.94 2.06.94-2.06 2.06-.94-2.06-.94-.94-2.06-.94 2.06-2.06.94zm-11 1L8.5 8.5l.94-2.06 2.06-.94-2.06-.94L8.5 2.5l-.94 2.06-2.06.94zm10 10l.94 2.06.94-2.06 2.06-.94-2.06-.94-.94-2.06-.94 2.06-2.06.94z\"/><path d=\"M17.41 7.96l-1.37-1.37c-.4-.4-.92-.59-1.43-.59-.52 0-1.04.2-1.43.59L10.3 9.45l-7.72 7.72c-.78.78-.78 2.05 0 2.83L4 21.41c.39.39.9.59 1.41.59.51 0 1.02-.2 1.41-.59l7.78-7.78 2.81-2.81c.8-.78.8-2.07 0-2.86zM5.41 20L4 18.59l7.72-7.72 1.47 1.35L5.41 20z\"/>\n",
              "  </svg>\n",
              "      </button>\n",
              "      \n",
              "  <style>\n",
              "    .colab-df-container {\n",
              "      display:flex;\n",
              "      flex-wrap:wrap;\n",
              "      gap: 12px;\n",
              "    }\n",
              "\n",
              "    .colab-df-convert {\n",
              "      background-color: #E8F0FE;\n",
              "      border: none;\n",
              "      border-radius: 50%;\n",
              "      cursor: pointer;\n",
              "      display: none;\n",
              "      fill: #1967D2;\n",
              "      height: 32px;\n",
              "      padding: 0 0 0 0;\n",
              "      width: 32px;\n",
              "    }\n",
              "\n",
              "    .colab-df-convert:hover {\n",
              "      background-color: #E2EBFA;\n",
              "      box-shadow: 0px 1px 2px rgba(60, 64, 67, 0.3), 0px 1px 3px 1px rgba(60, 64, 67, 0.15);\n",
              "      fill: #174EA6;\n",
              "    }\n",
              "\n",
              "    [theme=dark] .colab-df-convert {\n",
              "      background-color: #3B4455;\n",
              "      fill: #D2E3FC;\n",
              "    }\n",
              "\n",
              "    [theme=dark] .colab-df-convert:hover {\n",
              "      background-color: #434B5C;\n",
              "      box-shadow: 0px 1px 3px 1px rgba(0, 0, 0, 0.15);\n",
              "      filter: drop-shadow(0px 1px 2px rgba(0, 0, 0, 0.3));\n",
              "      fill: #FFFFFF;\n",
              "    }\n",
              "  </style>\n",
              "\n",
              "      <script>\n",
              "        const buttonEl =\n",
              "          document.querySelector('#df-1c6d5cdb-eb2e-42a9-b155-44f365fc0784 button.colab-df-convert');\n",
              "        buttonEl.style.display =\n",
              "          google.colab.kernel.accessAllowed ? 'block' : 'none';\n",
              "\n",
              "        async function convertToInteractive(key) {\n",
              "          const element = document.querySelector('#df-1c6d5cdb-eb2e-42a9-b155-44f365fc0784');\n",
              "          const dataTable =\n",
              "            await google.colab.kernel.invokeFunction('convertToInteractive',\n",
              "                                                     [key], {});\n",
              "          if (!dataTable) return;\n",
              "\n",
              "          const docLinkHtml = 'Like what you see? Visit the ' +\n",
              "            '<a target=\"_blank\" href=https://colab.research.google.com/notebooks/data_table.ipynb>data table notebook</a>'\n",
              "            + ' to learn more about interactive tables.';\n",
              "          element.innerHTML = '';\n",
              "          dataTable['output_type'] = 'display_data';\n",
              "          await google.colab.output.renderOutput(dataTable, element);\n",
              "          const docLink = document.createElement('div');\n",
              "          docLink.innerHTML = docLinkHtml;\n",
              "          element.appendChild(docLink);\n",
              "        }\n",
              "      </script>\n",
              "    </div>\n",
              "  </div>\n",
              "  "
            ],
            "text/plain": [
              "     지역  2010-2015 증가율\n",
              "서울  수도권         0.0283\n",
              "부산  경상권         0.0163\n",
              "인천  수도권         0.0982\n",
              "대구  경상권         0.0141"
            ]
          },
          "metadata": {},
          "execution_count": 148
        }
      ]
    },
    {
      "cell_type": "code",
      "metadata": {
        "colab": {
          "base_uri": "https://localhost:8080/"
        },
        "id": "JvbI_kMdRXSc",
        "outputId": "849731fa-31bd-4258-e706-e490b08dfb2a"
      },
      "source": [
        "type(DF3[[\"지역\",\"2010-2015 증가율\"]])"
      ],
      "execution_count": 149,
      "outputs": [
        {
          "output_type": "execute_result",
          "data": {
            "text/plain": [
              "pandas.core.frame.DataFrame"
            ]
          },
          "metadata": {},
          "execution_count": 149
        }
      ]
    },
    {
      "cell_type": "code",
      "metadata": {
        "colab": {
          "base_uri": "https://localhost:8080/",
          "height": 175
        },
        "id": "wGFKmFT5RYiG",
        "outputId": "8e3c493d-a15f-437c-c436-f934b7da2d85"
      },
      "source": [
        "# 하나의 열만 인덱싱하면서 데이터 프레임 자료형을 유지하고자 할 때\n",
        "\n",
        "DF3[[\"지역\"]]"
      ],
      "execution_count": 150,
      "outputs": [
        {
          "output_type": "execute_result",
          "data": {
            "text/html": [
              "\n",
              "  <div id=\"df-b4d6cc23-5e14-4715-a00c-9383f38a6192\">\n",
              "    <div class=\"colab-df-container\">\n",
              "      <div>\n",
              "<style scoped>\n",
              "    .dataframe tbody tr th:only-of-type {\n",
              "        vertical-align: middle;\n",
              "    }\n",
              "\n",
              "    .dataframe tbody tr th {\n",
              "        vertical-align: top;\n",
              "    }\n",
              "\n",
              "    .dataframe thead th {\n",
              "        text-align: right;\n",
              "    }\n",
              "</style>\n",
              "<table border=\"1\" class=\"dataframe\">\n",
              "  <thead>\n",
              "    <tr style=\"text-align: right;\">\n",
              "      <th></th>\n",
              "      <th>지역</th>\n",
              "    </tr>\n",
              "  </thead>\n",
              "  <tbody>\n",
              "    <tr>\n",
              "      <th>서울</th>\n",
              "      <td>수도권</td>\n",
              "    </tr>\n",
              "    <tr>\n",
              "      <th>부산</th>\n",
              "      <td>경상권</td>\n",
              "    </tr>\n",
              "    <tr>\n",
              "      <th>인천</th>\n",
              "      <td>수도권</td>\n",
              "    </tr>\n",
              "    <tr>\n",
              "      <th>대구</th>\n",
              "      <td>경상권</td>\n",
              "    </tr>\n",
              "  </tbody>\n",
              "</table>\n",
              "</div>\n",
              "      <button class=\"colab-df-convert\" onclick=\"convertToInteractive('df-b4d6cc23-5e14-4715-a00c-9383f38a6192')\"\n",
              "              title=\"Convert this dataframe to an interactive table.\"\n",
              "              style=\"display:none;\">\n",
              "        \n",
              "  <svg xmlns=\"http://www.w3.org/2000/svg\" height=\"24px\"viewBox=\"0 0 24 24\"\n",
              "       width=\"24px\">\n",
              "    <path d=\"M0 0h24v24H0V0z\" fill=\"none\"/>\n",
              "    <path d=\"M18.56 5.44l.94 2.06.94-2.06 2.06-.94-2.06-.94-.94-2.06-.94 2.06-2.06.94zm-11 1L8.5 8.5l.94-2.06 2.06-.94-2.06-.94L8.5 2.5l-.94 2.06-2.06.94zm10 10l.94 2.06.94-2.06 2.06-.94-2.06-.94-.94-2.06-.94 2.06-2.06.94z\"/><path d=\"M17.41 7.96l-1.37-1.37c-.4-.4-.92-.59-1.43-.59-.52 0-1.04.2-1.43.59L10.3 9.45l-7.72 7.72c-.78.78-.78 2.05 0 2.83L4 21.41c.39.39.9.59 1.41.59.51 0 1.02-.2 1.41-.59l7.78-7.78 2.81-2.81c.8-.78.8-2.07 0-2.86zM5.41 20L4 18.59l7.72-7.72 1.47 1.35L5.41 20z\"/>\n",
              "  </svg>\n",
              "      </button>\n",
              "      \n",
              "  <style>\n",
              "    .colab-df-container {\n",
              "      display:flex;\n",
              "      flex-wrap:wrap;\n",
              "      gap: 12px;\n",
              "    }\n",
              "\n",
              "    .colab-df-convert {\n",
              "      background-color: #E8F0FE;\n",
              "      border: none;\n",
              "      border-radius: 50%;\n",
              "      cursor: pointer;\n",
              "      display: none;\n",
              "      fill: #1967D2;\n",
              "      height: 32px;\n",
              "      padding: 0 0 0 0;\n",
              "      width: 32px;\n",
              "    }\n",
              "\n",
              "    .colab-df-convert:hover {\n",
              "      background-color: #E2EBFA;\n",
              "      box-shadow: 0px 1px 2px rgba(60, 64, 67, 0.3), 0px 1px 3px 1px rgba(60, 64, 67, 0.15);\n",
              "      fill: #174EA6;\n",
              "    }\n",
              "\n",
              "    [theme=dark] .colab-df-convert {\n",
              "      background-color: #3B4455;\n",
              "      fill: #D2E3FC;\n",
              "    }\n",
              "\n",
              "    [theme=dark] .colab-df-convert:hover {\n",
              "      background-color: #434B5C;\n",
              "      box-shadow: 0px 1px 3px 1px rgba(0, 0, 0, 0.15);\n",
              "      filter: drop-shadow(0px 1px 2px rgba(0, 0, 0, 0.3));\n",
              "      fill: #FFFFFF;\n",
              "    }\n",
              "  </style>\n",
              "\n",
              "      <script>\n",
              "        const buttonEl =\n",
              "          document.querySelector('#df-b4d6cc23-5e14-4715-a00c-9383f38a6192 button.colab-df-convert');\n",
              "        buttonEl.style.display =\n",
              "          google.colab.kernel.accessAllowed ? 'block' : 'none';\n",
              "\n",
              "        async function convertToInteractive(key) {\n",
              "          const element = document.querySelector('#df-b4d6cc23-5e14-4715-a00c-9383f38a6192');\n",
              "          const dataTable =\n",
              "            await google.colab.kernel.invokeFunction('convertToInteractive',\n",
              "                                                     [key], {});\n",
              "          if (!dataTable) return;\n",
              "\n",
              "          const docLinkHtml = 'Like what you see? Visit the ' +\n",
              "            '<a target=\"_blank\" href=https://colab.research.google.com/notebooks/data_table.ipynb>data table notebook</a>'\n",
              "            + ' to learn more about interactive tables.';\n",
              "          element.innerHTML = '';\n",
              "          dataTable['output_type'] = 'display_data';\n",
              "          await google.colab.output.renderOutput(dataTable, element);\n",
              "          const docLink = document.createElement('div');\n",
              "          docLink.innerHTML = docLinkHtml;\n",
              "          element.appendChild(docLink);\n",
              "        }\n",
              "      </script>\n",
              "    </div>\n",
              "  </div>\n",
              "  "
            ],
            "text/plain": [
              "     지역\n",
              "서울  수도권\n",
              "부산  경상권\n",
              "인천  수도권\n",
              "대구  경상권"
            ]
          },
          "metadata": {},
          "execution_count": 150
        }
      ]
    },
    {
      "cell_type": "code",
      "metadata": {
        "colab": {
          "base_uri": "https://localhost:8080/"
        },
        "id": "rOdLtWYcRcLB",
        "outputId": "e55c5169-eff8-4885-da51-e6aa7ab986e9"
      },
      "source": [
        "type(DF3[[\"지역\"]])"
      ],
      "execution_count": 151,
      "outputs": [
        {
          "output_type": "execute_result",
          "data": {
            "text/plain": [
              "pandas.core.frame.DataFrame"
            ]
          },
          "metadata": {},
          "execution_count": 151
        }
      ]
    },
    {
      "cell_type": "markdown",
      "metadata": {
        "id": "YLjFkCuDRoGD"
      },
      "source": [
        "행 인덱싱"
      ]
    },
    {
      "cell_type": "code",
      "metadata": {
        "colab": {
          "base_uri": "https://localhost:8080/",
          "height": 81
        },
        "id": "Iv-kMDNQRofX",
        "outputId": "110b0fbd-b731-4d80-85ce-fab6d4225135"
      },
      "source": [
        "DF3[:1]"
      ],
      "execution_count": 152,
      "outputs": [
        {
          "output_type": "execute_result",
          "data": {
            "text/html": [
              "\n",
              "  <div id=\"df-9e970dae-d365-457f-b6df-dc9a6bcbd185\">\n",
              "    <div class=\"colab-df-container\">\n",
              "      <div>\n",
              "<style scoped>\n",
              "    .dataframe tbody tr th:only-of-type {\n",
              "        vertical-align: middle;\n",
              "    }\n",
              "\n",
              "    .dataframe tbody tr th {\n",
              "        vertical-align: top;\n",
              "    }\n",
              "\n",
              "    .dataframe thead th {\n",
              "        text-align: right;\n",
              "    }\n",
              "</style>\n",
              "<table border=\"1\" class=\"dataframe\">\n",
              "  <thead>\n",
              "    <tr style=\"text-align: right;\">\n",
              "      <th></th>\n",
              "      <th>지역</th>\n",
              "      <th>2000</th>\n",
              "      <th>2005</th>\n",
              "      <th>2010</th>\n",
              "      <th>2015</th>\n",
              "      <th>2010-2015 증가율</th>\n",
              "    </tr>\n",
              "  </thead>\n",
              "  <tbody>\n",
              "    <tr>\n",
              "      <th>서울</th>\n",
              "      <td>수도권</td>\n",
              "      <td>9853972</td>\n",
              "      <td>9762546</td>\n",
              "      <td>9631482</td>\n",
              "      <td>9904312</td>\n",
              "      <td>0.0283</td>\n",
              "    </tr>\n",
              "  </tbody>\n",
              "</table>\n",
              "</div>\n",
              "      <button class=\"colab-df-convert\" onclick=\"convertToInteractive('df-9e970dae-d365-457f-b6df-dc9a6bcbd185')\"\n",
              "              title=\"Convert this dataframe to an interactive table.\"\n",
              "              style=\"display:none;\">\n",
              "        \n",
              "  <svg xmlns=\"http://www.w3.org/2000/svg\" height=\"24px\"viewBox=\"0 0 24 24\"\n",
              "       width=\"24px\">\n",
              "    <path d=\"M0 0h24v24H0V0z\" fill=\"none\"/>\n",
              "    <path d=\"M18.56 5.44l.94 2.06.94-2.06 2.06-.94-2.06-.94-.94-2.06-.94 2.06-2.06.94zm-11 1L8.5 8.5l.94-2.06 2.06-.94-2.06-.94L8.5 2.5l-.94 2.06-2.06.94zm10 10l.94 2.06.94-2.06 2.06-.94-2.06-.94-.94-2.06-.94 2.06-2.06.94z\"/><path d=\"M17.41 7.96l-1.37-1.37c-.4-.4-.92-.59-1.43-.59-.52 0-1.04.2-1.43.59L10.3 9.45l-7.72 7.72c-.78.78-.78 2.05 0 2.83L4 21.41c.39.39.9.59 1.41.59.51 0 1.02-.2 1.41-.59l7.78-7.78 2.81-2.81c.8-.78.8-2.07 0-2.86zM5.41 20L4 18.59l7.72-7.72 1.47 1.35L5.41 20z\"/>\n",
              "  </svg>\n",
              "      </button>\n",
              "      \n",
              "  <style>\n",
              "    .colab-df-container {\n",
              "      display:flex;\n",
              "      flex-wrap:wrap;\n",
              "      gap: 12px;\n",
              "    }\n",
              "\n",
              "    .colab-df-convert {\n",
              "      background-color: #E8F0FE;\n",
              "      border: none;\n",
              "      border-radius: 50%;\n",
              "      cursor: pointer;\n",
              "      display: none;\n",
              "      fill: #1967D2;\n",
              "      height: 32px;\n",
              "      padding: 0 0 0 0;\n",
              "      width: 32px;\n",
              "    }\n",
              "\n",
              "    .colab-df-convert:hover {\n",
              "      background-color: #E2EBFA;\n",
              "      box-shadow: 0px 1px 2px rgba(60, 64, 67, 0.3), 0px 1px 3px 1px rgba(60, 64, 67, 0.15);\n",
              "      fill: #174EA6;\n",
              "    }\n",
              "\n",
              "    [theme=dark] .colab-df-convert {\n",
              "      background-color: #3B4455;\n",
              "      fill: #D2E3FC;\n",
              "    }\n",
              "\n",
              "    [theme=dark] .colab-df-convert:hover {\n",
              "      background-color: #434B5C;\n",
              "      box-shadow: 0px 1px 3px 1px rgba(0, 0, 0, 0.15);\n",
              "      filter: drop-shadow(0px 1px 2px rgba(0, 0, 0, 0.3));\n",
              "      fill: #FFFFFF;\n",
              "    }\n",
              "  </style>\n",
              "\n",
              "      <script>\n",
              "        const buttonEl =\n",
              "          document.querySelector('#df-9e970dae-d365-457f-b6df-dc9a6bcbd185 button.colab-df-convert');\n",
              "        buttonEl.style.display =\n",
              "          google.colab.kernel.accessAllowed ? 'block' : 'none';\n",
              "\n",
              "        async function convertToInteractive(key) {\n",
              "          const element = document.querySelector('#df-9e970dae-d365-457f-b6df-dc9a6bcbd185');\n",
              "          const dataTable =\n",
              "            await google.colab.kernel.invokeFunction('convertToInteractive',\n",
              "                                                     [key], {});\n",
              "          if (!dataTable) return;\n",
              "\n",
              "          const docLinkHtml = 'Like what you see? Visit the ' +\n",
              "            '<a target=\"_blank\" href=https://colab.research.google.com/notebooks/data_table.ipynb>data table notebook</a>'\n",
              "            + ' to learn more about interactive tables.';\n",
              "          element.innerHTML = '';\n",
              "          dataTable['output_type'] = 'display_data';\n",
              "          await google.colab.output.renderOutput(dataTable, element);\n",
              "          const docLink = document.createElement('div');\n",
              "          docLink.innerHTML = docLinkHtml;\n",
              "          element.appendChild(docLink);\n",
              "        }\n",
              "      </script>\n",
              "    </div>\n",
              "  </div>\n",
              "  "
            ],
            "text/plain": [
              "     지역     2000     2005     2010     2015  2010-2015 증가율\n",
              "서울  수도권  9853972  9762546  9631482  9904312         0.0283"
            ]
          },
          "metadata": {},
          "execution_count": 152
        }
      ]
    },
    {
      "cell_type": "code",
      "metadata": {
        "colab": {
          "base_uri": "https://localhost:8080/",
          "height": 81
        },
        "id": "0lFpRy0bRqp3",
        "outputId": "5268628f-b4ad-453e-b247-96fcafbcb84e"
      },
      "source": [
        "DF3[1:2]"
      ],
      "execution_count": 153,
      "outputs": [
        {
          "output_type": "execute_result",
          "data": {
            "text/html": [
              "\n",
              "  <div id=\"df-dd8a5442-9733-4438-a193-9b568d672404\">\n",
              "    <div class=\"colab-df-container\">\n",
              "      <div>\n",
              "<style scoped>\n",
              "    .dataframe tbody tr th:only-of-type {\n",
              "        vertical-align: middle;\n",
              "    }\n",
              "\n",
              "    .dataframe tbody tr th {\n",
              "        vertical-align: top;\n",
              "    }\n",
              "\n",
              "    .dataframe thead th {\n",
              "        text-align: right;\n",
              "    }\n",
              "</style>\n",
              "<table border=\"1\" class=\"dataframe\">\n",
              "  <thead>\n",
              "    <tr style=\"text-align: right;\">\n",
              "      <th></th>\n",
              "      <th>지역</th>\n",
              "      <th>2000</th>\n",
              "      <th>2005</th>\n",
              "      <th>2010</th>\n",
              "      <th>2015</th>\n",
              "      <th>2010-2015 증가율</th>\n",
              "    </tr>\n",
              "  </thead>\n",
              "  <tbody>\n",
              "    <tr>\n",
              "      <th>부산</th>\n",
              "      <td>경상권</td>\n",
              "      <td>3655437</td>\n",
              "      <td>3512547</td>\n",
              "      <td>3393191</td>\n",
              "      <td>3448737</td>\n",
              "      <td>0.0163</td>\n",
              "    </tr>\n",
              "  </tbody>\n",
              "</table>\n",
              "</div>\n",
              "      <button class=\"colab-df-convert\" onclick=\"convertToInteractive('df-dd8a5442-9733-4438-a193-9b568d672404')\"\n",
              "              title=\"Convert this dataframe to an interactive table.\"\n",
              "              style=\"display:none;\">\n",
              "        \n",
              "  <svg xmlns=\"http://www.w3.org/2000/svg\" height=\"24px\"viewBox=\"0 0 24 24\"\n",
              "       width=\"24px\">\n",
              "    <path d=\"M0 0h24v24H0V0z\" fill=\"none\"/>\n",
              "    <path d=\"M18.56 5.44l.94 2.06.94-2.06 2.06-.94-2.06-.94-.94-2.06-.94 2.06-2.06.94zm-11 1L8.5 8.5l.94-2.06 2.06-.94-2.06-.94L8.5 2.5l-.94 2.06-2.06.94zm10 10l.94 2.06.94-2.06 2.06-.94-2.06-.94-.94-2.06-.94 2.06-2.06.94z\"/><path d=\"M17.41 7.96l-1.37-1.37c-.4-.4-.92-.59-1.43-.59-.52 0-1.04.2-1.43.59L10.3 9.45l-7.72 7.72c-.78.78-.78 2.05 0 2.83L4 21.41c.39.39.9.59 1.41.59.51 0 1.02-.2 1.41-.59l7.78-7.78 2.81-2.81c.8-.78.8-2.07 0-2.86zM5.41 20L4 18.59l7.72-7.72 1.47 1.35L5.41 20z\"/>\n",
              "  </svg>\n",
              "      </button>\n",
              "      \n",
              "  <style>\n",
              "    .colab-df-container {\n",
              "      display:flex;\n",
              "      flex-wrap:wrap;\n",
              "      gap: 12px;\n",
              "    }\n",
              "\n",
              "    .colab-df-convert {\n",
              "      background-color: #E8F0FE;\n",
              "      border: none;\n",
              "      border-radius: 50%;\n",
              "      cursor: pointer;\n",
              "      display: none;\n",
              "      fill: #1967D2;\n",
              "      height: 32px;\n",
              "      padding: 0 0 0 0;\n",
              "      width: 32px;\n",
              "    }\n",
              "\n",
              "    .colab-df-convert:hover {\n",
              "      background-color: #E2EBFA;\n",
              "      box-shadow: 0px 1px 2px rgba(60, 64, 67, 0.3), 0px 1px 3px 1px rgba(60, 64, 67, 0.15);\n",
              "      fill: #174EA6;\n",
              "    }\n",
              "\n",
              "    [theme=dark] .colab-df-convert {\n",
              "      background-color: #3B4455;\n",
              "      fill: #D2E3FC;\n",
              "    }\n",
              "\n",
              "    [theme=dark] .colab-df-convert:hover {\n",
              "      background-color: #434B5C;\n",
              "      box-shadow: 0px 1px 3px 1px rgba(0, 0, 0, 0.15);\n",
              "      filter: drop-shadow(0px 1px 2px rgba(0, 0, 0, 0.3));\n",
              "      fill: #FFFFFF;\n",
              "    }\n",
              "  </style>\n",
              "\n",
              "      <script>\n",
              "        const buttonEl =\n",
              "          document.querySelector('#df-dd8a5442-9733-4438-a193-9b568d672404 button.colab-df-convert');\n",
              "        buttonEl.style.display =\n",
              "          google.colab.kernel.accessAllowed ? 'block' : 'none';\n",
              "\n",
              "        async function convertToInteractive(key) {\n",
              "          const element = document.querySelector('#df-dd8a5442-9733-4438-a193-9b568d672404');\n",
              "          const dataTable =\n",
              "            await google.colab.kernel.invokeFunction('convertToInteractive',\n",
              "                                                     [key], {});\n",
              "          if (!dataTable) return;\n",
              "\n",
              "          const docLinkHtml = 'Like what you see? Visit the ' +\n",
              "            '<a target=\"_blank\" href=https://colab.research.google.com/notebooks/data_table.ipynb>data table notebook</a>'\n",
              "            + ' to learn more about interactive tables.';\n",
              "          element.innerHTML = '';\n",
              "          dataTable['output_type'] = 'display_data';\n",
              "          await google.colab.output.renderOutput(dataTable, element);\n",
              "          const docLink = document.createElement('div');\n",
              "          docLink.innerHTML = docLinkHtml;\n",
              "          element.appendChild(docLink);\n",
              "        }\n",
              "      </script>\n",
              "    </div>\n",
              "  </div>\n",
              "  "
            ],
            "text/plain": [
              "     지역     2000     2005     2010     2015  2010-2015 증가율\n",
              "부산  경상권  3655437  3512547  3393191  3448737         0.0163"
            ]
          },
          "metadata": {},
          "execution_count": 153
        }
      ]
    },
    {
      "cell_type": "code",
      "metadata": {
        "colab": {
          "base_uri": "https://localhost:8080/",
          "height": 112
        },
        "id": "TG_9khyHRsKy",
        "outputId": "4f9cdc95-0170-4357-d7ea-9644e2345c20"
      },
      "source": [
        "DF3[\"서울\":\"부산\"]"
      ],
      "execution_count": 154,
      "outputs": [
        {
          "output_type": "execute_result",
          "data": {
            "text/html": [
              "\n",
              "  <div id=\"df-786d7bc7-8682-4186-ba1f-8cf8f23caa5b\">\n",
              "    <div class=\"colab-df-container\">\n",
              "      <div>\n",
              "<style scoped>\n",
              "    .dataframe tbody tr th:only-of-type {\n",
              "        vertical-align: middle;\n",
              "    }\n",
              "\n",
              "    .dataframe tbody tr th {\n",
              "        vertical-align: top;\n",
              "    }\n",
              "\n",
              "    .dataframe thead th {\n",
              "        text-align: right;\n",
              "    }\n",
              "</style>\n",
              "<table border=\"1\" class=\"dataframe\">\n",
              "  <thead>\n",
              "    <tr style=\"text-align: right;\">\n",
              "      <th></th>\n",
              "      <th>지역</th>\n",
              "      <th>2000</th>\n",
              "      <th>2005</th>\n",
              "      <th>2010</th>\n",
              "      <th>2015</th>\n",
              "      <th>2010-2015 증가율</th>\n",
              "    </tr>\n",
              "  </thead>\n",
              "  <tbody>\n",
              "    <tr>\n",
              "      <th>서울</th>\n",
              "      <td>수도권</td>\n",
              "      <td>9853972</td>\n",
              "      <td>9762546</td>\n",
              "      <td>9631482</td>\n",
              "      <td>9904312</td>\n",
              "      <td>0.0283</td>\n",
              "    </tr>\n",
              "    <tr>\n",
              "      <th>부산</th>\n",
              "      <td>경상권</td>\n",
              "      <td>3655437</td>\n",
              "      <td>3512547</td>\n",
              "      <td>3393191</td>\n",
              "      <td>3448737</td>\n",
              "      <td>0.0163</td>\n",
              "    </tr>\n",
              "  </tbody>\n",
              "</table>\n",
              "</div>\n",
              "      <button class=\"colab-df-convert\" onclick=\"convertToInteractive('df-786d7bc7-8682-4186-ba1f-8cf8f23caa5b')\"\n",
              "              title=\"Convert this dataframe to an interactive table.\"\n",
              "              style=\"display:none;\">\n",
              "        \n",
              "  <svg xmlns=\"http://www.w3.org/2000/svg\" height=\"24px\"viewBox=\"0 0 24 24\"\n",
              "       width=\"24px\">\n",
              "    <path d=\"M0 0h24v24H0V0z\" fill=\"none\"/>\n",
              "    <path d=\"M18.56 5.44l.94 2.06.94-2.06 2.06-.94-2.06-.94-.94-2.06-.94 2.06-2.06.94zm-11 1L8.5 8.5l.94-2.06 2.06-.94-2.06-.94L8.5 2.5l-.94 2.06-2.06.94zm10 10l.94 2.06.94-2.06 2.06-.94-2.06-.94-.94-2.06-.94 2.06-2.06.94z\"/><path d=\"M17.41 7.96l-1.37-1.37c-.4-.4-.92-.59-1.43-.59-.52 0-1.04.2-1.43.59L10.3 9.45l-7.72 7.72c-.78.78-.78 2.05 0 2.83L4 21.41c.39.39.9.59 1.41.59.51 0 1.02-.2 1.41-.59l7.78-7.78 2.81-2.81c.8-.78.8-2.07 0-2.86zM5.41 20L4 18.59l7.72-7.72 1.47 1.35L5.41 20z\"/>\n",
              "  </svg>\n",
              "      </button>\n",
              "      \n",
              "  <style>\n",
              "    .colab-df-container {\n",
              "      display:flex;\n",
              "      flex-wrap:wrap;\n",
              "      gap: 12px;\n",
              "    }\n",
              "\n",
              "    .colab-df-convert {\n",
              "      background-color: #E8F0FE;\n",
              "      border: none;\n",
              "      border-radius: 50%;\n",
              "      cursor: pointer;\n",
              "      display: none;\n",
              "      fill: #1967D2;\n",
              "      height: 32px;\n",
              "      padding: 0 0 0 0;\n",
              "      width: 32px;\n",
              "    }\n",
              "\n",
              "    .colab-df-convert:hover {\n",
              "      background-color: #E2EBFA;\n",
              "      box-shadow: 0px 1px 2px rgba(60, 64, 67, 0.3), 0px 1px 3px 1px rgba(60, 64, 67, 0.15);\n",
              "      fill: #174EA6;\n",
              "    }\n",
              "\n",
              "    [theme=dark] .colab-df-convert {\n",
              "      background-color: #3B4455;\n",
              "      fill: #D2E3FC;\n",
              "    }\n",
              "\n",
              "    [theme=dark] .colab-df-convert:hover {\n",
              "      background-color: #434B5C;\n",
              "      box-shadow: 0px 1px 3px 1px rgba(0, 0, 0, 0.15);\n",
              "      filter: drop-shadow(0px 1px 2px rgba(0, 0, 0, 0.3));\n",
              "      fill: #FFFFFF;\n",
              "    }\n",
              "  </style>\n",
              "\n",
              "      <script>\n",
              "        const buttonEl =\n",
              "          document.querySelector('#df-786d7bc7-8682-4186-ba1f-8cf8f23caa5b button.colab-df-convert');\n",
              "        buttonEl.style.display =\n",
              "          google.colab.kernel.accessAllowed ? 'block' : 'none';\n",
              "\n",
              "        async function convertToInteractive(key) {\n",
              "          const element = document.querySelector('#df-786d7bc7-8682-4186-ba1f-8cf8f23caa5b');\n",
              "          const dataTable =\n",
              "            await google.colab.kernel.invokeFunction('convertToInteractive',\n",
              "                                                     [key], {});\n",
              "          if (!dataTable) return;\n",
              "\n",
              "          const docLinkHtml = 'Like what you see? Visit the ' +\n",
              "            '<a target=\"_blank\" href=https://colab.research.google.com/notebooks/data_table.ipynb>data table notebook</a>'\n",
              "            + ' to learn more about interactive tables.';\n",
              "          element.innerHTML = '';\n",
              "          dataTable['output_type'] = 'display_data';\n",
              "          await google.colab.output.renderOutput(dataTable, element);\n",
              "          const docLink = document.createElement('div');\n",
              "          docLink.innerHTML = docLinkHtml;\n",
              "          element.appendChild(docLink);\n",
              "        }\n",
              "      </script>\n",
              "    </div>\n",
              "  </div>\n",
              "  "
            ],
            "text/plain": [
              "     지역     2000     2005     2010     2015  2010-2015 증가율\n",
              "서울  수도권  9853972  9762546  9631482  9904312         0.0283\n",
              "부산  경상권  3655437  3512547  3393191  3448737         0.0163"
            ]
          },
          "metadata": {},
          "execution_count": 154
        }
      ]
    },
    {
      "cell_type": "code",
      "metadata": {
        "colab": {
          "base_uri": "https://localhost:8080/",
          "height": 112
        },
        "id": "_jJS7oH5Rtfl",
        "outputId": "f6141016-1ef3-48de-85b5-c9b4e2da2cee"
      },
      "source": [
        "DF3[-2:]"
      ],
      "execution_count": 155,
      "outputs": [
        {
          "output_type": "execute_result",
          "data": {
            "text/html": [
              "\n",
              "  <div id=\"df-a9755dd1-ae3c-44b3-bdc1-d4e5b0d9bde0\">\n",
              "    <div class=\"colab-df-container\">\n",
              "      <div>\n",
              "<style scoped>\n",
              "    .dataframe tbody tr th:only-of-type {\n",
              "        vertical-align: middle;\n",
              "    }\n",
              "\n",
              "    .dataframe tbody tr th {\n",
              "        vertical-align: top;\n",
              "    }\n",
              "\n",
              "    .dataframe thead th {\n",
              "        text-align: right;\n",
              "    }\n",
              "</style>\n",
              "<table border=\"1\" class=\"dataframe\">\n",
              "  <thead>\n",
              "    <tr style=\"text-align: right;\">\n",
              "      <th></th>\n",
              "      <th>지역</th>\n",
              "      <th>2000</th>\n",
              "      <th>2005</th>\n",
              "      <th>2010</th>\n",
              "      <th>2015</th>\n",
              "      <th>2010-2015 증가율</th>\n",
              "    </tr>\n",
              "  </thead>\n",
              "  <tbody>\n",
              "    <tr>\n",
              "      <th>인천</th>\n",
              "      <td>수도권</td>\n",
              "      <td>2466338</td>\n",
              "      <td>2517680</td>\n",
              "      <td>2632035</td>\n",
              "      <td>2890451</td>\n",
              "      <td>0.0982</td>\n",
              "    </tr>\n",
              "    <tr>\n",
              "      <th>대구</th>\n",
              "      <td>경상권</td>\n",
              "      <td>2473990</td>\n",
              "      <td>2456016</td>\n",
              "      <td>2431774</td>\n",
              "      <td>2466052</td>\n",
              "      <td>0.0141</td>\n",
              "    </tr>\n",
              "  </tbody>\n",
              "</table>\n",
              "</div>\n",
              "      <button class=\"colab-df-convert\" onclick=\"convertToInteractive('df-a9755dd1-ae3c-44b3-bdc1-d4e5b0d9bde0')\"\n",
              "              title=\"Convert this dataframe to an interactive table.\"\n",
              "              style=\"display:none;\">\n",
              "        \n",
              "  <svg xmlns=\"http://www.w3.org/2000/svg\" height=\"24px\"viewBox=\"0 0 24 24\"\n",
              "       width=\"24px\">\n",
              "    <path d=\"M0 0h24v24H0V0z\" fill=\"none\"/>\n",
              "    <path d=\"M18.56 5.44l.94 2.06.94-2.06 2.06-.94-2.06-.94-.94-2.06-.94 2.06-2.06.94zm-11 1L8.5 8.5l.94-2.06 2.06-.94-2.06-.94L8.5 2.5l-.94 2.06-2.06.94zm10 10l.94 2.06.94-2.06 2.06-.94-2.06-.94-.94-2.06-.94 2.06-2.06.94z\"/><path d=\"M17.41 7.96l-1.37-1.37c-.4-.4-.92-.59-1.43-.59-.52 0-1.04.2-1.43.59L10.3 9.45l-7.72 7.72c-.78.78-.78 2.05 0 2.83L4 21.41c.39.39.9.59 1.41.59.51 0 1.02-.2 1.41-.59l7.78-7.78 2.81-2.81c.8-.78.8-2.07 0-2.86zM5.41 20L4 18.59l7.72-7.72 1.47 1.35L5.41 20z\"/>\n",
              "  </svg>\n",
              "      </button>\n",
              "      \n",
              "  <style>\n",
              "    .colab-df-container {\n",
              "      display:flex;\n",
              "      flex-wrap:wrap;\n",
              "      gap: 12px;\n",
              "    }\n",
              "\n",
              "    .colab-df-convert {\n",
              "      background-color: #E8F0FE;\n",
              "      border: none;\n",
              "      border-radius: 50%;\n",
              "      cursor: pointer;\n",
              "      display: none;\n",
              "      fill: #1967D2;\n",
              "      height: 32px;\n",
              "      padding: 0 0 0 0;\n",
              "      width: 32px;\n",
              "    }\n",
              "\n",
              "    .colab-df-convert:hover {\n",
              "      background-color: #E2EBFA;\n",
              "      box-shadow: 0px 1px 2px rgba(60, 64, 67, 0.3), 0px 1px 3px 1px rgba(60, 64, 67, 0.15);\n",
              "      fill: #174EA6;\n",
              "    }\n",
              "\n",
              "    [theme=dark] .colab-df-convert {\n",
              "      background-color: #3B4455;\n",
              "      fill: #D2E3FC;\n",
              "    }\n",
              "\n",
              "    [theme=dark] .colab-df-convert:hover {\n",
              "      background-color: #434B5C;\n",
              "      box-shadow: 0px 1px 3px 1px rgba(0, 0, 0, 0.15);\n",
              "      filter: drop-shadow(0px 1px 2px rgba(0, 0, 0, 0.3));\n",
              "      fill: #FFFFFF;\n",
              "    }\n",
              "  </style>\n",
              "\n",
              "      <script>\n",
              "        const buttonEl =\n",
              "          document.querySelector('#df-a9755dd1-ae3c-44b3-bdc1-d4e5b0d9bde0 button.colab-df-convert');\n",
              "        buttonEl.style.display =\n",
              "          google.colab.kernel.accessAllowed ? 'block' : 'none';\n",
              "\n",
              "        async function convertToInteractive(key) {\n",
              "          const element = document.querySelector('#df-a9755dd1-ae3c-44b3-bdc1-d4e5b0d9bde0');\n",
              "          const dataTable =\n",
              "            await google.colab.kernel.invokeFunction('convertToInteractive',\n",
              "                                                     [key], {});\n",
              "          if (!dataTable) return;\n",
              "\n",
              "          const docLinkHtml = 'Like what you see? Visit the ' +\n",
              "            '<a target=\"_blank\" href=https://colab.research.google.com/notebooks/data_table.ipynb>data table notebook</a>'\n",
              "            + ' to learn more about interactive tables.';\n",
              "          element.innerHTML = '';\n",
              "          dataTable['output_type'] = 'display_data';\n",
              "          await google.colab.output.renderOutput(dataTable, element);\n",
              "          const docLink = document.createElement('div');\n",
              "          docLink.innerHTML = docLinkHtml;\n",
              "          element.appendChild(docLink);\n",
              "        }\n",
              "      </script>\n",
              "    </div>\n",
              "  </div>\n",
              "  "
            ],
            "text/plain": [
              "     지역     2000     2005     2010     2015  2010-2015 증가율\n",
              "인천  수도권  2466338  2517680  2632035  2890451         0.0982\n",
              "대구  경상권  2473990  2456016  2431774  2466052         0.0141"
            ]
          },
          "metadata": {},
          "execution_count": 155
        }
      ]
    },
    {
      "cell_type": "markdown",
      "metadata": {
        "id": "q4XahSSyRvAT"
      },
      "source": [
        "개별 데이터(도메인 값) 인덱싱"
      ]
    },
    {
      "cell_type": "code",
      "metadata": {
        "colab": {
          "base_uri": "https://localhost:8080/",
          "height": 37
        },
        "id": "gyATM4QqRwC3",
        "outputId": "d2dcb2fd-0257-4eea-c5dd-02058b67b1b2"
      },
      "source": [
        "# 서울에서 2010년과 2015년 데이터에 대한 평균\n",
        "\n",
        "(DF3[\"2010\"][\"서울\"]+DF3[\"2015\"][\"서울\"])/2"
      ],
      "execution_count": 156,
      "outputs": [
        {
          "output_type": "execute_result",
          "data": {
            "text/latex": "$\\displaystyle 9767897.0$",
            "text/plain": [
              "9767897.0"
            ]
          },
          "metadata": {},
          "execution_count": 156
        }
      ]
    },
    {
      "cell_type": "code",
      "source": [
        "from google.colab import files\n",
        "\n",
        "uploaded = files.upload()\n",
        "\n",
        "for fn in uploaded.keys():\n",
        "  print('User uploaded file \"{name}\" with length {length} bytes'.format(\n",
        "      name=fn, length=len(uploaded[fn])))"
      ],
      "metadata": {
        "colab": {
          "resources": {
            "http://localhost:8080/nbextensions/google.colab/files.js": {
              "data": "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",
              "ok": true,
              "headers": [
                [
                  "content-type",
                  "application/javascript"
                ]
              ],
              "status": 200,
              "status_text": ""
            }
          },
          "base_uri": "https://localhost:8080/",
          "height": 93
        },
        "id": "-3bgn5lPiCqM",
        "outputId": "f7b0bd52-37a4-47a7-e0b1-84b897b2aeff"
      },
      "execution_count": 164,
      "outputs": [
        {
          "output_type": "display_data",
          "data": {
            "text/html": [
              "\n",
              "     <input type=\"file\" id=\"files-174aa399-01ac-4dff-80ca-3456e6fa0ce0\" name=\"files[]\" multiple disabled\n",
              "        style=\"border:none\" />\n",
              "     <output id=\"result-174aa399-01ac-4dff-80ca-3456e6fa0ce0\">\n",
              "      Upload widget is only available when the cell has been executed in the\n",
              "      current browser session. Please rerun this cell to enable.\n",
              "      </output>\n",
              "      <script src=\"/nbextensions/google.colab/files.js\"></script> "
            ],
            "text/plain": [
              "<IPython.core.display.HTML object>"
            ]
          },
          "metadata": {}
        },
        {
          "output_type": "stream",
          "name": "stdout",
          "text": [
            "Saving Level1-2_1_data.csv to Level1-2_1_data (1).csv\n",
            "User uploaded file \"Level1-2_1_data.csv\" with length 48 bytes\n"
          ]
        }
      ]
    },
    {
      "cell_type": "code",
      "source": [
        "import pandas as pd\n",
        "\n",
        "file_data=pd.read_csv(\"Level1-2_1_data.csv\")\n",
        "print(file_data)"
      ],
      "metadata": {
        "colab": {
          "base_uri": "https://localhost:8080/"
        },
        "id": "xDZBDW_4ikvj",
        "outputId": "19a8b631-2c95-4055-c7a0-17b4d32b5a3e"
      },
      "execution_count": 166,
      "outputs": [
        {
          "output_type": "stream",
          "name": "stdout",
          "text": [
            "   col1 col2\n",
            "0     1    A\n",
            "1     2    A\n",
            "2     3    B\n",
            "3     4    B\n",
            "4     5    C\n",
            "5     6    C\n"
          ]
        }
      ]
    }
  ]
}